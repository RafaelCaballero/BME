{
  "cells": [
    {
      "cell_type": "markdown",
      "metadata": {
        "colab_type": "text",
        "id": "view-in-github"
      },
      "source": [
        "<a href=\"https://colab.research.google.com/github/RafaelCaballero/BME/blob/main/c%C3%B3digo/03dataframes.ipynb\" target=\"_parent\"><img src=\"https://colab.research.google.com/assets/colab-badge.svg\" alt=\"Open In Colab\"/></a>"
      ]
    },
    {
      "cell_type": "markdown",
      "metadata": {
        "id": "q110icUhES3b"
      },
      "source": [
        "# Introducción a la ciencia de datos con Python\n",
        "###  Rafa Caballero\n",
        "\n",
        "## Pandas - DataFrames\n",
        "\n",
        "Los DataFrames son la estructura principal de Pandas. Se trata de una tabla bidimensional con dos métodos de acceso fundamentales: por posición y por nombre de fila y columna.\n",
        "\n",
        "\n",
        "### Índice\n",
        "[Creación](#Creación)<br>\n",
        "[Acceso a columnas y filas](#Acceso-a-columnas-y-filas)<br>\n",
        "[Información básica](#basica)<br>\n",
        "[Modificación, inserción y borrado de columnas y filas](#Modificación)<br>\n",
        "[Muestras](#Samples)<br>\n",
        "[Iterar](#Iterar)<br>\n",
        "[Índices](#Índices)<br>"
      ]
    },
    {
      "cell_type": "markdown",
      "metadata": {
        "id": "R2xHXR2IES3l"
      },
      "source": [
        "<a name=\"Creación\"></a>\n",
        "## Creación"
      ]
    },
    {
      "cell_type": "markdown",
      "metadata": {
        "id": "ztEdTvQVES3m"
      },
      "source": [
        "Ya hemos visto como cargar Dataframes desde un fichero CSV o Excel.\n",
        "Otra alternativa es a través de listas de listas. Esto es habitual cuando por ejemplo estamos recopilando la información mediante web scraping y la vamos acumulando en listas. En este caso habrá que indicar, además, los nombres de las columnas"
      ]
    },
    {
      "cell_type": "code",
      "execution_count": 93,
      "metadata": {},
      "outputs": [
        {
          "name": "stdout",
          "output_type": "stream",
          "text": [
            "Instalando módulos\n",
            "numpy  encontrado\n",
            "matplotlib  encontrado\n",
            "numpy  encontrado\n",
            "tqdm  encontrado\n",
            "yfinance  No encontrado, instalando...¡hecho!\n",
            "¡Terminado!\n"
          ]
        }
      ],
      "source": [
        "modules = [\"numpy\",\"matplotlib\",\"numpy\",\"tqdm\",\"yfinance\"]\n",
        "\n",
        "import sys\n",
        "import os.path\n",
        "from subprocess import check_call\n",
        "import importlib\n",
        "import os\n",
        "\n",
        "def instala(modules):\n",
        "    print(\"Instalando módulos\")\n",
        "    for m in modules:\n",
        "        # para el import quitamos [...] y ==...\n",
        "        p = m.find(\"[\")\n",
        "        mi = m if p==-1 else m[:p]\n",
        "        p = mi.find(\"==\")\n",
        "        mi = mi if p==-1 else mi[:p]\n",
        "        torch_loader = importlib.util.find_spec(mi)\n",
        "        if torch_loader is not None:\n",
        "            print(m,\" encontrado\")\n",
        "        else:\n",
        "            print(m,\" No encontrado, instalando...\",end=\"\")  \n",
        "            try:        \n",
        "                r = check_call([sys.executable, \"-m\", \"pip\", \"install\", \"--user\", m])\n",
        "                print(\"¡hecho!\")\n",
        "            except:\n",
        "                print(\"¡Problema al instalar \",m,\"! ¿seguro que el módulo existe?\",sep=\"\")\n",
        "\n",
        "    print(\"¡Terminado!\")\n",
        "\n",
        "instala(modules) "
      ]
    },
    {
      "cell_type": "code",
      "execution_count": 20,
      "metadata": {
        "id": "IB9MXs1GES3n"
      },
      "outputs": [
        {
          "data": {
            "text/html": [
              "<div>\n",
              "<style scoped>\n",
              "    .dataframe tbody tr th:only-of-type {\n",
              "        vertical-align: middle;\n",
              "    }\n",
              "\n",
              "    .dataframe tbody tr th {\n",
              "        vertical-align: top;\n",
              "    }\n",
              "\n",
              "    .dataframe thead th {\n",
              "        text-align: right;\n",
              "    }\n",
              "</style>\n",
              "<table border=\"1\" class=\"dataframe\">\n",
              "  <thead>\n",
              "    <tr style=\"text-align: right;\">\n",
              "      <th></th>\n",
              "      <th>name</th>\n",
              "      <th>close</th>\n",
              "    </tr>\n",
              "  </thead>\n",
              "  <tbody>\n",
              "    <tr>\n",
              "      <th>0</th>\n",
              "      <td>Amadeus</td>\n",
              "      <td>72.320</td>\n",
              "    </tr>\n",
              "    <tr>\n",
              "      <th>1</th>\n",
              "      <td>Santander</td>\n",
              "      <td>6.970</td>\n",
              "    </tr>\n",
              "    <tr>\n",
              "      <th>2</th>\n",
              "      <td>Sabadell</td>\n",
              "      <td>2.759</td>\n",
              "    </tr>\n",
              "    <tr>\n",
              "      <th>3</th>\n",
              "      <td>BBVA</td>\n",
              "      <td>13.265</td>\n",
              "    </tr>\n",
              "    <tr>\n",
              "      <th>4</th>\n",
              "      <td>Enagas</td>\n",
              "      <td>14.050</td>\n",
              "    </tr>\n",
              "    <tr>\n",
              "      <th>5</th>\n",
              "      <td>Endesa</td>\n",
              "      <td>27.470</td>\n",
              "    </tr>\n",
              "    <tr>\n",
              "      <th>6</th>\n",
              "      <td>Inditex</td>\n",
              "      <td>47.070</td>\n",
              "    </tr>\n",
              "    <tr>\n",
              "      <th>7</th>\n",
              "      <td>Naturgy</td>\n",
              "      <td>26.340</td>\n",
              "    </tr>\n",
              "    <tr>\n",
              "      <th>8</th>\n",
              "      <td>Repsol</td>\n",
              "      <td>11.490</td>\n",
              "    </tr>\n",
              "    <tr>\n",
              "      <th>9</th>\n",
              "      <td>Telefónica</td>\n",
              "      <td>4.600</td>\n",
              "    </tr>\n",
              "  </tbody>\n",
              "</table>\n",
              "</div>"
            ],
            "text/plain": [
              "         name   close\n",
              "0     Amadeus  72.320\n",
              "1   Santander   6.970\n",
              "2    Sabadell   2.759\n",
              "3        BBVA  13.265\n",
              "4      Enagas  14.050\n",
              "5      Endesa  27.470\n",
              "6     Inditex  47.070\n",
              "7     Naturgy  26.340\n",
              "8      Repsol  11.490\n",
              "9  Telefónica   4.600"
            ]
          },
          "execution_count": 20,
          "metadata": {},
          "output_type": "execute_result"
        }
      ],
      "source": [
        "import pandas as pd\n",
        "\n",
        "datos = [['Amadeus', 72.320], ['Santander', \t6.9700],\n",
        "         ['Sabadell', 2.7590], ['BBVA',\t13.265],\n",
        "         ['Enagas', 14.05], ['Endesa',27.47], ['Inditex', 47.07], ['Naturgy',26.34],\n",
        "         ['Repsol',11.49],['Telefónica',4.60] ]\n",
        "df = pd.DataFrame(datos ,columns=['name','close'])\n",
        "df"
      ]
    },
    {
      "cell_type": "markdown",
      "metadata": {
        "id": "vChhWEwzES3o"
      },
      "source": [
        "El siguiente resultado, quizás inesperado, debe ser fácil de entender"
      ]
    },
    {
      "cell_type": "code",
      "execution_count": 21,
      "metadata": {
        "id": "f8jgdXD_ES3p"
      },
      "outputs": [
        {
          "data": {
            "text/html": [
              "<div>\n",
              "<style scoped>\n",
              "    .dataframe tbody tr th:only-of-type {\n",
              "        vertical-align: middle;\n",
              "    }\n",
              "\n",
              "    .dataframe tbody tr th {\n",
              "        vertical-align: top;\n",
              "    }\n",
              "\n",
              "    .dataframe thead th {\n",
              "        text-align: right;\n",
              "    }\n",
              "</style>\n",
              "<table border=\"1\" class=\"dataframe\">\n",
              "  <thead>\n",
              "    <tr style=\"text-align: right;\">\n",
              "      <th></th>\n",
              "      <th>0</th>\n",
              "      <th>1</th>\n",
              "      <th>2</th>\n",
              "      <th>3</th>\n",
              "      <th>4</th>\n",
              "      <th>5</th>\n",
              "    </tr>\n",
              "  </thead>\n",
              "  <tbody>\n",
              "    <tr>\n",
              "      <th>provincia</th>\n",
              "      <td>Madrid</td>\n",
              "      <td>Barcelona</td>\n",
              "      <td>Valencia</td>\n",
              "      <td>Sevilla</td>\n",
              "      <td>Alicante</td>\n",
              "      <td>Málaga</td>\n",
              "    </tr>\n",
              "    <tr>\n",
              "      <th>habitantes</th>\n",
              "      <td>6507184</td>\n",
              "      <td>5609350</td>\n",
              "      <td>2547986</td>\n",
              "      <td>1939887</td>\n",
              "      <td>1838819</td>\n",
              "      <td>1641121</td>\n",
              "    </tr>\n",
              "  </tbody>\n",
              "</table>\n",
              "</div>"
            ],
            "text/plain": [
              "                  0          1         2        3         4        5\n",
              "provincia    Madrid  Barcelona  Valencia  Sevilla  Alicante   Málaga\n",
              "habitantes  6507184    5609350   2547986  1939887   1838819  1641121"
            ]
          },
          "execution_count": 21,
          "metadata": {},
          "output_type": "execute_result"
        }
      ],
      "source": [
        "\n",
        "ciudades = ['Madrid', 'Barcelona', 'Valencia', 'Sevilla',\n",
        "         'Alicante', 'Málaga']\n",
        "habitantes = [6507184, 5609350,  2547986,  1939887,\n",
        "          1838819, 1641121 ]\n",
        "\n",
        "df2 = pd.DataFrame([ciudades,habitantes],['provincia','habitantes'])\n",
        "df2"
      ]
    },
    {
      "cell_type": "markdown",
      "metadata": {
        "id": "x9xDO9MCES3p"
      },
      "source": [
        "También se puede crear a partir de un diccionario"
      ]
    },
    {
      "cell_type": "code",
      "execution_count": 22,
      "metadata": {
        "id": "lSbkSiBCES3q"
      },
      "outputs": [
        {
          "data": {
            "text/html": [
              "<div>\n",
              "<style scoped>\n",
              "    .dataframe tbody tr th:only-of-type {\n",
              "        vertical-align: middle;\n",
              "    }\n",
              "\n",
              "    .dataframe tbody tr th {\n",
              "        vertical-align: top;\n",
              "    }\n",
              "\n",
              "    .dataframe thead th {\n",
              "        text-align: right;\n",
              "    }\n",
              "</style>\n",
              "<table border=\"1\" class=\"dataframe\">\n",
              "  <thead>\n",
              "    <tr style=\"text-align: right;\">\n",
              "      <th></th>\n",
              "      <th>name</th>\n",
              "      <th>close</th>\n",
              "      <th>anterior</th>\n",
              "    </tr>\n",
              "  </thead>\n",
              "  <tbody>\n",
              "    <tr>\n",
              "      <th>0</th>\n",
              "      <td>Amadeus</td>\n",
              "      <td>72.320</td>\n",
              "      <td>71.80</td>\n",
              "    </tr>\n",
              "    <tr>\n",
              "      <th>1</th>\n",
              "      <td>Santander</td>\n",
              "      <td>6.970</td>\n",
              "      <td>7.00</td>\n",
              "    </tr>\n",
              "    <tr>\n",
              "      <th>2</th>\n",
              "      <td>Sabadell</td>\n",
              "      <td>2.759</td>\n",
              "      <td>2.80</td>\n",
              "    </tr>\n",
              "    <tr>\n",
              "      <th>3</th>\n",
              "      <td>BBVA</td>\n",
              "      <td>13.265</td>\n",
              "      <td>13.10</td>\n",
              "    </tr>\n",
              "    <tr>\n",
              "      <th>4</th>\n",
              "      <td>Enagas</td>\n",
              "      <td>14.050</td>\n",
              "      <td>14.20</td>\n",
              "    </tr>\n",
              "    <tr>\n",
              "      <th>5</th>\n",
              "      <td>Endesa</td>\n",
              "      <td>27.470</td>\n",
              "      <td>27.90</td>\n",
              "    </tr>\n",
              "    <tr>\n",
              "      <th>6</th>\n",
              "      <td>Inditex</td>\n",
              "      <td>47.070</td>\n",
              "      <td>46.50</td>\n",
              "    </tr>\n",
              "    <tr>\n",
              "      <th>7</th>\n",
              "      <td>Naturgy</td>\n",
              "      <td>26.340</td>\n",
              "      <td>26.10</td>\n",
              "    </tr>\n",
              "    <tr>\n",
              "      <th>8</th>\n",
              "      <td>Repsol</td>\n",
              "      <td>11.490</td>\n",
              "      <td>11.70</td>\n",
              "    </tr>\n",
              "    <tr>\n",
              "      <th>9</th>\n",
              "      <td>Telefónica</td>\n",
              "      <td>4.600</td>\n",
              "      <td>4.55</td>\n",
              "    </tr>\n",
              "  </tbody>\n",
              "</table>\n",
              "</div>"
            ],
            "text/plain": [
              "         name   close  anterior\n",
              "0     Amadeus  72.320     71.80\n",
              "1   Santander   6.970      7.00\n",
              "2    Sabadell   2.759      2.80\n",
              "3        BBVA  13.265     13.10\n",
              "4      Enagas  14.050     14.20\n",
              "5      Endesa  27.470     27.90\n",
              "6     Inditex  47.070     46.50\n",
              "7     Naturgy  26.340     26.10\n",
              "8      Repsol  11.490     11.70\n",
              "9  Telefónica   4.600      4.55"
            ]
          },
          "metadata": {},
          "output_type": "display_data"
        }
      ],
      "source": [
        "import pandas as pd\n",
        "from IPython.display import display\n",
        "\n",
        "datos = {\n",
        "    'name': ['Amadeus', 'Santander', 'Sabadell', 'BBVA', 'Enagas', 'Endesa',\n",
        "             'Inditex', 'Naturgy', 'Repsol', 'Telefónica'],\n",
        "    'close': [72.320, 6.9700, 2.7590, 13.265, 14.05, 27.47, 47.07, 26.34, 11.49, 4.60],\n",
        "    'anterior': [71.80, 7.00, 2.80, 13.10, 14.20, 27.90, 46.50, 26.10, 11.70, 4.55]\n",
        "}\n",
        "\n",
        "df = pd.DataFrame(datos)\n",
        "display(df)"
      ]
    },
    {
      "cell_type": "markdown",
      "metadata": {},
      "source": [
        "Consideramos algunas bolsas europeas y su año de creación\n",
        "\n",
        "LSE\tReino Unido\t1801\n",
        "Frankfurt\tAlemania\t1585\n",
        "Milán\tItalia\t1808\n",
        "Madrid\tEspaña\t1831\n",
        "\n",
        "Crear un dataframe df_bolsa con estos valores: nombre, país, año"
      ]
    },
    {
      "cell_type": "code",
      "execution_count": null,
      "metadata": {},
      "outputs": [],
      "source": []
    },
    {
      "cell_type": "markdown",
      "metadata": {
        "id": "MfShXpC-ES3r"
      },
      "source": [
        "## Acceso a columnas y filas"
      ]
    },
    {
      "cell_type": "markdown",
      "metadata": {
        "id": "Asmq7CYYES3s"
      },
      "source": [
        "Al acceder a una columna obtenemos una \"serie\", es decir una secuencia de datos todos ellos con su etiqueta (en principio un número)"
      ]
    },
    {
      "cell_type": "code",
      "execution_count": 23,
      "metadata": {
        "id": "3wapsIyZES3s"
      },
      "outputs": [
        {
          "data": {
            "text/plain": [
              "0       Amadeus\n",
              "1     Santander\n",
              "2      Sabadell\n",
              "3          BBVA\n",
              "4        Enagas\n",
              "5        Endesa\n",
              "6       Inditex\n",
              "7       Naturgy\n",
              "8        Repsol\n",
              "9    Telefónica\n",
              "Name: name, dtype: object"
            ]
          },
          "execution_count": 23,
          "metadata": {},
          "output_type": "execute_result"
        }
      ],
      "source": [
        "df['name']"
      ]
    },
    {
      "cell_type": "markdown",
      "metadata": {
        "id": "3N5_riIxES3t"
      },
      "source": [
        "Otra forma de acceder es con la notación . que solo puede usarse si el nombre de columna no contiene espacios ni símbolos especiales"
      ]
    },
    {
      "cell_type": "code",
      "execution_count": 24,
      "metadata": {
        "id": "-klB2t-dES3t"
      },
      "outputs": [
        {
          "data": {
            "text/plain": [
              "0       Amadeus\n",
              "1     Santander\n",
              "2      Sabadell\n",
              "3          BBVA\n",
              "4        Enagas\n",
              "5        Endesa\n",
              "6       Inditex\n",
              "7       Naturgy\n",
              "8        Repsol\n",
              "9    Telefónica\n",
              "Name: name, dtype: object"
            ]
          },
          "execution_count": 24,
          "metadata": {},
          "output_type": "execute_result"
        }
      ],
      "source": [
        "df.name"
      ]
    },
    {
      "cell_type": "markdown",
      "metadata": {},
      "source": [
        "Si queremos acceder a varias columnas a la vez usaremos una lista con una lista dentro"
      ]
    },
    {
      "cell_type": "code",
      "execution_count": 25,
      "metadata": {},
      "outputs": [
        {
          "data": {
            "text/html": [
              "<div>\n",
              "<style scoped>\n",
              "    .dataframe tbody tr th:only-of-type {\n",
              "        vertical-align: middle;\n",
              "    }\n",
              "\n",
              "    .dataframe tbody tr th {\n",
              "        vertical-align: top;\n",
              "    }\n",
              "\n",
              "    .dataframe thead th {\n",
              "        text-align: right;\n",
              "    }\n",
              "</style>\n",
              "<table border=\"1\" class=\"dataframe\">\n",
              "  <thead>\n",
              "    <tr style=\"text-align: right;\">\n",
              "      <th></th>\n",
              "      <th>name</th>\n",
              "      <th>anterior</th>\n",
              "    </tr>\n",
              "  </thead>\n",
              "  <tbody>\n",
              "    <tr>\n",
              "      <th>0</th>\n",
              "      <td>Amadeus</td>\n",
              "      <td>71.80</td>\n",
              "    </tr>\n",
              "    <tr>\n",
              "      <th>1</th>\n",
              "      <td>Santander</td>\n",
              "      <td>7.00</td>\n",
              "    </tr>\n",
              "    <tr>\n",
              "      <th>2</th>\n",
              "      <td>Sabadell</td>\n",
              "      <td>2.80</td>\n",
              "    </tr>\n",
              "    <tr>\n",
              "      <th>3</th>\n",
              "      <td>BBVA</td>\n",
              "      <td>13.10</td>\n",
              "    </tr>\n",
              "    <tr>\n",
              "      <th>4</th>\n",
              "      <td>Enagas</td>\n",
              "      <td>14.20</td>\n",
              "    </tr>\n",
              "    <tr>\n",
              "      <th>5</th>\n",
              "      <td>Endesa</td>\n",
              "      <td>27.90</td>\n",
              "    </tr>\n",
              "    <tr>\n",
              "      <th>6</th>\n",
              "      <td>Inditex</td>\n",
              "      <td>46.50</td>\n",
              "    </tr>\n",
              "    <tr>\n",
              "      <th>7</th>\n",
              "      <td>Naturgy</td>\n",
              "      <td>26.10</td>\n",
              "    </tr>\n",
              "    <tr>\n",
              "      <th>8</th>\n",
              "      <td>Repsol</td>\n",
              "      <td>11.70</td>\n",
              "    </tr>\n",
              "    <tr>\n",
              "      <th>9</th>\n",
              "      <td>Telefónica</td>\n",
              "      <td>4.55</td>\n",
              "    </tr>\n",
              "  </tbody>\n",
              "</table>\n",
              "</div>"
            ],
            "text/plain": [
              "         name  anterior\n",
              "0     Amadeus     71.80\n",
              "1   Santander      7.00\n",
              "2    Sabadell      2.80\n",
              "3        BBVA     13.10\n",
              "4      Enagas     14.20\n",
              "5      Endesa     27.90\n",
              "6     Inditex     46.50\n",
              "7     Naturgy     26.10\n",
              "8      Repsol     11.70\n",
              "9  Telefónica      4.55"
            ]
          },
          "execution_count": 25,
          "metadata": {},
          "output_type": "execute_result"
        }
      ],
      "source": [
        "df[ [\"name\",\"anterior\"] ]"
      ]
    },
    {
      "cell_type": "markdown",
      "metadata": {},
      "source": [
        "**Ejercicio** En `df_bolsa` seleccionar solo el año y el país."
      ]
    },
    {
      "cell_type": "markdown",
      "metadata": {
        "id": "vPooSdMiHB3g"
      },
      "source": [
        "Veamos cuál es el tipo de una columna"
      ]
    },
    {
      "cell_type": "code",
      "execution_count": 26,
      "metadata": {
        "id": "LDecbKByES3t"
      },
      "outputs": [
        {
          "name": "stdout",
          "output_type": "stream",
          "text": [
            "<class 'pandas.core.series.Series'>\n"
          ]
        }
      ],
      "source": [
        "print(type(df['name']))"
      ]
    },
    {
      "cell_type": "markdown",
      "metadata": {
        "id": "9Lm_QeBDHB3h"
      },
      "source": [
        "Una \"Serie\" representa una columna tiene 2 componentes, el índice y los valores"
      ]
    },
    {
      "cell_type": "code",
      "execution_count": 27,
      "metadata": {
        "id": "lm383_6yHB3h"
      },
      "outputs": [
        {
          "data": {
            "text/plain": [
              "(numpy.ndarray, pandas.core.indexes.range.RangeIndex)"
            ]
          },
          "execution_count": 27,
          "metadata": {},
          "output_type": "execute_result"
        }
      ],
      "source": [
        "type(df.name.values), type(df.name.index)"
      ]
    },
    {
      "cell_type": "code",
      "execution_count": 28,
      "metadata": {
        "id": "gaiU8R6-HB3h"
      },
      "outputs": [
        {
          "data": {
            "text/plain": [
              "RangeIndex(start=0, stop=10, step=1)"
            ]
          },
          "execution_count": 28,
          "metadata": {},
          "output_type": "execute_result"
        }
      ],
      "source": [
        "df.name.index"
      ]
    },
    {
      "cell_type": "code",
      "execution_count": 29,
      "metadata": {},
      "outputs": [
        {
          "data": {
            "text/plain": [
              "[0, 1, 2, 3, 4, 5, 6, 7, 8, 9]"
            ]
          },
          "execution_count": 29,
          "metadata": {},
          "output_type": "execute_result"
        }
      ],
      "source": [
        "list(df.name.index)"
      ]
    },
    {
      "cell_type": "markdown",
      "metadata": {
        "id": "vnFAhH15ES3u"
      },
      "source": [
        "En un *dataframe* tenemos 3 compones: columnas (X), índice (y), valores\n",
        "\n",
        "Se puede acceder a las columnas, a los índices y a los valores por separado"
      ]
    },
    {
      "cell_type": "code",
      "execution_count": 30,
      "metadata": {
        "id": "WmW28ly1ES3v"
      },
      "outputs": [
        {
          "data": {
            "text/plain": [
              "Index(['name', 'close', 'anterior'], dtype='object')"
            ]
          },
          "execution_count": 30,
          "metadata": {},
          "output_type": "execute_result"
        }
      ],
      "source": [
        "df.columns"
      ]
    },
    {
      "cell_type": "code",
      "execution_count": 31,
      "metadata": {
        "id": "XezILkblES3v"
      },
      "outputs": [
        {
          "data": {
            "text/plain": [
              "RangeIndex(start=0, stop=10, step=1)"
            ]
          },
          "execution_count": 31,
          "metadata": {},
          "output_type": "execute_result"
        }
      ],
      "source": [
        "df.index"
      ]
    },
    {
      "cell_type": "code",
      "execution_count": 32,
      "metadata": {
        "id": "_V9TeGtdES3v"
      },
      "outputs": [
        {
          "data": {
            "text/plain": [
              "array([['Amadeus', 72.32, 71.8],\n",
              "       ['Santander', 6.97, 7.0],\n",
              "       ['Sabadell', 2.759, 2.8],\n",
              "       ['BBVA', 13.265, 13.1],\n",
              "       ['Enagas', 14.05, 14.2],\n",
              "       ['Endesa', 27.47, 27.9],\n",
              "       ['Inditex', 47.07, 46.5],\n",
              "       ['Naturgy', 26.34, 26.1],\n",
              "       ['Repsol', 11.49, 11.7],\n",
              "       ['Telefónica', 4.6, 4.55]], dtype=object)"
            ]
          },
          "execution_count": 32,
          "metadata": {},
          "output_type": "execute_result"
        }
      ],
      "source": [
        "df.values"
      ]
    },
    {
      "cell_type": "markdown",
      "metadata": {
        "id": "cTcrYZjyES3w"
      },
      "source": [
        "#### Acceso por posición\n",
        "\n",
        "Sin embargo, no podemos acceder a la fila por posición directamente:"
      ]
    },
    {
      "cell_type": "code",
      "execution_count": 33,
      "metadata": {
        "id": "SIfzNy5SES3w"
      },
      "outputs": [],
      "source": [
        "# esto daría error\n",
        "# df[0]"
      ]
    },
    {
      "cell_type": "markdown",
      "metadata": {
        "id": "2A8dD58vCA_p"
      },
      "source": [
        "Sí podríamos usar df.values, que nos da todas las filas, aunque no es muy habitual"
      ]
    },
    {
      "cell_type": "code",
      "execution_count": 34,
      "metadata": {
        "id": "uujod4DlCGs_"
      },
      "outputs": [
        {
          "data": {
            "text/plain": [
              "array(['Amadeus', 72.32, 71.8], dtype=object)"
            ]
          },
          "execution_count": 34,
          "metadata": {},
          "output_type": "execute_result"
        }
      ],
      "source": [
        "df.values[0]"
      ]
    },
    {
      "cell_type": "markdown",
      "metadata": {
        "id": "UUrgFERLES3w"
      },
      "source": [
        "En lugar de eso, utilizaremos `iloc` que recibe un entero como parámetro para acceder a la fila"
      ]
    },
    {
      "cell_type": "code",
      "execution_count": 35,
      "metadata": {
        "id": "wHpizAa4AqPB"
      },
      "outputs": [
        {
          "data": {
            "text/plain": [
              "name        Amadeus\n",
              "close         72.32\n",
              "anterior       71.8\n",
              "Name: 0, dtype: object"
            ]
          },
          "execution_count": 35,
          "metadata": {},
          "output_type": "execute_result"
        }
      ],
      "source": [
        "df.iloc[0]"
      ]
    },
    {
      "cell_type": "markdown",
      "metadata": {
        "id": "f7tdX3EW_p8O"
      },
      "source": [
        "**Ejercicio 1**\n",
        "\n",
        "Acceder a las 3 primeras filas. Pista: utilizar iloc y la misma notación que si fuera una lista"
      ]
    },
    {
      "cell_type": "code",
      "execution_count": null,
      "metadata": {
        "id": "FYOWoeMbE3so"
      },
      "outputs": [],
      "source": []
    },
    {
      "cell_type": "markdown",
      "metadata": {
        "id": "MWYe91-nEJww"
      },
      "source": [
        "Igualmente dentro de la fila  podemos acceder a la columna por posición"
      ]
    },
    {
      "cell_type": "code",
      "execution_count": 36,
      "metadata": {
        "id": "2ThHVLO9ES3w"
      },
      "outputs": [
        {
          "name": "stderr",
          "output_type": "stream",
          "text": [
            "C:\\Users\\sames\\AppData\\Local\\Temp\\ipykernel_18076\\956240467.py:1: FutureWarning: Series.__getitem__ treating keys as positions is deprecated. In a future version, integer keys will always be treated as labels (consistent with DataFrame behavior). To access a value by position, use `ser.iloc[pos]`\n",
            "  df.iloc[0][0], df.iloc[0][1]\n"
          ]
        },
        {
          "data": {
            "text/plain": [
              "('Amadeus', np.float64(72.32))"
            ]
          },
          "execution_count": 36,
          "metadata": {},
          "output_type": "execute_result"
        }
      ],
      "source": [
        "df.iloc[0][0], df.iloc[0][1]"
      ]
    },
    {
      "cell_type": "markdown",
      "metadata": {
        "id": "rwWWy1vjEdC4"
      },
      "source": [
        "Otra forma de lograr lo mismo [fila,columna]"
      ]
    },
    {
      "cell_type": "code",
      "execution_count": 37,
      "metadata": {
        "id": "6z9dJVmqEfu_"
      },
      "outputs": [
        {
          "data": {
            "text/plain": [
              "('Amadeus', np.float64(72.32))"
            ]
          },
          "execution_count": 37,
          "metadata": {},
          "output_type": "execute_result"
        }
      ],
      "source": [
        "df.iloc[0,0], df.iloc[0,1]"
      ]
    },
    {
      "cell_type": "markdown",
      "metadata": {
        "id": "3W7sHLgGGh7Z"
      },
      "source": [
        "**Ejercicio 2** Seleccionar las filas de la 2 a la 4, ambas incluidas (comenzando en 0) y solo la primera columna (la número 0)"
      ]
    },
    {
      "cell_type": "code",
      "execution_count": 38,
      "metadata": {
        "id": "fr8SlW4HGiMH"
      },
      "outputs": [],
      "source": [
        "# solución\n"
      ]
    },
    {
      "cell_type": "markdown",
      "metadata": {
        "id": "o8-hzbg4FMn3"
      },
      "source": [
        "**Acceso por índice.**\n",
        "\n",
        "A menudo el índice es la posición sin más, con lo que la función iloc nos sirve. Sin embargo esto no es siempre así"
      ]
    },
    {
      "cell_type": "code",
      "execution_count": 39,
      "metadata": {
        "id": "plusDdp8ES3x"
      },
      "outputs": [
        {
          "data": {
            "text/html": [
              "<div>\n",
              "<style scoped>\n",
              "    .dataframe tbody tr th:only-of-type {\n",
              "        vertical-align: middle;\n",
              "    }\n",
              "\n",
              "    .dataframe tbody tr th {\n",
              "        vertical-align: top;\n",
              "    }\n",
              "\n",
              "    .dataframe thead th {\n",
              "        text-align: right;\n",
              "    }\n",
              "</style>\n",
              "<table border=\"1\" class=\"dataframe\">\n",
              "  <thead>\n",
              "    <tr style=\"text-align: right;\">\n",
              "      <th></th>\n",
              "      <th>provincia</th>\n",
              "      <th>habitantes</th>\n",
              "    </tr>\n",
              "  </thead>\n",
              "  <tbody>\n",
              "    <tr>\n",
              "      <th>Capital</th>\n",
              "      <td>Madrid</td>\n",
              "      <td>7058041</td>\n",
              "    </tr>\n",
              "    <tr>\n",
              "      <th>Capital Com. Autonoma</th>\n",
              "      <td>Barcelona</td>\n",
              "      <td>5924293</td>\n",
              "    </tr>\n",
              "    <tr>\n",
              "      <th>Capital Com. Autonoma</th>\n",
              "      <td>Valencia</td>\n",
              "      <td>2730314</td>\n",
              "    </tr>\n",
              "    <tr>\n",
              "      <th>provincia</th>\n",
              "      <td>Alicante</td>\n",
              "      <td>2008809</td>\n",
              "    </tr>\n",
              "    <tr>\n",
              "      <th>Capital Com. Autonoma</th>\n",
              "      <td>Sevilla</td>\n",
              "      <td>1969075</td>\n",
              "    </tr>\n",
              "    <tr>\n",
              "      <th>Provincia</th>\n",
              "      <td>Málaga</td>\n",
              "      <td>1778275</td>\n",
              "    </tr>\n",
              "    <tr>\n",
              "      <th>Capital Com. Autonoma</th>\n",
              "      <td>Murcia</td>\n",
              "      <td>1575171</td>\n",
              "    </tr>\n",
              "    <tr>\n",
              "      <th>Provincia</th>\n",
              "      <td>Cádiz</td>\n",
              "      <td>1258881</td>\n",
              "    </tr>\n",
              "    <tr>\n",
              "      <th>Provincia</th>\n",
              "      <td>Illes Balears</td>\n",
              "      <td>1238812</td>\n",
              "    </tr>\n",
              "    <tr>\n",
              "      <th>Provincia</th>\n",
              "      <td>Las Palmas</td>\n",
              "      <td>1164130</td>\n",
              "    </tr>\n",
              "  </tbody>\n",
              "</table>\n",
              "</div>"
            ],
            "text/plain": [
              "                           provincia  habitantes\n",
              "Capital                       Madrid     7058041\n",
              "Capital Com. Autonoma      Barcelona     5924293\n",
              "Capital Com. Autonoma       Valencia     2730314\n",
              "provincia                   Alicante     2008809\n",
              "Capital Com. Autonoma        Sevilla     1969075\n",
              "Provincia                     Málaga     1778275\n",
              "Capital Com. Autonoma         Murcia     1575171\n",
              "Provincia                      Cádiz     1258881\n",
              "Provincia              Illes Balears     1238812\n",
              "Provincia                 Las Palmas     1164130"
            ]
          },
          "execution_count": 39,
          "metadata": {},
          "output_type": "execute_result"
        }
      ],
      "source": [
        "import pandas as pd\n",
        "datos = [['Madrid', 7058041], ['Barcelona', 5924293],\n",
        "         ['Valencia', 2730314], ['Alicante', 2008809],\n",
        "         ['Sevilla', 1969075], ['Málaga',1778275], ['Murcia', 1575171], ['Cádiz',1258881],\n",
        "         ['Illes Balears',1238812],['Las Palmas',1164130] ]\n",
        "df = pd.DataFrame(datos ,columns=['provincia','habitantes'],\n",
        "               index=['Capital','Capital Com. Autonoma','Capital Com. Autonoma','provincia',\n",
        "                      'Capital Com. Autonoma','Provincia','Capital Com. Autonoma',\n",
        "                      'Provincia','Provincia','Provincia'])\n",
        "df"
      ]
    },
    {
      "cell_type": "markdown",
      "metadata": {
        "id": "BuGbpkBIGObp"
      },
      "source": [
        "Vemos que iloc en este caso no vale"
      ]
    },
    {
      "cell_type": "code",
      "execution_count": 40,
      "metadata": {
        "id": "2FzH_Rd_ES3x"
      },
      "outputs": [],
      "source": [
        "# error\n",
        "#df.iloc['Capital']"
      ]
    },
    {
      "cell_type": "markdown",
      "metadata": {
        "id": "Xvc3u1TzES3x"
      },
      "source": [
        "Si se quiere acceder por el índice se puede usar `loc`"
      ]
    },
    {
      "cell_type": "code",
      "execution_count": 41,
      "metadata": {
        "id": "9F10TDs-ES3x"
      },
      "outputs": [
        {
          "data": {
            "text/plain": [
              "provincia      Madrid\n",
              "habitantes    7058041\n",
              "Name: Capital, dtype: object"
            ]
          },
          "execution_count": 41,
          "metadata": {},
          "output_type": "execute_result"
        }
      ],
      "source": [
        "df.loc['Capital']"
      ]
    },
    {
      "cell_type": "code",
      "execution_count": 42,
      "metadata": {
        "id": "CQ7P-ES2KQiA"
      },
      "outputs": [
        {
          "data": {
            "text/html": [
              "<div>\n",
              "<style scoped>\n",
              "    .dataframe tbody tr th:only-of-type {\n",
              "        vertical-align: middle;\n",
              "    }\n",
              "\n",
              "    .dataframe tbody tr th {\n",
              "        vertical-align: top;\n",
              "    }\n",
              "\n",
              "    .dataframe thead th {\n",
              "        text-align: right;\n",
              "    }\n",
              "</style>\n",
              "<table border=\"1\" class=\"dataframe\">\n",
              "  <thead>\n",
              "    <tr style=\"text-align: right;\">\n",
              "      <th></th>\n",
              "      <th>provincia</th>\n",
              "      <th>habitantes</th>\n",
              "    </tr>\n",
              "  </thead>\n",
              "  <tbody>\n",
              "    <tr>\n",
              "      <th>Provincia</th>\n",
              "      <td>Málaga</td>\n",
              "      <td>1778275</td>\n",
              "    </tr>\n",
              "    <tr>\n",
              "      <th>Provincia</th>\n",
              "      <td>Cádiz</td>\n",
              "      <td>1258881</td>\n",
              "    </tr>\n",
              "    <tr>\n",
              "      <th>Provincia</th>\n",
              "      <td>Illes Balears</td>\n",
              "      <td>1238812</td>\n",
              "    </tr>\n",
              "    <tr>\n",
              "      <th>Provincia</th>\n",
              "      <td>Las Palmas</td>\n",
              "      <td>1164130</td>\n",
              "    </tr>\n",
              "  </tbody>\n",
              "</table>\n",
              "</div>"
            ],
            "text/plain": [
              "               provincia  habitantes\n",
              "Provincia         Málaga     1778275\n",
              "Provincia          Cádiz     1258881\n",
              "Provincia  Illes Balears     1238812\n",
              "Provincia     Las Palmas     1164130"
            ]
          },
          "execution_count": 42,
          "metadata": {},
          "output_type": "execute_result"
        }
      ],
      "source": [
        "df.loc['Provincia']"
      ]
    },
    {
      "cell_type": "markdown",
      "metadata": {
        "id": "p5cLVBCwES3y"
      },
      "source": [
        "Si se quiere acceder por nombre de fila y columna podemos hacerlo seleccionando primero la fila:"
      ]
    },
    {
      "cell_type": "code",
      "execution_count": 43,
      "metadata": {
        "id": "fHOMWx5VES3y"
      },
      "outputs": [
        {
          "data": {
            "text/plain": [
              "Provincia    1778275\n",
              "Provincia    1258881\n",
              "Provincia    1238812\n",
              "Provincia    1164130\n",
              "Name: habitantes, dtype: int64"
            ]
          },
          "execution_count": 43,
          "metadata": {},
          "output_type": "execute_result"
        }
      ],
      "source": [
        "df.loc['Provincia'][\"habitantes\"]"
      ]
    },
    {
      "cell_type": "markdown",
      "metadata": {
        "id": "-tMfKBDQES3y"
      },
      "source": [
        "O utilizar `loc`con la notación habitual fila, columna"
      ]
    },
    {
      "cell_type": "code",
      "execution_count": 44,
      "metadata": {
        "id": "U_B4fJVYES3y"
      },
      "outputs": [
        {
          "data": {
            "text/plain": [
              "Provincia    1778275\n",
              "Provincia    1258881\n",
              "Provincia    1238812\n",
              "Provincia    1164130\n",
              "Name: habitantes, dtype: int64"
            ]
          },
          "execution_count": 44,
          "metadata": {},
          "output_type": "execute_result"
        }
      ],
      "source": [
        "df.loc['Provincia','habitantes']"
      ]
    },
    {
      "cell_type": "markdown",
      "metadata": {
        "id": "EgPz5AEPu719"
      },
      "source": [
        "<a name=\"basica\"></a>\n",
        "## Información básica\n",
        "\n",
        "Con poco esfuerzo podemos tener mucha información interesante sobre los datos. Veamos el siguiente ejemplo con datos de los \"Pokemon\""
      ]
    },
    {
      "cell_type": "code",
      "execution_count": 47,
      "metadata": {
        "id": "WGGY_wMP19T-"
      },
      "outputs": [
        {
          "data": {
            "text/html": [
              "<div>\n",
              "<style scoped>\n",
              "    .dataframe tbody tr th:only-of-type {\n",
              "        vertical-align: middle;\n",
              "    }\n",
              "\n",
              "    .dataframe tbody tr th {\n",
              "        vertical-align: top;\n",
              "    }\n",
              "\n",
              "    .dataframe thead th {\n",
              "        text-align: right;\n",
              "    }\n",
              "</style>\n",
              "<table border=\"1\" class=\"dataframe\">\n",
              "  <thead>\n",
              "    <tr style=\"text-align: right;\">\n",
              "      <th></th>\n",
              "      <th>#</th>\n",
              "      <th>Name</th>\n",
              "      <th>Type 1</th>\n",
              "      <th>Type 2</th>\n",
              "      <th>HP</th>\n",
              "      <th>Attack</th>\n",
              "      <th>Defense</th>\n",
              "      <th>Sp. Atk</th>\n",
              "      <th>Sp. Def</th>\n",
              "      <th>Speed</th>\n",
              "      <th>Generation</th>\n",
              "      <th>Legendary</th>\n",
              "    </tr>\n",
              "  </thead>\n",
              "  <tbody>\n",
              "    <tr>\n",
              "      <th>0</th>\n",
              "      <td>1</td>\n",
              "      <td>Bulbasaur</td>\n",
              "      <td>Grass</td>\n",
              "      <td>Poison</td>\n",
              "      <td>45</td>\n",
              "      <td>49</td>\n",
              "      <td>49</td>\n",
              "      <td>65</td>\n",
              "      <td>65</td>\n",
              "      <td>45</td>\n",
              "      <td>1</td>\n",
              "      <td>False</td>\n",
              "    </tr>\n",
              "    <tr>\n",
              "      <th>1</th>\n",
              "      <td>2</td>\n",
              "      <td>Ivysaur</td>\n",
              "      <td>Grass</td>\n",
              "      <td>Poison</td>\n",
              "      <td>60</td>\n",
              "      <td>62</td>\n",
              "      <td>63</td>\n",
              "      <td>80</td>\n",
              "      <td>80</td>\n",
              "      <td>60</td>\n",
              "      <td>1</td>\n",
              "      <td>False</td>\n",
              "    </tr>\n",
              "    <tr>\n",
              "      <th>2</th>\n",
              "      <td>3</td>\n",
              "      <td>Venusaur</td>\n",
              "      <td>Grass</td>\n",
              "      <td>Poison</td>\n",
              "      <td>80</td>\n",
              "      <td>82</td>\n",
              "      <td>83</td>\n",
              "      <td>100</td>\n",
              "      <td>100</td>\n",
              "      <td>80</td>\n",
              "      <td>1</td>\n",
              "      <td>False</td>\n",
              "    </tr>\n",
              "    <tr>\n",
              "      <th>3</th>\n",
              "      <td>3</td>\n",
              "      <td>VenusaurMega Venusaur</td>\n",
              "      <td>Grass</td>\n",
              "      <td>Poison</td>\n",
              "      <td>80</td>\n",
              "      <td>100</td>\n",
              "      <td>123</td>\n",
              "      <td>122</td>\n",
              "      <td>120</td>\n",
              "      <td>80</td>\n",
              "      <td>1</td>\n",
              "      <td>False</td>\n",
              "    </tr>\n",
              "    <tr>\n",
              "      <th>4</th>\n",
              "      <td>4</td>\n",
              "      <td>Charmander</td>\n",
              "      <td>Fire</td>\n",
              "      <td>NaN</td>\n",
              "      <td>39</td>\n",
              "      <td>52</td>\n",
              "      <td>43</td>\n",
              "      <td>60</td>\n",
              "      <td>50</td>\n",
              "      <td>65</td>\n",
              "      <td>1</td>\n",
              "      <td>False</td>\n",
              "    </tr>\n",
              "    <tr>\n",
              "      <th>...</th>\n",
              "      <td>...</td>\n",
              "      <td>...</td>\n",
              "      <td>...</td>\n",
              "      <td>...</td>\n",
              "      <td>...</td>\n",
              "      <td>...</td>\n",
              "      <td>...</td>\n",
              "      <td>...</td>\n",
              "      <td>...</td>\n",
              "      <td>...</td>\n",
              "      <td>...</td>\n",
              "      <td>...</td>\n",
              "    </tr>\n",
              "    <tr>\n",
              "      <th>795</th>\n",
              "      <td>719</td>\n",
              "      <td>Diancie</td>\n",
              "      <td>Rock</td>\n",
              "      <td>Fairy</td>\n",
              "      <td>50</td>\n",
              "      <td>100</td>\n",
              "      <td>150</td>\n",
              "      <td>100</td>\n",
              "      <td>150</td>\n",
              "      <td>50</td>\n",
              "      <td>6</td>\n",
              "      <td>True</td>\n",
              "    </tr>\n",
              "    <tr>\n",
              "      <th>796</th>\n",
              "      <td>719</td>\n",
              "      <td>DiancieMega Diancie</td>\n",
              "      <td>Rock</td>\n",
              "      <td>Fairy</td>\n",
              "      <td>50</td>\n",
              "      <td>160</td>\n",
              "      <td>110</td>\n",
              "      <td>160</td>\n",
              "      <td>110</td>\n",
              "      <td>110</td>\n",
              "      <td>6</td>\n",
              "      <td>True</td>\n",
              "    </tr>\n",
              "    <tr>\n",
              "      <th>797</th>\n",
              "      <td>720</td>\n",
              "      <td>HoopaHoopa Confined</td>\n",
              "      <td>Psychic</td>\n",
              "      <td>Ghost</td>\n",
              "      <td>80</td>\n",
              "      <td>110</td>\n",
              "      <td>60</td>\n",
              "      <td>150</td>\n",
              "      <td>130</td>\n",
              "      <td>70</td>\n",
              "      <td>6</td>\n",
              "      <td>True</td>\n",
              "    </tr>\n",
              "    <tr>\n",
              "      <th>798</th>\n",
              "      <td>720</td>\n",
              "      <td>HoopaHoopa Unbound</td>\n",
              "      <td>Psychic</td>\n",
              "      <td>Dark</td>\n",
              "      <td>80</td>\n",
              "      <td>160</td>\n",
              "      <td>60</td>\n",
              "      <td>170</td>\n",
              "      <td>130</td>\n",
              "      <td>80</td>\n",
              "      <td>6</td>\n",
              "      <td>True</td>\n",
              "    </tr>\n",
              "    <tr>\n",
              "      <th>799</th>\n",
              "      <td>721</td>\n",
              "      <td>Volcanion</td>\n",
              "      <td>Fire</td>\n",
              "      <td>Water</td>\n",
              "      <td>80</td>\n",
              "      <td>110</td>\n",
              "      <td>120</td>\n",
              "      <td>130</td>\n",
              "      <td>90</td>\n",
              "      <td>70</td>\n",
              "      <td>6</td>\n",
              "      <td>True</td>\n",
              "    </tr>\n",
              "  </tbody>\n",
              "</table>\n",
              "<p>800 rows × 12 columns</p>\n",
              "</div>"
            ],
            "text/plain": [
              "       #                   Name   Type 1  Type 2  HP  Attack  Defense  \\\n",
              "0      1              Bulbasaur    Grass  Poison  45      49       49   \n",
              "1      2                Ivysaur    Grass  Poison  60      62       63   \n",
              "2      3               Venusaur    Grass  Poison  80      82       83   \n",
              "3      3  VenusaurMega Venusaur    Grass  Poison  80     100      123   \n",
              "4      4             Charmander     Fire     NaN  39      52       43   \n",
              "..   ...                    ...      ...     ...  ..     ...      ...   \n",
              "795  719                Diancie     Rock   Fairy  50     100      150   \n",
              "796  719    DiancieMega Diancie     Rock   Fairy  50     160      110   \n",
              "797  720    HoopaHoopa Confined  Psychic   Ghost  80     110       60   \n",
              "798  720     HoopaHoopa Unbound  Psychic    Dark  80     160       60   \n",
              "799  721              Volcanion     Fire   Water  80     110      120   \n",
              "\n",
              "     Sp. Atk  Sp. Def  Speed  Generation  Legendary  \n",
              "0         65       65     45           1      False  \n",
              "1         80       80     60           1      False  \n",
              "2        100      100     80           1      False  \n",
              "3        122      120     80           1      False  \n",
              "4         60       50     65           1      False  \n",
              "..       ...      ...    ...         ...        ...  \n",
              "795      100      150     50           6       True  \n",
              "796      160      110    110           6       True  \n",
              "797      150      130     70           6       True  \n",
              "798      170      130     80           6       True  \n",
              "799      130       90     70           6       True  \n",
              "\n",
              "[800 rows x 12 columns]"
            ]
          },
          "execution_count": 47,
          "metadata": {},
          "output_type": "execute_result"
        }
      ],
      "source": [
        "import pandas as pd\n",
        "url = \"https://raw.githubusercontent.com/RafaelCaballero/tdm/master/datos/pokemon.csv\"\n",
        "df = pd.read_csv(url)\n",
        "df"
      ]
    },
    {
      "cell_type": "markdown",
      "metadata": {
        "id": "BGxuQwdr3W0s"
      },
      "source": [
        "Nombres de las columnas:"
      ]
    },
    {
      "cell_type": "code",
      "execution_count": 48,
      "metadata": {
        "id": "TvU-eeXR3Y2s"
      },
      "outputs": [
        {
          "data": {
            "text/plain": [
              "Index(['#', 'Name', 'Type 1', 'Type 2', 'HP', 'Attack', 'Defense', 'Sp. Atk',\n",
              "       'Sp. Def', 'Speed', 'Generation', 'Legendary'],\n",
              "      dtype='object')"
            ]
          },
          "execution_count": 48,
          "metadata": {},
          "output_type": "execute_result"
        }
      ],
      "source": [
        "df.columns"
      ]
    },
    {
      "cell_type": "markdown",
      "metadata": {
        "id": "LGoGO_vf2MDe"
      },
      "source": [
        "Si queremos saber el número de filas y columnas podemos usar `shape`"
      ]
    },
    {
      "cell_type": "code",
      "execution_count": 49,
      "metadata": {
        "id": "HkSAETEd2QeO"
      },
      "outputs": [
        {
          "data": {
            "text/plain": [
              "(800, 12)"
            ]
          },
          "execution_count": 49,
          "metadata": {},
          "output_type": "execute_result"
        }
      ],
      "source": [
        "df.shape"
      ]
    },
    {
      "cell_type": "markdown",
      "metadata": {
        "id": "x393wvAO2SxG"
      },
      "source": [
        "Es una tupla: podemos separar las dos componentes fácilmente"
      ]
    },
    {
      "cell_type": "code",
      "execution_count": 50,
      "metadata": {
        "id": "L7OZprgj2XoG"
      },
      "outputs": [
        {
          "name": "stdout",
          "output_type": "stream",
          "text": [
            "Datataframe con 800 filas y 12 columnas\n"
          ]
        }
      ],
      "source": [
        "(f,c) = df.shape\n",
        "\n",
        "print(f\"Datataframe con {f} filas y {c} columnas\")"
      ]
    },
    {
      "cell_type": "code",
      "execution_count": 51,
      "metadata": {
        "id": "wlL3Qspg2liU"
      },
      "outputs": [
        {
          "name": "stdout",
          "output_type": "stream",
          "text": [
            "Datataframe con 800 filas y 12 columnas\n"
          ]
        }
      ],
      "source": [
        "# otra forma, aprovechando que las tuplas son secuencias\n",
        "s = df.shape\n",
        "\n",
        "print(f\"Datataframe con {s[0]} filas y {s[1]} columnas\")"
      ]
    },
    {
      "cell_type": "markdown",
      "metadata": {
        "id": "LDWM6E3U21CP"
      },
      "source": [
        "Más formas aun..."
      ]
    },
    {
      "cell_type": "code",
      "execution_count": 52,
      "metadata": {
        "id": "51vUqd3x2wRH"
      },
      "outputs": [
        {
          "name": "stdout",
          "output_type": "stream",
          "text": [
            "Datataframe con 800 filas y 12 columnas\n"
          ]
        }
      ],
      "source": [
        "f = len(df)\n",
        "c = len(df.columns)\n",
        "print(f\"Datataframe con {f} filas y {c} columnas\")"
      ]
    },
    {
      "cell_type": "markdown",
      "metadata": {
        "id": "KC8i4lNt3dhj"
      },
      "source": [
        "Datos básicos sobre el dataframe completo con `info` y estadísticas básicas sobre las columnas  numéricas con `describe`"
      ]
    },
    {
      "cell_type": "code",
      "execution_count": 53,
      "metadata": {
        "id": "of5pM6kr3pif"
      },
      "outputs": [
        {
          "name": "stdout",
          "output_type": "stream",
          "text": [
            "<class 'pandas.core.frame.DataFrame'>\n",
            "RangeIndex: 800 entries, 0 to 799\n",
            "Data columns (total 12 columns):\n",
            " #   Column      Non-Null Count  Dtype \n",
            "---  ------      --------------  ----- \n",
            " 0   #           800 non-null    int64 \n",
            " 1   Name        800 non-null    object\n",
            " 2   Type 1      800 non-null    object\n",
            " 3   Type 2      414 non-null    object\n",
            " 4   HP          800 non-null    int64 \n",
            " 5   Attack      800 non-null    int64 \n",
            " 6   Defense     800 non-null    int64 \n",
            " 7   Sp. Atk     800 non-null    int64 \n",
            " 8   Sp. Def     800 non-null    int64 \n",
            " 9   Speed       800 non-null    int64 \n",
            " 10  Generation  800 non-null    int64 \n",
            " 11  Legendary   800 non-null    bool  \n",
            "dtypes: bool(1), int64(8), object(3)\n",
            "memory usage: 69.7+ KB\n"
          ]
        }
      ],
      "source": [
        "df.info()"
      ]
    },
    {
      "cell_type": "code",
      "execution_count": 54,
      "metadata": {
        "id": "NomZFNfp3tmO"
      },
      "outputs": [
        {
          "data": {
            "text/html": [
              "<div>\n",
              "<style scoped>\n",
              "    .dataframe tbody tr th:only-of-type {\n",
              "        vertical-align: middle;\n",
              "    }\n",
              "\n",
              "    .dataframe tbody tr th {\n",
              "        vertical-align: top;\n",
              "    }\n",
              "\n",
              "    .dataframe thead th {\n",
              "        text-align: right;\n",
              "    }\n",
              "</style>\n",
              "<table border=\"1\" class=\"dataframe\">\n",
              "  <thead>\n",
              "    <tr style=\"text-align: right;\">\n",
              "      <th></th>\n",
              "      <th>#</th>\n",
              "      <th>HP</th>\n",
              "      <th>Attack</th>\n",
              "      <th>Defense</th>\n",
              "      <th>Sp. Atk</th>\n",
              "      <th>Sp. Def</th>\n",
              "      <th>Speed</th>\n",
              "      <th>Generation</th>\n",
              "    </tr>\n",
              "  </thead>\n",
              "  <tbody>\n",
              "    <tr>\n",
              "      <th>count</th>\n",
              "      <td>800.000000</td>\n",
              "      <td>800.000000</td>\n",
              "      <td>800.000000</td>\n",
              "      <td>800.000000</td>\n",
              "      <td>800.000000</td>\n",
              "      <td>800.000000</td>\n",
              "      <td>800.000000</td>\n",
              "      <td>800.00000</td>\n",
              "    </tr>\n",
              "    <tr>\n",
              "      <th>mean</th>\n",
              "      <td>362.813750</td>\n",
              "      <td>69.258750</td>\n",
              "      <td>79.001250</td>\n",
              "      <td>73.842500</td>\n",
              "      <td>72.820000</td>\n",
              "      <td>71.902500</td>\n",
              "      <td>68.277500</td>\n",
              "      <td>3.32375</td>\n",
              "    </tr>\n",
              "    <tr>\n",
              "      <th>std</th>\n",
              "      <td>208.343798</td>\n",
              "      <td>25.534669</td>\n",
              "      <td>32.457366</td>\n",
              "      <td>31.183501</td>\n",
              "      <td>32.722294</td>\n",
              "      <td>27.828916</td>\n",
              "      <td>29.060474</td>\n",
              "      <td>1.66129</td>\n",
              "    </tr>\n",
              "    <tr>\n",
              "      <th>min</th>\n",
              "      <td>1.000000</td>\n",
              "      <td>1.000000</td>\n",
              "      <td>5.000000</td>\n",
              "      <td>5.000000</td>\n",
              "      <td>10.000000</td>\n",
              "      <td>20.000000</td>\n",
              "      <td>5.000000</td>\n",
              "      <td>1.00000</td>\n",
              "    </tr>\n",
              "    <tr>\n",
              "      <th>25%</th>\n",
              "      <td>184.750000</td>\n",
              "      <td>50.000000</td>\n",
              "      <td>55.000000</td>\n",
              "      <td>50.000000</td>\n",
              "      <td>49.750000</td>\n",
              "      <td>50.000000</td>\n",
              "      <td>45.000000</td>\n",
              "      <td>2.00000</td>\n",
              "    </tr>\n",
              "    <tr>\n",
              "      <th>50%</th>\n",
              "      <td>364.500000</td>\n",
              "      <td>65.000000</td>\n",
              "      <td>75.000000</td>\n",
              "      <td>70.000000</td>\n",
              "      <td>65.000000</td>\n",
              "      <td>70.000000</td>\n",
              "      <td>65.000000</td>\n",
              "      <td>3.00000</td>\n",
              "    </tr>\n",
              "    <tr>\n",
              "      <th>75%</th>\n",
              "      <td>539.250000</td>\n",
              "      <td>80.000000</td>\n",
              "      <td>100.000000</td>\n",
              "      <td>90.000000</td>\n",
              "      <td>95.000000</td>\n",
              "      <td>90.000000</td>\n",
              "      <td>90.000000</td>\n",
              "      <td>5.00000</td>\n",
              "    </tr>\n",
              "    <tr>\n",
              "      <th>max</th>\n",
              "      <td>721.000000</td>\n",
              "      <td>255.000000</td>\n",
              "      <td>190.000000</td>\n",
              "      <td>230.000000</td>\n",
              "      <td>194.000000</td>\n",
              "      <td>230.000000</td>\n",
              "      <td>180.000000</td>\n",
              "      <td>6.00000</td>\n",
              "    </tr>\n",
              "  </tbody>\n",
              "</table>\n",
              "</div>"
            ],
            "text/plain": [
              "                #          HP      Attack     Defense     Sp. Atk     Sp. Def  \\\n",
              "count  800.000000  800.000000  800.000000  800.000000  800.000000  800.000000   \n",
              "mean   362.813750   69.258750   79.001250   73.842500   72.820000   71.902500   \n",
              "std    208.343798   25.534669   32.457366   31.183501   32.722294   27.828916   \n",
              "min      1.000000    1.000000    5.000000    5.000000   10.000000   20.000000   \n",
              "25%    184.750000   50.000000   55.000000   50.000000   49.750000   50.000000   \n",
              "50%    364.500000   65.000000   75.000000   70.000000   65.000000   70.000000   \n",
              "75%    539.250000   80.000000  100.000000   90.000000   95.000000   90.000000   \n",
              "max    721.000000  255.000000  190.000000  230.000000  194.000000  230.000000   \n",
              "\n",
              "            Speed  Generation  \n",
              "count  800.000000   800.00000  \n",
              "mean    68.277500     3.32375  \n",
              "std     29.060474     1.66129  \n",
              "min      5.000000     1.00000  \n",
              "25%     45.000000     2.00000  \n",
              "50%     65.000000     3.00000  \n",
              "75%     90.000000     5.00000  \n",
              "max    180.000000     6.00000  "
            ]
          },
          "execution_count": 54,
          "metadata": {},
          "output_type": "execute_result"
        }
      ],
      "source": [
        "df.describe()"
      ]
    },
    {
      "cell_type": "markdown",
      "metadata": {
        "id": "bxDj1nIk33V-"
      },
      "source": [
        "A menudo nos puede interesar saber qué valores diferentes toma una columna"
      ]
    },
    {
      "cell_type": "code",
      "execution_count": 55,
      "metadata": {
        "id": "xyrUHl_D4Aem"
      },
      "outputs": [
        {
          "data": {
            "text/plain": [
              "array(['Grass', 'Fire', 'Water', 'Bug', 'Normal', 'Poison', 'Electric',\n",
              "       'Ground', 'Fairy', 'Fighting', 'Psychic', 'Rock', 'Ghost', 'Ice',\n",
              "       'Dragon', 'Dark', 'Steel', 'Flying'], dtype=object)"
            ]
          },
          "execution_count": 55,
          "metadata": {},
          "output_type": "execute_result"
        }
      ],
      "source": [
        "df[\"Type 1\"].unique()"
      ]
    },
    {
      "cell_type": "code",
      "execution_count": 56,
      "metadata": {
        "id": "xQg4Mdc632pm"
      },
      "outputs": [
        {
          "data": {
            "text/plain": [
              "18"
            ]
          },
          "execution_count": 56,
          "metadata": {},
          "output_type": "execute_result"
        }
      ],
      "source": [
        "len(df[\"Type 1\"].unique())"
      ]
    },
    {
      "cell_type": "markdown",
      "metadata": {
        "id": "2dQlRrxQBPXv"
      },
      "source": [
        "También nos puede interesar saber ccuántos pokemon de cada tipo hay:"
      ]
    },
    {
      "cell_type": "code",
      "execution_count": 57,
      "metadata": {
        "id": "Xz2iI0V4BJc-"
      },
      "outputs": [
        {
          "data": {
            "text/plain": [
              "Type 1\n",
              "Water       112\n",
              "Normal       98\n",
              "Grass        70\n",
              "Bug          69\n",
              "Psychic      57\n",
              "Fire         52\n",
              "Rock         44\n",
              "Electric     44\n",
              "Ground       32\n",
              "Ghost        32\n",
              "Dragon       32\n",
              "Dark         31\n",
              "Poison       28\n",
              "Fighting     27\n",
              "Steel        27\n",
              "Ice          24\n",
              "Fairy        17\n",
              "Flying        4\n",
              "Name: count, dtype: int64"
            ]
          },
          "execution_count": 57,
          "metadata": {},
          "output_type": "execute_result"
        }
      ],
      "source": [
        "df[\"Type 1\"].value_counts()"
      ]
    },
    {
      "cell_type": "code",
      "execution_count": 58,
      "metadata": {
        "id": "A4jPZbwGBfJk"
      },
      "outputs": [
        {
          "data": {
            "text/plain": [
              "Index(['Water', 'Normal', 'Grass', 'Bug', 'Psychic', 'Fire', 'Rock',\n",
              "       'Electric', 'Ground', 'Ghost', 'Dragon', 'Dark', 'Poison', 'Fighting',\n",
              "       'Steel', 'Ice', 'Fairy', 'Flying'],\n",
              "      dtype='object', name='Type 1')"
            ]
          },
          "execution_count": 58,
          "metadata": {},
          "output_type": "execute_result"
        }
      ],
      "source": [
        "s = df[\"Type 1\"].value_counts()\n",
        "s.index"
      ]
    },
    {
      "cell_type": "code",
      "execution_count": 59,
      "metadata": {
        "id": "jVF3cC2XBoKm"
      },
      "outputs": [
        {
          "data": {
            "text/plain": [
              "array([112,  98,  70,  69,  57,  52,  44,  44,  32,  32,  32,  31,  28,\n",
              "        27,  27,  24,  17,   4])"
            ]
          },
          "execution_count": 59,
          "metadata": {},
          "output_type": "execute_result"
        }
      ],
      "source": [
        "s.values"
      ]
    },
    {
      "cell_type": "markdown",
      "metadata": {
        "id": "TxR6C3f2BsHm"
      },
      "source": [
        "**Ejercicio** Tipo de Pokemon más común en Type 1 y número de veces que aparece"
      ]
    },
    {
      "cell_type": "code",
      "execution_count": 60,
      "metadata": {
        "id": "HNhKcsM3Bz5e"
      },
      "outputs": [
        {
          "data": {
            "text/plain": [
              "('Water', np.int64(112))"
            ]
          },
          "execution_count": 60,
          "metadata": {},
          "output_type": "execute_result"
        }
      ],
      "source": [
        "frecuencias = df[\"Type 1\"].value_counts()\n",
        "frecuencias.index[0], frecuencias.values[0]"
      ]
    },
    {
      "cell_type": "code",
      "execution_count": null,
      "metadata": {
        "id": "OjMUwND9BrMm"
      },
      "outputs": [],
      "source": []
    },
    {
      "cell_type": "markdown",
      "metadata": {
        "id": "z1RxBLc1LWAf"
      },
      "source": [
        "<a name=\"Modificación\"></a>\n",
        "## Modificación, inserción y borrado de columnas y filas"
      ]
    },
    {
      "cell_type": "markdown",
      "metadata": {
        "id": "oXpjXA6BES30"
      },
      "source": [
        "**Ejercicio 3** ¿Qué hace el siguiente código?"
      ]
    },
    {
      "cell_type": "code",
      "execution_count": 61,
      "metadata": {
        "id": "ApsLUGKCES30"
      },
      "outputs": [
        {
          "data": {
            "text/html": [
              "<div>\n",
              "<style scoped>\n",
              "    .dataframe tbody tr th:only-of-type {\n",
              "        vertical-align: middle;\n",
              "    }\n",
              "\n",
              "    .dataframe tbody tr th {\n",
              "        vertical-align: top;\n",
              "    }\n",
              "\n",
              "    .dataframe thead th {\n",
              "        text-align: right;\n",
              "    }\n",
              "</style>\n",
              "<table border=\"1\" class=\"dataframe\">\n",
              "  <thead>\n",
              "    <tr style=\"text-align: right;\">\n",
              "      <th></th>\n",
              "      <th>provincias</th>\n",
              "      <th>habitantes</th>\n",
              "    </tr>\n",
              "  </thead>\n",
              "  <tbody>\n",
              "    <tr>\n",
              "      <th>a</th>\n",
              "      <td>Madrid</td>\n",
              "      <td>6507184</td>\n",
              "    </tr>\n",
              "    <tr>\n",
              "      <th>b</th>\n",
              "      <td>0</td>\n",
              "      <td>0</td>\n",
              "    </tr>\n",
              "    <tr>\n",
              "      <th>c</th>\n",
              "      <td>Valencia</td>\n",
              "      <td>2547986</td>\n",
              "    </tr>\n",
              "    <tr>\n",
              "      <th>d</th>\n",
              "      <td>Sevilla</td>\n",
              "      <td>1939887</td>\n",
              "    </tr>\n",
              "    <tr>\n",
              "      <th>e</th>\n",
              "      <td>Alicante</td>\n",
              "      <td>1838819</td>\n",
              "    </tr>\n",
              "    <tr>\n",
              "      <th>f</th>\n",
              "      <td>Málaga</td>\n",
              "      <td>1641121</td>\n",
              "    </tr>\n",
              "  </tbody>\n",
              "</table>\n",
              "</div>"
            ],
            "text/plain": [
              "  provincias  habitantes\n",
              "a     Madrid     6507184\n",
              "b          0           0\n",
              "c   Valencia     2547986\n",
              "d    Sevilla     1939887\n",
              "e   Alicante     1838819\n",
              "f     Málaga     1641121"
            ]
          },
          "execution_count": 61,
          "metadata": {},
          "output_type": "execute_result"
        }
      ],
      "source": [
        "datos = [['Madrid', 6507184], ['Barcelona', 5609350],\n",
        "         ['Valencia', 2547986], ['Sevilla', 1939887],\n",
        "         ['Alicante', 1838819], ['Málaga',1641121]  ]\n",
        "df = pd.DataFrame(datos ,columns=['provincias','habitantes'],\n",
        "               index=['a','b','c','d','e','f'])\n",
        "\n",
        "df.iloc[1] = 0\n",
        "df"
      ]
    },
    {
      "cell_type": "markdown",
      "metadata": {
        "id": "8BLODwyFES30"
      },
      "source": [
        "**Ejercicio 4** ¿Qué hace el siguiente código?"
      ]
    },
    {
      "cell_type": "code",
      "execution_count": 62,
      "metadata": {
        "id": "oWySdvT1ES31"
      },
      "outputs": [
        {
          "data": {
            "text/html": [
              "<div>\n",
              "<style scoped>\n",
              "    .dataframe tbody tr th:only-of-type {\n",
              "        vertical-align: middle;\n",
              "    }\n",
              "\n",
              "    .dataframe tbody tr th {\n",
              "        vertical-align: top;\n",
              "    }\n",
              "\n",
              "    .dataframe thead th {\n",
              "        text-align: right;\n",
              "    }\n",
              "</style>\n",
              "<table border=\"1\" class=\"dataframe\">\n",
              "  <thead>\n",
              "    <tr style=\"text-align: right;\">\n",
              "      <th></th>\n",
              "      <th>provincias</th>\n",
              "      <th>habitantes</th>\n",
              "      <th>superficie</th>\n",
              "    </tr>\n",
              "  </thead>\n",
              "  <tbody>\n",
              "    <tr>\n",
              "      <th>a</th>\n",
              "      <td>Madrid</td>\n",
              "      <td>6507184</td>\n",
              "      <td>0</td>\n",
              "    </tr>\n",
              "    <tr>\n",
              "      <th>b</th>\n",
              "      <td>0</td>\n",
              "      <td>0</td>\n",
              "      <td>0</td>\n",
              "    </tr>\n",
              "    <tr>\n",
              "      <th>c</th>\n",
              "      <td>Valencia</td>\n",
              "      <td>2547986</td>\n",
              "      <td>0</td>\n",
              "    </tr>\n",
              "    <tr>\n",
              "      <th>d</th>\n",
              "      <td>Sevilla</td>\n",
              "      <td>1939887</td>\n",
              "      <td>0</td>\n",
              "    </tr>\n",
              "    <tr>\n",
              "      <th>e</th>\n",
              "      <td>Alicante</td>\n",
              "      <td>1838819</td>\n",
              "      <td>0</td>\n",
              "    </tr>\n",
              "    <tr>\n",
              "      <th>f</th>\n",
              "      <td>Málaga</td>\n",
              "      <td>1641121</td>\n",
              "      <td>0</td>\n",
              "    </tr>\n",
              "  </tbody>\n",
              "</table>\n",
              "</div>"
            ],
            "text/plain": [
              "  provincias  habitantes  superficie\n",
              "a     Madrid     6507184           0\n",
              "b          0           0           0\n",
              "c   Valencia     2547986           0\n",
              "d    Sevilla     1939887           0\n",
              "e   Alicante     1838819           0\n",
              "f     Málaga     1641121           0"
            ]
          },
          "execution_count": 62,
          "metadata": {},
          "output_type": "execute_result"
        }
      ],
      "source": [
        "df['superficie'] = 0\n",
        "df"
      ]
    },
    {
      "cell_type": "markdown",
      "metadata": {
        "id": "r2pHLKLNHB3x"
      },
      "source": [
        "Por tanto para crear una columna nos basta con \"rellenarla\" del valor que se desee. Luego veremos casos más complejos."
      ]
    },
    {
      "cell_type": "markdown",
      "metadata": {
        "id": "JpdpfqjLES31"
      },
      "source": [
        "### Eliminar filas y columnas\n",
        "Una forma de eliminar columnas es seleccionar solo las que se quieren mantener. Primero preparamos los datos."
      ]
    },
    {
      "cell_type": "code",
      "execution_count": 63,
      "metadata": {
        "id": "tJttJryyHB3x"
      },
      "outputs": [
        {
          "data": {
            "text/html": [
              "<div>\n",
              "<style scoped>\n",
              "    .dataframe tbody tr th:only-of-type {\n",
              "        vertical-align: middle;\n",
              "    }\n",
              "\n",
              "    .dataframe tbody tr th {\n",
              "        vertical-align: top;\n",
              "    }\n",
              "\n",
              "    .dataframe thead th {\n",
              "        text-align: right;\n",
              "    }\n",
              "</style>\n",
              "<table border=\"1\" class=\"dataframe\">\n",
              "  <thead>\n",
              "    <tr style=\"text-align: right;\">\n",
              "      <th></th>\n",
              "      <th>provincia</th>\n",
              "      <th>habitantes</th>\n",
              "      <th>superficie</th>\n",
              "    </tr>\n",
              "  </thead>\n",
              "  <tbody>\n",
              "    <tr>\n",
              "      <th>0</th>\n",
              "      <td>Madrid</td>\n",
              "      <td>6507184</td>\n",
              "      <td>0</td>\n",
              "    </tr>\n",
              "    <tr>\n",
              "      <th>1</th>\n",
              "      <td>Barcelona</td>\n",
              "      <td>5609350</td>\n",
              "      <td>0</td>\n",
              "    </tr>\n",
              "    <tr>\n",
              "      <th>2</th>\n",
              "      <td>Valencia</td>\n",
              "      <td>2547986</td>\n",
              "      <td>0</td>\n",
              "    </tr>\n",
              "    <tr>\n",
              "      <th>3</th>\n",
              "      <td>Sevilla</td>\n",
              "      <td>1939887</td>\n",
              "      <td>0</td>\n",
              "    </tr>\n",
              "    <tr>\n",
              "      <th>4</th>\n",
              "      <td>Alicante</td>\n",
              "      <td>1838819</td>\n",
              "      <td>0</td>\n",
              "    </tr>\n",
              "    <tr>\n",
              "      <th>5</th>\n",
              "      <td>Málaga</td>\n",
              "      <td>1641121</td>\n",
              "      <td>0</td>\n",
              "    </tr>\n",
              "  </tbody>\n",
              "</table>\n",
              "</div>"
            ],
            "text/plain": [
              "   provincia  habitantes  superficie\n",
              "0     Madrid     6507184           0\n",
              "1  Barcelona     5609350           0\n",
              "2   Valencia     2547986           0\n",
              "3    Sevilla     1939887           0\n",
              "4   Alicante     1838819           0\n",
              "5     Málaga     1641121           0"
            ]
          },
          "execution_count": 63,
          "metadata": {},
          "output_type": "execute_result"
        }
      ],
      "source": [
        "datos = {'provincia' : ['Madrid', 'Barcelona', 'Valencia', 'Sevilla',\n",
        "         'Alicante', 'Málaga'],\n",
        "         'habitantes' : [6507184, 5609350,  2547986,  1939887,\n",
        "          1838819, 1641121 ]}\n",
        "df = pd.DataFrame(datos)\n",
        "df[\"superficie\"] = 0\n",
        "df"
      ]
    },
    {
      "cell_type": "code",
      "execution_count": 64,
      "metadata": {
        "id": "AjuiSgS9ES31"
      },
      "outputs": [
        {
          "data": {
            "text/html": [
              "<div>\n",
              "<style scoped>\n",
              "    .dataframe tbody tr th:only-of-type {\n",
              "        vertical-align: middle;\n",
              "    }\n",
              "\n",
              "    .dataframe tbody tr th {\n",
              "        vertical-align: top;\n",
              "    }\n",
              "\n",
              "    .dataframe thead th {\n",
              "        text-align: right;\n",
              "    }\n",
              "</style>\n",
              "<table border=\"1\" class=\"dataframe\">\n",
              "  <thead>\n",
              "    <tr style=\"text-align: right;\">\n",
              "      <th></th>\n",
              "      <th>superficie</th>\n",
              "    </tr>\n",
              "  </thead>\n",
              "  <tbody>\n",
              "    <tr>\n",
              "      <th>0</th>\n",
              "      <td>0</td>\n",
              "    </tr>\n",
              "    <tr>\n",
              "      <th>1</th>\n",
              "      <td>0</td>\n",
              "    </tr>\n",
              "    <tr>\n",
              "      <th>2</th>\n",
              "      <td>0</td>\n",
              "    </tr>\n",
              "    <tr>\n",
              "      <th>3</th>\n",
              "      <td>0</td>\n",
              "    </tr>\n",
              "    <tr>\n",
              "      <th>4</th>\n",
              "      <td>0</td>\n",
              "    </tr>\n",
              "    <tr>\n",
              "      <th>5</th>\n",
              "      <td>0</td>\n",
              "    </tr>\n",
              "  </tbody>\n",
              "</table>\n",
              "</div>"
            ],
            "text/plain": [
              "   superficie\n",
              "0           0\n",
              "1           0\n",
              "2           0\n",
              "3           0\n",
              "4           0\n",
              "5           0"
            ]
          },
          "execution_count": 64,
          "metadata": {},
          "output_type": "execute_result"
        }
      ],
      "source": [
        "df2 = df.loc[ : , ['superficie'] ]  # todas las filas, columna solo superficie\n",
        "df2"
      ]
    },
    {
      "cell_type": "markdown",
      "metadata": {
        "id": "cf3vfLO2HB3y"
      },
      "source": [
        "Equivalente a"
      ]
    },
    {
      "cell_type": "code",
      "execution_count": 65,
      "metadata": {
        "id": "hguSllWmHB3y"
      },
      "outputs": [
        {
          "data": {
            "text/html": [
              "<div>\n",
              "<style scoped>\n",
              "    .dataframe tbody tr th:only-of-type {\n",
              "        vertical-align: middle;\n",
              "    }\n",
              "\n",
              "    .dataframe tbody tr th {\n",
              "        vertical-align: top;\n",
              "    }\n",
              "\n",
              "    .dataframe thead th {\n",
              "        text-align: right;\n",
              "    }\n",
              "</style>\n",
              "<table border=\"1\" class=\"dataframe\">\n",
              "  <thead>\n",
              "    <tr style=\"text-align: right;\">\n",
              "      <th></th>\n",
              "      <th>superficie</th>\n",
              "    </tr>\n",
              "  </thead>\n",
              "  <tbody>\n",
              "    <tr>\n",
              "      <th>0</th>\n",
              "      <td>0</td>\n",
              "    </tr>\n",
              "    <tr>\n",
              "      <th>1</th>\n",
              "      <td>0</td>\n",
              "    </tr>\n",
              "    <tr>\n",
              "      <th>2</th>\n",
              "      <td>0</td>\n",
              "    </tr>\n",
              "    <tr>\n",
              "      <th>3</th>\n",
              "      <td>0</td>\n",
              "    </tr>\n",
              "    <tr>\n",
              "      <th>4</th>\n",
              "      <td>0</td>\n",
              "    </tr>\n",
              "    <tr>\n",
              "      <th>5</th>\n",
              "      <td>0</td>\n",
              "    </tr>\n",
              "  </tbody>\n",
              "</table>\n",
              "</div>"
            ],
            "text/plain": [
              "   superficie\n",
              "0           0\n",
              "1           0\n",
              "2           0\n",
              "3           0\n",
              "4           0\n",
              "5           0"
            ]
          },
          "execution_count": 65,
          "metadata": {},
          "output_type": "execute_result"
        }
      ],
      "source": [
        "df2 = df[[\"superficie\"]]\n",
        "df2"
      ]
    },
    {
      "cell_type": "markdown",
      "metadata": {
        "id": "R-YBbXsBHB3z"
      },
      "source": [
        "**Pregunta** ¿También es equivalente a `df[\"superficie\"]`?"
      ]
    },
    {
      "cell_type": "markdown",
      "metadata": {
        "id": "CBzXC1oQMJxB"
      },
      "source": [
        "Varias columnas"
      ]
    },
    {
      "cell_type": "code",
      "execution_count": 66,
      "metadata": {
        "id": "3WtPw-W4MLgP"
      },
      "outputs": [
        {
          "data": {
            "text/html": [
              "<div>\n",
              "<style scoped>\n",
              "    .dataframe tbody tr th:only-of-type {\n",
              "        vertical-align: middle;\n",
              "    }\n",
              "\n",
              "    .dataframe tbody tr th {\n",
              "        vertical-align: top;\n",
              "    }\n",
              "\n",
              "    .dataframe thead th {\n",
              "        text-align: right;\n",
              "    }\n",
              "</style>\n",
              "<table border=\"1\" class=\"dataframe\">\n",
              "  <thead>\n",
              "    <tr style=\"text-align: right;\">\n",
              "      <th></th>\n",
              "      <th>provincia</th>\n",
              "      <th>superficie</th>\n",
              "    </tr>\n",
              "  </thead>\n",
              "  <tbody>\n",
              "    <tr>\n",
              "      <th>0</th>\n",
              "      <td>Madrid</td>\n",
              "      <td>0</td>\n",
              "    </tr>\n",
              "    <tr>\n",
              "      <th>1</th>\n",
              "      <td>Barcelona</td>\n",
              "      <td>0</td>\n",
              "    </tr>\n",
              "    <tr>\n",
              "      <th>2</th>\n",
              "      <td>Valencia</td>\n",
              "      <td>0</td>\n",
              "    </tr>\n",
              "    <tr>\n",
              "      <th>3</th>\n",
              "      <td>Sevilla</td>\n",
              "      <td>0</td>\n",
              "    </tr>\n",
              "    <tr>\n",
              "      <th>4</th>\n",
              "      <td>Alicante</td>\n",
              "      <td>0</td>\n",
              "    </tr>\n",
              "    <tr>\n",
              "      <th>5</th>\n",
              "      <td>Málaga</td>\n",
              "      <td>0</td>\n",
              "    </tr>\n",
              "  </tbody>\n",
              "</table>\n",
              "</div>"
            ],
            "text/plain": [
              "   provincia  superficie\n",
              "0     Madrid           0\n",
              "1  Barcelona           0\n",
              "2   Valencia           0\n",
              "3    Sevilla           0\n",
              "4   Alicante           0\n",
              "5     Málaga           0"
            ]
          },
          "execution_count": 66,
          "metadata": {},
          "output_type": "execute_result"
        }
      ],
      "source": [
        "df2 = df[['provincia', 'superficie'] ]\n",
        "df2"
      ]
    },
    {
      "cell_type": "markdown",
      "metadata": {
        "id": "EWUiDQCgHB30"
      },
      "source": [
        "En general para borrar filas o columnas por nombre usaremos [drop](https://pandas.pydata.org/docs/reference/api/pandas.DataFrame.drop.html). El parámetro `axis`indica si queremos borrar filas (0) o columnas (1)"
      ]
    },
    {
      "cell_type": "code",
      "execution_count": 67,
      "metadata": {
        "id": "8IseY2okHB30"
      },
      "outputs": [
        {
          "data": {
            "text/html": [
              "<div>\n",
              "<style scoped>\n",
              "    .dataframe tbody tr th:only-of-type {\n",
              "        vertical-align: middle;\n",
              "    }\n",
              "\n",
              "    .dataframe tbody tr th {\n",
              "        vertical-align: top;\n",
              "    }\n",
              "\n",
              "    .dataframe thead th {\n",
              "        text-align: right;\n",
              "    }\n",
              "</style>\n",
              "<table border=\"1\" class=\"dataframe\">\n",
              "  <thead>\n",
              "    <tr style=\"text-align: right;\">\n",
              "      <th></th>\n",
              "      <th>provincia</th>\n",
              "      <th>habitantes</th>\n",
              "      <th>superficie</th>\n",
              "    </tr>\n",
              "  </thead>\n",
              "  <tbody>\n",
              "    <tr>\n",
              "      <th>0</th>\n",
              "      <td>Madrid</td>\n",
              "      <td>6507184</td>\n",
              "      <td>0</td>\n",
              "    </tr>\n",
              "    <tr>\n",
              "      <th>1</th>\n",
              "      <td>Barcelona</td>\n",
              "      <td>5609350</td>\n",
              "      <td>0</td>\n",
              "    </tr>\n",
              "    <tr>\n",
              "      <th>2</th>\n",
              "      <td>Valencia</td>\n",
              "      <td>2547986</td>\n",
              "      <td>0</td>\n",
              "    </tr>\n",
              "    <tr>\n",
              "      <th>3</th>\n",
              "      <td>Sevilla</td>\n",
              "      <td>1939887</td>\n",
              "      <td>0</td>\n",
              "    </tr>\n",
              "    <tr>\n",
              "      <th>4</th>\n",
              "      <td>Alicante</td>\n",
              "      <td>1838819</td>\n",
              "      <td>0</td>\n",
              "    </tr>\n",
              "    <tr>\n",
              "      <th>5</th>\n",
              "      <td>Málaga</td>\n",
              "      <td>1641121</td>\n",
              "      <td>0</td>\n",
              "    </tr>\n",
              "  </tbody>\n",
              "</table>\n",
              "</div>"
            ],
            "text/plain": [
              "   provincia  habitantes  superficie\n",
              "0     Madrid     6507184           0\n",
              "1  Barcelona     5609350           0\n",
              "2   Valencia     2547986           0\n",
              "3    Sevilla     1939887           0\n",
              "4   Alicante     1838819           0\n",
              "5     Málaga     1641121           0"
            ]
          },
          "execution_count": 67,
          "metadata": {},
          "output_type": "execute_result"
        }
      ],
      "source": [
        "datos = {'provincia' : ['Madrid', 'Barcelona', 'Valencia', 'Sevilla',\n",
        "         'Alicante', 'Málaga'],\n",
        "         'habitantes' : [6507184, 5609350,  2547986,  1939887,\n",
        "          1838819, 1641121 ]}\n",
        "df = pd.DataFrame(datos)\n",
        "df[\"superficie\"] = 0\n",
        "df"
      ]
    },
    {
      "cell_type": "code",
      "execution_count": 68,
      "metadata": {
        "id": "rySqSjbdHB30"
      },
      "outputs": [
        {
          "data": {
            "text/html": [
              "<div>\n",
              "<style scoped>\n",
              "    .dataframe tbody tr th:only-of-type {\n",
              "        vertical-align: middle;\n",
              "    }\n",
              "\n",
              "    .dataframe tbody tr th {\n",
              "        vertical-align: top;\n",
              "    }\n",
              "\n",
              "    .dataframe thead th {\n",
              "        text-align: right;\n",
              "    }\n",
              "</style>\n",
              "<table border=\"1\" class=\"dataframe\">\n",
              "  <thead>\n",
              "    <tr style=\"text-align: right;\">\n",
              "      <th></th>\n",
              "      <th>provincia</th>\n",
              "      <th>habitantes</th>\n",
              "      <th>superficie</th>\n",
              "    </tr>\n",
              "  </thead>\n",
              "  <tbody>\n",
              "    <tr>\n",
              "      <th>0</th>\n",
              "      <td>Madrid</td>\n",
              "      <td>6507184</td>\n",
              "      <td>0</td>\n",
              "    </tr>\n",
              "    <tr>\n",
              "      <th>1</th>\n",
              "      <td>Barcelona</td>\n",
              "      <td>5609350</td>\n",
              "      <td>0</td>\n",
              "    </tr>\n",
              "    <tr>\n",
              "      <th>2</th>\n",
              "      <td>Valencia</td>\n",
              "      <td>2547986</td>\n",
              "      <td>0</td>\n",
              "    </tr>\n",
              "    <tr>\n",
              "      <th>4</th>\n",
              "      <td>Alicante</td>\n",
              "      <td>1838819</td>\n",
              "      <td>0</td>\n",
              "    </tr>\n",
              "  </tbody>\n",
              "</table>\n",
              "</div>"
            ],
            "text/plain": [
              "   provincia  habitantes  superficie\n",
              "0     Madrid     6507184           0\n",
              "1  Barcelona     5609350           0\n",
              "2   Valencia     2547986           0\n",
              "4   Alicante     1838819           0"
            ]
          },
          "execution_count": 68,
          "metadata": {},
          "output_type": "execute_result"
        }
      ],
      "source": [
        "dfSinFila = df.drop([3,5],axis=0)\n",
        "dfSinFila"
      ]
    },
    {
      "cell_type": "code",
      "execution_count": 69,
      "metadata": {
        "id": "YEit7qFxHB30"
      },
      "outputs": [
        {
          "data": {
            "text/html": [
              "<div>\n",
              "<style scoped>\n",
              "    .dataframe tbody tr th:only-of-type {\n",
              "        vertical-align: middle;\n",
              "    }\n",
              "\n",
              "    .dataframe tbody tr th {\n",
              "        vertical-align: top;\n",
              "    }\n",
              "\n",
              "    .dataframe thead th {\n",
              "        text-align: right;\n",
              "    }\n",
              "</style>\n",
              "<table border=\"1\" class=\"dataframe\">\n",
              "  <thead>\n",
              "    <tr style=\"text-align: right;\">\n",
              "      <th></th>\n",
              "      <th>provincia</th>\n",
              "      <th>habitantes</th>\n",
              "    </tr>\n",
              "  </thead>\n",
              "  <tbody>\n",
              "    <tr>\n",
              "      <th>0</th>\n",
              "      <td>Madrid</td>\n",
              "      <td>6507184</td>\n",
              "    </tr>\n",
              "    <tr>\n",
              "      <th>1</th>\n",
              "      <td>Barcelona</td>\n",
              "      <td>5609350</td>\n",
              "    </tr>\n",
              "    <tr>\n",
              "      <th>2</th>\n",
              "      <td>Valencia</td>\n",
              "      <td>2547986</td>\n",
              "    </tr>\n",
              "    <tr>\n",
              "      <th>3</th>\n",
              "      <td>Sevilla</td>\n",
              "      <td>1939887</td>\n",
              "    </tr>\n",
              "    <tr>\n",
              "      <th>4</th>\n",
              "      <td>Alicante</td>\n",
              "      <td>1838819</td>\n",
              "    </tr>\n",
              "    <tr>\n",
              "      <th>5</th>\n",
              "      <td>Málaga</td>\n",
              "      <td>1641121</td>\n",
              "    </tr>\n",
              "  </tbody>\n",
              "</table>\n",
              "</div>"
            ],
            "text/plain": [
              "   provincia  habitantes\n",
              "0     Madrid     6507184\n",
              "1  Barcelona     5609350\n",
              "2   Valencia     2547986\n",
              "3    Sevilla     1939887\n",
              "4   Alicante     1838819\n",
              "5     Málaga     1641121"
            ]
          },
          "execution_count": 69,
          "metadata": {},
          "output_type": "execute_result"
        }
      ],
      "source": [
        "dfSinCol = df.drop(['superficie'],axis=1)\n",
        "dfSinCol"
      ]
    },
    {
      "cell_type": "markdown",
      "metadata": {
        "id": "FALCPynyHB31"
      },
      "source": [
        "Si queremos podemos eviar el uso de axis utilizando los parámetros `index` y `columns`"
      ]
    },
    {
      "cell_type": "code",
      "execution_count": 70,
      "metadata": {
        "id": "cs-pMWz6HB31"
      },
      "outputs": [
        {
          "data": {
            "text/html": [
              "<div>\n",
              "<style scoped>\n",
              "    .dataframe tbody tr th:only-of-type {\n",
              "        vertical-align: middle;\n",
              "    }\n",
              "\n",
              "    .dataframe tbody tr th {\n",
              "        vertical-align: top;\n",
              "    }\n",
              "\n",
              "    .dataframe thead th {\n",
              "        text-align: right;\n",
              "    }\n",
              "</style>\n",
              "<table border=\"1\" class=\"dataframe\">\n",
              "  <thead>\n",
              "    <tr style=\"text-align: right;\">\n",
              "      <th></th>\n",
              "      <th>provincia</th>\n",
              "      <th>habitantes</th>\n",
              "      <th>superficie</th>\n",
              "    </tr>\n",
              "  </thead>\n",
              "  <tbody>\n",
              "    <tr>\n",
              "      <th>0</th>\n",
              "      <td>Madrid</td>\n",
              "      <td>6507184</td>\n",
              "      <td>0</td>\n",
              "    </tr>\n",
              "    <tr>\n",
              "      <th>1</th>\n",
              "      <td>Barcelona</td>\n",
              "      <td>5609350</td>\n",
              "      <td>0</td>\n",
              "    </tr>\n",
              "    <tr>\n",
              "      <th>2</th>\n",
              "      <td>Valencia</td>\n",
              "      <td>2547986</td>\n",
              "      <td>0</td>\n",
              "    </tr>\n",
              "    <tr>\n",
              "      <th>3</th>\n",
              "      <td>Sevilla</td>\n",
              "      <td>1939887</td>\n",
              "      <td>0</td>\n",
              "    </tr>\n",
              "    <tr>\n",
              "      <th>4</th>\n",
              "      <td>Alicante</td>\n",
              "      <td>1838819</td>\n",
              "      <td>0</td>\n",
              "    </tr>\n",
              "    <tr>\n",
              "      <th>5</th>\n",
              "      <td>Málaga</td>\n",
              "      <td>1641121</td>\n",
              "      <td>0</td>\n",
              "    </tr>\n",
              "  </tbody>\n",
              "</table>\n",
              "</div>"
            ],
            "text/plain": [
              "   provincia  habitantes  superficie\n",
              "0     Madrid     6507184           0\n",
              "1  Barcelona     5609350           0\n",
              "2   Valencia     2547986           0\n",
              "3    Sevilla     1939887           0\n",
              "4   Alicante     1838819           0\n",
              "5     Málaga     1641121           0"
            ]
          },
          "execution_count": 70,
          "metadata": {},
          "output_type": "execute_result"
        }
      ],
      "source": [
        "datos = {'provincia' : ['Madrid', 'Barcelona', 'Valencia', 'Sevilla',\n",
        "         'Alicante', 'Málaga'],\n",
        "         'habitantes' : [6507184, 5609350,  2547986,  1939887,\n",
        "          1838819, 1641121 ]}\n",
        "df = pd.DataFrame(datos)\n",
        "df[\"superficie\"] = 0\n",
        "df"
      ]
    },
    {
      "cell_type": "code",
      "execution_count": 71,
      "metadata": {
        "id": "7FsGk2wIHB31"
      },
      "outputs": [
        {
          "data": {
            "text/html": [
              "<div>\n",
              "<style scoped>\n",
              "    .dataframe tbody tr th:only-of-type {\n",
              "        vertical-align: middle;\n",
              "    }\n",
              "\n",
              "    .dataframe tbody tr th {\n",
              "        vertical-align: top;\n",
              "    }\n",
              "\n",
              "    .dataframe thead th {\n",
              "        text-align: right;\n",
              "    }\n",
              "</style>\n",
              "<table border=\"1\" class=\"dataframe\">\n",
              "  <thead>\n",
              "    <tr style=\"text-align: right;\">\n",
              "      <th></th>\n",
              "      <th>provincia</th>\n",
              "      <th>habitantes</th>\n",
              "      <th>superficie</th>\n",
              "    </tr>\n",
              "  </thead>\n",
              "  <tbody>\n",
              "    <tr>\n",
              "      <th>0</th>\n",
              "      <td>Madrid</td>\n",
              "      <td>6507184</td>\n",
              "      <td>0</td>\n",
              "    </tr>\n",
              "    <tr>\n",
              "      <th>2</th>\n",
              "      <td>Valencia</td>\n",
              "      <td>2547986</td>\n",
              "      <td>0</td>\n",
              "    </tr>\n",
              "    <tr>\n",
              "      <th>4</th>\n",
              "      <td>Alicante</td>\n",
              "      <td>1838819</td>\n",
              "      <td>0</td>\n",
              "    </tr>\n",
              "    <tr>\n",
              "      <th>5</th>\n",
              "      <td>Málaga</td>\n",
              "      <td>1641121</td>\n",
              "      <td>0</td>\n",
              "    </tr>\n",
              "  </tbody>\n",
              "</table>\n",
              "</div>"
            ],
            "text/plain": [
              "  provincia  habitantes  superficie\n",
              "0    Madrid     6507184           0\n",
              "2  Valencia     2547986           0\n",
              "4  Alicante     1838819           0\n",
              "5    Málaga     1641121           0"
            ]
          },
          "execution_count": 71,
          "metadata": {},
          "output_type": "execute_result"
        }
      ],
      "source": [
        "df.drop(index=[1,3])"
      ]
    },
    {
      "cell_type": "code",
      "execution_count": 72,
      "metadata": {
        "id": "fXP_TBbHHB31"
      },
      "outputs": [
        {
          "data": {
            "text/html": [
              "<div>\n",
              "<style scoped>\n",
              "    .dataframe tbody tr th:only-of-type {\n",
              "        vertical-align: middle;\n",
              "    }\n",
              "\n",
              "    .dataframe tbody tr th {\n",
              "        vertical-align: top;\n",
              "    }\n",
              "\n",
              "    .dataframe thead th {\n",
              "        text-align: right;\n",
              "    }\n",
              "</style>\n",
              "<table border=\"1\" class=\"dataframe\">\n",
              "  <thead>\n",
              "    <tr style=\"text-align: right;\">\n",
              "      <th></th>\n",
              "      <th>habitantes</th>\n",
              "      <th>superficie</th>\n",
              "    </tr>\n",
              "  </thead>\n",
              "  <tbody>\n",
              "    <tr>\n",
              "      <th>0</th>\n",
              "      <td>6507184</td>\n",
              "      <td>0</td>\n",
              "    </tr>\n",
              "    <tr>\n",
              "      <th>1</th>\n",
              "      <td>5609350</td>\n",
              "      <td>0</td>\n",
              "    </tr>\n",
              "    <tr>\n",
              "      <th>2</th>\n",
              "      <td>2547986</td>\n",
              "      <td>0</td>\n",
              "    </tr>\n",
              "    <tr>\n",
              "      <th>3</th>\n",
              "      <td>1939887</td>\n",
              "      <td>0</td>\n",
              "    </tr>\n",
              "    <tr>\n",
              "      <th>4</th>\n",
              "      <td>1838819</td>\n",
              "      <td>0</td>\n",
              "    </tr>\n",
              "    <tr>\n",
              "      <th>5</th>\n",
              "      <td>1641121</td>\n",
              "      <td>0</td>\n",
              "    </tr>\n",
              "  </tbody>\n",
              "</table>\n",
              "</div>"
            ],
            "text/plain": [
              "   habitantes  superficie\n",
              "0     6507184           0\n",
              "1     5609350           0\n",
              "2     2547986           0\n",
              "3     1939887           0\n",
              "4     1838819           0\n",
              "5     1641121           0"
            ]
          },
          "execution_count": 72,
          "metadata": {},
          "output_type": "execute_result"
        }
      ],
      "source": [
        "df.drop(columns=['provincia'])"
      ]
    },
    {
      "cell_type": "markdown",
      "metadata": {
        "id": "0Go4vqGwES31"
      },
      "source": [
        "Las columnas también se puede eliminar con `del` como en los diccionarios"
      ]
    },
    {
      "cell_type": "code",
      "execution_count": 73,
      "metadata": {
        "id": "T5ix-yJWES31"
      },
      "outputs": [
        {
          "data": {
            "text/html": [
              "<div>\n",
              "<style scoped>\n",
              "    .dataframe tbody tr th:only-of-type {\n",
              "        vertical-align: middle;\n",
              "    }\n",
              "\n",
              "    .dataframe tbody tr th {\n",
              "        vertical-align: top;\n",
              "    }\n",
              "\n",
              "    .dataframe thead th {\n",
              "        text-align: right;\n",
              "    }\n",
              "</style>\n",
              "<table border=\"1\" class=\"dataframe\">\n",
              "  <thead>\n",
              "    <tr style=\"text-align: right;\">\n",
              "      <th></th>\n",
              "      <th>provincia</th>\n",
              "    </tr>\n",
              "  </thead>\n",
              "  <tbody>\n",
              "    <tr>\n",
              "      <th>0</th>\n",
              "      <td>Madrid</td>\n",
              "    </tr>\n",
              "    <tr>\n",
              "      <th>1</th>\n",
              "      <td>Barcelona</td>\n",
              "    </tr>\n",
              "    <tr>\n",
              "      <th>2</th>\n",
              "      <td>Valencia</td>\n",
              "    </tr>\n",
              "    <tr>\n",
              "      <th>3</th>\n",
              "      <td>Sevilla</td>\n",
              "    </tr>\n",
              "    <tr>\n",
              "      <th>4</th>\n",
              "      <td>Alicante</td>\n",
              "    </tr>\n",
              "    <tr>\n",
              "      <th>5</th>\n",
              "      <td>Málaga</td>\n",
              "    </tr>\n",
              "  </tbody>\n",
              "</table>\n",
              "</div>"
            ],
            "text/plain": [
              "   provincia\n",
              "0     Madrid\n",
              "1  Barcelona\n",
              "2   Valencia\n",
              "3    Sevilla\n",
              "4   Alicante\n",
              "5     Málaga"
            ]
          },
          "execution_count": 73,
          "metadata": {},
          "output_type": "execute_result"
        }
      ],
      "source": [
        "if 'superficie' in df2:\n",
        "    del df2['superficie']\n",
        "df2"
      ]
    },
    {
      "cell_type": "markdown",
      "metadata": {
        "id": "m4deoPwUHB32"
      },
      "source": [
        "Una variante interesante es `pop`, que borra una fila y la devuelve"
      ]
    },
    {
      "cell_type": "code",
      "execution_count": 74,
      "metadata": {
        "id": "fElzCY8jHB32"
      },
      "outputs": [
        {
          "data": {
            "text/html": [
              "<div>\n",
              "<style scoped>\n",
              "    .dataframe tbody tr th:only-of-type {\n",
              "        vertical-align: middle;\n",
              "    }\n",
              "\n",
              "    .dataframe tbody tr th {\n",
              "        vertical-align: top;\n",
              "    }\n",
              "\n",
              "    .dataframe thead th {\n",
              "        text-align: right;\n",
              "    }\n",
              "</style>\n",
              "<table border=\"1\" class=\"dataframe\">\n",
              "  <thead>\n",
              "    <tr style=\"text-align: right;\">\n",
              "      <th></th>\n",
              "      <th>provincia</th>\n",
              "      <th>superficie</th>\n",
              "    </tr>\n",
              "  </thead>\n",
              "  <tbody>\n",
              "    <tr>\n",
              "      <th>0</th>\n",
              "      <td>Madrid</td>\n",
              "      <td>0</td>\n",
              "    </tr>\n",
              "    <tr>\n",
              "      <th>1</th>\n",
              "      <td>Barcelona</td>\n",
              "      <td>0</td>\n",
              "    </tr>\n",
              "    <tr>\n",
              "      <th>2</th>\n",
              "      <td>Valencia</td>\n",
              "      <td>0</td>\n",
              "    </tr>\n",
              "    <tr>\n",
              "      <th>3</th>\n",
              "      <td>Sevilla</td>\n",
              "      <td>0</td>\n",
              "    </tr>\n",
              "    <tr>\n",
              "      <th>4</th>\n",
              "      <td>Alicante</td>\n",
              "      <td>0</td>\n",
              "    </tr>\n",
              "    <tr>\n",
              "      <th>5</th>\n",
              "      <td>Málaga</td>\n",
              "      <td>0</td>\n",
              "    </tr>\n",
              "  </tbody>\n",
              "</table>\n",
              "</div>"
            ],
            "text/plain": [
              "   provincia  superficie\n",
              "0     Madrid           0\n",
              "1  Barcelona           0\n",
              "2   Valencia           0\n",
              "3    Sevilla           0\n",
              "4   Alicante           0\n",
              "5     Málaga           0"
            ]
          },
          "execution_count": 74,
          "metadata": {},
          "output_type": "execute_result"
        }
      ],
      "source": [
        "df2 = df.copy()\n",
        "habi = df2.pop(\"habitantes\")\n",
        "df2"
      ]
    },
    {
      "cell_type": "code",
      "execution_count": 75,
      "metadata": {
        "id": "OEzrAxsgHB33"
      },
      "outputs": [
        {
          "data": {
            "text/plain": [
              "0    6507184\n",
              "1    5609350\n",
              "2    2547986\n",
              "3    1939887\n",
              "4    1838819\n",
              "5    1641121\n",
              "Name: habitantes, dtype: int64"
            ]
          },
          "execution_count": 75,
          "metadata": {},
          "output_type": "execute_result"
        }
      ],
      "source": [
        "habi"
      ]
    },
    {
      "cell_type": "code",
      "execution_count": 76,
      "metadata": {
        "id": "hQaW2JkSHB33"
      },
      "outputs": [
        {
          "data": {
            "text/html": [
              "<div>\n",
              "<style scoped>\n",
              "    .dataframe tbody tr th:only-of-type {\n",
              "        vertical-align: middle;\n",
              "    }\n",
              "\n",
              "    .dataframe tbody tr th {\n",
              "        vertical-align: top;\n",
              "    }\n",
              "\n",
              "    .dataframe thead th {\n",
              "        text-align: right;\n",
              "    }\n",
              "</style>\n",
              "<table border=\"1\" class=\"dataframe\">\n",
              "  <thead>\n",
              "    <tr style=\"text-align: right;\">\n",
              "      <th></th>\n",
              "      <th>provincia</th>\n",
              "      <th>habitantes</th>\n",
              "      <th>superficie</th>\n",
              "    </tr>\n",
              "  </thead>\n",
              "  <tbody>\n",
              "    <tr>\n",
              "      <th>0</th>\n",
              "      <td>Madrid</td>\n",
              "      <td>6507184</td>\n",
              "      <td>0</td>\n",
              "    </tr>\n",
              "    <tr>\n",
              "      <th>1</th>\n",
              "      <td>Barcelona</td>\n",
              "      <td>5609350</td>\n",
              "      <td>0</td>\n",
              "    </tr>\n",
              "    <tr>\n",
              "      <th>2</th>\n",
              "      <td>Valencia</td>\n",
              "      <td>2547986</td>\n",
              "      <td>0</td>\n",
              "    </tr>\n",
              "    <tr>\n",
              "      <th>3</th>\n",
              "      <td>Sevilla</td>\n",
              "      <td>1939887</td>\n",
              "      <td>0</td>\n",
              "    </tr>\n",
              "    <tr>\n",
              "      <th>4</th>\n",
              "      <td>Alicante</td>\n",
              "      <td>1838819</td>\n",
              "      <td>0</td>\n",
              "    </tr>\n",
              "    <tr>\n",
              "      <th>5</th>\n",
              "      <td>Málaga</td>\n",
              "      <td>1641121</td>\n",
              "      <td>0</td>\n",
              "    </tr>\n",
              "  </tbody>\n",
              "</table>\n",
              "</div>"
            ],
            "text/plain": [
              "   provincia  habitantes  superficie\n",
              "0     Madrid     6507184           0\n",
              "1  Barcelona     5609350           0\n",
              "2   Valencia     2547986           0\n",
              "3    Sevilla     1939887           0\n",
              "4   Alicante     1838819           0\n",
              "5     Málaga     1641121           0"
            ]
          },
          "execution_count": 76,
          "metadata": {},
          "output_type": "execute_result"
        }
      ],
      "source": [
        "df"
      ]
    },
    {
      "cell_type": "markdown",
      "metadata": {},
      "source": [
        "Veamos un ejemplo con valores del IBEX"
      ]
    },
    {
      "cell_type": "code",
      "execution_count": 101,
      "metadata": {},
      "outputs": [
        {
          "data": {
            "text/html": [
              "<div>\n",
              "<style scoped>\n",
              "    .dataframe tbody tr th:only-of-type {\n",
              "        vertical-align: middle;\n",
              "    }\n",
              "\n",
              "    .dataframe tbody tr th {\n",
              "        vertical-align: top;\n",
              "    }\n",
              "\n",
              "    .dataframe thead tr th {\n",
              "        text-align: left;\n",
              "    }\n",
              "\n",
              "    .dataframe thead tr:last-of-type th {\n",
              "        text-align: right;\n",
              "    }\n",
              "</style>\n",
              "<table border=\"1\" class=\"dataframe\">\n",
              "  <thead>\n",
              "    <tr>\n",
              "      <th>Price</th>\n",
              "      <th colspan=\"10\" halign=\"left\">Close</th>\n",
              "      <th>...</th>\n",
              "      <th colspan=\"10\" halign=\"left\">Volume</th>\n",
              "    </tr>\n",
              "    <tr>\n",
              "      <th>Ticker</th>\n",
              "      <th>AMS.MC</th>\n",
              "      <th>BBVA.MC</th>\n",
              "      <th>ELE.MC</th>\n",
              "      <th>ENG.MC</th>\n",
              "      <th>ITX.MC</th>\n",
              "      <th>NTGY.MC</th>\n",
              "      <th>REP.MC</th>\n",
              "      <th>SAB.MC</th>\n",
              "      <th>SAN.MC</th>\n",
              "      <th>TEF.MC</th>\n",
              "      <th>...</th>\n",
              "      <th>AMS.MC</th>\n",
              "      <th>BBVA.MC</th>\n",
              "      <th>ELE.MC</th>\n",
              "      <th>ENG.MC</th>\n",
              "      <th>ITX.MC</th>\n",
              "      <th>NTGY.MC</th>\n",
              "      <th>REP.MC</th>\n",
              "      <th>SAB.MC</th>\n",
              "      <th>SAN.MC</th>\n",
              "      <th>TEF.MC</th>\n",
              "    </tr>\n",
              "    <tr>\n",
              "      <th>Date</th>\n",
              "      <th></th>\n",
              "      <th></th>\n",
              "      <th></th>\n",
              "      <th></th>\n",
              "      <th></th>\n",
              "      <th></th>\n",
              "      <th></th>\n",
              "      <th></th>\n",
              "      <th></th>\n",
              "      <th></th>\n",
              "      <th></th>\n",
              "      <th></th>\n",
              "      <th></th>\n",
              "      <th></th>\n",
              "      <th></th>\n",
              "      <th></th>\n",
              "      <th></th>\n",
              "      <th></th>\n",
              "      <th></th>\n",
              "      <th></th>\n",
              "      <th></th>\n",
              "    </tr>\n",
              "  </thead>\n",
              "  <tbody>\n",
              "    <tr>\n",
              "      <th>2000-01-03</th>\n",
              "      <td>NaN</td>\n",
              "      <td>4.115111</td>\n",
              "      <td>-4.093285</td>\n",
              "      <td>NaN</td>\n",
              "      <td>NaN</td>\n",
              "      <td>5.771164</td>\n",
              "      <td>6.023073</td>\n",
              "      <td>1.148128</td>\n",
              "      <td>2.659120</td>\n",
              "      <td>7.062278</td>\n",
              "      <td>...</td>\n",
              "      <td>NaN</td>\n",
              "      <td>8244257</td>\n",
              "      <td>3615680</td>\n",
              "      <td>NaN</td>\n",
              "      <td>NaN</td>\n",
              "      <td>1665096</td>\n",
              "      <td>3215655</td>\n",
              "      <td>7949</td>\n",
              "      <td>8797337</td>\n",
              "      <td>13579848</td>\n",
              "    </tr>\n",
              "    <tr>\n",
              "      <th>2000-01-04</th>\n",
              "      <td>NaN</td>\n",
              "      <td>4.007735</td>\n",
              "      <td>-3.983471</td>\n",
              "      <td>NaN</td>\n",
              "      <td>NaN</td>\n",
              "      <td>5.631790</td>\n",
              "      <td>5.820847</td>\n",
              "      <td>1.148128</td>\n",
              "      <td>2.596029</td>\n",
              "      <td>6.771314</td>\n",
              "      <td>...</td>\n",
              "      <td>NaN</td>\n",
              "      <td>8522096</td>\n",
              "      <td>4048543</td>\n",
              "      <td>NaN</td>\n",
              "      <td>NaN</td>\n",
              "      <td>1995656</td>\n",
              "      <td>3244446</td>\n",
              "      <td>3178</td>\n",
              "      <td>8811013</td>\n",
              "      <td>15091975</td>\n",
              "    </tr>\n",
              "    <tr>\n",
              "      <th>2000-01-05</th>\n",
              "      <td>NaN</td>\n",
              "      <td>3.917771</td>\n",
              "      <td>-4.013615</td>\n",
              "      <td>NaN</td>\n",
              "      <td>NaN</td>\n",
              "      <td>5.371105</td>\n",
              "      <td>5.741596</td>\n",
              "      <td>1.148128</td>\n",
              "      <td>2.532939</td>\n",
              "      <td>6.454920</td>\n",
              "      <td>...</td>\n",
              "      <td>NaN</td>\n",
              "      <td>12159826</td>\n",
              "      <td>4688995</td>\n",
              "      <td>NaN</td>\n",
              "      <td>NaN</td>\n",
              "      <td>1441158</td>\n",
              "      <td>3235272</td>\n",
              "      <td>3974</td>\n",
              "      <td>9333517</td>\n",
              "      <td>16630986</td>\n",
              "    </tr>\n",
              "    <tr>\n",
              "      <th>2000-01-06</th>\n",
              "      <td>NaN</td>\n",
              "      <td>3.917771</td>\n",
              "      <td>-4.013615</td>\n",
              "      <td>NaN</td>\n",
              "      <td>NaN</td>\n",
              "      <td>5.371105</td>\n",
              "      <td>5.741596</td>\n",
              "      <td>1.148128</td>\n",
              "      <td>2.532939</td>\n",
              "      <td>6.454920</td>\n",
              "      <td>...</td>\n",
              "      <td>NaN</td>\n",
              "      <td>0</td>\n",
              "      <td>0</td>\n",
              "      <td>NaN</td>\n",
              "      <td>NaN</td>\n",
              "      <td>0</td>\n",
              "      <td>0</td>\n",
              "      <td>0</td>\n",
              "      <td>0</td>\n",
              "      <td>0</td>\n",
              "    </tr>\n",
              "    <tr>\n",
              "      <th>2000-01-07</th>\n",
              "      <td>NaN</td>\n",
              "      <td>3.967106</td>\n",
              "      <td>-4.157880</td>\n",
              "      <td>NaN</td>\n",
              "      <td>NaN</td>\n",
              "      <td>5.758260</td>\n",
              "      <td>5.921960</td>\n",
              "      <td>1.148128</td>\n",
              "      <td>2.645098</td>\n",
              "      <td>6.466221</td>\n",
              "      <td>...</td>\n",
              "      <td>NaN</td>\n",
              "      <td>62261944</td>\n",
              "      <td>4027102</td>\n",
              "      <td>NaN</td>\n",
              "      <td>NaN</td>\n",
              "      <td>2313006</td>\n",
              "      <td>5914766</td>\n",
              "      <td>2652</td>\n",
              "      <td>9603132</td>\n",
              "      <td>17595592</td>\n",
              "    </tr>\n",
              "  </tbody>\n",
              "</table>\n",
              "<p>5 rows × 50 columns</p>\n",
              "</div>"
            ],
            "text/plain": [
              "Price       Close                                                        \\\n",
              "Ticker     AMS.MC   BBVA.MC    ELE.MC ENG.MC ITX.MC   NTGY.MC    REP.MC   \n",
              "Date                                                                      \n",
              "2000-01-03    NaN  4.115111 -4.093285    NaN    NaN  5.771164  6.023073   \n",
              "2000-01-04    NaN  4.007735 -3.983471    NaN    NaN  5.631790  5.820847   \n",
              "2000-01-05    NaN  3.917771 -4.013615    NaN    NaN  5.371105  5.741596   \n",
              "2000-01-06    NaN  3.917771 -4.013615    NaN    NaN  5.371105  5.741596   \n",
              "2000-01-07    NaN  3.967106 -4.157880    NaN    NaN  5.758260  5.921960   \n",
              "\n",
              "Price                                     ... Volume                     \\\n",
              "Ticker        SAB.MC    SAN.MC    TEF.MC  ... AMS.MC   BBVA.MC   ELE.MC   \n",
              "Date                                      ...                             \n",
              "2000-01-03  1.148128  2.659120  7.062278  ...    NaN   8244257  3615680   \n",
              "2000-01-04  1.148128  2.596029  6.771314  ...    NaN   8522096  4048543   \n",
              "2000-01-05  1.148128  2.532939  6.454920  ...    NaN  12159826  4688995   \n",
              "2000-01-06  1.148128  2.532939  6.454920  ...    NaN         0        0   \n",
              "2000-01-07  1.148128  2.645098  6.466221  ...    NaN  62261944  4027102   \n",
              "\n",
              "Price                                                                 \n",
              "Ticker     ENG.MC ITX.MC  NTGY.MC   REP.MC SAB.MC   SAN.MC    TEF.MC  \n",
              "Date                                                                  \n",
              "2000-01-03    NaN    NaN  1665096  3215655   7949  8797337  13579848  \n",
              "2000-01-04    NaN    NaN  1995656  3244446   3178  8811013  15091975  \n",
              "2000-01-05    NaN    NaN  1441158  3235272   3974  9333517  16630986  \n",
              "2000-01-06    NaN    NaN        0        0      0        0         0  \n",
              "2000-01-07    NaN    NaN  2313006  5914766   2652  9603132  17595592  \n",
              "\n",
              "[5 rows x 50 columns]"
            ]
          },
          "execution_count": 101,
          "metadata": {},
          "output_type": "execute_result"
        }
      ],
      "source": [
        "import yfinance as yf\n",
        "import pandas as pd\n",
        "\n",
        "# Diccionario: nombre -> ticker de Yahoo Finance\n",
        "tickers = {\n",
        "    'Amadeus': 'AMS.MC',\n",
        "    'Santander': 'SAN.MC',\n",
        "    'Sabadell': 'SAB.MC',\n",
        "    'BBVA': 'BBVA.MC',\n",
        "    'Enagas': 'ENG.MC',\n",
        "    'Endesa': 'ELE.MC',\n",
        "    'Inditex': 'ITX.MC',\n",
        "    'Naturgy': 'NTGY.MC',\n",
        "    'Repsol': 'REP.MC',\n",
        "    'Telefónica': 'TEF.MC'\n",
        "}\n",
        "\n",
        "# Descarga los datos (últimos 30 días por defecto)\n",
        "df_ibex = yf.download(list(tickers.values()), progress=False)\n",
        "\n",
        "\n",
        "\n",
        "# Muestra las 5 primeras filas\n",
        "df_ibex.head()\n"
      ]
    },
    {
      "cell_type": "code",
      "execution_count": 102,
      "metadata": {},
      "outputs": [
        {
          "data": {
            "text/plain": [
              "MultiIndex([( 'Close',  'AMS.MC'),\n",
              "            ( 'Close', 'BBVA.MC'),\n",
              "            ( 'Close',  'ELE.MC'),\n",
              "            ( 'Close',  'ENG.MC'),\n",
              "            ( 'Close',  'ITX.MC'),\n",
              "            ( 'Close', 'NTGY.MC'),\n",
              "            ( 'Close',  'REP.MC'),\n",
              "            ( 'Close',  'SAB.MC'),\n",
              "            ( 'Close',  'SAN.MC'),\n",
              "            ( 'Close',  'TEF.MC'),\n",
              "            (  'High',  'AMS.MC'),\n",
              "            (  'High', 'BBVA.MC'),\n",
              "            (  'High',  'ELE.MC'),\n",
              "            (  'High',  'ENG.MC'),\n",
              "            (  'High',  'ITX.MC'),\n",
              "            (  'High', 'NTGY.MC'),\n",
              "            (  'High',  'REP.MC'),\n",
              "            (  'High',  'SAB.MC'),\n",
              "            (  'High',  'SAN.MC'),\n",
              "            (  'High',  'TEF.MC'),\n",
              "            (   'Low',  'AMS.MC'),\n",
              "            (   'Low', 'BBVA.MC'),\n",
              "            (   'Low',  'ELE.MC'),\n",
              "            (   'Low',  'ENG.MC'),\n",
              "            (   'Low',  'ITX.MC'),\n",
              "            (   'Low', 'NTGY.MC'),\n",
              "            (   'Low',  'REP.MC'),\n",
              "            (   'Low',  'SAB.MC'),\n",
              "            (   'Low',  'SAN.MC'),\n",
              "            (   'Low',  'TEF.MC'),\n",
              "            (  'Open',  'AMS.MC'),\n",
              "            (  'Open', 'BBVA.MC'),\n",
              "            (  'Open',  'ELE.MC'),\n",
              "            (  'Open',  'ENG.MC'),\n",
              "            (  'Open',  'ITX.MC'),\n",
              "            (  'Open', 'NTGY.MC'),\n",
              "            (  'Open',  'REP.MC'),\n",
              "            (  'Open',  'SAB.MC'),\n",
              "            (  'Open',  'SAN.MC'),\n",
              "            (  'Open',  'TEF.MC'),\n",
              "            ('Volume',  'AMS.MC'),\n",
              "            ('Volume', 'BBVA.MC'),\n",
              "            ('Volume',  'ELE.MC'),\n",
              "            ('Volume',  'ENG.MC'),\n",
              "            ('Volume',  'ITX.MC'),\n",
              "            ('Volume', 'NTGY.MC'),\n",
              "            ('Volume',  'REP.MC'),\n",
              "            ('Volume',  'SAB.MC'),\n",
              "            ('Volume',  'SAN.MC'),\n",
              "            ('Volume',  'TEF.MC')],\n",
              "           names=['Price', 'Ticker'])"
            ]
          },
          "execution_count": 102,
          "metadata": {},
          "output_type": "execute_result"
        }
      ],
      "source": [
        "df_ibex.columns"
      ]
    },
    {
      "cell_type": "markdown",
      "metadata": {},
      "source": [
        "Esto es un índice jerárquico...cada columna tiene columnas dentro. Lo mejor es proceder paso a paso"
      ]
    },
    {
      "cell_type": "code",
      "execution_count": 104,
      "metadata": {},
      "outputs": [
        {
          "data": {
            "text/html": [
              "<div>\n",
              "<style scoped>\n",
              "    .dataframe tbody tr th:only-of-type {\n",
              "        vertical-align: middle;\n",
              "    }\n",
              "\n",
              "    .dataframe tbody tr th {\n",
              "        vertical-align: top;\n",
              "    }\n",
              "\n",
              "    .dataframe thead th {\n",
              "        text-align: right;\n",
              "    }\n",
              "</style>\n",
              "<table border=\"1\" class=\"dataframe\">\n",
              "  <thead>\n",
              "    <tr style=\"text-align: right;\">\n",
              "      <th>Ticker</th>\n",
              "      <th>AMS.MC</th>\n",
              "      <th>BBVA.MC</th>\n",
              "      <th>ELE.MC</th>\n",
              "      <th>ENG.MC</th>\n",
              "      <th>ITX.MC</th>\n",
              "      <th>NTGY.MC</th>\n",
              "      <th>REP.MC</th>\n",
              "      <th>SAB.MC</th>\n",
              "      <th>SAN.MC</th>\n",
              "      <th>TEF.MC</th>\n",
              "    </tr>\n",
              "    <tr>\n",
              "      <th>Date</th>\n",
              "      <th></th>\n",
              "      <th></th>\n",
              "      <th></th>\n",
              "      <th></th>\n",
              "      <th></th>\n",
              "      <th></th>\n",
              "      <th></th>\n",
              "      <th></th>\n",
              "      <th></th>\n",
              "      <th></th>\n",
              "    </tr>\n",
              "  </thead>\n",
              "  <tbody>\n",
              "    <tr>\n",
              "      <th>2000-01-03</th>\n",
              "      <td>NaN</td>\n",
              "      <td>4.115111</td>\n",
              "      <td>-4.093285</td>\n",
              "      <td>NaN</td>\n",
              "      <td>NaN</td>\n",
              "      <td>5.771164</td>\n",
              "      <td>6.023073</td>\n",
              "      <td>1.148128</td>\n",
              "      <td>2.659120</td>\n",
              "      <td>7.062278</td>\n",
              "    </tr>\n",
              "    <tr>\n",
              "      <th>2000-01-04</th>\n",
              "      <td>NaN</td>\n",
              "      <td>4.007735</td>\n",
              "      <td>-3.983471</td>\n",
              "      <td>NaN</td>\n",
              "      <td>NaN</td>\n",
              "      <td>5.631790</td>\n",
              "      <td>5.820847</td>\n",
              "      <td>1.148128</td>\n",
              "      <td>2.596029</td>\n",
              "      <td>6.771314</td>\n",
              "    </tr>\n",
              "    <tr>\n",
              "      <th>2000-01-05</th>\n",
              "      <td>NaN</td>\n",
              "      <td>3.917771</td>\n",
              "      <td>-4.013615</td>\n",
              "      <td>NaN</td>\n",
              "      <td>NaN</td>\n",
              "      <td>5.371105</td>\n",
              "      <td>5.741596</td>\n",
              "      <td>1.148128</td>\n",
              "      <td>2.532939</td>\n",
              "      <td>6.454920</td>\n",
              "    </tr>\n",
              "    <tr>\n",
              "      <th>2000-01-06</th>\n",
              "      <td>NaN</td>\n",
              "      <td>3.917771</td>\n",
              "      <td>-4.013615</td>\n",
              "      <td>NaN</td>\n",
              "      <td>NaN</td>\n",
              "      <td>5.371105</td>\n",
              "      <td>5.741596</td>\n",
              "      <td>1.148128</td>\n",
              "      <td>2.532939</td>\n",
              "      <td>6.454920</td>\n",
              "    </tr>\n",
              "    <tr>\n",
              "      <th>2000-01-07</th>\n",
              "      <td>NaN</td>\n",
              "      <td>3.967106</td>\n",
              "      <td>-4.157880</td>\n",
              "      <td>NaN</td>\n",
              "      <td>NaN</td>\n",
              "      <td>5.758260</td>\n",
              "      <td>5.921960</td>\n",
              "      <td>1.148128</td>\n",
              "      <td>2.645098</td>\n",
              "      <td>6.466221</td>\n",
              "    </tr>\n",
              "    <tr>\n",
              "      <th>...</th>\n",
              "      <td>...</td>\n",
              "      <td>...</td>\n",
              "      <td>...</td>\n",
              "      <td>...</td>\n",
              "      <td>...</td>\n",
              "      <td>...</td>\n",
              "      <td>...</td>\n",
              "      <td>...</td>\n",
              "      <td>...</td>\n",
              "      <td>...</td>\n",
              "    </tr>\n",
              "    <tr>\n",
              "      <th>2025-05-19</th>\n",
              "      <td>72.620003</td>\n",
              "      <td>13.465000</td>\n",
              "      <td>26.510000</td>\n",
              "      <td>13.490</td>\n",
              "      <td>48.500000</td>\n",
              "      <td>26.219999</td>\n",
              "      <td>11.715000</td>\n",
              "      <td>2.770000</td>\n",
              "      <td>6.943000</td>\n",
              "      <td>4.496000</td>\n",
              "    </tr>\n",
              "    <tr>\n",
              "      <th>2025-05-20</th>\n",
              "      <td>73.480003</td>\n",
              "      <td>13.770000</td>\n",
              "      <td>27.150000</td>\n",
              "      <td>13.660</td>\n",
              "      <td>48.450001</td>\n",
              "      <td>26.500000</td>\n",
              "      <td>11.810000</td>\n",
              "      <td>2.825000</td>\n",
              "      <td>7.044000</td>\n",
              "      <td>4.550000</td>\n",
              "    </tr>\n",
              "    <tr>\n",
              "      <th>2025-05-21</th>\n",
              "      <td>73.680000</td>\n",
              "      <td>13.695000</td>\n",
              "      <td>27.260000</td>\n",
              "      <td>13.810</td>\n",
              "      <td>48.570000</td>\n",
              "      <td>26.500000</td>\n",
              "      <td>11.755000</td>\n",
              "      <td>2.786000</td>\n",
              "      <td>7.036000</td>\n",
              "      <td>4.571000</td>\n",
              "    </tr>\n",
              "    <tr>\n",
              "      <th>2025-05-22</th>\n",
              "      <td>73.099998</td>\n",
              "      <td>13.680000</td>\n",
              "      <td>27.370001</td>\n",
              "      <td>13.835</td>\n",
              "      <td>48.230000</td>\n",
              "      <td>26.459999</td>\n",
              "      <td>11.600000</td>\n",
              "      <td>2.822000</td>\n",
              "      <td>7.074000</td>\n",
              "      <td>4.607000</td>\n",
              "    </tr>\n",
              "    <tr>\n",
              "      <th>2025-05-23</th>\n",
              "      <td>72.320000</td>\n",
              "      <td>13.265000</td>\n",
              "      <td>27.469999</td>\n",
              "      <td>14.050</td>\n",
              "      <td>47.070000</td>\n",
              "      <td>26.340000</td>\n",
              "      <td>11.495000</td>\n",
              "      <td>2.759000</td>\n",
              "      <td>6.970000</td>\n",
              "      <td>4.606000</td>\n",
              "    </tr>\n",
              "  </tbody>\n",
              "</table>\n",
              "<p>6520 rows × 10 columns</p>\n",
              "</div>"
            ],
            "text/plain": [
              "Ticker         AMS.MC    BBVA.MC     ELE.MC  ENG.MC     ITX.MC    NTGY.MC  \\\n",
              "Date                                                                        \n",
              "2000-01-03        NaN   4.115111  -4.093285     NaN        NaN   5.771164   \n",
              "2000-01-04        NaN   4.007735  -3.983471     NaN        NaN   5.631790   \n",
              "2000-01-05        NaN   3.917771  -4.013615     NaN        NaN   5.371105   \n",
              "2000-01-06        NaN   3.917771  -4.013615     NaN        NaN   5.371105   \n",
              "2000-01-07        NaN   3.967106  -4.157880     NaN        NaN   5.758260   \n",
              "...               ...        ...        ...     ...        ...        ...   \n",
              "2025-05-19  72.620003  13.465000  26.510000  13.490  48.500000  26.219999   \n",
              "2025-05-20  73.480003  13.770000  27.150000  13.660  48.450001  26.500000   \n",
              "2025-05-21  73.680000  13.695000  27.260000  13.810  48.570000  26.500000   \n",
              "2025-05-22  73.099998  13.680000  27.370001  13.835  48.230000  26.459999   \n",
              "2025-05-23  72.320000  13.265000  27.469999  14.050  47.070000  26.340000   \n",
              "\n",
              "Ticker         REP.MC    SAB.MC    SAN.MC    TEF.MC  \n",
              "Date                                                 \n",
              "2000-01-03   6.023073  1.148128  2.659120  7.062278  \n",
              "2000-01-04   5.820847  1.148128  2.596029  6.771314  \n",
              "2000-01-05   5.741596  1.148128  2.532939  6.454920  \n",
              "2000-01-06   5.741596  1.148128  2.532939  6.454920  \n",
              "2000-01-07   5.921960  1.148128  2.645098  6.466221  \n",
              "...               ...       ...       ...       ...  \n",
              "2025-05-19  11.715000  2.770000  6.943000  4.496000  \n",
              "2025-05-20  11.810000  2.825000  7.044000  4.550000  \n",
              "2025-05-21  11.755000  2.786000  7.036000  4.571000  \n",
              "2025-05-22  11.600000  2.822000  7.074000  4.607000  \n",
              "2025-05-23  11.495000  2.759000  6.970000  4.606000  \n",
              "\n",
              "[6520 rows x 10 columns]"
            ]
          },
          "execution_count": 104,
          "metadata": {},
          "output_type": "execute_result"
        }
      ],
      "source": [
        "df_close = df_ibex[\"Close\"]\n",
        "df_close"
      ]
    },
    {
      "cell_type": "code",
      "execution_count": 105,
      "metadata": {},
      "outputs": [
        {
          "data": {
            "text/plain": [
              "Date\n",
              "2000-01-03     4.115111\n",
              "2000-01-04     4.007735\n",
              "2000-01-05     3.917771\n",
              "2000-01-06     3.917771\n",
              "2000-01-07     3.967106\n",
              "                ...    \n",
              "2025-05-19    13.465000\n",
              "2025-05-20    13.770000\n",
              "2025-05-21    13.695000\n",
              "2025-05-22    13.680000\n",
              "2025-05-23    13.265000\n",
              "Name: BBVA.MC, Length: 6520, dtype: float64"
            ]
          },
          "execution_count": 105,
          "metadata": {},
          "output_type": "execute_result"
        }
      ],
      "source": [
        "df_close[\"BBVA.MC\"]"
      ]
    },
    {
      "cell_type": "markdown",
      "metadata": {
        "id": "7BOnGEpvN57o"
      },
      "source": [
        "### Filtros\n",
        "\n",
        "Para *filtrar* filas lo normal es escribir una expresión booleana que solo cumplan las filas que queremos y acceder mediante este filtro"
      ]
    },
    {
      "cell_type": "code",
      "execution_count": 77,
      "metadata": {
        "id": "WLKPYyQJPy14"
      },
      "outputs": [
        {
          "data": {
            "text/html": [
              "<div>\n",
              "<style scoped>\n",
              "    .dataframe tbody tr th:only-of-type {\n",
              "        vertical-align: middle;\n",
              "    }\n",
              "\n",
              "    .dataframe tbody tr th {\n",
              "        vertical-align: top;\n",
              "    }\n",
              "\n",
              "    .dataframe thead th {\n",
              "        text-align: right;\n",
              "    }\n",
              "</style>\n",
              "<table border=\"1\" class=\"dataframe\">\n",
              "  <thead>\n",
              "    <tr style=\"text-align: right;\">\n",
              "      <th></th>\n",
              "      <th>ciudades</th>\n",
              "      <th>habitantes</th>\n",
              "    </tr>\n",
              "  </thead>\n",
              "  <tbody>\n",
              "    <tr>\n",
              "      <th>Capital</th>\n",
              "      <td>Madrid</td>\n",
              "      <td>6507184</td>\n",
              "    </tr>\n",
              "    <tr>\n",
              "      <th>Capital Com. Autonoma</th>\n",
              "      <td>Barcelona</td>\n",
              "      <td>5609350</td>\n",
              "    </tr>\n",
              "    <tr>\n",
              "      <th>Capital Com. Autonoma</th>\n",
              "      <td>Valencia</td>\n",
              "      <td>2547986</td>\n",
              "    </tr>\n",
              "    <tr>\n",
              "      <th>Ciudad</th>\n",
              "      <td>Sevilla</td>\n",
              "      <td>1939887</td>\n",
              "    </tr>\n",
              "    <tr>\n",
              "      <th>Ciudad</th>\n",
              "      <td>Alicante</td>\n",
              "      <td>1838819</td>\n",
              "    </tr>\n",
              "    <tr>\n",
              "      <th>Ciudad</th>\n",
              "      <td>Málaga</td>\n",
              "      <td>1694089</td>\n",
              "    </tr>\n",
              "  </tbody>\n",
              "</table>\n",
              "</div>"
            ],
            "text/plain": [
              "                        ciudades  habitantes\n",
              "Capital                   Madrid     6507184\n",
              "Capital Com. Autonoma  Barcelona     5609350\n",
              "Capital Com. Autonoma   Valencia     2547986\n",
              "Ciudad                   Sevilla     1939887\n",
              "Ciudad                  Alicante     1838819\n",
              "Ciudad                    Málaga     1694089"
            ]
          },
          "execution_count": 77,
          "metadata": {},
          "output_type": "execute_result"
        }
      ],
      "source": [
        "datos = [['Madrid', 6507184], ['Barcelona', 5609350],\n",
        "         ['Valencia', 2547986], ['Sevilla', 1939887],\n",
        "         ['Alicante', 1838819], ['Málaga',1694089]  ]\n",
        "df = pd.DataFrame(datos ,columns=['ciudades','habitantes'],\n",
        "               index=['Capital','Capital Com. Autonoma','Capital Com. Autonoma','Ciudad','Ciudad','Ciudad'])\n",
        "\n",
        "df"
      ]
    },
    {
      "cell_type": "markdown",
      "metadata": {
        "id": "de7u9rYQO5uv"
      },
      "source": [
        "Ciudades con más de 200000 habitantes"
      ]
    },
    {
      "cell_type": "code",
      "execution_count": 78,
      "metadata": {
        "id": "dPFIAY1cPA-f"
      },
      "outputs": [
        {
          "data": {
            "text/html": [
              "<div>\n",
              "<style scoped>\n",
              "    .dataframe tbody tr th:only-of-type {\n",
              "        vertical-align: middle;\n",
              "    }\n",
              "\n",
              "    .dataframe tbody tr th {\n",
              "        vertical-align: top;\n",
              "    }\n",
              "\n",
              "    .dataframe thead th {\n",
              "        text-align: right;\n",
              "    }\n",
              "</style>\n",
              "<table border=\"1\" class=\"dataframe\">\n",
              "  <thead>\n",
              "    <tr style=\"text-align: right;\">\n",
              "      <th></th>\n",
              "      <th>ciudades</th>\n",
              "      <th>habitantes</th>\n",
              "    </tr>\n",
              "  </thead>\n",
              "  <tbody>\n",
              "    <tr>\n",
              "      <th>Capital</th>\n",
              "      <td>Madrid</td>\n",
              "      <td>6507184</td>\n",
              "    </tr>\n",
              "    <tr>\n",
              "      <th>Capital Com. Autonoma</th>\n",
              "      <td>Barcelona</td>\n",
              "      <td>5609350</td>\n",
              "    </tr>\n",
              "    <tr>\n",
              "      <th>Capital Com. Autonoma</th>\n",
              "      <td>Valencia</td>\n",
              "      <td>2547986</td>\n",
              "    </tr>\n",
              "  </tbody>\n",
              "</table>\n",
              "</div>"
            ],
            "text/plain": [
              "                        ciudades  habitantes\n",
              "Capital                   Madrid     6507184\n",
              "Capital Com. Autonoma  Barcelona     5609350\n",
              "Capital Com. Autonoma   Valencia     2547986"
            ]
          },
          "execution_count": 78,
          "metadata": {},
          "output_type": "execute_result"
        }
      ],
      "source": [
        "filtro = df.habitantes > 2000000\n",
        "df2 = df[filtro]\n",
        "df2"
      ]
    },
    {
      "cell_type": "markdown",
      "metadata": {
        "id": "WryDmJu9PRej"
      },
      "source": [
        "Esto es importante pero bastante complejo. Para entenderlo veamos primero el filtro"
      ]
    },
    {
      "cell_type": "code",
      "execution_count": 79,
      "metadata": {
        "id": "nzOBHIbXPmAX"
      },
      "outputs": [
        {
          "data": {
            "text/plain": [
              "Capital                   True\n",
              "Capital Com. Autonoma     True\n",
              "Capital Com. Autonoma     True\n",
              "Ciudad                   False\n",
              "Ciudad                   False\n",
              "Ciudad                   False\n",
              "Name: habitantes, dtype: bool"
            ]
          },
          "execution_count": 79,
          "metadata": {},
          "output_type": "execute_result"
        }
      ],
      "source": [
        "filtro"
      ]
    },
    {
      "cell_type": "markdown",
      "metadata": {
        "id": "GZDo2jsWPp9m"
      },
      "source": [
        "Aquí el índice no es importante, lo importante es que hay un True en cada fila que cumple la condición y un false en la que no.\n",
        "\n",
        "Y Python permite usar una secuencia de Trues y False para acceder a elementos, devolviendo solo en los que hay Trues; por eso df[filtro] es equivalente a"
      ]
    },
    {
      "cell_type": "code",
      "execution_count": 80,
      "metadata": {
        "id": "HVbyWYfVP7Eu"
      },
      "outputs": [
        {
          "data": {
            "text/html": [
              "<div>\n",
              "<style scoped>\n",
              "    .dataframe tbody tr th:only-of-type {\n",
              "        vertical-align: middle;\n",
              "    }\n",
              "\n",
              "    .dataframe tbody tr th {\n",
              "        vertical-align: top;\n",
              "    }\n",
              "\n",
              "    .dataframe thead th {\n",
              "        text-align: right;\n",
              "    }\n",
              "</style>\n",
              "<table border=\"1\" class=\"dataframe\">\n",
              "  <thead>\n",
              "    <tr style=\"text-align: right;\">\n",
              "      <th></th>\n",
              "      <th>ciudades</th>\n",
              "      <th>habitantes</th>\n",
              "    </tr>\n",
              "  </thead>\n",
              "  <tbody>\n",
              "    <tr>\n",
              "      <th>Capital</th>\n",
              "      <td>Madrid</td>\n",
              "      <td>6507184</td>\n",
              "    </tr>\n",
              "    <tr>\n",
              "      <th>Capital Com. Autonoma</th>\n",
              "      <td>Barcelona</td>\n",
              "      <td>5609350</td>\n",
              "    </tr>\n",
              "    <tr>\n",
              "      <th>Capital Com. Autonoma</th>\n",
              "      <td>Valencia</td>\n",
              "      <td>2547986</td>\n",
              "    </tr>\n",
              "  </tbody>\n",
              "</table>\n",
              "</div>"
            ],
            "text/plain": [
              "                        ciudades  habitantes\n",
              "Capital                   Madrid     6507184\n",
              "Capital Com. Autonoma  Barcelona     5609350\n",
              "Capital Com. Autonoma   Valencia     2547986"
            ]
          },
          "execution_count": 80,
          "metadata": {},
          "output_type": "execute_result"
        }
      ],
      "source": [
        "df[[True,True,True,False,False,False]]"
      ]
    },
    {
      "cell_type": "markdown",
      "metadata": {
        "id": "qU1U3heOQaBk"
      },
      "source": [
        "**Ejemplo** La función de strings `startswith` indica si un string empieza por una letra"
      ]
    },
    {
      "cell_type": "code",
      "execution_count": 81,
      "metadata": {
        "id": "otpfX1xLQjol"
      },
      "outputs": [
        {
          "name": "stdout",
          "output_type": "stream",
          "text": [
            "True\n",
            "False\n"
          ]
        }
      ],
      "source": [
        "s = \"Barcerlona\"\n",
        "print(s.startswith(\"B\"))\n",
        "print(s.startswith(\"V\"))"
      ]
    },
    {
      "cell_type": "markdown",
      "metadata": {
        "id": "zTPNa9hEQuVh"
      },
      "source": [
        "vamos a usarla para quedarnos solo con las ciudades que empiezan por M"
      ]
    },
    {
      "cell_type": "code",
      "execution_count": 82,
      "metadata": {
        "id": "LQ0s3eZMO_Ln"
      },
      "outputs": [
        {
          "data": {
            "text/html": [
              "<div>\n",
              "<style scoped>\n",
              "    .dataframe tbody tr th:only-of-type {\n",
              "        vertical-align: middle;\n",
              "    }\n",
              "\n",
              "    .dataframe tbody tr th {\n",
              "        vertical-align: top;\n",
              "    }\n",
              "\n",
              "    .dataframe thead th {\n",
              "        text-align: right;\n",
              "    }\n",
              "</style>\n",
              "<table border=\"1\" class=\"dataframe\">\n",
              "  <thead>\n",
              "    <tr style=\"text-align: right;\">\n",
              "      <th></th>\n",
              "      <th>ciudades</th>\n",
              "      <th>habitantes</th>\n",
              "    </tr>\n",
              "  </thead>\n",
              "  <tbody>\n",
              "    <tr>\n",
              "      <th>Capital</th>\n",
              "      <td>Madrid</td>\n",
              "      <td>6507184</td>\n",
              "    </tr>\n",
              "    <tr>\n",
              "      <th>Ciudad</th>\n",
              "      <td>Málaga</td>\n",
              "      <td>1694089</td>\n",
              "    </tr>\n",
              "  </tbody>\n",
              "</table>\n",
              "</div>"
            ],
            "text/plain": [
              "        ciudades  habitantes\n",
              "Capital   Madrid     6507184\n",
              "Ciudad    Málaga     1694089"
            ]
          },
          "execution_count": 82,
          "metadata": {},
          "output_type": "execute_result"
        }
      ],
      "source": [
        "filtro = df.ciudades.str.startswith(\"M\")  # ciudades cuyo nombre empieza por M\n",
        "\n",
        "df2 = df[filtro]\n",
        "df2"
      ]
    },
    {
      "cell_type": "code",
      "execution_count": 83,
      "metadata": {
        "id": "_xnm6GH_6M4M"
      },
      "outputs": [
        {
          "data": {
            "text/plain": [
              "Capital                   True\n",
              "Capital Com. Autonoma    False\n",
              "Capital Com. Autonoma    False\n",
              "Ciudad                   False\n",
              "Ciudad                   False\n",
              "Ciudad                    True\n",
              "Name: ciudades, dtype: bool"
            ]
          },
          "execution_count": 83,
          "metadata": {},
          "output_type": "execute_result"
        }
      ],
      "source": [
        "filtro"
      ]
    },
    {
      "cell_type": "markdown",
      "metadata": {
        "id": "oFexrnxL6FQV"
      },
      "source": [
        "**Detalle**: Fijarse en el df.ciudades**.str**.startswith(\"M\"). Es necesario porque al ser `startswith` una función que solo vale para strings tenemos que \"avisar\" a Python de que la función es de tipo string, cuando por defecto las considera numéricas. Además de *str* existe otro para indicar que la columna es una fecha, *dt*.\n",
        "\n",
        "Si lo que queremos es saber cuántos elementos cumplen el filtro, nos basta con recordar que los Trues se corresponden con 1s, y los Falses con 0s."
      ]
    },
    {
      "cell_type": "code",
      "execution_count": 84,
      "metadata": {
        "id": "havcbeiH6UST"
      },
      "outputs": [
        {
          "data": {
            "text/plain": [
              "2"
            ]
          },
          "execution_count": 84,
          "metadata": {},
          "output_type": "execute_result"
        }
      ],
      "source": [
        "sum(filtro)"
      ]
    },
    {
      "cell_type": "markdown",
      "metadata": {
        "id": "wDzbQZgCSnuR"
      },
      "source": [
        "**Ejercicio 4**\n",
        "\n",
        "a) Cargar el fichero \"https://raw.githubusercontent.com/RafaelCaballero/tdm/master/datos/parocomunidades.csv\" que está con codificación (`encoding`) \"latin1\" y dejarlo en un dataframe `df_paro`\n",
        "\n",
        "\n"
      ]
    },
    {
      "cell_type": "code",
      "execution_count": 85,
      "metadata": {
        "id": "blH6MPMhWSVZ"
      },
      "outputs": [],
      "source": [
        "import pandas as pd\n",
        "url = \"https://raw.githubusercontent.com/RafaelCaballero/tdm/master/datos/parocomunidades.csv\"\n"
      ]
    },
    {
      "cell_type": "markdown",
      "metadata": {
        "id": "pUo_UonaSrZ4"
      },
      "source": [
        "b) Mostrar solo las filas de `df_paro` que corresponden al Periodo 2019"
      ]
    },
    {
      "cell_type": "code",
      "execution_count": null,
      "metadata": {
        "id": "yVnoRtAfTbwU"
      },
      "outputs": [],
      "source": []
    },
    {
      "cell_type": "markdown",
      "metadata": {
        "id": "zMPcr-UlT70e"
      },
      "source": [
        "c) Mostrar solo las filas de `df_paro` que corresponden a un total mayor de 15"
      ]
    },
    {
      "cell_type": "code",
      "execution_count": null,
      "metadata": {
        "id": "v6su4JVMT_DG"
      },
      "outputs": [],
      "source": []
    },
    {
      "cell_type": "markdown",
      "metadata": {
        "id": "x2YQIP2XUYps"
      },
      "source": [
        "d) (más difícil) Mostrar solo las filas que corresponden al Periodo 2019 y tienen Total mayor de 15"
      ]
    },
    {
      "cell_type": "code",
      "execution_count": null,
      "metadata": {
        "id": "NGgr20UlUVzm"
      },
      "outputs": [],
      "source": [
        "\n"
      ]
    },
    {
      "cell_type": "markdown",
      "metadata": {
        "id": "5AsbShKoVD4G"
      },
      "source": [
        "**Nota** Para combinar varias condiciones en un filtro se utilizan los operadores de bit: `&` en lugar de `and`, `|` en lugar de `or` y `~` en lugar de not."
      ]
    },
    {
      "cell_type": "markdown",
      "metadata": {
        "id": "6IcVjXC5VWvG"
      },
      "source": [
        "**Ejemplo**\n",
        "\n",
        "Queremos todos los datos de `df_paro` salvo los de Andalucía"
      ]
    },
    {
      "cell_type": "code",
      "execution_count": 91,
      "metadata": {
        "id": "DZxByKcOVh3S"
      },
      "outputs": [
        {
          "data": {
            "text/html": [
              "<div>\n",
              "<style scoped>\n",
              "    .dataframe tbody tr th:only-of-type {\n",
              "        vertical-align: middle;\n",
              "    }\n",
              "\n",
              "    .dataframe tbody tr th {\n",
              "        vertical-align: top;\n",
              "    }\n",
              "\n",
              "    .dataframe thead th {\n",
              "        text-align: right;\n",
              "    }\n",
              "</style>\n",
              "<table border=\"1\" class=\"dataframe\">\n",
              "  <thead>\n",
              "    <tr style=\"text-align: right;\">\n",
              "      <th></th>\n",
              "      <th>Comunidad</th>\n",
              "      <th>Periodo</th>\n",
              "      <th>Total</th>\n",
              "    </tr>\n",
              "  </thead>\n",
              "  <tbody>\n",
              "    <tr>\n",
              "      <th>0</th>\n",
              "      <td>Andalucía</td>\n",
              "      <td>2023</td>\n",
              "      <td>18.67</td>\n",
              "    </tr>\n",
              "    <tr>\n",
              "      <th>1</th>\n",
              "      <td>Andalucía</td>\n",
              "      <td>2022</td>\n",
              "      <td>19.00</td>\n",
              "    </tr>\n",
              "    <tr>\n",
              "      <th>2</th>\n",
              "      <td>Andalucía</td>\n",
              "      <td>2021</td>\n",
              "      <td>20.18</td>\n",
              "    </tr>\n",
              "    <tr>\n",
              "      <th>3</th>\n",
              "      <td>Andalucía</td>\n",
              "      <td>2020</td>\n",
              "      <td>22.74</td>\n",
              "    </tr>\n",
              "    <tr>\n",
              "      <th>4</th>\n",
              "      <td>Andalucía</td>\n",
              "      <td>2019</td>\n",
              "      <td>20.80</td>\n",
              "    </tr>\n",
              "    <tr>\n",
              "      <th>...</th>\n",
              "      <td>...</td>\n",
              "      <td>...</td>\n",
              "      <td>...</td>\n",
              "    </tr>\n",
              "    <tr>\n",
              "      <th>413</th>\n",
              "      <td>Melilla</td>\n",
              "      <td>2006</td>\n",
              "      <td>9.86</td>\n",
              "    </tr>\n",
              "    <tr>\n",
              "      <th>414</th>\n",
              "      <td>Melilla</td>\n",
              "      <td>2005</td>\n",
              "      <td>12.33</td>\n",
              "    </tr>\n",
              "    <tr>\n",
              "      <th>415</th>\n",
              "      <td>Melilla</td>\n",
              "      <td>2004</td>\n",
              "      <td>12.49</td>\n",
              "    </tr>\n",
              "    <tr>\n",
              "      <th>416</th>\n",
              "      <td>Melilla</td>\n",
              "      <td>2003</td>\n",
              "      <td>19.88</td>\n",
              "    </tr>\n",
              "    <tr>\n",
              "      <th>417</th>\n",
              "      <td>Melilla</td>\n",
              "      <td>2002</td>\n",
              "      <td>3.57</td>\n",
              "    </tr>\n",
              "  </tbody>\n",
              "</table>\n",
              "<p>418 rows × 3 columns</p>\n",
              "</div>"
            ],
            "text/plain": [
              "      Comunidad  Periodo  Total\n",
              "0     Andalucía     2023  18.67\n",
              "1     Andalucía     2022  19.00\n",
              "2     Andalucía     2021  20.18\n",
              "3     Andalucía     2020  22.74\n",
              "4     Andalucía     2019  20.80\n",
              "..          ...      ...    ...\n",
              "413     Melilla     2006   9.86\n",
              "414     Melilla     2005  12.33\n",
              "415     Melilla     2004  12.49\n",
              "416     Melilla     2003  19.88\n",
              "417     Melilla     2002   3.57\n",
              "\n",
              "[418 rows x 3 columns]"
            ]
          },
          "execution_count": 91,
          "metadata": {},
          "output_type": "execute_result"
        }
      ],
      "source": [
        "# método 1\n",
        "import pandas as pd\n",
        "url = \"https://raw.githubusercontent.com/RafaelCaballero/tdm/master/datos/parocomunidades.csv\"\n",
        "df_paro = pd.read_csv(url, encoding=\"latin1\")\n",
        "filtro = df_paro[\"Comunidad\"]!=\"Andalucía\"\n",
        "df_paro[filtro]"
      ]
    },
    {
      "cell_type": "code",
      "execution_count": null,
      "metadata": {
        "id": "LLAzIj-RVsMR"
      },
      "outputs": [],
      "source": [
        "# método 2, más raro\n",
        "filtro = df_paro[\"Comunidad\"]==\"Andalucía\"\n",
        "df_paro[~filtro]"
      ]
    },
    {
      "cell_type": "markdown",
      "metadata": {
        "id": "zpqYtd--ES32"
      },
      "source": [
        "**Ejercicio 5** Consideramos este DataFrame"
      ]
    },
    {
      "cell_type": "code",
      "execution_count": null,
      "metadata": {
        "id": "huFZrkYaES32"
      },
      "outputs": [],
      "source": [
        "data = [[1,2,3,4,5,6,7],\n",
        "        [1,2,0,0,0,6,7],\n",
        "        [1,2,0,0,0,6,7],\n",
        "        [1,2,0,0,0,6,7],\n",
        "        [1,2,3,4,5,6,7],\n",
        "       ]\n",
        "df = pd.DataFrame(data)\n",
        "df"
      ]
    },
    {
      "cell_type": "markdown",
      "metadata": {
        "id": "Le7rxBF2ES32"
      },
      "source": [
        "Encontrar una expresión de cambiar todos los 0s por 9s (hay varias formas, alguna utilizando posiciones y alguna otra sin posiciones)"
      ]
    },
    {
      "cell_type": "code",
      "execution_count": null,
      "metadata": {
        "id": "rwzf_fijES32"
      },
      "outputs": [],
      "source": []
    },
    {
      "cell_type": "code",
      "execution_count": null,
      "metadata": {
        "id": "icpk5jJnES32"
      },
      "outputs": [],
      "source": []
    },
    {
      "cell_type": "markdown",
      "metadata": {
        "id": "I42_FCGts29k"
      },
      "source": [
        "### Añadir filas\n",
        "\n",
        "Veamos como [añadir filas](https://www.stackvidhya.com/add-row-to-dataframe/#:~:text=You%20can%20add%20rows%20to,append()) a un dataframe ya existente con append"
      ]
    },
    {
      "cell_type": "code",
      "execution_count": null,
      "metadata": {
        "id": "AIFlVtkZES32"
      },
      "outputs": [],
      "source": [
        "datos = [['Madrid', 6507184], ['Barcelona', 5609350],\n",
        "         ['Valencia', 2547986], ['Sevilla', 1939887],\n",
        "         ['Alicante', 1838819], ['Málaga',1694089]  ]\n",
        "df = pd.DataFrame(datos ,columns=['ciudades','habitantes'])\n",
        "df"
      ]
    },
    {
      "cell_type": "code",
      "execution_count": null,
      "metadata": {
        "id": "fvnraLRlt-Uj"
      },
      "outputs": [],
      "source": [
        "df = df.append( {'ciudades':'Cáceres', 'habitantes': 394151 }, ignore_index = True)\n",
        "df"
      ]
    },
    {
      "cell_type": "markdown",
      "metadata": {
        "id": "4sLJG_WiweR8"
      },
      "source": [
        "Ahora añadimos una columna con la superficie"
      ]
    },
    {
      "cell_type": "code",
      "execution_count": null,
      "metadata": {
        "id": "f7V87HQDwh2C"
      },
      "outputs": [],
      "source": [
        "df[\"superficie\"] = [8027, 7773, 10807,14036,5817,7306, 19868]\n",
        "df"
      ]
    },
    {
      "cell_type": "markdown",
      "metadata": {
        "id": "QhMxqPnKxxbC"
      },
      "source": [
        "Y obtenemos la densidad:"
      ]
    },
    {
      "cell_type": "code",
      "execution_count": null,
      "metadata": {
        "id": "UYG5b0D_x3VU"
      },
      "outputs": [],
      "source": [
        "df[\"densidad\"] = df[\"habitantes\"]/df[\"superficie\"]\n",
        "df"
      ]
    },
    {
      "cell_type": "markdown",
      "metadata": {
        "id": "tdrW-KOkustH"
      },
      "source": []
    },
    {
      "cell_type": "markdown",
      "metadata": {
        "id": "B2BgI9CTHB38"
      },
      "source": [
        "### Ordenar"
      ]
    },
    {
      "cell_type": "markdown",
      "metadata": {
        "id": "zqefeh-DHB38"
      },
      "source": [
        "Para ordenar utilizaremos `sort_values`"
      ]
    },
    {
      "cell_type": "code",
      "execution_count": null,
      "metadata": {
        "id": "iAHhpqVg2nuc"
      },
      "outputs": [],
      "source": [
        "datos = [['Madrid', 6507184], ['Barcelona', 5609350],\n",
        "         ['Valencia', 2547986], ['Sevilla', 1939887],\n",
        "         ['Alicante', 1838819], ['Málaga',1694089]  ]\n",
        "df = pd.DataFrame(datos ,columns=['provincia','habitantes'])\n",
        "df_ordenado = df.sort_values(by='provincia', ascending=True)\n",
        "df_ordenado"
      ]
    },
    {
      "cell_type": "markdown",
      "metadata": {
        "id": "8yAu6YK0HB39"
      },
      "source": [
        "Ordenar por dos columnas"
      ]
    },
    {
      "cell_type": "code",
      "execution_count": null,
      "metadata": {
        "id": "6C4c5LgcHB39"
      },
      "outputs": [],
      "source": [
        "datos = [['Bertoldo', 'Cacaseno'], ['Aniceto', 'Cacaseno'],\n",
        "         ['Herminia', 'Ducasse'], ['Calixta', 'Albrich'] ]\n",
        "df = pd.DataFrame(datos ,columns=['nombre','apellido'])\n",
        "df.sort_values(by='apellido',ascending=True)"
      ]
    },
    {
      "cell_type": "code",
      "execution_count": null,
      "metadata": {
        "id": "kT3XgduFHB39"
      },
      "outputs": [],
      "source": [
        "df.sort_values(by=['apellido','nombre'],ascending=True)"
      ]
    },
    {
      "cell_type": "markdown",
      "metadata": {
        "id": "AEA1DYeEHB39"
      },
      "source": [
        "<a name=\"Samples\"></a>\n",
        "## Muestras\n",
        "\n",
        "En ocasiones nos interesará tomar muestras de un dataset muy grande para tener unos pocos datos manejables y representativos\n",
        "\n",
        "Las muestras también se utilizarán en nuestros experimentos con datos, dividiendo el conjunto en dos:\n",
        "\n",
        "- Entrenamiento\n",
        "\n",
        "- Test\n",
        "\n",
        "El conjunto de entrenamiento lo usaremos para nuestras hipótesis, nuestros modelos. Una vez realizado el modelo lo probaremos con datos \"nuevos\" los datos de test\n",
        "\n",
        "En ambos casos utilizaremos [sample](https://pandas.pydata.org/docs/reference/api/pandas.DataFrame.sample.html) al que se puede pasar la proporción de datos a obtener o el número de valores a obtener\n",
        "\n"
      ]
    },
    {
      "cell_type": "code",
      "execution_count": null,
      "metadata": {
        "id": "qbcDXbn_HB39"
      },
      "outputs": [],
      "source": [
        "# lectura de un fichero en panda\n",
        "import pandas as pd\n",
        "\n",
        "url = \"https://raw.githubusercontent.com/RafaelCaballero/tdm/master/datos/madpollution_output.csv\"\n",
        "df = pd.read_csv(url)\n",
        "df"
      ]
    },
    {
      "cell_type": "code",
      "execution_count": null,
      "metadata": {
        "id": "ViUACC7pHB39"
      },
      "outputs": [],
      "source": [
        "# solo queremos 100 filas al azar\n",
        "df.sample(n=100)"
      ]
    },
    {
      "cell_type": "markdown",
      "metadata": {
        "id": "pfceGRUgHB3-"
      },
      "source": [
        "Ejemplo de división de un dataframe en dos de forma aleatoria"
      ]
    },
    {
      "cell_type": "code",
      "execution_count": null,
      "metadata": {
        "id": "CyIx3BanHB3-"
      },
      "outputs": [],
      "source": [
        "train_dataset = df.sample(frac=0.8,random_state=0)\n",
        "test_dataset = df.drop(train_dataset.index)\n",
        "print(len(train_dataset), len(test_dataset))"
      ]
    },
    {
      "cell_type": "markdown",
      "metadata": {
        "id": "5vGcAZ72HB3-"
      },
      "source": [
        "También se pueden tomar muestras con reemplazamiento, lo que significa que se puede repetir"
      ]
    },
    {
      "cell_type": "code",
      "execution_count": null,
      "metadata": {
        "id": "l6eDtyzyHB3-"
      },
      "outputs": [],
      "source": [
        "datos = [['Bertoldo', 'Cacaseno'], ['Aniceto', 'Cacaseno'],\n",
        "         ['Herminia', 'Ducasse'], ['Calixta', 'Albrich'] ]\n",
        "df = pd.DataFrame(datos ,columns=['nombre','apellido'])\n",
        "df"
      ]
    },
    {
      "cell_type": "code",
      "execution_count": null,
      "metadata": {
        "id": "U8hJb7oFHB3-"
      },
      "outputs": [],
      "source": [
        "df.sample(n=10,replace=True)"
      ]
    },
    {
      "cell_type": "markdown",
      "metadata": {
        "id": "5adG4RmVHB3-"
      },
      "source": [
        "<a name=\"Iterar\"></a>\n",
        "## Iterar\n",
        "\n",
        "Intentaremos evitar iterar por el dataframe con un `for`, pero a veces no hay más remedio. En ese caso usaremos `iterrows`\n",
        " que nos devuelve cada fila como un array con dos posiciones, la 0 para el índice y la 1 para la fila en sí"
      ]
    },
    {
      "cell_type": "code",
      "execution_count": null,
      "metadata": {
        "id": "wvD3_inQHB3-"
      },
      "outputs": [],
      "source": [
        "import pandas as pd\n",
        "file = \"https://raw.githubusercontent.com/RafaelCaballero/tdm/master/datos/top10s.csv\"\n",
        "df = pd.read_csv(file,encoding=\"latin-1\", index_col=0)\n",
        "df"
      ]
    },
    {
      "cell_type": "code",
      "execution_count": null,
      "metadata": {
        "id": "NOxPXMdnHB3_"
      },
      "outputs": [],
      "source": [
        "for row in df.iterrows():\n",
        "    print(row[1][\"title\"])"
      ]
    },
    {
      "cell_type": "markdown",
      "metadata": {
        "id": "cES_g61gHB3_"
      },
      "source": [
        "**Ejemplo 11** Utilizar iterrows para encontrar el título de la canción  con más bpm.\n",
        "\n",
        "Idea: usar una variable bpm que lleve el máximo hasta el momento y otra título con el título del máximo hasta el momento, e ir actualizando ambas variables"
      ]
    },
    {
      "cell_type": "code",
      "execution_count": null,
      "metadata": {
        "id": "BajJWrPJHB3_"
      },
      "outputs": [],
      "source": []
    },
    {
      "cell_type": "code",
      "execution_count": null,
      "metadata": {
        "id": "jObOiweIHB3_"
      },
      "outputs": [],
      "source": [
        "## Y ahora sin iterrows..."
      ]
    },
    {
      "cell_type": "markdown",
      "metadata": {
        "id": "MWJxWvDwES33"
      },
      "source": [
        "## Índices"
      ]
    },
    {
      "cell_type": "markdown",
      "metadata": {
        "id": "RrsilsIcES33"
      },
      "source": [
        "Ya hemos visto unas cuantas cosas sobre los índices\n",
        "\n",
        "- Se usan para referenciar fila\n",
        "- Se puede acceder con loc\n",
        "- Hay índices de tipos diversos\n",
        "\n",
        "Algunas cosas nuevas:\n",
        "\n"
      ]
    },
    {
      "cell_type": "code",
      "execution_count": null,
      "metadata": {
        "id": "Fyn_XKQ-ES33"
      },
      "outputs": [],
      "source": [
        "import pandas as pd\n",
        "import numpy as np\n",
        "data = [[1,2,3,4,5,6,7],\n",
        "        [1,2,0,0,0,6,7],\n",
        "        [1,2,0,0,0,6,7],\n",
        "        [1,2,0,0,0,6,7],\n",
        "        [1,2,3,4,5,6,7],\n",
        "       ]\n",
        "df1 = pd.DataFrame(data, columns=[chr(ord('a')+i) for i in range(len(data[0]))],\n",
        "               index = ['i'+chr(ord('a')+i) for i in range(len(data))])\n",
        "df2 = pd.DataFrame(data, columns=[chr(ord('a')+i) for i in range(len(data[0]))],\n",
        "               index = [i-1 for i in range(len(data),0,-1)])\n",
        "df3 = pd.DataFrame(data, columns=[chr(ord('a')+i) for i in range(len(data[0]))],\n",
        "               index = [np.random.randint(3) for i in range(len(data),0,-1)])\n"
      ]
    },
    {
      "cell_type": "code",
      "execution_count": null,
      "metadata": {
        "id": "2M4IeHD4ES33"
      },
      "outputs": [],
      "source": [
        "print(df1,df2,df3,sep=\"\\n\")"
      ]
    },
    {
      "cell_type": "markdown",
      "metadata": {
        "id": "d9Zbk_DkES33"
      },
      "source": [
        "Se puede comprobar si es monótono creciente.\n",
        "\n",
        "> Indented block\n",
        "\n"
      ]
    },
    {
      "cell_type": "code",
      "execution_count": null,
      "metadata": {
        "id": "qU8la-mXES34"
      },
      "outputs": [],
      "source": [
        "df1.index.is_monotonic, df2.index.is_monotonic, df3.index.is_monotonic"
      ]
    },
    {
      "cell_type": "markdown",
      "metadata": {
        "id": "y0QWrzL3ES34"
      },
      "source": [
        "También de si hay valores repetidos"
      ]
    },
    {
      "cell_type": "code",
      "execution_count": null,
      "metadata": {
        "id": "i3wjc9MqES34"
      },
      "outputs": [],
      "source": [
        "df1.index.is_unique, df2.index.is_unique, df3.index.is_unique"
      ]
    },
    {
      "cell_type": "markdown",
      "metadata": {
        "id": "79-c0uoqES34"
      },
      "source": [
        "En caso de que no sea único podemos querer obtener los valores distintos"
      ]
    },
    {
      "cell_type": "code",
      "execution_count": null,
      "metadata": {
        "id": "HHMnQjSFES34"
      },
      "outputs": [],
      "source": [
        "df3.index.unique()"
      ]
    },
    {
      "cell_type": "markdown",
      "metadata": {
        "id": "VAY23XcwES34"
      },
      "source": [
        "Una de las operaciones más básicas, que haremos a menudo es reindexar:"
      ]
    },
    {
      "cell_type": "code",
      "execution_count": null,
      "metadata": {
        "id": "JwRds067ES35"
      },
      "outputs": [],
      "source": [
        "\n",
        "df4 = df2.reindex([1,2,3,4,5])\n",
        "df4\n"
      ]
    },
    {
      "cell_type": "markdown",
      "metadata": {
        "id": "cp1lzMzTES35"
      },
      "source": [
        "- ¿Por qué necesitamos hacer df4 y no queda modificado df2? Porque los índices son inmutables. Para que se cambie en el propio DataFram usar el argumento `inplace=True`\n",
        "\n",
        "- ¿Por qué aparecen los NaN? (pensar...)\n"
      ]
    },
    {
      "cell_type": "code",
      "execution_count": null,
      "metadata": {
        "id": "KXJzHM3dES35"
      },
      "outputs": [],
      "source": [
        "df4 = df2.reindex([1,2,3,4,5],fill_value=0)\n",
        "df4"
      ]
    },
    {
      "cell_type": "markdown",
      "metadata": {
        "id": "M8KRR5fCES35"
      },
      "source": [
        "También vale para columnas"
      ]
    },
    {
      "cell_type": "code",
      "execution_count": null,
      "metadata": {
        "id": "YYJu6sIzES35"
      },
      "outputs": [],
      "source": [
        "df4 = df2.reindex(columns=[1,2,3,4,5],fill_value=-1)\n",
        "df4"
      ]
    },
    {
      "cell_type": "markdown",
      "metadata": {
        "id": "QaIsieKfES36"
      },
      "source": [
        "Esto es un poco desastre. ¿No podemos solo cambiar los índices sin cargarnos todo? La solución es `reset_index()`"
      ]
    },
    {
      "cell_type": "code",
      "execution_count": null,
      "metadata": {
        "id": "ZYH0UHN0ES36"
      },
      "outputs": [],
      "source": [
        "df2 = pd.DataFrame(data, columns=[chr(ord('a')+i) for i in range(len(data[0]))],\n",
        "               index = [i-1 for i in range(len(data),0,-1)])\n",
        "df2"
      ]
    },
    {
      "cell_type": "code",
      "execution_count": null,
      "metadata": {
        "id": "UaHLod6rES36"
      },
      "outputs": [],
      "source": [
        "df2.reset_index(inplace=True)\n",
        "df2"
      ]
    },
    {
      "cell_type": "markdown",
      "metadata": {
        "id": "e6hYgsN_ES36"
      },
      "source": [
        "El índice se 'guarda' en una columna `index`. Se puede evitar utilizando `drop=True`"
      ]
    },
    {
      "cell_type": "code",
      "execution_count": null,
      "metadata": {
        "id": "ScQGWTagES36"
      },
      "outputs": [],
      "source": [
        "from pandas import DataFrame\n",
        "data = [[1,2,3,4,5,6,7],\n",
        "        [1,2,0,0,0,6,7],\n",
        "        [1,2,0,0,0,6,7],\n",
        "        [1,2,0,0,0,6,7],\n",
        "        [1,2,3,4,5,6,7],\n",
        "       ]\n",
        "df2 = DataFrame(data, columns=[chr(ord('a')+i) for i in range(len(data[0]))],\n",
        "               index = [i-1 for i in range(len(data),0,-1)])\n",
        "df2.reset_index(drop=True, inplace=True)\n",
        "df2"
      ]
    },
    {
      "cell_type": "markdown",
      "metadata": {
        "id": "6cHaepkuES36"
      },
      "source": [
        "Si no se quiere que el índice empiece en 0, ni tampoco que se pierda información, se puede acceder directamente a .index o a .columns"
      ]
    },
    {
      "cell_type": "code",
      "execution_count": null,
      "metadata": {
        "id": "ngCQZS0lES37"
      },
      "outputs": [],
      "source": [
        "df2.index = ['a','b','c','d','e']\n",
        "df2"
      ]
    },
    {
      "cell_type": "code",
      "execution_count": null,
      "metadata": {
        "id": "_hMC-zKOHB4C"
      },
      "outputs": [],
      "source": [
        "df2[df2.index=='a']"
      ]
    },
    {
      "cell_type": "code",
      "execution_count": null,
      "metadata": {
        "id": "iAN311fXHB4C"
      },
      "outputs": [],
      "source": [
        "df2.loc['a']"
      ]
    },
    {
      "cell_type": "markdown",
      "metadata": {
        "id": "1j0A-TJAES37"
      },
      "source": [
        "Si se accede directamente a `index` se deben poner tantos elementos como filas hay, si no se obtendrá un error"
      ]
    },
    {
      "cell_type": "code",
      "execution_count": null,
      "metadata": {
        "id": "Y_NlpC_6ES37"
      },
      "outputs": [],
      "source": [
        "# esto daría error\n",
        "#df2.index = ['a','b','c','d']"
      ]
    },
    {
      "cell_type": "markdown",
      "metadata": {
        "id": "w-Ua8nWlES37"
      },
      "source": [
        "**Ej.** Queremos sumar dos series:"
      ]
    },
    {
      "cell_type": "code",
      "execution_count": null,
      "metadata": {
        "id": "ri4rRNyLES37"
      },
      "outputs": [],
      "source": [
        "a = pd.Series([1,2,3,4],['a','b','c','d'])\n",
        "b = pd.Series([1,2,3,4],[10,20,30,40])"
      ]
    },
    {
      "cell_type": "markdown",
      "metadata": {
        "id": "KlD0DaI9ES38"
      },
      "source": [
        "Sin embargo:"
      ]
    },
    {
      "cell_type": "code",
      "execution_count": null,
      "metadata": {
        "id": "YHuA2_uVES38"
      },
      "outputs": [],
      "source": [
        "a+b"
      ]
    },
    {
      "cell_type": "markdown",
      "metadata": {
        "id": "7F1XA1VrES38"
      },
      "source": [
        "¿qué podemos hacer?"
      ]
    },
    {
      "cell_type": "code",
      "execution_count": null,
      "metadata": {
        "id": "aUnBksuMES38"
      },
      "outputs": [],
      "source": [
        "a.reset_index(drop=True)+b.reset_index(drop=True)"
      ]
    },
    {
      "cell_type": "markdown",
      "metadata": {
        "id": "_K4wdgRQES38"
      },
      "source": [
        "Se pueden eliminar filas a partir del índice con drop()"
      ]
    },
    {
      "cell_type": "code",
      "execution_count": null,
      "metadata": {
        "id": "RxougHE0ES38"
      },
      "outputs": [],
      "source": [
        "c = a.reset_index(drop=True)+b.reset_index(drop=True)\n",
        "print(c,type(c))\n",
        "d = c.drop([1,2])\n",
        "print(d)"
      ]
    },
    {
      "cell_type": "code",
      "execution_count": null,
      "metadata": {
        "id": "tyCQTZn1ES39"
      },
      "outputs": [],
      "source": [
        "df = DataFrame(np.arange(16).reshape((4, 4)),\n",
        "               columns=['c'+str(i) for i in range(4)],\n",
        "               index = ['f'+str(i) for i in range(4)])\n",
        "df"
      ]
    },
    {
      "cell_type": "code",
      "execution_count": null,
      "metadata": {
        "id": "skxZT64HES39"
      },
      "outputs": [],
      "source": [
        "df.drop(['c1','c2'],axis=1,inplace=True)\n",
        "df"
      ]
    },
    {
      "cell_type": "code",
      "execution_count": null,
      "metadata": {
        "id": "KliUKk1QES39"
      },
      "outputs": [],
      "source": [
        "df = DataFrame(np.arange(16).reshape((4, 4)),\n",
        "               columns=['c'+str(i) for i in range(4)],\n",
        "               index = ['f'+str(i) for i in range(4)])\n",
        "df.drop(['f1','f2'],axis=0,inplace=True)\n",
        "df"
      ]
    },
    {
      "cell_type": "markdown",
      "metadata": {
        "id": "lsrhU1QcES39"
      },
      "source": [
        "Como ya hemos visto las operaciones aritméticas utilizan los índices comunes. Esto vale tanto para filas como para columnas"
      ]
    },
    {
      "cell_type": "code",
      "execution_count": null,
      "metadata": {
        "id": "v4HvamE1ES39"
      },
      "outputs": [],
      "source": [
        "df1 = DataFrame(np.arange(12.).reshape((3, 4)), columns=list('abcd'))\n",
        "df2 = DataFrame(np.arange(20.).reshape((4, 5)), columns=list('abcde'))\n",
        "\n",
        "print(df1)\n",
        "print(df2)"
      ]
    },
    {
      "cell_type": "code",
      "execution_count": null,
      "metadata": {
        "id": "bQI7vKChES39"
      },
      "outputs": [],
      "source": [
        "df1+df2"
      ]
    },
    {
      "cell_type": "markdown",
      "metadata": {
        "id": "l3vNNJY4ES3-"
      },
      "source": [
        "Para evitarlo se puede añadir 0 para evitar el valor `NaN`"
      ]
    },
    {
      "cell_type": "code",
      "execution_count": null,
      "metadata": {
        "id": "oM_gSVC9ES3-"
      },
      "outputs": [],
      "source": [
        "df1.add(df2,fill_value=0)"
      ]
    },
    {
      "cell_type": "markdown",
      "metadata": {
        "id": "QpiIKIAoES3-"
      },
      "source": [
        "Análogamente existen funciones `add`, `sub`, `div`, `mul`\n",
        "\n",
        "La siguiente operación ya no debe sorprendernos:"
      ]
    },
    {
      "cell_type": "code",
      "execution_count": null,
      "metadata": {
        "id": "7A-JtfLzES3-"
      },
      "outputs": [],
      "source": [
        "f = df1.loc[1,:]\n",
        "print(df1,\"\\n\",f,\"\\n\",df1-f,sep=\"\")\n",
        "\n"
      ]
    },
    {
      "cell_type": "markdown",
      "metadata": {
        "id": "lYyK0Ip2ES3-"
      },
      "source": [
        "Si lo que queremos es restar sobre las columnas"
      ]
    },
    {
      "cell_type": "code",
      "execution_count": null,
      "metadata": {
        "id": "5ksq-Zc3ES3-"
      },
      "outputs": [],
      "source": [
        "f.index = range(len(f))\n",
        "df1.sub(f,axis=0)"
      ]
    },
    {
      "cell_type": "markdown",
      "metadata": {
        "id": "TZu7EVk4ES3_"
      },
      "source": [
        "Si lo que se quiere es ordenar los índices, no cambiarlo, se puede utilizar `sort_index()`"
      ]
    },
    {
      "cell_type": "code",
      "execution_count": null,
      "metadata": {
        "id": "qGsbjNK6ES3_"
      },
      "outputs": [],
      "source": [
        "df1 = DataFrame(np.arange(12.).reshape((3, 4)),\n",
        "                columns=list('dfab'),index=list('431'))\n",
        "df1"
      ]
    },
    {
      "cell_type": "code",
      "execution_count": null,
      "metadata": {
        "id": "2HBJidnMES3_"
      },
      "outputs": [],
      "source": [
        "df1.sort_index(inplace=True)\n",
        "df1"
      ]
    },
    {
      "cell_type": "code",
      "execution_count": null,
      "metadata": {
        "id": "a4_Xht--ES4D"
      },
      "outputs": [],
      "source": []
    }
  ],
  "metadata": {
    "colab": {
      "include_colab_link": true,
      "provenance": []
    },
    "kernelspec": {
      "display_name": "Python 3",
      "language": "python",
      "name": "python3"
    },
    "language_info": {
      "codemirror_mode": {
        "name": "ipython",
        "version": 3
      },
      "file_extension": ".py",
      "mimetype": "text/x-python",
      "name": "python",
      "nbconvert_exporter": "python",
      "pygments_lexer": "ipython3",
      "version": "3.11.9"
    }
  },
  "nbformat": 4,
  "nbformat_minor": 0
}
