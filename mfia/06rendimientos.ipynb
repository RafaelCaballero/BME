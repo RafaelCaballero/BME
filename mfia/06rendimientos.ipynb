{
  "nbformat": 4,
  "nbformat_minor": 0,
  "metadata": {
    "colab": {
      "provenance": [],
      "authorship_tag": "ABX9TyO7v+1z1sej2/YtUvC/Sa0E",
      "include_colab_link": true
    },
    "kernelspec": {
      "name": "python3",
      "display_name": "Python 3"
    },
    "language_info": {
      "name": "python"
    }
  },
  "cells": [
    {
      "cell_type": "markdown",
      "metadata": {
        "id": "view-in-github",
        "colab_type": "text"
      },
      "source": [
        "<a href=\"https://colab.research.google.com/github/RafaelCaballero/BME/blob/main/mfia/06rendimientos.ipynb\" target=\"_parent\"><img src=\"https://colab.research.google.com/assets/colab-badge.svg\" alt=\"Open In Colab\"/></a>"
      ]
    },
    {
      "cell_type": "markdown",
      "source": [
        "# Prueba de uso de bibliotecas\n",
        "Para utilizar este código hemos debido cargar primero el fichero \"rendimientos.py\" a la carpeta de datos.\n",
        "\n",
        "En el caso de Anaconda debe estar en la misma carpeta que el notebook"
      ],
      "metadata": {
        "id": "UuOzSjH5Turs"
      }
    },
    {
      "cell_type": "code",
      "execution_count": null,
      "metadata": {
        "id": "XMv5BZc4PbYt"
      },
      "outputs": [],
      "source": [
        "import rendimientos\n",
        "\n",
        "# esto es solo por si hemos cambiado la librería entre ejecución y ejecución\n",
        "from importlib import reload\n",
        "reload(rendimientos)"
      ]
    },
    {
      "cell_type": "code",
      "source": [
        "import numpy as np\n",
        "precios =  np.array([6.50, 6.52,6.49, 6.70, 6.91, 6.71, 6.15, 6.17,6.19,6.63])\n",
        "rendimientos.rendimiento(precios)"
      ],
      "metadata": {
        "id": "2sl7vnnSR1dF"
      },
      "execution_count": null,
      "outputs": []
    },
    {
      "cell_type": "code",
      "source": [
        "# si yfinance no está instalado quitar la siguiente línea\n",
        "#!pip install yfinance --upgrade --no-cache-dir\n",
        "\n",
        "# Importar la librería\n",
        "import yfinance as yf\n",
        "\n",
        "# Definir el ticker de Apple\n",
        "ticker = 'AAPL'\n",
        "\n",
        "# Descargar todos los datos hasta el día de hoy\n",
        "df_apple = yf.download(ticker, progress=False)\n",
        "\n",
        "# Mostrar el DataFrame\n",
        "df_apple\n"
      ],
      "metadata": {
        "id": "g-H9_WIlSimu"
      },
      "execution_count": null,
      "outputs": []
    },
    {
      "cell_type": "code",
      "source": [
        "rendimientos.rendimiento(df_apple.Open.values)"
      ],
      "metadata": {
        "id": "w4bI7r9pRYT_"
      },
      "execution_count": null,
      "outputs": []
    },
    {
      "cell_type": "code",
      "source": [
        "rendimientos.rendimiento(df_apple.Open.values, len(df_apple)-1)"
      ],
      "metadata": {
        "id": "Xf8yGGXFTfuj"
      },
      "execution_count": null,
      "outputs": []
    }
  ]
}