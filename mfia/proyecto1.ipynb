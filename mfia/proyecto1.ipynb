{
  "nbformat": 4,
  "nbformat_minor": 0,
  "metadata": {
    "colab": {
      "provenance": [],
      "authorship_tag": "ABX9TyMuwHEUjXnlccECV0nPyuRv",
      "include_colab_link": true
    },
    "kernelspec": {
      "name": "python3",
      "display_name": "Python 3"
    },
    "language_info": {
      "name": "python"
    }
  },
  "cells": [
    {
      "cell_type": "markdown",
      "metadata": {
        "id": "view-in-github",
        "colab_type": "text"
      },
      "source": [
        "<a href=\"https://colab.research.google.com/github/RafaelCaballero/BME/blob/main/mfia/proyecto1.ipynb\" target=\"_parent\"><img src=\"https://colab.research.google.com/assets/colab-badge.svg\" alt=\"Open In Colab\"/></a>"
      ]
    },
    {
      "cell_type": "markdown",
      "source": [
        "**Ejercicio 1** Tenemos un valor con el siguiente valor de compra y de venta, calcular la rentabilidad (dejar el valor en una variable `rentabilidad` y mostrar el resultado)"
      ],
      "metadata": {
        "id": "zR6Lntnu-aZg"
      }
    },
    {
      "cell_type": "code",
      "execution_count": null,
      "metadata": {
        "id": "ZVg5NKIp-K2K"
      },
      "outputs": [],
      "source": [
        "inicial = 20.55\n",
        "final = 31.91\n",
        "\n",
        "# poner aquí debajo la solución\n"
      ]
    },
    {
      "cell_type": "markdown",
      "source": [
        "**Ejercicio 2**\n",
        "Mostrar el mismo valor pero como tanto %, para eso utilizar otra variable `rPorCiento`"
      ],
      "metadata": {
        "id": "F0qvVwEv_qGI"
      }
    },
    {
      "cell_type": "code",
      "source": [
        "# solución\n"
      ],
      "metadata": {
        "id": "yWepizb1_6SI"
      },
      "execution_count": null,
      "outputs": []
    },
    {
      "cell_type": "markdown",
      "source": [
        "**Ejercicio 3** Sabiendo el número de días que han pasado desde entre la compra y la venta (variable `periodo`)  calcular la rentabilidad anualizada"
      ],
      "metadata": {
        "id": "YNQMgF8AAEQ4"
      }
    },
    {
      "cell_type": "code",
      "source": [
        "periodo = 400\n",
        "# solución\n"
      ],
      "metadata": {
        "id": "AX5kJDTXAzo_"
      },
      "execution_count": null,
      "outputs": []
    },
    {
      "cell_type": "markdown",
      "source": [
        "**Ejercicio 4** Escribir una función que dado, valor compra, de venta y periodo nos devuelva la rentabilidad anualizada"
      ],
      "metadata": {
        "id": "_oR7q9f8bzqJ"
      }
    },
    {
      "cell_type": "code",
      "source": [
        "# solución\n",
        "def anual(compra,venta,periodo): # seguir en la línea siguiente\n"
      ],
      "metadata": {
        "id": "_rQ7X7BYAtsP"
      },
      "execution_count": null,
      "outputs": []
    },
    {
      "cell_type": "markdown",
      "source": [
        "**Ejercicio 5** ¿Qué rentabilidad anual es mejor, A) una inversión de 20 que se vende a 50 a los 400 días, o B) inversión 30 que se vende a 50 a los 300 días?\n",
        "\n",
        "Hacer que el resultado (`True` si A es mejor o `False` si A es peor) quede en una variable `eligeA`"
      ],
      "metadata": {
        "id": "vSxiLsytg3ff"
      }
    },
    {
      "cell_type": "code",
      "source": [],
      "metadata": {
        "id": "AWc0oOXxc6yI"
      },
      "execution_count": null,
      "outputs": []
    }
  ]
}