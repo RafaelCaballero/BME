{
 "cells": [
  {
   "cell_type": "markdown",
   "id": "23073216",
   "metadata": {},
   "source": [
    "\n",
    "\n",
    "\n",
    "<div class=\"alert alert-block alert-info\">\n",
    "<h1>  Test estadísticos. Proyecto. </h1>\n",
    "</div>\n",
    "\n",
    "\n",
    "Empezamos cargando los datos "
   ]
  },
  {
   "cell_type": "code",
   "execution_count": null,
   "id": "bca30489",
   "metadata": {},
   "outputs": [],
   "source": [
    "\n",
    "import pandas as pd\n",
    "from scipy import stats\n",
    "import seaborn as sns\n",
    "import matplotlib.pyplot as plt\n",
    "\n",
    "df = pd.read_csv(\"https://github.com/RafaelCaballero/tdm/raw/refs/heads/master/datos/IBEX6000Inc.zip\",parse_dates=['Fecha'])\n",
    "df[\"Año\"] = df[\"Fecha\"].dt.year\n",
    "df[\"Mes\"] = df[\"Fecha\"].dt.month\n",
    "df[\"DíaSemana\"] = df[\"Día\"]\n",
    "df[\"FaseLunar\"] = df[\"Luna\"]\n",
    "print(df.shape)\n",
    "df.head()\n"
   ]
  },
  {
   "cell_type": "markdown",
   "id": "b7e6bccc",
   "metadata": {},
   "source": [
    "## Pregunta 1\n",
    "\n",
    "a) Obtener los valores de BBVA en los años 2001 y 2021 en dos dataframes\n",
    "\n",
    "b) Vamos asumir normalidad e igualdad de varianzas \n",
    "\n",
    "¿Hay diferencia significativa en la media de los rendimientos de BBVA entre estos años?"
   ]
  },
  {
   "cell_type": "code",
   "execution_count": null,
   "id": "0317612e",
   "metadata": {},
   "outputs": [],
   "source": [
    "# solución a)\n"
   ]
  },
  {
   "cell_type": "code",
   "execution_count": null,
   "id": "4a654bdc",
   "metadata": {},
   "outputs": [],
   "source": [
    "# solución b)\n"
   ]
  },
  {
   "cell_type": "markdown",
   "id": "288bceca",
   "metadata": {},
   "source": [
    "Explicación:"
   ]
  },
  {
   "cell_type": "markdown",
   "id": "ba4f127b",
   "metadata": {},
   "source": [
    "## Pregunta 2\n",
    "\n",
    "No estamos seguros acerca de la varianza para los días de diarío. Utilizar el test de Bartlett para ver si podemos asegurar que la varianza es igual en el caso de BBVA los Lunes y los Martes  ¿Qué se puede decir?\n"
   ]
  },
  {
   "cell_type": "code",
   "execution_count": null,
   "id": "0440c538",
   "metadata": {},
   "outputs": [],
   "source": [
    "# solución"
   ]
  },
  {
   "cell_type": "markdown",
   "id": "6a21fec5",
   "metadata": {},
   "source": [
    "Explicación: "
   ]
  },
  {
   "cell_type": "markdown",
   "id": "46612eb9",
   "metadata": {},
   "source": [
    "### Pregunta 3 \n",
    "\n",
    "Ahora aplicamos el test de Levene"
   ]
  },
  {
   "cell_type": "code",
   "execution_count": null,
   "id": "3ece1402",
   "metadata": {},
   "outputs": [],
   "source": [
    "# solución"
   ]
  },
  {
   "cell_type": "markdown",
   "id": "d9a94526",
   "metadata": {},
   "source": [
    "¿Son los resultados compatibles con los de la pregunta 3? Decir sí  o no y por qué\n",
    "\n",
    "Explicación:"
   ]
  },
  {
   "cell_type": "markdown",
   "id": "63f27a54",
   "metadata": {},
   "source": [
    "### Pregunta 4\n",
    "Aplicar el test de Welch para ver si hay diferencia significativa entre esos dos días"
   ]
  },
  {
   "cell_type": "code",
   "execution_count": null,
   "id": "8fa6d183",
   "metadata": {},
   "outputs": [],
   "source": [
    "# Solución\n",
    "\n"
   ]
  },
  {
   "cell_type": "markdown",
   "id": "ae864fbe",
   "metadata": {},
   "source": [
    "Explicación:"
   ]
  },
  {
   "cell_type": "markdown",
   "id": "7592915f",
   "metadata": {},
   "source": [
    "#### Pregunta 5\n",
    "\n",
    "\n",
    "El resultado anterior está suponiendo que los datos de ambos días están siguiendo una normal ¿es el caso? Utilizar un test adecuado y decir qué se deduce del resultado"
   ]
  },
  {
   "cell_type": "code",
   "execution_count": null,
   "id": "1d5997d0",
   "metadata": {},
   "outputs": [],
   "source": [
    "# Solución\n"
   ]
  },
  {
   "cell_type": "markdown",
   "id": "47d96da8",
   "metadata": {},
   "source": [
    "¿Qué podemos deducir?  ¿Hemos hecho bien en aplicar el test de Welch?"
   ]
  },
  {
   "cell_type": "markdown",
   "id": "5327047f",
   "metadata": {},
   "source": [
    "Explicación:"
   ]
  },
  {
   "cell_type": "markdown",
   "id": "23abfd4a",
   "metadata": {},
   "source": [
    "### Pregunta 6\n",
    "\n",
    "Como no estamos seguros de los resultados vamos a aplicar el test de  Mann–Whitney U "
   ]
  },
  {
   "cell_type": "code",
   "execution_count": null,
   "id": "42820d45",
   "metadata": {},
   "outputs": [],
   "source": []
  },
  {
   "cell_type": "markdown",
   "id": "7f28afff",
   "metadata": {},
   "source": [
    "¿Podemos decir entonces que con validez estadística el BBVA tiene valores diferentes los lunes y martes de manera histórica?"
   ]
  },
  {
   "cell_type": "markdown",
   "id": "735294fc",
   "metadata": {},
   "source": [
    "Explicación:"
   ]
  },
  {
   "cell_type": "markdown",
   "id": "43770a18",
   "metadata": {},
   "source": [
    "### Pregunta 7\n",
    "\n",
    "Utilizando el mismo test de Man-Whitney U ¿podemos asegurar si uno de los dos días la meida es claramente mayor que el otro día?\n"
   ]
  },
  {
   "cell_type": "code",
   "execution_count": null,
   "id": "c970c1ae",
   "metadata": {},
   "outputs": [],
   "source": [
    "# solución"
   ]
  },
  {
   "cell_type": "markdown",
   "id": "a968993c",
   "metadata": {},
   "source": [
    "¿Qué se deduce?"
   ]
  },
  {
   "cell_type": "markdown",
   "id": "ada00b34",
   "metadata": {},
   "source": []
  },
  {
   "cell_type": "markdown",
   "id": "28ac7063",
   "metadata": {},
   "source": [
    "#### Pregunta 8\n",
    "¿Varían los rendimientos de Iberdrola significativamente entre los días de la semana (ANOVA)?"
   ]
  },
  {
   "cell_type": "code",
   "execution_count": null,
   "id": "f77da441",
   "metadata": {},
   "outputs": [],
   "source": []
  },
  {
   "cell_type": "markdown",
   "id": "5e1fd7b5",
   "metadata": {},
   "source": [
    "Explicar el resultado"
   ]
  },
  {
   "cell_type": "markdown",
   "id": "dfab0a77",
   "metadata": {},
   "source": []
  },
  {
   "cell_type": "markdown",
   "id": "1b61440a",
   "metadata": {},
   "source": [
    "#### Pregunta 9\n",
    "¿Cambian los rendimientos de las 5 empresas dentro de una misma semana? "
   ]
  },
  {
   "cell_type": "code",
   "execution_count": null,
   "id": "cfabb9cb",
   "metadata": {},
   "outputs": [],
   "source": []
  },
  {
   "cell_type": "markdown",
   "id": "dfb7d46a",
   "metadata": {},
   "source": [
    "Explicación:"
   ]
  },
  {
   "cell_type": "markdown",
   "id": "5935e063",
   "metadata": {},
   "source": [
    "### Pregunta 10\n",
    "\n"
   ]
  },
  {
   "cell_type": "markdown",
   "id": "1c224f20",
   "metadata": {},
   "source": [
    "En el siguiente problema ANOVA nos dice que hay diferencia significativa de media, pero no entre qué conjuntos concretos"
   ]
  },
  {
   "cell_type": "code",
   "execution_count": null,
   "id": "b8a1c10b",
   "metadata": {},
   "outputs": [],
   "source": [
    "import numpy as np\n",
    "from scipy.stats import f_oneway\n",
    "\n",
    "A = np.array([20, 22, 21, 23, 21, 24]) # plantas con fertilizante A\n",
    "B = np.array([20, 20, 24, 25, 22, 21]) # plantas con fertilizante B\n",
    "C = np.array([28, 29, 27, 23, 25, 23]) # plantas con fertilizante C\n",
    "D = np.array([20, 18, 24, 21, 23, 20]) # plantas con fertilizante D\n",
    "\n",
    "# Realizar el test ANOVA para los tres grupos A, B y C\n",
    "anova_result = f_oneway(A, B, C, D)\n",
    "\n",
    "# Obtener el estadístico F y el p-valor del test ANOVA\n",
    "anova_result.statistic, anova_result.pvalue\n"
   ]
  },
  {
   "cell_type": "markdown",
   "id": "3c0edfde",
   "metadata": {},
   "source": [
    "Ahora podríamos probar por pares, para localizar el(/los elementos que difieren, pero si lo hacemos así (aquí son pocos pares, en otros casos puede ser muchos más) aumenta la probabilidad de que, por azar, al final nos salga una diferencia significativa entre dos conjuntos que no la tengan (un falso positivo). Es el llamado problema de comparaciones múltiples. Buscar (utilizar google, chat GPT, lo que se quiera) un test para encontrar un método seguro que se pueda aplicar para detectar cuál es el grupo diferente sin caer en este problema. \n",
    "\n",
    "Explicarlo paso"
   ]
  },
  {
   "cell_type": "code",
   "execution_count": null,
   "id": "d695d7ec",
   "metadata": {},
   "outputs": [],
   "source": []
  }
 ],
 "metadata": {
  "kernelspec": {
   "display_name": "Python 3",
   "language": "python",
   "name": "python3"
  },
  "language_info": {
   "codemirror_mode": {
    "name": "ipython",
    "version": 3
   },
   "file_extension": ".py",
   "mimetype": "text/x-python",
   "name": "python",
   "nbconvert_exporter": "python",
   "pygments_lexer": "ipython3",
   "version": "3.11.9"
  }
 },
 "nbformat": 4,
 "nbformat_minor": 5
}
