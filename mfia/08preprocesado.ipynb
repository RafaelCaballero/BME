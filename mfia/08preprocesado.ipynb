{
  "cells": [
    {
      "cell_type": "markdown",
      "metadata": {
        "id": "Zj_n2gLkzmUI"
      },
      "source": [
        "# Introducción a la ciencia de datos con Python\n",
        "### Rafa Caballero\n",
        "\n",
        "##  Preprocesado\n",
        "\n",
        "Veamos cómo se pueden utilizar las características de Pandas para preprocesado básico de los datos\n",
        "\n",
        "\n",
        "\n",
        "### Índice\n",
        "[Duplicados](#Duplicados)<br>\n",
        "[Ver nulos](#Ver-nulos)<br>\n",
        "[Eliminar nulos](#Eliminar-nulos)<br>\n",
        "[Tranformación de valores](#Tranformación-de-valores)<br>\n",
        "[Normalización y estandarización](#normalizacion)<br>\n"
      ]
    },
    {
      "cell_type": "markdown",
      "metadata": {
        "id": "chMyb2sOzmUK"
      },
      "source": [
        "<a name=\"Duplicados\"></a>\n",
        "### Duplicados\n",
        "\n",
        "A menudo nos interesaría eliminar datos duplicados ya sean filas o columnas que pueden influir negativamente en nuestros resultados."
      ]
    },
    {
      "cell_type": "code",
      "execution_count": 1,
      "metadata": {
        "id": "wbiN_aiizmUL"
      },
      "outputs": [
        {
          "data": {
            "text/html": [
              "<div>\n",
              "<style scoped>\n",
              "    .dataframe tbody tr th:only-of-type {\n",
              "        vertical-align: middle;\n",
              "    }\n",
              "\n",
              "    .dataframe tbody tr th {\n",
              "        vertical-align: top;\n",
              "    }\n",
              "\n",
              "    .dataframe thead th {\n",
              "        text-align: right;\n",
              "    }\n",
              "</style>\n",
              "<table border=\"1\" class=\"dataframe\">\n",
              "  <thead>\n",
              "    <tr style=\"text-align: right;\">\n",
              "      <th></th>\n",
              "      <th>k1</th>\n",
              "      <th>k2</th>\n",
              "    </tr>\n",
              "  </thead>\n",
              "  <tbody>\n",
              "    <tr>\n",
              "      <th>0</th>\n",
              "      <td>a</td>\n",
              "      <td>1</td>\n",
              "    </tr>\n",
              "    <tr>\n",
              "      <th>1</th>\n",
              "      <td>a</td>\n",
              "      <td>1</td>\n",
              "    </tr>\n",
              "    <tr>\n",
              "      <th>2</th>\n",
              "      <td>a</td>\n",
              "      <td>2</td>\n",
              "    </tr>\n",
              "    <tr>\n",
              "      <th>3</th>\n",
              "      <td>b</td>\n",
              "      <td>3</td>\n",
              "    </tr>\n",
              "    <tr>\n",
              "      <th>4</th>\n",
              "      <td>b</td>\n",
              "      <td>3</td>\n",
              "    </tr>\n",
              "    <tr>\n",
              "      <th>5</th>\n",
              "      <td>b</td>\n",
              "      <td>4</td>\n",
              "    </tr>\n",
              "    <tr>\n",
              "      <th>6</th>\n",
              "      <td>b</td>\n",
              "      <td>4</td>\n",
              "    </tr>\n",
              "  </tbody>\n",
              "</table>\n",
              "</div>"
            ],
            "text/plain": [
              "  k1  k2\n",
              "0  a   1\n",
              "1  a   1\n",
              "2  a   2\n",
              "3  b   3\n",
              "4  b   3\n",
              "5  b   4\n",
              "6  b   4"
            ]
          },
          "execution_count": 1,
          "metadata": {},
          "output_type": "execute_result"
        }
      ],
      "source": [
        "import pandas as pd\n",
        "\n",
        "data = pd.DataFrame({'k1': ['a'] * 3 + ['b'] * 4,\n",
        "                  'k2': [1, 1, 2, 3, 3, 4, 4]})\n",
        "data"
      ]
    },
    {
      "cell_type": "markdown",
      "metadata": {
        "id": "3FeFI008zmUN"
      },
      "source": [
        "El método `duplicated` devuelve una serie de booleanos que indican si la fila correspondiente está duplicada"
      ]
    },
    {
      "cell_type": "code",
      "execution_count": 2,
      "metadata": {
        "id": "uLFV02y9zmUO"
      },
      "outputs": [
        {
          "data": {
            "text/plain": [
              "0    False\n",
              "1     True\n",
              "2    False\n",
              "3    False\n",
              "4     True\n",
              "5    False\n",
              "6     True\n",
              "dtype: bool"
            ]
          },
          "execution_count": 2,
          "metadata": {},
          "output_type": "execute_result"
        }
      ],
      "source": [
        "data.duplicated()"
      ]
    },
    {
      "cell_type": "markdown",
      "metadata": {
        "id": "LeK5bNFIzmUP"
      },
      "source": [
        "Vemos que tiene toda la apariencia de un filtro; ahora es fácil eliminar duplicados"
      ]
    },
    {
      "cell_type": "code",
      "execution_count": 3,
      "metadata": {
        "id": "1NsgQF_9zmUP"
      },
      "outputs": [
        {
          "data": {
            "text/html": [
              "<div>\n",
              "<style scoped>\n",
              "    .dataframe tbody tr th:only-of-type {\n",
              "        vertical-align: middle;\n",
              "    }\n",
              "\n",
              "    .dataframe tbody tr th {\n",
              "        vertical-align: top;\n",
              "    }\n",
              "\n",
              "    .dataframe thead th {\n",
              "        text-align: right;\n",
              "    }\n",
              "</style>\n",
              "<table border=\"1\" class=\"dataframe\">\n",
              "  <thead>\n",
              "    <tr style=\"text-align: right;\">\n",
              "      <th></th>\n",
              "      <th>k1</th>\n",
              "      <th>k2</th>\n",
              "    </tr>\n",
              "  </thead>\n",
              "  <tbody>\n",
              "    <tr>\n",
              "      <th>0</th>\n",
              "      <td>a</td>\n",
              "      <td>1</td>\n",
              "    </tr>\n",
              "    <tr>\n",
              "      <th>2</th>\n",
              "      <td>a</td>\n",
              "      <td>2</td>\n",
              "    </tr>\n",
              "    <tr>\n",
              "      <th>3</th>\n",
              "      <td>b</td>\n",
              "      <td>3</td>\n",
              "    </tr>\n",
              "    <tr>\n",
              "      <th>5</th>\n",
              "      <td>b</td>\n",
              "      <td>4</td>\n",
              "    </tr>\n",
              "  </tbody>\n",
              "</table>\n",
              "</div>"
            ],
            "text/plain": [
              "  k1  k2\n",
              "0  a   1\n",
              "2  a   2\n",
              "3  b   3\n",
              "5  b   4"
            ]
          },
          "execution_count": 3,
          "metadata": {},
          "output_type": "execute_result"
        }
      ],
      "source": [
        "data[~data.duplicated()]"
      ]
    },
    {
      "cell_type": "markdown",
      "metadata": {
        "id": "aixHt-QCzmUQ"
      },
      "source": [
        "Otra forma de hacerlo"
      ]
    },
    {
      "cell_type": "code",
      "execution_count": 4,
      "metadata": {
        "id": "tUSgEOZqzmUR"
      },
      "outputs": [
        {
          "data": {
            "text/html": [
              "<div>\n",
              "<style scoped>\n",
              "    .dataframe tbody tr th:only-of-type {\n",
              "        vertical-align: middle;\n",
              "    }\n",
              "\n",
              "    .dataframe tbody tr th {\n",
              "        vertical-align: top;\n",
              "    }\n",
              "\n",
              "    .dataframe thead th {\n",
              "        text-align: right;\n",
              "    }\n",
              "</style>\n",
              "<table border=\"1\" class=\"dataframe\">\n",
              "  <thead>\n",
              "    <tr style=\"text-align: right;\">\n",
              "      <th></th>\n",
              "      <th>k1</th>\n",
              "      <th>k2</th>\n",
              "    </tr>\n",
              "  </thead>\n",
              "  <tbody>\n",
              "    <tr>\n",
              "      <th>0</th>\n",
              "      <td>a</td>\n",
              "      <td>1</td>\n",
              "    </tr>\n",
              "    <tr>\n",
              "      <th>2</th>\n",
              "      <td>a</td>\n",
              "      <td>2</td>\n",
              "    </tr>\n",
              "    <tr>\n",
              "      <th>3</th>\n",
              "      <td>b</td>\n",
              "      <td>3</td>\n",
              "    </tr>\n",
              "    <tr>\n",
              "      <th>5</th>\n",
              "      <td>b</td>\n",
              "      <td>4</td>\n",
              "    </tr>\n",
              "  </tbody>\n",
              "</table>\n",
              "</div>"
            ],
            "text/plain": [
              "  k1  k2\n",
              "0  a   1\n",
              "2  a   2\n",
              "3  b   3\n",
              "5  b   4"
            ]
          },
          "execution_count": 4,
          "metadata": {},
          "output_type": "execute_result"
        }
      ],
      "source": [
        "data.drop_duplicates()"
      ]
    },
    {
      "cell_type": "markdown",
      "metadata": {
        "id": "YDjlR1i5zmUR"
      },
      "source": [
        "Se puede limitar el borrado a ciertas columnas"
      ]
    },
    {
      "cell_type": "code",
      "execution_count": 5,
      "metadata": {
        "id": "bRTOs1kzzmUS"
      },
      "outputs": [
        {
          "data": {
            "text/html": [
              "<div>\n",
              "<style scoped>\n",
              "    .dataframe tbody tr th:only-of-type {\n",
              "        vertical-align: middle;\n",
              "    }\n",
              "\n",
              "    .dataframe tbody tr th {\n",
              "        vertical-align: top;\n",
              "    }\n",
              "\n",
              "    .dataframe thead th {\n",
              "        text-align: right;\n",
              "    }\n",
              "</style>\n",
              "<table border=\"1\" class=\"dataframe\">\n",
              "  <thead>\n",
              "    <tr style=\"text-align: right;\">\n",
              "      <th></th>\n",
              "      <th>k1</th>\n",
              "      <th>k2</th>\n",
              "      <th>v1</th>\n",
              "    </tr>\n",
              "  </thead>\n",
              "  <tbody>\n",
              "    <tr>\n",
              "      <th>0</th>\n",
              "      <td>a</td>\n",
              "      <td>1</td>\n",
              "      <td>0</td>\n",
              "    </tr>\n",
              "    <tr>\n",
              "      <th>1</th>\n",
              "      <td>a</td>\n",
              "      <td>1</td>\n",
              "      <td>1</td>\n",
              "    </tr>\n",
              "    <tr>\n",
              "      <th>2</th>\n",
              "      <td>a</td>\n",
              "      <td>2</td>\n",
              "      <td>2</td>\n",
              "    </tr>\n",
              "    <tr>\n",
              "      <th>3</th>\n",
              "      <td>b</td>\n",
              "      <td>3</td>\n",
              "      <td>3</td>\n",
              "    </tr>\n",
              "    <tr>\n",
              "      <th>4</th>\n",
              "      <td>b</td>\n",
              "      <td>3</td>\n",
              "      <td>4</td>\n",
              "    </tr>\n",
              "    <tr>\n",
              "      <th>5</th>\n",
              "      <td>b</td>\n",
              "      <td>4</td>\n",
              "      <td>5</td>\n",
              "    </tr>\n",
              "    <tr>\n",
              "      <th>6</th>\n",
              "      <td>b</td>\n",
              "      <td>4</td>\n",
              "      <td>6</td>\n",
              "    </tr>\n",
              "  </tbody>\n",
              "</table>\n",
              "</div>"
            ],
            "text/plain": [
              "  k1  k2  v1\n",
              "0  a   1   0\n",
              "1  a   1   1\n",
              "2  a   2   2\n",
              "3  b   3   3\n",
              "4  b   3   4\n",
              "5  b   4   5\n",
              "6  b   4   6"
            ]
          },
          "execution_count": 5,
          "metadata": {},
          "output_type": "execute_result"
        }
      ],
      "source": [
        "data['v1'] = range(7)\n",
        "data"
      ]
    },
    {
      "cell_type": "code",
      "execution_count": 6,
      "metadata": {
        "id": "UBNHVhk0zmUS"
      },
      "outputs": [
        {
          "data": {
            "text/html": [
              "<div>\n",
              "<style scoped>\n",
              "    .dataframe tbody tr th:only-of-type {\n",
              "        vertical-align: middle;\n",
              "    }\n",
              "\n",
              "    .dataframe tbody tr th {\n",
              "        vertical-align: top;\n",
              "    }\n",
              "\n",
              "    .dataframe thead th {\n",
              "        text-align: right;\n",
              "    }\n",
              "</style>\n",
              "<table border=\"1\" class=\"dataframe\">\n",
              "  <thead>\n",
              "    <tr style=\"text-align: right;\">\n",
              "      <th></th>\n",
              "      <th>k1</th>\n",
              "      <th>k2</th>\n",
              "      <th>v1</th>\n",
              "    </tr>\n",
              "  </thead>\n",
              "  <tbody>\n",
              "    <tr>\n",
              "      <th>0</th>\n",
              "      <td>a</td>\n",
              "      <td>1</td>\n",
              "      <td>0</td>\n",
              "    </tr>\n",
              "    <tr>\n",
              "      <th>3</th>\n",
              "      <td>b</td>\n",
              "      <td>3</td>\n",
              "      <td>3</td>\n",
              "    </tr>\n",
              "  </tbody>\n",
              "</table>\n",
              "</div>"
            ],
            "text/plain": [
              "  k1  k2  v1\n",
              "0  a   1   0\n",
              "3  b   3   3"
            ]
          },
          "execution_count": 6,
          "metadata": {},
          "output_type": "execute_result"
        }
      ],
      "source": [
        "data.drop_duplicates(['k1'])"
      ]
    },
    {
      "cell_type": "markdown",
      "metadata": {
        "id": "yZab6zpTissY"
      },
      "source": [
        "<a name=\"Ver-nulos\"></a>\n",
        "### Ver nulos"
      ]
    },
    {
      "cell_type": "markdown",
      "metadata": {
        "id": "2d-CCfuEzmUU"
      },
      "source": [
        "Lo primero que hay que indicar es que en general los valores NaN/missing/nulos no son un problema para Pandas, la mayoría de las características los soportan sin problemas.\n",
        "\n",
        "Sin embargo, en la librería de machine learning `sklearn` sí puede dar error, por lo que puede que queramos eliminarlos.\n",
        "\n",
        "Empezamos creando un ejemplo:"
      ]
    },
    {
      "cell_type": "code",
      "execution_count": 7,
      "metadata": {
        "id": "wolfaa7vzmUU"
      },
      "outputs": [
        {
          "data": {
            "text/html": [
              "<div>\n",
              "<style scoped>\n",
              "    .dataframe tbody tr th:only-of-type {\n",
              "        vertical-align: middle;\n",
              "    }\n",
              "\n",
              "    .dataframe tbody tr th {\n",
              "        vertical-align: top;\n",
              "    }\n",
              "\n",
              "    .dataframe thead th {\n",
              "        text-align: right;\n",
              "    }\n",
              "</style>\n",
              "<table border=\"1\" class=\"dataframe\">\n",
              "  <thead>\n",
              "    <tr style=\"text-align: right;\">\n",
              "      <th></th>\n",
              "      <th>A</th>\n",
              "      <th>B</th>\n",
              "      <th>C</th>\n",
              "      <th>D</th>\n",
              "      <th>E</th>\n",
              "      <th>F</th>\n",
              "    </tr>\n",
              "  </thead>\n",
              "  <tbody>\n",
              "    <tr>\n",
              "      <th>0</th>\n",
              "      <td>601166.0</td>\n",
              "      <td>20111231.0</td>\n",
              "      <td>601166.0</td>\n",
              "      <td>NaN</td>\n",
              "      <td>NaN</td>\n",
              "      <td>NaN</td>\n",
              "    </tr>\n",
              "    <tr>\n",
              "      <th>1</th>\n",
              "      <td>600036.0</td>\n",
              "      <td>20111231.0</td>\n",
              "      <td>600036.0</td>\n",
              "      <td>NaN</td>\n",
              "      <td>12.0</td>\n",
              "      <td>NaN</td>\n",
              "    </tr>\n",
              "    <tr>\n",
              "      <th>2</th>\n",
              "      <td>600016.0</td>\n",
              "      <td>20111231.0</td>\n",
              "      <td>600016.0</td>\n",
              "      <td>4.3</td>\n",
              "      <td>NaN</td>\n",
              "      <td>NaN</td>\n",
              "    </tr>\n",
              "    <tr>\n",
              "      <th>3</th>\n",
              "      <td>601009.0</td>\n",
              "      <td>20111231.0</td>\n",
              "      <td>601009.0</td>\n",
              "      <td>NaN</td>\n",
              "      <td>NaN</td>\n",
              "      <td>NaN</td>\n",
              "    </tr>\n",
              "    <tr>\n",
              "      <th>4</th>\n",
              "      <td>601939.0</td>\n",
              "      <td>20111231.0</td>\n",
              "      <td>601939.0</td>\n",
              "      <td>2.5</td>\n",
              "      <td>8.0</td>\n",
              "      <td>NaN</td>\n",
              "    </tr>\n",
              "    <tr>\n",
              "      <th>5</th>\n",
              "      <td>100001.0</td>\n",
              "      <td>20111231.0</td>\n",
              "      <td>100001.0</td>\n",
              "      <td>NaN</td>\n",
              "      <td>NaN</td>\n",
              "      <td>NaN</td>\n",
              "    </tr>\n",
              "    <tr>\n",
              "      <th>6</th>\n",
              "      <td>NaN</td>\n",
              "      <td>NaN</td>\n",
              "      <td>NaN</td>\n",
              "      <td>NaN</td>\n",
              "      <td>NaN</td>\n",
              "      <td>NaN</td>\n",
              "    </tr>\n",
              "  </tbody>\n",
              "</table>\n",
              "</div>"
            ],
            "text/plain": [
              "          A           B         C    D     E   F\n",
              "0  601166.0  20111231.0  601166.0  NaN   NaN NaN\n",
              "1  600036.0  20111231.0  600036.0  NaN  12.0 NaN\n",
              "2  600016.0  20111231.0  600016.0  4.3   NaN NaN\n",
              "3  601009.0  20111231.0  601009.0  NaN   NaN NaN\n",
              "4  601939.0  20111231.0  601939.0  2.5   8.0 NaN\n",
              "5  100001.0  20111231.0  100001.0  NaN   NaN NaN\n",
              "6       NaN         NaN       NaN  NaN   NaN NaN"
            ]
          },
          "execution_count": 7,
          "metadata": {},
          "output_type": "execute_result"
        }
      ],
      "source": [
        "import pandas as pd\n",
        "import numpy as np\n",
        "datos= [\n",
        "    [601166, 20111231,  601166,  np.nan,   np.nan, np.nan],\n",
        "    [600036, 20111231,  600036,  np.nan,    12, np.nan],\n",
        "    [600016, 20111231,  600016,  4.3,   np.nan, np.nan],\n",
        "    [601009, 20111231,  601009,  np.nan,   np.nan, np.nan],\n",
        "    [601939, 20111231,  601939,  2.5,  8],\n",
        "    [100001, 20111231,  100001,  np.nan,   np.nan, np.nan],\n",
        "    [np.nan, np.nan,  np.nan,  np.nan,   np.nan, np.nan]\n",
        "\n",
        "]\n",
        "\n",
        "df = pd.DataFrame(datos,columns=['A','B','C','D','E','F'])\n",
        "df"
      ]
    },
    {
      "cell_type": "markdown",
      "metadata": {
        "id": "v5RODZjhzmUU"
      },
      "source": [
        "Lo primero sería contar el número de nulos por columna"
      ]
    },
    {
      "cell_type": "code",
      "execution_count": 14,
      "metadata": {},
      "outputs": [
        {
          "data": {
            "text/html": [
              "<div>\n",
              "<style scoped>\n",
              "    .dataframe tbody tr th:only-of-type {\n",
              "        vertical-align: middle;\n",
              "    }\n",
              "\n",
              "    .dataframe tbody tr th {\n",
              "        vertical-align: top;\n",
              "    }\n",
              "\n",
              "    .dataframe thead th {\n",
              "        text-align: right;\n",
              "    }\n",
              "</style>\n",
              "<table border=\"1\" class=\"dataframe\">\n",
              "  <thead>\n",
              "    <tr style=\"text-align: right;\">\n",
              "      <th></th>\n",
              "      <th>A</th>\n",
              "      <th>B</th>\n",
              "      <th>C</th>\n",
              "      <th>D</th>\n",
              "      <th>E</th>\n",
              "      <th>F</th>\n",
              "    </tr>\n",
              "  </thead>\n",
              "  <tbody>\n",
              "    <tr>\n",
              "      <th>0</th>\n",
              "      <td>False</td>\n",
              "      <td>False</td>\n",
              "      <td>False</td>\n",
              "      <td>True</td>\n",
              "      <td>True</td>\n",
              "      <td>True</td>\n",
              "    </tr>\n",
              "    <tr>\n",
              "      <th>1</th>\n",
              "      <td>False</td>\n",
              "      <td>False</td>\n",
              "      <td>False</td>\n",
              "      <td>True</td>\n",
              "      <td>False</td>\n",
              "      <td>True</td>\n",
              "    </tr>\n",
              "    <tr>\n",
              "      <th>2</th>\n",
              "      <td>False</td>\n",
              "      <td>False</td>\n",
              "      <td>False</td>\n",
              "      <td>False</td>\n",
              "      <td>True</td>\n",
              "      <td>True</td>\n",
              "    </tr>\n",
              "    <tr>\n",
              "      <th>3</th>\n",
              "      <td>False</td>\n",
              "      <td>False</td>\n",
              "      <td>False</td>\n",
              "      <td>True</td>\n",
              "      <td>True</td>\n",
              "      <td>True</td>\n",
              "    </tr>\n",
              "    <tr>\n",
              "      <th>4</th>\n",
              "      <td>False</td>\n",
              "      <td>False</td>\n",
              "      <td>False</td>\n",
              "      <td>False</td>\n",
              "      <td>False</td>\n",
              "      <td>True</td>\n",
              "    </tr>\n",
              "    <tr>\n",
              "      <th>5</th>\n",
              "      <td>False</td>\n",
              "      <td>False</td>\n",
              "      <td>False</td>\n",
              "      <td>True</td>\n",
              "      <td>True</td>\n",
              "      <td>True</td>\n",
              "    </tr>\n",
              "    <tr>\n",
              "      <th>6</th>\n",
              "      <td>True</td>\n",
              "      <td>True</td>\n",
              "      <td>True</td>\n",
              "      <td>True</td>\n",
              "      <td>True</td>\n",
              "      <td>True</td>\n",
              "    </tr>\n",
              "  </tbody>\n",
              "</table>\n",
              "</div>"
            ],
            "text/plain": [
              "       A      B      C      D      E     F\n",
              "0  False  False  False   True   True  True\n",
              "1  False  False  False   True  False  True\n",
              "2  False  False  False  False   True  True\n",
              "3  False  False  False   True   True  True\n",
              "4  False  False  False  False  False  True\n",
              "5  False  False  False   True   True  True\n",
              "6   True   True   True   True   True  True"
            ]
          },
          "execution_count": 14,
          "metadata": {},
          "output_type": "execute_result"
        }
      ],
      "source": [
        "df.isnull()"
      ]
    },
    {
      "cell_type": "code",
      "execution_count": 15,
      "metadata": {},
      "outputs": [
        {
          "data": {
            "text/plain": [
              "0    False\n",
              "1    False\n",
              "2    False\n",
              "3    False\n",
              "4    False\n",
              "5    False\n",
              "6     True\n",
              "Name: A, dtype: bool"
            ]
          },
          "execution_count": 15,
          "metadata": {},
          "output_type": "execute_result"
        }
      ],
      "source": [
        "df.A.isnull()"
      ]
    },
    {
      "cell_type": "code",
      "execution_count": 8,
      "metadata": {
        "id": "_8egWM8nzmUV"
      },
      "outputs": [
        {
          "data": {
            "text/plain": [
              "A    1\n",
              "B    1\n",
              "C    1\n",
              "D    5\n",
              "E    5\n",
              "F    7\n",
              "dtype: int64"
            ]
          },
          "execution_count": 8,
          "metadata": {},
          "output_type": "execute_result"
        }
      ],
      "source": [
        "df.isnull().sum()"
      ]
    },
    {
      "cell_type": "markdown",
      "metadata": {
        "id": "R6XtP7RczmUW"
      },
      "source": [
        "**Ejercicio 1** ¿Cómo contar el total de nulos?"
      ]
    },
    {
      "cell_type": "code",
      "execution_count": null,
      "metadata": {
        "id": "4pcX6MkOzmUW"
      },
      "outputs": [],
      "source": []
    },
    {
      "cell_type": "markdown",
      "metadata": {
        "id": "jAGrPrgLhxQS"
      },
      "source": [
        "También podemos verlo por filas con"
      ]
    },
    {
      "cell_type": "code",
      "execution_count": 9,
      "metadata": {
        "id": "x_ecaVaBh0MP"
      },
      "outputs": [
        {
          "data": {
            "text/plain": [
              "0    3\n",
              "1    2\n",
              "2    2\n",
              "3    3\n",
              "4    1\n",
              "5    3\n",
              "6    6\n",
              "dtype: int64"
            ]
          },
          "execution_count": 9,
          "metadata": {},
          "output_type": "execute_result"
        }
      ],
      "source": [
        "df.isna().sum(axis=1) # axis =1 número de columnas nulas en cada fila"
      ]
    },
    {
      "cell_type": "markdown",
      "metadata": {
        "id": "bss9JqEMiELX"
      },
      "source": [
        "Filas con algún nulo"
      ]
    },
    {
      "cell_type": "code",
      "execution_count": 10,
      "metadata": {
        "id": "46KgNyJMiHVo"
      },
      "outputs": [
        {
          "data": {
            "text/plain": [
              "np.int64(6)"
            ]
          },
          "execution_count": 10,
          "metadata": {},
          "output_type": "execute_result"
        }
      ],
      "source": [
        "(df.isna().sum() > 0).sum()"
      ]
    },
    {
      "cell_type": "markdown",
      "metadata": {
        "id": "Kc-8jAWriIX3"
      },
      "source": [
        "Columnas con algún nulo"
      ]
    },
    {
      "cell_type": "code",
      "execution_count": 11,
      "metadata": {
        "id": "PgcpB1WniKFg"
      },
      "outputs": [
        {
          "data": {
            "text/plain": [
              "np.int64(7)"
            ]
          },
          "execution_count": 11,
          "metadata": {},
          "output_type": "execute_result"
        }
      ],
      "source": [
        "(df.isna().sum(axis=1) > 0).sum()"
      ]
    },
    {
      "cell_type": "markdown",
      "metadata": {
        "id": "-kAhTw1Xi-J3"
      },
      "source": [
        "\n",
        "Sobre todo en el caso de dataframes con gran cantidad de datos utilizar una visualización adecuada puede ayudar a entender el origen de los nulos. La biblioteca missingno puede ser muy útil en este sentido"
      ]
    },
    {
      "cell_type": "code",
      "execution_count": null,
      "metadata": {
        "id": "3A8jnjOGi5oP"
      },
      "outputs": [
        {
          "name": "stdout",
          "output_type": "stream",
          "text": [
            "Collecting missingno\n",
            "  Downloading missingno-0.5.2-py3-none-any.whl.metadata (639 bytes)\n",
            "Requirement already satisfied: numpy in c:\\users\\usuario\\appdata\\local\\packages\\pythonsoftwarefoundation.python.3.11_qbz5n2kfra8p0\\localcache\\local-packages\\python311\\site-packages (from missingno) (2.2.5)\n",
            "Requirement already satisfied: matplotlib in c:\\users\\usuario\\appdata\\local\\packages\\pythonsoftwarefoundation.python.3.11_qbz5n2kfra8p0\\localcache\\local-packages\\python311\\site-packages (from missingno) (3.10.1)\n",
            "Requirement already satisfied: scipy in c:\\users\\usuario\\appdata\\local\\packages\\pythonsoftwarefoundation.python.3.11_qbz5n2kfra8p0\\localcache\\local-packages\\python311\\site-packages (from missingno) (1.15.2)\n",
            "Requirement already satisfied: seaborn in c:\\users\\usuario\\appdata\\local\\packages\\pythonsoftwarefoundation.python.3.11_qbz5n2kfra8p0\\localcache\\local-packages\\python311\\site-packages (from missingno) (0.13.2)\n",
            "Requirement already satisfied: contourpy>=1.0.1 in c:\\users\\usuario\\appdata\\local\\packages\\pythonsoftwarefoundation.python.3.11_qbz5n2kfra8p0\\localcache\\local-packages\\python311\\site-packages (from matplotlib->missingno) (1.3.2)\n",
            "Requirement already satisfied: cycler>=0.10 in c:\\users\\usuario\\appdata\\local\\packages\\pythonsoftwarefoundation.python.3.11_qbz5n2kfra8p0\\localcache\\local-packages\\python311\\site-packages (from matplotlib->missingno) (0.12.1)\n",
            "Requirement already satisfied: fonttools>=4.22.0 in c:\\users\\usuario\\appdata\\local\\packages\\pythonsoftwarefoundation.python.3.11_qbz5n2kfra8p0\\localcache\\local-packages\\python311\\site-packages (from matplotlib->missingno) (4.57.0)\n",
            "Requirement already satisfied: kiwisolver>=1.3.1 in c:\\users\\usuario\\appdata\\local\\packages\\pythonsoftwarefoundation.python.3.11_qbz5n2kfra8p0\\localcache\\local-packages\\python311\\site-packages (from matplotlib->missingno) (1.4.8)\n",
            "Requirement already satisfied: packaging>=20.0 in c:\\users\\usuario\\appdata\\local\\packages\\pythonsoftwarefoundation.python.3.11_qbz5n2kfra8p0\\localcache\\local-packages\\python311\\site-packages (from matplotlib->missingno) (25.0)\n",
            "Requirement already satisfied: pillow>=8 in c:\\users\\usuario\\appdata\\local\\packages\\pythonsoftwarefoundation.python.3.11_qbz5n2kfra8p0\\localcache\\local-packages\\python311\\site-packages (from matplotlib->missingno) (11.2.1)\n",
            "Requirement already satisfied: pyparsing>=2.3.1 in c:\\users\\usuario\\appdata\\local\\packages\\pythonsoftwarefoundation.python.3.11_qbz5n2kfra8p0\\localcache\\local-packages\\python311\\site-packages (from matplotlib->missingno) (3.2.3)\n",
            "Requirement already satisfied: python-dateutil>=2.7 in c:\\users\\usuario\\appdata\\local\\packages\\pythonsoftwarefoundation.python.3.11_qbz5n2kfra8p0\\localcache\\local-packages\\python311\\site-packages (from matplotlib->missingno) (2.9.0.post0)\n",
            "Requirement already satisfied: pandas>=1.2 in c:\\users\\usuario\\appdata\\local\\packages\\pythonsoftwarefoundation.python.3.11_qbz5n2kfra8p0\\localcache\\local-packages\\python311\\site-packages (from seaborn->missingno) (2.2.3)\n",
            "Requirement already satisfied: pytz>=2020.1 in c:\\users\\usuario\\appdata\\local\\packages\\pythonsoftwarefoundation.python.3.11_qbz5n2kfra8p0\\localcache\\local-packages\\python311\\site-packages (from pandas>=1.2->seaborn->missingno) (2025.2)\n",
            "Requirement already satisfied: tzdata>=2022.7 in c:\\users\\usuario\\appdata\\local\\packages\\pythonsoftwarefoundation.python.3.11_qbz5n2kfra8p0\\localcache\\local-packages\\python311\\site-packages (from pandas>=1.2->seaborn->missingno) (2025.2)\n",
            "Requirement already satisfied: six>=1.5 in c:\\users\\usuario\\appdata\\local\\packages\\pythonsoftwarefoundation.python.3.11_qbz5n2kfra8p0\\localcache\\local-packages\\python311\\site-packages (from python-dateutil>=2.7->matplotlib->missingno) (1.17.0)\n",
            "Downloading missingno-0.5.2-py3-none-any.whl (8.7 kB)\n",
            "Installing collected packages: missingno\n",
            "Successfully installed missingno-0.5.2\n"
          ]
        },
        {
          "name": "stderr",
          "output_type": "stream",
          "text": [
            "\n",
            "[notice] A new release of pip is available: 24.0 -> 25.1.1\n",
            "[notice] To update, run: C:\\Users\\usuario\\AppData\\Local\\Microsoft\\WindowsApps\\PythonSoftwareFoundation.Python.3.11_qbz5n2kfra8p0\\python.exe -m pip install --upgrade pip\n"
          ]
        }
      ],
      "source": [
        "#!pip install missingno"
      ]
    },
    {
      "cell_type": "code",
      "execution_count": 17,
      "metadata": {
        "id": "rVSrLIsmjPcn"
      },
      "outputs": [
        {
          "data": {
            "text/html": [
              "<div>\n",
              "<style scoped>\n",
              "    .dataframe tbody tr th:only-of-type {\n",
              "        vertical-align: middle;\n",
              "    }\n",
              "\n",
              "    .dataframe tbody tr th {\n",
              "        vertical-align: top;\n",
              "    }\n",
              "\n",
              "    .dataframe thead th {\n",
              "        text-align: right;\n",
              "    }\n",
              "</style>\n",
              "<table border=\"1\" class=\"dataframe\">\n",
              "  <thead>\n",
              "    <tr style=\"text-align: right;\">\n",
              "      <th></th>\n",
              "      <th>_id</th>\n",
              "      <th>text</th>\n",
              "      <th>userid</th>\n",
              "      <th>screen_name</th>\n",
              "      <th>created_at</th>\n",
              "      <th>lang</th>\n",
              "      <th>quote_count</th>\n",
              "      <th>reply_count</th>\n",
              "      <th>retweet_count</th>\n",
              "      <th>favorite_count</th>\n",
              "      <th>coordinates</th>\n",
              "      <th>reply</th>\n",
              "      <th>quote</th>\n",
              "      <th>RT</th>\n",
              "      <th>RT_source</th>\n",
              "      <th>nRTin</th>\n",
              "    </tr>\n",
              "  </thead>\n",
              "  <tbody>\n",
              "    <tr>\n",
              "      <th>0</th>\n",
              "      <td>1322162444786126848</td>\n",
              "      <td>Winners attract other winners</td>\n",
              "      <td>289706821</td>\n",
              "      <td>thatguy0603</td>\n",
              "      <td>2020-10-30T13:04:26.000Z</td>\n",
              "      <td>en</td>\n",
              "      <td>0.0</td>\n",
              "      <td>0.0</td>\n",
              "      <td>0.0</td>\n",
              "      <td>0.0</td>\n",
              "      <td>NaN</td>\n",
              "      <td>False</td>\n",
              "      <td>True</td>\n",
              "      <td>False</td>\n",
              "      <td>NaN</td>\n",
              "      <td>0.0</td>\n",
              "    </tr>\n",
              "    <tr>\n",
              "      <th>1</th>\n",
              "      <td>1316829358686834688</td>\n",
              "      <td>NOW WE KNOW...C-SPAN Steve Sculley tried to ri...</td>\n",
              "      <td>1116507977828175872</td>\n",
              "      <td>FloridaDude297</td>\n",
              "      <td>2020-10-15T19:52:39.000Z</td>\n",
              "      <td>en</td>\n",
              "      <td>12.0</td>\n",
              "      <td>28.0</td>\n",
              "      <td>681.0</td>\n",
              "      <td>1232.0</td>\n",
              "      <td>NaN</td>\n",
              "      <td>False</td>\n",
              "      <td>False</td>\n",
              "      <td>False</td>\n",
              "      <td>NaN</td>\n",
              "      <td>0.0</td>\n",
              "    </tr>\n",
              "    <tr>\n",
              "      <th>2</th>\n",
              "      <td>1318888111699599362</td>\n",
              "      <td>NaN</td>\n",
              "      <td>1290009888580657152</td>\n",
              "      <td>why_inn</td>\n",
              "      <td>2020-10-21T12:13:24.000Z</td>\n",
              "      <td>NaN</td>\n",
              "      <td>NaN</td>\n",
              "      <td>NaN</td>\n",
              "      <td>NaN</td>\n",
              "      <td>NaN</td>\n",
              "      <td>NaN</td>\n",
              "      <td>NaN</td>\n",
              "      <td>NaN</td>\n",
              "      <td>True</td>\n",
              "      <td>1.318884e+18</td>\n",
              "      <td>NaN</td>\n",
              "    </tr>\n",
              "    <tr>\n",
              "      <th>3</th>\n",
              "      <td>1321483993922023424</td>\n",
              "      <td>@realDonaldTrump Vote Biden🌊🌊🌊🌊🌊🌊🌊🌊🌊🌊🌊</td>\n",
              "      <td>922851359594033152</td>\n",
              "      <td>Janet06969062</td>\n",
              "      <td>2020-10-28T16:08:30.000Z</td>\n",
              "      <td>fr</td>\n",
              "      <td>0.0</td>\n",
              "      <td>0.0</td>\n",
              "      <td>0.0</td>\n",
              "      <td>0.0</td>\n",
              "      <td>NaN</td>\n",
              "      <td>True</td>\n",
              "      <td>False</td>\n",
              "      <td>False</td>\n",
              "      <td>NaN</td>\n",
              "      <td>0.0</td>\n",
              "    </tr>\n",
              "    <tr>\n",
              "      <th>4</th>\n",
              "      <td>1313626566694404096</td>\n",
              "      <td>NaN</td>\n",
              "      <td>3285934814</td>\n",
              "      <td>Bill4TruthTrump</td>\n",
              "      <td>2020-10-06T23:45:54.000Z</td>\n",
              "      <td>NaN</td>\n",
              "      <td>NaN</td>\n",
              "      <td>NaN</td>\n",
              "      <td>NaN</td>\n",
              "      <td>NaN</td>\n",
              "      <td>NaN</td>\n",
              "      <td>NaN</td>\n",
              "      <td>NaN</td>\n",
              "      <td>True</td>\n",
              "      <td>1.313618e+18</td>\n",
              "      <td>NaN</td>\n",
              "    </tr>\n",
              "    <tr>\n",
              "      <th>...</th>\n",
              "      <td>...</td>\n",
              "      <td>...</td>\n",
              "      <td>...</td>\n",
              "      <td>...</td>\n",
              "      <td>...</td>\n",
              "      <td>...</td>\n",
              "      <td>...</td>\n",
              "      <td>...</td>\n",
              "      <td>...</td>\n",
              "      <td>...</td>\n",
              "      <td>...</td>\n",
              "      <td>...</td>\n",
              "      <td>...</td>\n",
              "      <td>...</td>\n",
              "      <td>...</td>\n",
              "      <td>...</td>\n",
              "    </tr>\n",
              "    <tr>\n",
              "      <th>8218</th>\n",
              "      <td>1315812986049576961</td>\n",
              "      <td>Anderson Cooper’s face when he hears they are ...</td>\n",
              "      <td>27950593</td>\n",
              "      <td>BookofJonah</td>\n",
              "      <td>2020-10-13T00:33:57.000Z</td>\n",
              "      <td>en</td>\n",
              "      <td>0.0</td>\n",
              "      <td>0.0</td>\n",
              "      <td>0.0</td>\n",
              "      <td>0.0</td>\n",
              "      <td>NaN</td>\n",
              "      <td>False</td>\n",
              "      <td>False</td>\n",
              "      <td>False</td>\n",
              "      <td>NaN</td>\n",
              "      <td>11248.0</td>\n",
              "    </tr>\n",
              "    <tr>\n",
              "      <th>8219</th>\n",
              "      <td>1316458442303967232</td>\n",
              "      <td>@Annakhait @GeorgePaschall @JoeBiden Find the ...</td>\n",
              "      <td>1074690010266386437</td>\n",
              "      <td>Skeye_Watching</td>\n",
              "      <td>2020-10-14T19:18:45.000Z</td>\n",
              "      <td>en</td>\n",
              "      <td>0.0</td>\n",
              "      <td>0.0</td>\n",
              "      <td>2.0</td>\n",
              "      <td>3.0</td>\n",
              "      <td>NaN</td>\n",
              "      <td>True</td>\n",
              "      <td>False</td>\n",
              "      <td>False</td>\n",
              "      <td>NaN</td>\n",
              "      <td>1.0</td>\n",
              "    </tr>\n",
              "    <tr>\n",
              "      <th>8220</th>\n",
              "      <td>1322185176261296132</td>\n",
              "      <td>Should we have a law that would severely punis...</td>\n",
              "      <td>1290693635441332230</td>\n",
              "      <td>noname76089779</td>\n",
              "      <td>2020-10-30T14:34:45.000Z</td>\n",
              "      <td>en</td>\n",
              "      <td>2.0</td>\n",
              "      <td>5.0</td>\n",
              "      <td>11.0</td>\n",
              "      <td>8.0</td>\n",
              "      <td>NaN</td>\n",
              "      <td>False</td>\n",
              "      <td>False</td>\n",
              "      <td>False</td>\n",
              "      <td>NaN</td>\n",
              "      <td>43.0</td>\n",
              "    </tr>\n",
              "    <tr>\n",
              "      <th>8221</th>\n",
              "      <td>1319049364753481728</td>\n",
              "      <td>@MilesTaylorUSA @JoeBiden https://t.co/JXZEHDjG5P</td>\n",
              "      <td>493606253</td>\n",
              "      <td>LocolopezNYC</td>\n",
              "      <td>2020-10-21T22:54:09.000Z</td>\n",
              "      <td>und</td>\n",
              "      <td>0.0</td>\n",
              "      <td>0.0</td>\n",
              "      <td>0.0</td>\n",
              "      <td>0.0</td>\n",
              "      <td>NaN</td>\n",
              "      <td>True</td>\n",
              "      <td>False</td>\n",
              "      <td>False</td>\n",
              "      <td>NaN</td>\n",
              "      <td>12.0</td>\n",
              "    </tr>\n",
              "    <tr>\n",
              "      <th>8222</th>\n",
              "      <td>1322741933073027072</td>\n",
              "      <td>JUST IN:  Two men were arrested in Florida aft...</td>\n",
              "      <td>1092086942198452224</td>\n",
              "      <td>no_silenced</td>\n",
              "      <td>2020-11-01T03:27:06.000Z</td>\n",
              "      <td>en</td>\n",
              "      <td>1.0</td>\n",
              "      <td>1.0</td>\n",
              "      <td>32.0</td>\n",
              "      <td>52.0</td>\n",
              "      <td>NaN</td>\n",
              "      <td>False</td>\n",
              "      <td>False</td>\n",
              "      <td>False</td>\n",
              "      <td>NaN</td>\n",
              "      <td>204.0</td>\n",
              "    </tr>\n",
              "  </tbody>\n",
              "</table>\n",
              "<p>8223 rows × 16 columns</p>\n",
              "</div>"
            ],
            "text/plain": [
              "                      _id                                               text  \\\n",
              "0     1322162444786126848                      Winners attract other winners   \n",
              "1     1316829358686834688  NOW WE KNOW...C-SPAN Steve Sculley tried to ri...   \n",
              "2     1318888111699599362                                                NaN   \n",
              "3     1321483993922023424             @realDonaldTrump Vote Biden🌊🌊🌊🌊🌊🌊🌊🌊🌊🌊🌊   \n",
              "4     1313626566694404096                                                NaN   \n",
              "...                   ...                                                ...   \n",
              "8218  1315812986049576961  Anderson Cooper’s face when he hears they are ...   \n",
              "8219  1316458442303967232  @Annakhait @GeorgePaschall @JoeBiden Find the ...   \n",
              "8220  1322185176261296132  Should we have a law that would severely punis...   \n",
              "8221  1319049364753481728  @MilesTaylorUSA @JoeBiden https://t.co/JXZEHDjG5P   \n",
              "8222  1322741933073027072  JUST IN:  Two men were arrested in Florida aft...   \n",
              "\n",
              "                   userid      screen_name                created_at lang  \\\n",
              "0               289706821      thatguy0603  2020-10-30T13:04:26.000Z   en   \n",
              "1     1116507977828175872   FloridaDude297  2020-10-15T19:52:39.000Z   en   \n",
              "2     1290009888580657152          why_inn  2020-10-21T12:13:24.000Z  NaN   \n",
              "3      922851359594033152    Janet06969062  2020-10-28T16:08:30.000Z   fr   \n",
              "4              3285934814  Bill4TruthTrump  2020-10-06T23:45:54.000Z  NaN   \n",
              "...                   ...              ...                       ...  ...   \n",
              "8218             27950593      BookofJonah  2020-10-13T00:33:57.000Z   en   \n",
              "8219  1074690010266386437   Skeye_Watching  2020-10-14T19:18:45.000Z   en   \n",
              "8220  1290693635441332230   noname76089779  2020-10-30T14:34:45.000Z   en   \n",
              "8221            493606253     LocolopezNYC  2020-10-21T22:54:09.000Z  und   \n",
              "8222  1092086942198452224      no_silenced  2020-11-01T03:27:06.000Z   en   \n",
              "\n",
              "      quote_count  reply_count  retweet_count  favorite_count  coordinates  \\\n",
              "0             0.0          0.0            0.0             0.0          NaN   \n",
              "1            12.0         28.0          681.0          1232.0          NaN   \n",
              "2             NaN          NaN            NaN             NaN          NaN   \n",
              "3             0.0          0.0            0.0             0.0          NaN   \n",
              "4             NaN          NaN            NaN             NaN          NaN   \n",
              "...           ...          ...            ...             ...          ...   \n",
              "8218          0.0          0.0            0.0             0.0          NaN   \n",
              "8219          0.0          0.0            2.0             3.0          NaN   \n",
              "8220          2.0          5.0           11.0             8.0          NaN   \n",
              "8221          0.0          0.0            0.0             0.0          NaN   \n",
              "8222          1.0          1.0           32.0            52.0          NaN   \n",
              "\n",
              "      reply  quote     RT     RT_source    nRTin  \n",
              "0     False   True  False           NaN      0.0  \n",
              "1     False  False  False           NaN      0.0  \n",
              "2       NaN    NaN   True  1.318884e+18      NaN  \n",
              "3      True  False  False           NaN      0.0  \n",
              "4       NaN    NaN   True  1.313618e+18      NaN  \n",
              "...     ...    ...    ...           ...      ...  \n",
              "8218  False  False  False           NaN  11248.0  \n",
              "8219   True  False  False           NaN      1.0  \n",
              "8220  False  False  False           NaN     43.0  \n",
              "8221   True  False  False           NaN     12.0  \n",
              "8222  False  False  False           NaN    204.0  \n",
              "\n",
              "[8223 rows x 16 columns]"
            ]
          },
          "execution_count": 17,
          "metadata": {},
          "output_type": "execute_result"
        }
      ],
      "source": [
        "\n",
        "import pandas as pd\n",
        "import missingno as msno\n",
        "\n",
        "\n",
        "url=\"https://github.com/RafaelCaballero/tdm/blob/master/datos/tusa2020.csv?raw=true\"\n",
        "df = pd.read_csv(url)\n",
        "df"
      ]
    },
    {
      "cell_type": "code",
      "execution_count": 18,
      "metadata": {
        "id": "xPjDlHoENVFl"
      },
      "outputs": [
        {
          "name": "stdout",
          "output_type": "stream",
          "text": [
            "<class 'pandas.core.frame.DataFrame'>\n",
            "RangeIndex: 8223 entries, 0 to 8222\n",
            "Data columns (total 16 columns):\n",
            " #   Column          Non-Null Count  Dtype  \n",
            "---  ------          --------------  -----  \n",
            " 0   _id             8223 non-null   int64  \n",
            " 1   text            4126 non-null   object \n",
            " 2   userid          8223 non-null   int64  \n",
            " 3   screen_name     8223 non-null   object \n",
            " 4   created_at      8223 non-null   object \n",
            " 5   lang            4126 non-null   object \n",
            " 6   quote_count     4126 non-null   float64\n",
            " 7   reply_count     4126 non-null   float64\n",
            " 8   retweet_count   4126 non-null   float64\n",
            " 9   favorite_count  4126 non-null   float64\n",
            " 10  coordinates     0 non-null      float64\n",
            " 11  reply           4126 non-null   object \n",
            " 12  quote           4110 non-null   object \n",
            " 13  RT              8223 non-null   bool   \n",
            " 14  RT_source       4097 non-null   float64\n",
            " 15  nRTin           4126 non-null   float64\n",
            "dtypes: bool(1), float64(7), int64(2), object(6)\n",
            "memory usage: 971.8+ KB\n"
          ]
        }
      ],
      "source": [
        "df.info()"
      ]
    },
    {
      "cell_type": "markdown",
      "metadata": {
        "id": "GnkA0tFpNVFm"
      },
      "source": [
        "Vemos que `coordinates`solo tiene nulos; podemos quitarla directamente"
      ]
    },
    {
      "cell_type": "code",
      "execution_count": 19,
      "metadata": {
        "id": "2yNK5XSNNVFm"
      },
      "outputs": [],
      "source": [
        "df2 = df.drop(columns=[\"coordinates\"])"
      ]
    },
    {
      "cell_type": "markdown",
      "metadata": {
        "id": "Ux5q0piFNVFm"
      },
      "source": [
        "Un \"histograma de nulos\":"
      ]
    },
    {
      "cell_type": "code",
      "execution_count": 20,
      "metadata": {
        "id": "2kdSRL4LNVFm"
      },
      "outputs": [
        {
          "data": {
            "text/plain": [
              "<Axes: >"
            ]
          },
          "execution_count": 20,
          "metadata": {},
          "output_type": "execute_result"
        },
        {
          "data": {
            "image/png": "[encoded data removed]",
            "text/plain": [
              "<Figure size 2500x1000 with 3 Axes>"
            ]
          },
          "metadata": {},
          "output_type": "display_data"
        }
      ],
      "source": [
        "msno.bar(df)"
      ]
    },
    {
      "cell_type": "markdown",
      "metadata": {
        "id": "76wSIFyiNVFm"
      },
      "source": [
        "Otra forma, que puede resultar más informativa"
      ]
    },
    {
      "cell_type": "code",
      "execution_count": 21,
      "metadata": {
        "id": "YtruAA3bNVFn"
      },
      "outputs": [
        {
          "data": {
            "text/plain": [
              "<Axes: >"
            ]
          },
          "execution_count": 21,
          "metadata": {},
          "output_type": "execute_result"
        },
        {
          "data": {
            "image/png": "[encoded data removed]",
            "text/plain": [
              "<Figure size 2500x1000 with 2 Axes>"
            ]
          },
          "metadata": {},
          "output_type": "display_data"
        }
      ],
      "source": [
        "msno.matrix(df)"
      ]
    },
    {
      "cell_type": "markdown",
      "metadata": {
        "id": "1quflM0mNVFn"
      },
      "source": [
        "En este gráfico los nulos aparecen como líneas blancas ¿llama algo la atención al comparar unas columnas con otras?"
      ]
    },
    {
      "cell_type": "markdown",
      "metadata": {
        "id": "qZ9lF0CANVFn"
      },
      "source": [
        "El método `heatmap` nos ayudará a relacionar columnas con nulos entre sí:"
      ]
    },
    {
      "cell_type": "code",
      "execution_count": null,
      "metadata": {
        "id": "RVf-NWdnNVFn"
      },
      "outputs": [],
      "source": [
        "msno.heatmap(df)"
      ]
    },
    {
      "cell_type": "markdown",
      "metadata": {
        "id": "vW8JSzMJO9K-"
      },
      "source": [
        "El valor 1 indica que los nulos suceden a la vez. ne la misma fila, y el -1 que lo hacen en filas contrarias"
      ]
    },
    {
      "cell_type": "markdown",
      "metadata": {
        "id": "7cviZ-QLzmUT"
      },
      "source": [
        "<a name=\"Eliminar-nulos\"></a>\n",
        "### Eliminar nulos"
      ]
    },
    {
      "cell_type": "markdown",
      "metadata": {
        "id": "YpIC-8q1zmUW"
      },
      "source": [
        "Por defecto, `dropna` borra las filas que tienen algún NaN"
      ]
    },
    {
      "cell_type": "code",
      "execution_count": null,
      "metadata": {
        "id": "J19Cu6VnzmUW"
      },
      "outputs": [],
      "source": [
        "df2 = df.dropna()\n",
        "df2"
      ]
    },
    {
      "cell_type": "markdown",
      "metadata": {
        "id": "jJghw-ndzmUW"
      },
      "source": [
        "Problema: hemos borrado el dataframe entero. Una alternativa más conservadora es borrar filas tienen todas sus columnas a  NaN"
      ]
    },
    {
      "cell_type": "code",
      "execution_count": null,
      "metadata": {
        "id": "EUa28s85zmUW"
      },
      "outputs": [],
      "source": [
        "df.dropna(how=\"all\")"
      ]
    },
    {
      "cell_type": "markdown",
      "metadata": {
        "id": "ASH-NyjNNlCW"
      },
      "source": [
        "Ahora no hemos borrado ninguno!! todas las filas tienen algún componente no nulo"
      ]
    },
    {
      "cell_type": "code",
      "execution_count": null,
      "metadata": {
        "id": "R_EdO7EHNVFp"
      },
      "outputs": [],
      "source": []
    },
    {
      "cell_type": "markdown",
      "metadata": {
        "id": "Gn87bqhZzmUW"
      },
      "source": [
        "**Ejercicio 2** También se pueden borrar columnas añadiendo axis=1 para indicar que trabaje por columnas. Hacerlo:"
      ]
    },
    {
      "cell_type": "code",
      "execution_count": null,
      "metadata": {
        "id": "f3vZUYxGzmUX"
      },
      "outputs": [],
      "source": []
    },
    {
      "cell_type": "markdown",
      "metadata": {
        "id": "uyh8U3jOzmUX"
      },
      "source": [
        "También se pueden conservar solo las que tienen a partir un cierto número de valores distintos de 0"
      ]
    },
    {
      "cell_type": "code",
      "execution_count": null,
      "metadata": {
        "id": "bMly924WzmUX"
      },
      "outputs": [],
      "source": [
        "df.dropna(thresh=7) # probar a poner 6"
      ]
    },
    {
      "cell_type": "markdown",
      "metadata": {
        "id": "et7t3ikfzmUX"
      },
      "source": [
        "Finalmente, podemos indicar que borre solo las que tiene nulos en una cierta columna"
      ]
    },
    {
      "cell_type": "code",
      "execution_count": null,
      "metadata": {
        "id": "inZGum1hzmUY"
      },
      "outputs": [],
      "source": [
        "df.dropna(subset=['lang'])"
      ]
    },
    {
      "cell_type": "markdown",
      "metadata": {
        "id": "X7XmEkykhdn_"
      },
      "source": [
        "**Comentario**  La eliminación de nulos puede ser complicada; quizás perdiendo información ya que al quitar los nulos quitamos también otros datos potencialmente valiosos. Es conveniente hacer un estudio detallado de dónde aparecen los nulos y qué efectos tienen las distintas medidas que pueden ser\n",
        "\n",
        "\n",
        "\n",
        "*   Eliminarlos, hay que ver si por filas, por columnas o por ambas y en qué orden\n",
        "*   Sustituirlo por un valor adecuado, por ejemplo la media de los valores o la interpolación mediante una función. **Nunca** sustituirlos por un valor mágico, que afectará a nuestros análisis\n",
        "\n",
        "\n"
      ]
    },
    {
      "cell_type": "markdown",
      "metadata": {
        "id": "hOGrzxSZo6Fp"
      },
      "source": [
        "**Ejercicio 3**\n",
        "Separar el dataframe df2 en dos, uno df_RT con los valores RT_source distinto de  null y otro df_original con  los valores RT_source a null"
      ]
    },
    {
      "cell_type": "code",
      "execution_count": null,
      "metadata": {
        "id": "7SK7TAvlsSRo"
      },
      "outputs": [],
      "source": []
    },
    {
      "cell_type": "markdown",
      "metadata": {
        "id": "nyhv_qZys9JQ"
      },
      "source": [
        "**Ejercicio 4**\n",
        "\n",
        "---\n",
        "\n",
        "\n",
        "\n",
        "¿Eliminarías alguna columna de alguno de los dos ficheros por tener nulos?"
      ]
    },
    {
      "cell_type": "code",
      "execution_count": null,
      "metadata": {
        "id": "XJq1tYtKtF9A"
      },
      "outputs": [],
      "source": []
    },
    {
      "cell_type": "markdown",
      "metadata": {
        "id": "SarbCOV6wKjQ"
      },
      "source": [
        "**Consejo** En ocasiones es mejor no eliminar a priori los nulos porque puede ser que hagamos distintos análisis con distintas columnas, en ese caso eliminaremos solo tras obtener el dataframe auxiliar conl as columnas necesarias, reduciendo la pérdida de información"
      ]
    },
    {
      "cell_type": "markdown",
      "metadata": {
        "id": "CRloiKiAzmUY"
      },
      "source": [
        "<a name=\"Transformación-de-valores\"></a>\n",
        "### Tranformación de valores"
      ]
    },
    {
      "cell_type": "markdown",
      "metadata": {
        "id": "zwAfoS0GzmUY"
      },
      "source": [
        "Empezamos con un ejemplo de asignaturas y los créditos que representan"
      ]
    },
    {
      "cell_type": "code",
      "execution_count": null,
      "metadata": {
        "id": "calOBgBEzmUZ"
      },
      "outputs": [],
      "source": [
        "data = {'nombre': ['A', 'B', 'C', 'D','E', 'F', 'G'],\n",
        "        'creditos': [4,  6,  4.5, 6,  6, 4.5,  12]}\n",
        "df = pd.DataFrame(data)\n",
        "df"
      ]
    },
    {
      "cell_type": "markdown",
      "metadata": {
        "id": "bKF3RfFlzmUZ"
      },
      "source": [
        "**Ejercicio 6** Suponiendo que un crédito son 10 horas lectivas, añadir una columna que 'horas' con los créditos multiplicados por 10"
      ]
    },
    {
      "cell_type": "code",
      "execution_count": null,
      "metadata": {
        "id": "UjcCaVDAzmUZ"
      },
      "outputs": [],
      "source": []
    },
    {
      "cell_type": "markdown",
      "metadata": {
        "id": "yYbfeiKuzmUa"
      },
      "source": [
        "Un caso especial: reemplazar todos los valores concretos. Supongamos que todas las asignaturas de 12 créditos pasan a ser de 16. Podemos hacer"
      ]
    },
    {
      "cell_type": "code",
      "execution_count": null,
      "metadata": {
        "id": "Uidtn18bzmUa"
      },
      "outputs": [],
      "source": [
        "df2 = df.replace(12, 16)\n",
        "df2['horas'] = df2.creditos*10\n",
        "df2"
      ]
    },
    {
      "cell_type": "markdown",
      "metadata": {
        "id": "87fuyo9VzmUa"
      },
      "source": [
        "Supongamos ahora que queremos añadir una columna 'tipo' que vale 'optativa' para todas las asignaturas de 4.5 créditos o menos y 'troncal' para asignaturas de más de 4.5 créditos.\n",
        "\n",
        "Lo primero será escribir una función que haga esta transformación:"
      ]
    },
    {
      "cell_type": "code",
      "execution_count": 23,
      "metadata": {
        "id": "Cs-lhwEXzmUa"
      },
      "outputs": [],
      "source": [
        "def calcula_tipo(creditos):\n",
        "    if creditos>4.5:\n",
        "        r = 'troncal'\n",
        "    else:\n",
        "        r = 'optativa'\n",
        "    return r"
      ]
    },
    {
      "cell_type": "code",
      "execution_count": 24,
      "metadata": {},
      "outputs": [
        {
          "data": {
            "text/plain": [
              "'troncal'"
            ]
          },
          "execution_count": 24,
          "metadata": {},
          "output_type": "execute_result"
        }
      ],
      "source": [
        "calcula_tipo(5)"
      ]
    },
    {
      "cell_type": "markdown",
      "metadata": {
        "id": "STR0e0p7zmUb"
      },
      "source": [
        "Ahora la aplicamos a columna créditos con la función `map` que aplica una función a todos los elementos de una columna:"
      ]
    },
    {
      "cell_type": "code",
      "execution_count": null,
      "metadata": {
        "id": "A6wR_3NgzmUb"
      },
      "outputs": [],
      "source": [
        "df['tipo'] = df.creditos.map(calcula_tipo)\n",
        "df"
      ]
    },
    {
      "cell_type": "markdown",
      "metadata": {
        "id": "czM2avwTzmUb"
      },
      "source": [
        "También se puede hacer directamente con una función lambda:"
      ]
    },
    {
      "cell_type": "code",
      "execution_count": null,
      "metadata": {
        "id": "TDbBYEC3zmUb"
      },
      "outputs": [],
      "source": [
        "df['tipo2'] = df.creditos.map(lambda x:'optativa' if x<=4.5 else 'troncal')\n",
        "df"
      ]
    },
    {
      "cell_type": "markdown",
      "metadata": {
        "id": "Ou6LVh_ivIY4"
      },
      "source": [
        "<a name=\"normalizacion\"></a>\n",
        "### Normalización y estandarización"
      ]
    },
    {
      "cell_type": "markdown",
      "metadata": {
        "id": "agrxjrXDvcYX"
      },
      "source": [
        "Vamos a ver estas dos formas de ajustar los datos con un ejemplo\n"
      ]
    },
    {
      "cell_type": "code",
      "execution_count": null,
      "metadata": {
        "id": "Vsu-hN5azmUc"
      },
      "outputs": [],
      "source": [
        "import pandas as pd\n",
        "\n",
        "fich = \"https://raw.githubusercontent.com/RafaelCaballero/tdm/master/datos/madrid/contmettraf.csv\"\n",
        "df = pd.read_csv(fich,parse_dates=[\"FECHAH\"])\n",
        "df.index = df[\"FECHAH\"]\n",
        "df"
      ]
    },
    {
      "cell_type": "markdown",
      "metadata": {
        "id": "j38JtnZ_waPm"
      },
      "source": [
        "#### Normalización\n",
        "\n",
        "Supongamos que queremos hacer una gráfica sencilla de NO y CO\n",
        "\n",
        "Primero vamos a escribir código para obtener un dataframe `dfEne21` que solo tenga las filas de df que correspondan al mes 1 de 2021. Esto se puede hacer filtrando el mes y el año (se utiliza .dt. para indcar a pandas que es una fecha)"
      ]
    },
    {
      "cell_type": "code",
      "execution_count": null,
      "metadata": {
        "id": "fKsC8oNowlYw"
      },
      "outputs": [],
      "source": [
        "filtro = (df.FECHAH.dt.month == 1) & (df.FECHAH.dt.year == 2021)\n",
        "dfEne21 = df[filtro]\n",
        "dfEne21\n"
      ]
    },
    {
      "cell_type": "markdown",
      "metadata": {
        "id": "_LT-W8LCxVSo"
      },
      "source": [
        "**Ejercicio 8** Escribir código para obtener un dataframe df2 a partir de `dfEne21` que solo tenga la columna \"CO\" y \"NO\". Eliminar  además de df2 todas las filas con algún nulo"
      ]
    },
    {
      "cell_type": "code",
      "execution_count": null,
      "metadata": {
        "id": "9qnendvcxmxf"
      },
      "outputs": [],
      "source": []
    },
    {
      "cell_type": "markdown",
      "metadata": {
        "id": "ZODFiTY-xCo3"
      },
      "source": [
        "Podemos hacer la gráfica así de fácil"
      ]
    },
    {
      "cell_type": "code",
      "execution_count": null,
      "metadata": {
        "id": "gwELPE9-xBwv"
      },
      "outputs": [],
      "source": [
        "df2.iloc[100:300,:].plot()"
      ]
    },
    {
      "cell_type": "markdown",
      "metadata": {
        "id": "oahZnBMu0QAA"
      },
      "source": [
        "¿Cuál es el problema? que está en escalas diferentes. y el CO apenas se ve. Vamos a *normalizar* las columnas con la fórmula\n",
        "\n",
        "X_new = (X - X_min)/(X_max - X_min)"
      ]
    },
    {
      "cell_type": "code",
      "execution_count": null,
      "metadata": {
        "id": "VgvSFm3H0gvg"
      },
      "outputs": [],
      "source": [
        "from sklearn.preprocessing import MinMaxScaler\n",
        "\n",
        "metodo = MinMaxScaler()\n",
        "escalador = metodo.fit(df2)\n",
        "escalados = escalador.transform(df2)\n",
        "df3 = pd.DataFrame(escalados,columns=df2.columns)\n",
        "df3"
      ]
    },
    {
      "cell_type": "code",
      "execution_count": null,
      "metadata": {
        "id": "x5fowalG1RQP"
      },
      "outputs": [],
      "source": [
        "df3.describe()"
      ]
    },
    {
      "cell_type": "code",
      "execution_count": null,
      "metadata": {
        "id": "QS4B_Plt4AIA"
      },
      "outputs": [],
      "source": [
        "df3.iloc[100:300,:].plot()"
      ]
    },
    {
      "cell_type": "markdown",
      "metadata": {
        "id": "3CRDd52U4QWo"
      },
      "source": [
        "### Estandarización\n",
        "\n",
        "Para algunos tests y comparaciones nos puede interesar que las distribuciones tengan media 0 y desviación típica 0. Esto se hace con la fórmula\n",
        "X_new = (X - mean)/Std"
      ]
    },
    {
      "cell_type": "code",
      "execution_count": null,
      "metadata": {
        "id": "MU5raDlj4ZH3"
      },
      "outputs": [],
      "source": [
        "df[ [\"TEMPERATURA\",\"HUMEDAD RELATIVA\"]].hist(bins=40)"
      ]
    },
    {
      "cell_type": "code",
      "execution_count": null,
      "metadata": {
        "id": "ZyuUNnq-5DBX"
      },
      "outputs": [],
      "source": [
        "from sklearn.preprocessing import StandardScaler\n",
        "df2 = df[[\"TEMPERATURA\",\"HUMEDAD RELATIVA\"]].dropna()\n",
        "metodo = StandardScaler()\n",
        "escalador = metodo.fit(df2)\n",
        "escalados = escalador.transform(df2)\n",
        "df3 = pd.DataFrame(escalados,columns=df2.columns)\n",
        "df3.hist(bins=40)\n"
      ]
    }
  ],
  "metadata": {
    "colab": {
      "provenance": []
    },
    "kernelspec": {
      "display_name": "Python 3",
      "language": "python",
      "name": "python3"
    },
    "language_info": {
      "codemirror_mode": {
        "name": "ipython",
        "version": 3
      },
      "file_extension": ".py",
      "mimetype": "text/x-python",
      "name": "python",
      "nbconvert_exporter": "python",
      "pygments_lexer": "ipython3",
      "version": "3.11.9"
    }
  },
  "nbformat": 4,
  "nbformat_minor": 0
}
