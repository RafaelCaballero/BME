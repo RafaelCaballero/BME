





<!DOCTYPE html>
<html
  lang="en"
  
  data-color-mode="dark" data-light-theme="light" data-dark-theme="dark"
  data-a11y-animated-images="system" data-a11y-link-underlines="true"
  
  >

    <style>
:root {
  --fontStack-monospace: "Monaspace Neon", ui-monospace, SFMono-Regular, SF Mono, Menlo, Consolas, Liberation Mono, monospace !important;
}
</style>




  <head>
    <meta charset="utf-8">
  <link rel="dns-prefetch" href="https://github.githubassets.com">
  <link rel="dns-prefetch" href="https://avatars.githubusercontent.com">
  <link rel="dns-prefetch" href="https://github-cloud.s3.amazonaws.com">
  <link rel="dns-prefetch" href="https://user-images.githubusercontent.com/">
  <link rel="preconnect" href="https://github.githubassets.com" crossorigin>
  <link rel="preconnect" href="https://avatars.githubusercontent.com">

  


  <link crossorigin="anonymous" media="all" rel="stylesheet" href="https://github.githubassets.com/assets/dark-d17b946fc2c5.css" /><link data-color-theme="light" crossorigin="anonymous" media="all" rel="stylesheet" data-href="https://github.githubassets.com/assets/light-6448649c7147.css" /><link data-color-theme="light_high_contrast" crossorigin="anonymous" media="all" rel="stylesheet" data-href="https://github.githubassets.com/assets/light_high_contrast-42fc7e3b06b7.css" /><link data-color-theme="light_colorblind" crossorigin="anonymous" media="all" rel="stylesheet" data-href="https://github.githubassets.com/assets/light_colorblind-44cfaf0c8f7b.css" /><link data-color-theme="light_colorblind_high_contrast" crossorigin="anonymous" media="all" rel="stylesheet" data-href="https://github.githubassets.com/assets/light_colorblind_high_contrast-979217efd93e.css" /><link data-color-theme="light_tritanopia" crossorigin="anonymous" media="all" rel="stylesheet" data-href="https://github.githubassets.com/assets/light_tritanopia-4d5383026bfa.css" /><link data-color-theme="light_tritanopia_high_contrast" crossorigin="anonymous" media="all" rel="stylesheet" data-href="https://github.githubassets.com/assets/light_tritanopia_high_contrast-ff6ff8532348.css" /><link data-color-theme="dark_high_contrast" crossorigin="anonymous" media="all" rel="stylesheet" data-href="https://github.githubassets.com/assets/dark_high_contrast-1b924088c83a.css" /><link data-color-theme="dark_colorblind" crossorigin="anonymous" media="all" rel="stylesheet" data-href="https://github.githubassets.com/assets/dark_colorblind-654786382462.css" /><link data-color-theme="dark_colorblind_high_contrast" crossorigin="anonymous" media="all" rel="stylesheet" data-href="https://github.githubassets.com/assets/dark_colorblind_high_contrast-ecca008c6f6e.css" /><link data-color-theme="dark_tritanopia" crossorigin="anonymous" media="all" rel="stylesheet" data-href="https://github.githubassets.com/assets/dark_tritanopia-fff376053989.css" /><link data-color-theme="dark_tritanopia_high_contrast" crossorigin="anonymous" media="all" rel="stylesheet" data-href="https://github.githubassets.com/assets/dark_tritanopia_high_contrast-49adf52571e5.css" /><link data-color-theme="dark_dimmed" crossorigin="anonymous" media="all" rel="stylesheet" data-href="https://github.githubassets.com/assets/dark_dimmed-66d97c13c98a.css" /><link data-color-theme="dark_dimmed_high_contrast" crossorigin="anonymous" media="all" rel="stylesheet" data-href="https://github.githubassets.com/assets/dark_dimmed_high_contrast-c58f1d0432b9.css" />

  <style type="text/css">
    :root {
      --tab-size-preference: 4;
    }

    pre, code {
      tab-size: var(--tab-size-preference);
    }
  </style>

    <link crossorigin="anonymous" media="all" rel="stylesheet" href="https://github.githubassets.com/assets/primer-primitives-dc7ca6859caf.css" />
    <link crossorigin="anonymous" media="all" rel="stylesheet" href="https://github.githubassets.com/assets/primer-f96b923db733.css" />
    <link crossorigin="anonymous" media="all" rel="stylesheet" href="https://github.githubassets.com/assets/global-2744ca59d025.css" />
    <link crossorigin="anonymous" media="all" rel="stylesheet" href="https://github.githubassets.com/assets/github-f7128b22e253.css" />
  <link crossorigin="anonymous" media="all" rel="stylesheet" href="https://github.githubassets.com/assets/repository-5d735668c600.css" />
<link crossorigin="anonymous" media="all" rel="stylesheet" href="https://github.githubassets.com/assets/code-9c9b8dc61e74.css" />

  

  <script type="application/json" id="client-env">{"locale":"en","featureFlags":["alternate_user_config_repo","api_insights_show_missing_data_banner","attestations_filtering","attestations_sorting","billing_hard_budget_limits_for_licenses","client_version_header","code_frequency_cls","codespaces_prebuild_region_target_update","contact_requests_implicit_opt_in","contentful_lp_enterprise","contentful_lp_footnotes","copilot_agent_task_caching","copilot_api_agentic_issue_marshal_yaml","copilot_api_draft_issue_code_search","copilot_chat_attach_multiple_images","copilot_chat_disable_model_picker_while_streaming","copilot_chat_file_redirect","copilot_chat_group_notifications","copilot_chat_opening_thread_switch","copilot_chat_reduce_quota_checks","copilot_chat_search_bar_redirect","copilot_chat_vision_in_claude","copilot_chat_vision_skip_thread_create","copilot_coding_agent_diff_stats","copilot_custom_copilots_feature_preview","copilot_custom_copilots_images","copilot_disable_generated_commit_description","copilot_duplicate_thread","copilot_features_raycast_logo","copilot_free_to_paid_telem","copilot_ftp_hyperspace_upgrade_prompt","copilot_ftp_settings_upgrade","copilot_ftp_upgrade_to_pro_from_models","copilot_ftp_your_copilot_settings","copilot_generate_commit_message_blob_public_preview","copilot_global_overlay_v2","copilot_immersive_agent_branch_selection","copilot_immersive_structured_model_picker","copilot_issue_list_show_more","copilot_loops_share_button","copilot_no_floating_button","copilot_pipes_github_graphql_nodes","copilot_premium_request_quotas","copilot_read_shared_conversation","copilot_share_active_subthread","copilot_spaces_input_menu_select","copilot_spark_allow_empty_commit","copilot_spark_progressive_error_handling","copilot_spark_single_user_iteration","copilot_spark_use_billing_headers","copilot_spark_write_iteration_history_to_git","copilot_stable_conversation_view","copilot_task_oriented_assistive_prompts","copilot_workbench_agent_seed_tool","copilot_workbench_cache","copilot_workbench_connection_reload_banner","copilot_workbench_preview_analytics","copilot_workbench_ratelimit_fallback","copilot_workbench_refresh_on_wsod","copilot_workbench_synthetic_generation","custom_copilots_capi_mode","dashboard_public_preview","direct_to_salesforce","dotcom_chat_client_side_skills","failbot_report_error_react_apps_on_page","fgpat_permissions_selector_redesign","ghost_pilot_confidence_truncation_25","ghost_pilot_confidence_truncation_40","global_nav_copilot_a11y_fix","global_nav_reductive_user_menu","global_search_multi_orgs","global_sso_banner","hpc_improve_dom_insertion_observer","hyperspace_diff_view","insert_before_patch","issue_fields_report_usage","issues_expanded_file_types","issues_preserve_tokens_in_urls","issues_react_blur_item_picker_on_close","issues_react_bots_timeline_pagination","issues_react_include_bots_in_pickers","issues_react_prohibit_title_fallback","issues_react_remove_placeholders","issues_react_select_panel_fullscreen_on_narrow","issues_sticky_sidebar","item_picker_branch_relay_migration","item_picker_issue_type_relay_migration","item_picker_label_relay_migration","item_picker_milestone_relay_migration","item_picker_project_relay_migration","kb_semantic_api_migration","lifecycle_label_name_updates","link_contact_sales_swp_marketo","marketing_pages_search_explore_provider","mcp_registry_all_featured_cards","memex_mwl_filter_field_delimiter","memex_roadmap_drag_style","migrate_toasts_to_banners_web_notifications","new_insights_rulesets_filter","new_traffic_page_banner","override_pulse_legacy_url","primer_react_segmented_control_tooltip","primer_react_select_panel_remove_active_descendant","primer_react_unified_portal_root","productivity_dashboard","record_sso_banner_metrics","releases_update_ref_selector","remove_child_patch","repos_insights_remove_new_url","repository_suggester_elastic_search","sample_network_conn_type","scheduled_reminders_updated_limits","show_edit_on_default_option","site_homepage_contentful","site_msbuild_webgl_hero","spark_commit_on_default_branch","spark_sync_repository_after_iteration","viewscreen_sandbox","webp_support","workbench_default_sonnet4","workbench_store_readonly"],"login":"RafaelCaballero","copilotApiOverrideUrl":"https://api.individual.githubcopilot.com"}</script>
<script crossorigin="anonymous" type="application/javascript" src="https://github.githubassets.com/assets/wp-runtime-6872545b8d86.js" defer="defer"></script>
<script crossorigin="anonymous" type="application/javascript" src="https://github.githubassets.com/assets/vendors-node_modules_oddbird_popover-polyfill_dist_popover-fn_js-468bf7cab607.js" defer="defer"></script>
<script crossorigin="anonymous" type="application/javascript" src="https://github.githubassets.com/assets/vendors-node_modules_github_mini-throttle_dist_index_js-node_modules_stacktrace-parser_dist_s-1d3d52-25523f4ee061.js" defer="defer"></script>
<script crossorigin="anonymous" type="application/javascript" src="https://github.githubassets.com/assets/packages_failbot_failbot_ts-c93cbb02bad9.js" defer="defer"></script>
<script crossorigin="anonymous" type="application/javascript" src="https://github.githubassets.com/assets/environment-472a04f0328f.js" defer="defer"></script>
<script crossorigin="anonymous" type="application/javascript" src="https://github.githubassets.com/assets/vendors-node_modules_primer_behaviors_dist_esm_index_mjs-7e8c9c5d642d.js" defer="defer"></script>
<script crossorigin="anonymous" type="application/javascript" src="https://github.githubassets.com/assets/vendors-node_modules_github_selector-observer_dist_index_esm_js-7e4d99c9171d.js" defer="defer"></script>
<script crossorigin="anonymous" type="application/javascript" src="https://github.githubassets.com/assets/vendors-node_modules_github_relative-time-element_dist_index_js-c98257dc79a7.js" defer="defer"></script>
<script crossorigin="anonymous" type="application/javascript" src="https://github.githubassets.com/assets/vendors-node_modules_github_auto-complete-element_dist_index_js-node_modules_github_catalyst_-0d7d60-9ac2b374b638.js" defer="defer"></script>
<script crossorigin="anonymous" type="application/javascript" src="https://github.githubassets.com/assets/vendors-node_modules_github_text-expander-element_dist_index_js-754f5b5e9e7e.js" defer="defer"></script>
<script crossorigin="anonymous" type="application/javascript" src="https://github.githubassets.com/assets/vendors-node_modules_github_filter-input-element_dist_index_js-node_modules_github_remote-inp-665e70-a5590c456d33.js" defer="defer"></script>
<script crossorigin="anonymous" type="application/javascript" src="https://github.githubassets.com/assets/vendors-node_modules_github_markdown-toolbar-element_dist_index_js-d41270eb61be.js" defer="defer"></script>
<script crossorigin="anonymous" type="application/javascript" src="https://github.githubassets.com/assets/vendors-node_modules_github_file-attachment-element_dist_index_js-node_modules_primer_view-co-777ce2-337f60509a95.js" defer="defer"></script>
<script crossorigin="anonymous" type="application/javascript" src="https://github.githubassets.com/assets/github-elements-39310fffdcee.js" defer="defer"></script>
<script crossorigin="anonymous" type="application/javascript" src="https://github.githubassets.com/assets/element-registry-bf518f5aa950.js" defer="defer"></script>
<script crossorigin="anonymous" type="application/javascript" src="https://github.githubassets.com/assets/vendors-node_modules_braintree_browser-detection_dist_browser-detection_js-node_modules_githu-bb80ec-4e90f1d1076c.js" defer="defer"></script>
<script crossorigin="anonymous" type="application/javascript" src="https://github.githubassets.com/assets/vendors-node_modules_lit-html_lit-html_js-06c8637a6071.js" defer="defer"></script>
<script crossorigin="anonymous" type="application/javascript" src="https://github.githubassets.com/assets/vendors-node_modules_morphdom_dist_morphdom-esm_js-node_modules_swc_helpers_esm__define_property_js-5c587dccb470.js" defer="defer"></script>
<script crossorigin="anonymous" type="application/javascript" src="https://github.githubassets.com/assets/vendors-node_modules_github_turbo_dist_turbo_es2017-esm_js-8eb9b2209bcd.js" defer="defer"></script>
<script crossorigin="anonymous" type="application/javascript" src="https://github.githubassets.com/assets/vendors-node_modules_github_remote-form_dist_index_js-node_modules_delegated-events_dist_inde-893f9f-cd5d89ebdb50.js" defer="defer"></script>
<script crossorigin="anonymous" type="application/javascript" src="https://github.githubassets.com/assets/vendors-node_modules_github_quote-selection_dist_index_js-node_modules_github_session-resume_-d3ee0b-9bd182333410.js" defer="defer"></script>
<script crossorigin="anonymous" type="application/javascript" src="https://github.githubassets.com/assets/packages_updatable-content_updatable-content_ts-a743e72edcf2.js" defer="defer"></script>
<script crossorigin="anonymous" type="application/javascript" src="https://github.githubassets.com/assets/app_assets_modules_github_behaviors_ajax-error_ts-app_assets_modules_github_behaviors_details-884c01-e22717ec4ab6.js" defer="defer"></script>
<script crossorigin="anonymous" type="application/javascript" src="https://github.githubassets.com/assets/app_assets_modules_github_behaviors_task-list_ts-app_assets_modules_github_throttled-input_ts-047775-251a6ef52573.js" defer="defer"></script>
<script crossorigin="anonymous" type="application/javascript" src="https://github.githubassets.com/assets/app_assets_modules_github_behaviors_commenting_edit_ts-app_assets_modules_github_behaviors_ht-83c235-6bc7a8849328.js" defer="defer"></script>
<script crossorigin="anonymous" type="application/javascript" src="https://github.githubassets.com/assets/behaviors-97ac2c14d80f.js" defer="defer"></script>
<script crossorigin="anonymous" type="application/javascript" src="https://github.githubassets.com/assets/vendors-node_modules_delegated-events_dist_index_js-node_modules_github_catalyst_lib_index_js-ef6d0f-641e2ed302b3.js" defer="defer"></script>
<script crossorigin="anonymous" type="application/javascript" src="https://github.githubassets.com/assets/notifications-global-e0009afb39c7.js" defer="defer"></script>
<script crossorigin="anonymous" type="application/javascript" src="https://github.githubassets.com/assets/vendors-node_modules_github_mini-throttle_dist_index_js-node_modules_github_catalyst_lib_inde-96937f-07580acb275f.js" defer="defer"></script>
<script crossorigin="anonymous" type="application/javascript" src="https://github.githubassets.com/assets/code-menu-6292fc60c722.js" defer="defer"></script>
  
  <script crossorigin="anonymous" type="application/javascript" src="https://github.githubassets.com/assets/primer-react-b0891a6cc939.js" defer="defer"></script>
<script crossorigin="anonymous" type="application/javascript" src="https://github.githubassets.com/assets/react-core-ad89a9c836ba.js" defer="defer"></script>
<script crossorigin="anonymous" type="application/javascript" src="https://github.githubassets.com/assets/react-lib-17ccbc80f53b.js" defer="defer"></script>
<script crossorigin="anonymous" type="application/javascript" src="https://github.githubassets.com/assets/octicons-react-0f0d82031c98.js" defer="defer"></script>
<script crossorigin="anonymous" type="application/javascript" src="https://github.githubassets.com/assets/vendors-node_modules_emotion_is-prop-valid_dist_emotion-is-prop-valid_esm_js-node_modules_emo-928884-56ccb47a224d.js" defer="defer"></script>
<script crossorigin="anonymous" type="application/javascript" src="https://github.githubassets.com/assets/vendors-node_modules_primer_live-region-element_dist_esm_index_js-node_modules_swc_helpers_es-b6e71e-5b3ad5c61499.js" defer="defer"></script>
<script crossorigin="anonymous" type="application/javascript" src="https://github.githubassets.com/assets/vendors-node_modules_swc_helpers_esm__define_property_js-node_modules_tanstack_query-core_bui-b9aec9-854214382812.js" defer="defer"></script>
<script crossorigin="anonymous" type="application/javascript" src="https://github.githubassets.com/assets/vendors-node_modules_dompurify_dist_purify_es_mjs-0294cfa498e7.js" defer="defer"></script>
<script crossorigin="anonymous" type="application/javascript" src="https://github.githubassets.com/assets/vendors-node_modules_tanstack_query-core_build_modern_queryObserver_js-node_modules_tanstack_-defd52-362960c8d059.js" defer="defer"></script>
<script crossorigin="anonymous" type="application/javascript" src="https://github.githubassets.com/assets/vendors-node_modules_date-fns_format_mjs-f7e5dd4e3ebd.js" defer="defer"></script>
<script crossorigin="anonymous" type="application/javascript" src="https://github.githubassets.com/assets/vendors-node_modules_date-fns_addWeeks_mjs-node_modules_date-fns_addYears_mjs-node_modules_da-827f4f-6af178f555c7.js" defer="defer"></script>
<script crossorigin="anonymous" type="application/javascript" src="https://github.githubassets.com/assets/vendors-node_modules_focus-visible_dist_focus-visible_js-node_modules_lodash-es__isIterateeCa-89abd9-7de41e04a69d.js" defer="defer"></script>
<script crossorigin="anonymous" type="application/javascript" src="https://github.githubassets.com/assets/vendors-node_modules_github_hotkey_dist_index_js-node_modules_date-fns_getDaysInMonth_mjs-nod-70c11b-a672e4dfe08c.js" defer="defer"></script>
<script crossorigin="anonymous" type="application/javascript" src="https://github.githubassets.com/assets/vendors-node_modules_lodash-es__Stack_js-node_modules_lodash-es__Uint8Array_js-node_modules_l-4faaa6-95511fe13c4b.js" defer="defer"></script>
<script crossorigin="anonymous" type="application/javascript" src="https://github.githubassets.com/assets/vendors-node_modules_dnd-kit_modifiers_dist_modifiers_esm_js-node_modules_dnd-kit_sortable_di-72228e-99b95b9fca56.js" defer="defer"></script>
<script crossorigin="anonymous" type="application/javascript" src="https://github.githubassets.com/assets/vendors-node_modules_tanstack_react-virtual_dist_esm_index_js-4f7c027617ef.js" defer="defer"></script>
<script crossorigin="anonymous" type="application/javascript" src="https://github.githubassets.com/assets/vendors-node_modules_react-relay_index_js-065619a68bd6.js" defer="defer"></script>
<script crossorigin="anonymous" type="application/javascript" src="https://github.githubassets.com/assets/vendors-node_modules_primer_styled-react_dist_index_js-node_modules_mdast-util-from-markdown_-7ab78a-7722c97dd68a.js" defer="defer"></script>
<script crossorigin="anonymous" type="application/javascript" src="https://github.githubassets.com/assets/vendors-node_modules_remark-gfm_lib_index_js-node_modules_remark-parse_lib_index_js-node_modu-44d0fc-d85da444255c.js" defer="defer"></script>
<script crossorigin="anonymous" type="application/javascript" src="https://github.githubassets.com/assets/vendors-node_modules_hastscript_lib_index_js-node_modules_lowlight_lib_all_js-node_modules_re-7714c4-76938e382abd.js" defer="defer"></script>
<script crossorigin="anonymous" type="application/javascript" src="https://github.githubassets.com/assets/vendors-node_modules_github_mini-throttle_dist_decorators_js-node_modules_accname_dist_access-690142-ec340bbaebbb.js" defer="defer"></script>
<script crossorigin="anonymous" type="application/javascript" src="https://github.githubassets.com/assets/vendors-node_modules_fzy_js_index_js-node_modules_dom-input-range_dist_index_js-ad420d163f4e.js" defer="defer"></script>
<script crossorigin="anonymous" type="application/javascript" src="https://github.githubassets.com/assets/vendors-node_modules_emoji-regex_index_js-node_modules_tanstack_react-query_build_modern_useM-a11183-c325990337e4.js" defer="defer"></script>
<script crossorigin="anonymous" type="application/javascript" src="https://github.githubassets.com/assets/vendors-node_modules_github_catalyst_lib_index_js-node_modules_swc_helpers_esm__class_static_-b16468-1b586c8cb7fd.js" defer="defer"></script>
<script crossorigin="anonymous" type="application/javascript" src="https://github.githubassets.com/assets/packages_paths_index_ts-e17bd44ebd1f.js" defer="defer"></script>
<script crossorigin="anonymous" type="application/javascript" src="https://github.githubassets.com/assets/packages_ui-commands_ui-commands_ts-6bae096b17a7.js" defer="defer"></script>
<script crossorigin="anonymous" type="application/javascript" src="https://github.githubassets.com/assets/packages_date-picker_components_DatePicker_tsx-5b5fe0292542.js" defer="defer"></script>
<script crossorigin="anonymous" type="application/javascript" src="https://github.githubassets.com/assets/packages_drag-and-drop_drag-and-drop_ts-packages_hydro-analytics_hydro-analytics_ts-2241b21955a1.js" defer="defer"></script>
<script crossorigin="anonymous" type="application/javascript" src="https://github.githubassets.com/assets/packages_list-view_src_hooks_use-next-header-tag_ts-packages_list-view_src_ListItem_ListItem_-055669-a51bfc2f2d41.js" defer="defer"></script>
<script crossorigin="anonymous" type="application/javascript" src="https://github.githubassets.com/assets/packages_ref-selector_RefSelector_tsx-d33d47db611a.js" defer="defer"></script>
<script crossorigin="anonymous" type="application/javascript" src="https://github.githubassets.com/assets/packages_copilot-chat_utils_copilot-chat-helpers_ts-53c6fd1535aa.js" defer="defer"></script>
<script crossorigin="anonymous" type="application/javascript" src="https://github.githubassets.com/assets/packages_item-picker_components_RepositoryPicker_tsx-packages_safe-html_VerifiedHTML_tsx-d6f832863ddb.js" defer="defer"></script>
<script crossorigin="anonymous" type="application/javascript" src="https://github.githubassets.com/assets/packages_copilot-markdown_MarkdownRenderer_tsx-29c930bb9b89.js" defer="defer"></script>
<script crossorigin="anonymous" type="application/javascript" src="https://github.githubassets.com/assets/packages_copilot-chat_utils_CopilotChatContext_tsx-feb4d430af2b.js" defer="defer"></script>
<script crossorigin="anonymous" type="application/javascript" src="https://github.githubassets.com/assets/packages_relay-environment_relay-environment_ts-packages_soft-nav_state_ts-packages_agent-ses-2d4f01-a757e656cb1c.js" defer="defer"></script>
<script crossorigin="anonymous" type="application/javascript" src="https://github.githubassets.com/assets/packages_copilot-chat_components_ModelPicker_tsx-8c329f993469.js" defer="defer"></script>
<script crossorigin="anonymous" type="application/javascript" src="https://github.githubassets.com/assets/packages_copilot-chat_utils_copilot-chat-events_ts-packages_history_history_ts-packages_pull--274f51-01c6c8dc4a2d.js" defer="defer"></script>
<script crossorigin="anonymous" type="application/javascript" src="https://github.githubassets.com/assets/packages_agent-sessions_components_NewTaskChatInput_tsx-packages_agent-sessions_components_Ta-3a3e05-cc3b84e279b6.js" defer="defer"></script>
<script crossorigin="anonymous" type="application/javascript" src="https://github.githubassets.com/assets/packages_commit-attribution_index_ts-packages_commit-checks-status_index_ts-1d8c71350aa9.js" defer="defer"></script>
<script crossorigin="anonymous" type="application/javascript" src="https://github.githubassets.com/assets/packages_analytics-provider_context_ts-packages_aria-live_aria-live_ts-packages_code-view-sha-91a932-fa4e34968746.js" defer="defer"></script>
<script crossorigin="anonymous" type="application/javascript" src="https://github.githubassets.com/assets/packages_code-view-shared_hooks_use-canonical-object_ts-packages_code-view-shared_hooks_use-f-26b67c-2ce30bb5d5b9.js" defer="defer"></script>
<script crossorigin="anonymous" type="application/javascript" src="https://github.githubassets.com/assets/packages_app-uuid_app-uuid_ts-packages_repos-file-tree-view_repos-file-tree-view_ts-086b9565a748.js" defer="defer"></script>
<script crossorigin="anonymous" type="application/javascript" src="https://github.githubassets.com/assets/app_assets_modules_react-code-view_utilities_lines_ts-9084d4788e19.js" defer="defer"></script>
<script crossorigin="anonymous" type="application/javascript" src="https://github.githubassets.com/assets/packages_code-view-shared_worker-jobs_debounced-worker-manager_ts-packages_diffs_diff-parts_t-846e94-3441bc4970a8.js" defer="defer"></script>
<script crossorigin="anonymous" type="application/javascript" src="https://github.githubassets.com/assets/react-code-view-ebce1c779aaa.js" defer="defer"></script>
<link crossorigin="anonymous" media="all" rel="stylesheet" href="https://github.githubassets.com/assets/primer-react.d9bab05f5fac64db9256.module.css" />
<link crossorigin="anonymous" media="all" rel="stylesheet" href="https://github.githubassets.com/assets/packages_agent-sessions_components_NewTaskChatInput_tsx-packages_agent-sessions_components_Ta-3a3e05.89dcb58bea046c5f97ec.module.css" />
<link crossorigin="anonymous" media="all" rel="stylesheet" href="https://github.githubassets.com/assets/react-code-view.b4a6351b45862a41c71e.module.css" />


  <title>Julio25/code/17otras_regresiones.ipynb at main · RafaelCaballero/Julio25</title>



  <meta name="route-pattern" content="/:user_id/:repository/blob/*name(/*path)" data-turbo-transient>
  <meta name="route-controller" content="blob" data-turbo-transient>
  <meta name="route-action" content="show" data-turbo-transient>
  <meta name="fetch-nonce" content="v2:f3f7595c-b109-7dc3-202d-ae8e4b8a0e60">

    
  <meta name="current-catalog-service-hash" content="f3abb0cc802f3d7b95fc8762b94bdcb13bf39634c40c357301c4aa1d67a256fb">


  <meta name="request-id" content="C973:1EEBE9:411BCF:36EC39:68C49C8C" data-turbo-transient="true" /><meta name="html-safe-nonce" content="d53b56e2e7bd48466db61b35fb21047ddfcf584013ccde2a7717389b1717c9b8" data-turbo-transient="true" /><meta name="visitor-payload" content="eyJyZWZlcnJlciI6Imh0dHBzOi8vZ2l0aHViLmNvbS9SYWZhZWxDYWJhbGxlcm8vSnVsaW8yNS90cmVlL21haW4vY29kZSIsInJlcXVlc3RfaWQiOiJDOTczOjFFRUJFOTo0MTFCQ0Y6MzZFQzM5OjY4QzQ5QzhDIiwidmlzaXRvcl9pZCI6IjU2ODE4NTIxNTUwNDg5ODkxMjUiLCJyZWdpb25fZWRnZSI6ImZyYSIsInJlZ2lvbl9yZW5kZXIiOiJpYWQifQ==" data-turbo-transient="true" /><meta name="visitor-hmac" content="f2137b4101300868f4d074e69e8732581e95fc3a46f9f88aa7065128cfdfd17b" data-turbo-transient="true" />


    <meta name="hovercard-subject-tag" content="repository:820390304" data-turbo-transient>


  <meta name="github-keyboard-shortcuts" content="repository,source-code,file-tree,copilot" data-turbo-transient="true" />
  

  <meta name="selected-link" value="repo_source" data-turbo-transient>
  <link rel="assets" href="https://github.githubassets.com/">

    <meta name="google-site-verification" content="Apib7-x98H0j5cPqHWwSMm6dNU4GmODRoqxLiDzdx9I">

<meta name="octolytics-url" content="https://collector.github.com/github/collect" /><meta name="octolytics-actor-id" content="6544558" /><meta name="octolytics-actor-login" content="RafaelCaballero" /><meta name="octolytics-actor-hash" content="54c13e891c691872fedfc61dcd4bea7087a781da8a835a3fec4a7f2073a70dbf" />

  <meta name="analytics-location" content="/&lt;user-name&gt;/&lt;repo-name&gt;/blob/show" data-turbo-transient="true" />

  




    <meta name="user-login" content="RafaelCaballero">

  <link rel="sudo-modal" href="/sessions/sudo_modal">

    <meta name="viewport" content="width=device-width">

    

      <meta name="description" content="Repositorio para curso de Python. Contribute to RafaelCaballero/Julio25 development by creating an account on GitHub.">

      <link rel="search" type="application/opensearchdescription+xml" href="/opensearch.xml" title="GitHub">

    <link rel="fluid-icon" href="https://github.com/fluidicon.png" title="GitHub">
    <meta property="fb:app_id" content="1401488693436528">
    <meta name="apple-itunes-app" content="app-id=1477376905, app-argument=https://github.com/RafaelCaballero/Julio25/blob/main/code/17otras_regresiones.ipynb" />

      <meta name="twitter:image" content="https://opengraph.githubassets.com/b2452d9ee51ef8ce9625484a5e44346b0e23f14651fbfb2a7259012ee434f0f2/RafaelCaballero/Julio25" /><meta name="twitter:site" content="@github" /><meta name="twitter:card" content="summary_large_image" /><meta name="twitter:title" content="Julio25/code/17otras_regresiones.ipynb at main · RafaelCaballero/Julio25" /><meta name="twitter:description" content="Repositorio para curso de Python. Contribute to RafaelCaballero/Julio25 development by creating an account on GitHub." />
  <meta property="og:image" content="https://opengraph.githubassets.com/b2452d9ee51ef8ce9625484a5e44346b0e23f14651fbfb2a7259012ee434f0f2/RafaelCaballero/Julio25" /><meta property="og:image:alt" content="Repositorio para curso de Python. Contribute to RafaelCaballero/Julio25 development by creating an account on GitHub." /><meta property="og:image:width" content="1200" /><meta property="og:image:height" content="600" /><meta property="og:site_name" content="GitHub" /><meta property="og:type" content="object" /><meta property="og:title" content="Julio25/code/17otras_regresiones.ipynb at main · RafaelCaballero/Julio25" /><meta property="og:url" content="https://github.com/RafaelCaballero/Julio25/blob/main/code/17otras_regresiones.ipynb" /><meta property="og:description" content="Repositorio para curso de Python. Contribute to RafaelCaballero/Julio25 development by creating an account on GitHub." />
  


      <link rel="shared-web-socket" href="wss://alive.github.com/_sockets/u/6544558/ws?session=eyJ2IjoiVjMiLCJ1Ijo2NTQ0NTU4LCJzIjoxNzk2Mjk3NDg3LCJjIjoyNzMyODEyMzg0LCJ0IjoxNzU3NzE1NjA4fQ==--c8e4f11f39f88d456175a3f8a93014907ad310b2dcaf7df9e770cfd8511f2288" data-refresh-url="/_alive" data-session-id="e191ef402338a1601bb8e31252dbac9935463bcd48fb03d57675322cc2e7601c">
      <link rel="shared-web-socket-src" href="/assets-cdn/worker/socket-worker-7db934acff24.js">


      <meta name="hostname" content="github.com">


      <meta name="keyboard-shortcuts-preference" content="all">
      <meta name="hovercards-preference" content="true">
      <meta name="announcement-preference-hovercard" content="true">

        <meta name="expected-hostname" content="github.com">


  <meta http-equiv="x-pjax-version" content="45d1fb3b682290cb3250ce20306b6a79204b6e50a8a88c3a3c52a3ee7f87bf61" data-turbo-track="reload">
  <meta http-equiv="x-pjax-csp-version" content="7a8d2a325eda0ce8231fb01635a57c5af49cef72457e9682233c3f4927e7b224" data-turbo-track="reload">
  <meta http-equiv="x-pjax-css-version" content="8a0735d016089f8354c8d1451df9eae2b267023d238471fb203c0d53f7f745e1" data-turbo-track="reload">
  <meta http-equiv="x-pjax-js-version" content="e06fb4c5d2908ac9c1bc26ddd61c05dd1d5cd29862139e1c4de9100ad7b5f0e3" data-turbo-track="reload">

  <meta name="turbo-cache-control" content="no-preview" data-turbo-transient="">

      <meta name="turbo-cache-control" content="no-cache" data-turbo-transient>

    <meta data-hydrostats="publish">

  <meta name="go-import" content="github.com/RafaelCaballero/Julio25 git https://github.com/RafaelCaballero/Julio25.git">

  <meta name="octolytics-dimension-user_id" content="6544558" /><meta name="octolytics-dimension-user_login" content="RafaelCaballero" /><meta name="octolytics-dimension-repository_id" content="820390304" /><meta name="octolytics-dimension-repository_nwo" content="RafaelCaballero/Julio25" /><meta name="octolytics-dimension-repository_public" content="true" /><meta name="octolytics-dimension-repository_is_fork" content="false" /><meta name="octolytics-dimension-repository_network_root_id" content="820390304" /><meta name="octolytics-dimension-repository_network_root_nwo" content="RafaelCaballero/Julio25" />



    

    <meta name="turbo-body-classes" content="logged-in env-production page-responsive">


  <meta name="browser-stats-url" content="https://api.github.com/_private/browser/stats">

  <meta name="browser-errors-url" content="https://api.github.com/_private/browser/errors">

  <meta name="release" content="ed5a05ff1ac7d857b9519ad95835c24dcd694524">
  <meta name="ui-target" content="full">

  <link rel="mask-icon" href="https://github.githubassets.com/assets/pinned-octocat-093da3e6fa40.svg" color="#000000">
  <link rel="alternate icon" class="js-site-favicon" type="image/png" href="https://github.githubassets.com/favicons/favicon.png">
  <link rel="icon" class="js-site-favicon" type="image/svg+xml" href="https://github.githubassets.com/favicons/favicon.svg" data-base-href="https://github.githubassets.com/favicons/favicon">

<meta name="theme-color" content="#1e2327">
<meta name="color-scheme" content="dark light" />


  <link rel="manifest" href="/manifest.json" crossOrigin="use-credentials">

  </head>

  <body class="logged-in env-production page-responsive" style="word-wrap: break-word;">
    <div data-turbo-body class="logged-in env-production page-responsive" style="word-wrap: break-word;">
        <div id="__primerPortalRoot__" role="region" style="z-index: 1000; position: absolute; width: 100%;" data-turbo-permanent></div>
      



    <div class="position-relative header-wrapper js-header-wrapper ">
      <a href="#start-of-content" data-skip-target-assigned="false" class="p-3 color-bg-accent-emphasis color-fg-on-emphasis show-on-focus js-skip-to-content">Skip to content</a>

      <span data-view-component="true" class="progress-pjax-loader Progress position-fixed width-full">
    <span style="width: 0%;" data-view-component="true" class="Progress-item progress-pjax-loader-bar left-0 top-0 color-bg-accent-emphasis"></span>
</span>      
      
      <link crossorigin="anonymous" media="all" rel="stylesheet" href="https://github.githubassets.com/assets/primer-react.d9bab05f5fac64db9256.module.css" />
<link crossorigin="anonymous" media="all" rel="stylesheet" href="https://github.githubassets.com/assets/keyboard-shortcuts-dialog.2de9c7d6456a311fce49.module.css" />

<react-partial
  partial-name="keyboard-shortcuts-dialog"
  data-ssr="false"
  data-attempted-ssr="false"
  data-react-profiling="false"
>
  
  <script type="application/json" data-target="react-partial.embeddedData">{"props":{"docsUrl":"https://docs.github.com/get-started/accessibility/keyboard-shortcuts"}}</script>
  <div data-target="react-partial.reactRoot"></div>
</react-partial>





      

          

              <header class="AppHeader" role="banner">
  <h2 class="sr-only">Navigation Menu</h2>


    

    <div class="AppHeader-globalBar pb-2 js-global-bar">
      <div class="AppHeader-globalBar-start responsive-context-region">
        <div class="">
              <deferred-side-panel data-url="/_side-panels/global">
  <include-fragment data-target="deferred-side-panel.fragment" data-nonce="v2:f3f7595c-b109-7dc3-202d-ae8e4b8a0e60" data-view-component="true">
  
          <button aria-label="Open global navigation menu" data-action="click:deferred-side-panel#loadPanel click:deferred-side-panel#panelOpened" data-show-dialog-id="dialog-25dd25e1-3e38-4631-9fbc-1e65c2397dc3" id="dialog-show-dialog-25dd25e1-3e38-4631-9fbc-1e65c2397dc3" type="button" data-view-component="true" class="Button Button--iconOnly Button--secondary Button--medium AppHeader-button p-0 color-fg-muted">  <svg aria-hidden="true" height="16" viewBox="0 0 16 16" version="1.1" width="16" data-view-component="true" class="octicon octicon-three-bars Button-visual">
    <path d="M1 2.75A.75.75 0 0 1 1.75 2h12.5a.75.75 0 0 1 0 1.5H1.75A.75.75 0 0 1 1 2.75Zm0 5A.75.75 0 0 1 1.75 7h12.5a.75.75 0 0 1 0 1.5H1.75A.75.75 0 0 1 1 7.75ZM1.75 12h12.5a.75.75 0 0 1 0 1.5H1.75a.75.75 0 0 1 0-1.5Z"></path>
</svg>
</button>

<dialog-helper>
  <dialog data-target="deferred-side-panel.panel" id="dialog-25dd25e1-3e38-4631-9fbc-1e65c2397dc3" aria-modal="true" aria-labelledby="dialog-25dd25e1-3e38-4631-9fbc-1e65c2397dc3-title" aria-describedby="dialog-25dd25e1-3e38-4631-9fbc-1e65c2397dc3-description" data-view-component="true" class="Overlay Overlay-whenNarrow Overlay--size-small-portrait Overlay--motion-scaleFade Overlay--placement-left SidePanel Overlay--disableScroll">
    <div styles="flex-direction: row;" data-view-component="true" class="Overlay-header">
  <div class="Overlay-headerContentWrap">
    <div class="Overlay-titleWrap">
      <h1 class="Overlay-title sr-only" id="dialog-25dd25e1-3e38-4631-9fbc-1e65c2397dc3-title">
        Global navigation
      </h1>
            <div data-view-component="true" class="d-flex">
      <div data-view-component="true" class="AppHeader-logo position-relative">
        <svg aria-hidden="true" height="24" viewBox="0 0 24 24" version="1.1" width="24" data-view-component="true" class="octicon octicon-mark-github">
    <path d="M12 1C5.923 1 1 5.923 1 12c0 4.867 3.149 8.979 7.521 10.436.55.096.756-.233.756-.522 0-.262-.013-1.128-.013-2.049-2.764.509-3.479-.674-3.699-1.292-.124-.317-.66-1.293-1.127-1.554-.385-.207-.936-.715-.014-.729.866-.014 1.485.797 1.691 1.128.99 1.663 2.571 1.196 3.204.907.096-.715.385-1.196.701-1.471-2.448-.275-5.005-1.224-5.005-5.432 0-1.196.426-2.186 1.128-2.956-.111-.275-.496-1.402.11-2.915 0 0 .921-.288 3.024 1.128a10.193 10.193 0 0 1 2.75-.371c.936 0 1.871.123 2.75.371 2.104-1.43 3.025-1.128 3.025-1.128.605 1.513.221 2.64.111 2.915.701.77 1.127 1.747 1.127 2.956 0 4.222-2.571 5.157-5.019 5.432.399.344.743 1.004.743 2.035 0 1.471-.014 2.654-.014 3.025 0 .289.206.632.756.522C19.851 20.979 23 16.854 23 12c0-6.077-4.922-11-11-11Z"></path>
</svg>
</div></div>
    </div>
    <div class="Overlay-actionWrap">
      <button data-close-dialog-id="dialog-25dd25e1-3e38-4631-9fbc-1e65c2397dc3" aria-label="Close" aria-label="Close" type="button" data-view-component="true" class="close-button Overlay-closeButton"><svg aria-hidden="true" height="16" viewBox="0 0 16 16" version="1.1" width="16" data-view-component="true" class="octicon octicon-x">
    <path d="M3.72 3.72a.75.75 0 0 1 1.06 0L8 6.94l3.22-3.22a.749.749 0 0 1 1.275.326.749.749 0 0 1-.215.734L9.06 8l3.22 3.22a.749.749 0 0 1-.326 1.275.749.749 0 0 1-.734-.215L8 9.06l-3.22 3.22a.751.751 0 0 1-1.042-.018.751.751 0 0 1-.018-1.042L6.94 8 3.72 4.78a.75.75 0 0 1 0-1.06Z"></path>
</svg></button>
    </div>
  </div>
  
</div>
      <scrollable-region data-labelled-by="dialog-25dd25e1-3e38-4631-9fbc-1e65c2397dc3-title">
        <div data-view-component="true" class="Overlay-body d-flex flex-column px-2">    <div data-view-component="true" class="d-flex flex-column mb-3">
        <nav aria-label="Site navigation" data-view-component="true" class="ActionList">
  
  <nav-list>
    <ul data-target="nav-list.topLevelList" data-view-component="true" class="ActionListWrap">
        
          
<li data-item-id="" data-targets="nav-list.items" data-view-component="true" class="ActionListItem">
    
    
    <a data-hotkey="g d" data-analytics-event="{&quot;category&quot;:&quot;Global navigation&quot;,&quot;action&quot;:&quot;HOME&quot;,&quot;label&quot;:null}" id="item-90816024-9500-4829-8192-2d18acbe628b" href="/dashboard" data-view-component="true" class="ActionListContent ActionListContent--visual16">
        <span class="ActionListItem-visual ActionListItem-visual--leading">
          <svg aria-hidden="true" height="16" viewBox="0 0 16 16" version="1.1" width="16" data-view-component="true" class="octicon octicon-home">
    <path d="M6.906.664a1.749 1.749 0 0 1 2.187 0l5.25 4.2c.415.332.657.835.657 1.367v7.019A1.75 1.75 0 0 1 13.25 15h-3.5a.75.75 0 0 1-.75-.75V9H7v5.25a.75.75 0 0 1-.75.75h-3.5A1.75 1.75 0 0 1 1 13.25V6.23c0-.531.242-1.034.657-1.366l5.25-4.2Zm1.25 1.171a.25.25 0 0 0-.312 0l-5.25 4.2a.25.25 0 0 0-.094.196v7.019c0 .138.112.25.25.25H5.5V8.25a.75.75 0 0 1 .75-.75h3.5a.75.75 0 0 1 .75.75v5.25h2.75a.25.25 0 0 0 .25-.25V6.23a.25.25 0 0 0-.094-.195Z"></path>
</svg>
        </span>
      
        <span data-view-component="true" class="ActionListItem-label">
          Home
</span>      
</a>
  
</li>

        
          
<li data-item-id="" data-targets="nav-list.items" data-view-component="true" class="ActionListItem">
    
    
    <a data-hotkey="g i" data-analytics-event="{&quot;category&quot;:&quot;Global navigation&quot;,&quot;action&quot;:&quot;ISSUES&quot;,&quot;label&quot;:null}" id="item-043da5bf-99b2-4700-a726-9ecd20bf1d40" href="/issues" data-view-component="true" class="ActionListContent ActionListContent--visual16">
        <span class="ActionListItem-visual ActionListItem-visual--leading">
          <svg aria-hidden="true" height="16" viewBox="0 0 16 16" version="1.1" width="16" data-view-component="true" class="octicon octicon-issue-opened">
    <path d="M8 9.5a1.5 1.5 0 1 0 0-3 1.5 1.5 0 0 0 0 3Z"></path><path d="M8 0a8 8 0 1 1 0 16A8 8 0 0 1 8 0ZM1.5 8a6.5 6.5 0 1 0 13 0 6.5 6.5 0 0 0-13 0Z"></path>
</svg>
        </span>
      
        <span data-view-component="true" class="ActionListItem-label">
          Issues
</span>      
</a>
  
</li>

        
          
<li data-item-id="" data-targets="nav-list.items" data-view-component="true" class="ActionListItem">
    
    
    <a data-hotkey="g p" data-analytics-event="{&quot;category&quot;:&quot;Global navigation&quot;,&quot;action&quot;:&quot;PULL_REQUESTS&quot;,&quot;label&quot;:null}" id="item-3114470a-3502-491a-a839-7b2581070dd6" href="/pulls" data-view-component="true" class="ActionListContent ActionListContent--visual16">
        <span class="ActionListItem-visual ActionListItem-visual--leading">
          <svg aria-hidden="true" height="16" viewBox="0 0 16 16" version="1.1" width="16" data-view-component="true" class="octicon octicon-git-pull-request">
    <path d="M1.5 3.25a2.25 2.25 0 1 1 3 2.122v5.256a2.251 2.251 0 1 1-1.5 0V5.372A2.25 2.25 0 0 1 1.5 3.25Zm5.677-.177L9.573.677A.25.25 0 0 1 10 .854V2.5h1A2.5 2.5 0 0 1 13.5 5v5.628a2.251 2.251 0 1 1-1.5 0V5a1 1 0 0 0-1-1h-1v1.646a.25.25 0 0 1-.427.177L7.177 3.427a.25.25 0 0 1 0-.354ZM3.75 2.5a.75.75 0 1 0 0 1.5.75.75 0 0 0 0-1.5Zm0 9.5a.75.75 0 1 0 0 1.5.75.75 0 0 0 0-1.5Zm8.25.75a.75.75 0 1 0 1.5 0 .75.75 0 0 0-1.5 0Z"></path>
</svg>
        </span>
      
        <span data-view-component="true" class="ActionListItem-label">
          Pull requests
</span>      
</a>
  
</li>

        
          
<li data-item-id="" data-targets="nav-list.items" data-item-id="projects" data-view-component="true" class="ActionListItem">
    
    
    <a data-analytics-event="{&quot;category&quot;:&quot;Global navigation&quot;,&quot;action&quot;:&quot;PROJECTS&quot;,&quot;label&quot;:null}" id="item-6137c00a-a9c0-48a1-aaf3-ffd546099903" href="/projects" data-view-component="true" class="ActionListContent ActionListContent--visual16">
        <span class="ActionListItem-visual ActionListItem-visual--leading">
          <svg aria-hidden="true" height="16" viewBox="0 0 16 16" version="1.1" width="16" data-view-component="true" class="octicon octicon-table">
    <path d="M0 1.75C0 .784.784 0 1.75 0h12.5C15.216 0 16 .784 16 1.75v12.5A1.75 1.75 0 0 1 14.25 16H1.75A1.75 1.75 0 0 1 0 14.25ZM6.5 6.5v8h7.75a.25.25 0 0 0 .25-.25V6.5Zm8-1.5V1.75a.25.25 0 0 0-.25-.25H6.5V5Zm-13 1.5v7.75c0 .138.112.25.25.25H5v-8ZM5 5V1.5H1.75a.25.25 0 0 0-.25.25V5Z"></path>
</svg>
        </span>
      
        <span data-view-component="true" class="ActionListItem-label">
          Projects
</span>      
</a>
  
</li>

        
          
<li data-item-id="" data-targets="nav-list.items" data-view-component="true" class="ActionListItem">
    
    
    <a data-analytics-event="{&quot;category&quot;:&quot;Global navigation&quot;,&quot;action&quot;:&quot;DISCUSSIONS&quot;,&quot;label&quot;:null}" id="item-5921be05-cf1b-483b-a76a-67a0160ee9dd" href="/discussions" data-view-component="true" class="ActionListContent ActionListContent--visual16">
        <span class="ActionListItem-visual ActionListItem-visual--leading">
          <svg aria-hidden="true" height="16" viewBox="0 0 16 16" version="1.1" width="16" data-view-component="true" class="octicon octicon-comment-discussion">
    <path d="M1.75 1h8.5c.966 0 1.75.784 1.75 1.75v5.5A1.75 1.75 0 0 1 10.25 10H7.061l-2.574 2.573A1.458 1.458 0 0 1 2 11.543V10h-.25A1.75 1.75 0 0 1 0 8.25v-5.5C0 1.784.784 1 1.75 1ZM1.5 2.75v5.5c0 .138.112.25.25.25h1a.75.75 0 0 1 .75.75v2.19l2.72-2.72a.749.749 0 0 1 .53-.22h3.5a.25.25 0 0 0 .25-.25v-5.5a.25.25 0 0 0-.25-.25h-8.5a.25.25 0 0 0-.25.25Zm13 2a.25.25 0 0 0-.25-.25h-.5a.75.75 0 0 1 0-1.5h.5c.966 0 1.75.784 1.75 1.75v5.5A1.75 1.75 0 0 1 14.25 12H14v1.543a1.458 1.458 0 0 1-2.487 1.03L9.22 12.28a.749.749 0 0 1 .326-1.275.749.749 0 0 1 .734.215l2.22 2.22v-2.19a.75.75 0 0 1 .75-.75h1a.25.25 0 0 0 .25-.25Z"></path>
</svg>
        </span>
      
        <span data-view-component="true" class="ActionListItem-label">
          Discussions
</span>      
</a>
  
</li>

        
          
<li data-item-id="" data-targets="nav-list.items" data-view-component="true" class="ActionListItem">
    
    
    <a data-analytics-event="{&quot;category&quot;:&quot;Global navigation&quot;,&quot;action&quot;:&quot;CODESPACES&quot;,&quot;label&quot;:null}" id="item-d7dd56c8-5324-4bd4-b4f7-ac5ec30c14c8" href="https://github.com/codespaces" data-view-component="true" class="ActionListContent ActionListContent--visual16">
        <span class="ActionListItem-visual ActionListItem-visual--leading">
          <svg aria-hidden="true" height="16" viewBox="0 0 16 16" version="1.1" width="16" data-view-component="true" class="octicon octicon-codespaces">
    <path d="M0 11.25c0-.966.784-1.75 1.75-1.75h12.5c.966 0 1.75.784 1.75 1.75v3A1.75 1.75 0 0 1 14.25 16H1.75A1.75 1.75 0 0 1 0 14.25Zm2-9.5C2 .784 2.784 0 3.75 0h8.5C13.216 0 14 .784 14 1.75v5a1.75 1.75 0 0 1-1.75 1.75h-8.5A1.75 1.75 0 0 1 2 6.75Zm1.75-.25a.25.25 0 0 0-.25.25v5c0 .138.112.25.25.25h8.5a.25.25 0 0 0 .25-.25v-5a.25.25 0 0 0-.25-.25Zm-2 9.5a.25.25 0 0 0-.25.25v3c0 .138.112.25.25.25h12.5a.25.25 0 0 0 .25-.25v-3a.25.25 0 0 0-.25-.25Z"></path><path d="M7 12.75a.75.75 0 0 1 .75-.75h4.5a.75.75 0 0 1 0 1.5h-4.5a.75.75 0 0 1-.75-.75Zm-4 0a.75.75 0 0 1 .75-.75h.5a.75.75 0 0 1 0 1.5h-.5a.75.75 0 0 1-.75-.75Z"></path>
</svg>
        </span>
      
        <span data-view-component="true" class="ActionListItem-label">
          Codespaces
</span>      
</a>
  
</li>

        
          <li role="presentation" aria-hidden="true" data-view-component="true" class="ActionList-sectionDivider hide-whenRegular"></li>
        
          
<li data-item-id="" data-targets="nav-list.items" data-view-component="true" class="ActionListItem">
    
    
    <a data-analytics-event="{&quot;category&quot;:&quot;Global navigation&quot;,&quot;action&quot;:&quot;COPILOT&quot;,&quot;label&quot;:null}" id="item-b6a9b247-3c04-45a3-adb8-13f749d20b61" href="/copilot" data-view-component="true" class="ActionListContent ActionListContent--visual16">
        <span class="ActionListItem-visual ActionListItem-visual--leading">
          <svg aria-hidden="true" height="16" viewBox="0 0 16 16" version="1.1" width="16" data-view-component="true" class="octicon octicon-copilot">
    <path d="M7.998 15.035c-4.562 0-7.873-2.914-7.998-3.749V9.338c.085-.628.677-1.686 1.588-2.065.013-.07.024-.143.036-.218.029-.183.06-.384.126-.612-.201-.508-.254-1.084-.254-1.656 0-.87.128-1.769.693-2.484.579-.733 1.494-1.124 2.724-1.261 1.206-.134 2.262.034 2.944.765.05.053.096.108.139.165.044-.057.094-.112.143-.165.682-.731 1.738-.899 2.944-.765 1.23.137 2.145.528 2.724 1.261.566.715.693 1.614.693 2.484 0 .572-.053 1.148-.254 1.656.066.228.098.429.126.612.012.076.024.148.037.218.924.385 1.522 1.471 1.591 2.095v1.872c0 .766-3.351 3.795-8.002 3.795Zm0-1.485c2.28 0 4.584-1.11 5.002-1.433V7.862l-.023-.116c-.49.21-1.075.291-1.727.291-1.146 0-2.059-.327-2.71-.991A3.222 3.222 0 0 1 8 6.303a3.24 3.24 0 0 1-.544.743c-.65.664-1.563.991-2.71.991-.652 0-1.236-.081-1.727-.291l-.023.116v4.255c.419.323 2.722 1.433 5.002 1.433ZM6.762 2.83c-.193-.206-.637-.413-1.682-.297-1.019.113-1.479.404-1.713.7-.247.312-.369.789-.369 1.554 0 .793.129 1.171.308 1.371.162.181.519.379 1.442.379.853 0 1.339-.235 1.638-.54.315-.322.527-.827.617-1.553.117-.935-.037-1.395-.241-1.614Zm4.155-.297c-1.044-.116-1.488.091-1.681.297-.204.219-.359.679-.242 1.614.091.726.303 1.231.618 1.553.299.305.784.54 1.638.54.922 0 1.28-.198 1.442-.379.179-.2.308-.578.308-1.371 0-.765-.123-1.242-.37-1.554-.233-.296-.693-.587-1.713-.7Z"></path><path d="M6.25 9.037a.75.75 0 0 1 .75.75v1.501a.75.75 0 0 1-1.5 0V9.787a.75.75 0 0 1 .75-.75Zm4.25.75v1.501a.75.75 0 0 1-1.5 0V9.787a.75.75 0 0 1 1.5 0Z"></path>
</svg>
        </span>
      
        <span data-view-component="true" class="ActionListItem-label">
          Copilot
</span>      
</a>
  
</li>

        
          
<li data-item-id="" data-targets="nav-list.items" data-view-component="true" class="ActionListItem hide-whenRegular">
    
    
    <a id="item-94c571d8-f9a9-4dd2-a785-0405ee82067d" href="/copilot/spaces" data-view-component="true" class="ActionListContent ActionListContent--visual16">
        <span class="ActionListItem-visual ActionListItem-visual--leading">
          <svg aria-hidden="true" height="16" viewBox="0 0 16 16" version="1.1" width="16" data-view-component="true" class="octicon octicon-space">
    <path d="M0 13.25V2.75C0 1.784.784 1 1.75 1H5c.551 0 1.07.26 1.4.7l.9 1.2a.25.25 0 0 0 .2.1h6.75c.966 0 1.75.784 1.75 1.75v3.638a.75.75 0 0 1-1.5 0V4.75a.25.25 0 0 0-.25-.25H7.5a1.75 1.75 0 0 1-1.4-.7l-.9-1.2a.25.25 0 0 0-.2-.1H1.75a.25.25 0 0 0-.25.25v10.5c0 .138.112.25.25.25h5.663l.076.004a.75.75 0 0 1 0 1.492L7.413 15H1.75A1.75 1.75 0 0 1 0 13.25Z"></path><path d="M12.265 9.16a.248.248 0 0 1 .467 0l.237.649a3.726 3.726 0 0 0 2.219 2.218l.649.238a.249.249 0 0 1 0 .467l-.649.237a3.728 3.728 0 0 0-2.219 2.219l-.237.649a.249.249 0 0 1-.467 0l-.238-.649a3.726 3.726 0 0 0-2.218-2.219l-.649-.237a.248.248 0 0 1 0-.467l.649-.238a3.725 3.725 0 0 0 2.218-2.218l.238-.649Z"></path>
</svg>
        </span>
      
        <span data-view-component="true" class="ActionListItem-label">
          Spaces
</span>      
</a>
  
</li>

        
          
<li data-item-id="" data-targets="nav-list.items" data-view-component="true" class="ActionListItem ActionListItem--hasSubItem hide-whenRegular">
    
    
    <button id="item-c5b902c3-3d12-4d13-ac2a-3649eeffd0e1" type="button" aria-expanded="false" data-action="
            click:nav-list#handleItemWithSubItemClick
            keydown:nav-list#handleItemWithSubItemKeydown
          " data-view-component="true" class="ActionListContent ActionListContent--visual16">
        <span class="ActionListItem-visual ActionListItem-visual--leading">
          <svg aria-hidden="true" height="16" viewBox="0 0 16 16" version="1.1" width="16" data-view-component="true" class="octicon octicon-download">
    <path d="M2.75 14A1.75 1.75 0 0 1 1 12.25v-2.5a.75.75 0 0 1 1.5 0v2.5c0 .138.112.25.25.25h10.5a.25.25 0 0 0 .25-.25v-2.5a.75.75 0 0 1 1.5 0v2.5A1.75 1.75 0 0 1 13.25 14Z"></path><path d="M7.25 7.689V2a.75.75 0 0 1 1.5 0v5.689l1.97-1.969a.749.749 0 1 1 1.06 1.06l-3.25 3.25a.749.749 0 0 1-1.06 0L4.22 6.78a.749.749 0 1 1 1.06-1.06l1.97 1.969Z"></path>
</svg>
        </span>
      
        <span data-view-component="true" class="ActionListItem-label">
          Download Copilot
</span>      
        <span class="ActionListItem-visual ActionListItem-action--trailing">
          <svg aria-hidden="true" height="16" viewBox="0 0 16 16" version="1.1" width="16" data-view-component="true" class="octicon octicon-chevron-down ActionListItem-collapseIcon">
    <path d="M12.78 5.22a.749.749 0 0 1 0 1.06l-4.25 4.25a.749.749 0 0 1-1.06 0L3.22 6.28a.749.749 0 1 1 1.06-1.06L8 8.939l3.72-3.719a.749.749 0 0 1 1.06 0Z"></path>
</svg>
        </span>
</button>
        <ul role="list" data-action="keydown:nav-list#handleItemWithSubItemKeydown" aria-labelledby="item-c5b902c3-3d12-4d13-ac2a-3649eeffd0e1" data-view-component="true" class="ActionList ActionList--subGroup">
          
<li data-item-id="" data-targets="nav-list.items" data-view-component="true" class="ActionListItem--subItem ActionListItem">
    
    
    <a id="item-b8ef0ab9-719f-4ac5-8e76-e749a6f3badb" href="https://marketplace.visualstudio.com/items?itemName=GitHub.copilot" data-view-component="true" class="ActionListContent">
      
        <span data-view-component="true" class="ActionListItem-label">
          Visual Studio Code
</span>      
</a>
  
</li>

          
<li data-item-id="" data-targets="nav-list.items" data-view-component="true" class="ActionListItem--subItem ActionListItem">
    
    
    <a id="item-7810c43d-2d9f-418d-9c27-a62bc27e5b1c" href="https://visualstudio.microsoft.com/github-copilot/" data-view-component="true" class="ActionListContent">
      
        <span data-view-component="true" class="ActionListItem-label">
          Visual Studio
</span>      
</a>
  
</li>

          
<li data-item-id="" data-targets="nav-list.items" data-view-component="true" class="ActionListItem--subItem ActionListItem">
    
    
    <a id="item-b58a97e5-7085-42d1-a204-4c338163cb69" href="https://github.com/github/CopilotForXcode" data-view-component="true" class="ActionListContent">
      
        <span data-view-component="true" class="ActionListItem-label">
          Xcode
</span>      
</a>
  
</li>

          
<li data-item-id="" data-targets="nav-list.items" data-view-component="true" class="ActionListItem--subItem ActionListItem">
    
    
    <a id="item-16afa0be-8823-4455-bb7f-7453e1d85723" href="https://plugins.jetbrains.com/plugin/17718-github-copilot" data-view-component="true" class="ActionListContent">
      
        <span data-view-component="true" class="ActionListItem-label">
          JetBrains
</span>      
</a>
  
</li>

          
<li data-item-id="" data-targets="nav-list.items" data-view-component="true" class="ActionListItem--subItem ActionListItem">
    
    
    <a id="item-c35e9e60-4f45-484e-b119-fb0a0245507a" href="https://github.com/github/copilot.vim" data-view-component="true" class="ActionListContent">
      
        <span data-view-component="true" class="ActionListItem-label">
          Neovim
</span>      
</a>
  
</li>

          
<li data-item-id="" data-targets="nav-list.items" data-view-component="true" class="ActionListItem--subItem ActionListItem">
    
    
    <a id="item-ce27aa66-e34a-4523-9ca9-2fd82ac45f04" href="https://docs.github.com/en/copilot/how-tos/set-up/installing-github-copilot-in-the-cli" data-view-component="true" class="ActionListContent">
      
        <span data-view-component="true" class="ActionListItem-label">
          CLI
</span>      
</a>
  
</li>

</ul>
</li>

        
          <li role="presentation" aria-hidden="true" data-view-component="true" class="ActionList-sectionDivider"></li>
        
          
<li data-item-id="" data-targets="nav-list.items" data-view-component="true" class="ActionListItem">
    
    
    <a data-analytics-event="{&quot;category&quot;:&quot;Global navigation&quot;,&quot;action&quot;:&quot;EXPLORE&quot;,&quot;label&quot;:null}" id="item-318f628e-d7bb-498f-a7a7-e76fc43745d9" href="/explore" data-view-component="true" class="ActionListContent ActionListContent--visual16">
        <span class="ActionListItem-visual ActionListItem-visual--leading">
          <svg aria-hidden="true" height="16" viewBox="0 0 16 16" version="1.1" width="16" data-view-component="true" class="octicon octicon-telescope">
    <path d="M14.184 1.143v-.001l1.422 2.464a1.75 1.75 0 0 1-.757 2.451L3.104 11.713a1.75 1.75 0 0 1-2.275-.702l-.447-.775a1.75 1.75 0 0 1 .53-2.32L11.682.573a1.748 1.748 0 0 1 2.502.57Zm-4.709 9.32h-.001l2.644 3.863a.75.75 0 1 1-1.238.848l-1.881-2.75v2.826a.75.75 0 0 1-1.5 0v-2.826l-1.881 2.75a.75.75 0 1 1-1.238-.848l2.049-2.992a.746.746 0 0 1 .293-.253l1.809-.87a.749.749 0 0 1 .944.252ZM9.436 3.92h-.001l-4.97 3.39.942 1.63 5.42-2.61Zm3.091-2.108h.001l-1.85 1.26 1.505 2.605 2.016-.97a.247.247 0 0 0 .13-.151.247.247 0 0 0-.022-.199l-1.422-2.464a.253.253 0 0 0-.161-.119.254.254 0 0 0-.197.038ZM1.756 9.157a.25.25 0 0 0-.075.33l.447.775a.25.25 0 0 0 .325.1l1.598-.769-.83-1.436-1.465 1Z"></path>
</svg>
        </span>
      
        <span data-view-component="true" class="ActionListItem-label">
          Explore
</span>      
</a>
  
</li>

        
          
<li data-item-id="" data-targets="nav-list.items" data-view-component="true" class="ActionListItem">
    
    
    <a data-analytics-event="{&quot;category&quot;:&quot;Global navigation&quot;,&quot;action&quot;:&quot;MARKETPLACE&quot;,&quot;label&quot;:null}" id="item-d3276751-c766-4236-8180-87ad9f5c9eae" href="/marketplace" data-view-component="true" class="ActionListContent ActionListContent--visual16">
        <span class="ActionListItem-visual ActionListItem-visual--leading">
          <svg aria-hidden="true" height="16" viewBox="0 0 16 16" version="1.1" width="16" data-view-component="true" class="octicon octicon-gift">
    <path d="M2 2.75A2.75 2.75 0 0 1 4.75 0c.983 0 1.873.42 2.57 1.232.268.318.497.668.68 1.042.183-.375.411-.725.68-1.044C9.376.42 10.266 0 11.25 0a2.75 2.75 0 0 1 2.45 4h.55c.966 0 1.75.784 1.75 1.75v2c0 .698-.409 1.301-1 1.582v4.918A1.75 1.75 0 0 1 13.25 16H2.75A1.75 1.75 0 0 1 1 14.25V9.332C.409 9.05 0 8.448 0 7.75v-2C0 4.784.784 4 1.75 4h.55c-.192-.375-.3-.8-.3-1.25ZM7.25 9.5H2.5v4.75c0 .138.112.25.25.25h4.5Zm1.5 0v5h4.5a.25.25 0 0 0 .25-.25V9.5Zm0-4V8h5.5a.25.25 0 0 0 .25-.25v-2a.25.25 0 0 0-.25-.25Zm-7 0a.25.25 0 0 0-.25.25v2c0 .138.112.25.25.25h5.5V5.5h-5.5Zm3-4a1.25 1.25 0 0 0 0 2.5h2.309c-.233-.818-.542-1.401-.878-1.793-.43-.502-.915-.707-1.431-.707ZM8.941 4h2.309a1.25 1.25 0 0 0 0-2.5c-.516 0-1 .205-1.43.707-.337.392-.646.975-.879 1.793Z"></path>
</svg>
        </span>
      
        <span data-view-component="true" class="ActionListItem-label">
          Marketplace
</span>      
</a>
  
</li>

</ul>  </nav-list>
</nav>

        <div data-view-component="true" class="my-3 d-flex flex-justify-center height-full">
          <span data-view-component="true">
  <svg style="box-sizing: content-box; color: var(--color-icon-primary);" width="16" height="16" viewBox="0 0 16 16" fill="none" aria-hidden="true" data-view-component="true" class="anim-rotate">
    <circle cx="8" cy="8" r="7" stroke="currentColor" stroke-opacity="0.25" stroke-width="2" vector-effect="non-scaling-stroke" fill="none" />
    <path d="M15 8a7.002 7.002 0 00-7-7" stroke="currentColor" stroke-width="2" stroke-linecap="round" vector-effect="non-scaling-stroke" />
</svg>    <span class="sr-only">Loading</span>
</span>
</div>
</div>
      <div data-view-component="true" class="flex-1"></div>


      <div data-view-component="true" class="px-2">          <p class="color-fg-subtle text-small text-light">&copy; 2025 GitHub, Inc.</p>

          <div data-view-component="true" class="d-flex flex-wrap text-small text-light">
              <a target="_blank" href="https://github.com/about" data-view-component="true" class="Link mr-2">About</a>
              <a target="_blank" href="https://github.blog" data-view-component="true" class="Link mr-2">Blog</a>
              <a target="_blank" href="https://docs.github.com/site-policy/github-terms/github-terms-of-service" data-view-component="true" class="Link mr-2">Terms</a>
              <a target="_blank" href="https://docs.github.com/site-policy/privacy-policies/github-privacy-statement" data-view-component="true" class="Link mr-2">Privacy</a>
              <a target="_blank" href="https://github.com/security" data-view-component="true" class="Link mr-2">Security</a>
              <a target="_blank" href="https://www.githubstatus.com/" data-view-component="true" class="Link mr-3">Status</a>

</div></div>
</div>
      </scrollable-region>
      
</dialog></dialog-helper>


  <div data-show-on-forbidden-error hidden>
    <div class="Box">
  <div class="blankslate-container">
    <div data-view-component="true" class="blankslate blankslate-spacious color-bg-default rounded-2">
      

      <h3 data-view-component="true" class="blankslate-heading">        Uh oh!
</h3>
      <p data-view-component="true">        <p class="color-fg-muted my-2 mb-2 ws-normal">There was an error while loading. <a class="Link--inTextBlock" data-turbo="false" href="" aria-label="Please reload this page">Please reload this page</a>.</p>
</p>

</div>  </div>
</div>  </div>
</include-fragment></deferred-side-panel>
        </div>

        <a class="AppHeader-logo ml-1 "
          href="https://github.com/"
          data-hotkey="g d"
          aria-label="Homepage "
          data-turbo="false"
          data-analytics-event="{&quot;category&quot;:&quot;Header&quot;,&quot;action&quot;:&quot;go to dashboard&quot;,&quot;label&quot;:&quot;icon:logo&quot;}"
        >
          <svg height="32" aria-hidden="true" viewBox="0 0 24 24" version="1.1" width="32" data-view-component="true" class="octicon octicon-mark-github v-align-middle">
    <path d="M12 1C5.923 1 1 5.923 1 12c0 4.867 3.149 8.979 7.521 10.436.55.096.756-.233.756-.522 0-.262-.013-1.128-.013-2.049-2.764.509-3.479-.674-3.699-1.292-.124-.317-.66-1.293-1.127-1.554-.385-.207-.936-.715-.014-.729.866-.014 1.485.797 1.691 1.128.99 1.663 2.571 1.196 3.204.907.096-.715.385-1.196.701-1.471-2.448-.275-5.005-1.224-5.005-5.432 0-1.196.426-2.186 1.128-2.956-.111-.275-.496-1.402.11-2.915 0 0 .921-.288 3.024 1.128a10.193 10.193 0 0 1 2.75-.371c.936 0 1.871.123 2.75.371 2.104-1.43 3.025-1.128 3.025-1.128.605 1.513.221 2.64.111 2.915.701.77 1.127 1.747 1.127 2.956 0 4.222-2.571 5.157-5.019 5.432.399.344.743 1.004.743 2.035 0 1.471-.014 2.654-.014 3.025 0 .289.206.632.756.522C19.851 20.979 23 16.854 23 12c0-6.077-4.922-11-11-11Z"></path>
</svg>
        </a>

          <context-region-controller
  class="AppHeader-context responsive-context-region"
  data-max-items="5"
  
>
  <div class="AppHeader-context-full">
    <nav role="navigation" aria-label="GitHub Breadcrumb">
      
<context-region data-target="context-region-controller.contextRegion" role="list"  data-action="context-region-changed:context-region-controller#crumbsChanged">
    <context-region-crumb
      data-crumb-id="contextregion-usercrumb-rafaelcaballero"
      data-targets="context-region.crumbs"
      data-label="RafaelCaballero"
      data-href="/RafaelCaballero"
      data-pre-rendered
      role="listitem"
      
    >
      <a data-target="context-region-crumb.linkElement" data-analytics-event="{&quot;category&quot;:&quot;SiteHeaderComponent&quot;,&quot;action&quot;:&quot;context_region_crumb&quot;,&quot;label&quot;:&quot;RafaelCaballero&quot;,&quot;screen_size&quot;:&quot;full&quot;}" data-hovercard-type="user" data-hovercard-url="/users/RafaelCaballero/hovercard" data-octo-click="hovercard-link-click" data-octo-dimensions="link_type:self" href="/RafaelCaballero" id="contextregion-usercrumb-rafaelcaballero-link" data-view-component="true" class="AppHeader-context-item">
        <span data-target="context-region-crumb.labelElement" class="AppHeader-context-item-label ">
          RafaelCaballero
        </span>

</a>
      <context-region-divider data-target="context-region-crumb.dividerElement" data-pre-rendered >
  <span class="AppHeader-context-item-separator">
    <span class="sr-only">/</span>
    <svg width="16" height="16" viewBox="0 0 16 16" xmlns="http://www.w3.org/2000/svg" aria-hidden="true">
      <path d="M10.956 1.27994L6.06418 14.7201L5 14.7201L9.89181 1.27994L10.956 1.27994Z" fill="currentcolor" />
    </svg>
  </span>
</context-region-divider>

    </context-region-crumb>

      <li data-target="context-region-controller.overflowMenuContainer context-region.overflowMenuContainer" role="listitem" hidden>
        <action-menu data-target="context-region-controller.overflowActionMenu" data-select-variant="none" data-view-component="true">
  <focus-group direction="vertical" mnemonics retain>
    <button id="action-menu-190cbc9c-9f43-4bba-8cd2-cb9e6e56958b-button" popovertarget="action-menu-190cbc9c-9f43-4bba-8cd2-cb9e6e56958b-overlay" aria-controls="action-menu-190cbc9c-9f43-4bba-8cd2-cb9e6e56958b-list" aria-haspopup="true" aria-labelledby="tooltip-ed5f5272-5dbf-4d5b-a3e2-f49820111b67" type="button" data-view-component="true" class="Button Button--iconOnly Button--secondary Button--medium">  <svg aria-hidden="true" height="16" viewBox="0 0 16 16" version="1.1" width="16" data-view-component="true" class="octicon octicon-kebab-horizontal Button-visual">
    <path d="M8 9a1.5 1.5 0 1 0 0-3 1.5 1.5 0 0 0 0 3ZM1.5 9a1.5 1.5 0 1 0 0-3 1.5 1.5 0 0 0 0 3Zm13 0a1.5 1.5 0 1 0 0-3 1.5 1.5 0 0 0 0 3Z"></path>
</svg>
</button><tool-tip id="tooltip-ed5f5272-5dbf-4d5b-a3e2-f49820111b67" for="action-menu-190cbc9c-9f43-4bba-8cd2-cb9e6e56958b-button" popover="manual" data-direction="s" data-type="label" data-view-component="true" class="sr-only position-absolute">Show more breadcrumb items</tool-tip>


<anchored-position data-target="action-menu.overlay" id="action-menu-190cbc9c-9f43-4bba-8cd2-cb9e6e56958b-overlay" anchor="action-menu-190cbc9c-9f43-4bba-8cd2-cb9e6e56958b-button" align="start" side="outside-bottom" anchor-offset="normal" popover="auto" data-view-component="true">
  <div data-view-component="true" class="Overlay Overlay--size-auto">
    
      <div data-view-component="true" class="Overlay-body Overlay-body--paddingNone">          <action-list>
  <div data-view-component="true">
    <ul aria-labelledby="action-menu-190cbc9c-9f43-4bba-8cd2-cb9e6e56958b-button" id="action-menu-190cbc9c-9f43-4bba-8cd2-cb9e6e56958b-list" role="menu" data-view-component="true" class="ActionListWrap--inset ActionListWrap">
        <li hidden="hidden" data-crumb-id="contextregion-usercrumb-rafaelcaballero" data-targets="context-region.overflowCrumbs action-list.items" data-analytics-event="{&quot;category&quot;:&quot;SiteHeaderComponent&quot;,&quot;action&quot;:&quot;context_region_overflow_menu_crumb&quot;,&quot;label&quot;:&quot;global-navigation&quot;}" role="none" data-view-component="true" class="ActionListItem">
    
    
    <a tabindex="-1" id="item-2944c297-4ed1-484b-b6ae-71154abefeb2" href="/RafaelCaballero" role="menuitem" data-view-component="true" class="ActionListContent">
      
        <span data-view-component="true" class="ActionListItem-label">
          RafaelCaballero
</span>      
</a>
  
</li>
        <li hidden="hidden" data-crumb-id="contextregion-repositorycrumb-julio25" data-targets="context-region.overflowCrumbs action-list.items" data-analytics-event="{&quot;category&quot;:&quot;SiteHeaderComponent&quot;,&quot;action&quot;:&quot;context_region_overflow_menu_crumb&quot;,&quot;label&quot;:&quot;global-navigation&quot;}" role="none" data-view-component="true" class="ActionListItem">
    
    
    <a tabindex="-1" id="item-eb2e164d-0120-4036-8833-755820520a02" href="/RafaelCaballero/Julio25" role="menuitem" data-view-component="true" class="ActionListContent">
      
        <span data-view-component="true" class="ActionListItem-label">
          Julio25
</span>      
</a>
  
</li>
</ul>    
</div></action-list>


</div>
      
</div></anchored-position>  </focus-group>
</action-menu>
  <context-region-divider data-target="context-region-crumb.dividerElement" data-pre-rendered >
  <span class="AppHeader-context-item-separator">
    <span class="sr-only">/</span>
    <svg width="16" height="16" viewBox="0 0 16 16" xmlns="http://www.w3.org/2000/svg" aria-hidden="true">
      <path d="M10.956 1.27994L6.06418 14.7201L5 14.7201L9.89181 1.27994L10.956 1.27994Z" fill="currentcolor" />
    </svg>
  </span>
</context-region-divider>


      </li>
    <context-region-crumb
      data-crumb-id="contextregion-repositorycrumb-julio25"
      data-targets="context-region.crumbs"
      data-label="Julio25"
      data-href="/RafaelCaballero/Julio25"
      data-pre-rendered
      role="listitem"
      
    >
      <a data-target="context-region-crumb.linkElement" data-analytics-event="{&quot;category&quot;:&quot;SiteHeaderComponent&quot;,&quot;action&quot;:&quot;context_region_crumb&quot;,&quot;label&quot;:&quot;Julio25&quot;,&quot;screen_size&quot;:&quot;full&quot;}" href="/RafaelCaballero/Julio25" id="contextregion-repositorycrumb-julio25-link" data-view-component="true" class="AppHeader-context-item">
        <span data-target="context-region-crumb.labelElement" class="AppHeader-context-item-label ">
          Julio25
        </span>

</a>
      <context-region-divider data-target="context-region-crumb.dividerElement" data-pre-rendered >
  <span class="AppHeader-context-item-separator">
    <span class="sr-only">/</span>
    <svg width="16" height="16" viewBox="0 0 16 16" xmlns="http://www.w3.org/2000/svg" aria-hidden="true">
      <path d="M10.956 1.27994L6.06418 14.7201L5 14.7201L9.89181 1.27994L10.956 1.27994Z" fill="currentcolor" />
    </svg>
  </span>
</context-region-divider>

    </context-region-crumb>

</context-region>

    </nav>
  </div>
</context-region-controller>

      </div>
      <div class="AppHeader-globalBar-end">
          <div class="AppHeader-search" >
              


<qbsearch-input class="search-input" data-scope="repo:RafaelCaballero/Julio25" data-custom-scopes-path="/search/custom_scopes" data-delete-custom-scopes-csrf="lFsOPkljiREaWsMA1au9ar3sSZoV5MJPgdN6UlkdEfZmWoFAzo1to4TW0HqnyM8xX8sBVnSdy3Me3j0R5yrimw" data-max-custom-scopes="10" data-header-redesign-enabled="true" data-initial-value="" data-blackbird-suggestions-path="/search/suggestions" data-jump-to-suggestions-path="/_graphql/GetSuggestedNavigationDestinations" data-current-repository="RafaelCaballero/Julio25" data-current-org="" data-current-owner="RafaelCaballero" data-logged-in="true" data-copilot-chat-enabled="false" data-nl-search-enabled="false">
  <div
    class="search-input-container search-with-dialog position-relative d-flex flex-row flex-items-center height-auto color-bg-transparent border-0 color-fg-subtle mx-0"
    data-action="click:qbsearch-input#searchInputContainerClicked"
  >
      
            <button type="button" data-action="click:qbsearch-input#handleExpand" class="AppHeader-button AppHeader-search-whenNarrow" aria-label="Search or jump to…" aria-expanded="false" aria-haspopup="dialog">
            <svg aria-hidden="true" height="16" viewBox="0 0 16 16" version="1.1" width="16" data-view-component="true" class="octicon octicon-search">
    <path d="M10.68 11.74a6 6 0 0 1-7.922-8.982 6 6 0 0 1 8.982 7.922l3.04 3.04a.749.749 0 0 1-.326 1.275.749.749 0 0 1-.734-.215ZM11.5 7a4.499 4.499 0 1 0-8.997 0A4.499 4.499 0 0 0 11.5 7Z"></path>
</svg>
          </button>


<div class="AppHeader-search-whenRegular">
  <div class="AppHeader-search-wrap AppHeader-search-wrap--hasTrailing">
    <div class="AppHeader-search-control AppHeader-search-control-overflow">
      <label
        for="AppHeader-searchInput"
        aria-label="Search or jump to…"
        class="AppHeader-search-visual--leading"
      >
        <svg aria-hidden="true" height="16" viewBox="0 0 16 16" version="1.1" width="16" data-view-component="true" class="octicon octicon-search">
    <path d="M10.68 11.74a6 6 0 0 1-7.922-8.982 6 6 0 0 1 8.982 7.922l3.04 3.04a.749.749 0 0 1-.326 1.275.749.749 0 0 1-.734-.215ZM11.5 7a4.499 4.499 0 1 0-8.997 0A4.499 4.499 0 0 0 11.5 7Z"></path>
</svg>
      </label>

                <button
            type="button"
            data-target="qbsearch-input.inputButton"
            data-action="click:qbsearch-input#handleExpand"
            class="AppHeader-searchButton form-control text-left color-fg-subtle no-wrap"
            data-hotkey="s,/"
            data-analytics-event="{&quot;location&quot;:&quot;navbar&quot;,&quot;action&quot;:&quot;searchbar&quot;,&quot;context&quot;:&quot;global&quot;,&quot;tag&quot;:&quot;input&quot;,&quot;label&quot;:&quot;searchbar_input_global_navbar&quot;}"
            aria-describedby="search-error-message-flash"
          >
            <div class="overflow-hidden">
              <span id="qb-input-query" data-target="qbsearch-input.inputButtonText">
                  Type <kbd class="AppHeader-search-kbd">/</kbd> to search
              </span>
            </div>
          </button>

    </div>


  </div>
</div>

    <input type="hidden" name="type" class="js-site-search-type-field">

    
<div class="Overlay--hidden " data-modal-dialog-overlay>
  <modal-dialog data-action="close:qbsearch-input#handleClose cancel:qbsearch-input#handleClose" data-target="qbsearch-input.searchSuggestionsDialog" role="dialog" id="search-suggestions-dialog" aria-modal="true" aria-labelledby="search-suggestions-dialog-header" data-view-component="true" class="Overlay Overlay--width-medium Overlay--height-auto">
      <h1 id="search-suggestions-dialog-header" class="sr-only">Search code, repositories, users, issues, pull requests...</h1>
    <div class="Overlay-body Overlay-body--paddingNone">
      
          <div data-view-component="true">        <div class="search-suggestions position-absolute width-full color-shadow-large border color-fg-default color-bg-default overflow-hidden d-flex flex-column query-builder-container"
          style="border-radius: 12px;"
          data-target="qbsearch-input.queryBuilderContainer"
          hidden
        >
          <!-- '"` --><!-- </textarea></xmp> --></option></form><form id="query-builder-test-form" action="" accept-charset="UTF-8" method="get">
  <query-builder data-target="qbsearch-input.queryBuilder" id="query-builder-query-builder-test" data-filter-key=":" data-view-component="true" class="QueryBuilder search-query-builder">
    <div class="FormControl FormControl--fullWidth">
      <label id="query-builder-test-label" for="query-builder-test" class="FormControl-label sr-only">
        Search
      </label>
      <div
        class="QueryBuilder-StyledInput width-fit "
        data-target="query-builder.styledInput"
      >
          <span id="query-builder-test-leadingvisual-wrap" class="FormControl-input-leadingVisualWrap QueryBuilder-leadingVisualWrap">
            <svg aria-hidden="true" height="16" viewBox="0 0 16 16" version="1.1" width="16" data-view-component="true" class="octicon octicon-search FormControl-input-leadingVisual">
    <path d="M10.68 11.74a6 6 0 0 1-7.922-8.982 6 6 0 0 1 8.982 7.922l3.04 3.04a.749.749 0 0 1-.326 1.275.749.749 0 0 1-.734-.215ZM11.5 7a4.499 4.499 0 1 0-8.997 0A4.499 4.499 0 0 0 11.5 7Z"></path>
</svg>
          </span>
        <div data-target="query-builder.styledInputContainer" class="QueryBuilder-StyledInputContainer">
          <div
            aria-hidden="true"
            class="QueryBuilder-StyledInputContent"
            data-target="query-builder.styledInputContent"
          ></div>
          <div class="QueryBuilder-InputWrapper">
            <div aria-hidden="true" class="QueryBuilder-Sizer" data-target="query-builder.sizer"></div>
            <input id="query-builder-test" name="query-builder-test" value="" autocomplete="off" type="text" role="combobox" spellcheck="false" aria-expanded="false" aria-describedby="validation-2f4260e9-72fb-47f9-a3b0-5b2a490ca44a" data-target="query-builder.input" data-action="
          input:query-builder#inputChange
          blur:query-builder#inputBlur
          keydown:query-builder#inputKeydown
          focus:query-builder#inputFocus
        " data-view-component="true" class="FormControl-input QueryBuilder-Input FormControl-medium" />
          </div>
        </div>
          <span class="sr-only" id="query-builder-test-clear">Clear</span>
          <button role="button" id="query-builder-test-clear-button" aria-labelledby="query-builder-test-clear query-builder-test-label" data-target="query-builder.clearButton" data-action="
                click:query-builder#clear
                focus:query-builder#clearButtonFocus
                blur:query-builder#clearButtonBlur
              " variant="small" hidden="hidden" type="button" data-view-component="true" class="Button Button--iconOnly Button--invisible Button--medium mr-1 px-2 py-0 d-flex flex-items-center rounded-1 color-fg-muted">  <svg aria-hidden="true" height="16" viewBox="0 0 16 16" version="1.1" width="16" data-view-component="true" class="octicon octicon-x-circle-fill Button-visual">
    <path d="M2.343 13.657A8 8 0 1 1 13.658 2.343 8 8 0 0 1 2.343 13.657ZM6.03 4.97a.751.751 0 0 0-1.042.018.751.751 0 0 0-.018 1.042L6.94 8 4.97 9.97a.749.749 0 0 0 .326 1.275.749.749 0 0 0 .734-.215L8 9.06l1.97 1.97a.749.749 0 0 0 1.275-.326.749.749 0 0 0-.215-.734L9.06 8l1.97-1.97a.749.749 0 0 0-.326-1.275.749.749 0 0 0-.734.215L8 6.94Z"></path>
</svg>
</button>

      </div>
      <template id="search-icon">
  <svg aria-hidden="true" height="16" viewBox="0 0 16 16" version="1.1" width="16" data-view-component="true" class="octicon octicon-search">
    <path d="M10.68 11.74a6 6 0 0 1-7.922-8.982 6 6 0 0 1 8.982 7.922l3.04 3.04a.749.749 0 0 1-.326 1.275.749.749 0 0 1-.734-.215ZM11.5 7a4.499 4.499 0 1 0-8.997 0A4.499 4.499 0 0 0 11.5 7Z"></path>
</svg>
</template>

<template id="code-icon">
  <svg aria-hidden="true" height="16" viewBox="0 0 16 16" version="1.1" width="16" data-view-component="true" class="octicon octicon-code">
    <path d="m11.28 3.22 4.25 4.25a.75.75 0 0 1 0 1.06l-4.25 4.25a.749.749 0 0 1-1.275-.326.749.749 0 0 1 .215-.734L13.94 8l-3.72-3.72a.749.749 0 0 1 .326-1.275.749.749 0 0 1 .734.215Zm-6.56 0a.751.751 0 0 1 1.042.018.751.751 0 0 1 .018 1.042L2.06 8l3.72 3.72a.749.749 0 0 1-.326 1.275.749.749 0 0 1-.734-.215L.47 8.53a.75.75 0 0 1 0-1.06Z"></path>
</svg>
</template>

<template id="file-code-icon">
  <svg aria-hidden="true" height="16" viewBox="0 0 16 16" version="1.1" width="16" data-view-component="true" class="octicon octicon-file-code">
    <path d="M4 1.75C4 .784 4.784 0 5.75 0h5.586c.464 0 .909.184 1.237.513l2.914 2.914c.329.328.513.773.513 1.237v8.586A1.75 1.75 0 0 1 14.25 15h-9a.75.75 0 0 1 0-1.5h9a.25.25 0 0 0 .25-.25V6h-2.75A1.75 1.75 0 0 1 10 4.25V1.5H5.75a.25.25 0 0 0-.25.25v2.5a.75.75 0 0 1-1.5 0Zm1.72 4.97a.75.75 0 0 1 1.06 0l2 2a.75.75 0 0 1 0 1.06l-2 2a.749.749 0 0 1-1.275-.326.749.749 0 0 1 .215-.734l1.47-1.47-1.47-1.47a.75.75 0 0 1 0-1.06ZM3.28 7.78 1.81 9.25l1.47 1.47a.751.751 0 0 1-.018 1.042.751.751 0 0 1-1.042.018l-2-2a.75.75 0 0 1 0-1.06l2-2a.751.751 0 0 1 1.042.018.751.751 0 0 1 .018 1.042Zm8.22-6.218V4.25c0 .138.112.25.25.25h2.688l-.011-.013-2.914-2.914-.013-.011Z"></path>
</svg>
</template>

<template id="history-icon">
  <svg aria-hidden="true" height="16" viewBox="0 0 16 16" version="1.1" width="16" data-view-component="true" class="octicon octicon-history">
    <path d="m.427 1.927 1.215 1.215a8.002 8.002 0 1 1-1.6 5.685.75.75 0 1 1 1.493-.154 6.5 6.5 0 1 0 1.18-4.458l1.358 1.358A.25.25 0 0 1 3.896 6H.25A.25.25 0 0 1 0 5.75V2.104a.25.25 0 0 1 .427-.177ZM7.75 4a.75.75 0 0 1 .75.75v2.992l2.028.812a.75.75 0 0 1-.557 1.392l-2.5-1A.751.751 0 0 1 7 8.25v-3.5A.75.75 0 0 1 7.75 4Z"></path>
</svg>
</template>

<template id="repo-icon">
  <svg aria-hidden="true" height="16" viewBox="0 0 16 16" version="1.1" width="16" data-view-component="true" class="octicon octicon-repo">
    <path d="M2 2.5A2.5 2.5 0 0 1 4.5 0h8.75a.75.75 0 0 1 .75.75v12.5a.75.75 0 0 1-.75.75h-2.5a.75.75 0 0 1 0-1.5h1.75v-2h-8a1 1 0 0 0-.714 1.7.75.75 0 1 1-1.072 1.05A2.495 2.495 0 0 1 2 11.5Zm10.5-1h-8a1 1 0 0 0-1 1v6.708A2.486 2.486 0 0 1 4.5 9h8ZM5 12.25a.25.25 0 0 1 .25-.25h3.5a.25.25 0 0 1 .25.25v3.25a.25.25 0 0 1-.4.2l-1.45-1.087a.249.249 0 0 0-.3 0L5.4 15.7a.25.25 0 0 1-.4-.2Z"></path>
</svg>
</template>

<template id="bookmark-icon">
  <svg aria-hidden="true" height="16" viewBox="0 0 16 16" version="1.1" width="16" data-view-component="true" class="octicon octicon-bookmark">
    <path d="M3 2.75C3 1.784 3.784 1 4.75 1h6.5c.966 0 1.75.784 1.75 1.75v11.5a.75.75 0 0 1-1.227.579L8 11.722l-3.773 3.107A.751.751 0 0 1 3 14.25Zm1.75-.25a.25.25 0 0 0-.25.25v9.91l3.023-2.489a.75.75 0 0 1 .954 0l3.023 2.49V2.75a.25.25 0 0 0-.25-.25Z"></path>
</svg>
</template>

<template id="plus-circle-icon">
  <svg aria-hidden="true" height="16" viewBox="0 0 16 16" version="1.1" width="16" data-view-component="true" class="octicon octicon-plus-circle">
    <path d="M8 0a8 8 0 1 1 0 16A8 8 0 0 1 8 0ZM1.5 8a6.5 6.5 0 1 0 13 0 6.5 6.5 0 0 0-13 0Zm7.25-3.25v2.5h2.5a.75.75 0 0 1 0 1.5h-2.5v2.5a.75.75 0 0 1-1.5 0v-2.5h-2.5a.75.75 0 0 1 0-1.5h2.5v-2.5a.75.75 0 0 1 1.5 0Z"></path>
</svg>
</template>

<template id="circle-icon">
  <svg aria-hidden="true" height="16" viewBox="0 0 16 16" version="1.1" width="16" data-view-component="true" class="octicon octicon-dot-fill">
    <path d="M8 4a4 4 0 1 1 0 8 4 4 0 0 1 0-8Z"></path>
</svg>
</template>

<template id="trash-icon">
  <svg aria-hidden="true" height="16" viewBox="0 0 16 16" version="1.1" width="16" data-view-component="true" class="octicon octicon-trash">
    <path d="M11 1.75V3h2.25a.75.75 0 0 1 0 1.5H2.75a.75.75 0 0 1 0-1.5H5V1.75C5 .784 5.784 0 6.75 0h2.5C10.216 0 11 .784 11 1.75ZM4.496 6.675l.66 6.6a.25.25 0 0 0 .249.225h5.19a.25.25 0 0 0 .249-.225l.66-6.6a.75.75 0 0 1 1.492.149l-.66 6.6A1.748 1.748 0 0 1 10.595 15h-5.19a1.75 1.75 0 0 1-1.741-1.575l-.66-6.6a.75.75 0 1 1 1.492-.15ZM6.5 1.75V3h3V1.75a.25.25 0 0 0-.25-.25h-2.5a.25.25 0 0 0-.25.25Z"></path>
</svg>
</template>

<template id="team-icon">
  <svg aria-hidden="true" height="16" viewBox="0 0 16 16" version="1.1" width="16" data-view-component="true" class="octicon octicon-people">
    <path d="M2 5.5a3.5 3.5 0 1 1 5.898 2.549 5.508 5.508 0 0 1 3.034 4.084.75.75 0 1 1-1.482.235 4 4 0 0 0-7.9 0 .75.75 0 0 1-1.482-.236A5.507 5.507 0 0 1 3.102 8.05 3.493 3.493 0 0 1 2 5.5ZM11 4a3.001 3.001 0 0 1 2.22 5.018 5.01 5.01 0 0 1 2.56 3.012.749.749 0 0 1-.885.954.752.752 0 0 1-.549-.514 3.507 3.507 0 0 0-2.522-2.372.75.75 0 0 1-.574-.73v-.352a.75.75 0 0 1 .416-.672A1.5 1.5 0 0 0 11 5.5.75.75 0 0 1 11 4Zm-5.5-.5a2 2 0 1 0-.001 3.999A2 2 0 0 0 5.5 3.5Z"></path>
</svg>
</template>

<template id="project-icon">
  <svg aria-hidden="true" height="16" viewBox="0 0 16 16" version="1.1" width="16" data-view-component="true" class="octicon octicon-project">
    <path d="M1.75 0h12.5C15.216 0 16 .784 16 1.75v12.5A1.75 1.75 0 0 1 14.25 16H1.75A1.75 1.75 0 0 1 0 14.25V1.75C0 .784.784 0 1.75 0ZM1.5 1.75v12.5c0 .138.112.25.25.25h12.5a.25.25 0 0 0 .25-.25V1.75a.25.25 0 0 0-.25-.25H1.75a.25.25 0 0 0-.25.25ZM11.75 3a.75.75 0 0 1 .75.75v7.5a.75.75 0 0 1-1.5 0v-7.5a.75.75 0 0 1 .75-.75Zm-8.25.75a.75.75 0 0 1 1.5 0v5.5a.75.75 0 0 1-1.5 0ZM8 3a.75.75 0 0 1 .75.75v3.5a.75.75 0 0 1-1.5 0v-3.5A.75.75 0 0 1 8 3Z"></path>
</svg>
</template>

<template id="pencil-icon">
  <svg aria-hidden="true" height="16" viewBox="0 0 16 16" version="1.1" width="16" data-view-component="true" class="octicon octicon-pencil">
    <path d="M11.013 1.427a1.75 1.75 0 0 1 2.474 0l1.086 1.086a1.75 1.75 0 0 1 0 2.474l-8.61 8.61c-.21.21-.47.364-.756.445l-3.251.93a.75.75 0 0 1-.927-.928l.929-3.25c.081-.286.235-.547.445-.758l8.61-8.61Zm.176 4.823L9.75 4.81l-6.286 6.287a.253.253 0 0 0-.064.108l-.558 1.953 1.953-.558a.253.253 0 0 0 .108-.064Zm1.238-3.763a.25.25 0 0 0-.354 0L10.811 3.75l1.439 1.44 1.263-1.263a.25.25 0 0 0 0-.354Z"></path>
</svg>
</template>

<template id="copilot-icon">
  <svg aria-hidden="true" height="16" viewBox="0 0 16 16" version="1.1" width="16" data-view-component="true" class="octicon octicon-copilot">
    <path d="M7.998 15.035c-4.562 0-7.873-2.914-7.998-3.749V9.338c.085-.628.677-1.686 1.588-2.065.013-.07.024-.143.036-.218.029-.183.06-.384.126-.612-.201-.508-.254-1.084-.254-1.656 0-.87.128-1.769.693-2.484.579-.733 1.494-1.124 2.724-1.261 1.206-.134 2.262.034 2.944.765.05.053.096.108.139.165.044-.057.094-.112.143-.165.682-.731 1.738-.899 2.944-.765 1.23.137 2.145.528 2.724 1.261.566.715.693 1.614.693 2.484 0 .572-.053 1.148-.254 1.656.066.228.098.429.126.612.012.076.024.148.037.218.924.385 1.522 1.471 1.591 2.095v1.872c0 .766-3.351 3.795-8.002 3.795Zm0-1.485c2.28 0 4.584-1.11 5.002-1.433V7.862l-.023-.116c-.49.21-1.075.291-1.727.291-1.146 0-2.059-.327-2.71-.991A3.222 3.222 0 0 1 8 6.303a3.24 3.24 0 0 1-.544.743c-.65.664-1.563.991-2.71.991-.652 0-1.236-.081-1.727-.291l-.023.116v4.255c.419.323 2.722 1.433 5.002 1.433ZM6.762 2.83c-.193-.206-.637-.413-1.682-.297-1.019.113-1.479.404-1.713.7-.247.312-.369.789-.369 1.554 0 .793.129 1.171.308 1.371.162.181.519.379 1.442.379.853 0 1.339-.235 1.638-.54.315-.322.527-.827.617-1.553.117-.935-.037-1.395-.241-1.614Zm4.155-.297c-1.044-.116-1.488.091-1.681.297-.204.219-.359.679-.242 1.614.091.726.303 1.231.618 1.553.299.305.784.54 1.638.54.922 0 1.28-.198 1.442-.379.179-.2.308-.578.308-1.371 0-.765-.123-1.242-.37-1.554-.233-.296-.693-.587-1.713-.7Z"></path><path d="M6.25 9.037a.75.75 0 0 1 .75.75v1.501a.75.75 0 0 1-1.5 0V9.787a.75.75 0 0 1 .75-.75Zm4.25.75v1.501a.75.75 0 0 1-1.5 0V9.787a.75.75 0 0 1 1.5 0Z"></path>
</svg>
</template>

<template id="copilot-error-icon">
  <svg aria-hidden="true" height="16" viewBox="0 0 16 16" version="1.1" width="16" data-view-component="true" class="octicon octicon-copilot-error">
    <path d="M16 11.24c0 .112-.072.274-.21.467L13 9.688V7.862l-.023-.116c-.49.21-1.075.291-1.727.291-.198 0-.388-.009-.571-.029L6.833 5.226a4.01 4.01 0 0 0 .17-.782c.117-.935-.037-1.395-.241-1.614-.193-.206-.637-.413-1.682-.297-.683.076-1.115.231-1.395.415l-1.257-.91c.579-.564 1.413-.877 2.485-.996 1.206-.134 2.262.034 2.944.765.05.053.096.108.139.165.044-.057.094-.112.143-.165.682-.731 1.738-.899 2.944-.765 1.23.137 2.145.528 2.724 1.261.566.715.693 1.614.693 2.484 0 .572-.053 1.148-.254 1.656.066.228.098.429.126.612.012.076.024.148.037.218.924.385 1.522 1.471 1.591 2.095Zm-5.083-8.707c-1.044-.116-1.488.091-1.681.297-.204.219-.359.679-.242 1.614.091.726.303 1.231.618 1.553.299.305.784.54 1.638.54.922 0 1.28-.198 1.442-.379.179-.2.308-.578.308-1.371 0-.765-.123-1.242-.37-1.554-.233-.296-.693-.587-1.713-.7Zm2.511 11.074c-1.393.776-3.272 1.428-5.43 1.428-4.562 0-7.873-2.914-7.998-3.749V9.338c.085-.628.677-1.686 1.588-2.065.013-.07.024-.143.036-.218.029-.183.06-.384.126-.612-.18-.455-.241-.963-.252-1.475L.31 4.107A.747.747 0 0 1 0 3.509V3.49a.748.748 0 0 1 .625-.73c.156-.026.306.047.435.139l14.667 10.578a.592.592 0 0 1 .227.264.752.752 0 0 1 .046.249v.022a.75.75 0 0 1-1.19.596Zm-1.367-.991L5.635 7.964a5.128 5.128 0 0 1-.889.073c-.652 0-1.236-.081-1.727-.291l-.023.116v4.255c.419.323 2.722 1.433 5.002 1.433 1.539 0 3.089-.505 4.063-.934Z"></path>
</svg>
</template>

<template id="workflow-icon">
  <svg aria-hidden="true" height="16" viewBox="0 0 16 16" version="1.1" width="16" data-view-component="true" class="octicon octicon-workflow">
    <path d="M0 1.75C0 .784.784 0 1.75 0h3.5C6.216 0 7 .784 7 1.75v3.5A1.75 1.75 0 0 1 5.25 7H4v4a1 1 0 0 0 1 1h4v-1.25C9 9.784 9.784 9 10.75 9h3.5c.966 0 1.75.784 1.75 1.75v3.5A1.75 1.75 0 0 1 14.25 16h-3.5A1.75 1.75 0 0 1 9 14.25v-.75H5A2.5 2.5 0 0 1 2.5 11V7h-.75A1.75 1.75 0 0 1 0 5.25Zm1.75-.25a.25.25 0 0 0-.25.25v3.5c0 .138.112.25.25.25h3.5a.25.25 0 0 0 .25-.25v-3.5a.25.25 0 0 0-.25-.25Zm9 9a.25.25 0 0 0-.25.25v3.5c0 .138.112.25.25.25h3.5a.25.25 0 0 0 .25-.25v-3.5a.25.25 0 0 0-.25-.25Z"></path>
</svg>
</template>

<template id="book-icon">
  <svg aria-hidden="true" height="16" viewBox="0 0 16 16" version="1.1" width="16" data-view-component="true" class="octicon octicon-book">
    <path d="M0 1.75A.75.75 0 0 1 .75 1h4.253c1.227 0 2.317.59 3 1.501A3.743 3.743 0 0 1 11.006 1h4.245a.75.75 0 0 1 .75.75v10.5a.75.75 0 0 1-.75.75h-4.507a2.25 2.25 0 0 0-1.591.659l-.622.621a.75.75 0 0 1-1.06 0l-.622-.621A2.25 2.25 0 0 0 5.258 13H.75a.75.75 0 0 1-.75-.75Zm7.251 10.324.004-5.073-.002-2.253A2.25 2.25 0 0 0 5.003 2.5H1.5v9h3.757a3.75 3.75 0 0 1 1.994.574ZM8.755 4.75l-.004 7.322a3.752 3.752 0 0 1 1.992-.572H14.5v-9h-3.495a2.25 2.25 0 0 0-2.25 2.25Z"></path>
</svg>
</template>

<template id="code-review-icon">
  <svg aria-hidden="true" height="16" viewBox="0 0 16 16" version="1.1" width="16" data-view-component="true" class="octicon octicon-code-review">
    <path d="M1.75 1h12.5c.966 0 1.75.784 1.75 1.75v8.5A1.75 1.75 0 0 1 14.25 13H8.061l-2.574 2.573A1.458 1.458 0 0 1 3 14.543V13H1.75A1.75 1.75 0 0 1 0 11.25v-8.5C0 1.784.784 1 1.75 1ZM1.5 2.75v8.5c0 .138.112.25.25.25h2a.75.75 0 0 1 .75.75v2.19l2.72-2.72a.749.749 0 0 1 .53-.22h6.5a.25.25 0 0 0 .25-.25v-8.5a.25.25 0 0 0-.25-.25H1.75a.25.25 0 0 0-.25.25Zm5.28 1.72a.75.75 0 0 1 0 1.06L5.31 7l1.47 1.47a.751.751 0 0 1-.018 1.042.751.751 0 0 1-1.042.018l-2-2a.75.75 0 0 1 0-1.06l2-2a.75.75 0 0 1 1.06 0Zm2.44 0a.75.75 0 0 1 1.06 0l2 2a.75.75 0 0 1 0 1.06l-2 2a.751.751 0 0 1-1.042-.018.751.751 0 0 1-.018-1.042L10.69 7 9.22 5.53a.75.75 0 0 1 0-1.06Z"></path>
</svg>
</template>

<template id="codespaces-icon">
  <svg aria-hidden="true" height="16" viewBox="0 0 16 16" version="1.1" width="16" data-view-component="true" class="octicon octicon-codespaces">
    <path d="M0 11.25c0-.966.784-1.75 1.75-1.75h12.5c.966 0 1.75.784 1.75 1.75v3A1.75 1.75 0 0 1 14.25 16H1.75A1.75 1.75 0 0 1 0 14.25Zm2-9.5C2 .784 2.784 0 3.75 0h8.5C13.216 0 14 .784 14 1.75v5a1.75 1.75 0 0 1-1.75 1.75h-8.5A1.75 1.75 0 0 1 2 6.75Zm1.75-.25a.25.25 0 0 0-.25.25v5c0 .138.112.25.25.25h8.5a.25.25 0 0 0 .25-.25v-5a.25.25 0 0 0-.25-.25Zm-2 9.5a.25.25 0 0 0-.25.25v3c0 .138.112.25.25.25h12.5a.25.25 0 0 0 .25-.25v-3a.25.25 0 0 0-.25-.25Z"></path><path d="M7 12.75a.75.75 0 0 1 .75-.75h4.5a.75.75 0 0 1 0 1.5h-4.5a.75.75 0 0 1-.75-.75Zm-4 0a.75.75 0 0 1 .75-.75h.5a.75.75 0 0 1 0 1.5h-.5a.75.75 0 0 1-.75-.75Z"></path>
</svg>
</template>

<template id="comment-icon">
  <svg aria-hidden="true" height="16" viewBox="0 0 16 16" version="1.1" width="16" data-view-component="true" class="octicon octicon-comment">
    <path d="M1 2.75C1 1.784 1.784 1 2.75 1h10.5c.966 0 1.75.784 1.75 1.75v7.5A1.75 1.75 0 0 1 13.25 12H9.06l-2.573 2.573A1.458 1.458 0 0 1 4 13.543V12H2.75A1.75 1.75 0 0 1 1 10.25Zm1.75-.25a.25.25 0 0 0-.25.25v7.5c0 .138.112.25.25.25h2a.75.75 0 0 1 .75.75v2.19l2.72-2.72a.749.749 0 0 1 .53-.22h4.5a.25.25 0 0 0 .25-.25v-7.5a.25.25 0 0 0-.25-.25Z"></path>
</svg>
</template>

<template id="comment-discussion-icon">
  <svg aria-hidden="true" height="16" viewBox="0 0 16 16" version="1.1" width="16" data-view-component="true" class="octicon octicon-comment-discussion">
    <path d="M1.75 1h8.5c.966 0 1.75.784 1.75 1.75v5.5A1.75 1.75 0 0 1 10.25 10H7.061l-2.574 2.573A1.458 1.458 0 0 1 2 11.543V10h-.25A1.75 1.75 0 0 1 0 8.25v-5.5C0 1.784.784 1 1.75 1ZM1.5 2.75v5.5c0 .138.112.25.25.25h1a.75.75 0 0 1 .75.75v2.19l2.72-2.72a.749.749 0 0 1 .53-.22h3.5a.25.25 0 0 0 .25-.25v-5.5a.25.25 0 0 0-.25-.25h-8.5a.25.25 0 0 0-.25.25Zm13 2a.25.25 0 0 0-.25-.25h-.5a.75.75 0 0 1 0-1.5h.5c.966 0 1.75.784 1.75 1.75v5.5A1.75 1.75 0 0 1 14.25 12H14v1.543a1.458 1.458 0 0 1-2.487 1.03L9.22 12.28a.749.749 0 0 1 .326-1.275.749.749 0 0 1 .734.215l2.22 2.22v-2.19a.75.75 0 0 1 .75-.75h1a.25.25 0 0 0 .25-.25Z"></path>
</svg>
</template>

<template id="organization-icon">
  <svg aria-hidden="true" height="16" viewBox="0 0 16 16" version="1.1" width="16" data-view-component="true" class="octicon octicon-organization">
    <path d="M1.75 16A1.75 1.75 0 0 1 0 14.25V1.75C0 .784.784 0 1.75 0h8.5C11.216 0 12 .784 12 1.75v12.5c0 .085-.006.168-.018.25h2.268a.25.25 0 0 0 .25-.25V8.285a.25.25 0 0 0-.111-.208l-1.055-.703a.749.749 0 1 1 .832-1.248l1.055.703c.487.325.779.871.779 1.456v5.965A1.75 1.75 0 0 1 14.25 16h-3.5a.766.766 0 0 1-.197-.026c-.099.017-.2.026-.303.026h-3a.75.75 0 0 1-.75-.75V14h-1v1.25a.75.75 0 0 1-.75.75Zm-.25-1.75c0 .138.112.25.25.25H4v-1.25a.75.75 0 0 1 .75-.75h2.5a.75.75 0 0 1 .75.75v1.25h2.25a.25.25 0 0 0 .25-.25V1.75a.25.25 0 0 0-.25-.25h-8.5a.25.25 0 0 0-.25.25ZM3.75 6h.5a.75.75 0 0 1 0 1.5h-.5a.75.75 0 0 1 0-1.5ZM3 3.75A.75.75 0 0 1 3.75 3h.5a.75.75 0 0 1 0 1.5h-.5A.75.75 0 0 1 3 3.75Zm4 3A.75.75 0 0 1 7.75 6h.5a.75.75 0 0 1 0 1.5h-.5A.75.75 0 0 1 7 6.75ZM7.75 3h.5a.75.75 0 0 1 0 1.5h-.5a.75.75 0 0 1 0-1.5ZM3 9.75A.75.75 0 0 1 3.75 9h.5a.75.75 0 0 1 0 1.5h-.5A.75.75 0 0 1 3 9.75ZM7.75 9h.5a.75.75 0 0 1 0 1.5h-.5a.75.75 0 0 1 0-1.5Z"></path>
</svg>
</template>

<template id="rocket-icon">
  <svg aria-hidden="true" height="16" viewBox="0 0 16 16" version="1.1" width="16" data-view-component="true" class="octicon octicon-rocket">
    <path d="M14.064 0h.186C15.216 0 16 .784 16 1.75v.186a8.752 8.752 0 0 1-2.564 6.186l-.458.459c-.314.314-.641.616-.979.904v3.207c0 .608-.315 1.172-.833 1.49l-2.774 1.707a.749.749 0 0 1-1.11-.418l-.954-3.102a1.214 1.214 0 0 1-.145-.125L3.754 9.816a1.218 1.218 0 0 1-.124-.145L.528 8.717a.749.749 0 0 1-.418-1.11l1.71-2.774A1.748 1.748 0 0 1 3.31 4h3.204c.288-.338.59-.665.904-.979l.459-.458A8.749 8.749 0 0 1 14.064 0ZM8.938 3.623h-.002l-.458.458c-.76.76-1.437 1.598-2.02 2.5l-1.5 2.317 2.143 2.143 2.317-1.5c.902-.583 1.74-1.26 2.499-2.02l.459-.458a7.25 7.25 0 0 0 2.123-5.127V1.75a.25.25 0 0 0-.25-.25h-.186a7.249 7.249 0 0 0-5.125 2.123ZM3.56 14.56c-.732.732-2.334 1.045-3.005 1.148a.234.234 0 0 1-.201-.064.234.234 0 0 1-.064-.201c.103-.671.416-2.273 1.15-3.003a1.502 1.502 0 1 1 2.12 2.12Zm6.94-3.935c-.088.06-.177.118-.266.175l-2.35 1.521.548 1.783 1.949-1.2a.25.25 0 0 0 .119-.213ZM3.678 8.116 5.2 5.766c.058-.09.117-.178.176-.266H3.309a.25.25 0 0 0-.213.119l-1.2 1.95ZM12 5a1 1 0 1 1-2 0 1 1 0 0 1 2 0Z"></path>
</svg>
</template>

<template id="shield-check-icon">
  <svg aria-hidden="true" height="16" viewBox="0 0 16 16" version="1.1" width="16" data-view-component="true" class="octicon octicon-shield-check">
    <path d="m8.533.133 5.25 1.68A1.75 1.75 0 0 1 15 3.48V7c0 1.566-.32 3.182-1.303 4.682-.983 1.498-2.585 2.813-5.032 3.855a1.697 1.697 0 0 1-1.33 0c-2.447-1.042-4.049-2.357-5.032-3.855C1.32 10.182 1 8.566 1 7V3.48a1.75 1.75 0 0 1 1.217-1.667l5.25-1.68a1.748 1.748 0 0 1 1.066 0Zm-.61 1.429.001.001-5.25 1.68a.251.251 0 0 0-.174.237V7c0 1.36.275 2.666 1.057 3.859.784 1.194 2.121 2.342 4.366 3.298a.196.196 0 0 0 .154 0c2.245-.957 3.582-2.103 4.366-3.297C13.225 9.666 13.5 8.358 13.5 7V3.48a.25.25 0 0 0-.174-.238l-5.25-1.68a.25.25 0 0 0-.153 0ZM11.28 6.28l-3.5 3.5a.75.75 0 0 1-1.06 0l-1.5-1.5a.749.749 0 0 1 .326-1.275.749.749 0 0 1 .734.215l.97.97 2.97-2.97a.751.751 0 0 1 1.042.018.751.751 0 0 1 .018 1.042Z"></path>
</svg>
</template>

<template id="heart-icon">
  <svg aria-hidden="true" height="16" viewBox="0 0 16 16" version="1.1" width="16" data-view-component="true" class="octicon octicon-heart">
    <path d="m8 14.25.345.666a.75.75 0 0 1-.69 0l-.008-.004-.018-.01a7.152 7.152 0 0 1-.31-.17 22.055 22.055 0 0 1-3.434-2.414C2.045 10.731 0 8.35 0 5.5 0 2.836 2.086 1 4.25 1 5.797 1 7.153 1.802 8 3.02 8.847 1.802 10.203 1 11.75 1 13.914 1 16 2.836 16 5.5c0 2.85-2.045 5.231-3.885 6.818a22.066 22.066 0 0 1-3.744 2.584l-.018.01-.006.003h-.002ZM4.25 2.5c-1.336 0-2.75 1.164-2.75 3 0 2.15 1.58 4.144 3.365 5.682A20.58 20.58 0 0 0 8 13.393a20.58 20.58 0 0 0 3.135-2.211C12.92 9.644 14.5 7.65 14.5 5.5c0-1.836-1.414-3-2.75-3-1.373 0-2.609.986-3.029 2.456a.749.749 0 0 1-1.442 0C6.859 3.486 5.623 2.5 4.25 2.5Z"></path>
</svg>
</template>

<template id="server-icon">
  <svg aria-hidden="true" height="16" viewBox="0 0 16 16" version="1.1" width="16" data-view-component="true" class="octicon octicon-server">
    <path d="M1.75 1h12.5c.966 0 1.75.784 1.75 1.75v4c0 .372-.116.717-.314 1 .198.283.314.628.314 1v4a1.75 1.75 0 0 1-1.75 1.75H1.75A1.75 1.75 0 0 1 0 12.75v-4c0-.358.109-.707.314-1a1.739 1.739 0 0 1-.314-1v-4C0 1.784.784 1 1.75 1ZM1.5 2.75v4c0 .138.112.25.25.25h12.5a.25.25 0 0 0 .25-.25v-4a.25.25 0 0 0-.25-.25H1.75a.25.25 0 0 0-.25.25Zm.25 5.75a.25.25 0 0 0-.25.25v4c0 .138.112.25.25.25h12.5a.25.25 0 0 0 .25-.25v-4a.25.25 0 0 0-.25-.25ZM7 4.75A.75.75 0 0 1 7.75 4h4.5a.75.75 0 0 1 0 1.5h-4.5A.75.75 0 0 1 7 4.75ZM7.75 10h4.5a.75.75 0 0 1 0 1.5h-4.5a.75.75 0 0 1 0-1.5ZM3 4.75A.75.75 0 0 1 3.75 4h.5a.75.75 0 0 1 0 1.5h-.5A.75.75 0 0 1 3 4.75ZM3.75 10h.5a.75.75 0 0 1 0 1.5h-.5a.75.75 0 0 1 0-1.5Z"></path>
</svg>
</template>

<template id="globe-icon">
  <svg aria-hidden="true" height="16" viewBox="0 0 16 16" version="1.1" width="16" data-view-component="true" class="octicon octicon-globe">
    <path d="M8 0a8 8 0 1 1 0 16A8 8 0 0 1 8 0ZM5.78 8.75a9.64 9.64 0 0 0 1.363 4.177c.255.426.542.832.857 1.215.245-.296.551-.705.857-1.215A9.64 9.64 0 0 0 10.22 8.75Zm4.44-1.5a9.64 9.64 0 0 0-1.363-4.177c-.307-.51-.612-.919-.857-1.215a9.927 9.927 0 0 0-.857 1.215A9.64 9.64 0 0 0 5.78 7.25Zm-5.944 1.5H1.543a6.507 6.507 0 0 0 4.666 5.5c-.123-.181-.24-.365-.352-.552-.715-1.192-1.437-2.874-1.581-4.948Zm-2.733-1.5h2.733c.144-2.074.866-3.756 1.58-4.948.12-.197.237-.381.353-.552a6.507 6.507 0 0 0-4.666 5.5Zm10.181 1.5c-.144 2.074-.866 3.756-1.58 4.948-.12.197-.237.381-.353.552a6.507 6.507 0 0 0 4.666-5.5Zm2.733-1.5a6.507 6.507 0 0 0-4.666-5.5c.123.181.24.365.353.552.714 1.192 1.436 2.874 1.58 4.948Z"></path>
</svg>
</template>

<template id="issue-opened-icon">
  <svg aria-hidden="true" height="16" viewBox="0 0 16 16" version="1.1" width="16" data-view-component="true" class="octicon octicon-issue-opened">
    <path d="M8 9.5a1.5 1.5 0 1 0 0-3 1.5 1.5 0 0 0 0 3Z"></path><path d="M8 0a8 8 0 1 1 0 16A8 8 0 0 1 8 0ZM1.5 8a6.5 6.5 0 1 0 13 0 6.5 6.5 0 0 0-13 0Z"></path>
</svg>
</template>

<template id="device-mobile-icon">
  <svg aria-hidden="true" height="16" viewBox="0 0 16 16" version="1.1" width="16" data-view-component="true" class="octicon octicon-device-mobile">
    <path d="M3.75 0h8.5C13.216 0 14 .784 14 1.75v12.5A1.75 1.75 0 0 1 12.25 16h-8.5A1.75 1.75 0 0 1 2 14.25V1.75C2 .784 2.784 0 3.75 0ZM3.5 1.75v12.5c0 .138.112.25.25.25h8.5a.25.25 0 0 0 .25-.25V1.75a.25.25 0 0 0-.25-.25h-8.5a.25.25 0 0 0-.25.25ZM8 13a1 1 0 1 1 0-2 1 1 0 0 1 0 2Z"></path>
</svg>
</template>

<template id="package-icon">
  <svg aria-hidden="true" height="16" viewBox="0 0 16 16" version="1.1" width="16" data-view-component="true" class="octicon octicon-package">
    <path d="m8.878.392 5.25 3.045c.54.314.872.89.872 1.514v6.098a1.75 1.75 0 0 1-.872 1.514l-5.25 3.045a1.75 1.75 0 0 1-1.756 0l-5.25-3.045A1.75 1.75 0 0 1 1 11.049V4.951c0-.624.332-1.201.872-1.514L7.122.392a1.75 1.75 0 0 1 1.756 0ZM7.875 1.69l-4.63 2.685L8 7.133l4.755-2.758-4.63-2.685a.248.248 0 0 0-.25 0ZM2.5 5.677v5.372c0 .09.047.171.125.216l4.625 2.683V8.432Zm6.25 8.271 4.625-2.683a.25.25 0 0 0 .125-.216V5.677L8.75 8.432Z"></path>
</svg>
</template>

<template id="credit-card-icon">
  <svg aria-hidden="true" height="16" viewBox="0 0 16 16" version="1.1" width="16" data-view-component="true" class="octicon octicon-credit-card">
    <path d="M10.75 9a.75.75 0 0 0 0 1.5h1.5a.75.75 0 0 0 0-1.5h-1.5Z"></path><path d="M0 3.75C0 2.784.784 2 1.75 2h12.5c.966 0 1.75.784 1.75 1.75v8.5A1.75 1.75 0 0 1 14.25 14H1.75A1.75 1.75 0 0 1 0 12.25ZM14.5 6.5h-13v5.75c0 .138.112.25.25.25h12.5a.25.25 0 0 0 .25-.25Zm0-2.75a.25.25 0 0 0-.25-.25H1.75a.25.25 0 0 0-.25.25V5h13Z"></path>
</svg>
</template>

<template id="play-icon">
  <svg aria-hidden="true" height="16" viewBox="0 0 16 16" version="1.1" width="16" data-view-component="true" class="octicon octicon-play">
    <path d="M8 0a8 8 0 1 1 0 16A8 8 0 0 1 8 0ZM1.5 8a6.5 6.5 0 1 0 13 0 6.5 6.5 0 0 0-13 0Zm4.879-2.773 4.264 2.559a.25.25 0 0 1 0 .428l-4.264 2.559A.25.25 0 0 1 6 10.559V5.442a.25.25 0 0 1 .379-.215Z"></path>
</svg>
</template>

<template id="gift-icon">
  <svg aria-hidden="true" height="16" viewBox="0 0 16 16" version="1.1" width="16" data-view-component="true" class="octicon octicon-gift">
    <path d="M2 2.75A2.75 2.75 0 0 1 4.75 0c.983 0 1.873.42 2.57 1.232.268.318.497.668.68 1.042.183-.375.411-.725.68-1.044C9.376.42 10.266 0 11.25 0a2.75 2.75 0 0 1 2.45 4h.55c.966 0 1.75.784 1.75 1.75v2c0 .698-.409 1.301-1 1.582v4.918A1.75 1.75 0 0 1 13.25 16H2.75A1.75 1.75 0 0 1 1 14.25V9.332C.409 9.05 0 8.448 0 7.75v-2C0 4.784.784 4 1.75 4h.55c-.192-.375-.3-.8-.3-1.25ZM7.25 9.5H2.5v4.75c0 .138.112.25.25.25h4.5Zm1.5 0v5h4.5a.25.25 0 0 0 .25-.25V9.5Zm0-4V8h5.5a.25.25 0 0 0 .25-.25v-2a.25.25 0 0 0-.25-.25Zm-7 0a.25.25 0 0 0-.25.25v2c0 .138.112.25.25.25h5.5V5.5h-5.5Zm3-4a1.25 1.25 0 0 0 0 2.5h2.309c-.233-.818-.542-1.401-.878-1.793-.43-.502-.915-.707-1.431-.707ZM8.941 4h2.309a1.25 1.25 0 0 0 0-2.5c-.516 0-1 .205-1.43.707-.337.392-.646.975-.879 1.793Z"></path>
</svg>
</template>

<template id="code-square-icon">
  <svg aria-hidden="true" height="16" viewBox="0 0 16 16" version="1.1" width="16" data-view-component="true" class="octicon octicon-code-square">
    <path d="M0 1.75C0 .784.784 0 1.75 0h12.5C15.216 0 16 .784 16 1.75v12.5A1.75 1.75 0 0 1 14.25 16H1.75A1.75 1.75 0 0 1 0 14.25Zm1.75-.25a.25.25 0 0 0-.25.25v12.5c0 .138.112.25.25.25h12.5a.25.25 0 0 0 .25-.25V1.75a.25.25 0 0 0-.25-.25Zm7.47 3.97a.75.75 0 0 1 1.06 0l2 2a.75.75 0 0 1 0 1.06l-2 2a.749.749 0 0 1-1.275-.326.749.749 0 0 1 .215-.734L10.69 8 9.22 6.53a.75.75 0 0 1 0-1.06ZM6.78 6.53 5.31 8l1.47 1.47a.749.749 0 0 1-.326 1.275.749.749 0 0 1-.734-.215l-2-2a.75.75 0 0 1 0-1.06l2-2a.751.751 0 0 1 1.042.018.751.751 0 0 1 .018 1.042Z"></path>
</svg>
</template>

<template id="device-desktop-icon">
  <svg aria-hidden="true" height="16" viewBox="0 0 16 16" version="1.1" width="16" data-view-component="true" class="octicon octicon-device-desktop">
    <path d="M14.25 1c.966 0 1.75.784 1.75 1.75v7.5A1.75 1.75 0 0 1 14.25 12h-3.727c.099 1.041.52 1.872 1.292 2.757A.752.752 0 0 1 11.25 16h-6.5a.75.75 0 0 1-.565-1.243c.772-.885 1.192-1.716 1.292-2.757H1.75A1.75 1.75 0 0 1 0 10.25v-7.5C0 1.784.784 1 1.75 1ZM1.75 2.5a.25.25 0 0 0-.25.25v7.5c0 .138.112.25.25.25h12.5a.25.25 0 0 0 .25-.25v-7.5a.25.25 0 0 0-.25-.25ZM9.018 12H6.982a5.72 5.72 0 0 1-.765 2.5h3.566a5.72 5.72 0 0 1-.765-2.5Z"></path>
</svg>
</template>

        <div class="position-relative">
                <ul
                  role="listbox"
                  class="ActionListWrap QueryBuilder-ListWrap"
                  aria-label="Suggestions"
                  data-action="
                    combobox-commit:query-builder#comboboxCommit
                    mousedown:query-builder#resultsMousedown
                  "
                  data-target="query-builder.resultsList"
                  data-persist-list=false
                  id="query-builder-test-results"
                  tabindex="-1"
                ></ul>
        </div>
      <div class="FormControl-inlineValidation" id="validation-2f4260e9-72fb-47f9-a3b0-5b2a490ca44a" hidden="hidden">
        <span class="FormControl-inlineValidation--visual">
          <svg aria-hidden="true" height="12" viewBox="0 0 12 12" version="1.1" width="12" data-view-component="true" class="octicon octicon-alert-fill">
    <path d="M4.855.708c.5-.896 1.79-.896 2.29 0l4.675 8.351a1.312 1.312 0 0 1-1.146 1.954H1.33A1.313 1.313 0 0 1 .183 9.058ZM7 7V3H5v4Zm-1 3a1 1 0 1 0 0-2 1 1 0 0 0 0 2Z"></path>
</svg>
        </span>
        <span></span>
</div>    </div>
    <div data-target="query-builder.screenReaderFeedback" aria-live="polite" aria-atomic="true" class="sr-only"></div>
</query-builder></form>
          <div class="d-flex flex-row color-fg-muted px-3 text-small color-bg-default search-feedback-prompt">
            <a target="_blank" href="https://docs.github.com/search-github/github-code-search/understanding-github-code-search-syntax" data-view-component="true" class="Link color-fg-accent text-normal ml-2">Search syntax tips</a>            <div class="d-flex flex-1"></div>
              <button data-action="click:qbsearch-input#showFeedbackDialog" type="button" data-view-component="true" class="Button--link Button--medium Button color-fg-accent text-normal ml-2">  <span class="Button-content">
    <span class="Button-label">Give feedback</span>
  </span>
</button>
          </div>
        </div>
</div>

    </div>
</modal-dialog></div>
  </div>
  <div data-action="click:qbsearch-input#retract" class="dark-backdrop position-fixed" hidden data-target="qbsearch-input.darkBackdrop"></div>
  <div class="color-fg-default">
    
<dialog-helper>
  <dialog data-target="qbsearch-input.feedbackDialog" data-action="close:qbsearch-input#handleDialogClose cancel:qbsearch-input#handleDialogClose" id="feedback-dialog" aria-modal="true" aria-labelledby="feedback-dialog-title" aria-describedby="feedback-dialog-description" data-view-component="true" class="Overlay Overlay-whenNarrow Overlay--size-medium Overlay--motion-scaleFade Overlay--disableScroll">
    <div data-view-component="true" class="Overlay-header">
  <div class="Overlay-headerContentWrap">
    <div class="Overlay-titleWrap">
      <h1 class="Overlay-title " id="feedback-dialog-title">
        Provide feedback
      </h1>
        
    </div>
    <div class="Overlay-actionWrap">
      <button data-close-dialog-id="feedback-dialog" aria-label="Close" aria-label="Close" type="button" data-view-component="true" class="close-button Overlay-closeButton"><svg aria-hidden="true" height="16" viewBox="0 0 16 16" version="1.1" width="16" data-view-component="true" class="octicon octicon-x">
    <path d="M3.72 3.72a.75.75 0 0 1 1.06 0L8 6.94l3.22-3.22a.749.749 0 0 1 1.275.326.749.749 0 0 1-.215.734L9.06 8l3.22 3.22a.749.749 0 0 1-.326 1.275.749.749 0 0 1-.734-.215L8 9.06l-3.22 3.22a.751.751 0 0 1-1.042-.018.751.751 0 0 1-.018-1.042L6.94 8 3.72 4.78a.75.75 0 0 1 0-1.06Z"></path>
</svg></button>
    </div>
  </div>
  
</div>
      <scrollable-region data-labelled-by="feedback-dialog-title">
        <div data-view-component="true" class="Overlay-body">        <!-- '"` --><!-- </textarea></xmp> --></option></form><form id="code-search-feedback-form" data-turbo="false" action="/search/feedback" accept-charset="UTF-8" method="post"><input type="hidden" name="authenticity_token" value="WyEDOfcka3jMuGVADUeX0R-2rXqsYsVa8cmV7wRfEP2eFNK28-GEQI_xD0Vqr7dCo9q7PFieBhhaDGCvBSjxzA" />
          <p>We read every piece of feedback, and take your input very seriously.</p>
          <textarea name="feedback" class="form-control width-full mb-2" style="height: 120px" id="feedback"></textarea>
          <input name="include_email" id="include_email" aria-label="Include my email address so I can be contacted" class="form-control mr-2" type="checkbox">
          <label for="include_email" style="font-weight: normal">Include my email address so I can be contacted</label>
</form></div>
      </scrollable-region>
      <div data-view-component="true" class="Overlay-footer Overlay-footer--alignEnd">          <button data-close-dialog-id="feedback-dialog" type="button" data-view-component="true" class="btn">    Cancel
</button>
          <button form="code-search-feedback-form" data-action="click:qbsearch-input#submitFeedback" type="submit" data-view-component="true" class="btn-primary btn">    Submit feedback
</button>
</div>
</dialog></dialog-helper>

    <custom-scopes data-target="qbsearch-input.customScopesManager">
    
<dialog-helper>
  <dialog data-target="custom-scopes.customScopesModalDialog" data-action="close:qbsearch-input#handleDialogClose cancel:qbsearch-input#handleDialogClose" id="custom-scopes-dialog" aria-modal="true" aria-labelledby="custom-scopes-dialog-title" aria-describedby="custom-scopes-dialog-description" data-view-component="true" class="Overlay Overlay-whenNarrow Overlay--size-medium Overlay--motion-scaleFade Overlay--disableScroll">
    <div data-view-component="true" class="Overlay-header Overlay-header--divided">
  <div class="Overlay-headerContentWrap">
    <div class="Overlay-titleWrap">
      <h1 class="Overlay-title " id="custom-scopes-dialog-title">
        Saved searches
      </h1>
        <h2 id="custom-scopes-dialog-description" class="Overlay-description">Use saved searches to filter your results more quickly</h2>
    </div>
    <div class="Overlay-actionWrap">
      <button data-close-dialog-id="custom-scopes-dialog" aria-label="Close" aria-label="Close" type="button" data-view-component="true" class="close-button Overlay-closeButton"><svg aria-hidden="true" height="16" viewBox="0 0 16 16" version="1.1" width="16" data-view-component="true" class="octicon octicon-x">
    <path d="M3.72 3.72a.75.75 0 0 1 1.06 0L8 6.94l3.22-3.22a.749.749 0 0 1 1.275.326.749.749 0 0 1-.215.734L9.06 8l3.22 3.22a.749.749 0 0 1-.326 1.275.749.749 0 0 1-.734-.215L8 9.06l-3.22 3.22a.751.751 0 0 1-1.042-.018.751.751 0 0 1-.018-1.042L6.94 8 3.72 4.78a.75.75 0 0 1 0-1.06Z"></path>
</svg></button>
    </div>
  </div>
  
</div>
      <scrollable-region data-labelled-by="custom-scopes-dialog-title">
        <div data-view-component="true" class="Overlay-body">        <div data-target="custom-scopes.customScopesModalDialogFlash"></div>

        <div hidden class="create-custom-scope-form" data-target="custom-scopes.createCustomScopeForm">
        <!-- '"` --><!-- </textarea></xmp> --></option></form><form id="custom-scopes-dialog-form" data-turbo="false" action="/search/custom_scopes" accept-charset="UTF-8" method="post"><input type="hidden" name="authenticity_token" value="NYfbS2EVVWAaS2kCozaoJVla9Y95EppMXEktkGt4YMQfU2RNA2H0DlZdu8IFU3Q2dbrg_RUlWV3DF3YXlHZ43A" />
          <div data-target="custom-scopes.customScopesModalDialogFlash"></div>

          <input type="hidden" id="custom_scope_id" name="custom_scope_id" data-target="custom-scopes.customScopesIdField">

          <div class="form-group">
            <label for="custom_scope_name">Name</label>
            <auto-check src="/search/custom_scopes/check_name" required>
              <input
                type="text"
                name="custom_scope_name"
                id="custom_scope_name"
                data-target="custom-scopes.customScopesNameField"
                class="form-control"
                autocomplete="off"
                placeholder="github-ruby"
                required
                maxlength="50">
              <input type="hidden" value="Kl2PwKKxaQ_WMn8kokzH5J1FgMhPNRJsfo9bl8h2L94mgN5d8SBgucZwOmZzhD3mCzmhYBa0cH-gVMklhI9Idg" data-csrf="true" />
            </auto-check>
          </div>

          <div class="form-group">
            <label for="custom_scope_query">Query</label>
            <input
              type="text"
              name="custom_scope_query"
              id="custom_scope_query"
              data-target="custom-scopes.customScopesQueryField"
              class="form-control"
              autocomplete="off"
              placeholder="(repo:mona/a OR repo:mona/b) AND lang:python"
              required
              maxlength="500">
          </div>

          <p class="text-small color-fg-muted">
            To see all available qualifiers, see our <a class="Link--inTextBlock" href="https://docs.github.com/search-github/github-code-search/understanding-github-code-search-syntax">documentation</a>.
          </p>
</form>        </div>

        <div data-target="custom-scopes.manageCustomScopesForm">
          <div data-target="custom-scopes.list"></div>
        </div>

</div>
      </scrollable-region>
      <div data-view-component="true" class="Overlay-footer Overlay-footer--alignEnd Overlay-footer--divided">          <button data-action="click:custom-scopes#customScopesCancel" type="button" data-view-component="true" class="btn">    Cancel
</button>
          <button form="custom-scopes-dialog-form" data-action="click:custom-scopes#customScopesSubmit" data-target="custom-scopes.customScopesSubmitButton" type="submit" data-view-component="true" class="btn-primary btn">    Create saved search
</button>
</div>
</dialog></dialog-helper>
    </custom-scopes>
  </div>
</qbsearch-input>  <input type="hidden" value="A7l2Oh9XH5-xJRGC4euWnnjuy7xdJ1rtK08uDHZ-YbpTvc-u6oWIXxXX2AeVS31gIow_f4diuh16YvFKyeLOxQ" data-csrf="true" class="js-data-jump-to-suggestions-path-csrf" />


          </div>

        
          <div class="AppHeader-CopilotChat hide-sm hide-md">
  <div class="d-flex">
    <react-partial-anchor>
        <a href="/copilot" data-target="react-partial-anchor.anchor" id="copilot-chat-header-button" aria-labelledby="tooltip-acfa9b6c-cc54-4bcc-953b-868f71aba8b2" data-view-component="true" class="Button Button--iconOnly Button--secondary Button--medium AppHeader-button AppHeader-buttonLeft cursor-wait">  <svg aria-hidden="true" height="16" viewBox="0 0 16 16" version="1.1" width="16" data-view-component="true" class="octicon octicon-copilot Button-visual">
    <path d="M7.998 15.035c-4.562 0-7.873-2.914-7.998-3.749V9.338c.085-.628.677-1.686 1.588-2.065.013-.07.024-.143.036-.218.029-.183.06-.384.126-.612-.201-.508-.254-1.084-.254-1.656 0-.87.128-1.769.693-2.484.579-.733 1.494-1.124 2.724-1.261 1.206-.134 2.262.034 2.944.765.05.053.096.108.139.165.044-.057.094-.112.143-.165.682-.731 1.738-.899 2.944-.765 1.23.137 2.145.528 2.724 1.261.566.715.693 1.614.693 2.484 0 .572-.053 1.148-.254 1.656.066.228.098.429.126.612.012.076.024.148.037.218.924.385 1.522 1.471 1.591 2.095v1.872c0 .766-3.351 3.795-8.002 3.795Zm0-1.485c2.28 0 4.584-1.11 5.002-1.433V7.862l-.023-.116c-.49.21-1.075.291-1.727.291-1.146 0-2.059-.327-2.71-.991A3.222 3.222 0 0 1 8 6.303a3.24 3.24 0 0 1-.544.743c-.65.664-1.563.991-2.71.991-.652 0-1.236-.081-1.727-.291l-.023.116v4.255c.419.323 2.722 1.433 5.002 1.433ZM6.762 2.83c-.193-.206-.637-.413-1.682-.297-1.019.113-1.479.404-1.713.7-.247.312-.369.789-.369 1.554 0 .793.129 1.171.308 1.371.162.181.519.379 1.442.379.853 0 1.339-.235 1.638-.54.315-.322.527-.827.617-1.553.117-.935-.037-1.395-.241-1.614Zm4.155-.297c-1.044-.116-1.488.091-1.681.297-.204.219-.359.679-.242 1.614.091.726.303 1.231.618 1.553.299.305.784.54 1.638.54.922 0 1.28-.198 1.442-.379.179-.2.308-.578.308-1.371 0-.765-.123-1.242-.37-1.554-.233-.296-.693-.587-1.713-.7Z"></path><path d="M6.25 9.037a.75.75 0 0 1 .75.75v1.501a.75.75 0 0 1-1.5 0V9.787a.75.75 0 0 1 .75-.75Zm4.25.75v1.501a.75.75 0 0 1-1.5 0V9.787a.75.75 0 0 1 1.5 0Z"></path>
</svg>
</a><tool-tip id="tooltip-acfa9b6c-cc54-4bcc-953b-868f71aba8b2" for="copilot-chat-header-button" popover="manual" data-direction="s" data-type="label" data-view-component="true" class="sr-only position-absolute">Chat with Copilot</tool-tip>

      <template data-target="react-partial-anchor.template">
        <script crossorigin="anonymous" type="application/javascript" src="https://github.githubassets.com/assets/vendors-node_modules_focus-visible_dist_focus-visible_js-node_modules_fzy_js_index_js-node_mo-070089-8346d6c07903.js" defer="defer"></script>
<script crossorigin="anonymous" type="application/javascript" src="https://github.githubassets.com/assets/packages_copilot-chat_components_CopilotIconAnimation_tsx-4f0dd006fa0a.js" defer="defer"></script>
<script crossorigin="anonymous" type="application/javascript" src="https://github.githubassets.com/assets/packages_document-metadata_document-metadata_ts-packages_promise-with-resolvers-polyfill_prom-d8bc47-630d4f8bf98d.js" defer="defer"></script>
<script crossorigin="anonymous" type="application/javascript" src="https://github.githubassets.com/assets/packages_analytics-provider_context_ts-packages_aria-live_aria-live_ts-packages_copilot-chat_-75de61-3aadbc374545.js" defer="defer"></script>
<script crossorigin="anonymous" type="application/javascript" src="https://github.githubassets.com/assets/copilot-chat-6e5d404f3b3d.js" defer="defer"></script>
<link crossorigin="anonymous" media="all" rel="stylesheet" href="https://github.githubassets.com/assets/primer-react.d9bab05f5fac64db9256.module.css" />
<link crossorigin="anonymous" media="all" rel="stylesheet" href="https://github.githubassets.com/assets/packages_document-metadata_document-metadata_ts-packages_promise-with-resolvers-polyfill_prom-d8bc47.ff63302d2df7f104e723.module.css" />
<link crossorigin="anonymous" media="all" rel="stylesheet" href="https://github.githubassets.com/assets/copilot-chat.b9c6ea91ee9df8f32d5e.module.css" />
        <link crossorigin="anonymous" media="all" rel="stylesheet" href="https://github.githubassets.com/assets/copilot-markdown-rendering-ddd978d4a7c0.css" />
        <include-fragment src="/github-copilot/chat?skip_anchor=true" data-nonce="v2:f3f7595c-b109-7dc3-202d-ae8e4b8a0e60" data-view-component="true">
  
  <div data-show-on-forbidden-error hidden>
    <div class="Box">
  <div class="blankslate-container">
    <div data-view-component="true" class="blankslate blankslate-spacious color-bg-default rounded-2">
      

      <h3 data-view-component="true" class="blankslate-heading">        Uh oh!
</h3>
      <p data-view-component="true">        <p class="color-fg-muted my-2 mb-2 ws-normal">There was an error while loading. <a class="Link--inTextBlock" data-turbo="false" href="" aria-label="Please reload this page">Please reload this page</a>.</p>
</p>

</div>  </div>
</div>  </div>
</include-fragment>
      </template>
    </react-partial-anchor>
    <div class="position-relative">
      
        <react-partial-anchor>
          <button id="global-copilot-menu-button" data-target="react-partial-anchor.anchor" aria-expanded="false" aria-labelledby="tooltip-a09c44c9-fc6e-48fe-a14d-da57beb27c5c" type="button" data-view-component="true" class="Button Button--iconOnly Button--secondary Button--medium AppHeader-button AppHeader-buttonRight">  <svg aria-hidden="true" height="16" viewBox="0 0 16 16" version="1.1" width="16" data-view-component="true" class="octicon octicon-triangle-down Button-visual">
    <path d="m4.427 7.427 3.396 3.396a.25.25 0 0 0 .354 0l3.396-3.396A.25.25 0 0 0 11.396 7H4.604a.25.25 0 0 0-.177.427Z"></path>
</svg>
</button><tool-tip id="tooltip-a09c44c9-fc6e-48fe-a14d-da57beb27c5c" for="global-copilot-menu-button" popover="manual" data-direction="s" data-type="label" data-view-component="true" class="sr-only position-absolute">Open Copilot…</tool-tip>

          <template data-target="react-partial-anchor.template">
            <link crossorigin="anonymous" media="all" rel="stylesheet" href="https://github.githubassets.com/assets/primer-react.d9bab05f5fac64db9256.module.css" />
<link crossorigin="anonymous" media="all" rel="stylesheet" href="https://github.githubassets.com/assets/global-copilot-menu.e8b96f8e81aaf397c759.module.css" />

<react-partial
  partial-name="global-copilot-menu"
  data-ssr="false"
  data-attempted-ssr="false"
  data-react-profiling="false"
>
  
  <script type="application/json" data-target="react-partial.embeddedData">{"props":{"repository":{"id":820390304,"name":"Julio25","ownerLogin":"RafaelCaballero"}}}</script>
  <div data-target="react-partial.reactRoot"></div>
</react-partial>


          </template>
        </react-partial-anchor>
    </div>
  </div>
</div>


        <div class="AppHeader-actions position-relative">
             <react-partial-anchor>
      <button id="global-create-menu-anchor" aria-label="Create something new" data-target="react-partial-anchor.anchor" type="button" disabled="disabled" data-view-component="true" class="AppHeader-button AppHeader-button--dropdown global-create-button cursor-wait Button--secondary Button--medium Button width-auto color-fg-muted">  <span class="Button-content">
      <span class="Button-visual Button-leadingVisual">
        <svg aria-hidden="true" height="16" viewBox="0 0 16 16" version="1.1" width="16" data-view-component="true" class="octicon octicon-plus">
    <path d="M7.75 2a.75.75 0 0 1 .75.75V7h4.25a.75.75 0 0 1 0 1.5H8.5v4.25a.75.75 0 0 1-1.5 0V8.5H2.75a.75.75 0 0 1 0-1.5H7V2.75A.75.75 0 0 1 7.75 2Z"></path>
</svg>
      </span>
    <span class="Button-label"><svg aria-hidden="true" height="16" viewBox="0 0 16 16" version="1.1" width="16" data-view-component="true" class="octicon octicon-triangle-down">
    <path d="m4.427 7.427 3.396 3.396a.25.25 0 0 0 .354 0l3.396-3.396A.25.25 0 0 0 11.396 7H4.604a.25.25 0 0 0-.177.427Z"></path>
</svg></span>
  </span>
</button><tool-tip id="tooltip-1c203e38-e656-47f6-aa1a-45d1d5e23900" for="global-create-menu-anchor" popover="manual" data-direction="s" data-type="description" data-view-component="true" class="sr-only position-absolute">Create new…</tool-tip>

      <template data-target="react-partial-anchor.template">
        <link crossorigin="anonymous" media="all" rel="stylesheet" href="https://github.githubassets.com/assets/primer-react.d9bab05f5fac64db9256.module.css" />
<link crossorigin="anonymous" media="all" rel="stylesheet" href="https://github.githubassets.com/assets/global-create-menu.091342d12267a9316908.module.css" />

<react-partial
  partial-name="global-create-menu"
  data-ssr="false"
  data-attempted-ssr="false"
  data-react-profiling="false"
>
  
  <script type="application/json" data-target="react-partial.embeddedData">{"props":{"createRepo":true,"importRepo":true,"codespaces":true,"spark":false,"codingAgent":false,"gist":true,"createOrg":true,"createProject":false,"createProjectUrl":"/RafaelCaballero?tab=projects","createLegacyProject":false,"createIssue":true,"org":null,"owner":"RafaelCaballero","repo":"Julio25"}}</script>
  <div data-target="react-partial.reactRoot"></div>
</react-partial>


      </template>
    </react-partial-anchor>


            <a href="/issues" data-analytics-event="{&quot;category&quot;:&quot;Global navigation&quot;,&quot;action&quot;:&quot;ISSUES_HEADER&quot;,&quot;label&quot;:null}" id="icon-button-7f6f25d5-5b82-4af7-8a08-95e4d1f9c08f" aria-labelledby="tooltip-8cf45ec9-e3de-40ab-bfe4-124ef92117de" data-view-component="true" class="Button Button--iconOnly Button--secondary Button--medium AppHeader-button color-fg-muted">  <svg aria-hidden="true" height="16" viewBox="0 0 16 16" version="1.1" width="16" data-view-component="true" class="octicon octicon-issue-opened Button-visual">
    <path d="M8 9.5a1.5 1.5 0 1 0 0-3 1.5 1.5 0 0 0 0 3Z"></path><path d="M8 0a8 8 0 1 1 0 16A8 8 0 0 1 8 0ZM1.5 8a6.5 6.5 0 1 0 13 0 6.5 6.5 0 0 0-13 0Z"></path>
</svg>
</a><tool-tip id="tooltip-8cf45ec9-e3de-40ab-bfe4-124ef92117de" for="icon-button-7f6f25d5-5b82-4af7-8a08-95e4d1f9c08f" popover="manual" data-direction="s" data-type="label" data-view-component="true" class="sr-only position-absolute">Your issues</tool-tip>

            <a href="/pulls" data-analytics-event="{&quot;category&quot;:&quot;Global navigation&quot;,&quot;action&quot;:&quot;PULL_REQUESTS_HEADER&quot;,&quot;label&quot;:null}" id="icon-button-afb95908-873e-434c-8fa3-5e3058190597" aria-labelledby="tooltip-234940c9-0428-4aa8-a0e0-aafaaa5c0218" data-view-component="true" class="Button Button--iconOnly Button--secondary Button--medium AppHeader-button color-fg-muted">  <svg aria-hidden="true" height="16" viewBox="0 0 16 16" version="1.1" width="16" data-view-component="true" class="octicon octicon-git-pull-request Button-visual">
    <path d="M1.5 3.25a2.25 2.25 0 1 1 3 2.122v5.256a2.251 2.251 0 1 1-1.5 0V5.372A2.25 2.25 0 0 1 1.5 3.25Zm5.677-.177L9.573.677A.25.25 0 0 1 10 .854V2.5h1A2.5 2.5 0 0 1 13.5 5v5.628a2.251 2.251 0 1 1-1.5 0V5a1 1 0 0 0-1-1h-1v1.646a.25.25 0 0 1-.427.177L7.177 3.427a.25.25 0 0 1 0-.354ZM3.75 2.5a.75.75 0 1 0 0 1.5.75.75 0 0 0 0-1.5Zm0 9.5a.75.75 0 1 0 0 1.5.75.75 0 0 0 0-1.5Zm8.25.75a.75.75 0 1 0 1.5 0 .75.75 0 0 0-1.5 0Z"></path>
</svg>
</a><tool-tip id="tooltip-234940c9-0428-4aa8-a0e0-aafaaa5c0218" for="icon-button-afb95908-873e-434c-8fa3-5e3058190597" popover="manual" data-direction="s" data-type="label" data-view-component="true" class="sr-only position-absolute">Your pull requests</tool-tip>

        </div>

          <notification-indicator data-channel="eyJjIjoibm90aWZpY2F0aW9uLWNoYW5nZWQ6NjU0NDU1OCIsInQiOjE3NTc3MTU2MDl9--f45fd84e1d5248f42ac0791fdd1259aaa2a4ba8ee0c8b828c25a42e5cc8d2ab6" data-indicator-mode="none" data-tooltip-global="You have unread notifications" data-tooltip-unavailable="Notifications are unavailable at the moment." data-tooltip-none="You have no unread notifications" data-header-redesign-enabled="true" data-fetch-indicator-src="/notifications/indicator" data-fetch-indicator-enabled="true" data-view-component="true" class="js-socket-channel">
    <a id="AppHeader-notifications-button" href="/notifications" aria-labelledby="notification-indicator-tooltip" data-hotkey="g n" data-target="notification-indicator.link" data-analytics-event="{&quot;category&quot;:&quot;Global navigation&quot;,&quot;action&quot;:&quot;NOTIFICATIONS_HEADER&quot;,&quot;label&quot;:null}" data-view-component="true" class="Button Button--iconOnly Button--secondary Button--medium AppHeader-button  color-fg-muted">  <svg aria-hidden="true" height="16" viewBox="0 0 16 16" version="1.1" width="16" data-view-component="true" class="octicon octicon-inbox Button-visual">
    <path d="M2.8 2.06A1.75 1.75 0 0 1 4.41 1h7.18c.7 0 1.333.417 1.61 1.06l2.74 6.395c.04.093.06.194.06.295v4.5A1.75 1.75 0 0 1 14.25 15H1.75A1.75 1.75 0 0 1 0 13.25v-4.5c0-.101.02-.202.06-.295Zm1.61.44a.25.25 0 0 0-.23.152L1.887 8H4.75a.75.75 0 0 1 .6.3L6.625 10h2.75l1.275-1.7a.75.75 0 0 1 .6-.3h2.863L11.82 2.652a.25.25 0 0 0-.23-.152Zm10.09 7h-2.875l-1.275 1.7a.75.75 0 0 1-.6.3h-3.5a.75.75 0 0 1-.6-.3L4.375 9.5H1.5v3.75c0 .138.112.25.25.25h12.5a.25.25 0 0 0 .25-.25Z"></path>
</svg>
</a>

    <tool-tip id="notification-indicator-tooltip" data-target="notification-indicator.tooltip" for="AppHeader-notifications-button" popover="manual" data-direction="s" data-type="label" data-view-component="true" class="sr-only position-absolute">Notifications</tool-tip>
</notification-indicator>

        <div class="AppHeader-user">
          <deferred-side-panel data-url="/_side-panels/user?repository_id=820390304">
  <include-fragment data-target="deferred-side-panel.fragment" data-nonce="v2:f3f7595c-b109-7dc3-202d-ae8e4b8a0e60" data-view-component="true">
  
    <react-partial-anchor
  
>
  <button data-target="react-partial-anchor.anchor" data-login="RafaelCaballero" aria-label="Open user navigation menu" type="button" data-view-component="true" class="cursor-wait Button--invisible Button--medium Button Button--invisible-noVisuals color-bg-transparent p-0">  <span class="Button-content">
    <span class="Button-label"><img src="https://avatars.githubusercontent.com/u/6544558?v=4" alt="" size="32" height="32" width="32" data-view-component="true" class="avatar circle" /></span>
  </span>
</button>
  <template data-target="react-partial-anchor.template">
    <link crossorigin="anonymous" media="all" rel="stylesheet" href="https://github.githubassets.com/assets/primer-react.d9bab05f5fac64db9256.module.css" />
<link crossorigin="anonymous" media="all" rel="stylesheet" href="https://github.githubassets.com/assets/global-user-nav-drawer.d4f749af87a00c38a832.module.css" />

<react-partial
  partial-name="global-user-nav-drawer"
  data-ssr="false"
  data-attempted-ssr="false"
  data-react-profiling="false"
>
  
  <script type="application/json" data-target="react-partial.embeddedData">{"props":{"owner":{"login":"RafaelCaballero","name":null,"avatarUrl":"https://avatars.githubusercontent.com/u/6544558?v=4"},"drawerId":"global-user-nav-drawer","lazyLoadItemDataFetchUrl":"/_side-panels/user.json","canAddAccount":true,"addAccountPath":"/login?add_account=1\u0026return_to=https%3A%2F%2Fgithub.com%2FRafaelCaballero%2FJulio25%2Fblob%2Fmain%2Fcode%2F17otras_regresiones.ipynb","switchAccountPath":"/switch_account","loginAccountPath":"/login?add_account=1","projectsPath":"/RafaelCaballero?tab=projects","gistsUrl":"https://gist.github.com/mine","docsUrl":"https://docs.github.com","yourEnterpriseUrl":null,"enterpriseSettingsUrl":null,"supportUrl":"https://support.github.com","showAccountSwitcher":true,"showCopilot":true,"showEnterprises":true,"showEnterprise":false,"showGists":true,"showOrganizations":true,"showSponsors":true,"showUpgrade":true,"showFeaturesPreviews":true,"showEnterpriseSettings":false,"createMenuProps":{"createRepo":true,"importRepo":true,"codespaces":true,"spark":false,"codingAgent":false,"gist":true,"createOrg":true,"createProject":false,"createProjectUrl":"/RafaelCaballero?tab=projects","createLegacyProject":false,"createIssue":true,"org":null,"owner":"RafaelCaballero","repo":"Julio25"}}}</script>
  <div data-target="react-partial.reactRoot"></div>
</react-partial>


  </template>
</react-partial-anchor>


  <div data-show-on-forbidden-error hidden>
    <div class="Box">
  <div class="blankslate-container">
    <div data-view-component="true" class="blankslate blankslate-spacious color-bg-default rounded-2">
      

      <h3 data-view-component="true" class="blankslate-heading">        Uh oh!
</h3>
      <p data-view-component="true">        <p class="color-fg-muted my-2 mb-2 ws-normal">There was an error while loading. <a class="Link--inTextBlock" data-turbo="false" href="" aria-label="Please reload this page">Please reload this page</a>.</p>
</p>

</div>  </div>
</div>  </div>
</include-fragment></deferred-side-panel>
        </div>

        <div class="position-absolute mt-2">
            
<site-header-logged-in-user-menu>

</site-header-logged-in-user-menu>

        </div>
      </div>
    </div>


    
        <div class="AppHeader-localBar" >
          <nav data-pjax="#js-repo-pjax-container" aria-label="Repository" data-view-component="true" class="js-repo-nav js-sidenav-container-pjax js-responsive-underlinenav overflow-hidden UnderlineNav">

  <ul data-view-component="true" class="UnderlineNav-body list-style-none">
      <li data-view-component="true" class="d-inline-flex">
  <a id="code-tab" href="/RafaelCaballero/Julio25" data-tab-item="i0code-tab" data-selected-links="repo_source repo_downloads repo_commits repo_releases repo_tags repo_branches repo_packages repo_deployments repo_attestations /RafaelCaballero/Julio25" data-pjax="#repo-content-pjax-container" data-turbo-frame="repo-content-turbo-frame" data-hotkey="g c" data-analytics-event="{&quot;category&quot;:&quot;Underline navbar&quot;,&quot;action&quot;:&quot;Click tab&quot;,&quot;label&quot;:&quot;Code&quot;,&quot;target&quot;:&quot;UNDERLINE_NAV.TAB&quot;}" data-view-component="true" class="UnderlineNav-item no-wrap js-responsive-underlinenav-item js-selected-navigation-item">
    
              <svg aria-hidden="true" height="16" viewBox="0 0 16 16" version="1.1" width="16" data-view-component="true" class="octicon octicon-code UnderlineNav-octicon d-none d-sm-inline">
    <path d="m11.28 3.22 4.25 4.25a.75.75 0 0 1 0 1.06l-4.25 4.25a.749.749 0 0 1-1.275-.326.749.749 0 0 1 .215-.734L13.94 8l-3.72-3.72a.749.749 0 0 1 .326-1.275.749.749 0 0 1 .734.215Zm-6.56 0a.751.751 0 0 1 1.042.018.751.751 0 0 1 .018 1.042L2.06 8l3.72 3.72a.749.749 0 0 1-.326 1.275.749.749 0 0 1-.734-.215L.47 8.53a.75.75 0 0 1 0-1.06Z"></path>
</svg>
        <span data-content="Code">Code</span>
          <span id="code-repo-tab-count" data-pjax-replace="" data-turbo-replace="" title="Not available" data-view-component="true" class="Counter"></span>


    
</a></li>
      <li data-view-component="true" class="d-inline-flex">
  <a id="issues-tab" href="/RafaelCaballero/Julio25/issues" data-tab-item="i1issues-tab" data-selected-links="repo_issues repo_labels repo_milestones /RafaelCaballero/Julio25/issues" data-pjax="#repo-content-pjax-container" data-turbo-frame="repo-content-turbo-frame" data-hotkey="g i" data-analytics-event="{&quot;category&quot;:&quot;Underline navbar&quot;,&quot;action&quot;:&quot;Click tab&quot;,&quot;label&quot;:&quot;Issues&quot;,&quot;target&quot;:&quot;UNDERLINE_NAV.TAB&quot;}" data-view-component="true" class="UnderlineNav-item no-wrap js-responsive-underlinenav-item js-selected-navigation-item">
    
              <svg aria-hidden="true" height="16" viewBox="0 0 16 16" version="1.1" width="16" data-view-component="true" class="octicon octicon-issue-opened UnderlineNav-octicon d-none d-sm-inline">
    <path d="M8 9.5a1.5 1.5 0 1 0 0-3 1.5 1.5 0 0 0 0 3Z"></path><path d="M8 0a8 8 0 1 1 0 16A8 8 0 0 1 8 0ZM1.5 8a6.5 6.5 0 1 0 13 0 6.5 6.5 0 0 0-13 0Z"></path>
</svg>
        <span data-content="Issues">Issues</span>
          <span id="issues-repo-tab-count" data-pjax-replace="" data-turbo-replace="" title="0" hidden="hidden" data-view-component="true" class="Counter">0</span>


    
</a></li>
      <li data-view-component="true" class="d-inline-flex">
  <a id="pull-requests-tab" href="/RafaelCaballero/Julio25/pulls" data-tab-item="i2pull-requests-tab" data-selected-links="repo_pulls checks /RafaelCaballero/Julio25/pulls" data-pjax="#repo-content-pjax-container" data-turbo-frame="repo-content-turbo-frame" data-hotkey="g p" data-analytics-event="{&quot;category&quot;:&quot;Underline navbar&quot;,&quot;action&quot;:&quot;Click tab&quot;,&quot;label&quot;:&quot;Pull requests&quot;,&quot;target&quot;:&quot;UNDERLINE_NAV.TAB&quot;}" data-view-component="true" class="UnderlineNav-item no-wrap js-responsive-underlinenav-item js-selected-navigation-item">
    
              <svg aria-hidden="true" height="16" viewBox="0 0 16 16" version="1.1" width="16" data-view-component="true" class="octicon octicon-git-pull-request UnderlineNav-octicon d-none d-sm-inline">
    <path d="M1.5 3.25a2.25 2.25 0 1 1 3 2.122v5.256a2.251 2.251 0 1 1-1.5 0V5.372A2.25 2.25 0 0 1 1.5 3.25Zm5.677-.177L9.573.677A.25.25 0 0 1 10 .854V2.5h1A2.5 2.5 0 0 1 13.5 5v5.628a2.251 2.251 0 1 1-1.5 0V5a1 1 0 0 0-1-1h-1v1.646a.25.25 0 0 1-.427.177L7.177 3.427a.25.25 0 0 1 0-.354ZM3.75 2.5a.75.75 0 1 0 0 1.5.75.75 0 0 0 0-1.5Zm0 9.5a.75.75 0 1 0 0 1.5.75.75 0 0 0 0-1.5Zm8.25.75a.75.75 0 1 0 1.5 0 .75.75 0 0 0-1.5 0Z"></path>
</svg>
        <span data-content="Pull requests">Pull requests</span>
          <span id="pull-requests-repo-tab-count" data-pjax-replace="" data-turbo-replace="" title="0" hidden="hidden" data-view-component="true" class="Counter">0</span>


    
</a></li>
      <li data-view-component="true" class="d-inline-flex">
  <a id="actions-tab" href="/RafaelCaballero/Julio25/actions" data-tab-item="i3actions-tab" data-selected-links="repo_actions /RafaelCaballero/Julio25/actions" data-pjax="#repo-content-pjax-container" data-turbo-frame="repo-content-turbo-frame" data-hotkey="g a" data-analytics-event="{&quot;category&quot;:&quot;Underline navbar&quot;,&quot;action&quot;:&quot;Click tab&quot;,&quot;label&quot;:&quot;Actions&quot;,&quot;target&quot;:&quot;UNDERLINE_NAV.TAB&quot;}" data-view-component="true" class="UnderlineNav-item no-wrap js-responsive-underlinenav-item js-selected-navigation-item">
    
              <svg aria-hidden="true" height="16" viewBox="0 0 16 16" version="1.1" width="16" data-view-component="true" class="octicon octicon-play UnderlineNav-octicon d-none d-sm-inline">
    <path d="M8 0a8 8 0 1 1 0 16A8 8 0 0 1 8 0ZM1.5 8a6.5 6.5 0 1 0 13 0 6.5 6.5 0 0 0-13 0Zm4.879-2.773 4.264 2.559a.25.25 0 0 1 0 .428l-4.264 2.559A.25.25 0 0 1 6 10.559V5.442a.25.25 0 0 1 .379-.215Z"></path>
</svg>
        <span data-content="Actions">Actions</span>
          <span id="actions-repo-tab-count" data-pjax-replace="" data-turbo-replace="" title="Not available" data-view-component="true" class="Counter"></span>


    
</a></li>
      <li data-view-component="true" class="d-inline-flex">
  <a id="projects-tab" href="/RafaelCaballero/Julio25/projects" data-tab-item="i4projects-tab" data-selected-links="repo_projects new_repo_project repo_project /RafaelCaballero/Julio25/projects" data-pjax="#repo-content-pjax-container" data-turbo-frame="repo-content-turbo-frame" data-hotkey="g b" data-analytics-event="{&quot;category&quot;:&quot;Underline navbar&quot;,&quot;action&quot;:&quot;Click tab&quot;,&quot;label&quot;:&quot;Projects&quot;,&quot;target&quot;:&quot;UNDERLINE_NAV.TAB&quot;}" data-view-component="true" class="UnderlineNav-item no-wrap js-responsive-underlinenav-item js-selected-navigation-item">
    
              <svg aria-hidden="true" height="16" viewBox="0 0 16 16" version="1.1" width="16" data-view-component="true" class="octicon octicon-table UnderlineNav-octicon d-none d-sm-inline">
    <path d="M0 1.75C0 .784.784 0 1.75 0h12.5C15.216 0 16 .784 16 1.75v12.5A1.75 1.75 0 0 1 14.25 16H1.75A1.75 1.75 0 0 1 0 14.25ZM6.5 6.5v8h7.75a.25.25 0 0 0 .25-.25V6.5Zm8-1.5V1.75a.25.25 0 0 0-.25-.25H6.5V5Zm-13 1.5v7.75c0 .138.112.25.25.25H5v-8ZM5 5V1.5H1.75a.25.25 0 0 0-.25.25V5Z"></path>
</svg>
        <span data-content="Projects">Projects</span>
          <span id="projects-repo-tab-count" data-pjax-replace="" data-turbo-replace="" title="0" hidden="hidden" data-view-component="true" class="Counter">0</span>


    
</a></li>
      <li data-view-component="true" class="d-inline-flex">
  <a id="wiki-tab" href="/RafaelCaballero/Julio25/wiki" data-tab-item="i5wiki-tab" data-selected-links="repo_wiki /RafaelCaballero/Julio25/wiki" data-pjax="#repo-content-pjax-container" data-turbo-frame="repo-content-turbo-frame" data-hotkey="g w" data-analytics-event="{&quot;category&quot;:&quot;Underline navbar&quot;,&quot;action&quot;:&quot;Click tab&quot;,&quot;label&quot;:&quot;Wiki&quot;,&quot;target&quot;:&quot;UNDERLINE_NAV.TAB&quot;}" data-view-component="true" class="UnderlineNav-item no-wrap js-responsive-underlinenav-item js-selected-navigation-item">
    
              <svg aria-hidden="true" height="16" viewBox="0 0 16 16" version="1.1" width="16" data-view-component="true" class="octicon octicon-book UnderlineNav-octicon d-none d-sm-inline">
    <path d="M0 1.75A.75.75 0 0 1 .75 1h4.253c1.227 0 2.317.59 3 1.501A3.743 3.743 0 0 1 11.006 1h4.245a.75.75 0 0 1 .75.75v10.5a.75.75 0 0 1-.75.75h-4.507a2.25 2.25 0 0 0-1.591.659l-.622.621a.75.75 0 0 1-1.06 0l-.622-.621A2.25 2.25 0 0 0 5.258 13H.75a.75.75 0 0 1-.75-.75Zm7.251 10.324.004-5.073-.002-2.253A2.25 2.25 0 0 0 5.003 2.5H1.5v9h3.757a3.75 3.75 0 0 1 1.994.574ZM8.755 4.75l-.004 7.322a3.752 3.752 0 0 1 1.992-.572H14.5v-9h-3.495a2.25 2.25 0 0 0-2.25 2.25Z"></path>
</svg>
        <span data-content="Wiki">Wiki</span>
          <span id="wiki-repo-tab-count" data-pjax-replace="" data-turbo-replace="" title="Not available" data-view-component="true" class="Counter"></span>


    
</a></li>
      <li data-view-component="true" class="d-inline-flex">
  <a id="security-tab" href="/RafaelCaballero/Julio25/security" data-tab-item="i6security-tab" data-selected-links="security overview alerts policy token_scanning code_scanning /RafaelCaballero/Julio25/security" data-pjax="#repo-content-pjax-container" data-turbo-frame="repo-content-turbo-frame" data-hotkey="g s" data-analytics-event="{&quot;category&quot;:&quot;Underline navbar&quot;,&quot;action&quot;:&quot;Click tab&quot;,&quot;label&quot;:&quot;Security&quot;,&quot;target&quot;:&quot;UNDERLINE_NAV.TAB&quot;}" data-view-component="true" class="UnderlineNav-item no-wrap js-responsive-underlinenav-item js-selected-navigation-item">
    
              <svg aria-hidden="true" height="16" viewBox="0 0 16 16" version="1.1" width="16" data-view-component="true" class="octicon octicon-shield UnderlineNav-octicon d-none d-sm-inline">
    <path d="M7.467.133a1.748 1.748 0 0 1 1.066 0l5.25 1.68A1.75 1.75 0 0 1 15 3.48V7c0 1.566-.32 3.182-1.303 4.682-.983 1.498-2.585 2.813-5.032 3.855a1.697 1.697 0 0 1-1.33 0c-2.447-1.042-4.049-2.357-5.032-3.855C1.32 10.182 1 8.566 1 7V3.48a1.75 1.75 0 0 1 1.217-1.667Zm.61 1.429a.25.25 0 0 0-.153 0l-5.25 1.68a.25.25 0 0 0-.174.238V7c0 1.358.275 2.666 1.057 3.86.784 1.194 2.121 2.34 4.366 3.297a.196.196 0 0 0 .154 0c2.245-.956 3.582-2.104 4.366-3.298C13.225 9.666 13.5 8.36 13.5 7V3.48a.251.251 0 0 0-.174-.237l-5.25-1.68ZM8.75 4.75v3a.75.75 0 0 1-1.5 0v-3a.75.75 0 0 1 1.5 0ZM9 10.5a1 1 0 1 1-2 0 1 1 0 0 1 2 0Z"></path>
</svg>
        <span data-content="Security">Security</span>
          <include-fragment src="/RafaelCaballero/Julio25/security/overall-count" accept="text/fragment+html" data-nonce="v2:f3f7595c-b109-7dc3-202d-ae8e4b8a0e60" data-view-component="true">
  
  <div data-show-on-forbidden-error hidden>
    <div class="Box">
  <div class="blankslate-container">
    <div data-view-component="true" class="blankslate blankslate-spacious color-bg-default rounded-2">
      

      <h3 data-view-component="true" class="blankslate-heading">        Uh oh!
</h3>
      <p data-view-component="true">        <p class="color-fg-muted my-2 mb-2 ws-normal">There was an error while loading. <a class="Link--inTextBlock" data-turbo="false" href="" aria-label="Please reload this page">Please reload this page</a>.</p>
</p>

</div>  </div>
</div>  </div>
</include-fragment>

    
</a></li>
      <li data-view-component="true" class="d-inline-flex">
  <a id="insights-tab" href="/RafaelCaballero/Julio25/pulse" data-tab-item="i7insights-tab" data-selected-links="repo_graphs repo_contributors dependency_graph dependabot_updates pulse people community /RafaelCaballero/Julio25/pulse" data-pjax="#repo-content-pjax-container" data-turbo-frame="repo-content-turbo-frame" data-analytics-event="{&quot;category&quot;:&quot;Underline navbar&quot;,&quot;action&quot;:&quot;Click tab&quot;,&quot;label&quot;:&quot;Insights&quot;,&quot;target&quot;:&quot;UNDERLINE_NAV.TAB&quot;}" data-view-component="true" class="UnderlineNav-item no-wrap js-responsive-underlinenav-item js-selected-navigation-item">
    
              <svg aria-hidden="true" height="16" viewBox="0 0 16 16" version="1.1" width="16" data-view-component="true" class="octicon octicon-graph UnderlineNav-octicon d-none d-sm-inline">
    <path d="M1.5 1.75V13.5h13.75a.75.75 0 0 1 0 1.5H.75a.75.75 0 0 1-.75-.75V1.75a.75.75 0 0 1 1.5 0Zm14.28 2.53-5.25 5.25a.75.75 0 0 1-1.06 0L7 7.06 4.28 9.78a.751.751 0 0 1-1.042-.018.751.751 0 0 1-.018-1.042l3.25-3.25a.75.75 0 0 1 1.06 0L10 7.94l4.72-4.72a.751.751 0 0 1 1.042.018.751.751 0 0 1 .018 1.042Z"></path>
</svg>
        <span data-content="Insights">Insights</span>
          <span id="insights-repo-tab-count" data-pjax-replace="" data-turbo-replace="" title="Not available" data-view-component="true" class="Counter"></span>


    
</a></li>
      <li data-view-component="true" class="d-inline-flex">
  <a id="settings-tab" href="/RafaelCaballero/Julio25/settings" data-tab-item="i8settings-tab" data-selected-links="code_review_limits code_quality codespaces_repository_settings collaborators custom_tabs github_models_repo_settings hooks integration_installations interaction_limits issue_template_editor key_links_settings notifications repo_announcements repo_branch_settings repo_custom_properties repo_keys_settings repo_pages_settings repo_protected_tags_settings repo_rule_insights repo_rules_bypass_requests repo_rulesets repo_settings_copilot_coding_guidelines repo_settings_copilot_content_exclusion repo_settings_copilot_swe_agent repo_settings reported_content repository_actions_settings_add_new_runner repository_actions_settings_general repository_actions_settings_runner_details repository_actions_settings_runners repository_actions_settings repository_environments role_details secrets_settings_actions secrets_settings_codespaces secrets_settings_dependabot secrets security_analysis security_products /RafaelCaballero/Julio25/settings" data-pjax="#repo-content-pjax-container" data-turbo-frame="repo-content-turbo-frame" data-analytics-event="{&quot;category&quot;:&quot;Underline navbar&quot;,&quot;action&quot;:&quot;Click tab&quot;,&quot;label&quot;:&quot;Settings&quot;,&quot;target&quot;:&quot;UNDERLINE_NAV.TAB&quot;}" data-view-component="true" class="UnderlineNav-item no-wrap js-responsive-underlinenav-item js-selected-navigation-item">
    
              <svg aria-hidden="true" height="16" viewBox="0 0 16 16" version="1.1" width="16" data-view-component="true" class="octicon octicon-gear UnderlineNav-octicon d-none d-sm-inline">
    <path d="M8 0a8.2 8.2 0 0 1 .701.031C9.444.095 9.99.645 10.16 1.29l.288 1.107c.018.066.079.158.212.224.231.114.454.243.668.386.123.082.233.09.299.071l1.103-.303c.644-.176 1.392.021 1.82.63.27.385.506.792.704 1.218.315.675.111 1.422-.364 1.891l-.814.806c-.049.048-.098.147-.088.294.016.257.016.515 0 .772-.01.147.038.246.088.294l.814.806c.475.469.679 1.216.364 1.891a7.977 7.977 0 0 1-.704 1.217c-.428.61-1.176.807-1.82.63l-1.102-.302c-.067-.019-.177-.011-.3.071a5.909 5.909 0 0 1-.668.386c-.133.066-.194.158-.211.224l-.29 1.106c-.168.646-.715 1.196-1.458 1.26a8.006 8.006 0 0 1-1.402 0c-.743-.064-1.289-.614-1.458-1.26l-.289-1.106c-.018-.066-.079-.158-.212-.224a5.738 5.738 0 0 1-.668-.386c-.123-.082-.233-.09-.299-.071l-1.103.303c-.644.176-1.392-.021-1.82-.63a8.12 8.12 0 0 1-.704-1.218c-.315-.675-.111-1.422.363-1.891l.815-.806c.05-.048.098-.147.088-.294a6.214 6.214 0 0 1 0-.772c.01-.147-.038-.246-.088-.294l-.815-.806C.635 6.045.431 5.298.746 4.623a7.92 7.92 0 0 1 .704-1.217c.428-.61 1.176-.807 1.82-.63l1.102.302c.067.019.177.011.3-.071.214-.143.437-.272.668-.386.133-.066.194-.158.211-.224l.29-1.106C6.009.645 6.556.095 7.299.03 7.53.01 7.764 0 8 0Zm-.571 1.525c-.036.003-.108.036-.137.146l-.289 1.105c-.147.561-.549.967-.998 1.189-.173.086-.34.183-.5.29-.417.278-.97.423-1.529.27l-1.103-.303c-.109-.03-.175.016-.195.045-.22.312-.412.644-.573.99-.014.031-.021.11.059.19l.815.806c.411.406.562.957.53 1.456a4.709 4.709 0 0 0 0 .582c.032.499-.119 1.05-.53 1.456l-.815.806c-.081.08-.073.159-.059.19.162.346.353.677.573.989.02.03.085.076.195.046l1.102-.303c.56-.153 1.113-.008 1.53.27.161.107.328.204.501.29.447.222.85.629.997 1.189l.289 1.105c.029.109.101.143.137.146a6.6 6.6 0 0 0 1.142 0c.036-.003.108-.036.137-.146l.289-1.105c.147-.561.549-.967.998-1.189.173-.086.34-.183.5-.29.417-.278.97-.423 1.529-.27l1.103.303c.109.029.175-.016.195-.045.22-.313.411-.644.573-.99.014-.031.021-.11-.059-.19l-.815-.806c-.411-.406-.562-.957-.53-1.456a4.709 4.709 0 0 0 0-.582c-.032-.499.119-1.05.53-1.456l.815-.806c.081-.08.073-.159.059-.19a6.464 6.464 0 0 0-.573-.989c-.02-.03-.085-.076-.195-.046l-1.102.303c-.56.153-1.113.008-1.53-.27a4.44 4.44 0 0 0-.501-.29c-.447-.222-.85-.629-.997-1.189l-.289-1.105c-.029-.11-.101-.143-.137-.146a6.6 6.6 0 0 0-1.142 0ZM11 8a3 3 0 1 1-6 0 3 3 0 0 1 6 0ZM9.5 8a1.5 1.5 0 1 0-3.001.001A1.5 1.5 0 0 0 9.5 8Z"></path>
</svg>
        <span data-content="Settings">Settings</span>
          <span id="settings-repo-tab-count" data-pjax-replace="" data-turbo-replace="" title="Not available" data-view-component="true" class="Counter"></span>


    
</a></li>
</ul>
    <div style="visibility:hidden;" data-view-component="true" class="UnderlineNav-actions js-responsive-underlinenav-overflow position-absolute pr-3 pr-md-4 pr-lg-5 right-0">      <action-menu data-select-variant="none" data-view-component="true">
  <focus-group direction="vertical" mnemonics retain>
    <button id="action-menu-94cdd610-d991-47b1-89bc-b18e6d967dfe-button" popovertarget="action-menu-94cdd610-d991-47b1-89bc-b18e6d967dfe-overlay" aria-controls="action-menu-94cdd610-d991-47b1-89bc-b18e6d967dfe-list" aria-haspopup="true" aria-labelledby="tooltip-fb6e564c-4a53-4dd6-b87c-31adce6afba6" type="button" data-view-component="true" class="Button Button--iconOnly Button--secondary Button--medium UnderlineNav-item">  <svg aria-hidden="true" height="16" viewBox="0 0 16 16" version="1.1" width="16" data-view-component="true" class="octicon octicon-kebab-horizontal Button-visual">
    <path d="M8 9a1.5 1.5 0 1 0 0-3 1.5 1.5 0 0 0 0 3ZM1.5 9a1.5 1.5 0 1 0 0-3 1.5 1.5 0 0 0 0 3Zm13 0a1.5 1.5 0 1 0 0-3 1.5 1.5 0 0 0 0 3Z"></path>
</svg>
</button><tool-tip id="tooltip-fb6e564c-4a53-4dd6-b87c-31adce6afba6" for="action-menu-94cdd610-d991-47b1-89bc-b18e6d967dfe-button" popover="manual" data-direction="s" data-type="label" data-view-component="true" class="sr-only position-absolute">Additional navigation options</tool-tip>


<anchored-position data-target="action-menu.overlay" id="action-menu-94cdd610-d991-47b1-89bc-b18e6d967dfe-overlay" anchor="action-menu-94cdd610-d991-47b1-89bc-b18e6d967dfe-button" align="start" side="outside-bottom" anchor-offset="normal" popover="auto" data-view-component="true">
  <div data-view-component="true" class="Overlay Overlay--size-auto">
    
      <div data-view-component="true" class="Overlay-body Overlay-body--paddingNone">          <action-list>
  <div data-view-component="true">
    <ul aria-labelledby="action-menu-94cdd610-d991-47b1-89bc-b18e6d967dfe-button" id="action-menu-94cdd610-d991-47b1-89bc-b18e6d967dfe-list" role="menu" data-view-component="true" class="ActionListWrap--inset ActionListWrap">
        <li hidden="hidden" data-menu-item="i0code-tab" data-targets="action-list.items" role="none" data-view-component="true" class="ActionListItem">
    
    
    <a tabindex="-1" id="item-1f756302-fb38-4d7b-8089-61642d547838" href="/RafaelCaballero/Julio25" role="menuitem" data-view-component="true" class="ActionListContent ActionListContent--visual16">
        <span class="ActionListItem-visual ActionListItem-visual--leading">
          <svg aria-hidden="true" height="16" viewBox="0 0 16 16" version="1.1" width="16" data-view-component="true" class="octicon octicon-code">
    <path d="m11.28 3.22 4.25 4.25a.75.75 0 0 1 0 1.06l-4.25 4.25a.749.749 0 0 1-1.275-.326.749.749 0 0 1 .215-.734L13.94 8l-3.72-3.72a.749.749 0 0 1 .326-1.275.749.749 0 0 1 .734.215Zm-6.56 0a.751.751 0 0 1 1.042.018.751.751 0 0 1 .018 1.042L2.06 8l3.72 3.72a.749.749 0 0 1-.326 1.275.749.749 0 0 1-.734-.215L.47 8.53a.75.75 0 0 1 0-1.06Z"></path>
</svg>
        </span>
      
        <span data-view-component="true" class="ActionListItem-label">
          Code
</span>      
</a>
  
</li>
        <li hidden="hidden" data-menu-item="i1issues-tab" data-targets="action-list.items" role="none" data-view-component="true" class="ActionListItem">
    
    
    <a tabindex="-1" id="item-073c5ebe-3213-4d10-9765-a7ae657a6ff0" href="/RafaelCaballero/Julio25/issues" role="menuitem" data-view-component="true" class="ActionListContent ActionListContent--visual16">
        <span class="ActionListItem-visual ActionListItem-visual--leading">
          <svg aria-hidden="true" height="16" viewBox="0 0 16 16" version="1.1" width="16" data-view-component="true" class="octicon octicon-issue-opened">
    <path d="M8 9.5a1.5 1.5 0 1 0 0-3 1.5 1.5 0 0 0 0 3Z"></path><path d="M8 0a8 8 0 1 1 0 16A8 8 0 0 1 8 0ZM1.5 8a6.5 6.5 0 1 0 13 0 6.5 6.5 0 0 0-13 0Z"></path>
</svg>
        </span>
      
        <span data-view-component="true" class="ActionListItem-label">
          Issues
</span>      
</a>
  
</li>
        <li hidden="hidden" data-menu-item="i2pull-requests-tab" data-targets="action-list.items" role="none" data-view-component="true" class="ActionListItem">
    
    
    <a tabindex="-1" id="item-eb8eeb81-5d92-42a1-b01e-cb498ad480a1" href="/RafaelCaballero/Julio25/pulls" role="menuitem" data-view-component="true" class="ActionListContent ActionListContent--visual16">
        <span class="ActionListItem-visual ActionListItem-visual--leading">
          <svg aria-hidden="true" height="16" viewBox="0 0 16 16" version="1.1" width="16" data-view-component="true" class="octicon octicon-git-pull-request">
    <path d="M1.5 3.25a2.25 2.25 0 1 1 3 2.122v5.256a2.251 2.251 0 1 1-1.5 0V5.372A2.25 2.25 0 0 1 1.5 3.25Zm5.677-.177L9.573.677A.25.25 0 0 1 10 .854V2.5h1A2.5 2.5 0 0 1 13.5 5v5.628a2.251 2.251 0 1 1-1.5 0V5a1 1 0 0 0-1-1h-1v1.646a.25.25 0 0 1-.427.177L7.177 3.427a.25.25 0 0 1 0-.354ZM3.75 2.5a.75.75 0 1 0 0 1.5.75.75 0 0 0 0-1.5Zm0 9.5a.75.75 0 1 0 0 1.5.75.75 0 0 0 0-1.5Zm8.25.75a.75.75 0 1 0 1.5 0 .75.75 0 0 0-1.5 0Z"></path>
</svg>
        </span>
      
        <span data-view-component="true" class="ActionListItem-label">
          Pull requests
</span>      
</a>
  
</li>
        <li hidden="hidden" data-menu-item="i3actions-tab" data-targets="action-list.items" role="none" data-view-component="true" class="ActionListItem">
    
    
    <a tabindex="-1" id="item-8e743135-96a2-4db6-be99-fb2a9b28d2c3" href="/RafaelCaballero/Julio25/actions" role="menuitem" data-view-component="true" class="ActionListContent ActionListContent--visual16">
        <span class="ActionListItem-visual ActionListItem-visual--leading">
          <svg aria-hidden="true" height="16" viewBox="0 0 16 16" version="1.1" width="16" data-view-component="true" class="octicon octicon-play">
    <path d="M8 0a8 8 0 1 1 0 16A8 8 0 0 1 8 0ZM1.5 8a6.5 6.5 0 1 0 13 0 6.5 6.5 0 0 0-13 0Zm4.879-2.773 4.264 2.559a.25.25 0 0 1 0 .428l-4.264 2.559A.25.25 0 0 1 6 10.559V5.442a.25.25 0 0 1 .379-.215Z"></path>
</svg>
        </span>
      
        <span data-view-component="true" class="ActionListItem-label">
          Actions
</span>      
</a>
  
</li>
        <li hidden="hidden" data-menu-item="i4projects-tab" data-targets="action-list.items" role="none" data-view-component="true" class="ActionListItem">
    
    
    <a tabindex="-1" id="item-b0a9e22d-914f-44ef-b7a3-d662e47f323f" href="/RafaelCaballero/Julio25/projects" role="menuitem" data-view-component="true" class="ActionListContent ActionListContent--visual16">
        <span class="ActionListItem-visual ActionListItem-visual--leading">
          <svg aria-hidden="true" height="16" viewBox="0 0 16 16" version="1.1" width="16" data-view-component="true" class="octicon octicon-table">
    <path d="M0 1.75C0 .784.784 0 1.75 0h12.5C15.216 0 16 .784 16 1.75v12.5A1.75 1.75 0 0 1 14.25 16H1.75A1.75 1.75 0 0 1 0 14.25ZM6.5 6.5v8h7.75a.25.25 0 0 0 .25-.25V6.5Zm8-1.5V1.75a.25.25 0 0 0-.25-.25H6.5V5Zm-13 1.5v7.75c0 .138.112.25.25.25H5v-8ZM5 5V1.5H1.75a.25.25 0 0 0-.25.25V5Z"></path>
</svg>
        </span>
      
        <span data-view-component="true" class="ActionListItem-label">
          Projects
</span>      
</a>
  
</li>
        <li hidden="hidden" data-menu-item="i5wiki-tab" data-targets="action-list.items" role="none" data-view-component="true" class="ActionListItem">
    
    
    <a tabindex="-1" id="item-f4548f53-715a-43fc-8fc4-3cda530a78d7" href="/RafaelCaballero/Julio25/wiki" role="menuitem" data-view-component="true" class="ActionListContent ActionListContent--visual16">
        <span class="ActionListItem-visual ActionListItem-visual--leading">
          <svg aria-hidden="true" height="16" viewBox="0 0 16 16" version="1.1" width="16" data-view-component="true" class="octicon octicon-book">
    <path d="M0 1.75A.75.75 0 0 1 .75 1h4.253c1.227 0 2.317.59 3 1.501A3.743 3.743 0 0 1 11.006 1h4.245a.75.75 0 0 1 .75.75v10.5a.75.75 0 0 1-.75.75h-4.507a2.25 2.25 0 0 0-1.591.659l-.622.621a.75.75 0 0 1-1.06 0l-.622-.621A2.25 2.25 0 0 0 5.258 13H.75a.75.75 0 0 1-.75-.75Zm7.251 10.324.004-5.073-.002-2.253A2.25 2.25 0 0 0 5.003 2.5H1.5v9h3.757a3.75 3.75 0 0 1 1.994.574ZM8.755 4.75l-.004 7.322a3.752 3.752 0 0 1 1.992-.572H14.5v-9h-3.495a2.25 2.25 0 0 0-2.25 2.25Z"></path>
</svg>
        </span>
      
        <span data-view-component="true" class="ActionListItem-label">
          Wiki
</span>      
</a>
  
</li>
        <li hidden="hidden" data-menu-item="i6security-tab" data-targets="action-list.items" role="none" data-view-component="true" class="ActionListItem">
    
    
    <a tabindex="-1" id="item-2ce26d84-de37-4721-8b7d-e8f4eb822502" href="/RafaelCaballero/Julio25/security" role="menuitem" data-view-component="true" class="ActionListContent ActionListContent--visual16">
        <span class="ActionListItem-visual ActionListItem-visual--leading">
          <svg aria-hidden="true" height="16" viewBox="0 0 16 16" version="1.1" width="16" data-view-component="true" class="octicon octicon-shield">
    <path d="M7.467.133a1.748 1.748 0 0 1 1.066 0l5.25 1.68A1.75 1.75 0 0 1 15 3.48V7c0 1.566-.32 3.182-1.303 4.682-.983 1.498-2.585 2.813-5.032 3.855a1.697 1.697 0 0 1-1.33 0c-2.447-1.042-4.049-2.357-5.032-3.855C1.32 10.182 1 8.566 1 7V3.48a1.75 1.75 0 0 1 1.217-1.667Zm.61 1.429a.25.25 0 0 0-.153 0l-5.25 1.68a.25.25 0 0 0-.174.238V7c0 1.358.275 2.666 1.057 3.86.784 1.194 2.121 2.34 4.366 3.297a.196.196 0 0 0 .154 0c2.245-.956 3.582-2.104 4.366-3.298C13.225 9.666 13.5 8.36 13.5 7V3.48a.251.251 0 0 0-.174-.237l-5.25-1.68ZM8.75 4.75v3a.75.75 0 0 1-1.5 0v-3a.75.75 0 0 1 1.5 0ZM9 10.5a1 1 0 1 1-2 0 1 1 0 0 1 2 0Z"></path>
</svg>
        </span>
      
        <span data-view-component="true" class="ActionListItem-label">
          Security
</span>      
</a>
  
</li>
        <li hidden="hidden" data-menu-item="i7insights-tab" data-targets="action-list.items" role="none" data-view-component="true" class="ActionListItem">
    
    
    <a tabindex="-1" id="item-46460cd1-dd66-4fdd-aa56-d32fb54e0bf0" href="/RafaelCaballero/Julio25/pulse" role="menuitem" data-view-component="true" class="ActionListContent ActionListContent--visual16">
        <span class="ActionListItem-visual ActionListItem-visual--leading">
          <svg aria-hidden="true" height="16" viewBox="0 0 16 16" version="1.1" width="16" data-view-component="true" class="octicon octicon-graph">
    <path d="M1.5 1.75V13.5h13.75a.75.75 0 0 1 0 1.5H.75a.75.75 0 0 1-.75-.75V1.75a.75.75 0 0 1 1.5 0Zm14.28 2.53-5.25 5.25a.75.75 0 0 1-1.06 0L7 7.06 4.28 9.78a.751.751 0 0 1-1.042-.018.751.751 0 0 1-.018-1.042l3.25-3.25a.75.75 0 0 1 1.06 0L10 7.94l4.72-4.72a.751.751 0 0 1 1.042.018.751.751 0 0 1 .018 1.042Z"></path>
</svg>
        </span>
      
        <span data-view-component="true" class="ActionListItem-label">
          Insights
</span>      
</a>
  
</li>
        <li hidden="hidden" data-menu-item="i8settings-tab" data-targets="action-list.items" role="none" data-view-component="true" class="ActionListItem">
    
    
    <a tabindex="-1" id="item-938617e6-d91d-4579-a1d8-a52c416cdbba" href="/RafaelCaballero/Julio25/settings" role="menuitem" data-view-component="true" class="ActionListContent ActionListContent--visual16">
        <span class="ActionListItem-visual ActionListItem-visual--leading">
          <svg aria-hidden="true" height="16" viewBox="0 0 16 16" version="1.1" width="16" data-view-component="true" class="octicon octicon-gear">
    <path d="M8 0a8.2 8.2 0 0 1 .701.031C9.444.095 9.99.645 10.16 1.29l.288 1.107c.018.066.079.158.212.224.231.114.454.243.668.386.123.082.233.09.299.071l1.103-.303c.644-.176 1.392.021 1.82.63.27.385.506.792.704 1.218.315.675.111 1.422-.364 1.891l-.814.806c-.049.048-.098.147-.088.294.016.257.016.515 0 .772-.01.147.038.246.088.294l.814.806c.475.469.679 1.216.364 1.891a7.977 7.977 0 0 1-.704 1.217c-.428.61-1.176.807-1.82.63l-1.102-.302c-.067-.019-.177-.011-.3.071a5.909 5.909 0 0 1-.668.386c-.133.066-.194.158-.211.224l-.29 1.106c-.168.646-.715 1.196-1.458 1.26a8.006 8.006 0 0 1-1.402 0c-.743-.064-1.289-.614-1.458-1.26l-.289-1.106c-.018-.066-.079-.158-.212-.224a5.738 5.738 0 0 1-.668-.386c-.123-.082-.233-.09-.299-.071l-1.103.303c-.644.176-1.392-.021-1.82-.63a8.12 8.12 0 0 1-.704-1.218c-.315-.675-.111-1.422.363-1.891l.815-.806c.05-.048.098-.147.088-.294a6.214 6.214 0 0 1 0-.772c.01-.147-.038-.246-.088-.294l-.815-.806C.635 6.045.431 5.298.746 4.623a7.92 7.92 0 0 1 .704-1.217c.428-.61 1.176-.807 1.82-.63l1.102.302c.067.019.177.011.3-.071.214-.143.437-.272.668-.386.133-.066.194-.158.211-.224l.29-1.106C6.009.645 6.556.095 7.299.03 7.53.01 7.764 0 8 0Zm-.571 1.525c-.036.003-.108.036-.137.146l-.289 1.105c-.147.561-.549.967-.998 1.189-.173.086-.34.183-.5.29-.417.278-.97.423-1.529.27l-1.103-.303c-.109-.03-.175.016-.195.045-.22.312-.412.644-.573.99-.014.031-.021.11.059.19l.815.806c.411.406.562.957.53 1.456a4.709 4.709 0 0 0 0 .582c.032.499-.119 1.05-.53 1.456l-.815.806c-.081.08-.073.159-.059.19.162.346.353.677.573.989.02.03.085.076.195.046l1.102-.303c.56-.153 1.113-.008 1.53.27.161.107.328.204.501.29.447.222.85.629.997 1.189l.289 1.105c.029.109.101.143.137.146a6.6 6.6 0 0 0 1.142 0c.036-.003.108-.036.137-.146l.289-1.105c.147-.561.549-.967.998-1.189.173-.086.34-.183.5-.29.417-.278.97-.423 1.529-.27l1.103.303c.109.029.175-.016.195-.045.22-.313.411-.644.573-.99.014-.031.021-.11-.059-.19l-.815-.806c-.411-.406-.562-.957-.53-1.456a4.709 4.709 0 0 0 0-.582c-.032-.499.119-1.05.53-1.456l.815-.806c.081-.08.073-.159.059-.19a6.464 6.464 0 0 0-.573-.989c-.02-.03-.085-.076-.195-.046l-1.102.303c-.56.153-1.113.008-1.53-.27a4.44 4.44 0 0 0-.501-.29c-.447-.222-.85-.629-.997-1.189l-.289-1.105c-.029-.11-.101-.143-.137-.146a6.6 6.6 0 0 0-1.142 0ZM11 8a3 3 0 1 1-6 0 3 3 0 0 1 6 0ZM9.5 8a1.5 1.5 0 1 0-3.001.001A1.5 1.5 0 0 0 9.5 8Z"></path>
</svg>
        </span>
      
        <span data-view-component="true" class="ActionListItem-label">
          Settings
</span>      
</a>
  
</li>
</ul>    
</div></action-list>


</div>
      
</div></anchored-position>  </focus-group>
</action-menu></div>
</nav>
          
        </div>
</header>


      <div hidden="hidden" data-view-component="true" class="js-stale-session-flash stale-session-flash flash flash-warn flash-full">
  
        <svg aria-hidden="true" height="16" viewBox="0 0 16 16" version="1.1" width="16" data-view-component="true" class="octicon octicon-alert">
    <path d="M6.457 1.047c.659-1.234 2.427-1.234 3.086 0l6.082 11.378A1.75 1.75 0 0 1 14.082 15H1.918a1.75 1.75 0 0 1-1.543-2.575Zm1.763.707a.25.25 0 0 0-.44 0L1.698 13.132a.25.25 0 0 0 .22.368h12.164a.25.25 0 0 0 .22-.368Zm.53 3.996v2.5a.75.75 0 0 1-1.5 0v-2.5a.75.75 0 0 1 1.5 0ZM9 11a1 1 0 1 1-2 0 1 1 0 0 1 2 0Z"></path>
</svg>
        <span class="js-stale-session-flash-signed-in" hidden>You signed in with another tab or window. <a class="Link--inTextBlock" href="">Reload</a> to refresh your session.</span>
        <span class="js-stale-session-flash-signed-out" hidden>You signed out in another tab or window. <a class="Link--inTextBlock" href="">Reload</a> to refresh your session.</span>
        <span class="js-stale-session-flash-switched" hidden>You switched accounts on another tab or window. <a class="Link--inTextBlock" href="">Reload</a> to refresh your session.</span>

    <button id="icon-button-3c3b1a1e-cfdf-47b0-8666-f9f5f015758d" aria-labelledby="tooltip-402c9889-af9a-4c88-9d9b-5856c158e42d" type="button" data-view-component="true" class="Button Button--iconOnly Button--invisible Button--medium flash-close js-flash-close">  <svg aria-hidden="true" height="16" viewBox="0 0 16 16" version="1.1" width="16" data-view-component="true" class="octicon octicon-x Button-visual">
    <path d="M3.72 3.72a.75.75 0 0 1 1.06 0L8 6.94l3.22-3.22a.749.749 0 0 1 1.275.326.749.749 0 0 1-.215.734L9.06 8l3.22 3.22a.749.749 0 0 1-.326 1.275.749.749 0 0 1-.734-.215L8 9.06l-3.22 3.22a.751.751 0 0 1-1.042-.018.751.751 0 0 1-.018-1.042L6.94 8 3.72 4.78a.75.75 0 0 1 0-1.06Z"></path>
</svg>
</button><tool-tip id="tooltip-402c9889-af9a-4c88-9d9b-5856c158e42d" for="icon-button-3c3b1a1e-cfdf-47b0-8666-f9f5f015758d" popover="manual" data-direction="s" data-type="label" data-view-component="true" class="sr-only position-absolute">Dismiss alert</tool-tip>


  
</div>
        
          
    </div>

  <div id="start-of-content" class="show-on-focus"></div>








    <div id="js-flash-container" class="flash-container" data-turbo-replace>




  <template class="js-flash-template">
    
<div class="flash flash-full   {{ className }}">
  <div >
    <button autofocus class="flash-close js-flash-close" type="button" aria-label="Dismiss this message">
      <svg aria-hidden="true" height="16" viewBox="0 0 16 16" version="1.1" width="16" data-view-component="true" class="octicon octicon-x">
    <path d="M3.72 3.72a.75.75 0 0 1 1.06 0L8 6.94l3.22-3.22a.749.749 0 0 1 1.275.326.749.749 0 0 1-.215.734L9.06 8l3.22 3.22a.749.749 0 0 1-.326 1.275.749.749 0 0 1-.734-.215L8 9.06l-3.22 3.22a.751.751 0 0 1-1.042-.018.751.751 0 0 1-.018-1.042L6.94 8 3.72 4.78a.75.75 0 0 1 0-1.06Z"></path>
</svg>
    </button>
    <div aria-atomic="true" role="alert" class="js-flash-alert">
      
      <div>{{ message }}</div>

    </div>
  </div>
</div>
  </template>
</div>


    
  <notification-shelf-watcher data-base-url="https://github.com/notifications/beta/shelf" data-channel="eyJjIjoibm90aWZpY2F0aW9uLWNoYW5nZWQ6NjU0NDU1OCIsInQiOjE3NTc3MTU2MDl9--f45fd84e1d5248f42ac0791fdd1259aaa2a4ba8ee0c8b828c25a42e5cc8d2ab6" data-view-component="true" class="js-socket-channel"></notification-shelf-watcher>
  <div hidden data-initial data-target="notification-shelf-watcher.placeholder"></div>






  <div
    class="application-main "
    data-commit-hovercards-enabled
    data-discussion-hovercards-enabled
    data-issue-and-pr-hovercards-enabled
    data-project-hovercards-enabled
  >
        <div itemscope itemtype="http://schema.org/SoftwareSourceCode" class="">
    <main id="js-repo-pjax-container" >
      
      






    
  <div id="repository-container-header" data-turbo-replace hidden ></div>




<turbo-frame id="repo-content-turbo-frame" target="_top" data-turbo-action="advance" class="">
    <div id="repo-content-pjax-container" class="repository-content " >
      <a href="https://github.dev/" class="d-none js-github-dev-shortcut" data-hotkey=".,Mod+Alt+.">Open in github.dev</a>
  <a href="https://github.dev/" class="d-none js-github-dev-new-tab-shortcut" data-hotkey="Shift+.,Shift+&gt;,&gt;" target="_blank" rel="noopener noreferrer">Open in a new github.dev tab</a>
    <a class="d-none" data-hotkey=",,Mod+Alt+," target="_blank" href="/codespaces/new/RafaelCaballero/Julio25/tree/main?resume=1">Open in codespace</a>




    
      
    








<react-app
  app-name="react-code-view"
  initial-path="/RafaelCaballero/Julio25/blob/main/code/17otras_regresiones.ipynb"
    style="display: block; min-height: calc(100vh - 64px);"
  data-attempted-ssr="true"
  data-ssr="true"
  data-lazy="false"
  data-alternate="false"
  data-data-router-enabled="false"
  data-react-profiling="false"
>
  
  <script type="application/json" data-target="react-app.embeddedData">{"payload":{"allShortcutsEnabled":true,"fileTree":{"code":{"items":[{"name":"00intro.ipynb","path":"code/00intro.ipynb","contentType":"file"},{"name":"01carga.ipynb","path":"code/01carga.ipynb","contentType":"file"},{"name":"02estructuras.ipynb","path":"code/02estructuras.ipynb","contentType":"file"},{"name":"03numpy.ipynb","path":"code/03numpy.ipynb","contentType":"file"},{"name":"03numpysort.ipynb","path":"code/03numpysort.ipynb","contentType":"file"},{"name":"04series.ipynb","path":"code/04series.ipynb","contentType":"file"},{"name":"05dataframes.ipynb","path":"code/05dataframes.ipynb","contentType":"file"},{"name":"06ejemplodataframes.ipynb","path":"code/06ejemplodataframes.ipynb","contentType":"file"},{"name":"06ejemplodataframesCompletado.ipynb","path":"code/06ejemplodataframesCompletado.ipynb","contentType":"file"},{"name":"06ejemplodataframes_resuelto.ipynb","path":"code/06ejemplodataframes_resuelto.ipynb","contentType":"file"},{"name":"07descriptiva.ipynb","path":"code/07descriptiva.ipynb","contentType":"file"},{"name":"08fechas.ipynb","path":"code/08fechas.ipynb","contentType":"file"},{"name":"09preprocesado_pandas.ipynb","path":"code/09preprocesado_pandas.ipynb","contentType":"file"},{"name":"10pandascombinacion.ipynb","path":"code/10pandascombinacion.ipynb","contentType":"file"},{"name":"10pandascombinacionCompletado.ipynb","path":"code/10pandascombinacionCompletado.ipynb","contentType":"file"},{"name":"11GirosYAgregaciones.ipynb","path":"code/11GirosYAgregaciones.ipynb","contentType":"file"},{"name":"12estadisticas.ipynb","path":"code/12estadisticas.ipynb","contentType":"file"},{"name":"13matplotlib.ipynb","path":"code/13matplotlib.ipynb","contentType":"file"},{"name":"14correlaciones.ipynb","path":"code/14correlaciones.ipynb","contentType":"file"},{"name":"15regresion.ipynb","path":"code/15regresion.ipynb","contentType":"file"},{"name":"17otras_regresiones.ipynb","path":"code/17otras_regresiones.ipynb","contentType":"file"},{"name":"18ridge.ipynb","path":"code/18ridge.ipynb","contentType":"file"},{"name":"19cv.ipynb","path":"code/19cv.ipynb","contentType":"file"},{"name":"20logística.ipynb","path":"code/20logística.ipynb","contentType":"file"},{"name":"21pipelines_onehot.ipynb","path":"code/21pipelines_onehot.ipynb","contentType":"file"},{"name":"22MLP.ipynb","path":"code/22MLP.ipynb","contentType":"file"},{"name":"23Hiperparámetros.ipynb","path":"code/23Hiperparámetros.ipynb","contentType":"file"},{"name":"24arboles.ipynb","path":"code/24arboles.ipynb","contentType":"file"},{"name":"25bayes.ipynb","path":"code/25bayes.ipynb","contentType":"file"},{"name":"26sentimiento.ipynb","path":"code/26sentimiento.ipynb","contentType":"file"},{"name":"27SVM.ipynb","path":"code/27SVM.ipynb","contentType":"file"},{"name":"28clustering.ipynb","path":"code/28clustering.ipynb","contentType":"file"},{"name":"29transformers.ipynb","path":"code/29transformers.ipynb","contentType":"file"},{"name":"30PCA.ipynb","path":"code/30PCA.ipynb","contentType":"file"},{"name":"31PCA2.ipynb","path":"code/31PCA2.ipynb","contentType":"file"},{"name":"32SVD.ipynb","path":"code/32SVD.ipynb","contentType":"file"},{"name":"33curva_aprendizaje.ipynb","path":"code/33curva_aprendizaje.ipynb","contentType":"file"},{"name":"34texto.ipynb","path":"code/34texto.ipynb","contentType":"file"},{"name":"candlestick.ipynb","path":"code/candlestick.ipynb","contentType":"file"},{"name":"ejemplo_regresion_ciencia_de_datos.ipynb","path":"code/ejemplo_regresion_ciencia_de_datos.ipynb","contentType":"file"},{"name":"ibex.ipynb","path":"code/ibex.ipynb","contentType":"file"},{"name":"ibex_numpy.ipynb","path":"code/ibex_numpy.ipynb","contentType":"file"},{"name":"nubes.ipynb","path":"code/nubes.ipynb","contentType":"file"},{"name":"pisa_prueba_modelo.ipynb","path":"code/pisa_prueba_modelo.ipynb","contentType":"file"},{"name":"proyecto1_sol.ipynb","path":"code/proyecto1_sol.ipynb","contentType":"file"},{"name":"proyecto2_solucion.ipynb","path":"code/proyecto2_solucion.ipynb","contentType":"file"},{"name":"proyecto3.ipynb","path":"code/proyecto3.ipynb","contentType":"file"},{"name":"proyecto3_sol.ipynb","path":"code/proyecto3_sol.ipynb","contentType":"file"},{"name":"proyecto4.ipynb","path":"code/proyecto4.ipynb","contentType":"file"},{"name":"proyecto4Sol.ipynb","path":"code/proyecto4Sol.ipynb","contentType":"file"},{"name":"proyecto5.ipynb","path":"code/proyecto5.ipynb","contentType":"file"},{"name":"proyecto5sol.ipynb","path":"code/proyecto5sol.ipynb","contentType":"file"},{"name":"proyecto6.ipynb","path":"code/proyecto6.ipynb","contentType":"file"},{"name":"proyecto6Sol.ipynb","path":"code/proyecto6Sol.ipynb","contentType":"file"},{"name":"proyecto7.ipynb","path":"code/proyecto7.ipynb","contentType":"file"},{"name":"proyecto7_sol.ipynb","path":"code/proyecto7_sol.ipynb","contentType":"file"},{"name":"proyecto8.ipynb","path":"code/proyecto8.ipynb","contentType":"file"},{"name":"proyecto8_Sol.ipynb","path":"code/proyecto8_Sol.ipynb","contentType":"file"},{"name":"proyecto_clasificacion.ipynb","path":"code/proyecto_clasificacion.ipynb","contentType":"file"},{"name":"proyecto_regresion.ipynb","path":"code/proyecto_regresion.ipynb","contentType":"file"},{"name":"proyecto_regresion_completado.ipynb","path":"code/proyecto_regresion_completado.ipynb","contentType":"file"},{"name":"scraping_calcula.ipynb","path":"code/scraping_calcula.ipynb","contentType":"file"},{"name":"scraping_catastro.ipynb","path":"code/scraping_catastro.ipynb","contentType":"file"},{"name":"scraping_investing.ipynb","path":"code/scraping_investing.ipynb","contentType":"file"},{"name":"textos.ipynb","path":"code/textos.ipynb","contentType":"file"},{"name":"transformers.ipynb","path":"code/transformers.ipynb","contentType":"file"}],"totalCount":66},"":{"items":[{"name":"code","path":"code","contentType":"directory"},{"name":"data","path":"data","contentType":"directory"},{"name":"img","path":"img","contentType":"directory"},{"name":"LICENSE","path":"LICENSE","contentType":"file"},{"name":"README.md","path":"README.md","contentType":"file"}],"totalCount":5}},"fileTreeProcessingTime":4.924200999999999,"foldersToFetch":[],"incompleteFileTree":false,"repo":{"id":820390304,"defaultBranch":"main","name":"Julio25","ownerLogin":"RafaelCaballero","currentUserCanPush":true,"isFork":false,"isEmpty":false,"createdAt":"2024-06-26T13:24:26.000+02:00","ownerAvatar":"https://avatars.githubusercontent.com/u/6544558?v=4","public":true,"private":false,"isOrgOwned":false},"codeLineWrapEnabled":false,"symbolsExpanded":true,"treeExpanded":false,"refInfo":{"name":"main","listCacheKey":"v0:1719401066.0","canEdit":true,"refType":"branch","currentOid":"9667224d14d6154777bad4133c6c64ebf3495be7","canEditOnDefaultBranch":true,"fileExistsOnDefault":true},"path":"code/17otras_regresiones.ipynb","currentUser":{"id":6544558,"login":"RafaelCaballero","userEmail":"rafacr@ucm.es"},"blob":{"rawLines":["{","  \"cells\": [","    {","      \"cell_type\": \"markdown\",","      \"metadata\": {","        \"id\": \"view-in-github\",","        \"colab_type\": \"text\"","      },","      \"source\": [","        \"\u003ca href=\\\"https://colab.research.google.com/github/RafaelCaballero/Julio25/blob/main/code/17otras_regresiones.ipynb\\\" target=\\\"_parent\\\"\u003e\u003cimg src=\\\"https://colab.research.google.com/assets/colab-badge.svg\\\" alt=\\\"Open In Colab\\\"/\u003e\u003c/a\u003e\"","      ]","    },","    {","      \"cell_type\": \"markdown\",","      \"metadata\": {","        \"id\": \"59cy_yTIHUG2\"","      },","      \"source\": [","        \"# Introducción a la ciencia de datos con Python\\n\",","        \"### Rafa Caballero\\n\",","        \"\\n\",","        \"\\n\",","        \"## Otros métodos de regresión\\n\",","        \"\\n\",","        \"Listamos todos los regresores disponibles\"","      ]","    },","    {","      \"cell_type\": \"code\",","      \"execution_count\": 5,","      \"metadata\": {","        \"id\": \"4yAlWp1rHUG4\",","        \"colab\": {","          \"base_uri\": \"https://localhost:8080/\"","        },","        \"outputId\": \"549eddbd-ea33-45f3-eac3-382c4d0b936e\"","      },","      \"outputs\": [","        {","          \"output_type\": \"stream\",","          \"name\": \"stdout\",","          \"text\": [","            \"ARDRegression\\n\",","            \"AdaBoostRegressor\\n\",","            \"BaggingRegressor\\n\",","            \"BayesianRidge\\n\",","            \"CCA\\n\",","            \"DecisionTreeRegressor\\n\",","            \"DummyRegressor\\n\",","            \"ElasticNet\\n\",","            \"ElasticNetCV\\n\",","            \"ExtraTreeRegressor\\n\",","            \"ExtraTreesRegressor\\n\",","            \"GammaRegressor\\n\",","            \"GaussianProcessRegressor\\n\",","            \"GradientBoostingRegressor\\n\",","            \"HistGradientBoostingRegressor\\n\",","            \"HuberRegressor\\n\",","            \"IsotonicRegression\\n\",","            \"KNeighborsRegressor\\n\",","            \"KernelRidge\\n\",","            \"Lars\\n\",","            \"LarsCV\\n\",","            \"Lasso\\n\",","            \"LassoCV\\n\",","            \"LassoLars\\n\",","            \"LassoLarsCV\\n\",","            \"LassoLarsIC\\n\",","            \"LinearRegression\\n\",","            \"LinearSVR\\n\",","            \"MLPRegressor\\n\",","            \"MultiOutputRegressor\\n\",","            \"MultiTaskElasticNet\\n\",","            \"MultiTaskElasticNetCV\\n\",","            \"MultiTaskLasso\\n\",","            \"MultiTaskLassoCV\\n\",","            \"NuSVR\\n\",","            \"OrthogonalMatchingPursuit\\n\",","            \"OrthogonalMatchingPursuitCV\\n\",","            \"PLSCanonical\\n\",","            \"PLSRegression\\n\",","            \"PassiveAggressiveRegressor\\n\",","            \"PoissonRegressor\\n\",","            \"QuantileRegressor\\n\",","            \"RANSACRegressor\\n\",","            \"RadiusNeighborsRegressor\\n\",","            \"RandomForestRegressor\\n\",","            \"RegressorChain\\n\",","            \"Ridge\\n\",","            \"RidgeCV\\n\",","            \"SGDRegressor\\n\",","            \"SVR\\n\",","            \"StackingRegressor\\n\",","            \"TheilSenRegressor\\n\",","            \"TransformedTargetRegressor\\n\",","            \"TweedieRegressor\\n\",","            \"VotingRegressor\\n\"","          ]","        }","      ],","      \"source\": [","        \"from sklearn.utils  import all_estimators\\n\",","        \"from sklearn import base\\n\",","        \"import warnings\\n\",","        \"warnings.filterwarnings(\\\"ignore\\\")\\n\",","        \"\\n\",","        \"estimators = all_estimators()\\n\",","        \"\\n\",","        \"for name, class_ in estimators:\\n\",","        \"    if issubclass(class_, base.RegressorMixin):\\n\",","        \"        print(name)\"","      ]","    },","    {","      \"cell_type\": \"markdown\",","      \"metadata\": {","        \"id\": \"emcsH_KsHUG5\"","      },","      \"source\": [","        \"Lista de todas las métricas\"","      ]","    },","    {","      \"cell_type\": \"code\",","      \"execution_count\": 6,","      \"metadata\": {","        \"id\": \"a2gBWC6THUG5\",","        \"colab\": {","          \"base_uri\": \"https://localhost:8080/\"","        },","        \"outputId\": \"24b193d9-6549-4349-9e87-cfc9d9062d37\"","      },","      \"outputs\": [","        {","          \"output_type\": \"execute_result\",","          \"data\": {","            \"text/plain\": [","              \"['accuracy',\\n\",","              \" 'adjusted_mutual_info_score',\\n\",","              \" 'adjusted_rand_score',\\n\",","              \" 'average_precision',\\n\",","              \" 'balanced_accuracy',\\n\",","              \" 'completeness_score',\\n\",","              \" 'd2_absolute_error_score',\\n\",","              \" 'explained_variance',\\n\",","              \" 'f1',\\n\",","              \" 'f1_macro',\\n\",","              \" 'f1_micro',\\n\",","              \" 'f1_samples',\\n\",","              \" 'f1_weighted',\\n\",","              \" 'fowlkes_mallows_score',\\n\",","              \" 'homogeneity_score',\\n\",","              \" 'jaccard',\\n\",","              \" 'jaccard_macro',\\n\",","              \" 'jaccard_micro',\\n\",","              \" 'jaccard_samples',\\n\",","              \" 'jaccard_weighted',\\n\",","              \" 'matthews_corrcoef',\\n\",","              \" 'mutual_info_score',\\n\",","              \" 'neg_brier_score',\\n\",","              \" 'neg_log_loss',\\n\",","              \" 'neg_max_error',\\n\",","              \" 'neg_mean_absolute_error',\\n\",","              \" 'neg_mean_absolute_percentage_error',\\n\",","              \" 'neg_mean_gamma_deviance',\\n\",","              \" 'neg_mean_poisson_deviance',\\n\",","              \" 'neg_mean_squared_error',\\n\",","              \" 'neg_mean_squared_log_error',\\n\",","              \" 'neg_median_absolute_error',\\n\",","              \" 'neg_negative_likelihood_ratio',\\n\",","              \" 'neg_root_mean_squared_error',\\n\",","              \" 'neg_root_mean_squared_log_error',\\n\",","              \" 'normalized_mutual_info_score',\\n\",","              \" 'positive_likelihood_ratio',\\n\",","              \" 'precision',\\n\",","              \" 'precision_macro',\\n\",","              \" 'precision_micro',\\n\",","              \" 'precision_samples',\\n\",","              \" 'precision_weighted',\\n\",","              \" 'r2',\\n\",","              \" 'rand_score',\\n\",","              \" 'recall',\\n\",","              \" 'recall_macro',\\n\",","              \" 'recall_micro',\\n\",","              \" 'recall_samples',\\n\",","              \" 'recall_weighted',\\n\",","              \" 'roc_auc',\\n\",","              \" 'roc_auc_ovo',\\n\",","              \" 'roc_auc_ovo_weighted',\\n\",","              \" 'roc_auc_ovr',\\n\",","              \" 'roc_auc_ovr_weighted',\\n\",","              \" 'top_k_accuracy',\\n\",","              \" 'v_measure_score']\"","            ]","          },","          \"metadata\": {},","          \"execution_count\": 6","        }","      ],","      \"source\": [","        \"from sklearn.metrics import get_scorer_names\\n\",","        \"get_scorer_names()\"","      ]","    },","    {","      \"cell_type\": \"markdown\",","      \"metadata\": {","        \"id\": \"bv8FySJVHUG5\"","      },","      \"source\": [","        \"Vamos a probar algunos de estos regresores, sin ajustar hiperparámetros\\n\",","        \"\\n\",","        \"- [LinearRegression](https://scikit-learn.org/stable/modules/generated/sklearn.linear_model.LinearRegression.html): la regresión lineal pura, ya vista\u003cbr\u003e\\n\",","        \"\\n\",","        \"- [GradientBoostingRegressor](https://scikit-learn.org/stable/modules/generated/sklearn.ensemble.GradientBoostingRegressor.html): método iterativo muy configurable, que va mirando hacía donde desciende una función de loss.\\n\",","        \"\\n\",","        \"- [AdaBoostRegressor](https://scikit-learn.org/stable/modules/generated/sklearn.ensemble.AdaBoostRegressor.html): utiliza un regresor, mide el error cometido y lo va adaptando para mejorar\\n\",","        \"\\n\",","        \"- [DecisionTreeRegressor](https://scikit-learn.org/stable/modules/generated/sklearn.tree.DecisionTreeRegressor.html): Método basado en los árboles de decisión\\n\",","        \"\\n\",","        \"- [RadomForestRegressor](https://scikit-learn.org/stable/modules/generated/sklearn.ensemble.RandomForestRegressor.html): Utiliza múltiples árboles de decisión para decidir qué punto ajusta mejor. Muy potente pero bastante lento.\\n\",","        \"\\n\",","        \"- [SVR](https://scikit-learn.org/stable/modules/generated/sklearn.svm.SVR.html) : Epsilon-Support Vector Regression. Basado en support Vector Machines. Un método que no debe usarse para demasiados datos (\u003e10000) puede ser muy lento\u003cbr\u003e\\n\",","        \"\\n\"","      ]","    },","    {","      \"cell_type\": \"code\",","      \"execution_count\": 9,","      \"metadata\": {","        \"id\": \"6Divd2dVHUG5\"","      },","      \"outputs\": [],","      \"source\": [","        \"from sklearn.ensemble import GradientBoostingRegressor\\n\",","        \"from sklearn.ensemble import AdaBoostRegressor\\n\",","        \"from sklearn.ensemble import  RandomForestRegressor\\n\",","        \"from sklearn.linear_model import SGDRegressor\\n\",","        \"from sklearn.linear_model import LinearRegression\\n\",","        \"from sklearn.tree import DecisionTreeRegressor\\n\",","        \"from sklearn.neural_network import MLPRegressor\\n\",","        \"from sklearn.svm import SVR\\n\",","        \"\\n\",","        \"from sklearn.model_selection import cross_val_score\\n\",","        \"\\n\",","        \"from sklearn.model_selection import train_test_split\\n\",","        \"from sklearn.metrics import explained_variance_score, r2_score,mean_squared_error,mean_absolute_error\\n\",","        \"import math\\n\",","        \"\\n\",","        \"def evalua(regresor,X,y,x_train, y_train,x_test,y_test,label=\\\"grafico\\\"):\\n\",","        \"        mod = regresor.fit(x_train,y_train)\\n\",","        \"        y_pred = mod.predict(x_test) # predicciones test\\n\",","        \"\\n\",","        \"        test = x_test.copy()\\n\",","        \"        test['y'] = np.array(y_pred)\\n\",","        \"        test= pd.DataFrame.sort_index(test)\\n\",","        \"\\n\",","        \"\\n\",","        \"        ##############################\\n\",","        \"        # errores\\n\",","        \"        y_true = y_test\\n\",","        \"        rmse =  mean_squared_error(y_true,y_pred)\\n\",","        \"        mae = mean_absolute_error(y_true,y_pred)\\n\",","        \"        fig, ax = plt.subplots(figsize=(10, 4),dpi=100)\\n\",","        \"\\n\",","        \"        ax.scatter(x=X,y=y,color=\\\"green\\\",s=5)\\n\",","        \"        titulo = label+\\\". MAE: %0.2f \\\"%mae+\\\" RMSE %0.2f\\\"%rmse\\n\",","        \"        ax.scatter(x=test['x'],y=test['y'], color='red',s=4,label=label)\\n\",","        \"        plt.title(titulo)\\n\",","        \"        plt.show()\\n\",","        \"        return titulo\\n\",","        \"def muestra(X,y):\\n\",","        \"    metodos = [(\\\"LinearRegression\\\",LinearRegression()),\\n\",","        \"               (\\\"GradientBoostingRegressor\\\",GradientBoostingRegressor()),\\n\",","        \"               (\\\"AdaBoostRegressor\\\",AdaBoostRegressor()),\\n\",","        \"               (\\\"RandomForestRegressor\\\",RandomForestRegressor()),\\n\",","        \"               (\\\"DecisionTreeRegressor\\\",DecisionTreeRegressor()),\\n\",","        \"               (\\\"SVR\\\",SVR())\\n\",","        \"\\n\",","        \"              ]\\n\",","        \"\\n\",","        \"    test = 0.4\\n\",","        \"    X_train, X_test, y_train, y_test = train_test_split(X, y, test_size= test)\\n\",","        \"    report = \\\"\\\"\\n\",","        \"    for i,(nombre,metodo) in enumerate(metodos):\\n\",","        \"        t = evalua(metodo,X,y,X_train, y_train,X_test,y_test,nombre)\\n\",","        \"        report += \\\"\\\\n\\\"+t\\n\",","        \"\\n\",","        \"    print(report)\\n\"","      ]","    },","    {","      \"cell_type\": \"markdown\",","      \"metadata\": {","        \"id\": \"I11xMJqoHUG6\"","      },","      \"source\": [","        \"1.- Regresión lineal \\\"perturbada\\\"\"","      ]","    },","    {","      \"cell_type\": \"code\",","      \"execution_count\": 10,","      \"metadata\": {","        \"id\": \"6iPGwdD7HUG6\",","        \"colab\": {","          \"base_uri\": \"https://localhost:8080/\",","          \"height\": 1000","        },","        \"outputId\": \"cb5415be-d951-49cb-d902-a9acc495429b\"","      },","      \"outputs\": [","        {","          \"output_type\": \"display_data\",","          \"data\": {","            \"text/plain\": [","              \"\u003cFigure size 1000x400 with 1 Axes\u003e\"","            ],","            \"image/png\": \"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\\n\"","          },","          \"metadata\": {}","        },","        {","          \"output_type\": \"display_data\",","          \"data\": {","            \"text/plain\": [","              \"\u003cFigure size 1000x400 with 1 Axes\u003e\"","            ],","            \"image/png\": \"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\\n\"","          },","          \"metadata\": {}","        },","        {","          \"output_type\": \"display_data\",","          \"data\": {","            \"text/plain\": [","              \"\u003cFigure size 1000x400 with 1 Axes\u003e\"","            ],","            \"image/png\": \"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\\n\"","          },","          \"metadata\": {}","        },","        {","          \"output_type\": \"display_data\",","          \"data\": {","            \"text/plain\": [","              \"\u003cFigure size 1000x400 with 1 Axes\u003e\"","            ],","            \"image/png\": \"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\\n\"","          },","          \"metadata\": {}","        },","        {","          \"output_type\": \"display_data\",","          \"data\": {","            \"text/plain\": [","              \"\u003cFigure size 1000x400 with 1 Axes\u003e\"","            ],","            \"image/png\": \"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\\n\"","          },","          \"metadata\": {}","        },","        {","          \"output_type\": \"display_data\",","          \"data\": {","            \"text/plain\": [","              \"\u003cFigure size 1000x400 with 1 Axes\u003e\"","            ],","            \"image/png\": \"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\\n\"","          },","          \"metadata\": {}","        },","        {","          \"output_type\": \"stream\",","          \"name\": \"stdout\",","          \"text\": [","            \"\\n\",","            \"LinearRegression. MAE: 37.64  RMSE 2486.35\\n\",","            \"GradientBoostingRegressor. MAE: 47.47  RMSE 3974.10\\n\",","            \"AdaBoostRegressor. MAE: 40.40  RMSE 2742.68\\n\",","            \"RandomForestRegressor. MAE: 45.18  RMSE 3608.56\\n\",","            \"DecisionTreeRegressor. MAE: 53.58  RMSE 4724.68\\n\",","            \"SVR. MAE: 51.74  RMSE 3873.24\\n\"","          ]","        }","      ],","      \"source\": [","        \"import random\\n\",","        \"import pandas as pd\\n\",","        \"import numpy as np\\n\",","        \"import matplotlib.pyplot as plt\\n\",","        \"from sklearn import preprocessing\\n\",","        \"\\n\",","        \"# genera datos aleatorios alrededor del eje x=y\\n\",","        \"# perturbacion: numero de cambios (sobre 100)\\n\",","        \"# grado: incremento de la perturbacion,\\n\",","        \"# locos: % de valores sin relación con los datos originales\\n\",","        \"def genera_datos(perturbacion=0,rango=0,n=1000,loco=4):\\n\",","        \"    data =  np.array([ [i,2*i+1,0] for i in range(n)])\\n\",","        \"\\n\",","        \"    dataset = pd.DataFrame(data=data[1:,:],    # values\\n\",","        \"                  # 1st column as index\\n\",","        \"                  columns=data[0,:])\\n\",","        \"    df=dataset.astype(float)\\n\",","        \"    df.columns = ['x','y','perturbada']\\n\",","        \"    df['perturbada'] = df['y']\\n\",","        \"    max = np.max(df['y'])\\n\",","        \"    min = np.min(df['y'])\\n\",","        \"    # ahora perturbamos a la perturbada\\n\",","        \"    for i in range(len(df.index)):\\n\",","        \"        valorloco = random.randrange(100)\u003c=loco\\n\",","        \"        if valorloco:\\n\",","        \"            df.iloc[i,2] = random.randrange(min,max)\\n\",","        \"        else:\\n\",","        \"            valor = random.randrange(100)\\n\",","        \"\\n\",","        \"            hayquepertubar =  valor\u003c=perturbacion\\n\",","        \"            #print(valor,perturbacion,hayquepertubar)\\n\",","        \"            if hayquepertubar:\\n\",","        \"                cuanto = random.randrange(rango)\\n\",","        \"                if random.randrange(2)==0:\\n\",","        \"                     cuanto *= -1\\n\",","        \"                df.iloc[i,2] =  df.iloc[i,1]+cuanto\\n\",","        \"\\n\",","        \"    return df\\n\",","        \"\\n\",","        \"df = genera_datos(perturbacion=85,rango=50,n=100, loco=15)\\n\",","        \"\\n\",","        \"\\n\",","        \"# tamaño del testo: 0.2\\n\",","        \"X = df['x'].to_frame()\\n\",","        \"y = df['perturbada'].to_frame()\\n\",","        \"\\n\",","        \"muestra(X,y)\"","      ]","    },","    {","      \"cell_type\": \"markdown\",","      \"metadata\": {","        \"id\": \"tvbOaB2NHUG6\"","      },","      \"source\": [","        \"2.- \\\"Látigo\\\"\"","      ]","    },","    {","      \"cell_type\": \"code\",","      \"execution_count\": null,","      \"metadata\": {","        \"id\": \"uzAA7zeZHUG6\"","      },","      \"outputs\": [],","      \"source\": [","        \"import math\\n\",","        \"import numpy as np\\n\",","        \"\\n\",","        \"n = 20\\n\",","        \"data =  np.array([ [i,math.sin(i)*i] for i in np.arange(0,n,0.1)])\\n\",","        \"\\n\",","        \"dataset = pd.DataFrame(data=data,    # values\\n\",","        \"                  # 1st column as index\\n\",","        \"                  columns=['x','y'])\\n\",","        \"df=dataset.astype(float)\\n\",","        \"X = df['x'].to_frame()\\n\",","        \"y = df['y'].to_frame()\\n\",","        \"\\n\",","        \"\\n\",","        \"muestra(X,y)\"","      ]","    },","    {","      \"cell_type\": \"markdown\",","      \"metadata\": {","        \"id\": \"tU_I7TaPHUG6\"","      },","      \"source\": [","        \"3.- Función salto\"","      ]","    },","    {","      \"cell_type\": \"code\",","      \"execution_count\": null,","      \"metadata\": {","        \"id\": \"ER7XC7keHUG6\"","      },","      \"outputs\": [],","      \"source\": [","        \"n = 200\\n\",","        \"data1 =  [ [i,10] for i in range(n)]\\n\",","        \"data2 =  [ [i,100] for i in range(n,n*2)]\\n\",","        \"\\n\",","        \"\\n\",","        \"dataset = pd.DataFrame(data=data1+data2,    # values\\n\",","        \"                  # 1st column as index\\n\",","        \"                  columns=data[0,:])\\n\",","        \"df=dataset.astype(float)\\n\",","        \"df.columns = ['x','y']\\n\",","        \"X = df['x'].to_frame()\\n\",","        \"y = df['y'].to_frame()\\n\",","        \"\\n\",","        \"\\n\",","        \"muestra(X,y)\"","      ]","    },","    {","      \"cell_type\": \"markdown\",","      \"metadata\": {","        \"id\": \"2RE5VqvtHUG7\"","      },","      \"source\": [","        \"4.- Semicírculo\"","      ]","    },","    {","      \"cell_type\": \"code\",","      \"execution_count\": null,","      \"metadata\": {","        \"id\": \"PnbIGrBuHUG7\"","      },","      \"outputs\": [],","      \"source\": [","        \"n = 20\\n\",","        \"data1 =  [ [x,y] for x in np.arange(10,n,0.1) for y in np.arange(10,n,0.1) if (x*x+y*y)\u003cn*n and (x*x+y*y)\u003en*(n-1)]\\n\",","        \"\\n\",","        \"\\n\",","        \"\\n\",","        \"dataset = pd.DataFrame(data=data1,    # values\\n\",","        \"                  # 1st column as index\\n\",","        \"                  columns=data[0,:])\\n\",","        \"df=dataset.astype(float)\\n\",","        \"df.columns = ['x','y']\\n\",","        \"X = df['x'].to_frame()\\n\",","        \"y = df['y'].to_frame()\\n\",","        \"\\n\",","        \"\\n\",","        \"muestra(X,y)\"","      ]","    },","    {","      \"cell_type\": \"code\",","      \"execution_count\": null,","      \"metadata\": {","        \"id\": \"j8LQATtkHUG7\"","      },","      \"outputs\": [],","      \"source\": []","    },","    {","      \"cell_type\": \"code\",","      \"execution_count\": null,","      \"metadata\": {","        \"id\": \"iRNyXfCHHUG7\"","      },","      \"outputs\": [],","      \"source\": []","    }","  ],","  \"metadata\": {","    \"kernelspec\": {","      \"display_name\": \"Python 3 (ipykernel)\",","      \"language\": \"python\",","      \"name\": \"python3\"","    },","    \"language_info\": {","      \"codemirror_mode\": {","        \"name\": \"ipython\",","        \"version\": 3","      },","      \"file_extension\": \".py\",","      \"mimetype\": \"text/x-python\",","      \"name\": \"python\",","      \"nbconvert_exporter\": \"python\",","      \"pygments_lexer\": \"ipython3\",","      \"version\": \"3.9.12\"","    },","    \"colab\": {","      \"provenance\": [],","      \"include_colab_link\": true","    }","  },","  \"nbformat\": 4,","  \"nbformat_minor\": 0","}"],"stylingDirectives":null,"colorizedLines":null,"csv":null,"csvError":null,"copilotSWEAgentEnabled":false,"dependabotInfo":{"showConfigurationBanner":false,"configFilePath":null,"networkDependabotPath":"/RafaelCaballero/Julio25/network/updates","dismissConfigurationNoticePath":"/settings/dismiss-notice/dependabot_configuration_notice","configurationNoticeDismissed":false},"displayName":"17otras_regresiones.ipynb","displayUrl":"https://notebooks.githubusercontent.com/view/ipynb?browser=chrome\u0026bypass_fastly=true\u0026color_mode=dark\u0026commit=9667224d14d6154777bad4133c6c64ebf3495be7\u0026device=unknown_device\u0026docs_host=https%3A%2F%2Fdocs.github.com\u0026enc_url=68747470733a2f2f7261772e67697468756275736572636f6e74656e742e636f6d2f52616661656c436162616c6c65726f2f4a756c696f32352f393636373232346431346436313534373737626164343133336336633634656266333439356265372f636f64652f31376f747261735f726567726573696f6e65732e6970796e62\u0026link_underline_enabled=true\u0026logged_in=true\u0026nwo=RafaelCaballero%2FJulio25\u0026path=code%2F17otras_regresiones.ipynb\u0026platform=windows\u0026repository_id=820390304\u0026repository_type=Repository\u0026version=140","headerInfo":{"blobSize":"174 KB","deleteTooltip":"Delete this file","editTooltip":"Edit this file","ghDesktopPath":"https://desktop.github.com","isGitLfs":false,"onBranch":true,"shortPath":"864dcb0","siteNavLoginPath":"/login?return_to=https%3A%2F%2Fgithub.com%2FRafaelCaballero%2FJulio25%2Fblob%2Fmain%2Fcode%2F17otras_regresiones.ipynb","isCSV":false,"isRichtext":false,"toc":null,"lineInfo":{"truncatedLoc":"583","truncatedSloc":"583"},"mode":"file"},"image":false,"isCodeownersFile":null,"isPlain":false,"isValidLegacyIssueTemplate":false,"issueTemplate":null,"discussionTemplate":null,"language":"Jupyter Notebook","languageID":185,"large":false,"planSupportInfo":{"repoIsFork":null,"repoOwnedByCurrentUser":null,"requestFullPath":"/RafaelCaballero/Julio25/blob/main/code/17otras_regresiones.ipynb","showFreeOrgGatedFeatureMessage":null,"showPlanSupportBanner":null,"upgradeDataAttributes":null,"upgradePath":null},"publishBannersInfo":{"dismissActionNoticePath":"/settings/dismiss-notice/publish_action_from_dockerfile","releasePath":"/RafaelCaballero/Julio25/releases/new?marketplace=true","showPublishActionBanner":false},"rawBlobUrl":"https://github.com/RafaelCaballero/Julio25/raw/refs/heads/main/code/17otras_regresiones.ipynb","renderImageOrRaw":false,"richText":null,"renderedFileInfo":{"identityUUID":"5e105094-a86e-41f2-a949-5d5cdceab1e9","renderFileType":"ipynb","size":178214},"shortPath":null,"symbolsEnabled":true,"tabSize":4,"topBannersInfo":{"overridingGlobalFundingFile":false,"globalPreferredFundingPath":null,"showInvalidCitationWarning":false,"citationHelpUrl":"https://docs.github.com/github/creating-cloning-and-archiving-repositories/creating-a-repository-on-github/about-citation-files","actionsOnboardingTip":null},"truncated":false,"viewable":true,"workflowRedirectUrl":null,"symbols":{"timed_out":false,"not_analyzed":true,"symbols":[]}},"copilotInfo":{"documentationUrl":"https://docs.github.com/copilot/overview-of-github-copilot/about-github-copilot-for-business","notices":{"codeViewPopover":{"dismissed":false,"dismissPath":"/settings/dismiss-notice/code_view_copilot_popover"}},"userAccess":{"hasSubscriptionEnded":false,"orgHasCFBAccess":false,"userHasCFIAccess":false,"userHasOrgs":true,"userIsOrgAdmin":false,"userIsOrgMember":false,"business":null,"featureRequestInfo":null}},"copilotAccessAllowed":false,"modelsAccessAllowed":false,"modelsRepoIntegrationEnabled":false,"isMarketplaceEnabled":true,"csrf_tokens":{"/RafaelCaballero/Julio25/branches":{"post":"yfG3nvZodPY2OjJraQPJMp5OgQWH5tMcZcRTaMLd8vI7VBskoMq03kTerE16km1ArIV2JT2FxcIAsQk4q-i8vA"},"/repos/preferences":{"post":"ydhhBCPN_Hg3AxXXzx00efqr6gdlZh0RupXHUwEIVbhe3C-NOI2VM2p7gXdDpzH7a8LzFej3dmzCXvbSHJM5Mw"}}},"title":"Julio25/code/17otras_regresiones.ipynb at main · RafaelCaballero/Julio25","appPayload":{"helpUrl":"https://docs.github.com","findFileWorkerPath":"/assets-cdn/worker/find-file-worker-9bd411a8e273.js","findInFileWorkerPath":"/assets-cdn/worker/find-in-file-worker-410714137fc9.js","githubDevUrl":"https://github.dev/","enabled_features":{"code_nav_ui_events":false,"react_blob_overlay":true,"accessible_code_button":true}}}</script>
  <div data-target="react-app.reactRoot"><style data-styled="true" data-styled-version="5.3.11">.gISSDQ{width:100%;}/*!sc*/
@media screen and (min-width:544px){.gISSDQ{width:100%;}}/*!sc*/
@media screen and (min-width:768px){.gISSDQ{width:auto;}}/*!sc*/
.fFMzrG{position:absolute;inset:0 -2px;cursor:col-resize;background-color:transparent;-webkit-transition-delay:0.1s;transition-delay:0.1s;}/*!sc*/
.fFMzrG:hover{background-color:var(--bgColor-neutral-muted,var(--color-neutral-muted,rgba(110,118,129,0.4)));}/*!sc*/
.leYMvG{margin-left:auto;margin-right:auto;-webkit-flex-direction:column;-ms-flex-direction:column;flex-direction:column;padding-bottom:40px;max-width:100%;margin-top:0;}/*!sc*/
.KMPzq{display:inherit;}/*!sc*/
.hKaEJF{display:block;margin-right:8px;}/*!sc*/
@media screen and (min-width:1360px){.hKaEJF{display:block;}}/*!sc*/
.cEytCf{display:-webkit-box;display:-webkit-flex;display:-ms-flexbox;display:flex;-webkit-flex-direction:row;-ms-flex-direction:row;flex-direction:row;font-size:16px;min-width:0;-webkit-flex-shrink:1;-ms-flex-negative:1;flex-shrink:1;-webkit-flex-wrap:wrap;-ms-flex-wrap:wrap;flex-wrap:wrap;max-width:100%;-webkit-align-items:center;-webkit-box-align:center;-ms-flex-align:center;align-items:center;}/*!sc*/
.fzFXnm{max-width:100%;}/*!sc*/
.iMnkmv{max-width:100%;list-style:none;display:inline-block;}/*!sc*/
.ghzDag{display:inline-block;max-width:100%;}/*!sc*/
.kHuKdh{font-weight:600;}/*!sc*/
.hXyrdx{padding-left:4px;padding-right:4px;font-weight:400;color:var(--fgColor-muted,var(--color-fg-muted,#848d97));font-size:16px;}/*!sc*/
.kgiVEz{font-weight:400;}/*!sc*/
.jGhzSQ{font-weight:600;display:inline-block;max-width:100%;font-size:16px;}/*!sc*/
.fjrFuv[data-size="medium"][data-no-visuals]{display:none;}/*!sc*/
.gUkoLg{-webkit-box-pack:center;-webkit-justify-content:center;-ms-flex-pack:center;justify-content:center;}/*!sc*/
.dJxjrT{margin-left:16px;margin-right:16px;}/*!sc*/
.ldRxiI{display:-webkit-box;display:-webkit-flex;display:-ms-flexbox;display:flex;-webkit-flex-direction:row;-ms-flex-direction:row;flex-direction:row;}/*!sc*/
.fVkfyA{width:100%;height:-webkit-fit-content;height:-moz-fit-content;height:fit-content;min-width:0;margin-right:0;}/*!sc*/
.gNAmSV{height:40px;padding-left:4px;padding-bottom:16px;}/*!sc*/
.jlVuVO[data-size="small"]{color:var(--fgColor-default,var(--color-fg-default,#e6edf3));display:none;}/*!sc*/
@media screen and (min-width:544px){.jlVuVO[data-size="small"]{display:none;}}/*!sc*/
@media screen and (min-width:768px){.jlVuVO[data-size="small"]{display:none;}}/*!sc*/
@media screen and (min-width:1012px){.jlVuVO[data-size="small"]{display:none;}}/*!sc*/
@media screen and (min-width:1280px){.jlVuVO[data-size="small"]{display:block;}}/*!sc*/
.jdLMhu{top:0px;z-index:4;background:var(--bgColor-default,var(--color-canvas-default));position:-webkit-sticky;position:sticky;}/*!sc*/
.hqwSEx{display:none;min-width:0;padding-top:8px;padding-bottom:8px;}/*!sc*/
.fHind{display:-webkit-box;display:-webkit-flex;display:-ms-flexbox;display:flex;-webkit-flex-direction:row;-ms-flex-direction:row;flex-direction:row;font-size:14px;min-width:0;-webkit-flex-shrink:1;-ms-flex-negative:1;flex-shrink:1;-webkit-flex-wrap:wrap;-ms-flex-wrap:wrap;flex-wrap:wrap;max-width:100%;-webkit-align-items:center;-webkit-box-align:center;-ms-flex-align:center;align-items:center;}/*!sc*/
.bQeXnn{padding-left:4px;padding-right:4px;font-weight:400;color:var(--fgColor-muted,var(--color-fg-muted,#848d97));font-size:14px;}/*!sc*/
.dnZoUW{font-weight:600;display:inline-block;max-width:100%;font-size:14px;}/*!sc*/
.gFKFyc{border-radius:6px 6px 0px 0px;}/*!sc*/
.lefpaC linkButtonSx:hover:not([disabled]){-webkit-text-decoration:none;text-decoration:none;}/*!sc*/
.lefpaC linkButtonSx:focus:not([disabled]){-webkit-text-decoration:none;text-decoration:none;}/*!sc*/
.lefpaC linkButtonSx:active:not([disabled]){-webkit-text-decoration:none;text-decoration:none;}/*!sc*/
.ivobqY[data-size="small"][data-no-visuals]{border-top-left-radius:0;border-bottom-left-radius:0;}/*!sc*/
.iCOsHh[data-size="small"][data-no-visuals]:hover:not([disabled]){-webkit-text-decoration:none;text-decoration:none;}/*!sc*/
.iCOsHh[data-size="small"][data-no-visuals]:focus:not([disabled]){-webkit-text-decoration:none;text-decoration:none;}/*!sc*/
.iCOsHh[data-size="small"][data-no-visuals]:active:not([disabled]){-webkit-text-decoration:none;text-decoration:none;}/*!sc*/
.hycJXc{border:1px solid;border-top:none;border-color:var(--borderColor-default,var(--color-border-default,#30363d));border-radius:0px 0px 6px 6px;min-width:273px;}/*!sc*/
.iWAocR{background-color:var(--bgColor-default,var(--color-canvas-default));border:0px;border-width:0;border-radius:0px 0px 6px 6px;padding:0;min-width:0;margin-top:46px;overflow:auto;}/*!sc*/
.cCoXib{position:fixed;top:0;right:0;height:100%;width:15px;-webkit-transition:-webkit-transform 0.3s;-webkit-transition:transform 0.3s;transition:transform 0.3s;z-index:1;}/*!sc*/
.cCoXib:hover{-webkit-transform:scaleX(1.5);-ms-transform:scaleX(1.5);transform:scaleX(1.5);}/*!sc*/
.fgsa-DI{display:-webkit-box;display:-webkit-flex;display:-ms-flexbox;display:flex;-webkit-flex-direction:column;-ms-flex-direction:column;flex-direction:column;-webkit-align-items:center;-webkit-box-align:center;-ms-flex-align:center;align-items:center;padding-top:16px;padding-bottom:16px;}/*!sc*/
data-styled.g1[id="Box-sc-g0xbh4-0"]{content:"gISSDQ,fFMzrG,leYMvG,KMPzq,hKaEJF,cEytCf,fzFXnm,iMnkmv,ghzDag,kHuKdh,hXyrdx,kgiVEz,jGhzSQ,fjrFuv,gUkoLg,dJxjrT,ldRxiI,fVkfyA,gNAmSV,jlVuVO,jdLMhu,hqwSEx,fHind,bQeXnn,dnZoUW,gFKFyc,lefpaC,ivobqY,iCOsHh,hycJXc,iWAocR,cCoXib,fgsa-DI,"}/*!sc*/
.fiSvBN{position:relative;display:inline-block;}/*!sc*/
.fiSvBN::after{position:absolute;z-index:1000000;display:none;padding:0.5em 0.75em;font:normal normal 11px/1.5 -apple-system,BlinkMacSystemFont,"Segoe UI","Noto Sans",Helvetica,Arial,sans-serif,"Apple Color Emoji","Segoe UI Emoji";-webkit-font-smoothing:subpixel-antialiased;color:var(--tooltip-fgColor,var(--fgColor-onEmphasis,var(--color-fg-on-emphasis,#ffffff)));text-align:center;-webkit-text-decoration:none;text-decoration:none;text-shadow:none;text-transform:none;-webkit-letter-spacing:normal;-moz-letter-spacing:normal;-ms-letter-spacing:normal;letter-spacing:normal;word-wrap:break-word;white-space:pre;pointer-events:none;content:attr(aria-label);background:var(--tooltip-bgColor,var(--bgColor-emphasis,var(--color-neutral-emphasis-plus,#6e7681)));border-radius:6px;opacity:0;}/*!sc*/
@-webkit-keyframes tooltip-appear{from{opacity:0;}to{opacity:1;}}/*!sc*/
@keyframes tooltip-appear{from{opacity:0;}to{opacity:1;}}/*!sc*/
.fiSvBN:hover::after,.fiSvBN:active::after,.fiSvBN:focus::after,.fiSvBN:focus-within::after{display:inline-block;-webkit-text-decoration:none;text-decoration:none;-webkit-animation-name:tooltip-appear;animation-name:tooltip-appear;-webkit-animation-duration:0.1s;animation-duration:0.1s;-webkit-animation-fill-mode:forwards;animation-fill-mode:forwards;-webkit-animation-timing-function:ease-in;animation-timing-function:ease-in;-webkit-animation-delay:0s;animation-delay:0s;}/*!sc*/
.fiSvBN.tooltipped-no-delay:hover::after,.fiSvBN.tooltipped-no-delay:active::after,.fiSvBN.tooltipped-no-delay:focus::after,.fiSvBN.tooltipped-no-delay:focus-within::after{-webkit-animation-delay:0s;animation-delay:0s;}/*!sc*/
.fiSvBN.tooltipped-multiline:hover::after,.fiSvBN.tooltipped-multiline:active::after,.fiSvBN.tooltipped-multiline:focus::after,.fiSvBN.tooltipped-multiline:focus-within::after{display:table-cell;}/*!sc*/
.fiSvBN.tooltipped-s::after,.fiSvBN.tooltipped-se::after,.fiSvBN.tooltipped-sw::after{top:100%;right:50%;margin-top:6px;}/*!sc*/
.fiSvBN.tooltipped-se::after{right:auto;left:50%;margin-left:-16px;}/*!sc*/
.fiSvBN.tooltipped-sw::after{margin-right:-16px;}/*!sc*/
.fiSvBN.tooltipped-n::after,.fiSvBN.tooltipped-ne::after,.fiSvBN.tooltipped-nw::after{right:50%;bottom:100%;margin-bottom:6px;}/*!sc*/
.fiSvBN.tooltipped-ne::after{right:auto;left:50%;margin-left:-16px;}/*!sc*/
.fiSvBN.tooltipped-nw::after{margin-right:-16px;}/*!sc*/
.fiSvBN.tooltipped-s::after,.fiSvBN.tooltipped-n::after{-webkit-transform:translateX(50%);-ms-transform:translateX(50%);transform:translateX(50%);}/*!sc*/
.fiSvBN.tooltipped-w::after{right:100%;bottom:50%;margin-right:6px;-webkit-transform:translateY(50%);-ms-transform:translateY(50%);transform:translateY(50%);}/*!sc*/
.fiSvBN.tooltipped-e::after{bottom:50%;left:100%;margin-left:6px;-webkit-transform:translateY(50%);-ms-transform:translateY(50%);transform:translateY(50%);}/*!sc*/
.fiSvBN.tooltipped-multiline::after{width:-webkit-max-content;width:-moz-max-content;width:max-content;max-width:250px;word-wrap:break-word;white-space:pre-line;border-collapse:separate;}/*!sc*/
.fiSvBN.tooltipped-multiline.tooltipped-s::after,.fiSvBN.tooltipped-multiline.tooltipped-n::after{right:auto;left:50%;-webkit-transform:translateX(-50%);-ms-transform:translateX(-50%);transform:translateX(-50%);}/*!sc*/
.fiSvBN.tooltipped-multiline.tooltipped-w::after,.fiSvBN.tooltipped-multiline.tooltipped-e::after{right:100%;}/*!sc*/
.fiSvBN.tooltipped-align-right-2::after{right:0;margin-right:0;}/*!sc*/
.fiSvBN.tooltipped-align-left-2::after{left:0;margin-left:0;}/*!sc*/
data-styled.g4[id="Tooltip__TooltipBase-sc-17tf59c-0"]{content:"fiSvBN,"}/*!sc*/
</style><meta data-hydrostats="publish"/> <!-- --> <!-- --> <button hidden="" data-testid="header-permalink-button" data-hotkey-scope="read-only-cursor-text-area"></button><button hidden=""></button><div><div style="--spacing:var(--spacing-none)" class="prc-PageLayout-PageLayoutRoot-1zlEO"><div class="prc-PageLayout-PageLayoutWrapper-s2ao4" data-width="full"><div class="prc-PageLayout-PageLayoutContent-jzDMn"><div tabindex="0" class="Box-sc-g0xbh4-0 gISSDQ"><div class="prc-PageLayout-PaneWrapper-nGO0U ReposFileTreePane-module__Pane--D26Sw ReposFileTreePane-module__HideTree--IyYTf ReposFileTreePane-module__HidePaneWithTreeOverlay--CJn2n" style="--offset-header:0px;--spacing-row:var(--spacing-none);--spacing-column:var(--spacing-none)" data-is-hidden="false" data-position="start" data-sticky="true"><div class="prc-PageLayout-HorizontalDivider-CYLp5 prc-PageLayout-PaneHorizontalDivider-4exOb" data-variant="none" data-position="start" style="--spacing-divider:var(--spacing-none);--spacing:var(--spacing-none)"></div><div class="prc-PageLayout-Pane-Vl5LI" data-resizable="true" style="--spacing:var(--spacing-none);--pane-min-width:256px;--pane-max-width:calc(100vw - var(--pane-max-width-diff));--pane-width-size:var(--pane-width-large);--pane-width:320px"></div><div class="prc-PageLayout-VerticalDivider-4A4Qm prc-PageLayout-PaneVerticalDivider-1c9vy" data-variant="none" data-position="start" style="--spacing:var(--spacing-none)"><div role="slider" aria-label="Draggable pane splitter" aria-valuemin="0" aria-valuemax="0" aria-valuenow="0" aria-valuetext="Pane width 0 pixels" tabindex="0" class="Box-sc-g0xbh4-0 fFMzrG"></div></div></div></div><div class="prc-PageLayout-ContentWrapper-b-QRo CodeView-module__SplitPageLayout_Content--qxR1C" data-is-hidden="false"><div class="prc-PageLayout-Content--F7-I" data-width="full" style="--spacing:var(--spacing-none)"><div data-selector="repos-split-pane-content" tabindex="0" class="Box-sc-g0xbh4-0 leYMvG"><div class="Box-sc-g0xbh4-0 KMPzq"><div class="container CodeViewHeader-module__Box--PofRM"><div class="px-3 pt-3 pb-0" id="StickyHeader"><div class="CodeViewHeader-module__Box_1--KpLzV"><div class="CodeViewHeader-module__Box_2--xzDOt"><div class="react-code-view-header-wrap--narrow CodeViewHeader-module__Box_3--WnQ2n"><div class="Box-sc-g0xbh4-0 hKaEJF"><h2 class="use-tree-pane-module__Heading--iI_ad prc-Heading-Heading-6CmGO"><button type="button" aria-label="Expand file tree" data-testid="expand-file-tree-button-mobile" class="prc-Button-ButtonBase-c50BI ExpandFileTreeButton-module__Button_1--g8F6Q" data-loading="false" data-size="medium" data-variant="invisible" aria-describedby=":R5b9lab:-loading-announcement"><span data-component="buttonContent" data-align="center" class="prc-Button-ButtonContent-HKbr-"><span data-component="leadingVisual" class="prc-Button-Visual-2epfX prc-Button-VisualWrap-Db-eB"><svg aria-hidden="true" focusable="false" class="octicon octicon-arrow-left" viewBox="0 0 16 16" width="16" height="16" fill="currentColor" display="inline-block" overflow="visible" style="vertical-align:text-bottom"><path d="M7.78 12.53a.75.75 0 0 1-1.06 0L2.47 8.28a.75.75 0 0 1 0-1.06l4.25-4.25a.751.751 0 0 1 1.042.018.751.751 0 0 1 .018 1.042L4.81 7h7.44a.75.75 0 0 1 0 1.5H4.81l2.97 2.97a.75.75 0 0 1 0 1.06Z"></path></svg></span><span data-component="text" class="prc-Button-Label-pTQ3x">Files</span></span></button><button data-component="IconButton" type="button" data-testid="expand-file-tree-button" aria-expanded="false" aria-controls="repos-file-tree" class="prc-Button-ButtonBase-c50BI position-relative ExpandFileTreeButton-module__expandButton--oKI1R ExpandFileTreeButton-module__filesButtonBreakpoint--03FKA fgColor-muted prc-Button-IconButton-szpyj" data-loading="false" data-no-visuals="true" data-size="medium" data-variant="invisible" aria-describedby=":R1pb9lab:-loading-announcement" aria-labelledby=":R9b9lab:"><svg aria-hidden="true" focusable="false" class="octicon octicon-sidebar-collapse" viewBox="0 0 16 16" width="16" height="16" fill="currentColor" display="inline-block" overflow="visible" style="vertical-align:text-bottom"><path d="M6.823 7.823a.25.25 0 0 1 0 .354l-2.396 2.396A.25.25 0 0 1 4 10.396V5.604a.25.25 0 0 1 .427-.177Z"></path><path d="M1.75 0h12.5C15.216 0 16 .784 16 1.75v12.5A1.75 1.75 0 0 1 14.25 16H1.75A1.75 1.75 0 0 1 0 14.25V1.75C0 .784.784 0 1.75 0ZM1.5 1.75v12.5c0 .138.112.25.25.25H9.5v-13H1.75a.25.25 0 0 0-.25.25ZM11 14.5h3.25a.25.25 0 0 0 .25-.25V1.75a.25.25 0 0 0-.25-.25H11Z"></path></svg></button><span class="prc-TooltipV2-Tooltip-cYMVY" data-direction="se" aria-hidden="true" id=":R9b9lab:">Expand file tree</span><button hidden="" data-testid="" data-hotkey-scope="read-only-cursor-text-area"></button></h2></div><div class="react-code-view-header-mb--narrow mr-2"><button type="button" aria-haspopup="true" aria-expanded="false" tabindex="0" aria-label="main branch" data-testid="anchor-button" class="prc-Button-ButtonBase-c50BI ref-selector-class RefSelectorAnchoredOverlay-module__RefSelectorOverlayBtn--D34zl" data-loading="false" data-size="medium" data-variant="default" aria-describedby="ref-picker-repos-header-ref-selector-wide-loading-announcement" id="ref-picker-repos-header-ref-selector-wide"><span data-component="buttonContent" data-align="center" class="prc-Button-ButtonContent-HKbr-"><span data-component="text" class="prc-Button-Label-pTQ3x"><div class="RefSelectorAnchoredOverlay-module__RefSelectorOverlayContainer--mCbv8"><div class="RefSelectorAnchoredOverlay-module__RefSelectorOverlayHeader--D4cnZ"><svg aria-hidden="true" focusable="false" class="octicon octicon-git-branch" viewBox="0 0 16 16" width="16" height="16" fill="currentColor" display="inline-block" overflow="visible" style="vertical-align:text-bottom"><path d="M9.5 3.25a2.25 2.25 0 1 1 3 2.122V6A2.5 2.5 0 0 1 10 8.5H6a1 1 0 0 0-1 1v1.128a2.251 2.251 0 1 1-1.5 0V5.372a2.25 2.25 0 1 1 1.5 0v1.836A2.493 2.493 0 0 1 6 7h4a1 1 0 0 0 1-1v-.628A2.25 2.25 0 0 1 9.5 3.25Zm-6 0a.75.75 0 1 0 1.5 0 .75.75 0 0 0-1.5 0Zm8.25-.75a.75.75 0 1 0 0 1.5.75.75 0 0 0 0-1.5ZM4.25 12a.75.75 0 1 0 0 1.5.75.75 0 0 0 0-1.5Z"></path></svg></div><div style="max-width:125px" class="ref-selector-button-text-container RefSelectorAnchoredOverlay-module__RefSelectorBtnTextContainer--yO402"><span class="RefSelectorAnchoredOverlay-module__RefSelectorText--bxVhQ"> <!-- -->main</span></div></div></span><span data-component="trailingVisual" class="prc-Button-Visual-2epfX prc-Button-VisualWrap-Db-eB"><svg aria-hidden="true" focusable="false" class="octicon octicon-triangle-down" viewBox="0 0 16 16" width="16" height="16" fill="currentColor" display="inline-block" overflow="visible" style="vertical-align:text-bottom"><path d="m4.427 7.427 3.396 3.396a.25.25 0 0 0 .354 0l3.396-3.396A.25.25 0 0 0 11.396 7H4.604a.25.25 0 0 0-.177.427Z"></path></svg></span></span></button><button hidden="" data-testid="ref-selector-hotkey-button" data-hotkey-scope="read-only-cursor-text-area"></button></div><div class="react-code-view-header-mb--narrow CodeViewHeader-module__Box_5--KeXxF"><div class="Box-sc-g0xbh4-0 cEytCf"><nav data-testid="breadcrumbs" aria-labelledby="repos-header-breadcrumb-heading" id="repos-header-breadcrumb" class="Box-sc-g0xbh4-0 fzFXnm"><h2 class="sr-only ScreenReaderHeading-module__userSelectNone--vlUbc prc-Heading-Heading-6CmGO" data-testid="screen-reader-heading" id="repos-header-breadcrumb-heading">Breadcrumbs</h2><ol class="Box-sc-g0xbh4-0 iMnkmv"><li class="Box-sc-g0xbh4-0 ghzDag"><a class="Box-sc-g0xbh4-0 kHuKdh prc-Link-Link-85e08" sx="[object Object]" data-testid="breadcrumbs-repo-link" href="/RafaelCaballero/Julio25/tree/main" data-discover="true">Julio25</a></li><li class="Box-sc-g0xbh4-0 ghzDag"><span class="Box-sc-g0xbh4-0 hXyrdx prc-Text-Text-0ima0" aria-hidden="true">/</span><a class="Box-sc-g0xbh4-0 kgiVEz prc-Link-Link-85e08" sx="[object Object]" href="/RafaelCaballero/Julio25/tree/main/code" data-discover="true">code</a></li></ol></nav><div data-testid="breadcrumbs-filename" class="Box-sc-g0xbh4-0 ghzDag"><span class="Box-sc-g0xbh4-0 hXyrdx prc-Text-Text-0ima0" aria-hidden="true">/</span><h1 class="Box-sc-g0xbh4-0 jGhzSQ prc-Heading-Heading-6CmGO" tabindex="-1" id="file-name-id">17otras_regresiones.ipynb</h1></div><button data-component="IconButton" type="button" class="prc-Button-ButtonBase-c50BI ml-2 prc-Button-IconButton-szpyj" data-loading="false" data-no-visuals="true" data-size="small" data-variant="invisible" aria-describedby=":R3vb9lab:-loading-announcement" aria-labelledby=":Rfb9lab:"><svg aria-hidden="true" focusable="false" class="octicon octicon-copy" viewBox="0 0 16 16" width="16" height="16" fill="currentColor" display="inline-block" overflow="visible" style="vertical-align:text-bottom"><path d="M0 6.75C0 5.784.784 5 1.75 5h1.5a.75.75 0 0 1 0 1.5h-1.5a.25.25 0 0 0-.25.25v7.5c0 .138.112.25.25.25h7.5a.25.25 0 0 0 .25-.25v-1.5a.75.75 0 0 1 1.5 0v1.5A1.75 1.75 0 0 1 9.25 16h-7.5A1.75 1.75 0 0 1 0 14.25Z"></path><path d="M5 1.75C5 .784 5.784 0 6.75 0h7.5C15.216 0 16 .784 16 1.75v7.5A1.75 1.75 0 0 1 14.25 11h-7.5A1.75 1.75 0 0 1 5 9.25Zm1.75-.25a.25.25 0 0 0-.25.25v7.5c0 .138.112.25.25.25h7.5a.25.25 0 0 0 .25-.25v-7.5a.25.25 0 0 0-.25-.25Z"></path></svg></button><span class="CopyToClipboardButton-module__tooltip--HDUYz prc-TooltipV2-Tooltip-cYMVY" data-direction="nw" aria-label="Copy path" aria-hidden="true" id=":Rfb9lab:">Copy path</span></div></div></div><div class="react-code-view-header-element--wide"><div class="CodeViewHeader-module__Box_7--FZfkg"><div class="d-flex gap-2"> <div><div class="Box-sc-g0xbh4-0 CodeViewHeader-module__FileResultsList--bglyC"><span class="d-flex FileResultsList-module__FilesSearchBox--fSAh3 TextInput-wrapper prc-components-TextInputWrapper-i1ofR prc-components-TextInputBaseWrapper-ueK9q" data-leading-visual="true" data-trailing-visual="true" aria-busy="false"><span class="TextInput-icon" id=":R2phj9lab:" aria-hidden="true"><svg aria-hidden="true" focusable="false" class="octicon octicon-search" viewBox="0 0 16 16" width="16" height="16" fill="currentColor" display="inline-block" overflow="visible" style="vertical-align:text-bottom"><path d="M10.68 11.74a6 6 0 0 1-7.922-8.982 6 6 0 0 1 8.982 7.922l3.04 3.04a.749.749 0 0 1-.326 1.275.749.749 0 0 1-.734-.215ZM11.5 7a4.499 4.499 0 1 0-8.997 0A4.499 4.499 0 0 0 11.5 7Z"></path></svg></span><input type="text" aria-label="Go to file" role="combobox" aria-controls="file-results-list" aria-expanded="false" aria-haspopup="dialog" autoCorrect="off" spellcheck="false" placeholder="Go to file" aria-describedby=":R2phj9lab: :R2phj9labH1:" data-component="input" class="prc-components-Input-Ic-y8" value=""/><span class="TextInput-icon" id=":R2phj9labH1:" aria-hidden="true"><kbd>t</kbd></span></span></div><button hidden="" data-testid="" data-hotkey-scope="read-only-cursor-text-area"></button><button hidden=""></button></div><button type="button" class="Box-sc-g0xbh4-0 fjrFuv prc-Button-ButtonBase-c50BI NavigationMenu-module__Button--SJihq" data-loading="false" data-no-visuals="true" data-size="medium" data-variant="default" aria-describedby=":R1ahj9lab:-loading-announcement"><span data-component="buttonContent" class="Box-sc-g0xbh4-0 gUkoLg prc-Button-ButtonContent-HKbr-"><span data-component="text" class="prc-Button-Label-pTQ3x">Blame</span></span></button><button hidden="" data-testid="" data-hotkey-scope="read-only-cursor-text-area"></button><button data-component="IconButton" type="button" data-testid="more-file-actions-button-nav-menu-wide" aria-haspopup="true" aria-expanded="false" tabindex="0" class="prc-Button-ButtonBase-c50BI js-blob-dropdown-click NavigationMenu-module__IconButton--NqJ_L prc-Button-IconButton-szpyj" data-loading="false" data-no-visuals="true" data-size="medium" data-variant="default" aria-describedby=":Rihj9lab:-loading-announcement" aria-labelledby=":Rfihj9lab:" id=":Rihj9lab:"><svg aria-hidden="true" focusable="false" class="octicon octicon-kebab-horizontal" viewBox="0 0 16 16" width="16" height="16" fill="currentColor" display="inline-block" overflow="visible" style="vertical-align:text-bottom"><path d="M8 9a1.5 1.5 0 1 0 0-3 1.5 1.5 0 0 0 0 3ZM1.5 9a1.5 1.5 0 1 0 0-3 1.5 1.5 0 0 0 0 3Zm13 0a1.5 1.5 0 1 0 0-3 1.5 1.5 0 0 0 0 3Z"></path></svg></button><span class="prc-TooltipV2-Tooltip-cYMVY" data-direction="nw" aria-hidden="true" id=":Rfihj9lab:">More file actions</span> </div></div></div><div class="react-code-view-header-element--narrow"><div class="CodeViewHeader-module__Box_7--FZfkg"><div class="d-flex gap-2"> <button type="button" class="Box-sc-g0xbh4-0 fjrFuv prc-Button-ButtonBase-c50BI NavigationMenu-module__Button--SJihq" data-loading="false" data-no-visuals="true" data-size="medium" data-variant="default" aria-describedby=":R1ahr9lab:-loading-announcement"><span data-component="buttonContent" class="Box-sc-g0xbh4-0 gUkoLg prc-Button-ButtonContent-HKbr-"><span data-component="text" class="prc-Button-Label-pTQ3x">Blame</span></span></button><button hidden="" data-testid="" data-hotkey-scope="read-only-cursor-text-area"></button><button data-component="IconButton" type="button" data-testid="more-file-actions-button-nav-menu-narrow" aria-haspopup="true" aria-expanded="false" tabindex="0" class="prc-Button-ButtonBase-c50BI js-blob-dropdown-click NavigationMenu-module__IconButton--NqJ_L prc-Button-IconButton-szpyj" data-loading="false" data-no-visuals="true" data-size="medium" data-variant="default" aria-describedby=":Rihr9lab:-loading-announcement" aria-labelledby=":Rfihr9lab:" id=":Rihr9lab:"><svg aria-hidden="true" focusable="false" class="octicon octicon-kebab-horizontal" viewBox="0 0 16 16" width="16" height="16" fill="currentColor" display="inline-block" overflow="visible" style="vertical-align:text-bottom"><path d="M8 9a1.5 1.5 0 1 0 0-3 1.5 1.5 0 0 0 0 3ZM1.5 9a1.5 1.5 0 1 0 0-3 1.5 1.5 0 0 0 0 3Zm13 0a1.5 1.5 0 1 0 0-3 1.5 1.5 0 0 0 0 3Z"></path></svg></button><span class="prc-TooltipV2-Tooltip-cYMVY" data-direction="nw" aria-hidden="true" id=":Rfihr9lab:">More file actions</span> </div></div></div></div></div></div></div></div><div class="Box-sc-g0xbh4-0 dJxjrT react-code-view-bottom-padding"> <div class="BlobTopBanners-module__Box--g_bGk"></div> <!-- --> <!-- --> </div><div class="Box-sc-g0xbh4-0 dJxjrT"> <!-- --> <!-- --> <div class="d-flex flex-column border rounded-2 mb-3 pl-1"><div class="LatestCommit-module__Box--Fimpo"><h2 class="sr-only ScreenReaderHeading-module__userSelectNone--vlUbc prc-Heading-Heading-6CmGO" data-testid="screen-reader-heading">Latest commit</h2><div style="width:120px" class="Skeleton Skeleton--text" data-testid="loading"> </div><div class="d-flex flex-shrink-0 gap-2"><div data-testid="latest-commit-details" class="d-none d-sm-flex flex-items-center"></div><div class="d-flex gap-2"><h2 class="sr-only ScreenReaderHeading-module__userSelectNone--vlUbc prc-Heading-Heading-6CmGO" data-testid="screen-reader-heading">History</h2><a href="/RafaelCaballero/Julio25/commits/main/code/17otras_regresiones.ipynb" class="prc-Button-ButtonBase-c50BI d-none d-lg-flex LinkButton-module__code-view-link-button--thtqc flex-items-center fgColor-default" data-loading="false" data-size="small" data-variant="invisible" aria-describedby=":R1bdal9lab:-loading-announcement"><span data-component="buttonContent" data-align="center" class="prc-Button-ButtonContent-HKbr-"><span data-component="leadingVisual" class="prc-Button-Visual-2epfX prc-Button-VisualWrap-Db-eB"><svg aria-hidden="true" focusable="false" class="octicon octicon-history" viewBox="0 0 16 16" width="16" height="16" fill="currentColor" display="inline-block" overflow="visible" style="vertical-align:text-bottom"><path d="m.427 1.927 1.215 1.215a8.002 8.002 0 1 1-1.6 5.685.75.75 0 1 1 1.493-.154 6.5 6.5 0 1 0 1.18-4.458l1.358 1.358A.25.25 0 0 1 3.896 6H.25A.25.25 0 0 1 0 5.75V2.104a.25.25 0 0 1 .427-.177ZM7.75 4a.75.75 0 0 1 .75.75v2.992l2.028.812a.75.75 0 0 1-.557 1.392l-2.5-1A.751.751 0 0 1 7 8.25v-3.5A.75.75 0 0 1 7.75 4Z"></path></svg></span><span data-component="text" class="prc-Button-Label-pTQ3x"><span class="fgColor-default">History</span></span></span></a><div class="d-sm-none"></div><div class="d-flex d-lg-none"><span role="tooltip" aria-label="History" id="history-icon-button-tooltip" class="Tooltip__TooltipBase-sc-17tf59c-0 fiSvBN tooltipped-n"><a aria-label="View commit history for this file." href="/RafaelCaballero/Julio25/commits/main/code/17otras_regresiones.ipynb" class="prc-Button-ButtonBase-c50BI LinkButton-module__code-view-link-button--thtqc flex-items-center fgColor-default" data-loading="false" data-size="small" data-variant="invisible" aria-describedby=":R6bdal9lab:-loading-announcement history-icon-button-tooltip"><span data-component="buttonContent" data-align="center" class="prc-Button-ButtonContent-HKbr-"><span data-component="leadingVisual" class="prc-Button-Visual-2epfX prc-Button-VisualWrap-Db-eB"><svg aria-hidden="true" focusable="false" class="octicon octicon-history" viewBox="0 0 16 16" width="16" height="16" fill="currentColor" display="inline-block" overflow="visible" style="vertical-align:text-bottom"><path d="m.427 1.927 1.215 1.215a8.002 8.002 0 1 1-1.6 5.685.75.75 0 1 1 1.493-.154 6.5 6.5 0 1 0 1.18-4.458l1.358 1.358A.25.25 0 0 1 3.896 6H.25A.25.25 0 0 1 0 5.75V2.104a.25.25 0 0 1 .427-.177ZM7.75 4a.75.75 0 0 1 .75.75v2.992l2.028.812a.75.75 0 0 1-.557 1.392l-2.5-1A.751.751 0 0 1 7 8.25v-3.5A.75.75 0 0 1 7.75 4Z"></path></svg></span></span></a></span></div></div></div></div></div><div class="Box-sc-g0xbh4-0 ldRxiI"><div class="Box-sc-g0xbh4-0 fVkfyA container"><div class="Box-sc-g0xbh4-0 gNAmSV react-code-size-details-banner"><div class="react-code-size-details-banner CodeSizeDetails-module__Box--QdxnQ"><div class="text-mono CodeSizeDetails-module__Box_1--_uFDs"><div data-testid="blob-size" class="CodeSizeDetails-module__Truncate_1--er0Uk prc-Truncate-Truncate-A9Wn6" data-inline="true" title="174 KB" style="--truncate-max-width:100%"><span>583 lines (583 loc) · 174 KB</span></div></div></div><div class="react-code-size-details-banner"><button style="--button-color:fg.default" type="button" aria-haspopup="true" aria-expanded="false" tabindex="0" aria-label="Code 55% faster with GitHub Copilot" class="Box-sc-g0xbh4-0 jlVuVO prc-Button-ButtonBase-c50BI" data-loading="false" data-size="small" data-variant="invisible" aria-describedby=":R9fal9lab:-loading-announcement" id=":R9fal9lab:"><span data-component="buttonContent" class="Box-sc-g0xbh4-0 gUkoLg prc-Button-ButtonContent-HKbr-"><span data-component="leadingVisual" class="prc-Button-Visual-2epfX prc-Button-VisualWrap-Db-eB"><svg aria-hidden="true" focusable="false" class="octicon octicon-copilot" viewBox="0 0 16 16" width="16" height="16" fill="currentColor" display="inline-block" overflow="visible" style="vertical-align:text-bottom"><path d="M7.998 15.035c-4.562 0-7.873-2.914-7.998-3.749V9.338c.085-.628.677-1.686 1.588-2.065.013-.07.024-.143.036-.218.029-.183.06-.384.126-.612-.201-.508-.254-1.084-.254-1.656 0-.87.128-1.769.693-2.484.579-.733 1.494-1.124 2.724-1.261 1.206-.134 2.262.034 2.944.765.05.053.096.108.139.165.044-.057.094-.112.143-.165.682-.731 1.738-.899 2.944-.765 1.23.137 2.145.528 2.724 1.261.566.715.693 1.614.693 2.484 0 .572-.053 1.148-.254 1.656.066.228.098.429.126.612.012.076.024.148.037.218.924.385 1.522 1.471 1.591 2.095v1.872c0 .766-3.351 3.795-8.002 3.795Zm0-1.485c2.28 0 4.584-1.11 5.002-1.433V7.862l-.023-.116c-.49.21-1.075.291-1.727.291-1.146 0-2.059-.327-2.71-.991A3.222 3.222 0 0 1 8 6.303a3.24 3.24 0 0 1-.544.743c-.65.664-1.563.991-2.71.991-.652 0-1.236-.081-1.727-.291l-.023.116v4.255c.419.323 2.722 1.433 5.002 1.433ZM6.762 2.83c-.193-.206-.637-.413-1.682-.297-1.019.113-1.479.404-1.713.7-.247.312-.369.789-.369 1.554 0 .793.129 1.171.308 1.371.162.181.519.379 1.442.379.853 0 1.339-.235 1.638-.54.315-.322.527-.827.617-1.553.117-.935-.037-1.395-.241-1.614Zm4.155-.297c-1.044-.116-1.488.091-1.681.297-.204.219-.359.679-.242 1.614.091.726.303 1.231.618 1.553.299.305.784.54 1.638.54.922 0 1.28-.198 1.442-.379.179-.2.308-.578.308-1.371 0-.765-.123-1.242-.37-1.554-.233-.296-.693-.587-1.713-.7Z"></path><path d="M6.25 9.037a.75.75 0 0 1 .75.75v1.501a.75.75 0 0 1-1.5 0V9.787a.75.75 0 0 1 .75-.75Zm4.25.75v1.501a.75.75 0 0 1-1.5 0V9.787a.75.75 0 0 1 1.5 0Z"></path></svg></span></span></button></div></div><div class="Box-sc-g0xbh4-0 jdLMhu react-blob-view-header-sticky" id="repos-sticky-header"><div class="BlobViewHeader-module__Box--pvsIA"><div class="react-blob-sticky-header"><div class="Box-sc-g0xbh4-0 hqwSEx"><div class="FileNameStickyHeader-module__Box_1--HSpOJ"><div class="FileNameStickyHeader-module__Box_2--_pDx6"><div class="FileNameStickyHeader-module__Box_3--AsYoJ"><button type="button" aria-haspopup="true" aria-expanded="false" tabindex="0" aria-label="main branch" data-testid="anchor-button" class="prc-Button-ButtonBase-c50BI ref-selector-class RefSelectorAnchoredOverlay-module__RefSelectorOverlayBtn--D34zl" data-loading="false" data-size="medium" data-variant="default" aria-describedby="ref-picker-repos-header-ref-selector-loading-announcement" id="ref-picker-repos-header-ref-selector"><span data-component="buttonContent" data-align="center" class="prc-Button-ButtonContent-HKbr-"><span data-component="text" class="prc-Button-Label-pTQ3x"><div class="RefSelectorAnchoredOverlay-module__RefSelectorOverlayContainer--mCbv8"><div class="RefSelectorAnchoredOverlay-module__RefSelectorOverlayHeader--D4cnZ"><svg aria-hidden="true" focusable="false" class="octicon octicon-git-branch" viewBox="0 0 16 16" width="16" height="16" fill="currentColor" display="inline-block" overflow="visible" style="vertical-align:text-bottom"><path d="M9.5 3.25a2.25 2.25 0 1 1 3 2.122V6A2.5 2.5 0 0 1 10 8.5H6a1 1 0 0 0-1 1v1.128a2.251 2.251 0 1 1-1.5 0V5.372a2.25 2.25 0 1 1 1.5 0v1.836A2.493 2.493 0 0 1 6 7h4a1 1 0 0 0 1-1v-.628A2.25 2.25 0 0 1 9.5 3.25Zm-6 0a.75.75 0 1 0 1.5 0 .75.75 0 0 0-1.5 0Zm8.25-.75a.75.75 0 1 0 0 1.5.75.75 0 0 0 0-1.5ZM4.25 12a.75.75 0 1 0 0 1.5.75.75 0 0 0 0-1.5Z"></path></svg></div><div style="max-width:125px" class="ref-selector-button-text-container RefSelectorAnchoredOverlay-module__RefSelectorBtnTextContainer--yO402"><span class="RefSelectorAnchoredOverlay-module__RefSelectorText--bxVhQ"> <!-- -->main</span></div></div></span><span data-component="trailingVisual" class="prc-Button-Visual-2epfX prc-Button-VisualWrap-Db-eB"><svg aria-hidden="true" focusable="false" class="octicon octicon-triangle-down" viewBox="0 0 16 16" width="16" height="16" fill="currentColor" display="inline-block" overflow="visible" style="vertical-align:text-bottom"><path d="m4.427 7.427 3.396 3.396a.25.25 0 0 0 .354 0l3.396-3.396A.25.25 0 0 0 11.396 7H4.604a.25.25 0 0 0-.177.427Z"></path></svg></span></span></button><button hidden="" data-testid="ref-selector-hotkey-button" data-hotkey-scope="read-only-cursor-text-area"></button></div><div class="FileNameStickyHeader-module__Box_4--IyPx8"><div class="Box-sc-g0xbh4-0 fHind"><nav data-testid="breadcrumbs" aria-labelledby="sticky-breadcrumb-heading" id="sticky-breadcrumb" class="Box-sc-g0xbh4-0 fzFXnm"><h2 class="sr-only ScreenReaderHeading-module__userSelectNone--vlUbc prc-Heading-Heading-6CmGO" data-testid="screen-reader-heading" id="sticky-breadcrumb-heading">Breadcrumbs</h2><ol class="Box-sc-g0xbh4-0 iMnkmv"><li class="Box-sc-g0xbh4-0 ghzDag"><a class="Box-sc-g0xbh4-0 kHuKdh prc-Link-Link-85e08" sx="[object Object]" data-testid="breadcrumbs-repo-link" href="/RafaelCaballero/Julio25/tree/main" data-discover="true">Julio25</a></li><li class="Box-sc-g0xbh4-0 ghzDag"><span class="Box-sc-g0xbh4-0 bQeXnn prc-Text-Text-0ima0" aria-hidden="true">/</span><a class="Box-sc-g0xbh4-0 kgiVEz prc-Link-Link-85e08" sx="[object Object]" href="/RafaelCaballero/Julio25/tree/main/code" data-discover="true">code</a></li></ol></nav><div data-testid="breadcrumbs-filename" class="Box-sc-g0xbh4-0 ghzDag"><span class="Box-sc-g0xbh4-0 bQeXnn prc-Text-Text-0ima0" aria-hidden="true">/</span><h1 class="Box-sc-g0xbh4-0 dnZoUW prc-Heading-Heading-6CmGO" tabindex="-1" id="sticky-file-name-id">17otras_regresiones.ipynb</h1></div></div></div></div><button type="button" class="prc-Button-ButtonBase-c50BI FileNameStickyHeader-module__Button--SaiiH FileNameStickyHeader-module__GoToTopButton--9lB4x" data-loading="false" data-size="small" data-variant="invisible" aria-describedby=":R4mfal9lab:-loading-announcement"><span data-component="buttonContent" data-align="center" class="prc-Button-ButtonContent-HKbr-"><span data-component="leadingVisual" class="prc-Button-Visual-2epfX prc-Button-VisualWrap-Db-eB"><svg aria-hidden="true" focusable="false" class="octicon octicon-arrow-up" viewBox="0 0 16 16" width="16" height="16" fill="currentColor" display="inline-block" overflow="visible" style="vertical-align:text-bottom"><path d="M3.47 7.78a.75.75 0 0 1 0-1.06l4.25-4.25a.75.75 0 0 1 1.06 0l4.25 4.25a.751.751 0 0 1-.018 1.042.751.751 0 0 1-1.042.018L9 4.81v7.44a.75.75 0 0 1-1.5 0V4.81L4.53 7.78a.75.75 0 0 1-1.06 0Z"></path></svg></span><span data-component="text" class="prc-Button-Label-pTQ3x">Top</span></span></button></div></div></div><div class="Box-sc-g0xbh4-0 gFKFyc BlobViewHeader-module__Box_1--PPihg"><h2 class="sr-only ScreenReaderHeading-module__userSelectNone--vlUbc prc-Heading-Heading-6CmGO" data-testid="screen-reader-heading">File metadata and controls</h2><div class="BlobViewHeader-module__Box_2--G_jCG"><ul aria-label="File view" class="prc-SegmentedControl-SegmentedControl-e7570 BlobTabButtons-module__SegmentedControl--JMGov" data-size="small"><li class="prc-SegmentedControl-Item-7Aq6h" data-selected=""><button aria-current="true" class="prc-SegmentedControl-Button-ojWXD" type="button" style="--separator-color:transparent"><span class="prc-SegmentedControl-Content-gnQ4n segmentedControl-content"><div class="prc-SegmentedControl-Text-c5gSh segmentedControl-text" data-text="Preview">Preview</div></span></button></li><li class="prc-SegmentedControl-Item-7Aq6h"><button aria-current="false" class="prc-SegmentedControl-Button-ojWXD" type="button" style="--separator-color:var(--borderColor-default, var(--color-border-default, #30363d))"><span class="prc-SegmentedControl-Content-gnQ4n segmentedControl-content"><div class="prc-SegmentedControl-Text-c5gSh segmentedControl-text" data-text="Code">Code</div></span></button></li><li class="prc-SegmentedControl-Item-7Aq6h"><button aria-current="false" class="prc-SegmentedControl-Button-ojWXD" type="button" style="--separator-color:var(--borderColor-default, var(--color-border-default, #30363d))"><span class="prc-SegmentedControl-Content-gnQ4n segmentedControl-content"><div class="prc-SegmentedControl-Text-c5gSh segmentedControl-text" data-text="Blame">Blame</div></span></button></li></ul><button hidden="" data-testid="" data-hotkey-scope="read-only-cursor-text-area"></button><button hidden="" data-testid="" data-hotkey-scope="read-only-cursor-text-area"></button><button hidden="" data-testid="" data-hotkey-scope="read-only-cursor-text-area"></button><div class="react-code-size-details-in-header CodeSizeDetails-module__Box--QdxnQ"><div class="text-mono CodeSizeDetails-module__Box_1--_uFDs"><div data-testid="blob-size" class="CodeSizeDetails-module__Truncate_1--er0Uk prc-Truncate-Truncate-A9Wn6" data-inline="true" title="174 KB" style="--truncate-max-width:100%"><span>583 lines (583 loc) · 174 KB</span></div></div></div><div class="react-code-size-details-in-header"><button style="--button-color:fg.default" type="button" aria-haspopup="true" aria-expanded="false" tabindex="0" aria-label="Code 55% faster with GitHub Copilot" class="Box-sc-g0xbh4-0 jlVuVO prc-Button-ButtonBase-c50BI" data-loading="false" data-size="small" data-variant="invisible" aria-describedby=":Rt6fal9lab:-loading-announcement" id=":Rt6fal9lab:"><span data-component="buttonContent" class="Box-sc-g0xbh4-0 gUkoLg prc-Button-ButtonContent-HKbr-"><span data-component="leadingVisual" class="prc-Button-Visual-2epfX prc-Button-VisualWrap-Db-eB"><svg aria-hidden="true" focusable="false" class="octicon octicon-copilot" viewBox="0 0 16 16" width="16" height="16" fill="currentColor" display="inline-block" overflow="visible" style="vertical-align:text-bottom"><path d="M7.998 15.035c-4.562 0-7.873-2.914-7.998-3.749V9.338c.085-.628.677-1.686 1.588-2.065.013-.07.024-.143.036-.218.029-.183.06-.384.126-.612-.201-.508-.254-1.084-.254-1.656 0-.87.128-1.769.693-2.484.579-.733 1.494-1.124 2.724-1.261 1.206-.134 2.262.034 2.944.765.05.053.096.108.139.165.044-.057.094-.112.143-.165.682-.731 1.738-.899 2.944-.765 1.23.137 2.145.528 2.724 1.261.566.715.693 1.614.693 2.484 0 .572-.053 1.148-.254 1.656.066.228.098.429.126.612.012.076.024.148.037.218.924.385 1.522 1.471 1.591 2.095v1.872c0 .766-3.351 3.795-8.002 3.795Zm0-1.485c2.28 0 4.584-1.11 5.002-1.433V7.862l-.023-.116c-.49.21-1.075.291-1.727.291-1.146 0-2.059-.327-2.71-.991A3.222 3.222 0 0 1 8 6.303a3.24 3.24 0 0 1-.544.743c-.65.664-1.563.991-2.71.991-.652 0-1.236-.081-1.727-.291l-.023.116v4.255c.419.323 2.722 1.433 5.002 1.433ZM6.762 2.83c-.193-.206-.637-.413-1.682-.297-1.019.113-1.479.404-1.713.7-.247.312-.369.789-.369 1.554 0 .793.129 1.171.308 1.371.162.181.519.379 1.442.379.853 0 1.339-.235 1.638-.54.315-.322.527-.827.617-1.553.117-.935-.037-1.395-.241-1.614Zm4.155-.297c-1.044-.116-1.488.091-1.681.297-.204.219-.359.679-.242 1.614.091.726.303 1.231.618 1.553.299.305.784.54 1.638.54.922 0 1.28-.198 1.442-.379.179-.2.308-.578.308-1.371 0-.765-.123-1.242-.37-1.554-.233-.296-.693-.587-1.713-.7Z"></path><path d="M6.25 9.037a.75.75 0 0 1 .75.75v1.501a.75.75 0 0 1-1.5 0V9.787a.75.75 0 0 1 .75-.75Zm4.25.75v1.501a.75.75 0 0 1-1.5 0V9.787a.75.75 0 0 1 1.5 0Z"></path></svg></span></span></button></div></div><div class="BlobViewHeader-module__Box_3--Kvpex"><div class="react-blob-header-edit-and-raw-actions BlobViewHeader-module__Box_4--vFP89"><div class="prc-ButtonGroup-ButtonGroup-vcMeG"><div><a href="https://github.com/RafaelCaballero/Julio25/raw/refs/heads/main/code/17otras_regresiones.ipynb" data-testid="raw-button" class="Box-sc-g0xbh4-0 lefpaC prc-Button-ButtonBase-c50BI BlobViewHeader-module__LinkButton--DMph4" data-loading="false" data-no-visuals="true" data-size="small" data-variant="default" aria-describedby=":R2lf6fal9lab:-loading-announcement"><span data-component="buttonContent" class="Box-sc-g0xbh4-0 gUkoLg prc-Button-ButtonContent-HKbr-"><span data-component="text" class="prc-Button-Label-pTQ3x">Raw</span></span></a></div><div><button data-component="IconButton" type="button" data-testid="copy-raw-button" class="prc-Button-ButtonBase-c50BI prc-Button-IconButton-szpyj" data-loading="false" data-no-visuals="true" data-size="small" data-variant="default" aria-describedby=":R3clf6fal9lab:-loading-announcement" aria-labelledby=":Rclf6fal9lab:"><svg aria-hidden="true" focusable="false" class="octicon octicon-copy" viewBox="0 0 16 16" width="16" height="16" fill="currentColor" display="inline-block" overflow="visible" style="vertical-align:text-bottom"><path d="M0 6.75C0 5.784.784 5 1.75 5h1.5a.75.75 0 0 1 0 1.5h-1.5a.25.25 0 0 0-.25.25v7.5c0 .138.112.25.25.25h7.5a.25.25 0 0 0 .25-.25v-1.5a.75.75 0 0 1 1.5 0v1.5A1.75 1.75 0 0 1 9.25 16h-7.5A1.75 1.75 0 0 1 0 14.25Z"></path><path d="M5 1.75C5 .784 5.784 0 6.75 0h7.5C15.216 0 16 .784 16 1.75v7.5A1.75 1.75 0 0 1 14.25 11h-7.5A1.75 1.75 0 0 1 5 9.25Zm1.75-.25a.25.25 0 0 0-.25.25v7.5c0 .138.112.25.25.25h7.5a.25.25 0 0 0 .25-.25v-7.5a.25.25 0 0 0-.25-.25Z"></path></svg></button><span class="prc-TooltipV2-Tooltip-cYMVY" data-direction="n" aria-hidden="true" id=":Rclf6fal9lab:">Copy raw file</span></div><div><button data-component="IconButton" type="button" data-testid="download-raw-button" class="Box-sc-g0xbh4-0 ivobqY prc-Button-ButtonBase-c50BI prc-Button-IconButton-szpyj" data-loading="false" data-no-visuals="true" data-size="small" data-variant="default" aria-describedby=":Rulf6fal9lab:-loading-announcement" aria-labelledby=":R6lf6fal9lab:"><svg aria-hidden="true" focusable="false" class="octicon octicon-download" viewBox="0 0 16 16" width="16" height="16" fill="currentColor" display="inline-block" overflow="visible" style="vertical-align:text-bottom"><path d="M2.75 14A1.75 1.75 0 0 1 1 12.25v-2.5a.75.75 0 0 1 1.5 0v2.5c0 .138.112.25.25.25h10.5a.25.25 0 0 0 .25-.25v-2.5a.75.75 0 0 1 1.5 0v2.5A1.75 1.75 0 0 1 13.25 14Z"></path><path d="M7.25 7.689V2a.75.75 0 0 1 1.5 0v5.689l1.97-1.969a.749.749 0 1 1 1.06 1.06l-3.25 3.25a.749.749 0 0 1-1.06 0L4.22 6.78a.749.749 0 1 1 1.06-1.06l1.97 1.969Z"></path></svg></button><span class="prc-TooltipV2-Tooltip-cYMVY" data-direction="n" aria-hidden="true" id=":R6lf6fal9lab:">Download raw file</span></div></div><button hidden="" data-testid="raw-button-shortcut" data-hotkey-scope="read-only-cursor-text-area"></button><button hidden="" data-testid="copy-raw-button-shortcut" data-hotkey-scope="read-only-cursor-text-area"></button><button hidden="" data-testid="download-raw-button-shortcut" data-hotkey-scope="read-only-cursor-text-area"></button><a class="js-github-dev-shortcut d-none prc-Link-Link-85e08" href="https://github.dev/"></a><button hidden="" data-testid="" data-hotkey-scope="read-only-cursor-text-area"></button><a class="js-github-dev-new-tab-shortcut d-none prc-Link-Link-85e08" href="https://github.dev/" target="_blank"></a><button hidden="" data-testid="" data-hotkey-scope="read-only-cursor-text-area"></button><div class="prc-ButtonGroup-ButtonGroup-vcMeG"><div><a sx="[object Object]" data-component="IconButton" type="button" data-testid="edit-button" class="Box-sc-g0xbh4-0 iCOsHh prc-Button-ButtonBase-c50BI BlobViewHeader-module__IconButton_1--MzNlL prc-Button-IconButton-szpyj" data-loading="false" data-no-visuals="true" data-size="small" data-variant="default" aria-describedby=":Rr9f6fal9lab:-loading-announcement" aria-labelledby=":R39f6fal9lab:" href="/RafaelCaballero/Julio25/edit/main/code/17otras_regresiones.ipynb" data-discover="true"><svg aria-hidden="true" focusable="false" class="octicon octicon-pencil" viewBox="0 0 16 16" width="16" height="16" fill="currentColor" display="inline-block" overflow="visible" style="vertical-align:text-bottom"><path d="M11.013 1.427a1.75 1.75 0 0 1 2.474 0l1.086 1.086a1.75 1.75 0 0 1 0 2.474l-8.61 8.61c-.21.21-.47.364-.756.445l-3.251.93a.75.75 0 0 1-.927-.928l.929-3.25c.081-.286.235-.547.445-.758l8.61-8.61Zm.176 4.823L9.75 4.81l-6.286 6.287a.253.253 0 0 0-.064.108l-.558 1.953 1.953-.558a.253.253 0 0 0 .108-.064Zm1.238-3.763a.25.25 0 0 0-.354 0L10.811 3.75l1.439 1.44 1.263-1.263a.25.25 0 0 0 0-.354Z"></path></svg></a><span class="prc-TooltipV2-Tooltip-cYMVY" data-direction="nw" aria-hidden="true" id=":R39f6fal9lab:">Edit this file</span></div><div><button data-component="IconButton" type="button" data-testid="more-edit-button" aria-haspopup="true" aria-expanded="false" tabindex="0" class="prc-Button-ButtonBase-c50BI prc-Button-IconButton-szpyj" data-loading="false" data-no-visuals="true" data-size="small" data-variant="default" aria-describedby=":R59f6fal9lab:-loading-announcement" aria-labelledby=":R3t9f6fal9lab:" id=":R59f6fal9lab:"><svg aria-hidden="true" focusable="false" class="octicon octicon-triangle-down" viewBox="0 0 16 16" width="16" height="16" fill="currentColor" display="inline-block" overflow="visible" style="vertical-align:text-bottom"><path d="m4.427 7.427 3.396 3.396a.25.25 0 0 0 .354 0l3.396-3.396A.25.25 0 0 0 11.396 7H4.604a.25.25 0 0 0-.177.427Z"></path></svg></button><span class="prc-TooltipV2-Tooltip-cYMVY" data-direction="nw" aria-hidden="true" id=":R3t9f6fal9lab:">More edit options</span></div></div><button hidden="" data-testid="" data-hotkey="e,Shift+E" data-hotkey-scope="read-only-cursor-text-area"></button></div><div class="react-blob-header-edit-and-raw-actions-combined"><button data-component="IconButton" type="button" title="More file actions" data-testid="more-file-actions-button" aria-haspopup="true" aria-expanded="false" tabindex="0" class="prc-Button-ButtonBase-c50BI js-blob-dropdown-click BlobViewHeader-module__IconButton--uO1fA prc-Button-IconButton-szpyj" data-loading="false" data-no-visuals="true" data-size="small" data-variant="invisible" aria-describedby=":Ra76fal9lab:-loading-announcement" aria-labelledby=":R7q76fal9lab:" id=":Ra76fal9lab:"><svg aria-hidden="true" focusable="false" class="octicon octicon-kebab-horizontal" viewBox="0 0 16 16" width="16" height="16" fill="currentColor" display="inline-block" overflow="visible" style="vertical-align:text-bottom"><path d="M8 9a1.5 1.5 0 1 0 0-3 1.5 1.5 0 0 0 0 3ZM1.5 9a1.5 1.5 0 1 0 0-3 1.5 1.5 0 0 0 0 3Zm13 0a1.5 1.5 0 1 0 0-3 1.5 1.5 0 0 0 0 3Z"></path></svg></button><span class="prc-TooltipV2-Tooltip-cYMVY" data-direction="nw" aria-hidden="true" id=":R7q76fal9lab:">Edit and raw actions</span></div></div></div></div><div></div></div><div class="Box-sc-g0xbh4-0 hycJXc"><section aria-labelledby="file-name-id-wide file-name-id-mobile" class="Box-sc-g0xbh4-0 iWAocR"><!--$!--><template></template><div class="Box-sc-g0xbh4-0 fgsa-DI"><span class="prc-Spinner-Box-qNUI9"><svg height="32px" width="32px" viewBox="0 0 16 16" fill="none" aria-hidden="true" aria-label="Loading" class="prc-Spinner-SpinnerAnimation-e7Gf-"><circle cx="8" cy="8" r="7" stroke="currentColor" stroke-opacity="0.25" stroke-width="2" vector-effect="non-scaling-stroke"></circle><path d="M15 8a7.002 7.002 0 00-7-7" stroke="currentColor" stroke-width="2" stroke-linecap="round" vector-effect="non-scaling-stroke"></path></svg></span></div><!--/$--></section></div></div></div> <!-- --> <!-- --> </div></div></div></div></div></div></div><div id="find-result-marks-container" class="Box-sc-g0xbh4-0 cCoXib"></div><button hidden="" data-testid="" data-hotkey-scope="read-only-cursor-text-area"></button><button hidden=""></button></div> <!-- --> <!-- --> <script type="application/json" id="__PRIMER_DATA_:R0:__">{"resolvedServerColorMode":"night"}</script></div>
</react-app>
</turbo-frame>



  </div>

</turbo-frame>

    </main>
  </div>

  </div>

          <footer class="footer pt-8 pb-6 f6 color-fg-muted p-responsive" role="contentinfo" >
  <h2 class='sr-only'>Footer</h2>

  


  <div class="d-flex flex-justify-center flex-items-center flex-column-reverse flex-lg-row flex-wrap flex-lg-nowrap">
    <div class="d-flex flex-items-center flex-shrink-0 mx-2">
      <a aria-label="GitHub Homepage" class="footer-octicon mr-2" href="https://github.com">
        <svg aria-hidden="true" height="24" viewBox="0 0 24 24" version="1.1" width="24" data-view-component="true" class="octicon octicon-mark-github">
    <path d="M12 1C5.923 1 1 5.923 1 12c0 4.867 3.149 8.979 7.521 10.436.55.096.756-.233.756-.522 0-.262-.013-1.128-.013-2.049-2.764.509-3.479-.674-3.699-1.292-.124-.317-.66-1.293-1.127-1.554-.385-.207-.936-.715-.014-.729.866-.014 1.485.797 1.691 1.128.99 1.663 2.571 1.196 3.204.907.096-.715.385-1.196.701-1.471-2.448-.275-5.005-1.224-5.005-5.432 0-1.196.426-2.186 1.128-2.956-.111-.275-.496-1.402.11-2.915 0 0 .921-.288 3.024 1.128a10.193 10.193 0 0 1 2.75-.371c.936 0 1.871.123 2.75.371 2.104-1.43 3.025-1.128 3.025-1.128.605 1.513.221 2.64.111 2.915.701.77 1.127 1.747 1.127 2.956 0 4.222-2.571 5.157-5.019 5.432.399.344.743 1.004.743 2.035 0 1.471-.014 2.654-.014 3.025 0 .289.206.632.756.522C19.851 20.979 23 16.854 23 12c0-6.077-4.922-11-11-11Z"></path>
</svg>
</a>
      <span>
        &copy; 2025 GitHub,&nbsp;Inc.
      </span>
    </div>

    <nav aria-label="Footer">
      <h3 class="sr-only" id="sr-footer-heading">Footer navigation</h3>

      <ul class="list-style-none d-flex flex-justify-center flex-wrap mb-2 mb-lg-0" aria-labelledby="sr-footer-heading">

          <li class="mx-2">
            <a data-analytics-event="{&quot;category&quot;:&quot;Footer&quot;,&quot;action&quot;:&quot;go to Terms&quot;,&quot;label&quot;:&quot;text:terms&quot;}" href="https://docs.github.com/site-policy/github-terms/github-terms-of-service" data-view-component="true" class="Link--secondary Link">Terms</a>
          </li>

          <li class="mx-2">
            <a data-analytics-event="{&quot;category&quot;:&quot;Footer&quot;,&quot;action&quot;:&quot;go to privacy&quot;,&quot;label&quot;:&quot;text:privacy&quot;}" href="https://docs.github.com/site-policy/privacy-policies/github-privacy-statement" data-view-component="true" class="Link--secondary Link">Privacy</a>
          </li>

          <li class="mx-2">
            <a data-analytics-event="{&quot;category&quot;:&quot;Footer&quot;,&quot;action&quot;:&quot;go to security&quot;,&quot;label&quot;:&quot;text:security&quot;}" href="https://github.com/security" data-view-component="true" class="Link--secondary Link">Security</a>
          </li>

          <li class="mx-2">
            <a data-analytics-event="{&quot;category&quot;:&quot;Footer&quot;,&quot;action&quot;:&quot;go to status&quot;,&quot;label&quot;:&quot;text:status&quot;}" href="https://www.githubstatus.com/" data-view-component="true" class="Link--secondary Link">Status</a>
          </li>

            <li class="mx-2">
              <a data-analytics-event="{&quot;category&quot;:&quot;Footer&quot;,&quot;action&quot;:&quot;go to community&quot;,&quot;label&quot;:&quot;text:community&quot;}" href="https://github.community/" data-view-component="true" class="Link--secondary Link">GitHub Community</a>
            </li>

          <li class="mx-2">
            <a data-analytics-event="{&quot;category&quot;:&quot;Footer&quot;,&quot;action&quot;:&quot;go to docs&quot;,&quot;label&quot;:&quot;text:docs&quot;}" href="https://docs.github.com/" data-view-component="true" class="Link--secondary Link">Docs</a>
          </li>

          <li class="mx-2">
            <a data-analytics-event="{&quot;category&quot;:&quot;Footer&quot;,&quot;action&quot;:&quot;go to contact&quot;,&quot;label&quot;:&quot;text:contact&quot;}" href="https://support.github.com?tags=dotcom-footer" data-view-component="true" class="Link--secondary Link">Contact</a>
          </li>

          <li class="mx-2" >
  <cookie-consent-link>
    <button
      type="button"
      class="Link--secondary underline-on-hover border-0 p-0 color-bg-transparent"
      data-action="click:cookie-consent-link#showConsentManagement"
      data-analytics-event="{&quot;location&quot;:&quot;footer&quot;,&quot;action&quot;:&quot;cookies&quot;,&quot;context&quot;:&quot;subfooter&quot;,&quot;tag&quot;:&quot;link&quot;,&quot;label&quot;:&quot;cookies_link_subfooter_footer&quot;}"
    >
       Manage cookies
    </button>
  </cookie-consent-link>
</li>

<li class="mx-2">
  <cookie-consent-link>
    <button
      type="button"
      class="Link--secondary underline-on-hover border-0 p-0 color-bg-transparent text-left"
      data-action="click:cookie-consent-link#showConsentManagement"
      data-analytics-event="{&quot;location&quot;:&quot;footer&quot;,&quot;action&quot;:&quot;dont_share_info&quot;,&quot;context&quot;:&quot;subfooter&quot;,&quot;tag&quot;:&quot;link&quot;,&quot;label&quot;:&quot;dont_share_info_link_subfooter_footer&quot;}"
    >
      Do not share my personal information
    </button>
  </cookie-consent-link>
</li>

      </ul>
    </nav>
  </div>
</footer>



    <ghcc-consent id="ghcc" class="position-fixed bottom-0 left-0" style="z-index: 999999"
      data-locale="en"
      data-initial-cookie-consent-allowed=""
      data-cookie-consent-required="true"
    ></ghcc-consent>



  <div id="ajax-error-message" class="ajax-error-message flash flash-error" hidden>
    <svg aria-hidden="true" height="16" viewBox="0 0 16 16" version="1.1" width="16" data-view-component="true" class="octicon octicon-alert">
    <path d="M6.457 1.047c.659-1.234 2.427-1.234 3.086 0l6.082 11.378A1.75 1.75 0 0 1 14.082 15H1.918a1.75 1.75 0 0 1-1.543-2.575Zm1.763.707a.25.25 0 0 0-.44 0L1.698 13.132a.25.25 0 0 0 .22.368h12.164a.25.25 0 0 0 .22-.368Zm.53 3.996v2.5a.75.75 0 0 1-1.5 0v-2.5a.75.75 0 0 1 1.5 0ZM9 11a1 1 0 1 1-2 0 1 1 0 0 1 2 0Z"></path>
</svg>
    <button type="button" class="flash-close js-ajax-error-dismiss" aria-label="Dismiss error">
      <svg aria-hidden="true" height="16" viewBox="0 0 16 16" version="1.1" width="16" data-view-component="true" class="octicon octicon-x">
    <path d="M3.72 3.72a.75.75 0 0 1 1.06 0L8 6.94l3.22-3.22a.749.749 0 0 1 1.275.326.749.749 0 0 1-.215.734L9.06 8l3.22 3.22a.749.749 0 0 1-.326 1.275.749.749 0 0 1-.734-.215L8 9.06l-3.22 3.22a.751.751 0 0 1-1.042-.018.751.751 0 0 1-.018-1.042L6.94 8 3.72 4.78a.75.75 0 0 1 0-1.06Z"></path>
</svg>
    </button>
    You can’t perform that action at this time.
  </div>

    <template id="site-details-dialog">
  <details class="details-reset details-overlay details-overlay-dark lh-default color-fg-default hx_rsm" open>
    <summary role="button" aria-label="Close dialog"></summary>
    <details-dialog class="Box Box--overlay d-flex flex-column anim-fade-in fast hx_rsm-dialog hx_rsm-modal">
      <button class="Box-btn-octicon m-0 btn-octicon position-absolute right-0 top-0" type="button" aria-label="Close dialog" data-close-dialog>
        <svg aria-hidden="true" height="16" viewBox="0 0 16 16" version="1.1" width="16" data-view-component="true" class="octicon octicon-x">
    <path d="M3.72 3.72a.75.75 0 0 1 1.06 0L8 6.94l3.22-3.22a.749.749 0 0 1 1.275.326.749.749 0 0 1-.215.734L9.06 8l3.22 3.22a.749.749 0 0 1-.326 1.275.749.749 0 0 1-.734-.215L8 9.06l-3.22 3.22a.751.751 0 0 1-1.042-.018.751.751 0 0 1-.018-1.042L6.94 8 3.72 4.78a.75.75 0 0 1 0-1.06Z"></path>
</svg>
      </button>
      <div class="octocat-spinner my-6 js-details-dialog-spinner"></div>
    </details-dialog>
  </details>
</template>

    <div class="Popover js-hovercard-content position-absolute" style="display: none; outline: none;">
  <div class="Popover-message Popover-message--bottom-left Popover-message--large Box color-shadow-large" style="width:360px;">
  </div>
</div>

    <template id="snippet-clipboard-copy-button">
  <div class="zeroclipboard-container position-absolute right-0 top-0">
    <clipboard-copy aria-label="Copy" class="ClipboardButton btn js-clipboard-copy m-2 p-0" data-copy-feedback="Copied!" data-tooltip-direction="w">
      <svg aria-hidden="true" height="16" viewBox="0 0 16 16" version="1.1" width="16" data-view-component="true" class="octicon octicon-copy js-clipboard-copy-icon m-2">
    <path d="M0 6.75C0 5.784.784 5 1.75 5h1.5a.75.75 0 0 1 0 1.5h-1.5a.25.25 0 0 0-.25.25v7.5c0 .138.112.25.25.25h7.5a.25.25 0 0 0 .25-.25v-1.5a.75.75 0 0 1 1.5 0v1.5A1.75 1.75 0 0 1 9.25 16h-7.5A1.75 1.75 0 0 1 0 14.25Z"></path><path d="M5 1.75C5 .784 5.784 0 6.75 0h7.5C15.216 0 16 .784 16 1.75v7.5A1.75 1.75 0 0 1 14.25 11h-7.5A1.75 1.75 0 0 1 5 9.25Zm1.75-.25a.25.25 0 0 0-.25.25v7.5c0 .138.112.25.25.25h7.5a.25.25 0 0 0 .25-.25v-7.5a.25.25 0 0 0-.25-.25Z"></path>
</svg>
      <svg aria-hidden="true" height="16" viewBox="0 0 16 16" version="1.1" width="16" data-view-component="true" class="octicon octicon-check js-clipboard-check-icon color-fg-success d-none m-2">
    <path d="M13.78 4.22a.75.75 0 0 1 0 1.06l-7.25 7.25a.75.75 0 0 1-1.06 0L2.22 9.28a.751.751 0 0 1 .018-1.042.751.751 0 0 1 1.042-.018L6 10.94l6.72-6.72a.75.75 0 0 1 1.06 0Z"></path>
</svg>
    </clipboard-copy>
  </div>
</template>
<template id="snippet-clipboard-copy-button-unpositioned">
  <div class="zeroclipboard-container">
    <clipboard-copy aria-label="Copy" class="ClipboardButton btn btn-invisible js-clipboard-copy m-2 p-0 d-flex flex-justify-center flex-items-center" data-copy-feedback="Copied!" data-tooltip-direction="w">
      <svg aria-hidden="true" height="16" viewBox="0 0 16 16" version="1.1" width="16" data-view-component="true" class="octicon octicon-copy js-clipboard-copy-icon">
    <path d="M0 6.75C0 5.784.784 5 1.75 5h1.5a.75.75 0 0 1 0 1.5h-1.5a.25.25 0 0 0-.25.25v7.5c0 .138.112.25.25.25h7.5a.25.25 0 0 0 .25-.25v-1.5a.75.75 0 0 1 1.5 0v1.5A1.75 1.75 0 0 1 9.25 16h-7.5A1.75 1.75 0 0 1 0 14.25Z"></path><path d="M5 1.75C5 .784 5.784 0 6.75 0h7.5C15.216 0 16 .784 16 1.75v7.5A1.75 1.75 0 0 1 14.25 11h-7.5A1.75 1.75 0 0 1 5 9.25Zm1.75-.25a.25.25 0 0 0-.25.25v7.5c0 .138.112.25.25.25h7.5a.25.25 0 0 0 .25-.25v-7.5a.25.25 0 0 0-.25-.25Z"></path>
</svg>
      <svg aria-hidden="true" height="16" viewBox="0 0 16 16" version="1.1" width="16" data-view-component="true" class="octicon octicon-check js-clipboard-check-icon color-fg-success d-none">
    <path d="M13.78 4.22a.75.75 0 0 1 0 1.06l-7.25 7.25a.75.75 0 0 1-1.06 0L2.22 9.28a.751.751 0 0 1 .018-1.042.751.751 0 0 1 1.042-.018L6 10.94l6.72-6.72a.75.75 0 0 1 1.06 0Z"></path>
</svg>
    </clipboard-copy>
  </div>
</template>


    <style>
      .user-mention[href$="/RafaelCaballero"] {
        color: var(--color-user-mention-fg);
        background-color: var(--bgColor-attention-muted, var(--color-attention-subtle));
        border-radius: 2px;
        margin-left: -2px;
        margin-right: -2px;
      }
      .user-mention[href$="/RafaelCaballero"]:before,
      .user-mention[href$="/RafaelCaballero"]:after {
        content: '';
        display: inline-block;
        width: 2px;
      }
    </style>


    </div>
    <div id="js-global-screen-reader-notice" class="sr-only mt-n1" aria-live="polite" aria-atomic="true" ></div>
    <div id="js-global-screen-reader-notice-assertive" class="sr-only mt-n1" aria-live="assertive" aria-atomic="true"></div>
  </body>
</html>

