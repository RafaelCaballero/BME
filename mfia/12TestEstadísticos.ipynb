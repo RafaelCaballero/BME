{
 "cells": [
  {
   "cell_type": "markdown",
   "metadata": {
    "id": "k8BF6TYcWqOi"
   },
   "source": [
    "\n",
    "<div>\n",
    "<img src=\"https://raw.githubusercontent.com/RafaelCaballero/tdm/refs/heads/master/images/mioti.png\" width=600 />\n",
    "</ivdi>\n",
    "<div class=\"alert alert-block alert-info\">\n",
    "<h1> 5 Test estadísticos </h1>\n",
    "</div>\n",
    "\n",
    "# Tabla de Contenidos\n",
    "1. [Test estadísticos](#1.-Test_estadísticos)<br>\n",
    "\n",
    "2. [Test t de Student](#2.-Test_t_de_Student)<br>\n",
    "   2.1 [Características](#2.1-Características)<br>\n",
    "   2.2 [Normalidad: Shapiro-Wilk](2.2-Normalidad:-Shapiro-Wilk)<br>\n",
    "   2.3 [Igualdad de varianzas: Levene y Bartlett](2.3.-Igualdad-de-varianzas:-Levene-y-Bartlett)<br>\n",
    "   2.4 [Mann–Whitney U](2.4-Mann–Whitney-U)<br>\n",
    "   \n",
    "\n",
    "3. [ANOVA](#1.-ANOVA)<br>\n",
    "   3.1 [Objetivo e hipótesis nula](#3.1-Objetivo-e-hipótesis-nula)<br>\n",
    "   3.2 [ANOVA con librerías](#3.2-ANOVA-con-librerías)<br>\n",
    "   3.3 [Test de Friedman](#3.2-Test_de_Friedman)<br>\n",
    "   <br>\n",
    "4. [Test de la $\\chi^2$](#2.-Test-de-la-$\\chi^2$)<br>\n",
    "   4.1 [Objetivo e hipótesis nula](#4.1-Objetivo-e-hipótesis-nula)<br>\n",
    "   4.2 [Ejemplo paso a paso](#4.2-Ejemplo-paso-a-paso)<br>\n",
    "   4.3 [$\\chi^2$ con librerías](#4.3-$\\chi^2$-con-librerías)<br>\n",
    "   <br>\n",
    "5. [Estacionariedad](#3.-Estacionariedad)<br>\n",
    "   5.1 [Objetivo e hipótesis nula](#3.1-Objetivo-e-hipótesis-nula)<br>\n",
    "   5.2 [Ejemplo](#3.2-Ejemplo)<br>\n",
    "   <br>\n",
    "6. [Referencias](#4.-Referencias)<br>\n"
   ]
  },
  {
   "cell_type": "markdown",
   "metadata": {},
   "source": [
    "## 1.- Test estadísticos\n",
    "---\n",
    "\n",
    "Un test estadístico es un procedimiento matemático para decidir si una o más  muestras de datos son compatiblee con una hipótesis concreta.\n",
    "\n",
    "Ejemplo: ¿Tiene estas dos variables la misma media?\n",
    "\n",
    "Al trabajar con muestras los tests no nos dan certeza, solo nos indican lo probable o improbable que es que se dé la hipótesis\n",
    "\n",
    "<div class=\"alert alert-success\">\n",
    "    Cada test tiene su hipótesis asoaciada, la llamada hipótesis nula, representada por $H_0$\n",
    "</div>\n",
    "\n",
    "El test suele darnos dos valores:\n",
    "\n",
    "* p-value: La probabilidad de que se cumpla la hipótesis nula. Es decir, al tomar muestras de características similares a la muestra en qué proporción se verificará $H_0$.\n",
    "\n",
    "* Estadístico: un valor numérico asociado a la fórmula del test. Cuanto mayor es menor suele ser el p-value. Es útil para comparar el resultado dle mismo test sobre dos conjuntos de datos\n",
    "\n",
    "Cuando el test devuelve un p-value muy pequeños (<0.01, o <0.05) podemos decir que la hipótesis nula es muy improbable y que podemos rechazarla. \n",
    "\n",
    "Por ejemplo si la hipótesis nula es que ambas tienen la misma media, y obtenemos $p = 0.0001$ podremos decir que es muy improbable que ambas muestras tengan la misma media, es decir, podemos asegurar que tienen media distinta (con validez estadística)\n",
    "\n",
    "Sin embargo, si $p>0.05$ NO PODREMOS DECIR NADA. Puede que el test no pueda establecer la diferencia por carecer de datos suficientes en nuestras muestras \n",
    "\n",
    "<div class=\"alert alert-danger\">\n",
    "        El resultado de un test puede ser que se rechaza la hipotesis nula, o bien que no se puede asegurar nada\n",
    "</div>\n",
    "\n",
    "Los tests suelen dividirse en dos tipos:\n",
    "\n",
    "- Paramétricos: tienen requerisitos que las muestras deben cumplir, como por ejemplo pertenecer a una normal\n",
    "- No paramétricos: no tienen requisitos iniciales. A cambio es más difícil que rechacen la hipótesis nula.\n"
   ]
  },
  {
   "cell_type": "markdown",
   "metadata": {},
   "source": [
    "## 2. t de Student\n",
    "\n",
    "\n",
    "### 2.1 Características\n",
    "Se utiliza para ver si las medias de dos muestras son iguales\n",
    "\n",
    "$H_0$: las medias son iguales\n",
    "\n",
    "Asume :\n",
    "\n",
    "1) Normalidad, o bien que hay un número considerable de valores en cada muestra (n>30)\n",
    "\n",
    "2) Varianzas aproximadamente iguales"
   ]
  },
  {
   "cell_type": "code",
   "execution_count": 9,
   "metadata": {},
   "outputs": [
    {
     "name": "stdout",
     "output_type": "stream",
     "text": [
      "Estadístico t: -1.4142\n",
      "Valor p: 0.2070\n",
      "No hay evidencia suficiente para rechazar la hipótesis nula: las medias pueden ser iguales.\n"
     ]
    }
   ],
   "source": [
    "import numpy as np\n",
    "from scipy import stats\n",
    "\n",
    "def t_student(grupo1, grupo2):\n",
    "    # Aplicamos el test t de Student para muestras independientes\n",
    "    t_stat, p_value = stats.ttest_ind(grupo1, grupo2)\n",
    "\n",
    "    # Mostramos los resultados\n",
    "    print(f\"Estadístico t: {t_stat:.4f}\")\n",
    "    print(f\"Valor p: {p_value:.4f}\")\n",
    "\n",
    "    # Interpretación del resultado\n",
    "    alpha = 0.05\n",
    "    if p_value < alpha:\n",
    "        print(\"Hay evidencia suficiente para rechazar la hipótesis nula: las medias son diferentes.\")\n",
    "    else:\n",
    "        print(\"No hay evidencia suficiente para rechazar la hipótesis nula: las medias pueden ser iguales.\")\n",
    "\n",
    "\n",
    "cara, cruz = 0,1\n",
    "grupo1 = [cara,cruz,cara,cara]  # ojo, muestras muy pequeñas\n",
    "grupo2 = [cruz,cruz,cara,cruz]\n",
    "\n",
    "t_student(grupo1,grupo2)\n"
   ]
  },
  {
   "cell_type": "code",
   "execution_count": 11,
   "metadata": {},
   "outputs": [
    {
     "name": "stdout",
     "output_type": "stream",
     "text": [
      "Estadístico t: -7.2572\n",
      "Valor p: 0.0000\n",
      "Hay evidencia suficiente para rechazar la hipótesis nula: las medias son diferentes.\n"
     ]
    }
   ],
   "source": [
    "cara, cruz = 0,1\n",
    "grupo1 = [cara,cruz,cara,cara]*20\n",
    "grupo2 = [cruz,cruz,cara,cruz]*20\n",
    "\n",
    "t_student(grupo1,grupo2)"
   ]
  },
  {
   "cell_type": "markdown",
   "metadata": {},
   "source": [
    "### 2.2 Normalidad: Shapiro-Wilk\n",
    "\n",
    "¿Cómo sé si los datos siguen una normal? PAra ello se suele utilizar el test de Shapiro-Wilk\n",
    "\n",
    "$H_0$ (hipótesis nula): Los datos provienen de una distribución normal.\n",
    "\n",
    "\n",
    "Nota: Realmente el test no es muy útil porque nunca asegura que algo sea una normal, en todo caso puede descartarlo. En realidad se suele asumir si el histograma \"parece normal\" y el tamaño de las muestras es >30. Otra alternativa son los llamados QQ-plot"
   ]
  },
  {
   "cell_type": "code",
   "execution_count": 5,
   "metadata": {},
   "outputs": [
    {
     "name": "stdout",
     "output_type": "stream",
     "text": [
      "Estadístico: 0.5435627937132307\n",
      "p-valor: 8.080369646994802e-07\n",
      "Los datos NO siguen una distribución normal.\n"
     ]
    }
   ],
   "source": [
    "from scipy import stats\n",
    "# Aplicar el test de Shapiro-Wilk\n",
    "\n",
    "def test_normalidad(test,grupo):\n",
    "    stat, p = test(grupo)\n",
    "    \n",
    "    print(\"Estadístico:\", stat)\n",
    "    print(\"p-valor:\", p)\n",
    "    \n",
    "    if p < 0.05:\n",
    "        print(\"Los datos NO siguen una distribución normal.\")\n",
    "    else:\n",
    "        print(\"Los datos podrían seguir una distribución normal...o no\")\n",
    "\n",
    "test_normalidad(stats.shapiro,grupo1)"
   ]
  },
  {
   "cell_type": "markdown",
   "metadata": {},
   "source": [
    "Este test es adecuado para pocos valores (menos de 5000); en otro caso conviene complementar con otros valores"
   ]
  },
  {
   "cell_type": "code",
   "execution_count": 2,
   "metadata": {},
   "outputs": [
    {
     "name": "stderr",
     "output_type": "stream",
     "text": [
      "100%|███████████████████████████████████████████████████████████████████████████| 10000/10000 [00:20<00:00, 496.21it/s]\n"
     ]
    },
    {
     "data": {
      "text/html": [
       "<div>\n",
       "<style scoped>\n",
       "    .dataframe tbody tr th:only-of-type {\n",
       "        vertical-align: middle;\n",
       "    }\n",
       "\n",
       "    .dataframe tbody tr th {\n",
       "        vertical-align: top;\n",
       "    }\n",
       "\n",
       "    .dataframe thead th {\n",
       "        text-align: right;\n",
       "    }\n",
       "</style>\n",
       "<table border=\"1\" class=\"dataframe\">\n",
       "  <thead>\n",
       "    <tr style=\"text-align: right;\">\n",
       "      <th></th>\n",
       "      <th>H</th>\n",
       "    </tr>\n",
       "  </thead>\n",
       "  <tbody>\n",
       "    <tr>\n",
       "      <th>0</th>\n",
       "      <td>0.448</td>\n",
       "    </tr>\n",
       "    <tr>\n",
       "      <th>1</th>\n",
       "      <td>0.408</td>\n",
       "    </tr>\n",
       "    <tr>\n",
       "      <th>2</th>\n",
       "      <td>0.428</td>\n",
       "    </tr>\n",
       "    <tr>\n",
       "      <th>3</th>\n",
       "      <td>0.364</td>\n",
       "    </tr>\n",
       "    <tr>\n",
       "      <th>4</th>\n",
       "      <td>0.388</td>\n",
       "    </tr>\n",
       "    <tr>\n",
       "      <th>...</th>\n",
       "      <td>...</td>\n",
       "    </tr>\n",
       "    <tr>\n",
       "      <th>9995</th>\n",
       "      <td>0.448</td>\n",
       "    </tr>\n",
       "    <tr>\n",
       "      <th>9996</th>\n",
       "      <td>0.348</td>\n",
       "    </tr>\n",
       "    <tr>\n",
       "      <th>9997</th>\n",
       "      <td>0.448</td>\n",
       "    </tr>\n",
       "    <tr>\n",
       "      <th>9998</th>\n",
       "      <td>0.408</td>\n",
       "    </tr>\n",
       "    <tr>\n",
       "      <th>9999</th>\n",
       "      <td>0.384</td>\n",
       "    </tr>\n",
       "  </tbody>\n",
       "</table>\n",
       "<p>10000 rows × 1 columns</p>\n",
       "</div>"
      ],
      "text/plain": [
       "          H\n",
       "0     0.448\n",
       "1     0.408\n",
       "2     0.428\n",
       "3     0.364\n",
       "4     0.388\n",
       "...     ...\n",
       "9995  0.448\n",
       "9996  0.348\n",
       "9997  0.448\n",
       "9998  0.408\n",
       "9999  0.384\n",
       "\n",
       "[10000 rows x 1 columns]"
      ]
     },
     "execution_count": 2,
     "metadata": {},
     "output_type": "execute_result"
    }
   ],
   "source": [
    "url = \"https://ucmdrive.ucm.es/s/kaERdRZYEGjSbRd/download/hotel_booking.csv.zip\"\n",
    "\n",
    "import pandas as pd\n",
    "df = pd.read_csv(url)\n",
    "from tqdm import tqdm\n",
    "veces = 10000\n",
    "muestra = 250\n",
    "filtroB = df.hotel==\"City Hotel\"\n",
    "df_hotel = df[filtroB]\n",
    "\n",
    "# solución\n",
    "mediaH = []\n",
    "for i in tqdm(range(veces)):\n",
    "    mH = df_hotel.sample(muestra)\n",
    "    mediaH.append(mH.is_canceled.mean())\n",
    "\n",
    "df_medias = pd.DataFrame({\"H\":mediaH})\n",
    "df_medias"
   ]
  },
  {
   "cell_type": "code",
   "execution_count": 6,
   "metadata": {},
   "outputs": [
    {
     "name": "stdout",
     "output_type": "stream",
     "text": [
      "Estadístico: 0.9984959144755756\n",
      "p-valor: 3.521636968210825e-08\n",
      "Los datos NO siguen una distribución normal.\n"
     ]
    },
    {
     "name": "stderr",
     "output_type": "stream",
     "text": [
      "C:\\Users\\sames\\anaconda3\\Lib\\site-packages\\scipy\\stats\\_axis_nan_policy.py:531: UserWarning: scipy.stats.shapiro: For N > 5000, computed p-value may not be accurate. Current N is 10000.\n",
      "  res = hypotest_fun_out(*samples, **kwds)\n"
     ]
    }
   ],
   "source": [
    "test_normalidad(stats.shapiro,df_medias.H)"
   ]
  },
  {
   "cell_type": "code",
   "execution_count": 7,
   "metadata": {},
   "outputs": [
    {
     "name": "stdout",
     "output_type": "stream",
     "text": [
      "Estadístico: 0.04859342437074347\n",
      "p-valor: 0.9759960768623495\n",
      "Los datos podrían seguir una distribución normal...o no\n"
     ]
    }
   ],
   "source": [
    "test_normalidad(stats.normaltest,df_medias.H) # D’Agostino-Pearson"
   ]
  },
  {
   "cell_type": "markdown",
   "metadata": {},
   "source": [
    "El QQ-plot prueba que es una normalidad si los datos siguen una recta"
   ]
  },
  {
   "cell_type": "code",
   "execution_count": 8,
   "metadata": {},
   "outputs": [
    {
     "data": {
      "image/png": "[encoded data removed]",
      "text/plain": [
       "<Figure size 640x480 with 1 Axes>"
      ]
     },
     "metadata": {},
     "output_type": "display_data"
    }
   ],
   "source": [
    "import scipy.stats as stats\n",
    "import matplotlib.pyplot as plt\n",
    "stats.probplot(df_medias[\"H\"], dist=\"norm\", plot=plt)\n",
    "plt.title(\"QQ-Plot de medias R\")\n",
    "plt.show()"
   ]
  },
  {
   "cell_type": "markdown",
   "metadata": {},
   "source": [
    "### 2.3 Igualdad de varianzas: Levene y Bartlett\n",
    "\n",
    "¿Cómo sé si las varianzas son o no iguales?\n",
    "\n",
    "Pruebas de Levene (no asumen normalidad) o Bartlett (sí asume normalidad, admite más de dos grupos como entrada y se utiliza mucho antes de aplicar ANOVA); \n",
    "\n",
    "En ambos casos \n",
    "\n",
    "$H_0$: igualdad de varianzas"
   ]
  },
  {
   "cell_type": "code",
   "execution_count": 22,
   "metadata": {},
   "outputs": [
    {
     "name": "stdout",
     "output_type": "stream",
     "text": [
      "Prueba de Levene (varianza): p-value = 0.6517. Estadístico: 0.2050\n"
     ]
    }
   ],
   "source": [
    "import numpy as np\n",
    "from scipy import stats\n",
    "\n",
    "# Creamos dos grupos con varianzas distintas\n",
    "grupo1 = np.random.normal(loc=50, scale=5, size=50)  # Media 50, Desviación 5\n",
    "grupo2 = np.random.normal(loc=55, scale=6, size=50)  # Media 55, Desviación 15\n",
    "\n",
    "# Verificamos si las varianzas son realmente diferentes con la prueba de Levene\n",
    "stat, p_var = stats.levene(grupo1, grupo2)\n",
    "print(f\"Prueba de Levene (varianza): p-value = {p_var:.4f}. Estadístico: {stat:.4f}\")\n"
   ]
  },
  {
   "cell_type": "code",
   "execution_count": 23,
   "metadata": {},
   "outputs": [
    {
     "name": "stdout",
     "output_type": "stream",
     "text": [
      "Prueba de bartlett (varianza): p-value = 0.9445. Estadístico: 0.0048\n"
     ]
    }
   ],
   "source": [
    "stat, p_var = stats.bartlett(grupo1,grupo2)\n",
    "print(f\"Prueba de bartlett (varianza): p-value = {p_var:.4f}. Estadístico: {stat:.4f}\")\n"
   ]
  },
  {
   "cell_type": "markdown",
   "metadata": {},
   "source": [
    "Si las varianzas no son iguales aplicaremos el test de Welch, también conocido como la prueba t de Student para variables de varianza desigual"
   ]
  },
  {
   "cell_type": "code",
   "execution_count": 6,
   "metadata": {},
   "outputs": [
    {
     "name": "stdout",
     "output_type": "stream",
     "text": [
      "\n",
      "Prueba de Welch:\n",
      "Estadístico t: -0.9418\n",
      "Valor p: 0.3529\n",
      "No hay evidencia suficiente para afirmar que las medias son diferentes.\n"
     ]
    }
   ],
   "source": [
    "import numpy as np\n",
    "from scipy import stats\n",
    "\n",
    "# Creamos dos grupos con varianzas distintas\n",
    "grupo1 = np.random.normal(loc=50, scale=5, size=30)  # Media 50, Desviación 5\n",
    "grupo2 = np.random.normal(loc=55, scale=15, size=30)  # Media 55, Desviación 15\n",
    "\n",
    "# Aplicamos la prueba de Welch (t-test con varianzas desiguales)\n",
    "t_stat, p_value = stats.ttest_ind(grupo1, grupo2, equal_var=False)\n",
    "\n",
    "print(f\"\\nPrueba de Welch:\")\n",
    "print(f\"Estadístico t: {t_stat:.4f}\")\n",
    "print(f\"Valor p: {p_value:.4f}\")\n",
    "\n",
    "# Interpretación del resultado\n",
    "alpha = 0.05\n",
    "if p_value < alpha:\n",
    "    print(\"Las medias son significativamente diferentes.\")\n",
    "else:\n",
    "    print(\"No hay evidencia suficiente para afirmar que las medias son diferentes.\")"
   ]
  },
  {
   "cell_type": "markdown",
   "metadata": {},
   "source": [
    "### 2.4 Mann–Whitney U \n",
    "\n",
    "Si ni siquiera podemos asumir normalidad de los datos, entonces podemos utilizar la prueba Mann–Whitney U (también conocida como Wilcoxon rank-sum test) es una alternativa no paramétrica al test t de Student \n",
    "\n",
    "$H_0$: la mediana de ambas distribuciones es la misma"
   ]
  },
  {
   "cell_type": "code",
   "execution_count": 25,
   "metadata": {},
   "outputs": [
    {
     "name": "stdout",
     "output_type": "stream",
     "text": [
      "Estadístico U: 100.0\n",
      "Valor p: 0.0002\n"
     ]
    }
   ],
   "source": [
    "import numpy as np\n",
    "from scipy.stats import mannwhitneyu\n",
    "\n",
    "# Datos de ejemplo\n",
    "grupo1 = [6, 7, 8, 9, 7, 8, 6, 6, 7, 8]\n",
    "grupo2 = [3, 4, 5, 4, 3, 5, 4, 3, 5, 4]\n",
    "\n",
    "# Aplicamos la prueba de Mann-Whitney U\n",
    "stat, p = mannwhitneyu(grupo1, grupo2, alternative='two-sided') # greater si se quiere comprobar med(grupo1)>med(grupo2)\n",
    "\n",
    "print(f\"Estadístico U: {stat}\")\n",
    "print(f\"Valor p: {p:.4f}\")\n"
   ]
  },
  {
   "cell_type": "markdown",
   "metadata": {},
   "source": [
    "Otro ejemplo. Tenemos 2 productos y los usuarios han puntuado acerca de su satisfacción con valores entre 0 y 10"
   ]
  },
  {
   "cell_type": "code",
   "execution_count": 30,
   "metadata": {},
   "outputs": [
    {
     "name": "stderr",
     "output_type": "stream",
     "text": [
      "C:\\Users\\sames\\AppData\\Local\\Temp\\ipykernel_10940\\1961040393.py:10: MatplotlibDeprecationWarning: The 'labels' parameter of boxplot() has been renamed 'tick_labels' since Matplotlib 3.9; support for the old name will be dropped in 3.11.\n",
      "  plt.boxplot([grupo1, grupo2], labels=[\"Producto A\", \"Producto B\"])\n"
     ]
    },
    {
     "data": {
      "image/png": "[encoded data removed]",
      "text/plain": [
       "<Figure size 640x480 with 1 Axes>"
      ]
     },
     "metadata": {},
     "output_type": "display_data"
    },
    {
     "name": "stdout",
     "output_type": "stream",
     "text": [
      "Estadístico U: 97.00\n",
      "Valor p: 0.0620\n",
      "No se detecta una diferencia significativa.\n"
     ]
    }
   ],
   "source": [
    "import numpy as np\n",
    "import matplotlib.pyplot as plt\n",
    "from scipy.stats import mannwhitneyu\n",
    "\n",
    "# Simulamos dos grupos con distribuciones diferentes\n",
    "grupo1 = [0,4,6,7,3,5,7,8,2,4,5,8,4,3,4,2,5,6] # Producto A\n",
    "grupo2 = [6,5,5,3,6,7,7,7,5,3,6,7,7,7,5,7,7]  # Producto B\n",
    "\n",
    "# Gráfico de cajas\n",
    "plt.boxplot([grupo1, grupo2], labels=[\"Producto A\", \"Producto B\"])\n",
    "plt.title(\"Comparación de satisfacción por producto\")\n",
    "plt.ylabel(\"Puntuación de satisfacción\")\n",
    "plt.grid(True)\n",
    "plt.show()\n",
    "\n",
    "# Prueba de Mann-Whitney U\n",
    "stat, p = mannwhitneyu(grupo1, grupo2, alternative='two-sided')\n",
    "\n",
    "print(f\"Estadístico U: {stat:.2f}\")\n",
    "print(f\"Valor p: {p:.4f}\")\n",
    "\n",
    "if p < 0.05:\n",
    "    print(\"Hay una diferencia significativa en la satisfacción de los clientes.\")\n",
    "else:\n",
    "    print(\"No se detecta una diferencia significativa.\")\n"
   ]
  },
  {
   "cell_type": "markdown",
   "metadata": {
    "id": "-fVlV1JMlh8-"
   },
   "source": [
    "## 3. ANOVA\n",
    "---\n",
    "\n",
    "ANOVA (de _Analysis of Variance) es uno de los tests más utilizados por su simplicidad. Creado en el siglo XIX por Ronald Fisher ha evolucionado hasta tener múltiples variantes.\n",
    "\n",
    "\n",
    "<div class=\"alert alert-success\">\n",
    "Aqui vamos a ver ANOVA unidireccional, pero hay otras versiones más complejas como ANOVA de dos vías, que sigue las mismas ideas pero permite añadir otras variables \n",
    "</div>\n",
    "\n",
    "\n",
    "### 3.1 Objetivo e hipótesis nula\n",
    "\n",
    "\n",
    "El objetivo de este test es determinar si varios grupos de datos (por ejemplo varias columnas de un dataframe) tienen la misma media.\n",
    "\n",
    "La hipótesis nula es:\n",
    "\n",
    "$H_0$: la media de todos los grupos es la misma, $\\mu_1 = \\mu_2 = \\dots \\mu_n$.\n",
    "\n",
    "Por tanto rechazaremos la hipótesis nula si obtenemos $p < 0.01$ (o $p < 0.05$), afirmando en este caso que las medias no son iguales con alta probabilidad estadística.\n",
    "\n",
    "Varias cosas que hay que tener en cuenta:\n",
    "\n",
    "\n",
    "<div class=\"alert alert-success\">\n",
    "El test ANOVA nos dice que las medias no son todas iguales  pero no cuál del grupo difiere, o si son una o varias.\n",
    "</div>\n",
    "\n",
    "<div class=\"alert alert-success\">\n",
    "ANOVA es un test parmétrico. Asume que se cumple:\n",
    "\n",
    "1.- Independencia:\tObservaciones separadas y no relacionadas. Dependerá del diseño del experimento.\n",
    "    \n",
    "2.- Normalidad\tDatos (normales en cada grupo). Esto se puede comprabar con los\tQ-Q plots, o el test de Shapiro-Wilk\n",
    "\n",
    "3.- Homocedasticidad (varianzas similares): Tests\tLevene, Bartlett\n",
    "</div>\n",
    "\n",
    "\n",
    "El test comparará la dispersión de las medias con el respecto a la media total con respecto a la dispersión dentro de cada grupo, que debe ser similar. También tiene en cuenta el número de grupos y de elementos en cada grupo.\n",
    "\n",
    "\n",
    "### 3.2 ANOVA con librerías\n",
    "\n",
    "Veamos todo pero utilizando directamente una librería:\n",
    "\n",
    "Supongamos que tenemos tres grupos de plantas, cada uno con diferentes tratamientos de fertilizante, y hemos medido sus alturas (en cm) tras cierto periodo de tiempo obteniendo:\n"
   ]
  },
  {
   "cell_type": "code",
   "execution_count": 39,
   "metadata": {
    "id": "gdL8PppilgpF"
   },
   "outputs": [],
   "source": [
    "import numpy as np\n",
    "A = np.array([20, 22, 21, 23,21]) # plantas con fertilizante A\n",
    "B = np.array([20, 20, 24, 25,20]) # plantas con fertilizante B\n",
    "C = np.array([22, 22, 24, 23,30,27,28]) # plantas con fertilizante C"
   ]
  },
  {
   "cell_type": "markdown",
   "metadata": {
    "id": "BzWGdUSfl63w"
   },
   "source": [
    "Objetivo: ver si el fertilizante influye.\n",
    "\n",
    "Podemos calcular las medias de cada grupo\n",
    "\n",
    "$$ \\text{Media A} = \\frac{20 + 22 + 21 + 23}{4} = 21.5 $$\n",
    "\n",
    "$$ \\text{Media B} = \\frac{30 + 32 + 31 + 29}{4} = 30.5 $$\n",
    "\n",
    "$$ \\text{Media C} = \\frac{25 + 24 + 26 + 27}{4} = 25.5 $$"
   ]
  },
  {
   "cell_type": "code",
   "execution_count": 40,
   "metadata": {
    "colab": {
     "base_uri": "https://localhost:8080/"
    },
    "id": "HxtehWn0mKNt",
    "outputId": "695287d9-cbc3-411a-8b78-9477ad4986ba"
   },
   "outputs": [
    {
     "name": "stdout",
     "output_type": "stream",
     "text": [
      "Media A 21.4, Media B 21.8, Media C 25.1\n"
     ]
    }
   ],
   "source": [
    "mediaA = A.mean()\n",
    "mediaB = B.mean()\n",
    "mediaC = C.mean()\n",
    "print(f\"Media A {mediaA:.1f}, Media B {mediaB:.1f}, Media C {mediaC:.1f}\")"
   ]
  },
  {
   "cell_type": "markdown",
   "metadata": {
    "id": "Z7SI6p1MmJAj"
   },
   "source": [
    "Las medias salen diferentes, pero sabemos que eso no significa necesariamente que la diferencia sea estadísticamente significativa. Veámoslo con ANOVA"
   ]
  },
  {
   "cell_type": "code",
   "execution_count": 41,
   "metadata": {
    "colab": {
     "base_uri": "https://localhost:8080/"
    },
    "id": "2VyFSuHO1dX4",
    "outputId": "9814a731-00db-40a2-c4c6-ec64871a52e3"
   },
   "outputs": [
    {
     "data": {
      "text/plain": [
       "(4.012763596004439, 0.04191911101258861)"
      ]
     },
     "execution_count": 41,
     "metadata": {},
     "output_type": "execute_result"
    }
   ],
   "source": [
    "from scipy.stats import f_oneway\n",
    "\n",
    "# Realizar el test ANOVA para los tres grupos A, B y C\n",
    "anova_result = f_oneway(A, B, C)\n",
    "\n",
    "# Obtener el estadístico F y el p-valor del test ANOVA\n",
    "anova_result.statistic, anova_result.pvalue\n"
   ]
  },
  {
   "cell_type": "markdown",
   "metadata": {},
   "source": [
    "### 3.3 Test de Friedman\n",
    "\n",
    "Tengo 10 personas, y a cada una le hago probar tres métodos diferentes para resolver un problema. Quiero saber si alguno de los métodos funciona mejor que los otros en cuento al tiempo de resolución.\n",
    "\n",
    "En este caso NO puedo usar ANOVA ¿Por qué? porque no se trata de 30 personas diferentes, cada persona prueba los 3 métodos por lo que no se tiene independencia"
   ]
  },
  {
   "cell_type": "code",
   "execution_count": 42,
   "metadata": {},
   "outputs": [
    {
     "name": "stdout",
     "output_type": "stream",
     "text": [
      "   Persona  Método A  Método B  Método C\n",
      "0        1      7.61     10.07     11.09\n",
      "1        2      9.10      7.31     10.63\n",
      "2        3     10.01      6.70      7.63\n",
      "3        4     10.07     10.92      9.46\n",
      "4        5      9.32      9.50      8.97\n",
      "5        6     10.93      7.88     10.05\n",
      "6        7      8.40     11.33      6.55\n",
      "7        8      9.79      9.17      9.03\n",
      "8        9     10.18     10.77      9.59\n",
      "9       10     10.77      9.10      5.36\n",
      "    Persona    Método  Tiempo\n",
      "0         1  Método A    7.61\n",
      "1         2  Método A    9.10\n",
      "2         3  Método A   10.01\n",
      "3         4  Método A   10.07\n",
      "4         5  Método A    9.32\n",
      "5         6  Método A   10.93\n",
      "6         7  Método A    8.40\n",
      "7         8  Método A    9.79\n",
      "8         9  Método A   10.18\n",
      "9        10  Método A   10.77\n",
      "10        1  Método B   10.07\n",
      "11        2  Método B    7.31\n",
      "12        3  Método B    6.70\n",
      "13        4  Método B   10.92\n",
      "14        5  Método B    9.50\n",
      "15        6  Método B    7.88\n",
      "16        7  Método B   11.33\n",
      "17        8  Método B    9.17\n",
      "18        9  Método B   10.77\n",
      "19       10  Método B    9.10\n",
      "20        1  Método C   11.09\n",
      "21        2  Método C   10.63\n",
      "22        3  Método C    7.63\n",
      "23        4  Método C    9.46\n",
      "24        5  Método C    8.97\n",
      "25        6  Método C   10.05\n",
      "26        7  Método C    6.55\n",
      "27        8  Método C    9.03\n",
      "28        9  Método C    9.59\n",
      "29       10  Método C    5.36\n"
     ]
    },
    {
     "data": {
      "image/png": "[encoded data removed]",
      "text/plain": [
       "<Figure size 1500x1000 with 1 Axes>"
      ]
     },
     "metadata": {},
     "output_type": "display_data"
    }
   ],
   "source": [
    "import numpy as np\n",
    "from scipy.stats import friedmanchisquare\n",
    "import pandas as pd\n",
    "import matplotlib.pyplot as plt\n",
    "\n",
    "# Resultados simulados (filas = personas, columnas = métodos)\n",
    "personas = 10\n",
    "\n",
    "# Supongamos que los valores son tiempos para resolver un problema (menos es mejor)\n",
    "metodo_A = [ 7.61,  9.1,  10.01, 10.07,  9.32, 10.93,  8.40,  9.79, 10.18, 10.77]\n",
    "metodo_B = [10.07,  7.31,  6.7,  10.92,  9.50,  7.88, 11.33,  9.17, 10.77,  9.1 ]\n",
    "metodo_C = [11.09, 10.63,  7.63,  9.46,  8.97, 10.05,  6.55,  9.03,  9.59,  5.36]\n",
    "\n",
    "# convertimos a df\n",
    "df = pd.DataFrame({\n",
    "    \"Persona\": range(1, personas+1),\n",
    "    \"Método A\": metodo_A,\n",
    "    \"Método B\": metodo_B,\n",
    "    \"Método C\": metodo_C\n",
    "})\n",
    "print(df.round(2))\n",
    "\n",
    "# Boxplots\n",
    "df_largo = df.melt(id_vars=\"Persona\", var_name=\"Método\", value_name=\"Tiempo\") \n",
    "print(df_largo.round(2))\n",
    "df_largo.boxplot(column = \"Tiempo\", by=\"Método\",  figsize=(15,10))\n",
    "plt.show()\n"
   ]
  },
  {
   "cell_type": "markdown",
   "metadata": {},
   "source": [
    "Queremos ver si esas diferencias son significativas"
   ]
  },
  {
   "cell_type": "code",
   "execution_count": 13,
   "metadata": {},
   "outputs": [
    {
     "name": "stdout",
     "output_type": "stream",
     "text": [
      "Estadístico de Friedman: 2.600\n",
      "Valor p: 0.2725\n",
      "No se detectan diferencias significativas entre los métodos.\n"
     ]
    }
   ],
   "source": [
    "\n",
    "\n",
    "# Aplicamos el test de Friedman\n",
    "stat, p = friedmanchisquare(metodo_A, metodo_B, metodo_C)\n",
    "\n",
    "print(f\"Estadístico de Friedman: {stat:.3f}\")\n",
    "print(f\"Valor p: {p:.4f}\")\n",
    "\n",
    "if p < 0.05:\n",
    "    print(\"Hay diferencias significativas entre al menos dos métodos.\")\n",
    "else:\n",
    "    print(\"No se detectan diferencias significativas entre los métodos.\")\n"
   ]
  },
  {
   "cell_type": "markdown",
   "metadata": {
    "id": "OYepg_PRiMtg"
   },
   "source": [
    "## 4. Test de la $\\chi^2$\n",
    "---\n",
    "\n",
    "La distribución $\\chi^2$ tiene múltiples aplicaciones, pero aquí nos centramos en intentar ver si dos variables categóricas están asociadas o no. "
   ]
  },
  {
   "cell_type": "markdown",
   "metadata": {},
   "source": [
    "\n",
    "### 4.1 Objetivo e hipótesis nula\n",
    "\n",
    "\n",
    "​Hipótesis nula\n",
    "\n",
    "$H_0$: Las dos variables son independientes.\n",
    "\n",
    "Es decir, la hipótesis nula es que no existe una relación o asociación significativa entre las dos variables categóricas, lo que implica que la distribución conjunta de las frecuencias observadas es consistente con lo que esperaríamos si las variables fueran independientes. \n",
    "\n",
    "\n",
    "### 2.2 Ejemplo paso a paso\n",
    "\n",
    "Empezamos, como siempre, cargando los datos. En este caso comparamos el nivel de educación con el transporte utilizado"
   ]
  },
  {
   "cell_type": "code",
   "execution_count": 44,
   "metadata": {},
   "outputs": [
    {
     "data": {
      "text/html": [
       "<div>\n",
       "<style scoped>\n",
       "    .dataframe tbody tr th:only-of-type {\n",
       "        vertical-align: middle;\n",
       "    }\n",
       "\n",
       "    .dataframe tbody tr th {\n",
       "        vertical-align: top;\n",
       "    }\n",
       "\n",
       "    .dataframe thead th {\n",
       "        text-align: right;\n",
       "    }\n",
       "</style>\n",
       "<table border=\"1\" class=\"dataframe\">\n",
       "  <thead>\n",
       "    <tr style=\"text-align: right;\">\n",
       "      <th></th>\n",
       "      <th>NivelEducacion</th>\n",
       "      <th>Transporte</th>\n",
       "    </tr>\n",
       "  </thead>\n",
       "  <tbody>\n",
       "    <tr>\n",
       "      <th>0</th>\n",
       "      <td>Universitaria</td>\n",
       "      <td>Coche</td>\n",
       "    </tr>\n",
       "    <tr>\n",
       "      <th>1</th>\n",
       "      <td>Secundaria</td>\n",
       "      <td>Bicicleta</td>\n",
       "    </tr>\n",
       "    <tr>\n",
       "      <th>2</th>\n",
       "      <td>Secundaria</td>\n",
       "      <td>Coche</td>\n",
       "    </tr>\n",
       "    <tr>\n",
       "      <th>3</th>\n",
       "      <td>Primaria</td>\n",
       "      <td>Bicicleta</td>\n",
       "    </tr>\n",
       "    <tr>\n",
       "      <th>4</th>\n",
       "      <td>Primaria</td>\n",
       "      <td>Coche</td>\n",
       "    </tr>\n",
       "    <tr>\n",
       "      <th>...</th>\n",
       "      <td>...</td>\n",
       "      <td>...</td>\n",
       "    </tr>\n",
       "    <tr>\n",
       "      <th>295</th>\n",
       "      <td>Primaria</td>\n",
       "      <td>Coche</td>\n",
       "    </tr>\n",
       "    <tr>\n",
       "      <th>296</th>\n",
       "      <td>Primaria</td>\n",
       "      <td>Coche</td>\n",
       "    </tr>\n",
       "    <tr>\n",
       "      <th>297</th>\n",
       "      <td>Primaria</td>\n",
       "      <td>Bicicleta</td>\n",
       "    </tr>\n",
       "    <tr>\n",
       "      <th>298</th>\n",
       "      <td>Primaria</td>\n",
       "      <td>Bicicleta</td>\n",
       "    </tr>\n",
       "    <tr>\n",
       "      <th>299</th>\n",
       "      <td>Secundaria</td>\n",
       "      <td>Bicicleta</td>\n",
       "    </tr>\n",
       "  </tbody>\n",
       "</table>\n",
       "<p>300 rows × 2 columns</p>\n",
       "</div>"
      ],
      "text/plain": [
       "    NivelEducacion Transporte\n",
       "0    Universitaria      Coche\n",
       "1       Secundaria  Bicicleta\n",
       "2       Secundaria      Coche\n",
       "3         Primaria  Bicicleta\n",
       "4         Primaria      Coche\n",
       "..             ...        ...\n",
       "295       Primaria      Coche\n",
       "296       Primaria      Coche\n",
       "297       Primaria  Bicicleta\n",
       "298       Primaria  Bicicleta\n",
       "299     Secundaria  Bicicleta\n",
       "\n",
       "[300 rows x 2 columns]"
      ]
     },
     "execution_count": 44,
     "metadata": {},
     "output_type": "execute_result"
    }
   ],
   "source": [
    "import pandas as pd\n",
    "import numpy as np\n",
    "from scipy.stats import chi2_contingency\n",
    "\n",
    "url = \"https://raw.githubusercontent.com/RafaelCaballero/tdm/refs/heads/master/datos/transporte.csv\"\n",
    "df = pd.read_csv(url)\n",
    "df"
   ]
  },
  {
   "cell_type": "markdown",
   "metadata": {},
   "source": [
    "**Paso 1**. Frecuencias observadas\n",
    "\n"
   ]
  },
  {
   "cell_type": "code",
   "execution_count": 45,
   "metadata": {},
   "outputs": [
    {
     "name": "stdout",
     "output_type": "stream",
     "text": [
      "Total Elementos 300\n"
     ]
    },
    {
     "data": {
      "text/html": [
       "<div>\n",
       "<style scoped>\n",
       "    .dataframe tbody tr th:only-of-type {\n",
       "        vertical-align: middle;\n",
       "    }\n",
       "\n",
       "    .dataframe tbody tr th {\n",
       "        vertical-align: top;\n",
       "    }\n",
       "\n",
       "    .dataframe thead th {\n",
       "        text-align: right;\n",
       "    }\n",
       "</style>\n",
       "<table border=\"1\" class=\"dataframe\">\n",
       "  <thead>\n",
       "    <tr style=\"text-align: right;\">\n",
       "      <th>Transporte</th>\n",
       "      <th>Bicicleta</th>\n",
       "      <th>Coche</th>\n",
       "      <th>Transporte Público</th>\n",
       "    </tr>\n",
       "    <tr>\n",
       "      <th>NivelEducacion</th>\n",
       "      <th></th>\n",
       "      <th></th>\n",
       "      <th></th>\n",
       "    </tr>\n",
       "  </thead>\n",
       "  <tbody>\n",
       "    <tr>\n",
       "      <th>Primaria</th>\n",
       "      <td>34</td>\n",
       "      <td>54</td>\n",
       "      <td>23</td>\n",
       "    </tr>\n",
       "    <tr>\n",
       "      <th>Secundaria</th>\n",
       "      <td>31</td>\n",
       "      <td>63</td>\n",
       "      <td>15</td>\n",
       "    </tr>\n",
       "    <tr>\n",
       "      <th>Universitaria</th>\n",
       "      <td>17</td>\n",
       "      <td>32</td>\n",
       "      <td>31</td>\n",
       "    </tr>\n",
       "  </tbody>\n",
       "</table>\n",
       "</div>"
      ],
      "text/plain": [
       "Transporte      Bicicleta  Coche  Transporte Público\n",
       "NivelEducacion                                      \n",
       "Primaria               34     54                  23\n",
       "Secundaria             31     63                  15\n",
       "Universitaria          17     32                  31"
      ]
     },
     "execution_count": 45,
     "metadata": {},
     "output_type": "execute_result"
    }
   ],
   "source": [
    "# Ver la tabla de frecuencias observada\n",
    "tabla_observada = pd.crosstab(df[\"NivelEducacion\"], df[\"Transporte\"])\n",
    "n = tabla_observada.sum().sum()\n",
    "print(\"Total Elementos\", n)\n",
    "tabla_observada"
   ]
  },
  {
   "cell_type": "markdown",
   "metadata": {},
   "source": [
    "\n",
    "**Paso 2** Frecuencias esperadas.\n",
    "\n",
    "Para razonar sobre las frencuencias esperadas, consideremos:\n"
   ]
  },
  {
   "cell_type": "code",
   "execution_count": 46,
   "metadata": {},
   "outputs": [
    {
     "name": "stdout",
     "output_type": "stream",
     "text": [
      "['Universitaria' 'Secundaria' 'Primaria']\n"
     ]
    },
    {
     "data": {
      "text/plain": [
       "NivelEducacion\n",
       "Primaria         0.370000\n",
       "Secundaria       0.363333\n",
       "Universitaria    0.266667\n",
       "Name: proportion, dtype: float64"
      ]
     },
     "execution_count": 46,
     "metadata": {},
     "output_type": "execute_result"
    }
   ],
   "source": [
    "print(df.NivelEducacion.unique())\n",
    "df.NivelEducacion.value_counts(normalize=True)"
   ]
  },
  {
   "cell_type": "code",
   "execution_count": 47,
   "metadata": {},
   "outputs": [
    {
     "name": "stdout",
     "output_type": "stream",
     "text": [
      "['Coche' 'Bicicleta' 'Transporte Público']\n"
     ]
    },
    {
     "data": {
      "text/plain": [
       "Transporte\n",
       "Coche                 149\n",
       "Bicicleta              82\n",
       "Transporte Público     69\n",
       "Name: count, dtype: int64"
      ]
     },
     "execution_count": 47,
     "metadata": {},
     "output_type": "execute_result"
    }
   ],
   "source": [
    "print(df.Transporte.unique())\n",
    "df.Transporte.value_counts()"
   ]
  },
  {
   "cell_type": "markdown",
   "metadata": {},
   "source": [
    "Así pues, hay 149 pesonas que van en coche. Si la educación no influye entonces esos 149 se repartirán de acuerdo con la proporción de medios de transporte: \n",
    "\n",
    "Primaria y coche: $149 \\times .37  =55.13$\n",
    "\n",
    "Secundaria y coche: $149 \\times 0.36333 = 54.1317$\n",
    "\n",
    "Universitaria y coche: $149 \\times 0.26667 = 39,7339$\n",
    "\n",
    "y los 3 valores, suman como era de esperar, 149. "
   ]
  },
  {
   "cell_type": "code",
   "execution_count": 48,
   "metadata": {},
   "outputs": [
    {
     "data": {
      "text/html": [
       "<div>\n",
       "<style scoped>\n",
       "    .dataframe tbody tr th:only-of-type {\n",
       "        vertical-align: middle;\n",
       "    }\n",
       "\n",
       "    .dataframe tbody tr th {\n",
       "        vertical-align: top;\n",
       "    }\n",
       "\n",
       "    .dataframe thead th {\n",
       "        text-align: right;\n",
       "    }\n",
       "</style>\n",
       "<table border=\"1\" class=\"dataframe\">\n",
       "  <thead>\n",
       "    <tr style=\"text-align: right;\">\n",
       "      <th>Transporte</th>\n",
       "      <th>Bicicleta</th>\n",
       "      <th>Coche</th>\n",
       "      <th>Transporte Público</th>\n",
       "    </tr>\n",
       "    <tr>\n",
       "      <th>NivelEducacion</th>\n",
       "      <th></th>\n",
       "      <th></th>\n",
       "      <th></th>\n",
       "    </tr>\n",
       "  </thead>\n",
       "  <tbody>\n",
       "    <tr>\n",
       "      <th>Primaria</th>\n",
       "      <td>30.34</td>\n",
       "      <td>55.13</td>\n",
       "      <td>25.53</td>\n",
       "    </tr>\n",
       "    <tr>\n",
       "      <th>Secundaria</th>\n",
       "      <td>29.793333</td>\n",
       "      <td>54.136667</td>\n",
       "      <td>25.07</td>\n",
       "    </tr>\n",
       "    <tr>\n",
       "      <th>Universitaria</th>\n",
       "      <td>21.866667</td>\n",
       "      <td>39.733333</td>\n",
       "      <td>18.4</td>\n",
       "    </tr>\n",
       "  </tbody>\n",
       "</table>\n",
       "</div>"
      ],
      "text/plain": [
       "Transporte      Bicicleta      Coche Transporte Público\n",
       "NivelEducacion                                         \n",
       "Primaria            30.34      55.13              25.53\n",
       "Secundaria      29.793333  54.136667              25.07\n",
       "Universitaria   21.866667  39.733333               18.4"
      ]
     },
     "execution_count": 48,
     "metadata": {},
     "output_type": "execute_result"
    }
   ],
   "source": [
    "# Calcular las frecuencias esperadas\n",
    "esperadas= pd.DataFrame(index=tabla_observada.index, columns=tabla_observada .columns)\n",
    "\n",
    "for row in tabla_observada.index:\n",
    "    for col in tabla_observada .columns:\n",
    "        esperadas.loc[row, col] = (tabla_observada.loc[row].sum() * tabla_observada[col].sum()) /n\n",
    "\n",
    "esperadas\n",
    "#expected_frequencies = expected_frequencies.astype(float)\n",
    "#expected_frequencies"
   ]
  },
  {
   "cell_type": "markdown",
   "metadata": {},
   "source": [
    "Lo que hace este test es comparar el valor esperado y el observado y determinar si estadísticamente esa distribución es razonable. \n",
    "\n",
    "### 4.3 $\\chi^2$ con librerías\n",
    "\n",
    "Veamos el ejemplo todo junto:   |\n"
   ]
  },
  {
   "cell_type": "code",
   "execution_count": 49,
   "metadata": {
    "colab": {
     "base_uri": "https://localhost:8080/"
    },
    "id": "yHuhPBsgiX9Z",
    "outputId": "2d59990f-ee2b-4647-f889-17d7187288e2"
   },
   "outputs": [
    {
     "name": "stdout",
     "output_type": "stream",
     "text": [
      "Tabla de Frecuencias Observada:\n",
      " Transporte      Bicicleta  Coche  Transporte Público\n",
      "NivelEducacion                                      \n",
      "Primaria               34     54                  23\n",
      "Secundaria             31     63                  15\n",
      "Universitaria          17     32                  31\n",
      "Valor p: 0.0015611685362774046\n",
      "\n",
      "Rechazamos la hipótesis nula: Existe una asociación significativa entre el nivel de educación y el transporte preferido.\n"
     ]
    }
   ],
   "source": [
    "import pandas as pd\n",
    "import numpy as np\n",
    "from scipy.stats import chi2_contingency\n",
    "\n",
    "url = \"https://raw.githubusercontent.com/RafaelCaballero/tdm/refs/heads/master/datos/transporte.csv\"\n",
    "df = pd.read_csv(url)\n",
    "\n",
    "# Ver la tabla de frecuencias observada\n",
    "tabla_observada = pd.crosstab(df[\"NivelEducacion\"], df[\"Transporte\"])\n",
    "print(\"Tabla de Frecuencias Observada:\\n\", tabla_observada)\n",
    "\n",
    "# Calcular el test de Chi-cuadrado\n",
    "chi2, p, dof, tabla_esperada = chi2_contingency(tabla_observada)\n",
    "\n",
    "# Mostrar resultados\n",
    "print(f\"Valor p: {p}\")\n",
    "\n",
    "# Interpretación del resultado\n",
    "alpha = 0.05\n",
    "if p < alpha:\n",
    "    print(\"\\nRechazamos la hipótesis nula: Existe una asociación significativa entre el nivel de educación y el transporte preferido.\")\n",
    "else:\n",
    "    print(\"\\nNo se puede rechazar la hipótesis nula: No se encontró asociación significativa entre el nivel de educación y el transporte preferido.\")\n"
   ]
  },
  {
   "cell_type": "code",
   "execution_count": 20,
   "metadata": {},
   "outputs": [
    {
     "data": {
      "text/html": [
       "<div>\n",
       "<style scoped>\n",
       "    .dataframe tbody tr th:only-of-type {\n",
       "        vertical-align: middle;\n",
       "    }\n",
       "\n",
       "    .dataframe tbody tr th {\n",
       "        vertical-align: top;\n",
       "    }\n",
       "\n",
       "    .dataframe thead th {\n",
       "        text-align: right;\n",
       "    }\n",
       "</style>\n",
       "<table border=\"1\" class=\"dataframe\">\n",
       "  <thead>\n",
       "    <tr style=\"text-align: right;\">\n",
       "      <th></th>\n",
       "      <th>NivelEducacion_Primaria</th>\n",
       "      <th>NivelEducacion_Secundaria</th>\n",
       "      <th>NivelEducacion_Universitaria</th>\n",
       "      <th>Transporte_Bicicleta</th>\n",
       "      <th>Transporte_Coche</th>\n",
       "      <th>Transporte_Transporte Público</th>\n",
       "    </tr>\n",
       "  </thead>\n",
       "  <tbody>\n",
       "    <tr>\n",
       "      <th>0</th>\n",
       "      <td>False</td>\n",
       "      <td>False</td>\n",
       "      <td>True</td>\n",
       "      <td>False</td>\n",
       "      <td>True</td>\n",
       "      <td>False</td>\n",
       "    </tr>\n",
       "    <tr>\n",
       "      <th>1</th>\n",
       "      <td>False</td>\n",
       "      <td>True</td>\n",
       "      <td>False</td>\n",
       "      <td>True</td>\n",
       "      <td>False</td>\n",
       "      <td>False</td>\n",
       "    </tr>\n",
       "    <tr>\n",
       "      <th>2</th>\n",
       "      <td>False</td>\n",
       "      <td>True</td>\n",
       "      <td>False</td>\n",
       "      <td>False</td>\n",
       "      <td>True</td>\n",
       "      <td>False</td>\n",
       "    </tr>\n",
       "    <tr>\n",
       "      <th>3</th>\n",
       "      <td>True</td>\n",
       "      <td>False</td>\n",
       "      <td>False</td>\n",
       "      <td>True</td>\n",
       "      <td>False</td>\n",
       "      <td>False</td>\n",
       "    </tr>\n",
       "    <tr>\n",
       "      <th>4</th>\n",
       "      <td>True</td>\n",
       "      <td>False</td>\n",
       "      <td>False</td>\n",
       "      <td>False</td>\n",
       "      <td>True</td>\n",
       "      <td>False</td>\n",
       "    </tr>\n",
       "    <tr>\n",
       "      <th>...</th>\n",
       "      <td>...</td>\n",
       "      <td>...</td>\n",
       "      <td>...</td>\n",
       "      <td>...</td>\n",
       "      <td>...</td>\n",
       "      <td>...</td>\n",
       "    </tr>\n",
       "    <tr>\n",
       "      <th>295</th>\n",
       "      <td>True</td>\n",
       "      <td>False</td>\n",
       "      <td>False</td>\n",
       "      <td>False</td>\n",
       "      <td>True</td>\n",
       "      <td>False</td>\n",
       "    </tr>\n",
       "    <tr>\n",
       "      <th>296</th>\n",
       "      <td>True</td>\n",
       "      <td>False</td>\n",
       "      <td>False</td>\n",
       "      <td>False</td>\n",
       "      <td>True</td>\n",
       "      <td>False</td>\n",
       "    </tr>\n",
       "    <tr>\n",
       "      <th>297</th>\n",
       "      <td>True</td>\n",
       "      <td>False</td>\n",
       "      <td>False</td>\n",
       "      <td>True</td>\n",
       "      <td>False</td>\n",
       "      <td>False</td>\n",
       "    </tr>\n",
       "    <tr>\n",
       "      <th>298</th>\n",
       "      <td>True</td>\n",
       "      <td>False</td>\n",
       "      <td>False</td>\n",
       "      <td>True</td>\n",
       "      <td>False</td>\n",
       "      <td>False</td>\n",
       "    </tr>\n",
       "    <tr>\n",
       "      <th>299</th>\n",
       "      <td>False</td>\n",
       "      <td>True</td>\n",
       "      <td>False</td>\n",
       "      <td>True</td>\n",
       "      <td>False</td>\n",
       "      <td>False</td>\n",
       "    </tr>\n",
       "  </tbody>\n",
       "</table>\n",
       "<p>300 rows × 6 columns</p>\n",
       "</div>"
      ],
      "text/plain": [
       "     NivelEducacion_Primaria  NivelEducacion_Secundaria  \\\n",
       "0                      False                      False   \n",
       "1                      False                       True   \n",
       "2                      False                       True   \n",
       "3                       True                      False   \n",
       "4                       True                      False   \n",
       "..                       ...                        ...   \n",
       "295                     True                      False   \n",
       "296                     True                      False   \n",
       "297                     True                      False   \n",
       "298                     True                      False   \n",
       "299                    False                       True   \n",
       "\n",
       "     NivelEducacion_Universitaria  Transporte_Bicicleta  Transporte_Coche  \\\n",
       "0                            True                 False              True   \n",
       "1                           False                  True             False   \n",
       "2                           False                 False              True   \n",
       "3                           False                  True             False   \n",
       "4                           False                 False              True   \n",
       "..                            ...                   ...               ...   \n",
       "295                         False                 False              True   \n",
       "296                         False                 False              True   \n",
       "297                         False                  True             False   \n",
       "298                         False                  True             False   \n",
       "299                         False                  True             False   \n",
       "\n",
       "     Transporte_Transporte Público  \n",
       "0                            False  \n",
       "1                            False  \n",
       "2                            False  \n",
       "3                            False  \n",
       "4                            False  \n",
       "..                             ...  \n",
       "295                          False  \n",
       "296                          False  \n",
       "297                          False  \n",
       "298                          False  \n",
       "299                          False  \n",
       "\n",
       "[300 rows x 6 columns]"
      ]
     },
     "execution_count": 20,
     "metadata": {},
     "output_type": "execute_result"
    }
   ],
   "source": [
    "df2 = pd.get_dummies(df)\n",
    "df2"
   ]
  },
  {
   "cell_type": "code",
   "execution_count": 21,
   "metadata": {},
   "outputs": [
    {
     "data": {
      "text/html": [
       "<div>\n",
       "<style scoped>\n",
       "    .dataframe tbody tr th:only-of-type {\n",
       "        vertical-align: middle;\n",
       "    }\n",
       "\n",
       "    .dataframe tbody tr th {\n",
       "        vertical-align: top;\n",
       "    }\n",
       "\n",
       "    .dataframe thead th {\n",
       "        text-align: right;\n",
       "    }\n",
       "</style>\n",
       "<table border=\"1\" class=\"dataframe\">\n",
       "  <thead>\n",
       "    <tr style=\"text-align: right;\">\n",
       "      <th></th>\n",
       "      <th>NivelEducacion_Primaria</th>\n",
       "      <th>NivelEducacion_Secundaria</th>\n",
       "      <th>NivelEducacion_Universitaria</th>\n",
       "      <th>Transporte_Bicicleta</th>\n",
       "      <th>Transporte_Coche</th>\n",
       "      <th>Transporte_Transporte Público</th>\n",
       "    </tr>\n",
       "  </thead>\n",
       "  <tbody>\n",
       "    <tr>\n",
       "      <th>NivelEducacion_Primaria</th>\n",
       "      <td>1.000000</td>\n",
       "      <td>-0.578931</td>\n",
       "      <td>-0.462130</td>\n",
       "      <td>0.056699</td>\n",
       "      <td>-0.015604</td>\n",
       "      <td>-0.041507</td>\n",
       "    </tr>\n",
       "    <tr>\n",
       "      <th>NivelEducacion_Secundaria</th>\n",
       "      <td>-0.578931</td>\n",
       "      <td>1.000000</td>\n",
       "      <td>-0.455544</td>\n",
       "      <td>0.018765</td>\n",
       "      <td>0.122859</td>\n",
       "      <td>-0.165840</td>\n",
       "    </tr>\n",
       "    <tr>\n",
       "      <th>NivelEducacion_Universitaria</th>\n",
       "      <td>-0.462130</td>\n",
       "      <td>-0.455544</td>\n",
       "      <td>1.000000</td>\n",
       "      <td>-0.082312</td>\n",
       "      <td>-0.116587</td>\n",
       "      <td>0.225686</td>\n",
       "    </tr>\n",
       "    <tr>\n",
       "      <th>Transporte_Bicicleta</th>\n",
       "      <td>0.056699</td>\n",
       "      <td>0.018765</td>\n",
       "      <td>-0.082312</td>\n",
       "      <td>1.000000</td>\n",
       "      <td>-0.609233</td>\n",
       "      <td>-0.335195</td>\n",
       "    </tr>\n",
       "    <tr>\n",
       "      <th>Transporte_Coche</th>\n",
       "      <td>-0.015604</td>\n",
       "      <td>0.122859</td>\n",
       "      <td>-0.116587</td>\n",
       "      <td>-0.609233</td>\n",
       "      <td>1.000000</td>\n",
       "      <td>-0.542904</td>\n",
       "    </tr>\n",
       "    <tr>\n",
       "      <th>Transporte_Transporte Público</th>\n",
       "      <td>-0.041507</td>\n",
       "      <td>-0.165840</td>\n",
       "      <td>0.225686</td>\n",
       "      <td>-0.335195</td>\n",
       "      <td>-0.542904</td>\n",
       "      <td>1.000000</td>\n",
       "    </tr>\n",
       "  </tbody>\n",
       "</table>\n",
       "</div>"
      ],
      "text/plain": [
       "                               NivelEducacion_Primaria  \\\n",
       "NivelEducacion_Primaria                       1.000000   \n",
       "NivelEducacion_Secundaria                    -0.578931   \n",
       "NivelEducacion_Universitaria                 -0.462130   \n",
       "Transporte_Bicicleta                          0.056699   \n",
       "Transporte_Coche                             -0.015604   \n",
       "Transporte_Transporte Público                -0.041507   \n",
       "\n",
       "                               NivelEducacion_Secundaria  \\\n",
       "NivelEducacion_Primaria                        -0.578931   \n",
       "NivelEducacion_Secundaria                       1.000000   \n",
       "NivelEducacion_Universitaria                   -0.455544   \n",
       "Transporte_Bicicleta                            0.018765   \n",
       "Transporte_Coche                                0.122859   \n",
       "Transporte_Transporte Público                  -0.165840   \n",
       "\n",
       "                               NivelEducacion_Universitaria  \\\n",
       "NivelEducacion_Primaria                           -0.462130   \n",
       "NivelEducacion_Secundaria                         -0.455544   \n",
       "NivelEducacion_Universitaria                       1.000000   \n",
       "Transporte_Bicicleta                              -0.082312   \n",
       "Transporte_Coche                                  -0.116587   \n",
       "Transporte_Transporte Público                      0.225686   \n",
       "\n",
       "                               Transporte_Bicicleta  Transporte_Coche  \\\n",
       "NivelEducacion_Primaria                    0.056699         -0.015604   \n",
       "NivelEducacion_Secundaria                  0.018765          0.122859   \n",
       "NivelEducacion_Universitaria              -0.082312         -0.116587   \n",
       "Transporte_Bicicleta                       1.000000         -0.609233   \n",
       "Transporte_Coche                          -0.609233          1.000000   \n",
       "Transporte_Transporte Público             -0.335195         -0.542904   \n",
       "\n",
       "                               Transporte_Transporte Público  \n",
       "NivelEducacion_Primaria                            -0.041507  \n",
       "NivelEducacion_Secundaria                          -0.165840  \n",
       "NivelEducacion_Universitaria                        0.225686  \n",
       "Transporte_Bicicleta                               -0.335195  \n",
       "Transporte_Coche                                   -0.542904  \n",
       "Transporte_Transporte Público                       1.000000  "
      ]
     },
     "execution_count": 21,
     "metadata": {},
     "output_type": "execute_result"
    }
   ],
   "source": [
    "df2.corr()"
   ]
  },
  {
   "cell_type": "markdown",
   "metadata": {
    "id": "uPKVwn00lLor"
   },
   "source": [
    "## 5. Estacionariedad\n",
    "---\n",
    "\n",
    "Una serie temporal es estacionaria si sus características estadísticas, como la media, la varianza y la autocorrelación, no cambian con el tiempo. \n",
    "\n",
    "<div class=\"alert alert-success\">\n",
    "Dado que las técnicas de machine learning supervisado buscan patrones que se repitan en el tiempo interesa que la serie sea estacionaria porque así se podrán detectar estos patrones. Si el método encuentra que los datos son siempre \"nuevos\", distintos a los anteriores, no podrá encontrar una forma eficiente de modelizar ni predecir\n",
    "</div>\n",
    "\n",
    "Un caso típico de datos no estacionarios son los datos que dependen del día anterior, por ejemplo valores bursátiles, o valores que nos digan cada día del mes el total mensual vendido hasta el momento.\n",
    "\n",
    "Una propiedad negativa adicional de los datos no estacionarios es que tiende a exhibir altos pero falsos coeficientes de correlación.\n",
    "\n",
    "<div class=\"alert alert-success\">\n",
    "No confundir estacionariedad con estacionalidad, otra propiedad que habla de datos que tienen a ser similares en ciertas épocas.\n",
    "</div>\n",
    "\n",
    "\n",
    "\n",
    "\n",
    "### 5.1 Objetivo e hipótesis nula\n",
    "\n",
    "\n",
    "**Test Dickey-Fuller Aumentado (ADF)**\n",
    "\n",
    "Hipótesis Nula. $H_0$: la serie temporal no es estacionaria. Asume ciertas propiedades de los errores (media cero)\n",
    "\n",
    "KPSS test: evalúa la hipótesis opuesta (H₀: la serie es estacionaria) y es no paramétrico\n",
    "\n",
    "### 5.2 Ejemplo\n",
    "\n"
   ]
  },
  {
   "cell_type": "code",
   "execution_count": 22,
   "metadata": {},
   "outputs": [
    {
     "name": "stderr",
     "output_type": "stream",
     "text": [
      "[*********************100%***********************]  1 of 5 completed\n",
      "\n",
      "5 Failed downloads:\n",
      "['IBE.MC', 'ITX.MC', 'BBVA.MC', 'SAN.MC', 'REP.MC']: JSONDecodeError('Expecting value: line 1 column 1 (char 0)')\n"
     ]
    },
    {
     "data": {
      "text/html": [
       "<div>\n",
       "<style scoped>\n",
       "    .dataframe tbody tr th:only-of-type {\n",
       "        vertical-align: middle;\n",
       "    }\n",
       "\n",
       "    .dataframe tbody tr th {\n",
       "        vertical-align: top;\n",
       "    }\n",
       "\n",
       "    .dataframe thead th {\n",
       "        text-align: right;\n",
       "    }\n",
       "</style>\n",
       "<table border=\"1\" class=\"dataframe\">\n",
       "  <thead>\n",
       "    <tr style=\"text-align: right;\">\n",
       "      <th></th>\n",
       "      <th>Close_BBVA</th>\n",
       "      <th>Close_Iberdrola</th>\n",
       "      <th>Close_Inditex</th>\n",
       "      <th>Close_Repsol</th>\n",
       "      <th>Close_Santander</th>\n",
       "      <th>Volume_BBVA</th>\n",
       "      <th>Volume_Iberdrola</th>\n",
       "      <th>Volume_Inditex</th>\n",
       "      <th>Volume_Repsol</th>\n",
       "      <th>Volume_Santander</th>\n",
       "    </tr>\n",
       "    <tr>\n",
       "      <th>Date</th>\n",
       "      <th></th>\n",
       "      <th></th>\n",
       "      <th></th>\n",
       "      <th></th>\n",
       "      <th></th>\n",
       "      <th></th>\n",
       "      <th></th>\n",
       "      <th></th>\n",
       "      <th></th>\n",
       "      <th></th>\n",
       "    </tr>\n",
       "  </thead>\n",
       "  <tbody>\n",
       "  </tbody>\n",
       "</table>\n",
       "</div>"
      ],
      "text/plain": [
       "Empty DataFrame\n",
       "Columns: [Close_BBVA, Close_Iberdrola, Close_Inditex, Close_Repsol, Close_Santander, Volume_BBVA, Volume_Iberdrola, Volume_Inditex, Volume_Repsol, Volume_Santander]\n",
       "Index: []"
      ]
     },
     "execution_count": 22,
     "metadata": {},
     "output_type": "execute_result"
    }
   ],
   "source": [
    "import yfinance as yf\n",
    "import pandas as pd\n",
    "\n",
    "# Definir los símbolos de los 5 primeros valores del IBEX 35\n",
    "symbols = ['BBVA.MC', 'IBE.MC', 'ITX.MC', 'REP.MC','SAN.MC' ]  # cód. Yahoo\n",
    "nombre = ['BBVA', 'Iberdrola', 'Inditex', 'Repsol','Santander']  # Nombre\n",
    "\n",
    "# descargamos y nos quedamos solo con los valores al cierre\n",
    "df = yf.download(tickers=symbols, period='max').loc[:,[\"Close\",\"Volume\"]].dropna()\n",
    "df.columns = ['_'.join(col).strip() for col in df.columns]\n",
    "\n",
    "# Crear un diccionario de mapeo\n",
    "mapping = dict(zip(symbols, nombre))\n",
    "\n",
    "# Renombrar las columnas usando el diccionario\n",
    "df.columns = [col.split('_')[0] + '_' + mapping.get(col.split('_')[1], col.split('_')[1]) for col in df.columns]\n",
    "df"
   ]
  },
  {
   "cell_type": "code",
   "execution_count": 23,
   "metadata": {},
   "outputs": [
    {
     "name": "stderr",
     "output_type": "stream",
     "text": [
      "\r\n",
      "[*********************100%***********************]  1 of 5 completed\r\n",
      "[*********************100%***********************]  1 of 5 completed\r\n",
      "[*********************100%***********************]  1 of 5 completed\r\n",
      "[*********************100%***********************]  1 of 5 completed"
     ]
    },
    {
     "ename": "ValueError",
     "evalue": "sample size is too short to use selected regression component",
     "output_type": "error",
     "traceback": [
      "\u001b[1;31m---------------------------------------------------------------------------\u001b[0m",
      "\u001b[1;31mValueError\u001b[0m                                Traceback (most recent call last)",
      "Cell \u001b[1;32mIn[23], line 13\u001b[0m\n\u001b[0;32m     10\u001b[0m         \u001b[38;5;28;01melse\u001b[39;00m:\n\u001b[0;32m     11\u001b[0m             \u001b[38;5;28mprint\u001b[39m(\u001b[38;5;124mf\u001b[39m\u001b[38;5;124m\"\u001b[39m\u001b[38;5;124mNo puedo descartar que \u001b[39m\u001b[38;5;132;01m{\u001b[39;00mc\u001b[38;5;132;01m}\u001b[39;00m\u001b[38;5;124m no sea no estacionaria según el test ADS; p=\u001b[39m\u001b[38;5;132;01m{\u001b[39;00mpads\u001b[38;5;132;01m:\u001b[39;00m\u001b[38;5;124m.3f\u001b[39m\u001b[38;5;132;01m}\u001b[39;00m\u001b[38;5;124m\"\u001b[39m)\n\u001b[1;32m---> 13\u001b[0m \u001b[43mestacionariedad\u001b[49m\u001b[43m(\u001b[49m\u001b[43mdf\u001b[49m\u001b[43m)\u001b[49m\n",
      "Cell \u001b[1;32mIn[23], line 7\u001b[0m, in \u001b[0;36mestacionariedad\u001b[1;34m(df, alpha)\u001b[0m\n\u001b[0;32m      5\u001b[0m \u001b[38;5;28;01mfor\u001b[39;00m c \u001b[38;5;129;01min\u001b[39;00m df\u001b[38;5;241m.\u001b[39mcolumns:\n\u001b[0;32m      6\u001b[0m     serie_temporal \u001b[38;5;241m=\u001b[39m df[c]\n\u001b[1;32m----> 7\u001b[0m     pads \u001b[38;5;241m=\u001b[39m \u001b[43madfuller\u001b[49m\u001b[43m(\u001b[49m\u001b[43mserie_temporal\u001b[49m\u001b[43m)\u001b[49m[\u001b[38;5;241m1\u001b[39m]\n\u001b[0;32m      8\u001b[0m     \u001b[38;5;28;01mif\u001b[39;00m pads\u001b[38;5;241m<\u001b[39m\u001b[38;5;241m=\u001b[39malpha: \u001b[38;5;66;03m# descartamos que no es estacionaria\u001b[39;00m\n\u001b[0;32m      9\u001b[0m         \u001b[38;5;28mprint\u001b[39m(\u001b[38;5;124mf\u001b[39m\u001b[38;5;124m\"\u001b[39m\u001b[38;5;124mLa columna \u001b[39m\u001b[38;5;132;01m{\u001b[39;00mc\u001b[38;5;132;01m}\u001b[39;00m\u001b[38;5;124m es estacionaria según el test ADS; p=\u001b[39m\u001b[38;5;132;01m{\u001b[39;00mpads\u001b[38;5;132;01m:\u001b[39;00m\u001b[38;5;124m.3f\u001b[39m\u001b[38;5;132;01m}\u001b[39;00m\u001b[38;5;124m\"\u001b[39m)\n",
      "File \u001b[1;32mD:\\instalado\\anacondainstalado\\lib\\site-packages\\statsmodels\\tsa\\stattools.py:288\u001b[0m, in \u001b[0;36madfuller\u001b[1;34m(x, maxlag, regression, autolag, store, regresults)\u001b[0m\n\u001b[0;32m    286\u001b[0m     maxlag \u001b[38;5;241m=\u001b[39m \u001b[38;5;28mmin\u001b[39m(nobs \u001b[38;5;241m/\u001b[39m\u001b[38;5;241m/\u001b[39m \u001b[38;5;241m2\u001b[39m \u001b[38;5;241m-\u001b[39m ntrend \u001b[38;5;241m-\u001b[39m \u001b[38;5;241m1\u001b[39m, maxlag)\n\u001b[0;32m    287\u001b[0m     \u001b[38;5;28;01mif\u001b[39;00m maxlag \u001b[38;5;241m<\u001b[39m \u001b[38;5;241m0\u001b[39m:\n\u001b[1;32m--> 288\u001b[0m         \u001b[38;5;28;01mraise\u001b[39;00m \u001b[38;5;167;01mValueError\u001b[39;00m(\n\u001b[0;32m    289\u001b[0m             \u001b[38;5;124m\"\u001b[39m\u001b[38;5;124msample size is too short to use selected \u001b[39m\u001b[38;5;124m\"\u001b[39m\n\u001b[0;32m    290\u001b[0m             \u001b[38;5;124m\"\u001b[39m\u001b[38;5;124mregression component\u001b[39m\u001b[38;5;124m\"\u001b[39m\n\u001b[0;32m    291\u001b[0m         )\n\u001b[0;32m    292\u001b[0m \u001b[38;5;28;01melif\u001b[39;00m maxlag \u001b[38;5;241m>\u001b[39m nobs \u001b[38;5;241m/\u001b[39m\u001b[38;5;241m/\u001b[39m \u001b[38;5;241m2\u001b[39m \u001b[38;5;241m-\u001b[39m ntrend \u001b[38;5;241m-\u001b[39m \u001b[38;5;241m1\u001b[39m:\n\u001b[0;32m    293\u001b[0m     \u001b[38;5;28;01mraise\u001b[39;00m \u001b[38;5;167;01mValueError\u001b[39;00m(\n\u001b[0;32m    294\u001b[0m         \u001b[38;5;124m\"\u001b[39m\u001b[38;5;124mmaxlag must be less than (nobs/2 - 1 - ntrend) \u001b[39m\u001b[38;5;124m\"\u001b[39m\n\u001b[0;32m    295\u001b[0m         \u001b[38;5;124m\"\u001b[39m\u001b[38;5;124mwhere n trend is the number of included \u001b[39m\u001b[38;5;124m\"\u001b[39m\n\u001b[0;32m    296\u001b[0m         \u001b[38;5;124m\"\u001b[39m\u001b[38;5;124mdeterministic regressors\u001b[39m\u001b[38;5;124m\"\u001b[39m\n\u001b[0;32m    297\u001b[0m     )\n",
      "\u001b[1;31mValueError\u001b[0m: sample size is too short to use selected regression component"
     ]
    }
   ],
   "source": [
    "from statsmodels.tsa.stattools import adfuller\n",
    "from statsmodels.tsa.stattools import kpss\n",
    "\n",
    "def estacionariedad(df,alpha=0.01):  \n",
    "    for c in df.columns:\n",
    "        serie_temporal = df[c]\n",
    "        pads = adfuller(serie_temporal)[1]\n",
    "        if pads<=alpha: # descartamos que no es estacionaria\n",
    "            print(f\"La columna {c} es estacionaria según el test ADS; p={pads:.3f}\")\n",
    "        else:\n",
    "            print(f\"No puedo descartar que {c} no sea no estacionaria según el test ADS; p={pads:.3f}\")\n",
    "\n",
    "estacionariedad(df)"
   ]
  },
  {
   "cell_type": "markdown",
   "metadata": {},
   "source": [
    "Parece que no podemos garantizar que las columnas primeras sean estacionarias ¿qué hacer? \n",
    "\n",
    "Hay varios métodos. Quizás el más famoso es el llamado \"detrending\" que consiste en cambiar los valores por incrementos con respecto al día anterior\n"
   ]
  },
  {
   "cell_type": "code",
   "execution_count": null,
   "metadata": {},
   "outputs": [],
   "source": [
    "cols_dudosas = [c for c in df.columns if  \"Volume_\" not in c]\n",
    "df2 = df[cols_dudosas].diff().dropna()\n",
    "\n",
    "estacionariedad(df2)"
   ]
  },
  {
   "cell_type": "code",
   "execution_count": null,
   "metadata": {},
   "outputs": [],
   "source": [
    "filtro = df.index >= '2024'\n",
    "\n",
    "df[filtro].Close_BBVA.plot(kind=\"line\")"
   ]
  },
  {
   "cell_type": "code",
   "execution_count": null,
   "metadata": {},
   "outputs": [],
   "source": [
    "filtro = df2.index >= '2024'\n",
    "\n",
    "df2[filtro].Close_BBVA.plot(kind=\"line\")"
   ]
  },
  {
   "cell_type": "code",
   "execution_count": null,
   "metadata": {},
   "outputs": [],
   "source": [
    "cols_dudosas = [c for c in df.columns if  \"Volume_\" not in c]\n",
    "df3 = df[cols_dudosas].pct_change().dropna()\n",
    "\n",
    "estacionariedad(df3)\n",
    "\n",
    "filtro = df3.index >= '2024'\n",
    "\n",
    "df3[filtro].Close_BBVA.plot(kind=\"line\")"
   ]
  },
  {
   "cell_type": "markdown",
   "metadata": {},
   "source": [
    "Eso sí, recordar ahora que si se aplican métodos de machine learning estamos prediciendo incrementos\n"
   ]
  },
  {
   "cell_type": "markdown",
   "metadata": {},
   "source": [
    "## 6. Referencias\n",
    "---\n",
    "\n",
    "[Sobre los efectos no deseados de la no estacionariedad](https://www.quora.com/Why-do-people-convert-time-series-data-to-stationary-form-for-modeling) \n",
    "\n",
    "[Estacionariedad y como conseguirla](https://otexts.com/fpp2/stationarity.html). Por desgracia está para R, no para Python, pero en general esta página y las que la contienen explican muy bien los conceptos   \n",
    "\n",
    "*Python para análisis de datos*. El libro por excelencia para análisis de datos, un repaso muy completo aunque no cubre mucha de la parte de estadística que hemos visto en el curso hay más Python y Pandas. [Aquí](https://www.oreilly.com/library/view/python-for-data/9781491957653/) se puede consultar el índice. \n",
    "\n",
    "*Think STATS: Exploratory Data Analysis*. Un buen libro para estadística en general a partir de Python. Ojo porque no pretende enseñar las principales librerías sino los conceptos. El autor presenta su propio código, algo parecido a cuando hemos hecho las pruebas \"a mano\" antes de pasar a una librería.\n",
    "\n",
    "*Think Bayes: Bayesian Statistics in Python*. Buen complemento al anterior para entender el concepto de estasdística bayesiana. No es difícil pero hay que dedicarle tiempo. El resultado merece la pena.\n"
   ]
  },
  {
   "cell_type": "code",
   "execution_count": null,
   "metadata": {},
   "outputs": [],
   "source": []
  }
 ],
 "metadata": {
  "colab": {
   "provenance": []
  },
  "kernelspec": {
   "display_name": "Python 3 (ipykernel)",
   "language": "python",
   "name": "python3"
  },
  "language_info": {
   "codemirror_mode": {
    "name": "ipython",
    "version": 3
   },
   "file_extension": ".py",
   "mimetype": "text/x-python",
   "name": "python",
   "nbconvert_exporter": "python",
   "pygments_lexer": "ipython3",
   "version": "3.12.7"
  }
 },
 "nbformat": 4,
 "nbformat_minor": 4
}
