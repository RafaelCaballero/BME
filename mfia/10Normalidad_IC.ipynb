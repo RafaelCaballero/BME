{
 "cells": [
  {
   "cell_type": "markdown",
   "id": "b5a47980-33ac-4774-9af7-6f0926dd5794",
   "metadata": {
    "id": "b5a47980-33ac-4774-9af7-6f0926dd5794"
   },
   "source": [
    "\n",
    "<div class=\"alert alert-block alert-info\">\n",
    "<h1> Normalidad. Intervalos de confianza</h1>\n",
    "</div>\n",
    "\n",
    "### Rafa Caballero"
   ]
  },
  {
   "cell_type": "markdown",
   "id": "04a89c41-76d8-4d7c-b96f-60537b749179",
   "metadata": {
    "id": "04a89c41-76d8-4d7c-b96f-60537b749179"
   },
   "source": [
    "# Tabla de Contenidos\n",
    "1. [Introducción](#1.-Introducción)<br>\n",
    "2. [Distribución Normal](#2.-Distribución-Normal)<br>\n",
    "   2.1 [Definición](#2.1-Definición)<br>\n",
    "   2.2 [Propiedades](#2.2-Propiedades)<br>\n",
    "   2.3 [Aplicaciones](#2.3-Aplicaciones)<br>\n",
    "3. [Simetría y Curtosis](#3.-Asimetría-y-Curtosis)<br>\n",
    "   3.1 [Simetría](#3.1-Asimetría)<br>\n",
    "   3.2 [Curtosis](#3.2-Curtosis)<br>\n",
    "4. [Teorema central del límite](#4.-Teorema-central-del-límite)<br>\n",
    "   4.1 [Definición](#4.1-Definición)<br>\n",
    "   4.2 [Aplicaciones](#4.3-Aplicaciones)<br>\n",
    "5. [Distribución Binomial y Multinomial](#5.-Distribución-Binomal-y-Multinomial)<br>\n",
    "   5.1 [Distribución Binomial](#5.1-Distribución-Binomial)<br>\n",
    "   5.2 [Distribución Multinomial](#5.2-Distribución-Multinomial)<br>\n",
    "7. [Bootstrapping](#5.-Bootstrapping)<br>\n",
    "8. [Teorema de Chebyshev](#6.-Teorema-de-Chevyshev)<br>\n",
    "9. [Resumen](#8.-Resumen)\n",
    "10. [Referencias](#7.-Referencias)"
   ]
  },
  {
   "cell_type": "code",
   "execution_count": null,
   "id": "6c788f24-9d08-417e-b544-5b00ec678808",
   "metadata": {
    "id": "6c788f24-9d08-417e-b544-5b00ec678808"
   },
   "outputs": [],
   "source": [
    "modules = [\"scipy\",\"tqdm\"]\n",
    "\n",
    "import sys\n",
    "import os.path\n",
    "from subprocess import check_call\n",
    "import importlib\n",
    "import os\n",
    "\n",
    "def instala(modules):\n",
    "    print(\"Instalando módulos\")\n",
    "    for m in modules:\n",
    "        # para el import quitamos [...] y ==...\n",
    "        p = m.find(\"[\")\n",
    "        mi = m if p==-1 else m[:p]\n",
    "        p = mi.find(\"==\")\n",
    "        mi = mi if p==-1 else mi[:p]\n",
    "        torch_loader = importlib.util.find_spec(mi)\n",
    "        if torch_loader is not None:\n",
    "            print(m,\" encontrado\")\n",
    "        else:\n",
    "            print(m,\" No encontrado, instalando...\",end=\"\")\n",
    "            try:\n",
    "                r = check_call([sys.executable, \"-m\", \"pip\", \"install\", \"--user\", m])\n",
    "                print(\"¡hecho!\")\n",
    "            except:\n",
    "                print(\"¡Problema al instalar \",m,\"! ¿seguro que el módulo existe?\",sep=\"\")\n",
    "\n",
    "    print(\"¡Terminado!\")\n",
    "\n",
    "instala(modules)"
   ]
  },
  {
   "cell_type": "markdown",
   "id": "f52a0484-1452-44a5-94c1-c25f0d1cc81d",
   "metadata": {
    "id": "f52a0484-1452-44a5-94c1-c25f0d1cc81d"
   },
   "source": [
    "## 1. Introducción\n",
    "---\n",
    "\n",
    "Frases como\n",
    "\n",
    "_La estimación de nuestras ventas indica que el próximo mes el total será de 2.91M euros, y el siguiente de 3.0M, es un notable incremento_\n",
    "\n",
    "_El modelo que hemos realizado tiene una tasa de acierto del 95%_\n",
    "\n",
    "Son engañosas, y sin embargo se utilizan habitualmente. ¿Por qué son engañosas? Porque habitualmente estos valores se obtienen a partir de muestras (datos históricos de ventas, experimentos con  datos de entrenamiento, etc...). Pero ¿estos valores muestrales representan realmente a la población estudiada?  ¿si dispusiéramos de menos o más datos sería muy diferente?\n",
    "\n",
    "Para poder apreciar lo representativo de estos valores necesitamos **intervalos de confianza**.\n",
    "\n",
    "\n",
    "Un intervalo de confianza para un parámetro poblacional $\\theta$ está dado por dos valores, $𝐿$ y $𝑈$, que se calculan a partir de los datos muestrales, tal que $P(L \\le \\theta \\leq U) = 1  - \\alpha$,\n",
    "donde:\n",
    "    \n",
    "- $L$ y $U$: límites inferior y superior del intervalo de confianza.\n",
    "  \n",
    "- $\\theta$: parámetro poblacional que estamos tratando de estimar.\n",
    "  \n",
    "- $1−\\alpha$: nivel de confianza, a menudo expresado como valor porcentual $100 \\times (1-\\alpha)$\n",
    "  \n",
    "\n",
    "\n",
    "Supongamos que en el caso de 2.91M  y 3M tenenemos un intervalo de confianza al 95% ($\\alpha = 0.05$)\n"
   ]
  },
  {
   "cell_type": "code",
   "execution_count": null,
   "id": "005cfdec-b1c9-4b90-83dd-5df52c2d6b9f",
   "metadata": {
    "id": "005cfdec-b1c9-4b90-83dd-5df52c2d6b9f"
   },
   "outputs": [],
   "source": [
    "import matplotlib.pyplot as plt\n",
    "import numpy as np\n",
    "\n",
    "# Definir los intervalos\n",
    "centro1 = 2.91\n",
    "rango1 = 0.7\n",
    "centro2 = 3\n",
    "rango2 = rango1\n",
    "\n",
    "# Definir los extremos de los intervalos\n",
    "intervalo1 = [centro1 - rango1, centro1 + rango1]\n",
    "intervalo2 = [centro2 - rango2, centro2 + rango2]\n",
    "\n",
    "# Crear un gráfico\n",
    "plt.figure(figsize=(8, 3))\n",
    "\n",
    "# Dibujar los intervalos como líneas horizontales\n",
    "plt.hlines(1, intervalo1[0], intervalo1[1], colors='blue',  label=f'Intervalo 1 ({centro1} ± {rango1})', linewidth=5)\n",
    "plt.hlines(1.1, intervalo2[0], intervalo2[1], colors='green', label=f'Intervalo 2 ({centro2} ± {rango2})', linewidth=5)\n",
    "plt.plot(centro1, 1, 'bo', markersize=10, label='Centro Intervalo 1')\n",
    "plt.plot(centro2, 1.1, 'go', markersize=10, label='Centro Intervalo 2')\n",
    "\n",
    "\n",
    "# Añadir etiquetas y leyenda\n",
    "plt.xlabel('Valores')\n",
    "plt.yticks([0.8,1, 1.1,2], ['','Intervalo 1', 'Intervalo 2',''])\n",
    "plt.legend()\n",
    "plt.title('Representación de dos intervalos, sus centros y solapamiento')\n",
    "\n",
    "# Mostrar el gráfico\n",
    "plt.show()\n",
    "\n"
   ]
  },
  {
   "cell_type": "markdown",
   "id": "9559c5ab-403f-4743-8906-a1ab64c36cf5",
   "metadata": {
    "id": "9559c5ab-403f-4743-8906-a1ab64c36cf5"
   },
   "source": [
    "Visto así, no parece que el incremento de ventas sea algo que podamos dar por sentado. Pero, ¿cómo determinar estos intervalos de confianza? Vamos a ver varias alternativas\n",
    "\n",
    "\n",
    "- Resultados relacionados con la distribución concreta, como veremos en el caso de la normal con la ley empírica\n",
    "- Teorema del límite central y alternativas como _bootstrapping_\n",
    "- Mediante tests estadísticos (una clase posterior)\n",
    "\n"
   ]
  },
  {
   "cell_type": "markdown",
   "id": "13ed569b-7b95-435f-a56f-5597ae058594",
   "metadata": {
    "id": "13ed569b-7b95-435f-a56f-5597ae058594"
   },
   "source": [
    "## 2. Distribución Normal\n",
    "---\n",
    "\n",
    "### 2.1 Definición\n",
    "\n",
    "<div class=\"alert alert-success\">\n",
    "La distribución normal o gaussiana, $\\mathcal{N(\\mu,\\sigma)}$ es una distribución continua cuya función de probabilidad viene dada por:\n",
    "\n",
    "$$f(x) = \\frac{1}{\\sigma \\sqrt{2 \\pi}} e^{-\\frac{(x - \\mu)^2}{2 \\sigma^2}}$$\n",
    "</div>\n",
    "\n",
    "La fórmula en sí no dice mucho, pero seguro que reconocemos la tradicional forma de \"campana\". El siguiente ejemplo corresponde a la distribución de probabilidad de la altura de las personas adultas"
   ]
  },
  {
   "cell_type": "markdown",
   "id": "a32ece43-c360-46ac-999d-e2c584aca23d",
   "metadata": {
    "id": "a32ece43-c360-46ac-999d-e2c584aca23d"
   },
   "source": [
    "<img src=\"https://github.com/RafaelCaballero/tdm/raw/refs/heads/master/images/normal.png\" width=600></img>\n",
    "\n",
    "LA normal viene dada por dos parámetros\n",
    "\n",
    "- La media, $\\mu$, el centro de la distribución\n",
    "- La desviación típica $\\sigma$, cuanto mayor sea más \"ancha\" y menos \"alta\" será la distribución\n",
    "\n",
    "Así que tenemos toda una familia de distribuciones normales. En el siguiente ejemplo tenemos una $\\mathcal{N}(20,0.6)$ y una $\\mathcal{N}(70,4)$:\n",
    "\n",
    "<img src=\"https://github.com/RafaelCaballero/tdm/raw/refs/heads/master/images/normal2.png\" width=600></img>"
   ]
  },
  {
   "cell_type": "markdown",
   "id": "9eba4867-4af7-4e9c-83a8-528575e56bfa",
   "metadata": {
    "id": "9eba4867-4af7-4e9c-83a8-528575e56bfa"
   },
   "source": [
    "En Python:"
   ]
  },
  {
   "cell_type": "code",
   "execution_count": null,
   "id": "ab23e0e1-ed28-4ae7-921f-7d18d4b94f1f",
   "metadata": {
    "id": "ab23e0e1-ed28-4ae7-921f-7d18d4b94f1f"
   },
   "outputs": [],
   "source": [
    "import numpy as np\n",
    "import matplotlib.pyplot as plt\n",
    "from scipy.stats import norm\n",
    "\n",
    "# Parámetros de la normal\n",
    "media = 15\n",
    "desviacion_tipica = 5\n",
    "\n",
    "# Generar valores para el eje X\n",
    "x = np.linspace(media - 4*desviacion_tipica, media + 4*desviacion_tipica, 1000)\n",
    "\n",
    "# Calcular la función de densidad (probability distribution function)\n",
    "y = norm.pdf(x, media, desviacion_tipica)\n",
    "\n",
    "# Dibujar la función de densidad\n",
    "plt.plot(x, y, label=f'N({media}, {desviacion_tipica**2})')\n",
    "plt.ylim(0,0.10)\n",
    "plt.title('Función de Densidad de una Normal')\n",
    "plt.xlabel('Valores')\n",
    "plt.ylabel('Densidad de probabilidad')\n",
    "plt.legend()\n",
    "plt.grid(True)\n",
    "plt.show()\n"
   ]
  },
  {
   "cell_type": "markdown",
   "id": "791b2aa5-fa25-4abf-ba95-d46c2aedba8e",
   "metadata": {
    "id": "791b2aa5-fa25-4abf-ba95-d46c2aedba8e"
   },
   "source": [
    "### 2.2 Propiedades:\n",
    "\n",
    "- En una normal perfecta, media moda y mediana coinciden y son el valor más probable\n",
    "- Según nos alejamos de la media la probabilidad baja rápidamente (dependerá de la varianza $\\sigma$\n",
    "- Es una distribución simétrica\n",
    "- Se verifica la llamada _regla empírica_\n",
    "\n",
    "<img src=\"https://upload.wikimedia.org/wikipedia/commons/thumb/2/22/Empirical_rule_histogram.svg/1280px-Empirical_rule_histogram.svg.png\" width=400> </img>\n",
    "\n",
    "Que, por cierto, podemos relacionar con nuestros boxplots para calcular outliers\n",
    "\n",
    "<img src=\"https://github.com/RafaelCaballero/tdm/raw/refs/heads/master/images/Boxplot_vs_PDF.png\" width=600></img>"
   ]
  },
  {
   "cell_type": "markdown",
   "id": "ead2ce5b-d43b-46dd-ab1a-8c9b82a908b1",
   "metadata": {
    "id": "ead2ce5b-d43b-46dd-ab1a-8c9b82a908b1"
   },
   "source": [
    "### 2.3 Aplicaciones\n",
    "\n",
    "<img src=\"https://upload.wikimedia.org/wikipedia/commons/thumb/8/8b/Eidechse.1024.jpg/500px-Eidechse.1024.jpg\" width=100></img>\n",
    "\n",
    "La normal surge de natural en muchos fenómenos:\n",
    "\n",
    "- Al medir la edad de un grupo aleatorio de personas\n",
    "- Si medimos distintos ejemplares de macho adulto _lagartija ibérica hispánica_\n",
    "- Número de piezas defectuosas en varias fábricas del mismo tipo\n",
    "- Resultados de la medida del mismo parámetro mediante muchas muestras obtenidas de la misma población o mediante muchas medidas (teorema central del límite)"
   ]
  },
  {
   "cell_type": "code",
   "execution_count": null,
   "id": "0b02992d-fd28-4b12-9f63-02bb3aaf1903",
   "metadata": {
    "id": "0b02992d-fd28-4b12-9f63-02bb3aaf1903"
   },
   "outputs": [],
   "source": [
    "import pandas as pd\n",
    "import matplotlib.pyplot as plt\n",
    "url = \"https://github.com/RafaelCaballero/tdm/raw/refs/heads/master/datos/IBEX6000Inc.zip\"\n",
    "\n",
    "cols = [\"Iberdrola\",\"Santander\"]\n",
    "df_raw = pd.read_csv(url,parse_dates=['Fecha'],index_col='Fecha').dropna()\n",
    "fig, ax = plt.subplots(figsize=(10, 4),dpi=100)\n",
    "df_raw[cols].plot(kind=\"hist\", ax=ax,bins=50, alpha=0.5)\n",
    "plt.xlim(-0.2,0.2)\n",
    "plt.ylim(0,2000)\n",
    "plt.show()"
   ]
  },
  {
   "cell_type": "code",
   "execution_count": null,
   "id": "1d126b34-f92f-4c9a-9821-42110e018b5b",
   "metadata": {
    "id": "1d126b34-f92f-4c9a-9821-42110e018b5b"
   },
   "outputs": [],
   "source": [
    "media = round(df_raw[cols].mean(),3)\n",
    "std = round(df_raw[cols].std(),3)\n",
    "print(f\"Aproximamos {cols[0]} ~ N({media.iloc[0]},{std.iloc[0]}), {cols[1]} ~ N({media.iloc[1]},{std.iloc[1]})\")"
   ]
  },
  {
   "cell_type": "code",
   "execution_count": null,
   "id": "279cb249-2e71-4ea9-9e67-bafc4e78485c",
   "metadata": {
    "id": "279cb249-2e71-4ea9-9e67-bafc4e78485c"
   },
   "outputs": [],
   "source": [
    "import numpy as np\n",
    "df_prueba = pd.DataFrame({cols[0]+\"_aprox\":np.random.normal(media.iloc[0], std.iloc[0], len(df_raw)),\n",
    "                          cols[1]+\"_aprox\":np.random.normal(media.iloc[1], std.iloc[1], len(df_raw))})\n",
    "fig, ax = plt.subplots(figsize=(10, 4),dpi=100)\n",
    "df_prueba.plot(kind=\"hist\",ax=ax,alpha=0.5,bins=50)\n",
    "plt.xlim(-0.2,0.2)\n",
    "plt.ylim(0,2000)\n",
    "plt.show()"
   ]
  },
  {
   "cell_type": "code",
   "execution_count": null,
   "id": "Fxk5xJw-fK14",
   "metadata": {
    "id": "Fxk5xJw-fK14"
   },
   "outputs": [],
   "source": []
  },
  {
   "cell_type": "markdown",
   "id": "501e38ba-28b7-4fa2-b5a5-c5b487db682c",
   "metadata": {
    "id": "501e38ba-28b7-4fa2-b5a5-c5b487db682c"
   },
   "source": [
    "## 3. Simetría y Curtosis\n",
    "---\n",
    "\n",
    "La asimetría y la curtosis son medidas que describen características importantes de cualquier distribución de datos, independientemente de si es normal o no. Veamos qué significan ambos conceptos\n",
    "\n",
    "### 3.1 Simetría\n",
    "\n",
    "<img src=\"https://github.com/RafaelCaballero/tdm/raw/refs/heads/master/images/simetria.webp\" width=600></img>\n",
    "\n",
    "Asimetría a la derecha o positiva: muchos datos acumulados en poco espacio a la izquierda, a la derecha un descenso lento y prolongado\n",
    "\n",
    "* Se tendrá que media>mediana\n",
    "* Normalmente solo tendremos que preocuparnos por outliers a la derecha, es decir por valores \"excesivamente grandes\"\n",
    "* Sucede por ejemplo en mediciones que por su naturaleza son todas positivas --> típico en las variables tipo ratio\n",
    "* La parte superior de la caja en el boxplot suele ser mayor que la parte inferior (debajo de la mediana)\n",
    "* Puede tener sentido hacer un estudio diferente a la izquierda y a la derecha de la mediana\n",
    "\n",
    "Asimetría a la izquierda o negativa: muchos datos acumulados en poco espacio a la derecha, a la izquierda un descenso lento y prolongado\n",
    "\n"
   ]
  },
  {
   "cell_type": "code",
   "execution_count": 1,
   "id": "e6a8779b-85dd-41c6-a241-847500c88936",
   "metadata": {
    "id": "e6a8779b-85dd-41c6-a241-847500c88936"
   },
   "outputs": [
    {
     "data": {
      "text/plain": [
       "<Axes: ylabel='Frequency'>"
      ]
     },
     "execution_count": 1,
     "metadata": {},
     "output_type": "execute_result"
    },
    {
     "data": {
      "image/png": "[encoded data removed]",
      "text/plain": [
       "<Figure size 640x480 with 1 Axes>"
      ]
     },
     "metadata": {},
     "output_type": "display_data"
    }
   ],
   "source": [
    "import pandas as pd\n",
    "import numpy as np\n",
    "import matplotlib.pyplot as plt\n",
    "\n",
    "url = \"https://raw.githubusercontent.com/RafaelCaballero/tdm/master/datos/madrid/contaminacionLargo.csv\"\n",
    "df_conta = pd.read_csv(url)\n",
    "\n",
    "df_conta.PM10.plot(kind=\"hist\",bins=50)"
   ]
  },
  {
   "cell_type": "code",
   "execution_count": null,
   "id": "0689e620-bf19-4636-a18c-081b4b8eaba3",
   "metadata": {
    "id": "0689e620-bf19-4636-a18c-081b4b8eaba3"
   },
   "outputs": [],
   "source": [
    "\n",
    "df_conta.PM10.plot(kind=\"hist\",bins=50)\n",
    "moda = df_conta.PM10.mode().values[0]\n",
    "media = df_conta.PM10.mean()\n",
    "mediana = df_conta.PM10.median()\n",
    "plt.axvline(moda, color='pink', linestyle='dashed', linewidth=2, label=f'Moda: {moda:.2f}')\n",
    "plt.axvline(mediana, color='green', linestyle='solid', linewidth=2, label=f'Mediana: {mediana:.2f}')\n",
    "plt.axvline(media, color='red', linestyle='dotted', linewidth=2, label=f'Media: {media:.2f}')\n",
    "plt.legend()\n",
    "plt.xlabel('PM10')\n",
    "plt.title('Histograma y Función de Densidad para PM10 con Moda, Media y Mediana')\n"
   ]
  },
  {
   "cell_type": "code",
   "execution_count": null,
   "id": "4a630c29-3daf-4487-8aca-07ce7426230b",
   "metadata": {
    "id": "4a630c29-3daf-4487-8aca-07ce7426230b"
   },
   "outputs": [],
   "source": [
    "df_conta.PM10.plot(kind=\"box\")"
   ]
  },
  {
   "cell_type": "markdown",
   "id": "20ac60be-e668-4bce-9533-789495dcc63a",
   "metadata": {
    "id": "20ac60be-e668-4bce-9533-789495dcc63a"
   },
   "source": [
    "Lo primero poder detectar la asimetría de una forma que no sea \"visual\". Para esto tenemos la función `skew` de Pandas nos indica la asimetría:\n",
    "\n",
    "        >0 : Asimetría a la derecha o positiva\n",
    "        aprox. 0 : simétrico\n",
    "        <0 : asimetría a la izquierda o negativa"
   ]
  },
  {
   "cell_type": "code",
   "execution_count": 2,
   "id": "ed365e09-289e-4060-aa7a-52f7828579dd",
   "metadata": {
    "id": "ed365e09-289e-4060-aa7a-52f7828579dd"
   },
   "outputs": [
    {
     "data": {
      "text/plain": [
       "2.404078728714794"
      ]
     },
     "execution_count": 2,
     "metadata": {},
     "output_type": "execute_result"
    }
   ],
   "source": [
    "df_conta.PM10.skew()"
   ]
  },
  {
   "cell_type": "code",
   "execution_count": null,
   "id": "d3bb3697-0c40-4d9a-9569-3a69353e40d8",
   "metadata": {
    "id": "d3bb3697-0c40-4d9a-9569-3a69353e40d8"
   },
   "outputs": [],
   "source": [
    "url = \"https://github.com/RafaelCaballero/tdm/raw/refs/heads/master/datos/IBEX6000Inc.zip\"\n",
    "\n",
    "# solución\n",
    "df_raw = pd.read_csv(url,parse_dates=['Fecha']).dropna()\n",
    "col = \"Iberdrola\"\n",
    "df_raw[cols].skew()"
   ]
  },
  {
   "cell_type": "markdown",
   "id": "255590da-bc01-401a-9c9b-2abe6ebc0124",
   "metadata": {
    "id": "255590da-bc01-401a-9c9b-2abe6ebc0124"
   },
   "source": [
    "La segunda parte sería intentar detectar outliers. Un método posible para esto es\n",
    "\n",
    "a) Modificar la columna para convertirla en \"simétrica\", con métodos como Box-Cox o Yeo-Johnson\n",
    "\n",
    "b) Encontrar outliers en la columna transformada"
   ]
  },
  {
   "cell_type": "code",
   "execution_count": null,
   "id": "a5389a06-47e1-4adc-9b36-bccc96e09ba4",
   "metadata": {
    "id": "a5389a06-47e1-4adc-9b36-bccc96e09ba4"
   },
   "outputs": [],
   "source": [
    "from sklearn.preprocessing import PowerTransformer\n",
    "import pandas as pd\n",
    "\n",
    "# Cargar datos\n",
    "url = \"https://raw.githubusercontent.com/RafaelCaballero/tdm/master/datos/madrid/contaminacionLargo.csv\"\n",
    "df_conta = pd.read_csv(url).dropna()\n",
    "\n",
    "# Seleccionar la columna PM10, la convertimos a  -1, +1 para que esté centrada en el 0\n",
    "pm10 = df_conta['PM10'].values.reshape(-1, 1)\n",
    "\n",
    "# Aplicar la transformación de Yeo-Johnson\n",
    "pt = PowerTransformer(method='yeo-johnson')\n",
    "df_conta[\"pm10_transformed\"] = pt.fit_transform(pm10)\n",
    "df_conta[\"pm10_transformed\"].plot(kind=\"box\")"
   ]
  },
  {
   "cell_type": "code",
   "execution_count": null,
   "id": "4224a30b-7268-4298-aafe-0bb3e8eb869b",
   "metadata": {
    "id": "4224a30b-7268-4298-aafe-0bb3e8eb869b"
   },
   "outputs": [],
   "source": [
    "df_conta[\"pm10_transformed\"].plot(kind=\"hist\")"
   ]
  },
  {
   "cell_type": "code",
   "execution_count": null,
   "id": "9436a841-effe-43f0-a6e6-94e07741c0d9",
   "metadata": {
    "id": "9436a841-effe-43f0-a6e6-94e07741c0d9"
   },
   "outputs": [],
   "source": [
    "# detecta outliers a la derecha en un columna de un dataframe usando el mismo método que los boxplots)\n",
    "def pos_outliers(df,col):\n",
    "    pm10 = df[col].dropna()\n",
    "\n",
    "    # Calcular cuartiles y rango intercuartílico\n",
    "    Q1 = pm10.quantile(0.25)\n",
    "    Q3 = pm10.quantile(0.75)\n",
    "    IQR = Q3 - Q1\n",
    "\n",
    "    # Ajustar el multiplicador para el rango intercuartílico (por ejemplo, 0.5 en lugar de 1.5)\n",
    "    upper_bound = Q3 + 0.5 * IQR\n",
    "\n",
    "    # Filtrar los outliers\n",
    "    outliers = pm10[(pm10 > upper_bound)]\n",
    "    return outliers\n",
    "\n",
    "\n",
    "total = len(df_conta[\"PM10\"].dropna())\n",
    "o1 = pos_outliers(df_conta,\"PM10\")\n",
    "o2 = pos_outliers(df_conta,\"pm10_transformed\")\n",
    "print(f\"Proporción de outliers en PM10: {len(o1)/total:.2f} PM10 Trans: {len(o2)/total:.2f}\")"
   ]
  },
  {
   "cell_type": "markdown",
   "id": "7f4c06e9-2e54-4539-b7c5-5d4cf980b6d6",
   "metadata": {
    "id": "7f4c06e9-2e54-4539-b7c5-5d4cf980b6d6"
   },
   "source": [
    "### 3.2 Curtosis\n",
    "\n",
    "\n",
    "La curtosis indica el peso de las colas en relación con una normal estándar. A menudo se confunde con \"apuntamiento\" pero no es exactamente lo mismo. La función `kurtosis` de Pandas nos indica este valor:\n",
    "\n",
    "        >0 : leptocúrtica ; los outliers tienen más peso que en la normal, tenemos muchos outliers (hay que ver por qué y si merece la pena hacer un estudio solo de esta parte)\n",
    "        aprox. 0 : mesocúrtica, similar a una normal\n",
    "        <0 : platicúrtica, los outliers tienen menos peso que en la normal, la distribución está más concentrada alrededor de la media\n",
    "\n",
    "<img src=\"https://github.com/RafaelCaballero/tdm/raw/refs/heads/master/images/curtosis.jpg\" width=300></img>"
   ]
  },
  {
   "cell_type": "code",
   "execution_count": null,
   "id": "9fccefb4-d57c-47e8-a86f-e0a7d5c10c2e",
   "metadata": {
    "id": "9fccefb4-d57c-47e8-a86f-e0a7d5c10c2e"
   },
   "outputs": [],
   "source": [
    "df_raw[cols].kurtosis()"
   ]
  },
  {
   "cell_type": "code",
   "execution_count": null,
   "id": "c5328530-398a-4c04-8b7c-05f362038d77",
   "metadata": {
    "id": "c5328530-398a-4c04-8b7c-05f362038d77"
   },
   "outputs": [],
   "source": [
    "df_prueba.kurtosis()"
   ]
  },
  {
   "cell_type": "markdown",
   "id": "qhQu94IjcTFT",
   "metadata": {
    "id": "qhQu94IjcTFT"
   },
   "source": [
    "Una curtosis o una asimetría muy alejadas de 0 indicarán que la distribución se aleja de la normal, pero la regla empírica es bastante \"robusta\":"
   ]
  },
  {
   "cell_type": "code",
   "execution_count": null,
   "id": "m2_u6nIocQQD",
   "metadata": {
    "id": "m2_u6nIocQQD"
   },
   "outputs": [],
   "source": [
    "\n",
    "for c in cols:\n",
    "  media = df_raw[c].mean()\n",
    "  desv  = df_raw[c].std()\n",
    "  filtro = ((df_raw[c])>(media-2*desv)) & ((df_raw[c])<(media+2*desv))\n",
    "  print(f\"{c} -> % en el intervalo [media-2std, media+2std]: {filtro.mean()*100:.5f}%\")"
   ]
  },
  {
   "cell_type": "markdown",
   "id": "af33d40b-a0fa-461c-8615-7b990c8547d6",
   "metadata": {
    "id": "af33d40b-a0fa-461c-8615-7b990c8547d6"
   },
   "source": [
    "## 4. Teorema central del límite\n",
    "---\n",
    "\n",
    "### 4.1 Definición\n",
    "\n",
    "Sea $S_1, S_2, \\dots, S_n$ un conjunto de muestras aleatorias independientes e idénticamente distribuidas, la distribución de la  medias de cada muestra sigue una distribución normal, con media la media de la distribución de la que están tomadas las muestras, y desviación típica ${\\sigma / \\sqrt{n}}$ con $\\sigma$ la desviación típica de la muestra original\n",
    "\n",
    "$\\bar{X} \\sim \\mathcal{N}\\left(\\mu, \\frac{\\sigma^2}{n}\\right)$\n",
    "\n",
    "Es decir, al tomar muestras, aunque la variable no siga una distribución normal las medias de las muestras sí lo hacen ¿Por qué? Porque hemos dicho que al tomar medidas repetidamente los valores siguen una normal...¡las muestras son nuestras lagartijas!\n",
    "\n",
    "<img src=\"https://github.com/RafaelCaballero/tdm/raw/refs/heads/master/images/lagartija_gauss.webp\" width=200></img>\n",
    "\n",
    "Una simulación de dos distribuciones"
   ]
  },
  {
   "cell_type": "code",
   "execution_count": 3,
   "id": "8e7aaca3-fe50-4b1b-abf4-5643d0a0641e",
   "metadata": {
    "id": "8e7aaca3-fe50-4b1b-abf4-5643d0a0641e"
   },
   "outputs": [
    {
     "data": {
      "image/png": "[encoded data removed]",
      "text/plain": [
       "<Figure size 640x480 with 1 Axes>"
      ]
     },
     "metadata": {},
     "output_type": "display_data"
    },
    {
     "name": "stdout",
     "output_type": "stream",
     "text": [
      "Medias Uniform        14.924403\n",
      "Exponential    14.941735\n",
      "dtype: float64\n"
     ]
    }
   ],
   "source": [
    "import numpy as np\n",
    "import pandas as pd\n",
    "\n",
    "\n",
    "n_values = 10000\n",
    "mean_uniform = 15\n",
    "mean_exponential = 15\n",
    "\n",
    "# centrada en 15\n",
    "range_width = 30\n",
    "a = mean_uniform - range_width / 2\n",
    "b = mean_uniform + range_width / 2\n",
    "uniform_values = np.random.uniform(low=a, high=b, size=n_values)\n",
    "\n",
    "# Generar distribución exponencial con media 15\n",
    "exponential_values = np.random.exponential(scale=mean_exponential, size=n_values)\n",
    "\n",
    "# Crear el DataFrame\n",
    "df = pd.DataFrame({\n",
    "    'Uniform': uniform_values,\n",
    "    'Exponential': exponential_values\n",
    "})\n",
    "import seaborn as sns\n",
    "\n",
    "sns.kdeplot(df.Exponential,label=\"exponencial\")\n",
    "sns.kdeplot(df.Uniform,label=\"uniform\")\n",
    "plt.legend()\n",
    "plt.show()\n",
    "print(\"Medias\",df.mean())"
   ]
  },
  {
   "cell_type": "code",
   "execution_count": null,
   "id": "7ef638b6-75cb-43df-927d-ab1e1d0b100f",
   "metadata": {
    "id": "7ef638b6-75cb-43df-927d-ab1e1d0b100f"
   },
   "outputs": [],
   "source": [
    "from tqdm import tqdm\n",
    "def medias(c,veces=10000,s=50):\n",
    "    medias = []\n",
    "    for i in tqdm(range(veces)):\n",
    "        medias.append(c.sample(s).mean())\n",
    "    return medias\n",
    "\n",
    "df_medias = pd.DataFrame({\"exponencial\": medias(df.Exponential) , \"uniforme\": medias(df.Uniform)})\n",
    "df_medias.hist()\n",
    "plt.tight_layout()\n",
    "plt.show()\n",
    "print(\"medias\\n\",df_medias.mean())\n",
    "print(\"dev.típica\\n\",df_medias.std())\n",
    "print(\"curtosis:\\n\",df.kurtosis())\n",
    "print(\"Asimetría:\\n\",df.skew())\n"
   ]
  },
  {
   "cell_type": "markdown",
   "id": "9281548e-70b9-48cf-9df1-6b1d0a62d6af",
   "metadata": {
    "id": "9281548e-70b9-48cf-9df1-6b1d0a62d6af"
   },
   "source": [
    "### 4.2 Aplicación\n",
    "\n",
    "<div class=\"alert alert-success\">\n",
    "Ley Empírica de la Normal + Teorema Central del límite  = Intervalo de confianza para la media\n",
    "</div>\n",
    "\n",
    "Queremos comparar el incremento en bolsa de BBVA de jueves y viernes con respecto al día anterior\n"
   ]
  },
  {
   "cell_type": "code",
   "execution_count": null,
   "id": "f4d2af3f-3d39-4721-b736-a00f80805467",
   "metadata": {
    "id": "f4d2af3f-3d39-4721-b736-a00f80805467"
   },
   "outputs": [],
   "source": [
    "import pandas as pd\n",
    "url = \"https://github.com/RafaelCaballero/tdm/raw/refs/heads/master/datos/IBEX6000Inc.zip\"\n",
    "\n",
    "# solución\n",
    "df_raw = pd.read_csv(url,parse_dates=['Fecha']).dropna()\n",
    "\n",
    "filtroJ = df_raw[\"Día\"] == \"Jueves\"\n",
    "filtroV = df_raw[\"Día\"] == \"Viernes\"\n",
    "\n",
    "df_raw[filtroJ].BBVA.mean()*100, df_raw[filtroV].BBVA.mean()*100"
   ]
  },
  {
   "cell_type": "markdown",
   "id": "63736f66-831e-47a8-b18d-b72493e1f80d",
   "metadata": {
    "id": "63736f66-831e-47a8-b18d-b72493e1f80d"
   },
   "source": [
    "¿Es significativa este diferencia?"
   ]
  },
  {
   "cell_type": "markdown",
   "id": "7IoOpSaV8Gz5",
   "metadata": {
    "id": "7IoOpSaV8Gz5"
   },
   "source": [
    "Hay dos formas de hacerlo\n",
    "\n",
    "1) Aplicar directamente el teorema, es decir utilizar\n",
    "$$\\overline{x} \\pm  Z \\frac{s}{\\sqrt{n}}$$\n",
    "\n",
    " con\n",
    " - $\\overline{x}$ la media de la columna\n",
    " - $s$ su desviación típica\n",
    " - Z valor crítico de la distribución normal estándar correspondiente al nivel de confianza deseado, por ejemplo para un 95% tomaríamos\n",
    "\n",
    "$$\\overline{x} \\pm  1.96 \\frac{s}{\\sqrt{n}}$$\n",
    "\n",
    "Este método es una primera aproximación, pero funciona pero para distribuciones muy asimétricas o sesgadas. En neustro caso como son casi normales sí que va muy bien."
   ]
  },
  {
   "cell_type": "code",
   "execution_count": null,
   "id": "2PzQSeuiBD3L",
   "metadata": {
    "id": "2PzQSeuiBD3L"
   },
   "outputs": [],
   "source": [
    "import math\n",
    "def calculaCI(c,z=1.96):\n",
    "  x = c.mean()\n",
    "  s = c.std()\n",
    "  n = len(c)\n",
    "  return x,[x-z*s/math.sqrt(n),x+z*s/math.sqrt(n)]\n",
    "\n",
    "xJ, intervaloJ = calculaCI(df_raw[filtroJ].BBVA.dropna()*100)\n",
    "xV, intervaloV = calculaCI(df_raw[filtroV].BBVA.dropna()*100)\n",
    "print(f\"Jueves. Media {xJ}, IC: {intervaloJ}\")\n",
    "print(f\"Viernes. Media {xV}, IC: {intervaloV}\")"
   ]
  },
  {
   "cell_type": "markdown",
   "id": "d711d322-8982-4117-a3ce-4206fd56faea",
   "metadata": {
    "id": "d711d322-8982-4117-a3ce-4206fd56faea"
   },
   "source": [
    "2) Hacemos muchas muestras de tamaño pequeño (menos del 10% de la población), calculando en cada una la media. El resultado serán medias que siguen una normal, ahí podremos por un lado calcular la media de esas medias y por otra obtener el intervalo de confianza mediante la regla empírica de la normal. Este método es en general más robusto, aunque en ocasiones el intervalo a veces es mayor."
   ]
  },
  {
   "cell_type": "code",
   "execution_count": null,
   "id": "470536e0-c5df-4f74-b73b-3d5c0503a8b3",
   "metadata": {
    "id": "470536e0-c5df-4f74-b73b-3d5c0503a8b3"
   },
   "outputs": [],
   "source": [
    "from tqdm import tqdm\n",
    "\n",
    "# repite reps veces la toma de muestra de tamaño s sobre la columna col_comparar filtrada por col_filtro==vs[0],col_filtro==vs[1],...\n",
    "def media_samples(df,col_filtro,vs,col_comparar,reps=10000,s=150):\n",
    "    df_medias = pd.DataFrame()\n",
    "    for v in vs:\n",
    "        filtro = df[col_filtro] == v\n",
    "        c =  df[filtro][col_comparar].dropna()\n",
    "        medias = []\n",
    "        tamaño = min([s, c.shape[0]])\n",
    "        for i in tqdm(range(reps)):\n",
    "            medias.append( c.sample(tamaño).mean())\n",
    "        df_medias[v] = medias\n",
    "    return df_medias\n",
    "\n",
    "medias = media_samples(df_raw,\"Día\",[\"Jueves\",\"Viernes\"],\"BBVA\")\n",
    "medias"
   ]
  },
  {
   "cell_type": "code",
   "execution_count": null,
   "id": "ac809e8c-188c-43cd-bd60-6e48b5bac231",
   "metadata": {
    "id": "ac809e8c-188c-43cd-bd60-6e48b5bac231"
   },
   "outputs": [],
   "source": [
    "medias.plot(kind=\"hist\",bins=50,alpha=0.4)\n",
    "plt.tight_layout()\n",
    "plt.show()"
   ]
  },
  {
   "cell_type": "code",
   "execution_count": null,
   "id": "f15c2500-2ff4-4ec9-a8b7-6edb336a5083",
   "metadata": {
    "id": "f15c2500-2ff4-4ec9-a8b7-6edb336a5083"
   },
   "outputs": [],
   "source": [
    "(medias.Jueves.skew(), medias.Jueves.kurtosis()), (medias.Viernes.skew(), medias.Viernes.kurtosis())"
   ]
  },
  {
   "cell_type": "markdown",
   "id": "3ea8ff83-df3f-49fa-8b09-2a0ea389d4a3",
   "metadata": {
    "id": "3ea8ff83-df3f-49fa-8b09-2a0ea389d4a3"
   },
   "source": [
    "Es una buena aproximación a una normal; esto nos permite calcular la \"regla empírica\": tenemos un 95% de posibilidades de que el valor real de la media este entre $\\mu -2\\sigma$ y $\\mu + 2\\sigma$ en ambas distribuciones:\n"
   ]
  },
  {
   "cell_type": "code",
   "execution_count": null,
   "id": "1c29faa8-ef3e-404a-b4b1-b5348e71da3a",
   "metadata": {
    "id": "1c29faa8-ef3e-404a-b4b1-b5348e71da3a"
   },
   "outputs": [],
   "source": [
    "muJ, muV = medias.Jueves.mean(), medias.Viernes.mean()\n",
    "sigmaJ, sigmaV = medias.Jueves.std(), medias.Viernes.std()\n",
    "\n",
    "print(f\"Jueves : {100*muJ:.4} [{100*(muJ-2*sigmaJ):.4f},{100*(muJ+2*sigmaJ):.4f}]\")\n",
    "print(f\"Viernes: {100*muV:.4} [{100*(muV-2*sigmaV):.4f},{100*(muV+2*sigmaV):.4f}]\")"
   ]
  },
  {
   "cell_type": "code",
   "execution_count": null,
   "id": "95914792-9c3b-4c69-98aa-cba9d3995951",
   "metadata": {
    "id": "95914792-9c3b-4c69-98aa-cba9d3995951"
   },
   "outputs": [],
   "source": [
    "días =  df_raw[\"Día\"].dropna().unique()\n",
    "\n",
    "df_medias =  media_samples(df_raw,\"Día\",días,\"BBVA\")\n"
   ]
  },
  {
   "cell_type": "code",
   "execution_count": null,
   "id": "999855a9-0770-4734-bea7-b53bf448062e",
   "metadata": {
    "id": "999855a9-0770-4734-bea7-b53bf448062e"
   },
   "outputs": [],
   "source": [
    "for i in range(len(días)):\n",
    "    for j in range(i+1,len(días)):\n",
    "        día1 = días[i]\n",
    "        día2 = días[j]\n",
    "        mu1, mu2 = df_medias[día1].mean(), df_medias[día2].mean()\n",
    "        sigma1, sigma2 = df_medias[día1].std(), df_medias[día2].std()\n",
    "        limInf1 = 100*(mu1-2*sigma1)\n",
    "        limInf2 = 100*(mu2-2*sigma2)\n",
    "        limSup1 = 100*(mu1+2*sigma1)\n",
    "        limSup2 = 100*(mu2+2*sigma2)\n",
    "        #print(f\"{día1} : {100*mu1:.4} [{limInf1:.4f},{limSup1:.4f}]\")\n",
    "        #print(f\"{día2}: {100*mu2:.4} [{limInf2:.4f},{limSup2:.4f}]\")\n",
    "        # Definir los extremos de los intervalos\n",
    "        intervalo1 = [limInf1, limSup1]\n",
    "        intervalo2 = [limInf2, limSup2]\n",
    "\n",
    "        # Crear un gráfico\n",
    "        plt.figure(figsize=(8, 3))\n",
    "\n",
    "        # Dibujar los intervalos como líneas horizontales\n",
    "        plt.hlines(0.8, intervalo1[0], intervalo1[1], colors='blue',  label=f'{día1} ({100*mu1:.4f} ± 2 x {sigma1:.4f})', linewidth=5)\n",
    "        plt.hlines(1.0, intervalo2[0], intervalo2[1], colors='green', label=f'{día2} ({100*mu2:.4f} ± {sigma2:.4f})', linewidth=5)\n",
    "        plt.plot(100*mu1, 0.8, 'bo', markersize=10, label=f'Centro {día1}:{100*mu1:.4f}')\n",
    "        plt.plot(100*mu2, 1.0, 'go', markersize=10, label=f'Centro {día2}:{100*mu2:.4f}')\n",
    "\n",
    "\n",
    "        # Añadir etiquetas y leyenda\n",
    "        plt.ylim(0,2)\n",
    "        plt.xlabel('Valores')\n",
    "        plt.legend()\n",
    "        #plt.title('Representación de dos intervalos, sus centros y solapamiento')\n",
    "\n",
    "        # Mostrar el gráfico\n",
    "        plt.show()\n"
   ]
  },
  {
   "cell_type": "markdown",
   "id": "0db1120c-f1d8-45aa-89da-87bf54427e46",
   "metadata": {
    "id": "0db1120c-f1d8-45aa-89da-87bf54427e46"
   },
   "source": [
    "No podemos garantizar diferencias con este método.\n",
    "\n",
    "Hay que indicar que no solo la media se puede calcular con este método; otros parámetros pueden ser:\n",
    "\n",
    "- Proporciones en variables discretas, para ver si se puede asegurar que alguno de los valores se repite más que otro\n",
    "- Sumas de valores\n",
    "- Medianas, percentiles, aunque pueden requerir más iteraciones especialmente en distribuciones muy asimétricas\n",
    "\n",
    "Para otros parámetros, o para una estimación más precisa de estos mismos usaremos bootstrapping"
   ]
  },
  {
   "cell_type": "markdown",
   "id": "3cZB2sE_etUm",
   "metadata": {
    "id": "3cZB2sE_etUm"
   },
   "source": [
    "## 5. Distribución Binomial y Multinomial\n",
    "---\n",
    "\n",
    "### 5.1. Distribución Binomial \n",
    "\n",
    "Si la columna que estamos examinando sigue una distribución binomial $Bin(n,p)$\n",
    "\n",
    "$[\\hat{p} - Z \\cdot SE, \\hat{p} + Z \\cdot SE]$, donde $\\hat{p}$ es la media o proporción de la columna, como hasta ahora, $Z$ es el valor que queremos para la certidumbre estadística (Z=1.96 para el 95% de certidumbre) y \n",
    "\n",
    "$$SE = \\sqrt{\\frac{\\hat{p}(1 - \\hat{p})}{n}}$$\n",
    "\n",
    "con $n$ el número total de elementos en la columna\n",
    "\n",
    "### 5.2 Distribución  Multinomial\n",
    "\n",
    "Si tenemos una columna categórica que toma valores $x_1, x_2, \\dots x_k$, podemos imaginar cada fila como un \"experimento\" en el que se ha seleccionado uno de los valores. Si el número total de filas es suficientemente grande el teorema central del límite también se aplica aquí, cada elemento es como una \"medición\" y se puede demostrar que en este caso que  de $x_i$, $\\hat{p}_i$,está en el intervalo de confianza\n",
    "\n",
    "$\\left[p_i-Z \\cdot \\sqrt{\\frac{p_i (1 - p_i)}{n}},\\  p_i+Z \\cdot \\sqrt{\\frac{p_i (1 - p_i)}{n}}\\right]$\n",
    "\n",
    "Donde:\n",
    "\n",
    "- $n$ es el número de valores (filas)\n",
    "- $p_i$ es la proporción del valor $i$, es decir nuestra estimación del valor real $\\hat{p}_i$\n",
    "- $Z$ es el número de desviaciones típicas que requiera nuestro nivel de confianza según la regla empírica de la normal, así para el 95% tendremos $Z=1.96$.\n",
    "\n",
    "Nota: este método solo debe emplearse para valores de $n$ suficientemente grandes y que los $p_i$ no sean muy cercanos ni a 0, ni a 1, como regla aproximada suele pedirse que\n",
    "\n",
    "- $n\\times p_i \\geq 5$  \n",
    "- $n \\times (1−p_i) \\geq 5$"
   ]
  },
  {
   "cell_type": "code",
   "execution_count": null,
   "id": "asSkokZVHDEH",
   "metadata": {
    "id": "asSkokZVHDEH"
   },
   "outputs": [],
   "source": [
    "import pandas as pd\n",
    "import matplotlib.pyplot as plt\n",
    "\n",
    "url = \"https://raw.githubusercontent.com/RafaelCaballero/tdm/refs/heads/master/datos/olivos.csv\"\n",
    "\n",
    "# lectura\n",
    "df = pd.read_csv(url)\n",
    "\n",
    "col = df.ACEITUNA.dropna()\n",
    "pis = col.value_counts(normalize=True).sort_index()\n",
    "n = len(col)\n",
    "pis"
   ]
  },
  {
   "cell_type": "code",
   "execution_count": null,
   "id": "iWmigMqDJDCq",
   "metadata": {
    "id": "iWmigMqDJDCq"
   },
   "outputs": [],
   "source": [
    "n"
   ]
  },
  {
   "cell_type": "code",
   "execution_count": null,
   "id": "z21AUcbAJXgb",
   "metadata": {
    "id": "z21AUcbAJXgb"
   },
   "outputs": [],
   "source": [
    "# condiciones\n",
    "print(\"n x p_i>=5:\", all(n*pis>=5))\n",
    "print(\"n x (1-p_i)>=5:\", all(n*(1-pis)>=5))"
   ]
  },
  {
   "cell_type": "code",
   "execution_count": null,
   "id": "yvARCFinJ4dn",
   "metadata": {
    "id": "yvARCFinJ4dn"
   },
   "outputs": [],
   "source": [
    "# IC\n",
    "import numpy as np\n",
    "Z = 1.96\n",
    "ic = Z*np.sqrt(pis*(1-pis)/n)\n",
    "\n",
    "df_ic = pd.DataFrame({\"Aceituna\": pis.index, \"proporción\": pis.values, \"ic_lower\": (pis-ic).values, \"ic_upper\": (pis+ic).values})\n",
    "df_ic"
   ]
  },
  {
   "cell_type": "code",
   "execution_count": null,
   "id": "huNhnjQkOggu",
   "metadata": {
    "id": "huNhnjQkOggu"
   },
   "outputs": [],
   "source": [
    "# import package\n",
    "import matplotlib.pyplot as plt\n",
    "\n",
    "plt.bar(x=pis.index, height=pis.values, yerr=ic, capsize=3)\n",
    "plt.xlabel('Aceituna')\n",
    "plt.ylabel('frecuencia')"
   ]
  },
  {
   "cell_type": "markdown",
   "id": "e8f61d54-1c98-4d30-b4f2-99a6cab321b6",
   "metadata": {
    "id": "e8f61d54-1c98-4d30-b4f2-99a6cab321b6"
   },
   "source": [
    "## 6. Bootstrapping\n",
    "---\n",
    "\n",
    "Si la distribución no es una multinomial, es decir, si no es una var. discreta, bootstrapping es de los mejores métodos:\n",
    "\n",
    "- Muy robusto, no hace suposiciones (puede ser muy asimétrica, puede ser $n$ pequeño....)\n",
    "- Da buenos intervalos\n",
    "\n",
    "A partir del método anterior, la técnica conocida como bootstrapping busca intervalos de confianza no solo para la media sino para otros estadísticos como desviación típica, etc.\n",
    "\n",
    "Ventajas:\n",
    "\n",
    "- Utiliza muestras con reemplazamiento --> es adecuado para dataframes con pocos datos\n",
    "- Otros métodos como el de los percentiles en lugar de la ley empírica --> Intervalos de confianza a veces más precisos"
   ]
  },
  {
   "cell_type": "code",
   "execution_count": null,
   "id": "f70d54ba-6ea2-4957-89fc-b76f06833526",
   "metadata": {
    "id": "f70d54ba-6ea2-4957-89fc-b76f06833526"
   },
   "outputs": [],
   "source": [
    "import pandas as pd\n",
    "import numpy as np\n",
    "\n",
    "\n",
    "# filtramos para el día deseado\n",
    "filtro = df_raw[\"Día\"] == \"Jueves\"\n",
    "\n",
    "# Seleccionar la columna sin nulos\n",
    "bbva = df_raw[filtro][\"BBVA\"].dropna()*100\n",
    "\n",
    "# Parámetros para bootstrap\n",
    "n_iterations = 10000  # Número de iteraciones\n",
    "n_size = len(bbva)  # Tamaño de las muestras bootstrap, pueden ser todos los valores\n",
    "\n",
    "# Almacenar las medias y desviaciones de cada muestra bootstrap\n",
    "bootstrap_means = []\n",
    "bootstrap_stds = []\n",
    "\n",
    "# Realizar bootstrap\n",
    "for i in tqdm(range(n_iterations)):\n",
    "    # Crear una muestra bootstrap\n",
    "    sample = bbva.sample(replace=True,n=n_size)\n",
    "\n",
    "    # Calcular la media y la desviación típica de la muestra\n",
    "    bootstrap_means.append(sample.mean())\n",
    "    bootstrap_stds.append(sample.std())\n",
    "\n",
    "# Calcular los intervalos de confianza (por ejemplo, al 95%)\n",
    "confidence_level = 95\n",
    "lower_mean = np.percentile(bootstrap_means, (100 - confidence_level) / 2)\n",
    "upper_mean = np.percentile(bootstrap_means, confidence_level + (100 - confidence_level) / 2)\n",
    "\n",
    "lower_std = np.percentile(bootstrap_stds, (100 - confidence_level) / 2)\n",
    "upper_std = np.percentile(bootstrap_stds, confidence_level + (100 - confidence_level) / 2)\n",
    "\n",
    "print(f\"Jueves Media: { np.array(bootstrap_means).mean():.4f} [{lower_mean:.4f},{upper_mean:.4f}]\")\n",
    "print(f\"Jueves std: {np.array(bootstrap_stds).mean():.4f} [{lower_std:.4f},{upper_std:.4f}]\")\n",
    "\n"
   ]
  },
  {
   "cell_type": "markdown",
   "id": "d245cf13-bc08-4aea-abd0-b03d6f76011f",
   "metadata": {
    "id": "d245cf13-bc08-4aea-abd0-b03d6f76011f"
   },
   "source": [
    "Resultado anterior:\n",
    "\n",
    "Jueves : 0.07139 [-0.2586,0.4014]"
   ]
  },
  {
   "cell_type": "code",
   "execution_count": null,
   "id": "51ba51e1-199e-456f-b91f-9e8396168be6",
   "metadata": {
    "id": "51ba51e1-199e-456f-b91f-9e8396168be6"
   },
   "outputs": [],
   "source": [
    "import pandas as pd\n",
    "from scipy.stats import bootstrap\n",
    "import numpy as np\n",
    "\n",
    "filtro = df_raw[\"Día\"] == \"Jueves\"\n",
    "# columna sin nulos\n",
    "bbva = df_raw[filtro][\"BBVA\"].dropna()*100\n",
    "\n",
    "res = bootstrap((bbva,), np.mean, confidence_level=0.95,n_resamples=10000, method='percentile')\n",
    "ci = res.confidence_interval\n",
    "\n",
    "print(f\"Jueves Media: { ci.low + (ci.high-ci.low)/2:.4f} [{ci.low:.4f},{ci.high:.4f}]\")\n",
    "\n"
   ]
  },
  {
   "cell_type": "markdown",
   "id": "58a80676-cbb8-4575-8068-d46f3c1fa193",
   "metadata": {
    "id": "58a80676-cbb8-4575-8068-d46f3c1fa193"
   },
   "source": [
    "Para ver si las medias son diferentes podemos\n",
    "- Calcular cada media con el int. de confianza y ver si se solapan\n",
    "- Calcular la diferencia de medias con su int. de confianza --> si el intervalo no incluye al 0 ¡son distintas!\n"
   ]
  },
  {
   "cell_type": "code",
   "execution_count": null,
   "id": "85c07a98-731e-402b-b8a8-cbe95c51d015",
   "metadata": {
    "id": "85c07a98-731e-402b-b8a8-cbe95c51d015"
   },
   "outputs": [],
   "source": [
    "import pandas as pd\n",
    "import numpy as np\n",
    "from scipy.stats import bootstrap\n",
    "\n",
    "def mean_diff(data1, data2):\n",
    "    return (data1.mean() - data2.mean())\n",
    "\n",
    "url = \"https://github.com/RafaelCaballero/tdm/raw/refs/heads/master/datos/IBEX6000Inc.zip\"\n",
    "# solución\n",
    "df_raw = pd.read_csv(url,parse_dates=['Fecha']).dropna()\n",
    "\n",
    "# las dos columnas\n",
    "filtro = df_raw[\"Día\"] == \"Lunes\"\n",
    "lunes = df_raw[filtro][\"BBVA\"]*100\n",
    "filtro = df_raw[\"Día\"] == \"Martes\"\n",
    "martes = df_raw[filtro][\"BBVA\"]*100\n",
    "\n",
    "# Bootstrapping para calcular la diferencia de medias\n",
    "boot_result = bootstrap((lunes, martes), mean_diff,  confidence_level=0.95)\n",
    "\n",
    "# Resultados\n",
    "print(f\"Diferencia de medias: {mean_diff(lunes, martes):.4f}\")\n",
    "print(f\"Intervalo de confianza al 95%: [{boot_result.confidence_interval.low:.4f},{boot_result.confidence_interval.high:.4f}]\")\n"
   ]
  },
  {
   "cell_type": "markdown",
   "id": "e625730b-2c57-4618-af3e-754a1370a1e0",
   "metadata": {
    "id": "e625730b-2c57-4618-af3e-754a1370a1e0"
   },
   "source": [
    "Como el intervalo no incluye al 0 la media no puede ser 0, así que son diferentes medias de forma estadísticamente significativa"
   ]
  },
  {
   "cell_type": "code",
   "execution_count": null,
   "id": "41dc4e86-61cf-45cf-80b2-034e1dbea34e",
   "metadata": {
    "id": "41dc4e86-61cf-45cf-80b2-034e1dbea34e"
   },
   "outputs": [],
   "source": [
    "lunes.mean(), martes.mean(), lunes.mean() - martes.mean()"
   ]
  },
  {
   "cell_type": "markdown",
   "id": "4SHGp4GdgW5G",
   "metadata": {
    "id": "4SHGp4GdgW5G"
   },
   "source": [
    "Un último aviso: el método de bootstrapping se puede utilizar para calcular no solo la media sino la desviación típica o cualquier otro parámetro que consideremos, pero funcionará mal si el parámetro está relacionado con elementos extremos (máximos, mínimos, contar outliers) ya que estos varían mucho según la muestra"
   ]
  },
  {
   "cell_type": "markdown",
   "id": "cc832348-eb33-4aa6-af00-acce3753577d",
   "metadata": {
    "id": "cc832348-eb33-4aa6-af00-acce3753577d"
   },
   "source": [
    "## 7. Teorema de Chevyshev\n",
    "---\n",
    "<img src=\"https://upload.wikimedia.org/wikipedia/commons/thumb/8/8f/%D0%A7%D0%B5%D0%B1%D1%8B%D1%88%D1%91%D0%B2%2C_%D0%9F%D0%B0%D1%84%D0%BD%D1%83%D1%82%D0%B8%D0%B9_%D0%9B%D1%8C%D0%B2%D0%BE%D0%B2%D0%B8%D1%87.jpg/1024px-%D0%A7%D0%B5%D0%B1%D1%8B%D1%88%D1%91%D0%B2%2C_%D0%9F%D0%B0%D1%84%D0%BD%D1%83%D1%82%D0%B8%D0%B9_%D0%9B%D1%8C%D0%B2%D0%BE%D0%B2%D0%B8%D1%87.jpg\" width=200></img>\n",
    "\n",
    "El teorema, también conocido como _desigualdad de Chebyshev_ dice que si tenemos una muestra con una varianza muestral finita $\\sigma$ y media $\\mu$, entonces para todo $k>1$ se tiene:\n",
    "\n",
    "$$P\\left( |X - \\mu| \\geq k \\sigma \\right) \\leq \\frac{1}{k^2}$$\n",
    "\n",
    "es decir,  la probabilidad de que una observación se encuentre a más de $𝑘$\n",
    " desviaciones estándar de la media es como máximo $\\frac{1}{k^2}$. Dicho con otras palabras\n",
    "\n",
    "$$P\\left( |X - \\mu| < k \\sigma \\right) \\geq 1 - \\frac{1}{k^2}$$\n",
    "\n",
    "Esto nos da un intervalo de confianza haciendo $\\alpha = \\frac{1}{k^2}$, es decir $k = \\frac{1}{\\sqrt{\\alpha}}$. Así\n",
    "\n",
    "- Intervalo del 95% de confianza, $k=\\frac{1}{\\sqrt{0.05}} = 4.47$, es decir, al menos el 95% de los datos están en el intervalo $[\\mu−4.47\\sigma,\\mu+4.47\\sigma]$\n",
    "- Intervalo del 99% de confianza, $k=\\frac{1}{\\sqrt{0.01}} = 10$, es decir, al menos el 99% de los datos están en el intervalo $[\\mu−10\\sigma,\\mu+10\\sigma]$\n",
    "\n",
    "<div class=\"alert alert-danger\">\n",
    "Al no hacer ninguna suposición sobre los datos el teorema de Chevyshev genera intervalos muy grandes, válidos para todos los casos\n",
    "</div>\n"
   ]
  },
  {
   "cell_type": "markdown",
   "id": "wcK2ueUWEkle",
   "metadata": {
    "id": "wcK2ueUWEkle"
   },
   "source": [
    "## 8. Resumen\n",
    "---\n",
    "\n",
    "Reglas básicas para determinar un intervalo de confianza para la media\n",
    "\n",
    "0) Teorema de Chevyshev. Se puede utilizar siempre:\n",
    "\n",
    "Al menos el 95% de los datos están en el intervalo $[\\mu−4.47\\sigma,\\mu+4.47\\sigma]$, para cualquier distribución con media $\\mu$ y desviación típica $\\sigma$,\n",
    "\n",
    "El método más seguro, pero el que peor intervalo nos va a dar; solo es útil si se quiere una absoluta certeza estadística\n",
    "\n",
    "\n",
    "1)  Si la variables es discreta y toma una cantidad pequeña de valores diferentes y se cumple\n",
    "\n",
    "- $n\\times p_i \\geq 5$  \n",
    "- $n \\times (1−p_i) \\geq 5$\n",
    "\n",
    "Donde:\n",
    "\n",
    "- $n$ es el número de valores (filas)\n",
    "- $p_i$ es la proporción del valor $i$\n",
    "\n",
    "Entonces se puede obtener el intervalo\n",
    "\n",
    "$\\left[p_i-Z \\cdot \\sqrt{\\frac{p_i (1 - p_i)}{n}},\\  p_i+Z \\cdot \\sqrt{\\frac{p_i (1 - p_i)}{n}}\\right]$\n",
    "\n",
    "donde $Z$ es el número de desviaciones típicas que requiera nuestro nivel de confianza según la regla empírica de la normal, así para el 95% tendremos $Z=1.96$.\n",
    "\n",
    "Es una aplicación del TCL que \"controla\" los problemas de ls funciones continuas con los requisitos enunciados anteriormente\n",
    "\n",
    "2) Si es una variable continua y vemos que no es demasiado asimétricas, no tiene muchas colas largas, etc, o simplemente queremos obtener una estimación rápida y no nos preocupa que no sea excesivamente precisa, aplicar\n",
    "\n",
    "$$\\mu \\pm  Z \\frac{\\sigma}{\\sqrt{n}}$$\n",
    "\n",
    "3) Si se quiere obtener una estimación más robusta e independiente de la distribución, o se quiere analizar la diferencia de medias u otros estimadores --> boootstrapping\n",
    "\n"
   ]
  },
  {
   "cell_type": "markdown",
   "id": "d3b15505-214d-4b5c-a2f7-2cdff2d2aa36",
   "metadata": {
    "id": "d3b15505-214d-4b5c-a2f7-2cdff2d2aa36"
   },
   "source": [
    "## 9. Referencias\n",
    "---\n",
    "\n",
    "[Teorema central del límite](https://www.geeksforgeeks.org/central-limit-theorem/?ref=oin_asr1) buena explicación con muchos ejemplos.\n",
    "\n",
    "[Video sobre el central del límite](https://www.youtube.com/watch?v=YAlJCEDH2uY&ab_channel=StatQuestwithJoshStarmer) en inglés pero muy sencillo y agradable (quitando la canción inicial)\n",
    "\n",
    "[Cálculo de outliers en datos asimétricos](https://wis.kuleuven.be/stat/robust/papers/2008/outlierdetectionskeweddata-revision.pdf). Artículo (en inglés) que define outliers a partir de la medida [medcouple](https://en.wikipedia.org/wiki/Medcouple) una medida de asimetría robusta frente a outliers<br>\n",
    "\n",
    "[Bootstrapping](https://cienciadedatos.net/documentos/pystats04-bootstrapping-python) bien explicado, paso a paso<br>\n"
   ]
  },
  {
   "cell_type": "code",
   "execution_count": null,
   "id": "a454b017-1f60-479f-8991-46ee49a8929e",
   "metadata": {
    "id": "a454b017-1f60-479f-8991-46ee49a8929e"
   },
   "outputs": [],
   "source": []
  }
 ],
 "metadata": {
  "colab": {
   "provenance": []
  },
  "kernelspec": {
   "display_name": "Python 3 (ipykernel)",
   "language": "python",
   "name": "python3"
  },
  "language_info": {
   "codemirror_mode": {
    "name": "ipython",
    "version": 3
   },
   "file_extension": ".py",
   "mimetype": "text/x-python",
   "name": "python",
   "nbconvert_exporter": "python",
   "pygments_lexer": "ipython3",
   "version": "3.10.9"
  }
 },
 "nbformat": 4,
 "nbformat_minor": 5
}
