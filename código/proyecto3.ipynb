{
  "nbformat": 4,
  "nbformat_minor": 0,
  "metadata": {
    "colab": {
      "provenance": [],
      "authorship_tag": "ABX9TyOXz3BXyCliSBq0Wv0wa1ta",
      "include_colab_link": true
    },
    "kernelspec": {
      "name": "python3",
      "display_name": "Python 3"
    },
    "language_info": {
      "name": "python"
    }
  },
  "cells": [
    {
      "cell_type": "markdown",
      "metadata": {
        "id": "view-in-github",
        "colab_type": "text"
      },
      "source": [
        "<a href=\"https://colab.research.google.com/github/RafaelCaballero/BME/blob/main/c%C3%B3digo/proyecto3.ipynb\" target=\"_parent\"><img src=\"https://colab.research.google.com/assets/colab-badge.svg\" alt=\"Open In Colab\"/></a>"
      ]
    },
    {
      "cell_type": "markdown",
      "source": [
        "##Curso Python – Proyecto 3\n",
        "El siguiente fichero contiene datos de diferentes vinos\n",
        "\"https://raw.githubusercontent.com/RafaelCaballero/tdm/master/datos/wines_SPA.csv\"\n",
        "\n",
        "1) Cargar el fichero y dejarlo en un dataframe df\n"
      ],
      "metadata": {
        "id": "2ceaI-g9Rkdb"
      }
    },
    {
      "cell_type": "code",
      "execution_count": null,
      "metadata": {
        "id": "VYJYQMtbRi0d"
      },
      "outputs": [],
      "source": [
        "import pandas as pd\n",
        "# Solución\n",
        "\n",
        "\n",
        "df"
      ]
    },
    {
      "cell_type": "markdown",
      "source": [
        "2) ¿Cuántas filas y columnas tiene?"
      ],
      "metadata": {
        "id": "0zB1rGxgT1Gj"
      }
    },
    {
      "cell_type": "code",
      "source": [
        "# Solución\n"
      ],
      "metadata": {
        "id": "J6_EJzoFT4RK"
      },
      "execution_count": null,
      "outputs": []
    },
    {
      "cell_type": "markdown",
      "source": [
        "3) Escribir instrucciones para ver datos básicos del dataframe. En particular nos interesa determinar ¿hay nulos en alguna columna? ¿cuál es el precio del vino más caro? ¿y del más barato?"
      ],
      "metadata": {
        "id": "AuvL4DypUVdL"
      }
    },
    {
      "cell_type": "code",
      "source": [
        "# Solución\n"
      ],
      "metadata": {
        "id": "8D9X4gkHUP86"
      },
      "execution_count": null,
      "outputs": []
    },
    {
      "cell_type": "code",
      "source": [],
      "metadata": {
        "id": "SbZHhD9RU2o1"
      },
      "execution_count": null,
      "outputs": []
    },
    {
      "cell_type": "markdown",
      "source": [
        "4) Mostrar solo la columna type"
      ],
      "metadata": {
        "id": "Yhk3nMLqVOZb"
      }
    },
    {
      "cell_type": "code",
      "source": [
        "# Solución\n"
      ],
      "metadata": {
        "id": "K5GM-uPxVPd0"
      },
      "execution_count": null,
      "outputs": []
    },
    {
      "cell_type": "markdown",
      "source": [
        "5) Mostrar solo las columnas type y body"
      ],
      "metadata": {
        "id": "lu7y55p1aMjx"
      }
    },
    {
      "cell_type": "code",
      "source": [
        "# Solución\n"
      ],
      "metadata": {
        "id": "TNWEe-xFaOMh"
      },
      "execution_count": null,
      "outputs": []
    },
    {
      "cell_type": "markdown",
      "source": [
        "6) Mostrar solo el vino que ocupa la 5ª posición en el dataframe"
      ],
      "metadata": {
        "id": "aUfxL3GRaa2q"
      }
    },
    {
      "cell_type": "code",
      "source": [
        "# Solución\n"
      ],
      "metadata": {
        "id": "HWOtkf76ab6K"
      },
      "execution_count": null,
      "outputs": []
    },
    {
      "cell_type": "markdown",
      "source": [
        "7) Obtener los valores diferentes de la columna `region` y la frecuencia de cada uno de ellos"
      ],
      "metadata": {
        "id": "cgN6gOmobSjF"
      }
    },
    {
      "cell_type": "code",
      "source": [
        "# solución\n"
      ],
      "metadata": {
        "id": "WLinEQ48biZj"
      },
      "execution_count": null,
      "outputs": []
    },
    {
      "cell_type": "markdown",
      "source": [
        "8) Cambiar la región del segundo vino (fila 1) a  'Vino de España'"
      ],
      "metadata": {
        "id": "bzIi-h_9ZSXR"
      }
    },
    {
      "cell_type": "code",
      "source": [
        "# solución\n"
      ],
      "metadata": {
        "id": "gw0Wwo6dZdCc"
      },
      "execution_count": null,
      "outputs": []
    },
    {
      "cell_type": "markdown",
      "source": [
        "9) ¿Cuál es el valor máximo de la columna rating? (ayuda: aplicar la función max() tras el nombre de la columna)"
      ],
      "metadata": {
        "id": "l7N2YHeCch1i"
      }
    },
    {
      "cell_type": "code",
      "source": [
        "# Solución\n"
      ],
      "metadata": {
        "id": "UPrrpd4qclHp"
      },
      "execution_count": null,
      "outputs": []
    },
    {
      "cell_type": "markdown",
      "source": [
        "10.- Crear un nuevo dataframe df2 que solo tenga las columnas ```winery\twine\tyear price\ttype\tbody\tacidity```. Grabar el resultado en un fichero excel \"wines.xlsx\""
      ],
      "metadata": {
        "id": "EqzS3KRIYMWq"
      }
    },
    {
      "cell_type": "code",
      "source": [
        "# Solución\n"
      ],
      "metadata": {
        "id": "52v7AHCUY33E"
      },
      "execution_count": null,
      "outputs": []
    }
  ]
}