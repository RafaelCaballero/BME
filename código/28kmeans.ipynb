{
  "cells": [
    {
      "cell_type": "markdown",
      "metadata": {
        "id": "lkFf39AWOIjm"
      },
      "source": [
        "<table>\n",
        "    <tr>\n",
        "      <td>Introducción a\n",
        "      </td>\n",
        "      <td>\n",
        "      <img src=\"https://media.licdn.com/dms/image/D5612AQF7GSp3l4pztQ/article-cover_image-shrink_720_1280/0/1686548640655?e=1715817600&v=beta&t=WQzv1EMkEEwZ0QZ0PF1anRKIHCl5BBH_YPZHdDQsWPM\"  width=150/>\n",
        "      </td>\n",
        "     </tr>\n",
        "</table>\n",
        "Rafa Caballero\n",
        "\n",
        "\n",
        "## K-means (clustering the filas)\n",
        "\n",
        "Ejemplo de partida"
      ]
    },
    {
      "cell_type": "code",
      "execution_count": null,
      "metadata": {
        "id": "6nfoFd1NOIjp"
      },
      "outputs": [],
      "source": [
        "import random\n",
        "import pandas as pd\n",
        "import numpy as np\n",
        "import matplotlib.pyplot as plt\n",
        "%matplotlib inline\n",
        "\n",
        "df = pd.read_csv(\"https://raw.githubusercontent.com/RafaelCaballero/tdm/master/datos/bus.csv\")\n",
        "\n",
        "feat_cols= [\"I1\",\"I2\",\"I3\",\"I4\",\"I5\",\"I6\",\"I7\",\"I8\"]\n",
        "df"
      ]
    },
    {
      "cell_type": "markdown",
      "metadata": {
        "id": "rRX87gHLOOg1"
      },
      "source": [
        "### En busca de la K\n",
        "\n",
        "¿Cuál es el número óptimo de grupos?\n",
        "\n",
        "Primero lo hacemos a mano"
      ]
    },
    {
      "cell_type": "code",
      "execution_count": null,
      "metadata": {
        "id": "d_-9WbjtN_RO"
      },
      "outputs": [],
      "source": [
        "from sklearn.cluster import KMeans\n",
        "from sklearn.pipeline import Pipeline\n",
        "\n",
        "suma_de_cuadrados = []\n",
        "K = range(1,15)\n",
        "for k in K:\n",
        "    kmeans = KMeans(n_clusters=k,n_init='auto')\n",
        "    kmeans.fit_transform(df[feat_cols])\n",
        "    suma_de_cuadrados.append(kmeans.inertia_)\n",
        "\n",
        "fig, ax = plt.subplots(figsize=(15, 5))\n",
        "ax.plot(K, suma_de_cuadrados,color=\"blue\")\n",
        "ax.set_xlabel('Valores de k')\n",
        "ax.set_ylabel('Suma de distancias al centroide')\n",
        "ax.grid(b=True, which='major', color='gray', linestyle='-')\n",
        "plt.title('Método del codo')\n",
        "plt.show()"
      ]
    },
    {
      "cell_type": "markdown",
      "metadata": {
        "id": "VArIAYxBN_RO"
      },
      "source": [
        "Ahora con una librería"
      ]
    },
    {
      "cell_type": "code",
      "execution_count": null,
      "metadata": {
        "id": "9DiAl8e1N_RO"
      },
      "outputs": [],
      "source": [
        "!pip install yellowbrick --upgrade"
      ]
    },
    {
      "cell_type": "code",
      "execution_count": null,
      "metadata": {
        "id": "DDFZiLmiOIjs"
      },
      "outputs": [],
      "source": [
        "import warnings\n",
        "warnings.filterwarnings('ignore')\n",
        "\n",
        "from sklearn.cluster import KMeans\n",
        "from sklearn import preprocessing\n",
        "from yellowbrick.cluster import KElbowVisualizer\n",
        "\n",
        "\n",
        "df2 =  df[feat_cols]  # df2 es df restringido a las variables de interés\n",
        "\n",
        "\n",
        "# Modelo y visualizador\n",
        "model = KMeans()\n",
        "visualizer = KElbowVisualizer(model, k=(1,12))\n",
        "\n",
        "visualizer.fit(df2)      # Fit the data to the visualizer\n",
        "visualizer.show()"
      ]
    },
    {
      "cell_type": "markdown",
      "metadata": {
        "id": "4feZg_pKOX0z"
      },
      "source": [
        "Utilizamos k=3, 3 grupos"
      ]
    },
    {
      "cell_type": "code",
      "execution_count": null,
      "metadata": {
        "id": "u_h9RJKjOIju"
      },
      "outputs": [],
      "source": [
        "k=3\n",
        "model = KMeans(init='k-means++', n_clusters=k, n_init='auto')\n",
        "model.fit_transform(df[feat_cols])\n",
        "\n",
        "df2 = df.copy()\n",
        "df2[\"C\"] = model.labels_\n",
        "df2[\"Hora\"] = df[\"Hora\"]\n",
        "\n",
        "df2[:40]"
      ]
    },
    {
      "cell_type": "markdown",
      "metadata": {
        "id": "SQoueSjzN_RP"
      },
      "source": [
        "**Ejercicio** Queremos saber cúantos hay de cada cluster"
      ]
    },
    {
      "cell_type": "code",
      "execution_count": null,
      "metadata": {
        "id": "hqZhxj_7N_RP"
      },
      "outputs": [],
      "source": [
        "for c in range(k):\n",
        "    print(c,(df2.C==c).sum())"
      ]
    },
    {
      "cell_type": "code",
      "execution_count": null,
      "metadata": {
        "id": "rG69gtP6OIjx"
      },
      "outputs": [],
      "source": [
        "def cluster_df(df):\n",
        "    max = df[\"Hora\"].max()\n",
        "    min = df[\"Hora\"].min()\n",
        "    ncluster = len(df['C'].unique())\n",
        "    datos = []\n",
        "    horas = []\n",
        "    for i in range(min,max+1):\n",
        "        l = []\n",
        "\n",
        "        for j in range(ncluster):\n",
        "            n = len(df.loc[(df['C'] == j) &(df['Hora']==i) ])\n",
        "            l.append(n)\n",
        "        datos.append(l)\n",
        "        horas.append(i)\n",
        "\n",
        "    import pandas as pd\n",
        "    df_c = pd.DataFrame(datos,columns=[\"C\"+str(i) for i in range(1,ncluster+1)],index=horas)\n",
        "    return df_c\n",
        "df_c = cluster_df(df2)\n",
        "df_c"
      ]
    },
    {
      "cell_type": "markdown",
      "metadata": {
        "id": "MoFhJ3vdN_RP"
      },
      "source": [
        "\n",
        "Centros"
      ]
    },
    {
      "cell_type": "code",
      "execution_count": null,
      "metadata": {
        "id": "Pvu3R0kSOIjx"
      },
      "outputs": [],
      "source": [
        "model.cluster_centers_"
      ]
    },
    {
      "cell_type": "markdown",
      "metadata": {
        "id": "-AkHDSkXN_RP"
      },
      "source": [
        "### Representación gráfica"
      ]
    },
    {
      "cell_type": "code",
      "execution_count": null,
      "metadata": {
        "id": "88WQtzQEN_RP"
      },
      "outputs": [],
      "source": [
        "import seaborn as sns\n",
        "from sklearn.manifold  import TSNE\n",
        "def tsne(df):\n",
        "    df_subset = df.copy()\n",
        "    data_subset = df_subset[feat_cols].values\n",
        "    tsne = TSNE(n_components=2, perplexity=40, n_iter=300)\n",
        "    tsne_results = tsne.fit_transform(data_subset)\n",
        "    df_subset['tsne-2d-one'] = tsne_results[:,0]\n",
        "    df_subset['tsne-2d-two'] = tsne_results[:,1]\n",
        "    plt.figure(figsize=(16,10))\n",
        "    sns.scatterplot(\n",
        "        x=\"tsne-2d-one\", y=\"tsne-2d-two\",\n",
        "        hue=\"Hora\",\n",
        "        style = \"C\",\n",
        "        palette=sns.color_palette(\"hls\", totalHoras),\n",
        "        sizes=(400, 4000), alpha=.9,\n",
        "        data=df_subset,\n",
        "        legend=\"full\"\n",
        "    )\n",
        "\n",
        "tsne(df2)"
      ]
    },
    {
      "cell_type": "code",
      "execution_count": null,
      "metadata": {
        "id": "JPSkhHsxN_RP"
      },
      "outputs": [],
      "source": []
    }
  ],
  "metadata": {
    "colab": {
      "provenance": []
    },
    "kernelspec": {
      "display_name": "Python 3 (ipykernel)",
      "language": "python",
      "name": "python3"
    },
    "language_info": {
      "codemirror_mode": {
        "name": "ipython",
        "version": 3
      },
      "file_extension": ".py",
      "mimetype": "text/x-python",
      "name": "python",
      "nbconvert_exporter": "python",
      "pygments_lexer": "ipython3",
      "version": "3.10.9"
    }
  },
  "nbformat": 4,
  "nbformat_minor": 0
}