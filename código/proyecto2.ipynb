{
 "cells": [
  {
   "cell_type": "markdown",
   "id": "d3e5581c-4054-4d8a-b16b-3a47effbec73",
   "metadata": {},
   "source": [
    "### Ejercicios diccionarios y listas"
   ]
  },
  {
   "cell_type": "markdown",
   "id": "0cfbb6be-b441-400b-971a-b7a13563da78",
   "metadata": {},
   "source": [
    "1.- Dada la variable datos con información sobre las 10 provincias más pobladas de España y su número de habitantes, ordenada por número de habitantes obtener:\n",
    "\n",
    "a) El nombre de la segunda provincia más poblada\n",
    "\n",
    "b) El número de habitantes de la última ciudad en la lista\n",
    "\n",
    "c) Incrementar en 5 el número de habitantes de la tercera provincia más poblada\n",
    "\n",
    "d) Añadir una nueva provincia, ```['Bizkaia', 1162054]```\n",
    "\n",
    "e) Seleccionar todos los elementos excepto el primero y el último de la lista"
   ]
  },
  {
   "cell_type": "code",
   "execution_count": null,
   "id": "7f465b16-d16f-4da9-9e00-4dfeaabf1303",
   "metadata": {},
   "outputs": [],
   "source": [
    "datos = [['Madrid', 7058041], ['Barcelona', 5924293],\n",
    "         ['Valencia', 2730314], ['Alicante', 2008809],\n",
    "         ['Sevilla', 1969075], ['Málaga',1778275], ['Murcia', 1575171], ['Cádiz',1258881], \n",
    "         ['Illes Balears',1238812],['Las Palmas',1164130] ]"
   ]
  },
  {
   "cell_type": "code",
   "execution_count": null,
   "id": "3b4982b3-9cef-4257-af17-5ff61769191c",
   "metadata": {},
   "outputs": [],
   "source": [
    "# Solución\n",
    "#a\n",
    "\n",
    "#b\n",
    "\n",
    "#c\n",
    "\n",
    "#d\n",
    "\n",
    "#e"
   ]
  },
  {
   "cell_type": "markdown",
   "id": "44e86dfb-6a47-44b3-a5b4-60af90e00bc6",
   "metadata": {},
   "source": [
    "2.- Dado el siguiente array de numpy ```a```, escribir código para:\n",
    "\n",
    "a) Usar slicing para obtener los 3 primeros elementos del array\n",
    "\n",
    "b) Crear un nuevo array ```b``` que sea el resultado de sumar 1 a todos los elementos de ```a```\n",
    "\n",
    "c) Crear un  nuevo array ```c``` que tenga solo los elementos positivos (>0) de  ```a```\n",
    "\n",
    "d) Contar el número de elementos positivos de ```a```\n",
    "\n",
    "e)  Crear un  nuevo array ```d``` donde todos los elementos negativos (<0) de  ```a``` hayan sido reemplazados por 0\n",
    "\n",
    "f) Seleccionar las posiciones 0,2,3,7 y 11 del array (Nota: se puede usar un array de posiciones en lugar de una sola posición, igual que se usa un array de booleanos en los filtros)\n",
    "\n"
   ]
  },
  {
   "cell_type": "code",
   "execution_count": null,
   "id": "4d00a87f-38f0-471b-9efc-e362d7d0824f",
   "metadata": {},
   "outputs": [],
   "source": [
    "import numpy as np\n",
    "a = np.random.randint(-100,100,15)\n",
    "a"
   ]
  },
  {
   "cell_type": "code",
   "execution_count": null,
   "id": "fd102dde-cec7-4b1c-904d-49e183c3bced",
   "metadata": {},
   "outputs": [],
   "source": [
    "# Solución\n",
    "#a\n",
    "\n",
    "#b\n",
    "\n",
    "#c\n",
    "\n",
    "#d\n",
    "\n",
    "#e\n",
    "\n",
    "#f"
   ]
  },
  {
   "cell_type": "markdown",
   "id": "6397ad3e-fc2d-46da-9568-d13183c82035",
   "metadata": {},
   "source": [
    "3.- La variable ```datosd```  tiene la misma información sobre provincias y número de habitantes pero en formato diccionario\n",
    "\n",
    "a) Devolver el número de habitantes de Murcia\n",
    "\n",
    "b) Incrementar en 10 el número de habitantes de Barcelona\n",
    "\n",
    "c) Añadir una nueva provincia, ```['Bizkaia', 1162054]```"
   ]
  },
  {
   "cell_type": "code",
   "execution_count": null,
   "id": "4f459c76-b561-4af0-9b3d-5481d8d28404",
   "metadata": {},
   "outputs": [],
   "source": [
    "datos = [['Madrid', 7058041], ['Barcelona', 5924293],\n",
    "         ['Valencia', 2730314], ['Alicante', 2008809],\n",
    "         ['Sevilla', 1969075], ['Málaga',1778275], ['Murcia', 1575171], ['Cádiz',1258881], \n",
    "         ['Illes Balears',1238812],['Las Palmas',1164130] ]\n",
    "datosd = dict(datos)\n",
    "datosd"
   ]
  },
  {
   "cell_type": "code",
   "execution_count": null,
   "id": "3eabc4e0-3ae8-47dd-8b4b-ddef23758bb8",
   "metadata": {},
   "outputs": [],
   "source": [
    "# Solución\n",
    "#a\n",
    "\n",
    "#b\n",
    "\n",
    "#c\n"
   ]
  },
  {
   "cell_type": "markdown",
   "id": "0ec1279b-d7c3-40f5-99ec-e54d9c34e132",
   "metadata": {},
   "source": [
    "4.- Consideramos el siguiente código con datos de empleados y queremos\n",
    "\n",
    "a) Acceder al nombre del primer empleado\n",
    "\n",
    "b) Acceder al tercer teléfono de la segunda empleada\n",
    "\n",
    "c) Añadir un campo \"letra\" a la dirección del primer empleado con valor \"B\""
   ]
  },
  {
   "cell_type": "code",
   "execution_count": null,
   "id": "b5269675-2de3-4dc4-8ce3-a20f1d8c9964",
   "metadata": {},
   "outputs": [],
   "source": [
    "empleados = [ \n",
    "    {\"nombre\": \"Bertoldo\", \"dirección\": {\"calle\": \"C/Rosal\", \"núm.\": 10}, \"telfs.\": [111111, 2222, 3333]}, \n",
    "    {\"nombre\": \"Herminia\", \"dirección\": {\"calle\": \"C/Clavel\", \"núm.\": 14, \"letra\": \"A\"}, \"telfs.\": [111111, 2222, 3333]}, \n",
    "    {\"nombre\": \"Aniceto\", \"dirección\": {\"calle\": \"C/Gardenia\", \"núm.\": 3}, \"telfs.\": [5611122]}, \n",
    "    {\"nombre\": \"Higinia\", \"dirección\": {\"calle\": \"C/Jazmin\", \"núm.\": 122}, \"telfs.\": [89897612, 134444, \"+49001123\"]}\n",
    "]\n"
   ]
  },
  {
   "cell_type": "code",
   "execution_count": null,
   "id": "11844da1-44aa-4951-811b-6ba3bd031067",
   "metadata": {},
   "outputs": [],
   "source": [
    "# Solución\n",
    "#a\n",
    "\n",
    "#b\n",
    "\n",
    "#c\n"
   ]
  },
  {
   "cell_type": "code",
   "execution_count": null,
   "id": "1e055575-20af-4ab0-ab36-d05e1786a9c9",
   "metadata": {},
   "outputs": [],
   "source": []
  }
 ],
 "metadata": {
  "kernelspec": {
   "display_name": "Python 3 (ipykernel)",
   "language": "python",
   "name": "python3"
  },
  "language_info": {
   "codemirror_mode": {
    "name": "ipython",
    "version": 3
   },
   "file_extension": ".py",
   "mimetype": "text/x-python",
   "name": "python",
   "nbconvert_exporter": "python",
   "pygments_lexer": "ipython3",
   "version": "3.12.4"
  }
 },
 "nbformat": 4,
 "nbformat_minor": 5
}
