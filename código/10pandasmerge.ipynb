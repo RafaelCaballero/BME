{
  "cells": [
    {
      "cell_type": "markdown",
      "metadata": {
        "id": "eYeSOuO34P2L"
      },
      "source": [
        "\n",
        "<table>\n",
        "    <tr>\n",
        "      <td>Introducción a\n",
        "      </td>\n",
        "      <td>\n",
        "      <img src=\"https://media.licdn.com/dms/image/D5612AQF7GSp3l4pztQ/article-cover_image-shrink_720_1280/0/1686548640655?e=1715817600&v=beta&t=WQzv1EMkEEwZ0QZ0PF1anRKIHCl5BBH_YPZHdDQsWPM\"  width=150/>\n",
        "      </td>\n",
        "     </tr>\n",
        "</table>\n",
        "\n",
        "\n",
        "\n",
        "### Combinando dataframes\n",
        "Veamos en este Notebook cómo se combinan y agregan dataframes\n",
        "\n",
        "### Índice\n",
        "[Concatenar](#Concatenar)<br>\n",
        "[Merge](#Merge)<br>\n",
        "\n"
      ]
    },
    {
      "cell_type": "markdown",
      "metadata": {
        "id": "PFwAwlFJaM92"
      },
      "source": [
        "El siguiente código es para mostrar una dataframe al lado de otro, ejecutarlo pero no hace falta entenderlo"
      ]
    },
    {
      "cell_type": "code",
      "execution_count": null,
      "metadata": {
        "id": "fn1gjKT4aM92"
      },
      "outputs": [],
      "source": [
        "from IPython.display import display, HTML\n",
        "from IPython.display import display_html\n",
        "from IPython.display import Markdown\n",
        "\n",
        "def display_side_by_side(*args,title=\"\"):\n",
        "    print(title)\n",
        "    html_str = ''\n",
        "    for df in args:\n",
        "        html_str += '&nbsp;&nbsp;&nbsp;'+df.to_html()\n",
        "    display_html(\n",
        "        html_str.replace('table','table style=\"display:inline\"'),\n",
        "        raw=True)\n",
        "\n"
      ]
    },
    {
      "cell_type": "markdown",
      "metadata": {
        "id": "ycCQt1gAaM92"
      },
      "source": [
        "<a name=\"Concatenar\"></a>\n",
        "### Concatenar\n",
        "\n",
        "La forma más fácil, y a veces la más rápida y útil, de combinar dataframes, ya sea \"pegándolo\" debajo o al lado con `pd.concat`\n",
        "\n",
        "<img src = \"https://miro.medium.com/max/1050/1*0wu6DunCzPC4o9FIyRTW4w.png\">"
      ]
    },
    {
      "cell_type": "code",
      "execution_count": null,
      "metadata": {
        "id": "PfED6zn6aM92"
      },
      "outputs": [],
      "source": [
        "import IPython.display as display\n",
        "import pandas as pd\n",
        "from pandas import DataFrame\n",
        "from random import sample\n",
        "\n",
        "\n",
        "df1 = DataFrame({'clave': ['b', 'b', 'a', 'c', 'a', 'a', 'b'],\n",
        "                 'data': range(7),\n",
        "                 'otro': sample(range(10, 30), 7)})\n",
        "\n",
        "df2 = DataFrame({'clave': ['e', 'e', 'e', 'e'],\n",
        "                 'data': range(4),\n",
        "                 'otro': sample(range(10, 30), 4)})\n",
        "\n",
        "display_side_by_side(df1,df2)"
      ]
    },
    {
      "cell_type": "code",
      "execution_count": null,
      "metadata": {
        "id": "HNChxJKBaM93"
      },
      "outputs": [],
      "source": [
        "df3 = pd.concat([df1,df2])\n",
        "df3"
      ]
    },
    {
      "cell_type": "markdown",
      "metadata": {
        "id": "y237GIF0aM93"
      },
      "source": [
        "Si nos incomoda que el índice no sea consecutivo:"
      ]
    },
    {
      "cell_type": "code",
      "execution_count": null,
      "metadata": {
        "id": "rqgB4ySjaM93"
      },
      "outputs": [],
      "source": [
        "df3 = df3.reset_index(drop=True)\n",
        "df3"
      ]
    },
    {
      "cell_type": "markdown",
      "metadata": {
        "id": "hVZTTNvzaM93"
      },
      "source": [
        "Sin embargo, hay veces que es útil usar el índice (si no tiene ya otro cometido) para \"apuntar\" el origen de cada fila"
      ]
    },
    {
      "cell_type": "code",
      "execution_count": null,
      "metadata": {
        "id": "pRsaUR5haM93"
      },
      "outputs": [],
      "source": [
        "import IPython.display as display\n",
        "import pandas as pd\n",
        "\n",
        "df1 = DataFrame({'clave': ['b', 'b', 'a', 'c', 'a', 'a', 'b'],\n",
        "                 'data': range(7),\n",
        "                 'otro': sample(range(10, 30), 7)})\n",
        "\n",
        "df2 = DataFrame({'clave': ['e', 'e', 'e', 'e'],\n",
        "                 'data': range(4),\n",
        "                 'otro': sample(range(10, 30), 4)})\n",
        "\n",
        "df1.index = [\"A\"]*len(df1)\n",
        "df2.index = [\"B\"]*len(df2)\n",
        "df3 = pd.concat([df1,df2])\n",
        "display_side_by_side(df1,df2,df3,title=\"pd.concat([df1,df2])\")"
      ]
    },
    {
      "cell_type": "markdown",
      "metadata": {
        "id": "Hj1VIJ7daM93"
      },
      "source": [
        "**Ojo** porque `concat` no es tan *tonto* como parece; no se limita a pegar debajo sino que alinea por nombres de columna"
      ]
    },
    {
      "cell_type": "code",
      "execution_count": null,
      "metadata": {
        "id": "3Xq1t_xOaM93"
      },
      "outputs": [],
      "source": [
        "import IPython.display as display\n",
        "import pandas as pd\n",
        "\n",
        "df1 = DataFrame({'clave': ['b', 'b', 'a', 'c', 'a', 'a', 'b'],\n",
        "                 'data': range(7),\n",
        "                 'otro': sample(range(10, 30), 7)})\n",
        "\n",
        "df2 = DataFrame({'clave': ['e', 'e', 'e', 'e'],\n",
        "                 'otro': sample(range(10, 30), 4),\n",
        "                 'data': range(4) } )\n",
        "\n",
        "df1.index = [\"A\"]*len(df1)\n",
        "df2.index = [\"B\"]*len(df2)\n",
        "df3 = pd.concat([df1,df2])\n",
        "display_side_by_side(df1,df2,df3, title=\"pd.concat([df1,df2])\")"
      ]
    },
    {
      "cell_type": "markdown",
      "metadata": {
        "id": "TdX-OTE_aM93"
      },
      "source": [
        "Con el parámetro axis (que por defecto vale 0) podemos hacer que en lugar de por filas concatene por columnas. En este caso lo lógico es que ambos dataframes tengan el mismo número de filas\n",
        "\n"
      ]
    },
    {
      "cell_type": "code",
      "execution_count": null,
      "metadata": {
        "id": "8Ks-928taM94"
      },
      "outputs": [],
      "source": [
        "import numpy as np\n",
        "filas = 5\n",
        "df1 = DataFrame({'A': np.random.randint(1,10,filas) ,\n",
        "                 'B': np.random.randint(1,10,filas),\n",
        "                 'C': np.random.randint(1,10,filas)})\n",
        "\n",
        "df2 = DataFrame({'D': np.random.randint(2000,3000,filas),\n",
        "                 'E': np.random.randint(2000,3000,filas)})\n",
        "df3 = pd.concat([df1,df2],axis=1)\n",
        "display_side_by_side(df1,df2, df3, title=\"pd.concat([df1,df2],axis=1)\")"
      ]
    },
    {
      "cell_type": "markdown",
      "metadata": {
        "id": "HPix6KBtaM94"
      },
      "source": [
        "Un aspecto muy importante: igual que al concatenar utiliza los nombres de columna aquí va a usar los números de fila"
      ]
    },
    {
      "cell_type": "code",
      "execution_count": null,
      "metadata": {
        "id": "r3eWZSCzaM94"
      },
      "outputs": [],
      "source": [
        "df2.index=[0,1,2,4,7]\n",
        "df3 = pd.concat([df1,df2],axis=1)\n",
        "display_side_by_side(df1,df2, df3,title=\"pd.concat([df1,df2],axis=1)\")"
      ]
    },
    {
      "cell_type": "markdown",
      "metadata": {
        "id": "NPrasXB9aM94"
      },
      "source": [
        "Si el número de filas o columnas no encaja, `concat` añadirá valores vacío para completar"
      ]
    },
    {
      "cell_type": "code",
      "execution_count": null,
      "metadata": {
        "id": "Zpe-ftb2aM94"
      },
      "outputs": [],
      "source": [
        "import numpy as np\n",
        "filas = 5\n",
        "df1 = DataFrame({'A': np.random.randint(1,10,filas) ,\n",
        "                 'B': np.random.randint(1,10,filas),\n",
        "                 'C': np.random.randint(1,10,filas)})\n",
        "\n",
        "df2 = DataFrame({'D': np.random.randint(2000,3000,filas-1),\n",
        "                 'E': np.random.randint(2000,3000,filas-1)})\n",
        "df3 = pd.concat([df1,df2],axis=1)\n",
        "display_side_by_side(df1,df2,df3 ,title=\"pd.concat([df1,df2],axis=1)\")\n",
        "df4 = pd.concat([df1,df2],axis=0)\n",
        "display_side_by_side(df1,df2, df4,title=\"pd.concat([df1,df2],axis=0)\")"
      ]
    },
    {
      "cell_type": "markdown",
      "metadata": {
        "id": "b1Ch_sE7aM94"
      },
      "source": [
        "**Ejercicio**  Vamos a obtener varios valores con yahoo finance"
      ]
    },
    {
      "cell_type": "code",
      "source": [
        "!pip install --upgrade yfinance"
      ],
      "metadata": {
        "id": "HBHHfeuokJz6"
      },
      "execution_count": null,
      "outputs": []
    },
    {
      "cell_type": "code",
      "execution_count": null,
      "metadata": {
        "id": "teBuwGr_aM94"
      },
      "outputs": [],
      "source": [
        "import yfinance as yf\n",
        "\n",
        "# obtiene todas las cotizaciones posibles del símbolo que se le pasa como parámetro\n",
        "def obten_símbolo(símbolo,sufijo):\n",
        "  data = yf.Ticker(símbolo)\n",
        "  df = data.history(period=\"max\")[[\"Open\",\t\"High\",\"Low\",\"Close\"\t]]\n",
        "  df.columns = [ c+\"_\"+sufijo for c in df.columns]\n",
        "  return df\n",
        "\n",
        "can = obten_símbolo(\"CAD=X\",\"CAD\")\n",
        "jpy = obten_símbolo(\"JPYUSD=X\",\"JPY\")\n",
        "eur = obten_símbolo(\"EURUSD=X\",\"EUR\")\n",
        "\n"
      ]
    },
    {
      "cell_type": "code",
      "source": [
        "can"
      ],
      "metadata": {
        "id": "1tIxMgdXkgM0"
      },
      "execution_count": null,
      "outputs": []
    },
    {
      "cell_type": "markdown",
      "source": [
        "Escribir código con concat para concatenar los 3 dataframes por filas; dejar el resultado en un dataframe `df_currencies`"
      ],
      "metadata": {
        "id": "OWiww5OHpxT6"
      }
    },
    {
      "cell_type": "code",
      "source": [
        "import pandas as pd\n",
        "df_currencies = pd.concat([can,jpy,eur],axis=1)\n",
        "df_currencies"
      ],
      "metadata": {
        "id": "huKtPXYSiAdm"
      },
      "execution_count": null,
      "outputs": []
    },
    {
      "cell_type": "code",
      "execution_count": null,
      "metadata": {
        "id": "ZjtGrgDAaM94"
      },
      "outputs": [],
      "source": [
        "df = yf.download(\"CAD=X JPYUSD=X EURUSD=X\",period=\"max\")\n",
        "df"
      ]
    },
    {
      "cell_type": "markdown",
      "metadata": {
        "id": "qdTq_ugNaM94"
      },
      "source": [
        "Esta segunda forma devuelve una \"columna multiindex\", que normalmente no utilizaremos"
      ]
    },
    {
      "cell_type": "code",
      "execution_count": null,
      "metadata": {
        "id": "p5neHVVsaM94"
      },
      "outputs": [],
      "source": [
        "df[\"Close\"]"
      ]
    },
    {
      "cell_type": "code",
      "execution_count": null,
      "metadata": {
        "id": "VdOPcupKaM94"
      },
      "outputs": [],
      "source": [
        "df[\"Close\"][\"CAD=X\"]"
      ]
    },
    {
      "cell_type": "markdown",
      "source": [
        "Preferiremos"
      ],
      "metadata": {
        "id": "9bd_nUmasHaX"
      }
    },
    {
      "cell_type": "code",
      "execution_count": null,
      "metadata": {
        "id": "_Nvr31O5aM94"
      },
      "outputs": [],
      "source": [
        "df_currencies\n"
      ]
    },
    {
      "cell_type": "markdown",
      "source": [
        "Para quedarnos solo con las filas que tengan valores en todas las columnas"
      ],
      "metadata": {
        "id": "Bj4Th2easya7"
      }
    },
    {
      "cell_type": "code",
      "source": [
        "df_currencies.dropna()"
      ],
      "metadata": {
        "id": "weDoQLjns3HT"
      },
      "execution_count": null,
      "outputs": []
    },
    {
      "cell_type": "code",
      "source": [
        "df_currencies.dropna().to_csv(\"currencies.csv\")"
      ],
      "metadata": {
        "id": "ki8JU73ps8uT"
      },
      "execution_count": null,
      "outputs": []
    },
    {
      "cell_type": "markdown",
      "metadata": {
        "id": "ycPnBXy74P2U"
      },
      "source": [
        "<a name=\"Merge\"></a>\n",
        "### Merge\n",
        "\n",
        "En este caso se busca unir dos dataframes fijándonos en las coincidencias entre valores de dos columnas"
      ]
    },
    {
      "cell_type": "code",
      "execution_count": null,
      "metadata": {
        "id": "NDzGNj1j4P2X"
      },
      "outputs": [],
      "source": [
        "from pandas import DataFrame\n",
        "from pandas import Series\n",
        "import pandas as pd\n",
        "from random import sample\n",
        "df1 = DataFrame({'clave': ['b', 'b', 'a', 'c', 'a', 'a', 'b'],\n",
        "                 'data1': range(7),\n",
        "                 'otro': sample(range(10, 30), 7)})\n",
        "\n",
        "df2 = DataFrame({'clave': ['a', 'b', 'b', 'd'],\n",
        "                 'data2': range(4)})\n",
        "display_side_by_side(df1,df2)"
      ]
    },
    {
      "cell_type": "markdown",
      "metadata": {
        "id": "yWXk17ZeaM95"
      },
      "source": [
        "Por defecto la mezcla es por la columna que se llama igual\n"
      ]
    },
    {
      "cell_type": "code",
      "execution_count": null,
      "metadata": {
        "id": "PHASYRX64P2a"
      },
      "outputs": [],
      "source": [
        "\n",
        "display_side_by_side(df1,df2, pd.merge(df1,df2),title=\"pd.merge(df1,df2)\")\n"
      ]
    },
    {
      "cell_type": "markdown",
      "metadata": {
        "id": "2qDjuyix4P2c"
      },
      "source": [
        "Si no se indica lo contrario, `merge` busca columnas comunes y hace un (inner) 'join'. Nótese que en este caso no se tienen en cuenta los índices\n",
        "<br><br>\n",
        "\n",
        "El método merge se puede llamar también dentro de un dataframe (es equivalente)"
      ]
    },
    {
      "cell_type": "code",
      "execution_count": null,
      "metadata": {
        "id": "KNzwLqaI6Wm4"
      },
      "outputs": [],
      "source": [
        "df1.merge(df2)"
      ]
    },
    {
      "cell_type": "markdown",
      "metadata": {
        "id": "C64nnTQU7uow"
      },
      "source": [
        "También se pueden unir por varias columnas, que podemos especificar directamente con los parámetros `left_on`y `right_on`"
      ]
    },
    {
      "cell_type": "code",
      "execution_count": null,
      "metadata": {
        "id": "NzxyoozG6P3w"
      },
      "outputs": [],
      "source": [
        "\n",
        "df3 = df1.merge(df2, left_on=['clave','data1'], right_on = ['clave','data2'])\n",
        "\n",
        "display_side_by_side(df1,df2, df3)"
      ]
    },
    {
      "cell_type": "markdown",
      "metadata": {
        "id": "KqT6d_LH799A"
      },
      "source": [
        "Si la clave o claves por las que querenos unir se llaman ambas igual podemos usar simplemente `on`"
      ]
    },
    {
      "cell_type": "code",
      "execution_count": null,
      "metadata": {
        "id": "sMtV8g8P4P2d"
      },
      "outputs": [],
      "source": [
        "df3 = pd.merge(df1,df2,on='clave')\n",
        "display_side_by_side(df1,df2, df3)"
      ]
    },
    {
      "cell_type": "markdown",
      "metadata": {
        "id": "zoAFxQkh4P2k"
      },
      "source": [
        "Además de *inner* join, se pueden hacer con el parámetro `how` tomando valores *left*, *right*, *outer*, *inner*\n",
        "\n",
        "<img src=\"https://www.golinuxcloud.com/wp-content/uploads/types_joins-1320x961.png\">"
      ]
    },
    {
      "cell_type": "markdown",
      "metadata": {
        "id": "TNPUGlHk_nI4"
      },
      "source": [
        "En el caso de left, right y full/outer si la columna no encaja se rellenan con valores NaN"
      ]
    },
    {
      "cell_type": "code",
      "execution_count": null,
      "metadata": {
        "id": "QbqvqDKL4P2l"
      },
      "outputs": [],
      "source": [
        "df3 = df1.merge( df2, on='clave', how='left')\n",
        "display_side_by_side(df1,df2, df3)"
      ]
    },
    {
      "cell_type": "markdown",
      "metadata": {
        "id": "Zfe8AZRsCy-g"
      },
      "source": [
        "**Ejercicio** En\n",
        "\n",
        "https://raw.githubusercontent.com/RafaelCaballero/tdm/master/datos/tweetsCompletadoOrdenRename.csv\n",
        "\n",
        "Tenemos datos de tweets, incluyendo el identificador del usuario que que ha emitidos cada tweet,  `userid`.\n",
        "\n",
        "En\n",
        "\n",
        "https://raw.githubusercontent.com/RafaelCaballero/tdm/master/datos/usersrentaf.csv\n",
        "\n",
        "tenemos datos de usuarios: sú número de seguidores, la renta de la zona donde viven, etc. En este caso el identificador se llama simplemente `id`.\n",
        "\n",
        "Queremos unir ambos ficheros, de forma que a cada tweet se le añadan los datos de su usuario. Si un tweet no tiene su usario en el segundo conjunto de datos debemos borrarlo. Igualmente si un usuario no tiene ningún tweet no se incluirá.\n",
        "\n",
        "\n",
        "\n"
      ]
    },
    {
      "cell_type": "code",
      "execution_count": null,
      "metadata": {
        "id": "E1f4TfgnCxr5"
      },
      "outputs": [],
      "source": [
        "import pandas as pd\n",
        "url_tweets = \"https://raw.githubusercontent.com/RafaelCaballero/tdm/master/datos/tweetsCompletadoOrdenRename.csv\"\n",
        "url_users = \"https://raw.githubusercontent.com/RafaelCaballero/tdm/master/datos/usersrentaf.csv\"\n",
        "df_tweets = pd.read_csv(url_tweets)\n",
        "df_users = pd.read_csv(url_users)\n",
        "\n"
      ]
    },
    {
      "cell_type": "code",
      "execution_count": null,
      "metadata": {
        "id": "5U7D6ooaJ5ca"
      },
      "outputs": [],
      "source": [
        "df_tweets.columns"
      ]
    },
    {
      "cell_type": "code",
      "execution_count": null,
      "metadata": {
        "id": "sr4E5wHlaM9-"
      },
      "outputs": [],
      "source": []
    },
    {
      "cell_type": "code",
      "execution_count": null,
      "metadata": {
        "id": "jt8-N3qSaM9-"
      },
      "outputs": [],
      "source": []
    }
  ],
  "metadata": {
    "colab": {
      "provenance": []
    },
    "kernelspec": {
      "display_name": "Python 3 (ipykernel)",
      "language": "python",
      "name": "python3"
    },
    "language_info": {
      "codemirror_mode": {
        "name": "ipython",
        "version": 3
      },
      "file_extension": ".py",
      "mimetype": "text/x-python",
      "name": "python",
      "nbconvert_exporter": "python",
      "pygments_lexer": "ipython3",
      "version": "3.9.12"
    }
  },
  "nbformat": 4,
  "nbformat_minor": 0
}