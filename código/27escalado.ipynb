{
  "cells": [
    {
      "cell_type": "markdown",
      "id": "42fa765a",
      "metadata": {
        "id": "42fa765a"
      },
      "source": [
        "<table>\n",
        "    <tr>\n",
        "      <td>Introducción a\n",
        "      </td>\n",
        "      <td>\n",
        "      <img src=\"https://media.licdn.com/dms/image/D5612AQF7GSp3l4pztQ/article-cover_image-shrink_720_1280/0/1686548640655?e=1715817600&v=beta&t=WQzv1EMkEEwZ0QZ0PF1anRKIHCl5BBH_YPZHdDQsWPM\"  width=150/>\n",
        "      </td>\n",
        "     </tr>\n",
        "</table>\n",
        "Rafa Caballero\n",
        "\n",
        "# Escalado: estandarización y normalización\n",
        "\n",
        "### Índice\n",
        "[Ejemplo](#ejemplo)<br>\n",
        "[Estandarización](#estandarización)<br>\n",
        "[Normalización](#normalización)<br>\n",
        "[Otros normalizadores](#otros)<br>\n",
        "\n",
        "<a name=\"ejemplo\"></a>\n",
        "#### Ejemplo\n",
        "\n",
        "Tenemos datos de altura y número de zapato de unas cuantas personas"
      ]
    },
    {
      "cell_type": "code",
      "execution_count": null,
      "id": "6c861d04",
      "metadata": {
        "id": "6c861d04"
      },
      "outputs": [],
      "source": [
        "import statistics as s\n",
        "import numpy as np\n",
        "import pandas as pd\n",
        "\n",
        "size = 100\n",
        "n = s.NormalDist(mu=1.76, sigma=0.16) # generador de números siguiendo una normal N(1.76,0.16)\n",
        "altura = n.samples(size,seed=5)\n",
        "altura = np.array(altura).round(4)\n",
        "n2 = s.NormalDist(mu=40, sigma=3.2) # generador de números siguiendo una normal N(40,3.2)\n",
        "zapato = n2.samples(size,seed=30)\n",
        "zapato = np.array(zapato).round(2)\n",
        "\n",
        "df = pd.DataFrame({\"alto\":altura,\"pie\":zapato})\n",
        "\n",
        "df.hist()\n"
      ]
    },
    {
      "cell_type": "code",
      "execution_count": null,
      "id": "06b4c541",
      "metadata": {
        "id": "06b4c541"
      },
      "outputs": [],
      "source": [
        "altura"
      ]
    },
    {
      "cell_type": "code",
      "execution_count": null,
      "id": "df6fa642",
      "metadata": {
        "id": "df6fa642"
      },
      "outputs": [],
      "source": [
        "zapato"
      ]
    },
    {
      "cell_type": "markdown",
      "id": "b6e1c299",
      "metadata": {
        "id": "b6e1c299"
      },
      "source": [
        "Los datos no son nada \"reales\" (¿por qué?) pero nos valen para un experimento sencillo"
      ]
    },
    {
      "cell_type": "code",
      "execution_count": null,
      "id": "dd26e88c",
      "metadata": {
        "id": "dd26e88c"
      },
      "outputs": [],
      "source": [
        "df.sample(10).sort_values(by=[\"alto\"])"
      ]
    },
    {
      "cell_type": "markdown",
      "id": "ca24dbf2",
      "metadata": {
        "id": "ca24dbf2"
      },
      "source": [
        "Supongamos ahora que tenemos una actividad que requiere tener pie pequeño y bastante altura, digamos 36 de pie y 1.95 de altura. ¿Qué valores en df se acercan más a este estándar? Podemos utilizar la fórmula de la distancia para ello:\n",
        "\n",
        "$\\sqrt{(x_2 - x_1)^2 + (y_2 - y_1)^2} = [(x_2 - x_1)^2 + (y_2 - y_1)^2]^{(\\frac{1}{2})}$"
      ]
    },
    {
      "cell_type": "code",
      "execution_count": null,
      "id": "ca880a94",
      "metadata": {
        "id": "ca880a94"
      },
      "outputs": [],
      "source": [
        "x1 = 1.95\n",
        "y1 = 36\n",
        "\n",
        "df2 = df.copy()\n",
        "df2[\"dist\"] = ((df.alto-x1)**2 + (df.pie-y1)**2)**0.5\n",
        "\n",
        "df2.sort_values(by=[\"dist\"])"
      ]
    },
    {
      "cell_type": "markdown",
      "id": "c89a9bfe",
      "metadata": {
        "id": "c89a9bfe"
      },
      "source": [
        "¿Qué ocurre? ¿Por qué no funciona?"
      ]
    },
    {
      "cell_type": "code",
      "execution_count": null,
      "id": "f5a36f87",
      "metadata": {
        "id": "f5a36f87"
      },
      "outputs": [],
      "source": [
        "import matplotlib.pyplot as plt\n",
        "fig, ax = plt.subplots(figsize=(5, 3))\n",
        "dfs = df\n",
        "ax.scatter(dfs.alto,dfs.pie,s=0.5)\n",
        "plt.xlim(0,50)\n",
        "plt.ylim(0,50)\n",
        "plt.xlabel(\"alto\")\n",
        "plt.ylabel(\"pie\")\n",
        "plt.show()"
      ]
    },
    {
      "cell_type": "markdown",
      "id": "bc906386",
      "metadata": {
        "id": "bc906386"
      },
      "source": [
        "¡¡Prácticamente hay una sola dimensión!! Esto va a influir mucho en los métodos de naturaleza geométrica (logística, regresión linea, KNN, SVM, redes neuronales...) porque la altura no influirá, es como si estuviéramos diciendo que es mucho menos importante."
      ]
    },
    {
      "cell_type": "markdown",
      "id": "ad370d0f",
      "metadata": {
        "id": "ad370d0f"
      },
      "source": [
        "<a name=\"estandarizacion\"></a>\n",
        "#### Estandarización\n",
        "\n",
        "¿Cuál es la solución? **Estandarizar**  (también conocida como *estandarización Z*, o *Z-score standarization*), que es la forma de escalado más habitual entre datos que siguen aproximadamente una normal (y que a veces también se usa con datos que no la siguen!)\n",
        "\n",
        "\n",
        "La idea es convertir las distribuciones en una N(0,1) para facilitar la comparación\n",
        "\n",
        "<img src=\"https://miro.medium.com/v2/resize:fit:1400/format:webp/1*dZlwWGNhFco5bmpfwYyLCQ.png\" width=300/>\n",
        "\n",
        "La transformación es sencilla, dada una columna $x$ con media $\\mu$ y desviación típica $\\sigma$ vamos a construir una versión:\n",
        "\n",
        "\n",
        "$$\n",
        "z = \\frac{x - \\mu}{\\sigma}\n",
        "$$"
      ]
    },
    {
      "cell_type": "markdown",
      "id": "179aa8c0",
      "metadata": {
        "id": "179aa8c0"
      },
      "source": [
        "Vamos a hacerlo primero \"a mano\""
      ]
    },
    {
      "cell_type": "code",
      "execution_count": null,
      "id": "faa01378",
      "metadata": {
        "id": "faa01378"
      },
      "outputs": [],
      "source": [
        "media_alto,media_pie = df.mean()\n",
        "dt_alto,dt_pie = df.std()\n",
        "\n",
        "dfs = df.copy()\n",
        "dfs[\"alto_s\"] = (df.alto-media_alto)/dt_alto\n",
        "dfs[\"pie_s\"] = (df.pie-media_pie)/dt_pie\n",
        "dfs.describe()"
      ]
    },
    {
      "cell_type": "code",
      "execution_count": null,
      "id": "8af790d2",
      "metadata": {
        "id": "8af790d2"
      },
      "outputs": [],
      "source": [
        "media_alto_s,media_pie_s = dfs[[\"alto_s\",\"pie_s\"]].mean()\n",
        "dt_alto_s,dt_pie_s = dfs[[\"alto_s\",\"pie_s\"]].std()"
      ]
    },
    {
      "cell_type": "code",
      "execution_count": null,
      "id": "2c7b8619",
      "metadata": {
        "id": "2c7b8619"
      },
      "outputs": [],
      "source": [
        "import matplotlib.pyplot as plt\n",
        "fig, ax = plt.subplots(figsize=(5, 3))\n",
        "ax.scatter(dfs.alto_s,dfs.pie_s,s=4)\n",
        "plt.xlim(-3,3)\n",
        "plt.ylim(-3,3)\n",
        "plt.xlabel(\"alto\")\n",
        "plt.ylabel(\"pie\")\n",
        "plt.show()"
      ]
    },
    {
      "cell_type": "markdown",
      "id": "63fb0a74",
      "metadata": {
        "id": "63fb0a74"
      },
      "source": [
        "Ahora sí tienen importancia ambas variables"
      ]
    },
    {
      "cell_type": "code",
      "execution_count": null,
      "id": "ea5f1de1",
      "metadata": {
        "id": "ea5f1de1"
      },
      "outputs": [],
      "source": [
        "dfs"
      ]
    },
    {
      "cell_type": "code",
      "execution_count": null,
      "id": "9e050162",
      "metadata": {
        "id": "9e050162"
      },
      "outputs": [],
      "source": [
        "x1 = (1.95-media_alto)/dt_alto\n",
        "y1 = (36-media_pie)/dt_pie\n",
        "\n",
        "df2 = dfs.copy()\n",
        "df2[\"dist\"] = ((dfs.alto_s-x1)**2 + (dfs.pie_s-y1)**2)**0.5\n",
        "\n",
        "df2.sort_values(by=[\"dist\"])"
      ]
    },
    {
      "cell_type": "markdown",
      "id": "ae707e98",
      "metadata": {
        "id": "ae707e98"
      },
      "source": [
        "Mostramos el valor de referencia y los más cercanos"
      ]
    },
    {
      "cell_type": "code",
      "execution_count": null,
      "id": "16cbdfdf",
      "metadata": {
        "id": "16cbdfdf"
      },
      "outputs": [],
      "source": [
        "import matplotlib.pyplot as plt\n",
        "fig, ax = plt.subplots(figsize=(5, 3))\n",
        "ax.scatter(dfs.alto_s,dfs.pie_s,s=4,color=\"blue\")\n",
        "ax.scatter([x1],[y1],s=40,color=\"green\")\n",
        "cercanos = df2.sort_values(by=[\"dist\"]).head(10)\n",
        "ax.scatter(cercanos.alto_s,cercanos.pie_s,s=4,color=\"red\")\n",
        "\n",
        "plt.xlim(-3,3)\n",
        "plt.ylim(-3,3)\n",
        "plt.xlabel(\"alto\")\n",
        "plt.ylabel(\"pie\")\n",
        "plt.show()"
      ]
    },
    {
      "cell_type": "code",
      "execution_count": null,
      "id": "81611b09",
      "metadata": {
        "id": "81611b09"
      },
      "outputs": [],
      "source": [
        "x1,y1"
      ]
    },
    {
      "cell_type": "markdown",
      "id": "a44f853a",
      "metadata": {
        "id": "a44f853a"
      },
      "source": [
        "Hay muchos métodos que ML que requerirán estandarización, tantos que aunque es una trnasformación bastante simple de implementar es muy normal utilizar la versión incluída en la bibliteca sklearn"
      ]
    },
    {
      "cell_type": "code",
      "execution_count": null,
      "id": "c46e0b31",
      "metadata": {
        "id": "c46e0b31"
      },
      "outputs": [],
      "source": [
        "from sklearn.preprocessing import StandardScaler\n",
        "\n",
        "\n",
        "scaler = StandardScaler() # 1 declarar el método\n",
        "scaler.fit(df)  # 2 \"aprender\" de los datos (en este caso obtener la media y la desviación típica)\n",
        "datos = scaler.transform(df) # aplicar el método ya instanciado a los datos\n",
        "dfs = pd.DataFrame(datos,columns=[\"alto_s\",\"pie_s\"]) # convertir a DataFrame\n",
        "dfs"
      ]
    },
    {
      "cell_type": "code",
      "execution_count": null,
      "id": "fef4cac0",
      "metadata": {
        "id": "fef4cac0"
      },
      "outputs": [],
      "source": [
        "import matplotlib.pyplot as plt\n",
        "\n",
        "\n",
        "fig, ax = plt.subplots(figsize=(5, 3))\n",
        "ax.scatter(dfs.alto_s,dfs.pie_s,s=4,color=\"blue\")\n",
        "ax.scatter([x1],[y1],s=40,color=\"green\")\n",
        "cercanos = df2.sort_values(by=[\"dist\"]).head(10)\n",
        "ax.scatter(cercanos.alto_s,cercanos.pie_s,s=4,color=\"red\")\n",
        "\n",
        "plt.xlim(-3,3)\n",
        "plt.ylim(-3,3)\n",
        "plt.xlabel(\"alto\")\n",
        "plt.ylabel(\"pie\")\n",
        "plt.show()"
      ]
    },
    {
      "cell_type": "markdown",
      "id": "49e0f0e3",
      "metadata": {
        "id": "49e0f0e3"
      },
      "source": [
        "Un último apunte: el que queramos estandarizar (o usar otro escalado) va a depender de la situación. Por ejemplo siquieremos disitnguir días soleados de nublados a partir de datos de sensores puede ser una mala idea:\n",
        "\n",
        "<img src=\"https://github.com/RafaelCaballero/tdm/raw/master/images/soleadonublado.png\" />"
      ]
    },
    {
      "cell_type": "markdown",
      "id": "fdde2178",
      "metadata": {
        "id": "fdde2178"
      },
      "source": [
        "<a name=\"normalizacion\"></a>\n",
        "#### Normalización\n",
        "\n",
        "Hay otras formas de escalar alternativas, que en ocasiones resultan muy útiles, especialmente (pero no solo) con datos que no siguen una normal. El más habitual es el MIN-MAX scaler que convierte la columna al rango 0-1 aplicando esta sencilla transformación: dada una variable/columna $x$ con máximo $M$ y mínimo $m$, se define la transformación min-max $x'$\n",
        "\n",
        "$$\n",
        "x' = \\frac{x-m}{M-m}\n",
        "$$\n",
        "\n"
      ]
    },
    {
      "cell_type": "code",
      "execution_count": null,
      "id": "82670ba1",
      "metadata": {
        "id": "82670ba1"
      },
      "outputs": [],
      "source": [
        "df"
      ]
    },
    {
      "cell_type": "code",
      "execution_count": null,
      "id": "05e56df3",
      "metadata": {
        "id": "05e56df3"
      },
      "outputs": [],
      "source": [
        "alto_m, pie_m = df.min()\n",
        "alto_M, pie_M = df.max()"
      ]
    },
    {
      "cell_type": "code",
      "execution_count": null,
      "id": "405ae0ff",
      "metadata": {
        "id": "405ae0ff"
      },
      "outputs": [],
      "source": [
        "dfn = df.copy()\n",
        "dfn[\"alto_n\"] = (df.alto-alto_m)/(alto_M-alto_m)\n",
        "dfn[\"pie_n\"] = (df.pie-pie_m)/(pie_M-pie_m)\n",
        "dfn"
      ]
    },
    {
      "cell_type": "code",
      "execution_count": null,
      "id": "94e5a809",
      "metadata": {
        "id": "94e5a809"
      },
      "outputs": [],
      "source": [
        "xn = (1.95-alto_m)/(alto_M-alto_m)\n",
        "yn = (36-pie_m)/(pie_M-pie_m)\n",
        "\n",
        "df2n = dfn.copy()\n",
        "df2n[\"dist\"] = ((dfn.alto_n-xn)**2 + (dfn.pie_n-yn)**2)**0.5\n",
        "\n",
        "df2n.sort_values(by=[\"dist\"])"
      ]
    },
    {
      "cell_type": "code",
      "execution_count": null,
      "id": "d6ca2566",
      "metadata": {
        "id": "d6ca2566"
      },
      "outputs": [],
      "source": [
        "import matplotlib.pyplot as plt\n",
        "%matplotlib inline\n",
        "\n",
        "fig, ax = plt.subplots(figsize=(5, 3))\n",
        "ax.scatter(dfn.alto_n,dfn.pie_n,s=4,color=\"blue\")\n",
        "ax.scatter([xn],[yn],s=40,color=\"green\")\n",
        "cercanos = df2n.sort_values(by=[\"dist\"]).head(10)\n",
        "ax.scatter(cercanos.alto_n,cercanos.pie_n,s=4,color=\"red\")\n",
        "\n",
        "plt.xlim(0,1)\n",
        "plt.ylim(0,1)\n",
        "plt.xlabel(\"alto\")\n",
        "plt.ylabel(\"pie\")\n",
        "plt.show()"
      ]
    },
    {
      "cell_type": "markdown",
      "id": "2f1d14b9",
      "metadata": {
        "id": "2f1d14b9"
      },
      "source": [
        "De nuevo podemos utilizar la librería"
      ]
    },
    {
      "cell_type": "code",
      "execution_count": null,
      "id": "6a5b1667",
      "metadata": {
        "id": "6a5b1667"
      },
      "outputs": [],
      "source": [
        "from sklearn.preprocessing import StandardScaler,MinMaxScaler\n",
        "\n",
        "\n",
        "scaler = MinMaxScaler() # 1 declarar el método\n",
        "scaler.fit(df)  # 2 \"aprender\" de los datos (en este caso obtener la media y la desviación típica)\n",
        "datos = scaler.transform(df) # aplicar el método ya instanciado a los datos\n",
        "dfs = pd.DataFrame(datos,columns=[\"alto_s\",\"pie_s\"]) # convertir a DataFrame\n",
        "dfs"
      ]
    },
    {
      "cell_type": "code",
      "execution_count": null,
      "id": "3f833596",
      "metadata": {
        "id": "3f833596"
      },
      "outputs": [],
      "source": [
        "scaler.transform([[1.95,36]])"
      ]
    },
    {
      "cell_type": "code",
      "execution_count": null,
      "id": "41af96a0",
      "metadata": {
        "id": "41af96a0"
      },
      "outputs": [],
      "source": [
        "xn,yn = scaler.transform([[1.95,36]])[0]"
      ]
    },
    {
      "cell_type": "code",
      "execution_count": null,
      "id": "64a52afb",
      "metadata": {
        "id": "64a52afb"
      },
      "outputs": [],
      "source": [
        "df2n = dfs.copy()\n",
        "df2n[\"dist\"] = ((dfs.alto_s-xn)**2 + (dfs.pie_s-yn)**2)**0.5\n",
        "\n",
        "df2n.sort_values(by=[\"dist\"])"
      ]
    },
    {
      "cell_type": "code",
      "execution_count": null,
      "id": "7b8d8442",
      "metadata": {
        "id": "7b8d8442"
      },
      "outputs": [],
      "source": [
        "import matplotlib.pyplot as plt\n",
        "\n",
        "\n",
        "fig, ax = plt.subplots(figsize=(5, 3))\n",
        "ax.scatter(dfs.alto_s,dfs.pie_s,s=4,color=\"blue\")\n",
        "ax.scatter([xn],[yn],s=40,color=\"green\")\n",
        "cercanos = df2n.sort_values(by=[\"dist\"]).head(10)\n",
        "ax.scatter(cercanos.alto_s,cercanos.pie_s,s=4,color=\"red\")\n",
        "\n",
        "plt.xlim(0,1)\n",
        "plt.ylim(0,1)\n",
        "plt.xlabel(\"alto\")\n",
        "plt.ylabel(\"pie\")\n",
        "plt.show()"
      ]
    },
    {
      "cell_type": "markdown",
      "id": "4c40fd85",
      "metadata": {
        "id": "4c40fd85"
      },
      "source": [
        "El usar el mismo esquema nos permite escribir una función que sea independiente del método"
      ]
    },
    {
      "cell_type": "code",
      "execution_count": null,
      "id": "d88d8056",
      "metadata": {
        "id": "d88d8056"
      },
      "outputs": [],
      "source": [
        "from sklearn.preprocessing import StandardScaler,MinMaxScaler\n",
        "\n",
        "def escala(df,metodo,columnas):\n",
        "    metodo.fit(df)\n",
        "    datos = metodo.transform(df)\n",
        "    return pd.DataFrame(datos,columns=columnas)\n",
        "\n",
        "\n",
        "dfmM = escala(df, MinMaxScaler(), [\"alto_s\",\"pie_s\"])\n",
        "dfs  = escala(df, StandardScaler(), [\"alto_s\",\"pie_s\"])\n"
      ]
    },
    {
      "cell_type": "markdown",
      "id": "e27c902c",
      "metadata": {
        "id": "e27c902c"
      },
      "source": [
        "\n",
        "<a name=\"otros\"></a>\n",
        "#### Otros normalizadores\n",
        "Un problema conocido en el caso de maxmin, y una razón por la que a menudo se prefiere la estandarización"
      ]
    },
    {
      "cell_type": "code",
      "execution_count": null,
      "id": "11392ba4",
      "metadata": {
        "id": "11392ba4"
      },
      "outputs": [],
      "source": [
        "df2 = df.copy()\n",
        "df2.iloc[0,0]=40 # un error en los datos\n",
        "df2"
      ]
    },
    {
      "cell_type": "code",
      "execution_count": null,
      "id": "c75e4fa8",
      "metadata": {
        "id": "c75e4fa8"
      },
      "outputs": [],
      "source": [
        "minmax =  MinMaxScaler()\n",
        "dfs = escala(df2, minmax, [\"alto_s\",\"pie_s\"])\n",
        "\n",
        "# distancias\n",
        "xn,yn = minmax.transform([[1.95,36]])[0]\n",
        "df2n = dfs.copy()\n",
        "df2n[\"dist\"] = ((dfs.alto_s-xn)**2 + (dfs.pie_s-yn)**2)**0.5\n",
        "\n",
        "\n",
        "\n",
        "fig, ax = plt.subplots(figsize=(5, 3))\n",
        "ax.scatter(dfs.alto_s,dfs.pie_s,s=4,color=\"blue\")\n",
        "ax.scatter([xn],[yn],s=40,color=\"green\")\n",
        "cercanos = df2n.sort_values(by=[\"dist\"]).head(10)\n",
        "ax.scatter(cercanos.alto_s,cercanos.pie_s,s=4,color=\"red\")\n",
        "\n",
        "plt.xlim(0,0.1)\n",
        "plt.ylim(0,1)\n",
        "plt.xlabel(\"alto\")\n",
        "plt.ylabel(\"pie\")\n",
        "plt.show()"
      ]
    },
    {
      "cell_type": "markdown",
      "id": "5bf89e6f",
      "metadata": {
        "id": "5bf89e6f"
      },
      "source": [
        "Para evitar este problema existen otras versiones como RobusScaler que se basan en la mediana"
      ]
    },
    {
      "cell_type": "code",
      "execution_count": null,
      "id": "ab05e2ce",
      "metadata": {
        "id": "ab05e2ce"
      },
      "outputs": [],
      "source": [
        "from sklearn.preprocessing import RobustScaler\n",
        "\n",
        "escalador =    RobustScaler()\n",
        "dfs = escala(df2, escalador, [\"alto_s\",\"pie_s\"])\n",
        "\n",
        "# distancias\n",
        "xn,yn = escalador.transform([[1.95,36]])[0]\n",
        "df2n = dfs.copy()\n",
        "df2n[\"dist\"] = ((dfs.alto_s-xn)**2 + (dfs.pie_s-yn)**2)**0.5\n",
        "\n",
        "\n",
        "\n",
        "fig, ax = plt.subplots(figsize=(5, 3))\n",
        "ax.scatter(dfs.alto_s,dfs.pie_s,s=4,color=\"blue\")\n",
        "ax.scatter([xn],[yn],s=40,color=\"green\")\n",
        "cercanos = df2n.sort_values(by=[\"dist\"]).head(10)\n",
        "ax.scatter(cercanos.alto_s,cercanos.pie_s,s=4,color=\"red\")\n",
        "\n",
        "plt.xlim(-2,2)\n",
        "plt.ylim(-2,2)\n",
        "plt.xlabel(\"alto\")\n",
        "plt.ylabel(\"pie\")\n",
        "plt.show()"
      ]
    },
    {
      "cell_type": "markdown",
      "id": "62570f87",
      "metadata": {
        "id": "62570f87"
      },
      "source": [
        "[Aquí](https://scikit-learn.org/stable/auto_examples/preprocessing/plot_all_scaling.html) se puede encontrar una comparativa del efecto que pueden tener los outliers comparando estos y otros escaladores"
      ]
    },
    {
      "cell_type": "markdown",
      "id": "e7dde0da",
      "metadata": {
        "id": "e7dde0da"
      },
      "source": []
    },
    {
      "cell_type": "code",
      "execution_count": null,
      "id": "e61fe634",
      "metadata": {
        "id": "e61fe634"
      },
      "outputs": [],
      "source": []
    }
  ],
  "metadata": {
    "kernelspec": {
      "display_name": "Python 3 (ipykernel)",
      "language": "python",
      "name": "python3"
    },
    "language_info": {
      "codemirror_mode": {
        "name": "ipython",
        "version": 3
      },
      "file_extension": ".py",
      "mimetype": "text/x-python",
      "name": "python",
      "nbconvert_exporter": "python",
      "pygments_lexer": "ipython3",
      "version": "3.9.12"
    },
    "colab": {
      "provenance": []
    }
  },
  "nbformat": 4,
  "nbformat_minor": 5
}