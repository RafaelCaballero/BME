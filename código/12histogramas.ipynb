{
  "cells": [
    {
      "cell_type": "markdown",
      "id": "8a7c807c",
      "metadata": {
        "id": "8a7c807c"
      },
      "source": [
        "<table>\n",
        "    <tr>\n",
        "      <td>Introducción a\n",
        "      </td>\n",
        "      <td>\n",
        "      <img src=\"https://media.licdn.com/dms/image/D5612AQF7GSp3l4pztQ/article-cover_image-shrink_720_1280/0/1686548640655?e=1715817600&v=beta&t=WQzv1EMkEEwZ0QZ0PF1anRKIHCl5BBH_YPZHdDQsWPM\"  width=150/>\n",
        "      </td>\n",
        "     </tr>\n",
        "</table>\n",
        "\n",
        "### Descripción variables ratio e intervalo\n",
        "Vamos a analizar este tipo de variables\n",
        "\n",
        "### Índice\n",
        "[Centralidad](#Centralidad)<br>\n",
        "[Dispersión](#Dispersión)<br>\n",
        "[Histogramas](#Histogramas)<br>\n",
        "[Asimetría](#Asimetría)<br>\n",
        "[Curtosis](#Curtosis)<br>\n"
      ]
    },
    {
      "cell_type": "markdown",
      "id": "45be422c",
      "metadata": {
        "id": "45be422c"
      },
      "source": [
        "<a name=\"Centralidad\"></a>\n",
        "## Centralidad\n",
        "\n",
        "La idea es intentar reducir la variable completa a un solo valor, un \"centro\". Dos valores principales\n",
        "\n",
        "* Media $\\mu(x) = \\frac{\\displaystyle {\\sum_{i=1}^{N} x_i}}{N}$, donde $x$ es la variable que estamos estudiando formada por $x_1, \\dots, x_N$. La media es la medida de centralidad más popular. Puede verse afectada si hay hay una proporción grande de valores demasiado grandes o pequeños (outliers)\n",
        "\n",
        "* Mediana: valor que deja al 50% de los valores por debajo y el otro 50% por encima\n",
        "\n",
        "\n",
        "\n",
        "Ejemplo: notas obtenidas por diferentes países en las pruebas Pisa en lectura (REA), matemáticas (MAT) y ciencias (SCI) tanto para mujeres (FE) como para hombres (MA). Incluye también la renta per capita (RPC) del país y el nombre (PAIS) del país."
      ]
    },
    {
      "cell_type": "code",
      "execution_count": null,
      "id": "97b23893",
      "metadata": {
        "id": "97b23893"
      },
      "outputs": [],
      "source": [
        "import pandas as pd\n",
        "url = \"https://raw.githubusercontent.com/RafaelCaballero/tdm/master/datos/PisaDataClean.csv\"\n",
        "df_pisa = pd.read_csv(url)\n",
        "df_pisa.info() # información general, nulos, tipos y memoria que ocupa"
      ]
    },
    {
      "cell_type": "code",
      "execution_count": null,
      "id": "5f408ba1",
      "metadata": {
        "id": "5f408ba1"
      },
      "outputs": [],
      "source": [
        "# nos quedamos solo con los datos que sean números (asumimos que hemos comprobado que todos son ratio o intervalo)\n",
        "df_pisa_num = df_pisa.select_dtypes(include=[\"number\"])\n",
        "desc_pisa = df_pisa_num.describe()\n",
        "desc_pisa"
      ]
    },
    {
      "cell_type": "code",
      "execution_count": null,
      "id": "cc785e49",
      "metadata": {
        "id": "cc785e49"
      },
      "outputs": [],
      "source": [
        "# Nos quedamos solo con media y mediana\n",
        "desc_pisa.loc[[\"mean\",\"50%\"]]"
      ]
    },
    {
      "cell_type": "code",
      "execution_count": null,
      "id": "967c7778",
      "metadata": {
        "id": "967c7778"
      },
      "outputs": [],
      "source": [
        "# otra forma, solo para una variable\n",
        "df_pisa.MAT.mean(), df_pisa.MAT.median()"
      ]
    },
    {
      "cell_type": "markdown",
      "source": [
        "**Ejercicio** Consideramos el fichero en\n",
        "\n",
        "https://raw.githubusercontent.com/RafaelCaballero/BME/main/data/currencies.csv\n",
        "\n",
        "ver la media del euro y del yen para los valores de cierre (CLOSE)"
      ],
      "metadata": {
        "id": "gWCQmo3ZvgqQ"
      },
      "id": "gWCQmo3ZvgqQ"
    },
    {
      "cell_type": "code",
      "source": [
        "import pandas as pd\n",
        "\n"
      ],
      "metadata": {
        "id": "SvBknHTSvf5B"
      },
      "id": "SvBknHTSvf5B",
      "execution_count": null,
      "outputs": []
    },
    {
      "cell_type": "markdown",
      "id": "0c421350",
      "metadata": {
        "id": "0c421350"
      },
      "source": [
        "<a name=\"Dispersión\"></a>\n",
        "## Dispersión\n",
        "\n",
        "Si las medidas de centralidad dan la idea de un \"centro\" de la variable, la media de dispersión sería el \"radio\" indica lo alejados que están de ese centro. Vamos a ver 2 cada uno relacionado con una de las medidas de centralidad\n",
        "\n",
        "* Desviación típica $\\sigma(x)=\\sqrt{\\frac{{\\displaystyle \\sum_{i=1}^{N}\\left(x_{i}-\\mu\\right)^{2}}}{N}}$, la raíz cuadrada de la varianza\n",
        "\n",
        "* Desviación absoluta con respecto a la mediana $\\mathit{MAD}(x) = mediana(|x_i - mediana(x)|)$"
      ]
    },
    {
      "cell_type": "code",
      "execution_count": null,
      "id": "42161689",
      "metadata": {
        "id": "42161689"
      },
      "outputs": [],
      "source": [
        "df_pisa.MAT.std(), (df_pisa.MAT - df_pisa.MAT.median()).abs().median()"
      ]
    },
    {
      "cell_type": "code",
      "execution_count": null,
      "id": "e8eb4de6",
      "metadata": {
        "id": "e8eb4de6"
      },
      "outputs": [],
      "source": [
        "datos = []\n",
        "for c in df_pisa_num.columns:\n",
        "    variable = df_pisa[c]\n",
        "    datos.append([variable.mean(), variable.median(), variable.std(), (variable-variable.median()).abs().median()])\n",
        "\n",
        "estad = pd.DataFrame(datos,columns=[\"mean\",\"median\",\"std\",\"MAD\"],index=df_pisa_num.columns)\n",
        "estad"
      ]
    },
    {
      "cell_type": "markdown",
      "id": "9675877a",
      "metadata": {
        "id": "9675877a"
      },
      "source": [
        "Algunas consecuencias sencillas:\n",
        "* De media parece que los hombres lo hacen mejor en matemáticas y las mujeres en lectura, en ciencia la diferencia es muy pequeña\n",
        "* De media se obtiene mejor nota en ciencias que en lectura, y en lectura que en matemáticas\n",
        "* En general la mediana es mayor que la media indicando una mayor dispersión a la izquierda\n",
        "* La mayor dispersión `std` se da en MAT_MA, pero si nos fijamos en la mediana es SCI_MA (quizás MAT_MA tiene más outliers?)\n",
        "* La menor dispersión `std` se da en REA_FE y en SCI_FE, aunque desde el punto de vista de MAD se da en SCI_FE y MAT_FE. En todo caso parece que las notas para las chicas varían menos de país en país que en el caso de los chicos (¿por qué?)"
      ]
    },
    {
      "cell_type": "markdown",
      "source": [
        "Podemos convertir el código anterior en una función y utilizarlo con cualquier otro dataframe"
      ],
      "metadata": {
        "id": "yW4DDtu1JekS"
      },
      "id": "yW4DDtu1JekS"
    },
    {
      "cell_type": "code",
      "source": [
        "import pandas as pd\n",
        "def estadísticas(df):\n",
        "  # solo las columnas numéricas\n",
        "  df2 = df.select_dtypes(include=[\"number\"])\n",
        "  datos = []\n",
        "  for c in df2:\n",
        "      variable = df2[c]\n",
        "      datos.append([variable.mean(), variable.median(), variable.std(), (variable-variable.median()).abs().median()])\n",
        "\n",
        "  estad = pd.DataFrame(datos,columns=[\"mean\",\"median\",\"std\",\"MAD\"],index=df2.columns)\n",
        "  return estad"
      ],
      "metadata": {
        "id": "_wn9GC6pJuoj"
      },
      "id": "_wn9GC6pJuoj",
      "execution_count": null,
      "outputs": []
    },
    {
      "cell_type": "code",
      "source": [
        "url = \"https://raw.githubusercontent.com/RafaelCaballero/BME/main/data/currencies.csv\"\n",
        "df_cur = pd.read_csv(url)[[\"Close_CAD\",\"Close_JPY\",\"Close_EUR\"]]\n",
        "\n",
        "inc_cur = df_cur.pct_change().dropna()\n",
        "estadísticas(inc_cur)"
      ],
      "metadata": {
        "id": "dhIlrfJLKMHG"
      },
      "id": "dhIlrfJLKMHG",
      "execution_count": null,
      "outputs": []
    },
    {
      "cell_type": "code",
      "source": [
        "inc_cur"
      ],
      "metadata": {
        "id": "gc6FFhi4N7fr"
      },
      "id": "gc6FFhi4N7fr",
      "execution_count": null,
      "outputs": []
    },
    {
      "cell_type": "markdown",
      "id": "8ed7ec70",
      "metadata": {
        "id": "8ed7ec70"
      },
      "source": [
        "<a name=\"Histogramas\"></a>\n",
        "## Histogramas\n",
        "\n",
        "* No debe confundirse con diagrama de barras, donde se representan datos categóricos nominal\n",
        "\n",
        "* Un histograma representa la frecuencia (número de elementos) en una variable (ratio u intervalo) representada por intervalos, nos permite ver la distribución de la variable (algo que no se pretende con el diagrama de barras)\n",
        "\n",
        "* En el caso de valores ordinales se puede usar un \"diagrama de barras ordenado\"\n",
        "\n",
        "Ejemplo"
      ]
    },
    {
      "cell_type": "code",
      "execution_count": null,
      "id": "0529db9b",
      "metadata": {
        "id": "0529db9b"
      },
      "outputs": [],
      "source": [
        "import numpy as np\n",
        "import matplotlib.pyplot as plt\n",
        "\n",
        "#generate a random numpy array with 1000 elements\n",
        "normaldata = np.random.randn(100000)\n",
        "data=normaldata\n",
        "\n",
        "#histograma\n",
        "plt.hist(data,edgecolor=\"black\", bins =30)\n",
        "\n",
        "#añadimos título\n",
        "plt.title(\"Histograma\")\n",
        "\n",
        "#etiqueta en X\n",
        "plt.xlabel(\"Valores\")\n",
        "\n",
        "#etiqueta en y\n",
        "plt.ylabel(\"Frecuencias\")\n",
        "\n",
        "# mostrarlo\n",
        "plt.show()"
      ]
    },
    {
      "cell_type": "code",
      "execution_count": null,
      "id": "3e7a51ca",
      "metadata": {
        "id": "3e7a51ca"
      },
      "outputs": [],
      "source": [
        "data.mean(), data.std(), np.median(data)"
      ]
    },
    {
      "cell_type": "markdown",
      "id": "6ec55e74",
      "metadata": {
        "id": "6ec55e74"
      },
      "source": [
        "Con `density=True` conseguimos frecuencias relativas"
      ]
    },
    {
      "cell_type": "code",
      "execution_count": null,
      "id": "13a7e93e",
      "metadata": {
        "id": "13a7e93e"
      },
      "outputs": [],
      "source": [
        "#histograma\n",
        "plt.hist(data,edgecolor=\"black\", bins =30, density=True)\n",
        "\n",
        "#añadimos título\n",
        "plt.title(\"Histograma\")\n",
        "\n",
        "#etiqueta en X\n",
        "plt.xlabel(\"Valores\")\n",
        "\n",
        "#etiqueta en y\n",
        "plt.ylabel(\"Frecuencias\")\n",
        "\n",
        "# mostrarlo\n",
        "plt.show()"
      ]
    },
    {
      "cell_type": "markdown",
      "id": "a38694cb",
      "metadata": {
        "id": "a38694cb"
      },
      "source": [
        "Cuando tenemos una normal \"perfecta\"  se tiene que\n",
        "<img src=\"https://news.mit.edu/sites/default/files/styles/news_article__image_gallery/public/images/201202/20120208160239-1_0.jpg?itok=1X1a_HCs\" width=400></img>\n",
        "\n",
        "13.6 + 34.1 + 13.6 + 34.1 = 95.4% es decir casi el 95% de los valores estarán entre la media y +- 2 la desviación típica"
      ]
    },
    {
      "cell_type": "code",
      "execution_count": null,
      "id": "bbb010bd",
      "metadata": {
        "id": "bbb010bd"
      },
      "outputs": [],
      "source": [
        "m = data.mean()\n",
        "s = data.std()\n",
        "\n",
        "sum((data < m+2*s) & (data >m-2*s))/len(data)"
      ]
    },
    {
      "cell_type": "markdown",
      "source": [
        "Hacemos lo mismo con los datos de CLOSE_EUR"
      ],
      "metadata": {
        "id": "AGU1NILkO1iw"
      },
      "id": "AGU1NILkO1iw"
    },
    {
      "cell_type": "code",
      "source": [
        "#histograma\n",
        "plt.hist(inc_cur.Close_CAD,edgecolor=\"black\", bins =30, density=True)\n",
        "\n",
        "#añadimos título\n",
        "plt.title(\"Histograma\")\n",
        "\n",
        "#etiqueta en X\n",
        "plt.xlabel(\"Valores\")\n",
        "\n",
        "#etiqueta en y\n",
        "plt.ylabel(\"Frecuencias\")\n",
        "\n",
        "# mostrarlo\n",
        "plt.show()"
      ],
      "metadata": {
        "id": "oCibgLmWO_Aw"
      },
      "id": "oCibgLmWO_Aw",
      "execution_count": null,
      "outputs": []
    },
    {
      "cell_type": "markdown",
      "id": "6fd33421",
      "metadata": {
        "id": "6fd33421"
      },
      "source": [
        "<a name=\"Asimetría\"></a>\n",
        "## Asimetría\n",
        "\n",
        "Asimetría a la derecha: muchos datos acumulados en poco espacio a la izquierda, a la derecha un descenso lento y prolongado\n",
        "\n",
        "* Se tendrá que media>mediana\n",
        "* Normalmente solo tendremos que preocuparnos por outliers a la derecha, es decir por valores \"excesivamente grandes\"\n",
        "* Sucede por ejemplo en mediciones que por su naturaleza son todas positivas\n",
        "* Puede tener sentido hacer un estudio diferente a la izquierda y a la derecha de la mediana"
      ]
    },
    {
      "cell_type": "code",
      "execution_count": null,
      "id": "c1b9098b",
      "metadata": {
        "id": "c1b9098b"
      },
      "outputs": [],
      "source": [
        "import pandas as pd\n",
        "url = \"https://raw.githubusercontent.com/RafaelCaballero/tdm/master/datos/madrid/contaminacionLargo.csv\"\n",
        "df_conta = pd.read_csv(url)\n",
        "df_conta"
      ]
    },
    {
      "cell_type": "code",
      "execution_count": null,
      "id": "550a3c2e",
      "metadata": {
        "id": "550a3c2e"
      },
      "outputs": [],
      "source": [
        "import numpy as np\n",
        "import matplotlib.pyplot as plt\n",
        "\n",
        "data = df_conta.PM10\n",
        "#histograma\n",
        "plt.hist(data,edgecolor=\"black\", bins =50)\n",
        "\n",
        "#añadimos título\n",
        "plt.title(\"Histograma\")\n",
        "\n",
        "#etiqueta en X\n",
        "plt.xlabel(\"Valores\")\n",
        "\n",
        "#etiqueta en y\n",
        "plt.ylabel(\"Frecuencias\")\n",
        "\n",
        "# mostrarlo\n",
        "plt.show()"
      ]
    },
    {
      "cell_type": "code",
      "execution_count": null,
      "id": "61c0b219",
      "metadata": {
        "id": "61c0b219"
      },
      "outputs": [],
      "source": [
        "data.mean(), data.median()"
      ]
    },
    {
      "cell_type": "markdown",
      "id": "46c07dcf",
      "metadata": {
        "id": "46c07dcf"
      },
      "source": [
        "Como vemos aquí no se cumple la regla anterior de que en el entorno 2std se concentra el 95% de la población. Esto es así porque no se trata de una normal"
      ]
    },
    {
      "cell_type": "code",
      "execution_count": null,
      "id": "352e5b37",
      "metadata": {
        "id": "352e5b37"
      },
      "outputs": [],
      "source": [
        "m = data.mean()\n",
        "s = data.std()\n",
        "\n",
        "sum((data < m+2*s) & (data >m-2*s))/len(data)"
      ]
    },
    {
      "cell_type": "markdown",
      "id": "05c05a85",
      "metadata": {
        "id": "05c05a85"
      },
      "source": [
        "La función `skew` de Pandas nos indica la asimetría:\n",
        "\n",
        "        >0 : Asimetría a la derecha o positiva\n",
        "        aprox. 0 : simétrico\n",
        "        <0 : asimetría a la izquierda o negativa\n",
        "\n",
        "\n",
        "<img src=\"https://upload.wikimedia.org/wikipedia/commons/c/cc/Relationship_between_mean_and_median_under_different_skewness.png\"  width=500>By Diva Jain - https://codeburst.io/2-important-statistics-terms-you-need-to-know-in-data-science-skewness-and-kurtosis-388fef94eeaa, CC BY-SA 4.0, https://commons.wikimedia.org/w/index.php?curid=84219892</img>\n",
        "\n",
        "\n",
        "\n"
      ]
    },
    {
      "cell_type": "code",
      "execution_count": null,
      "id": "6e353d51",
      "metadata": {
        "id": "6e353d51"
      },
      "outputs": [],
      "source": [
        "data.skew()"
      ]
    },
    {
      "cell_type": "markdown",
      "id": "34aff5d9",
      "metadata": {
        "id": "34aff5d9"
      },
      "source": [
        "Tenemos por tanto asimetría a la derecha. En el dataframe de PISA"
      ]
    },
    {
      "cell_type": "code",
      "execution_count": null,
      "id": "834ec03a",
      "metadata": {
        "id": "834ec03a"
      },
      "outputs": [],
      "source": [
        "for c in df_pisa_num:\n",
        "    print(c,df_pisa_num[c].skew())"
      ]
    },
    {
      "cell_type": "markdown",
      "id": "382629f3",
      "metadata": {
        "id": "382629f3"
      },
      "source": [
        "En nuestros datos \"normales\""
      ]
    },
    {
      "cell_type": "code",
      "execution_count": null,
      "id": "1078a64f",
      "metadata": {
        "id": "1078a64f"
      },
      "outputs": [],
      "source": [
        "pd.DataFrame({\"x\": normaldata}).skew()"
      ]
    },
    {
      "cell_type": "markdown",
      "id": "a4e9c5ae",
      "metadata": {
        "id": "a4e9c5ae"
      },
      "source": [
        "Como vemos no sale exactamente 0 aunque sí muy cercano"
      ]
    },
    {
      "cell_type": "markdown",
      "id": "28bfadcb",
      "metadata": {
        "id": "28bfadcb"
      },
      "source": [
        "<a name=\"Apuntamiento\"></a>\n",
        "## Curtosis\n",
        "\n",
        "La curtosis indica el peso de las colas en relación con una normar estándar. A menudo se confunde con \"apuntamiento\" pero no es exactamente lo mismo. La función `kurtosis` de Pandas nos indica este valor:\n",
        "\n",
        "        >0 : leptocúrtica ; los outliers tienen más peso que en la normal, tenemos muchos outliers (hay que ver por qué y si merece la pena hacer un estudio solo de esta parte)\n",
        "        aprox. 0 : ismilar a una normal\n",
        "        <0 : los outliers tienen menos peso que en la normal, la distribución está más concentrada alrededor de la media\n",
        "\n"
      ]
    },
    {
      "cell_type": "code",
      "execution_count": null,
      "id": "12fa46b2",
      "metadata": {
        "id": "12fa46b2"
      },
      "outputs": [],
      "source": [
        "pd.DataFrame({\"x\": normaldata}).kurtosis()"
      ]
    },
    {
      "cell_type": "code",
      "execution_count": null,
      "id": "1de3a7d4",
      "metadata": {
        "id": "1de3a7d4"
      },
      "outputs": [],
      "source": [
        "df_conta.PM10.kurtosis()"
      ]
    },
    {
      "cell_type": "code",
      "execution_count": null,
      "id": "18482c8c",
      "metadata": {
        "id": "18482c8c"
      },
      "outputs": [],
      "source": [
        "df_pisa.MAT.kurtosis()"
      ]
    },
    {
      "cell_type": "markdown",
      "id": "00389e13",
      "metadata": {
        "id": "00389e13"
      },
      "source": [
        "## Ejemplo\n",
        "\n",
        "Datos de 7 sensores de radiación solar durante varios días con todas sus horas"
      ]
    },
    {
      "cell_type": "code",
      "execution_count": null,
      "id": "820990fb",
      "metadata": {
        "id": "820990fb"
      },
      "outputs": [],
      "source": [
        "import pandas as pd\n",
        "url = \"https://github.com/RafaelCaballero/tdm/raw/master/datos/solar.zip\"\n",
        "df_solar = pd.read_csv(url)"
      ]
    },
    {
      "cell_type": "code",
      "execution_count": null,
      "id": "8560e54f",
      "metadata": {
        "id": "8560e54f"
      },
      "outputs": [],
      "source": [
        "df_solar"
      ]
    },
    {
      "cell_type": "code",
      "execution_count": null,
      "id": "ec9843d6",
      "metadata": {
        "id": "ec9843d6"
      },
      "outputs": [],
      "source": [
        "\n",
        "import matplotlib.pyplot as plt\n",
        "for c in df_solar.columns[4:]:\n",
        "    fig, ax = plt.subplots(figsize=(24, 6))\n",
        "    df_solar[c].hist(bins=50)\n",
        "    plt.title(c)\n",
        "    plt.show()"
      ]
    },
    {
      "cell_type": "markdown",
      "id": "ff3f7bf6",
      "metadata": {
        "id": "ff3f7bf6"
      },
      "source": [
        "¿Qué consecuencias se extraen a simple vista? Añadir código para probar"
      ]
    },
    {
      "cell_type": "code",
      "execution_count": null,
      "id": "fc8ba664",
      "metadata": {
        "id": "fc8ba664"
      },
      "outputs": [],
      "source": []
    },
    {
      "cell_type": "code",
      "execution_count": null,
      "id": "e2cd7939",
      "metadata": {
        "id": "e2cd7939"
      },
      "outputs": [],
      "source": []
    },
    {
      "cell_type": "markdown",
      "id": "48e11be7",
      "metadata": {
        "id": "48e11be7"
      },
      "source": [
        "<a name=\"Múltiples\"></a>\n",
        "## Múltiples histogramas\n",
        "\n",
        "En ocasiones para comparar interesa reproducir varios histogramas en uno solo. Aunque se puede hacer esto con matplotlib la biblioteca seaborn ofrece un catálogo más amplio de posibilidades"
      ]
    },
    {
      "cell_type": "code",
      "execution_count": null,
      "id": "d4867022",
      "metadata": {
        "id": "d4867022"
      },
      "outputs": [],
      "source": [
        "import seaborn as sns # !pip install seaborn"
      ]
    },
    {
      "cell_type": "code",
      "execution_count": null,
      "id": "6ae9a054",
      "metadata": {
        "id": "6ae9a054"
      },
      "outputs": [],
      "source": [
        "\n",
        "sns.histplot(data=df_conta, x=\"PM10\", hue=\"ANO\",palette='tab10')"
      ]
    },
    {
      "cell_type": "markdown",
      "id": "6c792db0",
      "metadata": {
        "id": "6c792db0"
      },
      "source": [
        "a menudo se ve mejor si usamos la opción `multiple='stack'`"
      ]
    },
    {
      "cell_type": "code",
      "execution_count": null,
      "id": "ac60cf2d",
      "metadata": {
        "scrolled": true,
        "id": "ac60cf2d"
      },
      "outputs": [],
      "source": [
        "sns.histplot(data=df_conta, x=\"PM10\", hue=\"ANO\",palette='tab10', multiple=\"stack\")"
      ]
    },
    {
      "cell_type": "markdown",
      "id": "9cfe3f7b",
      "metadata": {
        "id": "9cfe3f7b"
      },
      "source": [
        "También se pueden comparar dos variables continuas, pero puede que haya que hacer una transformación"
      ]
    },
    {
      "cell_type": "code",
      "execution_count": null,
      "id": "4039a817",
      "metadata": {
        "id": "4039a817"
      },
      "outputs": [],
      "source": [
        "df_conta_largo =df_conta[[\"PM10\",\"PM2.5\"]].melt()\n",
        "df_conta_largo"
      ]
    },
    {
      "cell_type": "code",
      "execution_count": null,
      "id": "8e391881",
      "metadata": {
        "scrolled": true,
        "id": "8e391881"
      },
      "outputs": [],
      "source": [
        "sns.histplot(data=df_conta_largo, x=\"value\", hue=\"variable\",palette='tab10', multiple=\"stack\")"
      ]
    },
    {
      "cell_type": "markdown",
      "id": "b475a897",
      "metadata": {
        "id": "b475a897"
      },
      "source": [
        "Incluso 2 variables continuas"
      ]
    },
    {
      "cell_type": "code",
      "execution_count": null,
      "id": "72a4c7dc",
      "metadata": {
        "id": "72a4c7dc"
      },
      "outputs": [],
      "source": [
        "sns.histplot(data=df_conta, x=\"PM10\", y=\"PM2.5\")"
      ]
    },
    {
      "cell_type": "code",
      "execution_count": null,
      "id": "a5d70403",
      "metadata": {
        "id": "a5d70403"
      },
      "outputs": [],
      "source": []
    },
    {
      "cell_type": "code",
      "execution_count": null,
      "id": "b15db5a8",
      "metadata": {
        "id": "b15db5a8"
      },
      "outputs": [],
      "source": []
    }
  ],
  "metadata": {
    "kernelspec": {
      "display_name": "Python 3 (ipykernel)",
      "language": "python",
      "name": "python3"
    },
    "language_info": {
      "codemirror_mode": {
        "name": "ipython",
        "version": 3
      },
      "file_extension": ".py",
      "mimetype": "text/x-python",
      "name": "python",
      "nbconvert_exporter": "python",
      "pygments_lexer": "ipython3",
      "version": "3.9.12"
    },
    "colab": {
      "provenance": []
    }
  },
  "nbformat": 4,
  "nbformat_minor": 5
}