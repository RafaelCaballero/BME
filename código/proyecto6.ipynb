{
 "cells": [
  {
   "cell_type": "markdown",
   "id": "682b3d3a-8d2a-4248-ba28-f63412ed84e0",
   "metadata": {},
   "source": [
    "### Proyecto 6\n",
    "\n",
    "Regresión logística y regresión lineal\n",
    "\n",
    "Como siempre comenzamos preparando los datos. Primer instalamos la librería que nos permitirá su descarga. \n"
   ]
  },
  {
   "cell_type": "code",
   "execution_count": null,
   "id": "48c2519e-ce8b-4702-a3a9-53d9a0956659",
   "metadata": {},
   "outputs": [],
   "source": [
    "modules = [\"ucimlrepo\"]\n",
    "\n",
    "import sys\n",
    "import os.path\n",
    "from subprocess import check_call\n",
    "import importlib\n",
    "import os\n",
    "\n",
    "def instala(modules):\n",
    "    print(\"Instalando módulos\")\n",
    "    for m in modules:\n",
    "        # para el import quitamos [...] y ==...\n",
    "        p = m.find(\"[\")\n",
    "        mi = m if p==-1 else m[:p]\n",
    "        p = mi.find(\"==\")\n",
    "        mi = mi if p==-1 else mi[:p]\n",
    "        torch_loader = importlib.util.find_spec(mi)\n",
    "        if torch_loader is not None:\n",
    "            print(m,\" encontrado\")\n",
    "        else:\n",
    "            print(m,\" No encontrado, instalando...\",end=\"\")  \n",
    "            try:        \n",
    "                r = check_call([sys.executable, \"-m\", \"pip\", \"install\", \"--user\", m])\n",
    "                print(\"¡hecho!\")\n",
    "            except:\n",
    "                print(\"¡Problema al instalar \",m,\"! ¿seguro que el módulo existe?\",sep=\"\")\n",
    "\n",
    "    print(\"¡Terminado!\")\n",
    "\n",
    "instala(modules) "
   ]
  },
  {
   "cell_type": "markdown",
   "id": "8ea478b7-d0c1-4864-8b1b-ff8cb2cba1cd",
   "metadata": {},
   "source": [
    "En este caso son  datos de crecimiento de plantas de soja. Lo detalles de las columnas se pueden ver [aquí](https://archive.ics.uci.edu/dataset/913/forty+soybean+cultivars+from+subsequent+harvests) (ver tabla en la parte de abajo de la página). La carga es un poco particular porque usamos la API de la universidad de Irvine, pero resultado es un dataframe `df` como siempre:"
   ]
  },
  {
   "cell_type": "code",
   "execution_count": null,
   "id": "000138d1-dc89-4892-92a3-f4e4825fdc65",
   "metadata": {},
   "outputs": [],
   "source": [
    "from ucimlrepo import fetch_ucirepo \n",
    "  \n",
    "# fetch dataset \n",
    "forty_soybean_cultivars_from_subsequent_harvests = fetch_ucirepo(id=913) \n",
    "  \n",
    "# data (as pandas dataframes) \n",
    "df = forty_soybean_cultivars_from_subsequent_harvests.data.features \n",
    "\n",
    "\n",
    "df = df.drop(columns=[\"Cultivar\"])\n",
    "df"
   ]
  },
  {
   "cell_type": "code",
   "execution_count": null,
   "id": "1f818261-3487-4184-96b2-a23b82debd21",
   "metadata": {},
   "outputs": [],
   "source": [
    "df.describe()"
   ]
  },
  {
   "cell_type": "markdown",
   "id": "1a8f71bd-9ae7-4faa-9d89-20bc05cc5433",
   "metadata": {},
   "source": [
    "**Ejercicio 1** \n",
    "\n",
    "Queremos  obtener la altura de la planta (columna `PH`) a partir del resto. Podemos tomar como punto de partida el notebook [proyecto4_sol](https://github.com/RafaelCaballero/BME/blob/main/c%C3%B3digo/proyecto_4_sol.ipynb)"
   ]
  },
  {
   "cell_type": "code",
   "execution_count": null,
   "id": "61f981ec-d76f-43ca-b1ee-b6e45fcab703",
   "metadata": {},
   "outputs": [],
   "source": [
    "from tqdm import tqdm\n",
    "from sklearn.ensemble import RandomForestRegressor\n",
    "from sklearn.linear_model import LinearRegression\n",
    "from sklearn.metrics import r2_score,mean_squared_error,mean_absolute_error\n",
    "from sklearn.model_selection import train_test_split\n",
    "import math\n",
    "\n",
    "#### Solución\n",
    "\n"
   ]
  },
  {
   "cell_type": "markdown",
   "id": "e3d4c0b1-a65b-47d3-9c78-1c0f05bc8d1c",
   "metadata": {},
   "source": [
    "¿Qué rango de error tendrán las predicciones que hagamos?"
   ]
  },
  {
   "cell_type": "markdown",
   "id": "93f58c01-cacd-4118-8ab5-f7181ac9ff4e",
   "metadata": {},
   "source": [
    "**Ejercicio 2** Nos damos cuenta de que realmente no necesitamos una regresión, porque solo queremos dstinguir entre dos tipos de altura: planteas altas (1) y plantas bajas, (0), tomando com punto de división la mediana. Podemos construir una columna `label` a partir de `PH`:"
   ]
  },
  {
   "cell_type": "code",
   "execution_count": null,
   "id": "423f62fd-968e-4313-a2bc-7e5fb849bcf8",
   "metadata": {},
   "outputs": [],
   "source": [
    "import pandas as pd\n",
    "forty_soybean_cultivars_from_subsequent_harvests = fetch_ucirepo(id=913) \n",
    "  \n",
    "# data (as pandas dataframes) \n",
    "df = forty_soybean_cultivars_from_subsequent_harvests.data.features \n",
    "\n",
    "df['label'] = pd.qcut(df[\"PH\"], q=2, labels=[ 0, 1]) # pd.qcut genera el valor 0 para la altura por debajo de la mediana y 1 por encima.\n",
    "df = df.drop(columns=[\"Cultivar\",\"PH\"]) # PH se sustituye por label\n",
    "df"
   ]
  },
  {
   "cell_type": "markdown",
   "id": "ed3e2ac5-dd6c-4946-b50b-bfb2b27cc07c",
   "metadata": {},
   "source": [
    "Probar un clasificador basado en regresión logística para determinar `label` a partir del resto de columnas. Para ver los errores podemos utilizar la siguiente función"
   ]
  },
  {
   "cell_type": "code",
   "execution_count": null,
   "id": "b20501c6-ec2f-49f4-9b22-2799e47cdde2",
   "metadata": {},
   "outputs": [],
   "source": [
    "import matplotlib.pyplot as plt\n",
    "from sklearn.metrics import classification_report\n",
    "from sklearn.metrics import make_scorer, accuracy_score, recall_score,cohen_kappa_score\n",
    "from sklearn.metrics import confusion_matrix, ConfusionMatrixDisplay\n",
    "\n",
    "# para mostrar las funciones de error. Se le pasan os valores reales (los del test) y los predicho\n",
    "def show_results(y_real,y_pred,y_pred_proba):\n",
    "    print(\"\\nKappa \", round(cohen_kappa_score(y_real,y_pred),4) )\n",
    "    cm = confusion_matrix(y_real, y_pred)\n",
    "    disp = ConfusionMatrixDisplay(confusion_matrix=cm,\n",
    "                                  display_labels=modelo.classes_)\n",
    "    disp.plot()\n",
    "    \n",
    "    plt.show()\n",
    "    print('\\nClassification Report: \\n', classification_report(y_real, y_pred))\n",
    "    return\n"
   ]
  },
  {
   "cell_type": "markdown",
   "id": "d793dbf7-7ff2-4b23-a77f-567c0d090230",
   "metadata": {},
   "source": [
    "El código para hacer la regresión se puede extraer de [15logistica](https://github.com/RafaelCaballero/BME/blob/main/c%C3%B3digo/15logistica.ipynb), en la casilla donde se hacen los 4 pasos, pero adaptándolos. En particular recordar que la y ahora es `label`, que el dataframe se llama `df`. Poner el número de iteraciones de la regresión logística (parámetro `max_iter`) a  10000\n"
   ]
  },
  {
   "cell_type": "code",
   "execution_count": null,
   "id": "72fc5883-7ffc-450c-a88b-aa2422e40e65",
   "metadata": {},
   "outputs": [],
   "source": [
    "from sklearn.linear_model import LogisticRegression\n",
    "\n",
    "# solución; ver los pasos 1,2,3,4 del notebook 15logistica, en la celda en la que se aplica la regresión logística, \n",
    "# pero recordar que aquí no es df2, sino df, y que la columna a predecir es 'label' y no 'survived' \n"
   ]
  },
  {
   "cell_type": "markdown",
   "id": "f70194c2-679b-4f1f-b759-6434aaf69449",
   "metadata": {},
   "source": [
    "Intentar interpretar, en la medida de lo posible los resultados ¿son buenos?"
   ]
  },
  {
   "cell_type": "code",
   "execution_count": null,
   "id": "c8c0c355-c38b-44eb-87bd-026ce63046ab",
   "metadata": {},
   "outputs": [],
   "source": []
  }
 ],
 "metadata": {
  "kernelspec": {
   "display_name": "Python 3 (ipykernel)",
   "language": "python",
   "name": "python3"
  },
  "language_info": {
   "codemirror_mode": {
    "name": "ipython",
    "version": 3
   },
   "file_extension": ".py",
   "mimetype": "text/x-python",
   "name": "python",
   "nbconvert_exporter": "python",
   "pygments_lexer": "ipython3",
   "version": "3.12.4"
  }
 },
 "nbformat": 4,
 "nbformat_minor": 5
}
