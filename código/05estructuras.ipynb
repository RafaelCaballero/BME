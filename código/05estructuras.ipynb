{
 "cells": [
  {
   "cell_type": "markdown",
   "metadata": {},
   "source": [
    "# Una breve introducción a Python \n",
    "## Estructuras de datos: listas, tuplas, strings, conjuntos y diccionarios\n",
    "### por Rafa Caballero "
   ]
  },
  {
   "cell_type": "markdown",
   "metadata": {},
   "source": [
    "Los enteros, reales, booleanos o caracteres son datos simples. Sin embargo, los lenguajes de programación ofrecen también la posibilidad de agregar varios de estos datos simples en estructuras que pueden manejarse como una unidad: almacenarse en variables, mostrarse por pantalla, etc.\n",
    "\n",
    "\n",
    "### Índice\n",
    "\n",
    "[Secuencias](#Secuencias)<br>\n",
    "[Conjuntos](#Conjuntos)<br>\n",
    "[Diccionarios](#Diccionarios)<br>"
   ]
  },
  {
   "cell_type": "markdown",
   "metadata": {},
   "source": [
    "## Secuencias\n",
    "\n",
    "[Operadores para secuencias](#Operadores-para-secuencias)<br>\n",
    "[Listas](#Listas)<br>\n",
    "&emsp;[Acceso por índices](#Acceso-por-índices)<br>\n",
    "&emsp;[Funciones de listas](#Funciones-de-listas)<br>\n",
    "&emsp;[Copias de listas: ¡ojo!](#Copias-de-listas:-¡ojo!)<br>\n",
    "[Tuplas](#Tuplas)<br>\n",
    "[Strings](#Strings)<br>"
   ]
  },
  {
   "cell_type": "markdown",
   "metadata": {},
   "source": [
    "### Operadores para secuencias\n",
    "\n",
    "En este apartado vemos los operadadores comunes a todas las secuencias aplicados a las tuplas. Los mismos son aplicables a listas y a strings.\n",
    "\n",
    "\n",
    "**Concatenación con + y ***\n",
    "\n",
    "El operador + *concatena* dos secuencias"
   ]
  },
  {
   "cell_type": "code",
   "execution_count": 8,
   "metadata": {},
   "outputs": [
    {
     "data": {
      "text/plain": [
       "(1, 2, 3, 4, 5)"
      ]
     },
     "execution_count": 8,
     "metadata": {},
     "output_type": "execute_result"
    }
   ],
   "source": [
    "(1,2,3) + ( 4 ,5)  "
   ]
  },
  {
   "cell_type": "code",
   "execution_count": 9,
   "metadata": {},
   "outputs": [
    {
     "data": {
      "text/plain": [
       "'hola mundo'"
      ]
     },
     "execution_count": 9,
     "metadata": {},
     "output_type": "execute_result"
    }
   ],
   "source": [
    "\"hola \"+\"mundo\""
   ]
  },
  {
   "cell_type": "markdown",
   "metadata": {},
   "source": [
    "El operador * repite una secuencia una cantidad de veces"
   ]
  },
  {
   "cell_type": "code",
   "execution_count": 3,
   "metadata": {},
   "outputs": [
    {
     "data": {
      "text/plain": [
       "(1, 2, 3, 1, 2, 3, 1, 2, 3, 1, 2, 3)"
      ]
     },
     "execution_count": 3,
     "metadata": {},
     "output_type": "execute_result"
    }
   ],
   "source": [
    "(1,2,3)*4"
   ]
  },
  {
   "cell_type": "markdown",
   "metadata": {},
   "source": [
    "Resulta muy útil para ahorrarse escribir en algunas ocasiones:"
   ]
  },
  {
   "cell_type": "code",
   "execution_count": 4,
   "metadata": {},
   "outputs": [
    {
     "name": "stdout",
     "output_type": "stream",
     "text": [
      "------------------------------\n"
     ]
    }
   ],
   "source": [
    "print(\"-\"*30)"
   ]
  },
  {
   "cell_type": "markdown",
   "metadata": {},
   "source": [
    "**Acceso por índice**\n",
    "\n",
    "El operador `[i]` permite acceder al i-ésimo elemento (i una expresión que devuelve un entero). Hay que tener en cuenta que el primer elemento es el que ocupa la posición 0, el segundo la posición 1, etc. Si el índice `i`devuelve un valor negativo empieza a contar desde el final"
   ]
  },
  {
   "cell_type": "code",
   "execution_count": 5,
   "metadata": {},
   "outputs": [
    {
     "name": "stdout",
     "output_type": "stream",
     "text": [
      "10 10\n"
     ]
    }
   ],
   "source": [
    "t = (10,20,30)\n",
    "\n",
    "print(t[0],t[-3])"
   ]
  },
  {
   "cell_type": "markdown",
   "metadata": {},
   "source": [
    "**Ej.** ¿Qué ocurre aquí?"
   ]
  },
  {
   "cell_type": "code",
   "execution_count": null,
   "metadata": {},
   "outputs": [],
   "source": [
    "(1,2,3)[3]"
   ]
  },
  {
   "cell_type": "markdown",
   "metadata": {},
   "source": [
    "**in** y **not in**\n",
    "\n",
    "Los operadores relacionales infijos *in* y  *not in* sirven para determinar si un elemento está o no en una secuencia"
   ]
  },
  {
   "cell_type": "code",
   "execution_count": 6,
   "metadata": {},
   "outputs": [
    {
     "name": "stdout",
     "output_type": "stream",
     "text": [
      "True\n",
      "True\n",
      "False\n"
     ]
    }
   ],
   "source": [
    "x = (1,2,3)\n",
    "print(2 in x)\n",
    "print(5 not in x)\n",
    "print(5  in x)"
   ]
  },
  {
   "cell_type": "code",
   "execution_count": 7,
   "metadata": {},
   "outputs": [
    {
     "name": "stdout",
     "output_type": "stream",
     "text": [
      "True\n"
     ]
    }
   ],
   "source": [
    "ventas = (10,30,50,1,7,20)\n",
    "print(7 in ventas)"
   ]
  },
  {
   "cell_type": "markdown",
   "metadata": {},
   "source": [
    "También se pueden utilizar otras funciones como\n",
    "\n",
    "- len(x): Número de elementos de la secuencia x\n",
    "    \n",
    "- mySeq.*index*(x): devuelve la posición (empezando desde 0) de la primera ocurrencia del valor x en la secuencia mySeq, o un error si no x no aparece.  Si se quiere evitar el error mejor emplear el operador *in* dentro de una instrucción *if*. \n",
    "\n",
    "- min(mySeq), max(mySeq): devuelve el menor y el mayor elemento de mySeq, respectivamente.\n",
    "    \n",
    "- mySeq.count(x): devuelve el número de apariciones del valor x en mySeq."
   ]
  },
  {
   "cell_type": "markdown",
   "metadata": {},
   "source": [
    " **len( )** nos dice el número de elementos en la secuencia."
   ]
  },
  {
   "cell_type": "code",
   "execution_count": 20,
   "metadata": {},
   "outputs": [
    {
     "data": {
      "text/plain": [
       "6"
      ]
     },
     "execution_count": 20,
     "metadata": {},
     "output_type": "execute_result"
    }
   ],
   "source": [
    "ventas = (10,30,50,1,7,20)\n",
    "len(ventas)"
   ]
  },
  {
   "cell_type": "markdown",
   "metadata": {},
   "source": [
    "En el caso de listas cuyos elementos son todos enteros **min( )** y **max( )**  nos dará el minimo y el máximo de la lista."
   ]
  },
  {
   "cell_type": "code",
   "execution_count": 17,
   "metadata": {},
   "outputs": [
    {
     "data": {
      "text/plain": [
       "0"
      ]
     },
     "execution_count": 17,
     "metadata": {},
     "output_type": "execute_result"
    }
   ],
   "source": [
    "min(num)\n",
    "max(num)\n"
   ]
  },
  {
   "cell_type": "markdown",
   "metadata": {},
   "source": [
    "Si la lista contiene cadenas de caracteres,  **max( )** devolverá el string mayor según el orden alfabético, mientras que  **min( )**  devolverá el menor (primero en orden alfabético). \n",
    "\n",
    "Si lo que se desea es que  **max( )** devuelva el string de mayor longitud se puede añadir el parámetro  'key=len'.\n",
    "\n",
    "Sean string o enteros, tanto **max** como **min** devuelven el elemento de menor índice en el caso de elementos repetidos."
   ]
  },
  {
   "cell_type": "code",
   "execution_count": null,
   "metadata": {},
   "outputs": [],
   "source": [
    "herramientas = ['tornillos','tuercas','arandelas']\n",
    "print(max(herramientas, key=len))\n",
    "print(min(herramientas, key=len))"
   ]
  },
  {
   "cell_type": "markdown",
   "metadata": {},
   "source": [
    "**index( )** permite encontrar la posición en la que aparece la primera aparición de un cierto elemento. Si se le pasa un segundo parámetro, éste especifica la posición inicial desde la que buscar. Si solo hay un parámetro se busca desde el primero.\n",
    "\n",
    "Ojo porque si el elemento no está se devolverá una excepción."
   ]
  },
  {
   "cell_type": "code",
   "execution_count": 26,
   "metadata": {},
   "outputs": [
    {
     "name": "stdout",
     "output_type": "stream",
     "text": [
      "4\n"
     ]
    },
    {
     "ename": "ValueError",
     "evalue": "4 is not in list",
     "output_type": "error",
     "traceback": [
      "\u001b[1;31m---------------------------------------------------------------------------\u001b[0m",
      "\u001b[1;31mValueError\u001b[0m                                Traceback (most recent call last)",
      "\u001b[1;32m<ipython-input-26-400e9d23d887>\u001b[0m in \u001b[0;36m<module>\u001b[1;34m\u001b[0m\n\u001b[0;32m      1\u001b[0m \u001b[0mlst\u001b[0m \u001b[1;33m=\u001b[0m \u001b[1;33m[\u001b[0m\u001b[1;36m1\u001b[0m\u001b[1;33m,\u001b[0m\u001b[1;36m1\u001b[0m\u001b[1;33m,\u001b[0m\u001b[1;36m4\u001b[0m\u001b[1;33m,\u001b[0m\u001b[1;36m8\u001b[0m\u001b[1;33m,\u001b[0m\u001b[1;36m7\u001b[0m\u001b[1;33m]\u001b[0m\u001b[1;33m\u001b[0m\u001b[1;33m\u001b[0m\u001b[0m\n\u001b[0;32m      2\u001b[0m \u001b[0mprint\u001b[0m\u001b[1;33m(\u001b[0m\u001b[0mlst\u001b[0m\u001b[1;33m.\u001b[0m\u001b[0mindex\u001b[0m\u001b[1;33m(\u001b[0m\u001b[1;36m7\u001b[0m\u001b[1;33m)\u001b[0m\u001b[1;33m)\u001b[0m\u001b[1;33m\u001b[0m\u001b[1;33m\u001b[0m\u001b[0m\n\u001b[1;32m----> 3\u001b[1;33m \u001b[0mprint\u001b[0m\u001b[1;33m(\u001b[0m\u001b[0mlst\u001b[0m\u001b[1;33m.\u001b[0m\u001b[0mindex\u001b[0m\u001b[1;33m(\u001b[0m\u001b[1;36m4\u001b[0m\u001b[1;33m,\u001b[0m\u001b[1;36m5\u001b[0m\u001b[1;33m)\u001b[0m\u001b[1;33m)\u001b[0m\u001b[1;33m\u001b[0m\u001b[1;33m\u001b[0m\u001b[0m\n\u001b[0m",
      "\u001b[1;31mValueError\u001b[0m: 4 is not in list"
     ]
    }
   ],
   "source": [
    "lst = [1,1,4,8,7]\n",
    "print(lst.index(7))\n",
    "print(lst.index(4,5))"
   ]
  },
  {
   "cell_type": "markdown",
   "metadata": {},
   "source": [
    "Para evitar que se lance la excepción se recomienda preguntar si el elemento está \n"
   ]
  },
  {
   "cell_type": "code",
   "execution_count": 27,
   "metadata": {},
   "outputs": [
    {
     "name": "stdout",
     "output_type": "stream",
     "text": [
      "No está\n"
     ]
    }
   ],
   "source": [
    "if 5 in lst[4:]:\n",
    "    print(lst.index(4,5))\n",
    "else:\n",
    "    print(\"No está\")\n"
   ]
  },
  {
   "cell_type": "code",
   "execution_count": 28,
   "metadata": {},
   "outputs": [
    {
     "name": "stdout",
     "output_type": "stream",
     "text": [
      "No está\n"
     ]
    }
   ],
   "source": [
    "# otra forma, menos eficiente\n",
    "if lst[4:].count(5)>0:\n",
    "    print(lst.index(4,5))\n",
    "else:\n",
    "    print(\"No está\")\n"
   ]
  },
  {
   "cell_type": "markdown",
   "metadata": {},
   "source": [
    "###### Pregunta: ¿Qué mostrará *lst.index(1,1)*?"
   ]
  },
  {
   "cell_type": "code",
   "execution_count": null,
   "metadata": {},
   "outputs": [],
   "source": []
  },
  {
   "cell_type": "markdown",
   "metadata": {},
   "source": [
    "**count( )** permite contar el número de repeticiones de una elemento en una secuencia. "
   ]
  },
  {
   "cell_type": "code",
   "execution_count": 25,
   "metadata": {},
   "outputs": [
    {
     "data": {
      "text/plain": [
       "5"
      ]
     },
     "execution_count": 25,
     "metadata": {},
     "output_type": "execute_result"
    }
   ],
   "source": [
    "\"abracadabra\".count(\"a\")"
   ]
  },
  {
   "cell_type": "markdown",
   "metadata": {},
   "source": [
    "**Slices**\n",
    "\n",
    "El acceso mediante índices nos permite acceder a un elemento concreto. Si lo que queremos es acceder a varios  elementos consecutivos a la vez, tendremos que emplear *slicing* representado por el operador :.\n",
    "Este operador extrae una subsecuencia de la secuencia\n",
    "\n",
    "Al hacer slicing usaremos la notacion [ a : b ], con a la posición del primer elemento a seleccionar (incluido)  y b el último elemento (excluido). \n",
    "Si a o b no se definen, entonces se asume que se trata del primero (si falta a), y el último (si falta b)\n",
    "\n",
    "\n",
    "    a[start:stop]  # elementos desde start hasta stop -1\n",
    "    a[start:]      # desde start hasta el final\n",
    "    a[:stop]       # desde el principio hasta stop-1\n",
    "    a[:]           # copia la secuencia\n",
    "    a[start:stop:step] # desde start sin llegar ni pasar de stop, saltando step\n"
   ]
  },
  {
   "cell_type": "code",
   "execution_count": 12,
   "metadata": {},
   "outputs": [],
   "source": [
    "num = [0,1,2,3,4,5,6,7,8,9]"
   ]
  },
  {
   "cell_type": "code",
   "execution_count": 13,
   "metadata": {},
   "outputs": [
    {
     "name": "stdout",
     "output_type": "stream",
     "text": [
      "[0, 1, 2, 3]\n",
      "[4, 5, 6, 7, 8, 9]\n"
     ]
    }
   ],
   "source": [
    "print(num[0:4])\n",
    "print(num[4:])"
   ]
  },
  {
   "cell_type": "markdown",
   "metadata": {},
   "source": [
    "También podemos hacer 'rodajas saltarinas', añadiendo el tamaño del salto, de nuevo meidante el operador :"
   ]
  },
  {
   "cell_type": "code",
   "execution_count": 14,
   "metadata": {},
   "outputs": [
    {
     "data": {
      "text/plain": [
       "[0, 3, 6]"
      ]
     },
     "execution_count": 14,
     "metadata": {},
     "output_type": "execute_result"
    }
   ],
   "source": [
    "num[:9:3]"
   ]
  },
  {
   "cell_type": "markdown",
   "metadata": {},
   "source": [
    "Si no se especifica el final del intervalo se entiende que sigue hasta el último elemento, y si no se especifica el primero que comienza desde el principio de la secuencia:"
   ]
  },
  {
   "cell_type": "code",
   "execution_count": 15,
   "metadata": {},
   "outputs": [
    {
     "data": {
      "text/plain": [
       "(2, 3)"
      ]
     },
     "execution_count": 15,
     "metadata": {},
     "output_type": "execute_result"
    }
   ],
   "source": [
    "x[1:]"
   ]
  },
  {
   "cell_type": "code",
   "execution_count": 16,
   "metadata": {},
   "outputs": [
    {
     "data": {
      "text/plain": [
       "(1, 2, 3)"
      ]
     },
     "execution_count": 16,
     "metadata": {},
     "output_type": "execute_result"
    }
   ],
   "source": [
    "x[:6]"
   ]
  },
  {
   "cell_type": "markdown",
   "metadata": {},
   "source": [
    "**Ejercicio ¿qué devolverá este código?**"
   ]
  },
  {
   "cell_type": "code",
   "execution_count": null,
   "metadata": {},
   "outputs": [],
   "source": [
    "x[-6:-3]"
   ]
  },
  {
   "cell_type": "markdown",
   "metadata": {},
   "source": [
    "# Listas"
   ]
  },
  {
   "cell_type": "markdown",
   "metadata": {},
   "source": [
    "La estructura más común en Python. Podemos pensar en las listas como secuencias de elementos. Se escriben entre corchetes, con sus componentes, o elementos, separados por comas. \n",
    "\n",
    "Las listas son secuencias ordenadas: cada elemento tiene una posición, comenzando desde 0, que podremos utilizar para acceder a él.\n",
    "\n",
    "Comencemos por la lista más simple, la lista con 0 elementos:"
   ]
  },
  {
   "cell_type": "code",
   "execution_count": 1,
   "metadata": {},
   "outputs": [],
   "source": [
    "soyunalistaNovacia = [5,\"si\", True,\"vaya\"]"
   ]
  },
  {
   "cell_type": "code",
   "execution_count": 4,
   "metadata": {},
   "outputs": [
    {
     "name": "stdout",
     "output_type": "stream",
     "text": [
      "<class 'list'>\n"
     ]
    }
   ],
   "source": [
    "print(type(soyunalistavacia))"
   ]
  },
  {
   "cell_type": "markdown",
   "metadata": {},
   "source": [
    "Una lista con más elementos:"
   ]
  },
  {
   "cell_type": "code",
   "execution_count": 2,
   "metadata": {},
   "outputs": [
    {
     "name": "stdout",
     "output_type": "stream",
     "text": [
      "['tornillos', 'tuercas', 'arandelas']\n"
     ]
    }
   ],
   "source": [
    "herramientas = ['tornillos','tuercas','arandelas']\n",
    "print(herramientas)"
   ]
  },
  {
   "cell_type": "markdown",
   "metadata": {},
   "source": [
    "### Acceso por índices"
   ]
  },
  {
   "cell_type": "markdown",
   "metadata": {},
   "source": [
    "Como hemos dicho, los índices en Python empiezan en 0. Por tanto en una lista de 2 elementos podemos hablar del elemento en la posición 0, o primer elemento, y del elemento en la posición 1, o segundo elemento"
   ]
  },
  {
   "cell_type": "code",
   "execution_count": 3,
   "metadata": {},
   "outputs": [
    {
     "data": {
      "text/plain": [
       "'tornillos'"
      ]
     },
     "execution_count": 3,
     "metadata": {},
     "output_type": "execute_result"
    }
   ],
   "source": [
    "herramientas[0]"
   ]
  },
  {
   "cell_type": "markdown",
   "metadata": {},
   "source": [
    "Una particularidad de Python es que en lugar de empezar a contar desde el principio, también podemos hacerlo comenzando desde el final. El indice del último elemento es -1, el del penúltimo -2, y así sucesivamente."
   ]
  },
  {
   "cell_type": "code",
   "execution_count": 8,
   "metadata": {},
   "outputs": [
    {
     "data": {
      "text/plain": [
       "'arandelas'"
      ]
     },
     "execution_count": 8,
     "metadata": {},
     "output_type": "execute_result"
    }
   ],
   "source": [
    "herramientas[-1]"
   ]
  },
  {
   "cell_type": "markdown",
   "metadata": {},
   "source": [
    "En la variable herramientas, de 3 elementos, herramientas[0] = herramientas[-3], herramientas[1] = herramientas[-2] y herramientas[2] = herramientas -1. "
   ]
  },
  {
   "cell_type": "code",
   "execution_count": 4,
   "metadata": {},
   "outputs": [],
   "source": [
    "utensilios = ['martillo','sierra']"
   ]
  },
  {
   "cell_type": "markdown",
   "metadata": {},
   "source": [
    "Ahora vamos a combinar la lista herramientas y la lista utensilios en una nueva lista, caja. Este procedimiento de listas anidadas es muy común."
   ]
  },
  {
   "cell_type": "code",
   "execution_count": 6,
   "metadata": {},
   "outputs": [
    {
     "name": "stdout",
     "output_type": "stream",
     "text": [
      "[['tornillos', 'tuercas', 'arandelas'], ['martillo', 'sierra']]\n"
     ]
    }
   ],
   "source": [
    "caja  = [herramientas,utensilios]\n",
    "print(caja)"
   ]
  },
  {
   "cell_type": "markdown",
   "metadata": {},
   "source": [
    "###### Preguntas. \n",
    "\n",
    "*¿Cuantos elementos tiene la lista *caja*?\n",
    "*¿Cómo se accedería al 'martillo'?"
   ]
  },
  {
   "cell_type": "code",
   "execution_count": 18,
   "metadata": {
    "scrolled": true
   },
   "outputs": [],
   "source": [
    "#Solución\n",
    "# núm elementos de caja:\n",
    "# print ....\n"
   ]
  },
  {
   "cell_type": "markdown",
   "metadata": {},
   "source": [
    "### Funciones de listas"
   ]
  },
  {
   "cell_type": "markdown",
   "metadata": {},
   "source": [
    "Recordemos para comenzar que todas las funciones vistas para secuencias están disponibles para listas.\n",
    "\n",
    "Por ejemplo, en ocasiones estaremos interesados en saber si un elemento particular aparrece en la lista"
   ]
  },
  {
   "cell_type": "code",
   "execution_count": 4,
   "metadata": {
    "collapsed": true
   },
   "outputs": [],
   "source": [
    "herramientas = ['tornillos','tuercas','arandelas']"
   ]
  },
  {
   "cell_type": "markdown",
   "metadata": {},
   "source": [
    "En este caso podemos usar el operador **in** devuelve un booleano que indica si el elemento está en la lista"
   ]
  },
  {
   "cell_type": "code",
   "execution_count": 5,
   "metadata": {},
   "outputs": [
    {
     "data": {
      "text/plain": [
       "True"
      ]
     },
     "execution_count": 5,
     "metadata": {},
     "output_type": "execute_result"
    }
   ],
   "source": [
    "'tornillos' in herramientas"
   ]
  },
  {
   "cell_type": "code",
   "execution_count": 6,
   "metadata": {},
   "outputs": [
    {
     "data": {
      "text/plain": [
       "False"
      ]
     },
     "execution_count": 6,
     "metadata": {},
     "output_type": "execute_result"
    }
   ],
   "source": [
    "'clavos' in herramientas"
   ]
  },
  {
   "cell_type": "markdown",
   "metadata": {},
   "source": [
    "Un string se puede convertir en una lista fácilmente:"
   ]
  },
  {
   "cell_type": "code",
   "execution_count": 26,
   "metadata": {},
   "outputs": [
    {
     "data": {
      "text/plain": [
       "['h', 'e', 'l', 'l', 'o']"
      ]
     },
     "execution_count": 26,
     "metadata": {},
     "output_type": "execute_result"
    }
   ],
   "source": [
    "list('hello')"
   ]
  },
  {
   "cell_type": "markdown",
   "metadata": {},
   "source": [
    "**append( )** en cambio es específica para listas: se utiliza para añadir elementos al final de una lista. Nos será muy útil."
   ]
  },
  {
   "cell_type": "code",
   "execution_count": 9,
   "metadata": {
    "collapsed": true
   },
   "outputs": [],
   "source": [
    "lst = [1,1,4,8,7]"
   ]
  },
  {
   "cell_type": "code",
   "execution_count": 10,
   "metadata": {},
   "outputs": [
    {
     "name": "stdout",
     "output_type": "stream",
     "text": [
      "[1, 1, 4, 8, 7, 66]\n"
     ]
    }
   ],
   "source": [
    "lst.append(66)\n",
    "print(lst)"
   ]
  },
  {
   "cell_type": "markdown",
   "metadata": {},
   "source": [
    "**append( )** también permite añadir una lista al fina lde otra, pero ojo, la lista se añadirá como una lista anidada."
   ]
  },
  {
   "cell_type": "code",
   "execution_count": 14,
   "metadata": {
    "collapsed": true
   },
   "outputs": [],
   "source": [
    "lst1 = [5,4,2,8]"
   ]
  },
  {
   "cell_type": "code",
   "execution_count": 15,
   "metadata": {},
   "outputs": [
    {
     "name": "stdout",
     "output_type": "stream",
     "text": [
      "[1, 1, 4, 8, 7, 66, [5, 4, 2, 8]]\n"
     ]
    }
   ],
   "source": [
    "lst.append(lst1)\n",
    "print(lst)"
   ]
  },
  {
   "cell_type": "markdown",
   "metadata": {},
   "source": [
    "Si se quieren añadir todos los elementos de la lista, pero no de forma anidada sino como si se repitiera **append** muchas veces, podemos usar **extend( )**."
   ]
  },
  {
   "cell_type": "code",
   "execution_count": 17,
   "metadata": {},
   "outputs": [
    {
     "name": "stdout",
     "output_type": "stream",
     "text": [
      "[1, 1, 4, 8, 7, 66, [5, 4, 2, 8], 5, 4, 2, 8]\n"
     ]
    }
   ],
   "source": [
    "lst.extend(lst1)\n",
    "print(lst)"
   ]
  },
  {
   "cell_type": "code",
   "execution_count": 10,
   "metadata": {},
   "outputs": [
    {
     "name": "stdout",
     "output_type": "stream",
     "text": [
      "[1, 1, 4, 8, 7]\n"
     ]
    }
   ],
   "source": [
    "print(lst)"
   ]
  },
  {
   "cell_type": "markdown",
   "metadata": {},
   "source": [
    "**insert(x,y)** permite insertar un elemento *y* en la posición *x*, al contrario que **append( )**, que solo inserta al final. "
   ]
  },
  {
   "cell_type": "code",
   "execution_count": 25,
   "metadata": {},
   "outputs": [
    {
     "name": "stdout",
     "output_type": "stream",
     "text": [
      "[1, 1, 4, 8, 7, 'name', 66, [5, 4, 2, 8], 5, 4, 2, 8]\n"
     ]
    }
   ],
   "source": [
    "lst.insert(5, 'name')\n",
    "print(lst)"
   ]
  },
  {
   "cell_type": "markdown",
   "metadata": {},
   "source": [
    "**insert(x,y)** inserta pero no reemplaza, es decir la lista aumenta su longitud en uno. Si lo que se requiere es reemplazar, no necesitamos una función especial, sino acceder directamente a la posición y asignar el valor deseado:"
   ]
  },
  {
   "cell_type": "code",
   "execution_count": 26,
   "metadata": {},
   "outputs": [
    {
     "name": "stdout",
     "output_type": "stream",
     "text": [
      "[1, 1, 4, 8, 7, 'Python', 66, [5, 4, 2, 8], 5, 4, 2, 8]\n"
     ]
    }
   ],
   "source": [
    "lst[5] = 'Python'\n",
    "print(lst)"
   ]
  },
  {
   "cell_type": "markdown",
   "metadata": {},
   "source": [
    "**pop( )** devuelve el último elemento de la lista. Esto permite utilizar las listas como si fuera el tipo abstracto de datos lista."
   ]
  },
  {
   "cell_type": "code",
   "execution_count": 27,
   "metadata": {},
   "outputs": [
    {
     "data": {
      "text/plain": [
       "8"
      ]
     },
     "execution_count": 27,
     "metadata": {},
     "output_type": "execute_result"
    }
   ],
   "source": [
    "lst.pop()"
   ]
  },
  {
   "cell_type": "markdown",
   "metadata": {},
   "source": [
    "Pop también se puede utilizar para eliminar un elemento concreto."
   ]
  },
  {
   "cell_type": "code",
   "execution_count": 28,
   "metadata": {},
   "outputs": [
    {
     "name": "stdout",
     "output_type": "stream",
     "text": [
      "[1, 1, 4, 8, 7, 'Python', 66, [5, 4, 2, 8], 5, 4, 2]\n",
      "eliminado  1\n",
      "[1, 4, 8, 7, 'Python', 66, [5, 4, 2, 8], 5, 4, 2]\n"
     ]
    }
   ],
   "source": [
    "print(lst)\n",
    "x = lst.pop(0)\n",
    "print('eliminado ',x)\n",
    "print(lst)"
   ]
  },
  {
   "cell_type": "markdown",
   "metadata": {},
   "source": [
    "**Nota**: Obsérvese la diferencia entre las funciones **pop( )** y **remove()**: mientras que la primera elimina un elemento por su posición,  la segunda lo hace buscando la primera aparición del elemento en la lista. "
   ]
  },
  {
   "cell_type": "code",
   "execution_count": 29,
   "metadata": {},
   "outputs": [
    {
     "name": "stdout",
     "output_type": "stream",
     "text": [
      "[1, 4, 8, 7, 66, [5, 4, 2, 8], 5, 4, 2]\n"
     ]
    }
   ],
   "source": [
    "lst.remove('Python')\n",
    "print(lst)\n"
   ]
  },
  {
   "cell_type": "markdown",
   "metadata": {},
   "source": [
    "Otra forma de borrar a partir de la posición es **del**"
   ]
  },
  {
   "cell_type": "code",
   "execution_count": 30,
   "metadata": {},
   "outputs": [
    {
     "name": "stdout",
     "output_type": "stream",
     "text": [
      "[1, 8, 7, 66, [5, 4, 2, 8], 5, 4, 2]\n"
     ]
    }
   ],
   "source": [
    "del lst[1]\n",
    "print(lst)"
   ]
  },
  {
   "cell_type": "markdown",
   "metadata": {},
   "source": [
    "Si queremos dar la vuelta a toda la lista utilizaremos la función  **reverse()**."
   ]
  },
  {
   "cell_type": "code",
   "execution_count": 13,
   "metadata": {},
   "outputs": [
    {
     "name": "stdout",
     "output_type": "stream",
     "text": [
      "[30, [20, 21, 22], 10]\n"
     ]
    }
   ],
   "source": [
    "lst = [10,[20,21,22],30]\n",
    "lst.reverse()\n",
    "print(lst)"
   ]
  },
  {
   "cell_type": "markdown",
   "metadata": {},
   "source": [
    "###### Pregunta: ¿Por qué la lista [5,4,2,8] no se ha invertido?"
   ]
  },
  {
   "cell_type": "code",
   "execution_count": 35,
   "metadata": {
    "collapsed": true
   },
   "outputs": [],
   "source": [
    "# respuesta:  "
   ]
  },
  {
   "cell_type": "markdown",
   "metadata": {},
   "source": [
    "###### Ejercicio: ¿Cómo encontrar la última posición en la que aparece un elemento p en una lista l?"
   ]
  },
  {
   "cell_type": "code",
   "execution_count": 18,
   "metadata": {},
   "outputs": [
    {
     "name": "stdout",
     "output_type": "stream",
     "text": [
      "5\n"
     ]
    }
   ],
   "source": [
    "# Solución: máximo 3 instrucciones\n",
    "p = 5\n",
    "l = list([3,5,5,6,7,5,8])\n",
    "\n",
    "#\n",
    "#"
   ]
  },
  {
   "cell_type": "markdown",
   "metadata": {},
   "source": [
    "\n",
    "La función predefinida **sort( )** permite ordenar los elementos en orden ascendente (de menor a mayor)."
   ]
  },
  {
   "cell_type": "code",
   "execution_count": 41,
   "metadata": {},
   "outputs": [
    {
     "name": "stdout",
     "output_type": "stream",
     "text": [
      "[3, 4, 5, 5, 6, 7, 8]\n"
     ]
    }
   ],
   "source": [
    "l.sort()\n",
    "print(l)"
   ]
  },
  {
   "cell_type": "markdown",
   "metadata": {},
   "source": [
    "El parámetro *reverse* indica en qué sentido se ordena. Por defecto vale False, indicando que va de menor a mayor. Si lo ponemos a True el orden será de mayor a menor (descendente)."
   ]
  },
  {
   "cell_type": "code",
   "execution_count": 39,
   "metadata": {},
   "outputs": [
    {
     "name": "stdout",
     "output_type": "stream",
     "text": [
      "[8, 7, 6, 5, 5, 4, 3]\n"
     ]
    }
   ],
   "source": [
    "l.sort(reverse=True)\n",
    "print(l)"
   ]
  },
  {
   "cell_type": "markdown",
   "metadata": {},
   "source": [
    "En el caso de listas de strings, **sort( )** funciona de forma análoga, incluyendo la positibilidad de poner *reverse=True* para orden descendente."
   ]
  },
  {
   "cell_type": "code",
   "execution_count": 44,
   "metadata": {},
   "outputs": [
    {
     "name": "stdout",
     "output_type": "stream",
     "text": [
      "['arandelas', 'tornillos', 'tuercas']\n",
      "['tuercas', 'tornillos', 'arandelas']\n"
     ]
    }
   ],
   "source": [
    "herramientas = ['tornillos','tuercas','arandelas']\n",
    "herramientas.sort()\n",
    "print(herramientas)\n",
    "herramientas.sort(reverse=True)\n",
    "print(herramientas)"
   ]
  },
  {
   "cell_type": "markdown",
   "metadata": {},
   "source": [
    "Para ordenar por longitud usaremos **key=len**:"
   ]
  },
  {
   "cell_type": "code",
   "execution_count": 45,
   "metadata": {},
   "outputs": [
    {
     "name": "stdout",
     "output_type": "stream",
     "text": [
      "['tuercas', 'tornillos', 'arandelas']\n",
      "['tornillos', 'arandelas', 'tuercas']\n"
     ]
    }
   ],
   "source": [
    "herramientas.sort(key=len)\n",
    "print(herramientas)\n",
    "herramientas.sort(key=len,reverse=True)\n",
    "print(herramientas)"
   ]
  },
  {
   "cell_type": "markdown",
   "metadata": {},
   "source": [
    "### Copias de listas: ¡ojo!"
   ]
  },
  {
   "cell_type": "markdown",
   "metadata": {},
   "source": [
    "Este es un error común cuando se comienza a programar en Python. Consideramos la lista:"
   ]
  },
  {
   "cell_type": "code",
   "execution_count": 19,
   "metadata": {},
   "outputs": [],
   "source": [
    "lista= [2,1,4,3]"
   ]
  },
  {
   "cell_type": "code",
   "execution_count": 20,
   "metadata": {},
   "outputs": [
    {
     "name": "stdout",
     "output_type": "stream",
     "text": [
      "[2, 1, 4, 3]\n"
     ]
    }
   ],
   "source": [
    "listb = lista\n",
    "print(listb)"
   ]
  },
  {
   "cell_type": "markdown",
   "metadata": {},
   "source": [
    "Hasta aquí nada sospechoso:\n",
    "* Hemos creado una lista, lista = [2,1,4,3]. \n",
    "* También hemos creado listb como una copia de lista, obtenida usando la asignación.\n",
    "\n",
    "\n",
    "Ahora jugamos un poco con lista:"
   ]
  },
  {
   "cell_type": "code",
   "execution_count": 21,
   "metadata": {},
   "outputs": [
    {
     "name": "stdout",
     "output_type": "stream",
     "text": [
      "[2, 1, 4, 3]\n",
      "[2, 1, 4, 3, 9, 10, 11, 12]\n",
      "[2, 1, 4, 3, 9, 10, 11]\n"
     ]
    }
   ],
   "source": [
    "print(lista)\n",
    "lista.extend([9,10,11,12])\n",
    "print(lista)\n",
    "lista.pop()\n",
    "print(lista)"
   ]
  },
  {
   "cell_type": "code",
   "execution_count": 22,
   "metadata": {},
   "outputs": [
    {
     "name": "stdout",
     "output_type": "stream",
     "text": [
      "[2, 1, 4, 3, 9, 10, 11]\n"
     ]
    }
   ],
   "source": [
    "print(listb)"
   ]
  },
  {
   "attachments": {
    "imagen.png": {
     "image/png": "[encoded data removed]"
    }
   },
   "cell_type": "markdown",
   "metadata": {},
   "source": [
    "listb también ha cambiado ¡¡pero si no la hemos tocado!!\n",
    "\n",
    "Esto es porque las variables tipo lista son *punteros*. Es decir en el caso de estructuras complejas, como las listas la variable no contiene los datos, como sí ocurría con los enteros, sino *la dirección de memoria donde se aloja la estructura*. Así que la asignación listab = lista, solo copia en listab la dirección de memoria de lista; ambas \"apuntan\" a la misma estructura. Por tanto no hemos copiado la lista, solo hemos creado otro alias para la lista. En Python a las variables que se guardan como punteros se les llama *mutables*\n",
    "\n",
    "![imagen.png](attachment:imagen.png)\n",
    "\n",
    "¿Cómo conseguir una copia auténtica? El truco nos lo da el operador de slicing, :. Recordemos que devuelve una sublista dadas una posición inicial y final. Al hacer, : crea esta sublista como una lista nueva, es decir, *realmente copia los elementos*. \n",
    "\n",
    "Así que podemos hacer:"
   ]
  },
  {
   "cell_type": "code",
   "execution_count": 23,
   "metadata": {},
   "outputs": [],
   "source": [
    "lista = [2,1,4,3]"
   ]
  },
  {
   "cell_type": "code",
   "execution_count": 24,
   "metadata": {},
   "outputs": [
    {
     "name": "stdout",
     "output_type": "stream",
     "text": [
      "[2, 1, 4, 3]\n"
     ]
    }
   ],
   "source": [
    "listb = lista[:] # al no indicar inicio ni fin es la lista completa\n",
    "print(listb)"
   ]
  },
  {
   "cell_type": "code",
   "execution_count": 25,
   "metadata": {},
   "outputs": [
    {
     "name": "stdout",
     "output_type": "stream",
     "text": [
      "[2, 1, 4, 3]\n",
      "[2, 1, 4, 3, 9, 10, 11, 12]\n",
      "[2, 1, 4, 3, 9, 10, 11]\n"
     ]
    }
   ],
   "source": [
    "print(lista)\n",
    "lista.extend([9,10,11,12])\n",
    "print(lista)\n",
    "lista.pop()\n",
    "print(lista)"
   ]
  },
  {
   "cell_type": "code",
   "execution_count": 26,
   "metadata": {},
   "outputs": [
    {
     "name": "stdout",
     "output_type": "stream",
     "text": [
      "[2, 1, 4, 3]\n"
     ]
    }
   ],
   "source": [
    "print(listb)"
   ]
  },
  {
   "cell_type": "markdown",
   "metadata": {},
   "source": [
    "Otra forma de lograr lo mismo es con la función *copy()*"
   ]
  },
  {
   "cell_type": "code",
   "execution_count": 11,
   "metadata": {},
   "outputs": [
    {
     "name": "stdout",
     "output_type": "stream",
     "text": [
      "[2, 1, 4, 7] [2, 1, 4, 3]\n"
     ]
    }
   ],
   "source": [
    "lista = [2,1,4,3]\n",
    "listb = lista.copy()\n",
    "lista[3]=7\n",
    "print(lista,listb)"
   ]
  },
  {
   "cell_type": "markdown",
   "metadata": {},
   "source": [
    "# Tuplas"
   ]
  },
  {
   "cell_type": "markdown",
   "metadata": {},
   "source": [
    "Las tuplas son similares a las listas, pero con la diferencia de que sus elementos no pueden ser modifiados. Para entender mejor su utilidad, vamos a ver un ejemplo basado en  la función **divmod()**, que devuelve tanto el cociente como el resto de una división."
   ]
  },
  {
   "cell_type": "code",
   "execution_count": 54,
   "metadata": {},
   "outputs": [
    {
     "name": "stdout",
     "output_type": "stream",
     "text": [
      "(3, 1)\n",
      "<class 'tuple'>\n"
     ]
    }
   ],
   "source": [
    "xyz = divmod(10,3)\n",
    "print(xyz)\n",
    "print(type(xyz))"
   ]
  },
  {
   "cell_type": "markdown",
   "metadata": {},
   "source": [
    "Divmod devuelve una tupla porque se trata de valores fijos, que no se espera que sean modificados.."
   ]
  },
  {
   "cell_type": "markdown",
   "metadata": {},
   "source": [
    "Para hacer que una variable sea de tipo tupla se puede o bien asignarle ( ) o *tuple( )*."
   ]
  },
  {
   "cell_type": "code",
   "execution_count": 55,
   "metadata": {
    "collapsed": true
   },
   "outputs": [],
   "source": [
    "tup = ()\n",
    "tup2 = tuple()"
   ]
  },
  {
   "cell_type": "markdown",
   "metadata": {},
   "source": [
    "Tambíen se puede asignar directamente con sus valores:"
   ]
  },
  {
   "cell_type": "code",
   "execution_count": 57,
   "metadata": {},
   "outputs": [
    {
     "name": "stdout",
     "output_type": "stream",
     "text": [
      "(4.5, 18.0)\n"
     ]
    }
   ],
   "source": [
    "x = 4.5\n",
    "y = 18.0\n",
    "punto = (x,y)\n",
    "print(punto)"
   ]
  },
  {
   "cell_type": "markdown",
   "metadata": {},
   "source": [
    "Un caso curioso es la creación de tuplas de un solo elemento. \n",
    "Si escribimos por ejemplo x = (66), esto creará la variable x como el valor\n",
    "entero 66, ya que considera que son los paréntesis de una expresión aritmética. En lugar de eso se emplea el truco de poner una coma al final, para avisar de que es una tupla"
   ]
  },
  {
   "cell_type": "code",
   "execution_count": 58,
   "metadata": {},
   "outputs": [
    {
     "name": "stdout",
     "output_type": "stream",
     "text": [
      "(66,)\n"
     ]
    }
   ],
   "source": [
    "v = 66,\n",
    "print(v)"
   ]
  },
  {
   "cell_type": "markdown",
   "metadata": {},
   "source": [
    "Puede pensarse que al fin y al cabo 66 como entero o 66 como tupla da igual, se trata del mismo número. Esto no es cierto porque el comportamiento de operadores como * cambia si se trata de una tupla:"
   ]
  },
  {
   "cell_type": "code",
   "execution_count": 59,
   "metadata": {},
   "outputs": [
    {
     "name": "stdout",
     "output_type": "stream",
     "text": [
      "132\n",
      "(66, 66)\n"
     ]
    }
   ],
   "source": [
    "print(2*66)\n",
    "print(2*(66,))"
   ]
  },
  {
   "cell_type": "markdown",
   "metadata": {},
   "source": [
    "También se pueden crear tuplas a partir de listas:"
   ]
  },
  {
   "cell_type": "code",
   "execution_count": 60,
   "metadata": {
    "scrolled": true
   },
   "outputs": [
    {
     "name": "stdout",
     "output_type": "stream",
     "text": [
      "(1, 2, 3)\n",
      "('H', 'e', 'l', 'l', 'o')\n"
     ]
    }
   ],
   "source": [
    "tup3 = tuple([1,2,3])\n",
    "print(tup3)\n",
    "tup4 = tuple('Hello')\n",
    "print(tup4)"
   ]
  },
  {
   "cell_type": "markdown",
   "metadata": {},
   "source": [
    "Las tuplas siguen la misma forma de indexación y acceso que las listas:"
   ]
  },
  {
   "cell_type": "code",
   "execution_count": 62,
   "metadata": {},
   "outputs": [
    {
     "name": "stdout",
     "output_type": "stream",
     "text": [
      "(1, 2, 3)\n",
      "3\n",
      "2\n",
      "('H', 'e', 'l')\n"
     ]
    }
   ],
   "source": [
    "print(tup3)\n",
    "print(len(tup3))\n",
    "print(tup3[1])\n",
    "tup5 = tup4[:3]\n",
    "print(tup5)"
   ]
  },
  {
   "cell_type": "markdown",
   "metadata": {},
   "source": [
    "### Mapping entre tuplas... o asignación múltiple"
   ]
  },
  {
   "cell_type": "code",
   "execution_count": 67,
   "metadata": {
    "collapsed": true
   },
   "outputs": [],
   "source": [
    "(a,b,c)= ('alpha','beta','gamma') #declaración de 3 variables, a,b y c\n",
    "d,e,f = ('alpha','beta','gamma')\n",
    "g,h,i = 'alpha','beta','gamma'\n"
   ]
  },
  {
   "cell_type": "code",
   "execution_count": 68,
   "metadata": {},
   "outputs": [
    {
     "name": "stdout",
     "output_type": "stream",
     "text": [
      "alpha beta gamma\n",
      "alpha beta gamma\n",
      "alpha beta gamma\n"
     ]
    }
   ],
   "source": [
    "print(a,b,c)\n",
    "print(d,e,f)\n",
    "print(g,h,i)"
   ]
  },
  {
   "cell_type": "code",
   "execution_count": 23,
   "metadata": {},
   "outputs": [
    {
     "name": "stdout",
     "output_type": "stream",
     "text": [
      "('I', 't', ' ', 'i', 's', ' ', 'a', ' ', 'c', 'a', 'p', 'i', 't', 'a', 'l', ' ', 'm', 'i', 's', 't', 'a', 'k', 'e', ' ', 't', 'o', ' ', 't', 'h', 'e', 'o', 'r', 'i', 'z', 'e', ' ', 'b', 'e', 'f', 'o', 'r', 'e', ' ', 'o', 'n', 'e', ' ', 'h', 'a', 's', ' ', 'd', 'a', 't', 'a', ' ', '(', 'S', 'h', 'e', 'r', 'l', 'o', 'c', 'k', ' ', 'H', 'o', 'l', 'm', 'e', 's', ')')\n"
     ]
    }
   ],
   "source": [
    "d = tuple('It is a capital mistake to theorize before one has data (Sherlock Holmes)')\n",
    "print(d)"
   ]
  },
  {
   "cell_type": "markdown",
   "metadata": {},
   "source": [
    "### Funciones predefinidas para tuplas"
   ]
  },
  {
   "cell_type": "markdown",
   "metadata": {},
   "source": [
    "No hay funciones específicas, tenemos las mismas que las ya vistas para las secuencias:\n",
    "\n",
    "La función **count()** indica el númro de veces que un elemento aparece en la tupla."
   ]
  },
  {
   "cell_type": "code",
   "execution_count": 24,
   "metadata": {},
   "outputs": [
    {
     "data": {
      "text/plain": [
       "7"
      ]
     },
     "execution_count": 24,
     "metadata": {},
     "output_type": "execute_result"
    }
   ],
   "source": [
    "d.count('a')"
   ]
  },
  {
   "cell_type": "markdown",
   "metadata": {},
   "source": [
    "Igual que en el caso de las listas, **index()** devuelve la posición o índice de la primera aparición del elemento especificado "
   ]
  },
  {
   "cell_type": "code",
   "execution_count": 73,
   "metadata": {},
   "outputs": [
    {
     "data": {
      "text/plain": [
       "6"
      ]
     },
     "execution_count": 73,
     "metadata": {},
     "output_type": "execute_result"
    }
   ],
   "source": [
    "d.index('a')"
   ]
  },
  {
   "cell_type": "markdown",
   "metadata": {},
   "source": [
    "### Strings"
   ]
  },
  {
   "cell_type": "markdown",
   "metadata": {},
   "source": [
    "Llamamos *strings* a las cadenas de caracteres\n",
    "\n",
    "#### Declaración\n",
    "Se pueden usar comillas simples o dobles, pero recordar utilizar la misma para abrir que para cerrar. También se pueden utilizar 3 comillas para cadenas multilínea"
   ]
  },
  {
   "cell_type": "code",
   "execution_count": 30,
   "metadata": {},
   "outputs": [
    {
     "name": "stdout",
     "output_type": "stream",
     "text": [
      "vivo sin vivir en mí <class 'str'>\n",
      "Vivo sin vivir en mí <class 'str'>\n",
      "Vivo sin vivir en mí\n",
      "y tan alta vida espero\n",
      "que muero porque no muero <class 'str'>\n"
     ]
    }
   ],
   "source": [
    "s0 = 'vivo sin vivir en mí'\n",
    "s1 = \"Vivo sin vivir en mí\"\n",
    "s2 = '''Vivo sin vivir en mí\n",
    "y tan alta vida espero\n",
    "que muero porque no muero'''\n",
    "\n",
    "print(s0 , type(s0))\n",
    "print(s1, type(s1))\n",
    "print(s2, type(s2))"
   ]
  },
  {
   "cell_type": "markdown",
   "metadata": {},
   "source": [
    "#### Funciones de búsqueda y formato\n",
    "\n",
    "Vamos a ver algunas operaciones básicas con cadenas de caracteres. Muchas de ellas nos aparecieron cuando hablemos de listas, ya que los strings son realmente listas de caracteres, así nos sirve de repaso.\n",
    "\n",
    "Comenzando buscando la posición en la que aparece una subcadena con **find**. Sustituye a **index** que como vimos falla si el elemento buscado no existe. En realidad tiene dos diferencias\n",
    "\n",
    "\n",
    "1.- No falla si el elemento no existe, sino que devuelve -1<br>\n",
    "2.- Permite buscar una secuencia de elementos, no solo 1"
   ]
  },
  {
   "cell_type": "code",
   "execution_count": null,
   "metadata": {},
   "outputs": [],
   "source": [
    "print(s0)\n",
    "print(s0.find('in vi'))\n",
    "print(s0.find('am'))"
   ]
  },
  {
   "cell_type": "markdown",
   "metadata": {},
   "source": [
    "También se puede especificar entre qué posiciones buscar (recordar que la primera posición es la 0):"
   ]
  },
  {
   "cell_type": "code",
   "execution_count": null,
   "metadata": {},
   "outputs": [],
   "source": [
    "print(s0.find('i',4))   # a partir de la 4\n",
    "print(s0.find('i',1,3)) # entre la 1 y la 3"
   ]
  },
  {
   "cell_type": "markdown",
   "metadata": {},
   "source": [
    "**capitalize( )** convierte a mayúscula la primera letra"
   ]
  },
  {
   "cell_type": "code",
   "execution_count": 31,
   "metadata": {},
   "outputs": [
    {
     "name": "stdout",
     "output_type": "stream",
     "text": [
      "vivo sin vivir en mí\n",
      "Vivo sin vivir en mí\n"
     ]
    }
   ],
   "source": [
    "print(s0)\n",
    "print(s0.capitalize())"
   ]
  },
  {
   "cell_type": "markdown",
   "metadata": {},
   "source": [
    "**lower()** y **upper()** convierten todo el texto enn minúsculas y en mayúsculas, respectivamente:"
   ]
  },
  {
   "cell_type": "code",
   "execution_count": null,
   "metadata": {},
   "outputs": [],
   "source": [
    "print(s0.upper())"
   ]
  },
  {
   "cell_type": "markdown",
   "metadata": {},
   "source": [
    "**center( )** alinea el texto dentro de los espacios indicados"
   ]
  },
  {
   "cell_type": "code",
   "execution_count": 34,
   "metadata": {},
   "outputs": [
    {
     "name": "stdout",
     "output_type": "stream",
     "text": [
      "                         vivo sin vivir en mí                         \n"
     ]
    }
   ],
   "source": [
    "centrado = s0.center(70)\n",
    "print(centrado)"
   ]
  },
  {
   "cell_type": "markdown",
   "metadata": {},
   "source": [
    "En lugar de espacios, se puede rellanar con otro carácter, como '-'"
   ]
  },
  {
   "cell_type": "code",
   "execution_count": 35,
   "metadata": {},
   "outputs": [
    {
     "data": {
      "text/plain": [
       "'-------------------------vivo sin vivir en mí-------------------------'"
      ]
     },
     "execution_count": 35,
     "metadata": {},
     "output_type": "execute_result"
    }
   ],
   "source": [
    "s0.center(70,'-')"
   ]
  },
  {
   "cell_type": "markdown",
   "metadata": {},
   "source": [
    "Para quitar caracteres sobrantes podemos usar **strip()**, que elimina \n",
    "el caracter indicado (blanco si no se dice nada) de ambos extremos de la \n",
    "cadena. Si solo queremos quitarlos por un lado, podemos usar **rstrip()**\n",
    "o **lstrip()**"
   ]
  },
  {
   "cell_type": "code",
   "execution_count": 37,
   "metadata": {},
   "outputs": [
    {
     "name": "stdout",
     "output_type": "stream",
     "text": [
      "vivo sin vivir en mí.\n",
      "Big Data\n"
     ]
    }
   ],
   "source": [
    "print(centrado.strip(), end=\"\")\n",
    "print(\".\")\n",
    "s1 = 'Big'\n",
    "s2 = 'Data'\n",
    "print( s1 +' '+ s2)"
   ]
  },
  {
   "cell_type": "markdown",
   "metadata": {},
   "source": [
    "print utiliza códigos especiales para mostrar valores. Por ejemplo **%s** Se usa en print para representar una cadena"
   ]
  },
  {
   "cell_type": "code",
   "execution_count": 38,
   "metadata": {},
   "outputs": [
    {
     "name": "stdout",
     "output_type": "stream",
     "text": [
      "Hello Big\n"
     ]
    }
   ],
   "source": [
    "print(\"Hello %s\" % s1)"
   ]
  },
  {
   "cell_type": "markdown",
   "metadata": {},
   "source": [
    "De forma análoga podemos usar otros símbolos\n",
    "\n",
    "    - %s -> string\n",
    "    - %d -> Integer\n",
    "    - %f -> Float\n",
    "    - %o -> Octal\n",
    "    - %x -> Hexadecimal\n",
    "    - %e -> exponential\n",
    "    \n",
    "Esto permite hacer conversiones dentro del print"
   ]
  },
  {
   "cell_type": "code",
   "execution_count": 39,
   "metadata": {},
   "outputs": [
    {
     "name": "stdout",
     "output_type": "stream",
     "text": [
      "¿Cómo te llamas? bertoldo\n",
      "¿En qué año naciste? 2007\n",
      "Hola bertoldo! Tu edad es 10 o 11\n"
     ]
    }
   ],
   "source": [
    "nombre = input('¿Cómo te llamas? ')\n",
    "snacido = input('¿En qué año naciste? ')\n",
    "nacido = int(snacido)\n",
    "actual = 2018\n",
    "\n",
    "print(\"Hola %s! Tu edad es %d o %d\"%(nombre,actual-nacido-1,actual-nacido))\n"
   ]
  },
  {
   "cell_type": "markdown",
   "metadata": {},
   "source": [
    "Normalmente es más fácil usar texto formateado:"
   ]
  },
  {
   "cell_type": "code",
   "execution_count": 40,
   "metadata": {},
   "outputs": [
    {
     "name": "stdout",
     "output_type": "stream",
     "text": [
      "¿Cómo te llamas? bertoldo\n",
      "¿En qué año naciste? 1999\n",
      "Hola bertoldoTu edad es 18 o 19\n"
     ]
    }
   ],
   "source": [
    "nombre = input('¿Cómo te llamas? ')\n",
    "snacido = input('¿En qué año naciste? ')\n",
    "nacido = int(snacido)\n",
    "actual = 2018\n",
    "\n",
    "print(f\"Hola {nombre}! Tu edad es {actual-nacido-1} o {actual-nacido}\")\n"
   ]
  },
  {
   "cell_type": "markdown",
   "metadata": {},
   "source": [
    "Sin embargo, el % resulta muy útil para formatear números reales limitando por ejemplo sus posiciones decimales"
   ]
  },
  {
   "cell_type": "code",
   "execution_count": 41,
   "metadata": {},
   "outputs": [
    {
     "name": "stdout",
     "output_type": "stream",
     "text": [
      "The value of x is 12.346\n"
     ]
    }
   ],
   "source": [
    "x = 12.3456789\n",
    "print('The value of x is %2.3f' %x)"
   ]
  },
  {
   "cell_type": "markdown",
   "metadata": {},
   "source": [
    "La función **replace( )** reemplaza un substring por otro"
   ]
  },
  {
   "cell_type": "code",
   "execution_count": 42,
   "metadata": {},
   "outputs": [
    {
     "name": "stdout",
     "output_type": "stream",
     "text": [
      "profanación\n",
      "aayyaayyaa\n"
     ]
    }
   ],
   "source": [
    "cadena = 'programación'\n",
    "print(cadena.replace('gram','fan'))\n",
    "cadena = 'xxyyxxyyxx'\n",
    "print(cadena.replace('xx','aa'))"
   ]
  },
  {
   "cell_type": "markdown",
   "metadata": {},
   "source": [
    "### Ejercicio\n",
    "\n",
    "Vamos a cargar una página de la wikipedia para hacer unas pruebas"
   ]
  },
  {
   "cell_type": "code",
   "execution_count": 44,
   "metadata": {},
   "outputs": [
    {
     "name": "stdout",
     "output_type": "stream",
     "text": [
      "Collecting wikipedia\n",
      "  Using cached wikipedia-1.4.0.tar.gz (27 kB)\n",
      "Requirement already satisfied, skipping upgrade: beautifulsoup4 in c:\\users\\rafa\\anaconda3\\lib\\site-packages (from wikipedia) (4.9.3)\n",
      "Requirement already satisfied, skipping upgrade: requests<3.0.0,>=2.0.0 in c:\\users\\rafa\\anaconda3\\lib\\site-packages (from wikipedia) (2.24.0)\n",
      "Requirement already satisfied, skipping upgrade: soupsieve>1.2; python_version >= \"3.0\" in c:\\users\\rafa\\anaconda3\\lib\\site-packages (from beautifulsoup4->wikipedia) (2.0.1)\n",
      "Requirement already satisfied, skipping upgrade: certifi>=2017.4.17 in c:\\users\\rafa\\anaconda3\\lib\\site-packages (from requests<3.0.0,>=2.0.0->wikipedia) (2020.6.20)\n",
      "Requirement already satisfied, skipping upgrade: chardet<4,>=3.0.2 in c:\\users\\rafa\\anaconda3\\lib\\site-packages (from requests<3.0.0,>=2.0.0->wikipedia) (3.0.4)\n",
      "Requirement already satisfied, skipping upgrade: idna<3,>=2.5 in c:\\users\\rafa\\anaconda3\\lib\\site-packages (from requests<3.0.0,>=2.0.0->wikipedia) (2.10)\n",
      "Requirement already satisfied, skipping upgrade: urllib3!=1.25.0,!=1.25.1,<1.26,>=1.21.1 in c:\\users\\rafa\\anaconda3\\lib\\site-packages (from requests<3.0.0,>=2.0.0->wikipedia) (1.25.11)\n",
      "Building wheels for collected packages: wikipedia\n",
      "  Building wheel for wikipedia (setup.py): started\n",
      "  Building wheel for wikipedia (setup.py): finished with status 'done'\n",
      "  Created wheel for wikipedia: filename=wikipedia-1.4.0-py3-none-any.whl size=11689 sha256=0c9de6fba2d410f3e0c474023608464bb323f057e0d37dfb078177cedfd0d20d\n",
      "  Stored in directory: c:\\users\\rafa\\appdata\\local\\pip\\cache\\wheels\\07\\93\\05\\72c05349177dca2e0ba31a33ba4f7907606f7ddef303517c6a\n",
      "Successfully built wikipedia\n",
      "Installing collected packages: wikipedia\n",
      "Successfully installed wikipedia-1.4.0\n"
     ]
    }
   ],
   "source": [
    "# esto solo hace falta la primera vez si el código siguiente da error\n",
    "import sys\n",
    "# redis\n",
    "try:\n",
    "    import wikipedia\n",
    "    print(\"wikipedia está en el sistema!\")\n",
    "except ImportError as e:\n",
    "    !{sys.executable} -m pip install --upgrade --user wikipedia\n"
   ]
  },
  {
   "cell_type": "code",
   "execution_count": 45,
   "metadata": {},
   "outputs": [
    {
     "name": "stdout",
     "output_type": "stream",
     "text": [
      "El Banco de España es el banco central de España. Fundado en Madrid en 1782 por Carlos III, hoy el banco es miembro del Sistema Europeo de Bancos Centrales y también es la autoridad nacional competente de España para la supervisión bancaria dentro del Mecanismo Único de Supervisión. Su actividad está regulada por la Ley de Autonomía del Banco de España.\n",
      "Su sede principal, construida entre 1884 y 1891, está situada en la confluencia de la calle Alcalá con el paseo del Prado, con vistas a la plaza de Cibeles. En la capital cuenta además con otra sede en el 522 de la calle Alcalá y quince sucursales repartidas por todo el territorio nacional. \n",
      "\n",
      "\n",
      "== Historia ==\n",
      "El Banco de España tiene una larga tradición histórica, que hunde sus raíces en el siglo XVIII.\n",
      "\n",
      "\n",
      "=== El Banco de San Carlos ===\n",
      "En 1782, el rey Carlos III creó en Madrid una sociedad por acciones, cuya propiedad correspondía a instituciones y sujetos particulares. Los principales gobernantes ilustrados de la época, como el primer secretario de Estado, el conde de Floridablanca, el secretario de Estado de Hacienda, Miguel de Múzquiz y Goyeneche, y el fiscal del Consejo de Castilla, Pedro Rodríguez de Campomanes, apoyaron la creación de este instituto bancario. Aunque no era un banco público, gozaba de la protección de la Corona, y mantenía estrechos lazos financieros con el Estado. Se llamó Banco Nacional de San Carlos.\n",
      "El principal objeto del Banco Nacional de San Carlos era la reducción o descuento de vales reales a metálico. Los vales reales eran una modalidad de deuda pública, cuyos títulos, además de proporcionar una rentabilidad determinada a su poseedor, tenían capacidad liberatoria en grandes pagos, por lo que son considerados la primera manifestación de papel moneda existente en España. El creador de los vales reales fue Francisco Cabarrús, un comerciante ilustrado de origen francés, quien sería asimismo fundador del Banco Nacional de San Carlos y miembro nato de su dirección. En 1789 recibiría de Carlos IV el título de conde de Cabarrús. El Banco Nacional de San Carlos tenía también, entre otros cometidos, el descuento de letras de cambio y efectos de comercio, los préstamos con garantía y la financiación de actividades del Estado.\n",
      "Al año siguiente de su institución empezó a emitir los primeros billetes llamados «cédulas». Estas cédulas garantizaban un inmediato reembolso en metálico, reembolso que efectuaría el propio banco emisor; se canjeaban al portador sin producir ningún interés, lo cual les diferenciaba de los vales reales. Este carácter de cédula o billete duró hasta la guerra civil española, por eso todos los billetes llevaban la leyenda «El Banco de España pagará al portador...». La frase sobrevivió hasta 1976, pero había perdido valor legal desde la ley de noviembre de 1939.\n",
      "Sin embargo, los billetes en cuestión, las cédulas, no tuvieron ningún éxito, debido a la abundancia de moneda de plata circulante en España a finales del siglo XVIII y comienzos del XIX y a la propia existencia de los vales reales. En 1790, Francisco Cabarrús y los restantes directores fueron relevados de sus cargos, debido a la aparición de pérdidas causadas en determinadas competencias del Banco de San Carlos, y bajo la sospecha de irregularidades. Cabarrús fue procesado y encarcelado preventivamente. Al cabo de seis años se sobreseyó la causa y Cabarrús quedó reintegrado a su puesto, aunque rodeado por un equipo directivo diferente y ajeno a su voluntad.\n",
      "Entre los años 1793 y 1814, España se vio implicada en una serie de guerras que arrastraron al Banco y lo situaron en serias dificultades, causadas principalmente por la considerable deuda que el Tesoro había contraído con el Banco a lo largo de esos veinte años de conflictos. Finalmente, en el año de 1829 se encontró una solución para dicho débito, gracias al ministro de Hacienda del rey Fernando VII, Luis López Ballesteros, quien además de tomar ciertas medidas financieras innovadoras, concibió la idea de dotar al Banco de San Carlos con un fondo de 40 millones de reales.\n",
      "Con esta ayuda los accionistas, decidieron fundar una nueva institución con el nombre de Banco Español de San Fernando (por ser rey Fernando VII). Este nuevo banco consiguió la facultad de emitir billetes en régimen de monopolio en Madrid. A lo largo de quince años mantuvo una continua actividad bancaria en el ámbito de la capital de España, con especial dedicación a las necesidades financieras del tesoro, en unos años en que afianzaba el naciente régimen liberal, y especialmente durante la primera guerra carlista.\n",
      "En 1844, el Gobierno autorizó la apertura de un nuevo banco emisor en Madrid, el Banco de Isabel II, cuyo principal inspirador fue el financiero José Salamanca y Mayol. En el mismo año fue aprobada la creación de un banco emisor en Barcelona y en 1846 la de otro similar en Cádiz. Cada uno de estos bancos tenía facultad de emitir sus propios billetes y de ponerlos en circulación en sus respectivos ámbitos locales, además de desenvolver sus restantes actividades crediticias, salvo el caso de Madrid, donde compitieron las dos entidades existentes en ella.\n",
      "Al cabo de tres años, y en plena crisis financiera internacional de 1847, el Gobierno decidió resolver las dificultades por las que atravesaban los dos emisores de Madrid, principalmente el Banco de Isabel II, mediante la fusión de ambos. La entidad resultante de dicho proceso conservó el nombre de Banco Español de San Fernando. Las consecuencias de la crisis fueron duraderas, y tras diversos cambios legales, fue nombrado en 1849 gobernador del Banco Español de San Fernando el exministro de Hacienda Ramón Santillán. Santillán llevó a cabo, entre 1851 y 1856, una ejemplar labor de saneamiento financiero dentro de la entidad.\n",
      "\n",
      "\n",
      "=== Nacimiento del Banco de España ===\n",
      "Tras la Revolución de 1854, la legislación bancaria de 1856, de inspiración netamente liberal, permitió, entre otras modificaciones, que el Banco de San Fernando pasara a llamarse Banco de España, cuyo primer gobernador siguió siendo el del Banco de San Fernando, Ramón Santillán. A pesar de la denominación de Banco de España, esta institución solo operaba entonces en Madrid, Valencia y Alicante, ciudades en que abrió sucursales en 1858. Otras diecinueve localidades españolas, entre ellas los principales centros industriales y mercantiles, como Barcelona, Bilbao, Málaga, Sevilla, Zaragoza, Valladolid o Santander, contaron con sus propios bancos de emisión y descuentos dentro del período 1856-1874.\n",
      "El 19 de marzo de 1874 las acuciantes y forzosas necesidades financieras causadas por la tercera guerra carlista y por la guerra de los Diez Años, simultánea a la anterior, obligaron al entonces ministro de Hacienda en el Gobierno de la Primera República, José Echegaray, decretar la fusión de todos los bancos emisores locales con el Banco de España. No obstante, a estos últimos se les dejaba la opción de continuar con su actividad comercial y crediticia, aunque sin facultad de emitir billetes, cuyo monopolio en todo el territorio de la nación, correspondería, en adelante, al Banco de España.[7]​ A dicha posibilidad solo se acogieron los Bancos de Barcelona, Bilbao, Reus, Santander y Tarragona. A cambio del privilegio emisor, el Banco de España concedió un crédito de 150 millones de pesetas.\n",
      "\n",
      "A partir de entonces, el Banco de España estableció una densa red de sucursales en toda la nación, comenzando por los antiguos de bancos emisores absorbidos. A finales del siglo XIX, había más de cincuenta sucursales del banco en todas las capitales de provincia y ciudades de importancia mercantil. Es preciso subrayar que, en esta época, el Banco de España –que seguía siendo una sociedad por acciones de propiedad privada, aunque el gobernador y los subgobernadores eran nombrados y aprobados respectivamente por el Gobierno- simultaneaba la emisión de billetes y el crédito al tesoro público con actividades de préstamos y descuentos con particulares a través de sus oficinas en las diferentes ciudades españolas. Con la Ley de Ordenación Bancaria de 1921, el Banco de España se consagró como banco de bancos, o banco central, desarrollando –de acuerdo con el Gobierno- nuevos instrumentos de política monetaria. Tras la guerra civil española, el Banco de España perdió competencias y autonomía a favor del Ministerio de Hacienda. Entre dichos cambios los más importantes fueron:\n",
      "\n",
      "Con las reservas españolas (2202 millones de pesetas-oro) situadas en el Banco de España en Madrid se pagaron al contado a Francia (616 millones) y a Rusia (1586 millones) a fin de obtener armas para el bando republicano, mientras que la España sublevada se financiaba armamentísticamente principalmente a través de créditos internacionales (aunque podemos citar los ~700 millones de dólares-oro que se pagaron a Alemania o las 5500 libras esterlinas-oro que se pagaron a Italia). El petróleo vino de los Estados Unidos en beneficio de los sublevados, mientras que Rusia y México mandaron al bando republicano. Finalmente, en septiembre de 1936 los sublevados crearon su propio Banco de España con sede en Burgos.\n",
      "En 1939 se creó el Instituto Español de Moneda Extranjera, que tuvo a su cargo, en exclusiva, las competencias de la definición del tipo de cambio oficial de la peseta y el cambio de moneda extranjera por española, y viceversa, dentro del territorio nacional.\n",
      "A partir de la Ley de Ordenación Bancaria de 1946, la política monetaria pasó a ser competencia del Gobierno, a quien correspondería, entre otras funciones, la fijación de tipos de interés y descuento, tanto en operaciones de activo como de pasivo, para toda la banca española.\n",
      "Asimismo aumentó el número de consejeros del Banco de España nombrados por el Estado, que pasó de tres –como estaba vigente desde 1931- a cinco. También se dispuso el recorte de dividendos, a favor del Estado.\n",
      "En ese mismo año, el Banco de España perdió la facultad de elegir los fabricantes de billetes, de los que se haría cargo, en adelante, la Fábrica Nacional de Moneda y Timbre.El Banco de España siguió su andadura, aún como entidad privada, en el contexto de esta política autárquica, hasta 1962, en que una nueva Ley de Bases de Ordenación del Crédito y la Banca, más acorde en su contenido con la liberalización experimentada por la economía española, a raíz del Plan de Estabilización de 1959, devolvió algunas de sus competencias al Banco de España. Dentro de estos cambios se produjo la nacionalización del Banco de España y el cese de su actividad de banca privada.\n",
      "De aquí pasamos a otras fechas clave en la historia del banco:\n",
      "\n",
      "1980: Ley de Órganos Rectores del Banco de España.\n",
      "1994: Ley de Autonomía, siguiendo las directrices del Tratado de Maastricht.Estas dos leyes han otorgado al banco una gran libertad y flexibilidad gubernamental, sobre todo en lo referente a la política monetaria. En la actualidad el Banco de España está integrado en el Sistema Europeo de Bancos Centrales (desde 1998).\n",
      "\n",
      "\n",
      "=== Crisis internacional de 2008 ===\n",
      "La crisis internacional tuvo un impacto muy significativo en la economía española. La práctica desaparición de algunos de los principales mercados de capitales mayoristas desde 2007 a 2008, como el interbancario o el de titulizaciones, dificultó la normal financiación de las entidades de crédito españolas, que en aquellos momentos presentaban cuantiosas necesidades de financiación exterior.[8]​\n",
      "El papel del Banco de España en la detección y tratamiento de las crisis financiera, cuya consecuencia principal ha sido una factura de dinero público superior a los 40 000 millones, ha sido objeto de controversia y acusaciones cruzadas entre los diferentes partidos políticos desde que se formó el gobierno de Mariano Rajoy a finales de diciembre de 2011.[9]​\n",
      "Existe constancia de que en fechas cruciales de la crisis, concretamente en 2008, la supervisión del Banco de España modificó las normas contables exigibles a las instituciones financieras. Estos cambios normativos tuvieron como consecuencia aliviar y diferir el apunte en los balances bancarios del crecimiento excesivo de la morosidad causado por la crisis, sobre todo en lo que se refiere a la refinanciación de préstamos. Dicho de otro modo, gracias a las instrucciones dadas por el Banco de España en el momento de mayor crudeza de la crisis, las entidades de crédito habrían podido disimular el efecto destructivo de la morosidad y diferir las correcciones necesarias.[9]​\n",
      "La estrategia adoptada por el Banco de España para hacer frente a la crisis buscaba evitar la quiebra en cadena de un buen número de instituciones financieras. Esa estrategia perseguía, utilizando recursos privados y públicos y cambios legales e institucionales, evitar la contaminación de todo el sector bancario español, haciendo posible su posterior reestructuración, eliminando el riesgo de que se produjera una crisis de confianza, tanto en los mercados como entre los depositantes.[8]​\n",
      "Primaron las soluciones privadas mediante el saneamiento del balance de las entidades con sus propios recursos, a través de operaciones corporativas, acudiendo al propio sector a través del FGD y, solo en última instancia, mediante la inyección de fondos públicos, incluida la ayuda europea asociada al programa de asistencia financiera firmado en 2012. No hay que olvidar que entre 2008 y 2013 las entidades de crédito españolas realizaron saneamientos por un total cercano a los 270 000 millones de euros, asumidos en su mayor parte por los accionistas de esas entidades. Hay que subrayar que los depósitos de clientes no sufrieron pérdida alguna.[8]​\n",
      "\n",
      "\n",
      "== Estatus legal ==\n",
      "De acuerdo con lo previsto en la Ley de Autonomía del Banco de España, dicha institución es una entidad de derecho público con personalidad jurídica propia y plena capacidad pública y privada, que actuará con autonomía respecto a la Administración General del Estado en el desempeño de sus funciones, con arreglo a lo previsto en el ordenamiento jurídico.[10]​\n",
      "Exceptuando los casos en que actúe en el ejercicio de las potestades administrativas que le confiere la ley, el Banco de España está sometido al ordenamiento jurídico privado.[10]​\n",
      "Además, la Ley de Autonomía establece que el Banco de España es parte integrante del Sistema Europeo de Bancos Centrales (SEBC) y, como tal, está sometido a las disposiciones del Tratado de la Comunidad Europea y a los Estatutos del SEBC. Así, en el ejercicio de las funciones que se derivan de su condición de parte integrante del SEBC, el Banco de España se ajusta a las orientaciones e instrucciones del Banco Central Europeo.[10]​\n",
      "De acuerdo con lo previsto en el artículo 7 de la citada Ley de Autonomía, en el ejercicio de las funciones en las que el Banco de España participa como integrante del SEBC, ni el Gobierno, ni ningún otro órgano nacional o comunitario podrá dar instrucciones al Banco de España ni este podrá recabarlas o aceptarlas. Este artículo recoge el contenido del artículo 108 de Tratado Constitutivo de la Comunidad Europea.[10]​\n",
      "\n",
      "\n",
      "== Órganos rectores ==\n",
      "Los órganos rectores del Banco de España son:\n",
      "\n",
      "\n",
      "=== El gobernador ===\n",
      "\n",
      "El gobernador del Banco de España será nombrado por el rey a propuesta del presidente del Gobierno de España, entre quienes sean españoles y tengan reconocida competencia en asuntos monetarios o bancarios. Con carácter previo al nombramiento del gobernador, el ministro de Economía y Competitividad comparecerá en los términos previstos en el Reglamento del Congreso de los Diputados ante la comisión competente, para informar sobre el candidato propuesto. Su mandato tiene una duración de seis años, sin posible renovación.\n",
      "Corresponde al gobernador del Banco de España:\n",
      "\n",
      "Dirigir el banco y presidir el Consejo de Gobierno y la Comisión Ejecutiva.\n",
      "Ostentar la representación legal del banco a todos los efectos y, en especial, ante los tribunales de justicia, así como autorizar los contratos y documentos y realizar las demás actividades que resulten precisas para el desempeño de las funciones encomendadas al Banco de España.\n",
      "Representar al Banco de España en las instituciones y organismos internacionales en los que esté prevista su participación.\n",
      "Ostentar la condición de miembro del Consejo de Gobierno y del Consejo General del Banco Central Europeo.\n",
      "\n",
      "\n",
      "=== El subgobernador ===\n",
      "El subgobernador será designado por el Gobierno, a propuesta del gobernador, y deberá reunir sus mismas condiciones. El subgobernador sustituirá al gobernador en los casos de vacante, ausencia o enfermedad, en cuanto al ejercicio de sus atribuciones de dirección superior y representación del banco. Tendrá, además, las atribuciones que se fijen en el Reglamento Interno del Banco de España, así como las que le delegue el gobernador. Su mandato tiene una duración máxima de seis años, sin posible renovación.\n",
      "La condición de subgobernador implica ser consejero nato en la Comisión Nacional del Mercado de Valores, presidente de la comisión gestora del Fondo de Garantía de Depósitos, vicepresidente de la comisión rectora del Fondo de Reestructuración Ordenada Bancaria y, por último, miembro del consejo de supervisión del Mecanismo Único de Supervisión del Banco Central Europeo.\n",
      "\n",
      "\n",
      "=== La Comisión Ejecutiva ===\n",
      "La Comisión Ejecutiva estará formada por:\n",
      "\n",
      "El gobernador, que actuará como presidente.\n",
      "El subgobernador.\n",
      "Dos consejeros.Asistirán a sus sesiones, con voz y sin voto, los directores generales del Banco de España. Será secretario, con voz y sin voto, el secretario general del Banco de España.\n",
      "\n",
      "\n",
      "=== El Consejo de Gobierno ===\n",
      "Los seis consejeros serán designados por el Gobierno, a propuesta del ministro de Economía y Competitividad, oído el gobernador del Banco de España. Deberán ser españoles, con reconocida competencia en el campo de la economía o el derecho. Los dos consejeros miembros de la Comisión Ejecutiva se designarán por el Consejo de Gobierno, a propuesta del gobernador, de entre sus miembros no natos. El Consejo de Gobierno está formado por:\n",
      "\n",
      "El gobernador.\n",
      "El subgobernador.\n",
      "Seis consejeros.\n",
      "El secretario general del Tesoro y Financiación Internacional.\n",
      "El vicepresidente de la Comisión Nacional del Mercado de Valores.Asisten al Consejo los directores generales del banco, con voz y sin voto. También asistirá un representante del personal del banco, elegido en la forma que establezca el reglamento interno del banco, con voz y sin voto.\n",
      "El ministro de Economía y Competitividad o el secretario de Estado de Economía podrán asistir, con voz y sin voto, a las reuniones del Consejo cuando lo juzguen preciso a la vista de la especial trascendencia de las materias que vayan a considerarse. También podrán someter una moción a la deliberación del Consejo de Gobierno.\n",
      "El Consejo de Gobierno tendrá como secretario, con voz y sin voto, al secretario general del Banco de España.\n",
      "Tras los últimos nombramientos acaecidos el 28 de septiembre de 2018 seis de los diez miembros del consejo de la institución son mujeres.[11]​\n",
      "\n",
      "\n",
      "== Funciones ==\n",
      "Desde el 1 de enero de 1999, el Banco de España participa en el desarrollo de las siguientes funciones básicas atribuidas al Sistema Europeo de Bancos Centrales:[12]​\n",
      "\n",
      "Definir y ejecutar la política monetaria de la zona del euro, con el objeto de mantener la estabilidad de precios en el conjunto de dicha zona.\n",
      "Realizar las operaciones de cambio de divisas que sean coherentes con las disposiciones del artículo 111 del Tratado de la Unión Europea.\n",
      "Poseer y gestionar las reservas oficiales de divisas del Estado.\n",
      "Promover el buen funcionamiento de los sistemas de pago en la zona del euro.\n",
      "Emitir los billetes de curso legal de acuerdo a las decisiones tomadas por el Consejo de Gobierno del Banco Central Europeo (BCE)\n",
      "Las demás funciones que se deriven de su condición de parte integrante del Sistema Europeo de Bancos Centrales.El Banco de España ejercerá, además, las siguientes funciones:\n",
      "\n",
      "Poseer y gestionar las reservas de divisas y metales preciosos no transferidas al Banco Central Europeo.\n",
      "Promover el buen funcionamiento y estabilidad del sistema financiero y, sin perjuicio de las funciones del Banco Central Europeo, de los sistemas de pago nacionales.\n",
      "Supervisar la solvencia y el cumplimiento de la normativa específica de las entidades de crédito, otras entidades y mercados financieros cuya supervisión le ha sido atribuida.\n",
      "Poner en circulación la moneda metálica y desempeñar, por cuenta del Estado, las demás funciones que se le encomienden respecto a ella.\n",
      "Prestar los servicios de tesorería y agente financiero de la Deuda Pública.\n",
      "Asesorar al Gobierno, así como realizar los informes y estudios que resulten procedentes.\n",
      "Elaborar y publicar indicadores económicos y estadísticas relacionadas con sus funciones y asistir al BCE en la recopilación de la información estadística necesaria para el cumplimiento de las funciones del Sistema Europeo de Bancos Centrales.\n",
      "Ejercer las demás competencias que la legislación le atribuya.\n",
      "\n",
      "\n",
      "=== Billetes y monedas ===\n",
      "\n",
      "El 1 de enero de 2002, el euro fue puesto en circulación y reemplazó a los billetes y monedas nacionales. El Consejo de Gobierno del Banco Central Europeo (BCE) decide el volumen de billetes en euros que se emiten cada año y aprueba el valor total de las monedas que se emitirán por cada país. La puesta en circulación de billetes y monedas es responsabilidad de los bancos centrales nacionales.\n",
      "El Tratado de la Comunidad Europea otorga al Banco Central Europeo (BCE), desde el 1 de enero de 1999, el derecho exclusivo de aprobar el volumen de emisión de moneda metálica que corresponde a los Estados miembros. En España, la fabricación de monedas en euros la realiza la Fábrica Nacional de Moneda y Timbre-Real Casa de la Moneda (FNMT) y es el Banco de España el que, en nombre del Estado español, pone en circulación y retira de ella las monedas en euros. El número de monedas en euros con la cara nacional española fabricadas para el lanzamiento del euro fue de 7.055 millones.\n",
      "El canje de pesetas por euros en el Banco de España se puede hacer hasta el 30 de junio de 2021 y tiene carácter gratuito. Como norma general son canjeables los billetes en pesetas emitidos a partir de 1939. Los emitidos entre 1936 y 1939 deben ser examinados por los expertos del Banco de España para determinar su valor de canje. En cuanto a las monedas, son canjeables únicamente las correspondientes a la última acuñación, que fueron puestas en circulación en el año 1997, así como todas las monedas conmemorativas de 2000 pesetas. Se denegará el canje de aquellas monedas en pesetas que hayan sufrido una alteración derivada de un proceso industrial o mecánico.\n",
      "\n",
      "\n",
      "=== La Central de Información de Riesgos ===\n",
      "La Central de Información de Riesgos (CIR) es un servicio público que gestiona una base de datos en la que constan, prácticamente, todos los préstamos, créditos, avales, y riesgos en general que las entidades financieras tienen con sus clientes.[13]​ Para la adecuada evaluación de la situación de empleo, ingresos, patrimonial y financiera del cliente, las entidades financieras consultarán el historial crediticio del mismo, pudiendo acudir para ello a esta división del Banco de España. Las entidades tienen que declarar mensualmente a la Central de Información de Riesgos (CIR) la práctica totalidad (hay algunas excepciones) de sus riesgos de crédito y los titulares a quienes corresponden, incluyendo los datos, características y circunstancias más significativas.\n",
      "\n",
      "\n",
      "=== Supervisión de la solvencia de las entidades ===\n",
      "El Banco de España supervisa la solvencia y el cumplimiento de la normativa específica de los bancos, las cajas de ahorros, las cooperativas de crédito, las sucursales de entidades de crédito extranjeras, los establecimientos financieros de crédito, las entidades emisoras de dinero electrónico, las sociedades de garantía recíproca y de reafianzamiento, los establecimientos de cambio de moneda y las sociedades de tasación.[14]​ En el caso de las sucursales de entidades de países de la Unión Europea (UE), sus facultades se limitan al control de la liquidez de la sucursal y del cumplimiento de las normas de interés general.\n",
      "El modelo de supervisión que se aplica se compone de cuatro elementos principales:\n",
      "\n",
      "Una regulación efectiva y prudente, que incluye tanto normas de acceso a la actividad como de ejercicio de la actividad.\n",
      "Un sistema de supervisión continuada de las entidades, integrado por la recepción de información periódica, el análisis a distancia y las inspecciones in situ.\n",
      "Un conjunto de medidas de carácter corrector (formulación de requerimientos y recomendaciones, aprobación de los planes de saneamiento, intervención y sustitución de administradores).\n",
      "Un régimen disciplinario y sancionador que puede afectar tanto a las entidades como a sus administradores.En el desarrollo de su función, el Banco de España colabora estrechamente con las demás autoridades supervisoras nacionales y las autoridades autonómicas con competencias en el área de la supervisión financiera. También mantiene una estrecha colaboración con las autoridades supervisoras extranjeras y participa activamente en todos los foros nacionales e internacionales de supervisión.\n",
      "Dentro de sus funciones de supervisión el Banco de España intervino el día 10 de marzo de 2015 el Banco Madrid.\n",
      "\n",
      "\n",
      "== Servicios ==\n",
      "El Banco de España en Madrid opera con entidades de crédito y ofrece los siguientes servicios al público:\n",
      "\n",
      "Operaciones de canje de pesetas por euros.\n",
      "Recogida de billetes y monedas falsos.\n",
      "Canje de billetes deteriorados.\n",
      "Suscripción de deuda pública.\n",
      "Solicitud de información de la Central de Información de Riesgos (CIR).\n",
      "Presentación, ante el Departamento de Conducta de Mercado y Reclamaciones, de quejas y consultas relativas a los servicios bancarios que prestan las entidades de crédito.Algunos servicios se encuentran ubicados en C/ Alcalá, 522, 28027 Madrid.\n",
      "\n",
      "\n",
      "== Sedes ==\n",
      "\n",
      "\n",
      "=== Sede principal ===\n",
      "\n",
      "El Banco de España contó con diversos emplazamientos en Madrid, a lo largo del siglo XIX. El actual edificio del Banco de España fue construido con el objetivo de proporcionar al Banco Nacional una sede más acorde con la importancia de sus funciones, como era la emisión única de monedas y billetes para todo el territorio español.\n",
      "El actual edificio se encuentra en la plaza de Cibeles, lugar donde se unen las calles de Alcalá y del paseo del Prado. En el momento de su construcción, el edificio se situó sobre un amplio solar formado por las antiguas parcelas del palacio del Marqués de Alcañices, Duque de Sesto, y algunos terrenos anexos, entre ellos, el correspondiente a la capilla de San Fermín de los Navarros, al jardín de la Escuela de Ingenieros de Caminos, Canales y Puertos y al de una casa propiedad del Marqués de Larios. Junto a la fuente de la Cibeles, el Banco de España está rodeado por el edificio de Correos, la Casa de América y el Círculo de Bellas Artes.\n",
      "Todo lo relacionado con este nuevo edificio comienza en 1882. En este año se acuerda convocar un concurso público para la elección del proyecto arquitectónico que mejor se adapte a las nuevas necesidades del Banco y cuyas bases son redactadas por los propios arquitectos de la institución, Eduardo de Adaro, Severiano Sainz de la Lastra y José María Aguilar y Vela. Tan solo se presentan cuatro proyectos y ninguno de ellos es de la plena satisfacción de la comisión de obras, por lo que se encarga a los arquitectos del Banco que, tras estudiar los edificios de otros bancos europeos, redacten el proyecto definitivo, el cual es aprobado a finales de 1883, después de muchas incidencias. En el proyecto también colaboraron entre otros Aníbal Álvarez Bouquel, Alejandro Herrero, Amador de los Ríos, o Bernardo Asins, quien realizó las puertas de hierro. El coste, incluyendo solares y edificio, fue de unos 15.300.000 pesetas.\n",
      "La primera piedra se puso el 4 de julio de 1884, en un acto al que asistió el Rey Alfonso XII. A partir de entonces se sucedieron cambios de criterio y modificaciones del proyecto que dieron como resultado el colosal edificio inaugurado en 1891. Ya en 1927 se inició otra importante ampliación con la adquisición de las casas del conde de Santamarca, situadas en la calle de Alcalá, a continuación del edificio inicial. Esta ampliación se produjo según el proyecto del arquitecto del Banco, José Yarnoz Larrosa, quien propuso la prolongación de la fachada, repitiendo la imagen externa del edificio existente y reservando tan solo al interior las novedades arquitectónicas de la época.\n",
      "El inmueble adopta el doble carácter industrial y de representación propio del establecimiento. El primero se aprecia prácticamente en toda la construcción, a excepción de la planta principal, en la que se albergan los despachos más importantes y las zonas de mayor representación. Los limitados adornos escultóricos quedan reservados al chaflán de Cibeles y a las portadas principales del Paseo del Prado y de la calle Alcalá, esta última tras la ampliación de 1927. Su ejecución fue encargada, en su mayor parte, a escultores italianos, si bien siguiendo los modelos pedidos a los escultores españoles más conocidos de la época.\n",
      "\n",
      "Ya en el interior, y en lo que al edificio de 1891 se refiere, destacan la escalera de honor y el patio que fue Caja General y que hoy es Biblioteca. La monumental escalera en mármol de Carrara, a la que se accede desde la puerta del Paseo del Prado, es una muestra de la arquitectura más tradicional, diseñada por los arquitectos del Banco y ejecutada por el bilbaíno Adolfo de Aréizaga. Aparece acompañada de una serie de vidrieras encargadas a la empresa alemana Mayer, que las ejecuta siguiendo un estilo simbolista e incorporando numerosas figuras alegóricas.\n",
      "Por su parte, el carácter industrial del Banco se materializa en la actual Biblioteca, encargada a la Fábrica de Mieres, en la que se incorpora la estructura metálica vista de hierro fundido.\n",
      "La planta está articulada a partir de la entrada por la esquina. Ello permitió al arquitecto distinguir los espacios hacia las calles del Paseo del Prado y Alcalá. La fachada por su parte es de composición cuatripartita, está compuesta por zócalo, dos plantas, cornisa y cubierta habitada.\n",
      "La ampliación decidida en 1927 y terminada en 1934 incorpora, en el interior del edificio, las novedades arquitectónicas de la época a las que Yarnoz había renunciado en el exterior. Tan solo destacar el nuevo patio de operaciones, la rotonda que sirve de enlace interior entre los dos edificios y, por su singularidad, la cámara acorazada. El enorme patio de operaciones se aparta de los conceptos clásicos y recoge algún ejemplo del art déco, como la vidriera superior, o como la pieza decorativa y al tiempo funcional situada en el centro del patio. La rotonda comunica este patio de operaciones con la escalera principal y en su centro se alza una pieza escultórica en honor a Echegaray, obra de Coullaut Valera. En su interior alberga una importante colección de pintura, con obras de Goya, Mengs, Maella y Vicente López entre otros autores.[15]​\n",
      "\n",
      "Por último señalar que a principios de 2003 el Banco de España inició las obras de reconstrucción del edificio situado en la esquina de las calles Alcalá y Marqués de Cubas, antigua sede de la Banca García-Calamarte, con lo que se logra cerrar la manzana que ocupa su sede central en Madrid. El proyecto, elaborado por el arquitecto Rafael Moneo, consolida el carácter unitario del conjunto arquitectónico, manteniendo en su fachada la continuidad formal de los planteamientos originales.[16]​\n",
      "\n",
      "\n",
      "==== Cámara acorazada y reservas de oro ====\n",
      "\n",
      "El Banco de España posee 9,1 millones de onzas troy de oro (unas 283 toneladas) (2019),[5]​ que se encuentran depositadas en sus propias cámaras acorazadas y en diferentes entidades de Londres y Nueva York.[17]​ En 2004 la reserva total de este metal ascendía a cerca de 17 millones de onzas troy. En el año 2005 se finaliza con 14,7 millones; en 2006, con 13,4 millones, y en diciembre de 2007, tras la venta de una gran parte de las reservas con la reserva actual de 9,05 millones de onzas troy, equivalente a 281,5 toneladas de oro (véase gráfico).[18]​ De acuerdo con datos del FMI, España ocupa el puesto 20.º dentro de las 40 mayores reservas de oro del mundo (a julio de 2015).[19]​[20]​\n",
      "Las obras de construcción de la cámara acorazada para la custodia del oro se enmarcaron dentro del proyecto de remodelación del edificio del Banco de España concebido por el arquitecto José Yarnoz Larrosa. Las obras comenzaron a finales de 1932, y terminaron dos años y medio después, con 260 obreros trabajando en tres turnos. La iniciativa del proyecto partió del Subgobernador Pedro Pan, y su coste aproximado fue de 9 millones y medio de pesetas. La inauguración (junto con la del resto de la ampliación), tuvo lugar poco antes de la Guerra Civil, durante la cual sirvió como refugio contra los bombardeos a las familias que habitaban el edificio del banco.  La cámara se encuentra a 48 metros de profundidad y su superficie es de 2500 metros cuadrados. Su diseño parece inspirarse en una construcción similar de la caja acorazada de la Caja de Ahorros de Viena.\n",
      "La construcción es de hormigón armado y cemento fundido. Las obras requirieron minuciosos estudios geológicos y análisis de los materiales que iban a utilizarse. En la construcción fue necesario entubar y desviar las aguas colgadas presentes en el subsuelo, a 25 m. de profundidad y que presionan las paredes de la cámara. Esta agua corresponde a los arroyos de Las Pascualas (que corre casi a nivel de superficie a lo largo de la Castellana y que fue, en su día, canalizado) y de Oropesa (subterráneo, baja por Alcalá), el mismo que alimenta la fuente de la Cibeles.\n",
      "El acceso a la cámara se realiza a través de varias puertas acorazadas, la primera de las cuales pesa alrededor de dieciséis toneladas y fue fabricada en Pennsilvania, Estados Unidos, por la empresa Cofres York. Las demás puertas más pequeñas, pero también acorazadas, fueron fabricadas por la misma casa. Su peso oscila entre las quince y las ocho toneladas. El descenso de estas puertas, debido a su peso, fue muy costoso. Los cables de acero que se emplearon quedaban tan deteriorados que solo pudieron ser utilizados una vez y hubo que contratar personal especializado. La puerta acorazada tiene una tolerancia ínfima (de décimas de milímetro), por lo que cualquier impureza en el arco impide que encaje correctamente y que puedan activarse los puntos de anclaje. Además, la puerta es de acero, pero no inoxidable, por lo que hay que cuidar mucho su mantenimiento. Siempre debe estar cubierta de una fina capa de vaselina para evitar que se oxide.\n",
      "Las medidas de seguridad en todos los accesos a la cámara son extremas. Además de las puertas acorazadas, hay rejas de seguridad y nunca se abre una puerta sin haber cerrado previamente la anterior. En caso de emergencia, se acciona una alarma que libera el agua subterránea que fue canalizada en la obra, inundando este acceso a voluntad. Nunca se ha utilizado este mecanismo, ya que en los ochenta años de vida de la cámara nunca ha habido un intento de acceso no autorizado.\n",
      "La cámara del oro, propiamente dicha, alberga la colección numismática del Banco de España, solo comparable a las del Museo Arqueológico o de la Real Casa de la Moneda, y parte de las reservas de oro.\n",
      "La mayoría de las monedas que componen esta colección proceden de las suscripciones populares realizadas durante la guerra civil (donativos, en ocasiones voluntarios) para la financiación del ejército y de los depósitos constituidos a partir del año 37, a raíz del Decreto de Nacionalización de Divisas y Oro. Este decreto obligaba a todos los ciudadanos a entregar el oro en pasta o amonedado que tuvieran en su poder para reponer las reservas de oro que el gobierno republicano había enviado a Moscú como pago por los suministros bélicos. Estas entregas se realizaron en forma de depósitos. La mayoría de ellos no son recuperables porque los depositantes optaron por cobrar en efectivo el valor en oro de sus monedas. Otros, cuyas monedas tenían un valor numismático o sentimental, prefirieron mantener el depósito con la esperanza de recuperarlas cuando lo permitiese la normativa. Aún se siguen devolviendo algunos de estos últimos, siempre que el reclamante pueda acreditar su derecho sobre el depósito.\n",
      "La colección, de gran valor numismático, está formada por más de medio millón de piezas e incluye monedas de muy diversa procedencia, ya que recoge no solo la historia numismática de la península ibérica, sino que también hay piezas griegas, romanas, bizantinas, de la América hispana, francesas y británicas. Así mismo, cuenta con una completa colección de dólares de oro, acuñados desde el siglo XVII. También hay una colección, menos numerosa, de piezas de plata.\n",
      "\n",
      "\n",
      "=== Sucursales ===\n",
      "\n",
      "Desde junio de 2011, la red de sucursales del Banco de España está integrada por 15 delegaciones, que ofrecen sus servicios al público y a las entidades de crédito.\n",
      "Están situadas en A Coruña, Alicante, Badajoz, Barcelona, Bilbao, Las Palmas, Málaga, Murcia, Oviedo, Palma de Mallorca, Sevilla, Tenerife, Valencia, Valladolid y Zaragoza.[21]​\n",
      "\n",
      "\t\t\n",
      "\t\t\n",
      "\t\t\n",
      "\n",
      "\n",
      "== Curiosidades ==\n",
      "En enero de 2021, la borrasca \"Filomena\" congeló el reloj del Banco de España por primera vez en 130 años. En concreto, fue a las 11:35 de la mañana, del sábado 9 de enero.[22]​\n",
      "\n",
      "\n",
      "== Origen de los beneficios del Banco de España ==\n",
      "Los beneficios del Banco de España se deben, principalmente, a los ingresos por intereses devengados por sus principales activos y a las ganancias procedentes de operaciones financieras (sobre todo, debidas a plusvalías en la venta de divisas y compraventa de valores extranjeros).[23]​ Estos beneficios se ingresan, íntegramente, en el Tesoro.[24]​\n",
      "\n",
      "\n",
      "== Véase también ==\n",
      "Banco central\n",
      "Sistema financiero\n",
      "CECA\n",
      "Fondo de reestructuración ordenada bancaria (FROB)\n",
      "Fondo de garantía de depósitos (España)\n",
      "Autoridad Macroprudencial Consejo de Estabilidad Financiera (AMCESFI)\n",
      "\n",
      "\n",
      "== Referencias ==\n",
      "\n",
      "\n",
      "== Bibliografía ==\n",
      "Varios autores (1970), \"El Banco de España. Una historia económica\". Madrid, Banco de España\n",
      "Pedro Schwartz (1970), \"Ensayos sobre la economía española a mediados del siglo XIX\". Madrid, Ariel-Banco de España.\n",
      "Gabriel Tortella (1974): \"La banca española en la Restauración\", 2 vols. Madrid, Banco de España.\n",
      "Pablo Martín-Aceña (1984): \"La política monetaria en España, 1918-1935\". Madrid, Instituto de Estudios Fiscales.\n",
      "\"150 años del Banco de España, 1856-2006\". Madrid, Banco de España.\n",
      "Pedro Tedde (1988): \"El Banco de San Carlos\". Madrid, Alianza-Banco de España.\n",
      "\"El Banco de San Fernando\". Madrid, Alianza-Banco de España.\n",
      "Teresa Tortella (2011): \"El Banco de España desde dentro. Una historia a través de sus documentos\". Madrid, Banco de España.\n",
      "Miguel Martorell, \"Historia de la peseta: la España contemporánea a través de su moneda\". Editorial Planeta S.A., ISBN 84-08-04087-1.\n",
      "Navascués Palacio, Pedro (2000). Arquitectura española, 1808-1914. Summa Artis. 35.2. Madrid: Espasa Calpe. ISBN 84-239-5477-3. .\n",
      "\n",
      "\n",
      "== Enlaces externos ==\n",
      " Wikimedia Commons alberga una categoría multimedia sobre el Banco de España.\n",
      "Página web del Banco de España\n",
      "Portal del Cliente Bancario\n",
      "Finanzas para todos\n",
      "Oficina Virtul del Banco de España (sede electrónica)\n",
      "Aula Virtual del Banco de España\n",
      "Portal Educativo del Banco de España\n",
      "Central de Información de Riesgos del Banco de España (CIRBE)\n",
      "Canal de YouTube del Banco de España\n",
      "¿Qué es el Banco de España?\n",
      "Gobernadores del Banco de España\n",
      "\n",
      "Banco de España en Twitter\n"
     ]
    }
   ],
   "source": [
    "\n",
    "import wikipedia\n",
    "wikipedia.set_lang(\"es\")\n",
    "\n",
    "q1 = wikipedia.page('Banco de España')\n",
    "s = q1.content\n",
    "print(s)"
   ]
  },
  {
   "cell_type": "markdown",
   "metadata": {},
   "source": [
    "Encontrar la primera aparición en s del string *rey*, y mostrar desde esa posición hasta 123 caracteres más adelante."
   ]
  },
  {
   "cell_type": "code",
   "execution_count": null,
   "metadata": {},
   "outputs": [],
   "source": []
  },
  {
   "cell_type": "markdown",
   "metadata": {},
   "source": [
    "Cambiar en s las 'a' por 'i'. Mostrar los 150 primeros caracteres del string resultante"
   ]
  },
  {
   "cell_type": "code",
   "execution_count": null,
   "metadata": {},
   "outputs": [],
   "source": []
  },
  {
   "cell_type": "markdown",
   "metadata": {},
   "source": [
    "Contar cuántas veces aparece en s la palabra funciones\n"
   ]
  },
  {
   "cell_type": "code",
   "execution_count": null,
   "metadata": {},
   "outputs": [],
   "source": []
  },
  {
   "cell_type": "markdown",
   "metadata": {},
   "source": [
    "## Conjuntos"
   ]
  },
  {
   "cell_type": "markdown",
   "metadata": {},
   "source": [
    "Los conjuntos representan secuencias de elementos no repetidos.\n",
    "\n",
    "Para inicializar una varial conjunto vacíon usaremos la constructora **set()**. También podemos utilizar la notación **set([sequence])** para indicar los elementos iniciales."
   ]
  },
  {
   "cell_type": "code",
   "execution_count": 74,
   "metadata": {},
   "outputs": [
    {
     "name": "stdout",
     "output_type": "stream",
     "text": [
      "<class 'set'>\n"
     ]
    }
   ],
   "source": [
    "set1 = set()\n",
    "print(type(set1))"
   ]
  },
  {
   "cell_type": "code",
   "execution_count": 75,
   "metadata": {},
   "outputs": [
    {
     "name": "stdout",
     "output_type": "stream",
     "text": [
      "{1, 2, 3, 4}\n"
     ]
    }
   ],
   "source": [
    "seta = set([1,2,2,3,3,4])\n",
    "print(seta)"
   ]
  },
  {
   "cell_type": "markdown",
   "metadata": {},
   "source": [
    "como podemos ver los elementos 2 y 3, que se repetían dos veces en la lista original, se ven  solo una vez al convertir la lista a conjunto."
   ]
  },
  {
   "cell_type": "markdown",
   "metadata": {},
   "source": [
    "#### Funciones predefinidas"
   ]
  },
  {
   "cell_type": "code",
   "execution_count": 76,
   "metadata": {
    "collapsed": true
   },
   "outputs": [],
   "source": [
    "set1 = set([1,2,3])"
   ]
  },
  {
   "cell_type": "code",
   "execution_count": 77,
   "metadata": {
    "collapsed": true
   },
   "outputs": [],
   "source": [
    "set2 = set([2,3,4,5])"
   ]
  },
  {
   "cell_type": "markdown",
   "metadata": {},
   "source": [
    "La función **union( )** reune los elementos de dos conjuntos, por supuesto evitando repeticiones."
   ]
  },
  {
   "cell_type": "code",
   "execution_count": 78,
   "metadata": {},
   "outputs": [
    {
     "data": {
      "text/plain": [
       "{1, 2, 3, 4, 5}"
      ]
     },
     "execution_count": 78,
     "metadata": {},
     "output_type": "execute_result"
    }
   ],
   "source": [
    "set1.union(set2)"
   ]
  },
  {
   "cell_type": "markdown",
   "metadata": {},
   "source": [
    "**add( )** Añade un nuevo elemento al conjunto (si no está ya)."
   ]
  },
  {
   "cell_type": "code",
   "execution_count": 79,
   "metadata": {},
   "outputs": [
    {
     "data": {
      "text/plain": [
       "{0, 1, 2, 3}"
      ]
     },
     "execution_count": 79,
     "metadata": {},
     "output_type": "execute_result"
    }
   ],
   "source": [
    "set1.add(0)\n",
    "set1"
   ]
  },
  {
   "cell_type": "markdown",
   "metadata": {},
   "source": [
    "La función **intersection( )** recoge los elementos comunes a dos conjuntos."
   ]
  },
  {
   "cell_type": "code",
   "execution_count": 81,
   "metadata": {},
   "outputs": [
    {
     "data": {
      "text/plain": [
       "{2, 3}"
      ]
     },
     "execution_count": 81,
     "metadata": {},
     "output_type": "execute_result"
    }
   ],
   "source": [
    "set1.intersection(set2)"
   ]
  },
  {
   "cell_type": "markdown",
   "metadata": {},
   "source": [
    "La función **difference( )** devuelve los elementos del conjunto set1 que no estén en el conjunto set2."
   ]
  },
  {
   "cell_type": "code",
   "execution_count": 82,
   "metadata": {},
   "outputs": [
    {
     "data": {
      "text/plain": [
       "{0, 1}"
      ]
     },
     "execution_count": 82,
     "metadata": {},
     "output_type": "execute_result"
    }
   ],
   "source": [
    "set1.difference(set2)"
   ]
  },
  {
   "cell_type": "markdown",
   "metadata": {},
   "source": [
    " La función  **symmetric_difference( )** devuelve los elementos que están solo en un uno de los dos conjuntos."
   ]
  },
  {
   "cell_type": "code",
   "execution_count": 83,
   "metadata": {},
   "outputs": [
    {
     "data": {
      "text/plain": [
       "{0, 1, 4, 5}"
      ]
     },
     "execution_count": 83,
     "metadata": {},
     "output_type": "execute_result"
    }
   ],
   "source": [
    "set2.symmetric_difference(set1)"
   ]
  },
  {
   "cell_type": "markdown",
   "metadata": {},
   "source": [
    "Las funciones **issubset( ), isdisjoint( ), issuperset( )** permiten comprobar si s1 es un subconjunto, o un conjunto disjunto, o un superconjunto, de s2, respectivamente."
   ]
  },
  {
   "cell_type": "code",
   "execution_count": 89,
   "metadata": {},
   "outputs": [
    {
     "name": "stdout",
     "output_type": "stream",
     "text": [
      "False\n",
      "{0, 1, 2, 3, 4, 5, 6, 7, 8, 9, 10, 11, 12, 13, 14, 15, 16, 17, 18, 19}\n"
     ]
    },
    {
     "data": {
      "text/plain": [
       "True"
      ]
     },
     "execution_count": 89,
     "metadata": {},
     "output_type": "execute_result"
    }
   ],
   "source": [
    "print(set1.issubset(set2))\n",
    "\n",
    "s1 = set([1,2])\n",
    "s2 = set(range(20))\n",
    "print(s2)\n",
    "s1.issubset(s2)"
   ]
  },
  {
   "cell_type": "code",
   "execution_count": 90,
   "metadata": {},
   "outputs": [
    {
     "data": {
      "text/plain": [
       "False"
      ]
     },
     "execution_count": 90,
     "metadata": {},
     "output_type": "execute_result"
    }
   ],
   "source": [
    "set2.isdisjoint(set1)"
   ]
  },
  {
   "cell_type": "code",
   "execution_count": 91,
   "metadata": {},
   "outputs": [
    {
     "data": {
      "text/plain": [
       "False"
      ]
     },
     "execution_count": 91,
     "metadata": {},
     "output_type": "execute_result"
    }
   ],
   "source": [
    "set2.issuperset(set1)"
   ]
  },
  {
   "cell_type": "markdown",
   "metadata": {},
   "source": [
    "**pop( )** elimina un elemento cualquiera del conjunto."
   ]
  },
  {
   "cell_type": "code",
   "execution_count": 92,
   "metadata": {},
   "outputs": [
    {
     "name": "stdout",
     "output_type": "stream",
     "text": [
      "{1, 2, 3, 4, 5, 6, 7, 8, 9, 10, 11, 12, 13, 14, 15, 16, 17, 18, 19}\n"
     ]
    }
   ],
   "source": [
    "s2.pop()\n",
    "print(s2)"
   ]
  },
  {
   "cell_type": "markdown",
   "metadata": {},
   "source": [
    "**remove( )** elimina el elemento indicado del conjunto."
   ]
  },
  {
   "cell_type": "code",
   "execution_count": 77,
   "metadata": {},
   "outputs": [
    {
     "data": {
      "text/plain": [
       "{1, 3}"
      ]
     },
     "execution_count": 77,
     "metadata": {},
     "output_type": "execute_result"
    }
   ],
   "source": [
    "set1.remove(2)\n",
    "set1"
   ]
  },
  {
   "cell_type": "markdown",
   "metadata": {},
   "source": [
    "**clear( )** elimina todos los elementos, y por tanto convierte cualquier conjunto en el conjunto vacío."
   ]
  },
  {
   "cell_type": "code",
   "execution_count": 93,
   "metadata": {},
   "outputs": [
    {
     "data": {
      "text/plain": [
       "set()"
      ]
     },
     "execution_count": 93,
     "metadata": {},
     "output_type": "execute_result"
    }
   ],
   "source": [
    "set1.clear()\n",
    "set1"
   ]
  },
  {
   "cell_type": "markdown",
   "metadata": {},
   "source": [
    "###### Problema: ¿Qué mostrará el siguiente programa?"
   ]
  },
  {
   "cell_type": "code",
   "execution_count": 13,
   "metadata": {},
   "outputs": [
    {
     "name": "stdout",
     "output_type": "stream",
     "text": [
      "{2, 3, 4, 5} {2, 3, 4, 5} {2, 3, 4, 5}\n"
     ]
    }
   ],
   "source": [
    "\n",
    "s1 = set([1,2,3,4,5])\n",
    "s2 = s1\n",
    "s1.pop()\n",
    "print(s1,s2,s1.union(s2))"
   ]
  },
  {
   "cell_type": "markdown",
   "metadata": {},
   "source": [
    "¿Cómo arreglarlo?"
   ]
  },
  {
   "cell_type": "code",
   "execution_count": null,
   "metadata": {},
   "outputs": [],
   "source": []
  },
  {
   "cell_type": "markdown",
   "metadata": {},
   "source": [
    "## Diccionarios"
   ]
  },
  {
   "cell_type": "markdown",
   "metadata": {},
   "source": [
    "Los diccionarios son estructuras que asocian claves con valores. Podemos imaginarlos como un 'record' en otros lenguajes, que recoge varios valores en una estructura asociados a campos con nombre predeterminado.\n",
    "\n",
    "Para crear un diccionario usamos la constructora { } o dict()"
   ]
  },
  {
   "cell_type": "code",
   "execution_count": 98,
   "metadata": {},
   "outputs": [
    {
     "name": "stdout",
     "output_type": "stream",
     "text": [
      "<class 'dict'> <class 'dict'>\n"
     ]
    }
   ],
   "source": [
    "d0 = {}\n",
    "d1 = dict()\n",
    "print(type(d0), type(d1))"
   ]
  },
  {
   "cell_type": "markdown",
   "metadata": {},
   "source": [
    "Podemos añadir 'campos' de forma dinámica:"
   ]
  },
  {
   "cell_type": "code",
   "execution_count": 99,
   "metadata": {},
   "outputs": [
    {
     "name": "stdout",
     "output_type": "stream",
     "text": [
      "{'nombre': 'bertoldo', 'edad': 23}\n"
     ]
    }
   ],
   "source": [
    "d0['nombre'] = 'bertoldo'\n",
    "d0['edad'] = 23\n",
    "print(d0)"
   ]
  },
  {
   "cell_type": "code",
   "execution_count": 100,
   "metadata": {},
   "outputs": [
    {
     "name": "stdout",
     "output_type": "stream",
     "text": [
      "23\n"
     ]
    }
   ],
   "source": [
    "print(d0['edad'])"
   ]
  },
  {
   "cell_type": "markdown",
   "metadata": {},
   "source": [
    "A valores índice de un diccionario, como 'edad' se les llama *claves*. \n",
    "Como cada clave tiene un valor asociado, a los diccionarios se les llama\n",
    "a menudo *estructura clave-valor*."
   ]
  },
  {
   "cell_type": "markdown",
   "metadata": {},
   "source": [
    "Podemos combinar dos listas con la función zip para crear un diccionario"
   ]
  },
  {
   "cell_type": "code",
   "execution_count": 14,
   "metadata": {},
   "outputs": [
    {
     "name": "stdout",
     "output_type": "stream",
     "text": [
      "<zip object at 0x000001F145D8EA88>\n",
      "[('One', 1), ('Two', 2), ('Three', 3), ('Four', 4), ('Five', 5)]\n"
     ]
    }
   ],
   "source": [
    "nombres = ['One', 'Two', 'Three', 'Four', 'Five']\n",
    "nums = [1, 2, 3, 4, 5]\n",
    "parejas = zip(nombres,nums)\n",
    "print(parejas)\n",
    "print(list(parejas))"
   ]
  },
  {
   "cell_type": "code",
   "execution_count": 110,
   "metadata": {},
   "outputs": [
    {
     "name": "stdout",
     "output_type": "stream",
     "text": [
      "{'One': 1, 'Two': 2, 'Three': 3, 'Four': 4, 'Five': 5}\n",
      "4\n"
     ]
    }
   ],
   "source": [
    "dictparejas = dict(parejas)\n",
    "print(dictparejas)\n",
    "print(dictparejas['Four'])"
   ]
  },
  {
   "cell_type": "markdown",
   "metadata": {},
   "source": [
    "Se pueden obtener  todas las claves y los valores de un diccionario, \n",
    "usando las funciones **keys()** y **values()**"
   ]
  },
  {
   "cell_type": "code",
   "execution_count": 111,
   "metadata": {},
   "outputs": [
    {
     "data": {
      "text/plain": [
       "dict_keys(['One', 'Two', 'Three', 'Four', 'Five'])"
      ]
     },
     "execution_count": 111,
     "metadata": {},
     "output_type": "execute_result"
    }
   ],
   "source": [
    "dictparejas.keys()"
   ]
  },
  {
   "cell_type": "markdown",
   "metadata": {},
   "source": [
    "Para convertir el diccionario en una lista de parejas, podemos usar **items()**"
   ]
  },
  {
   "cell_type": "code",
   "execution_count": 112,
   "metadata": {},
   "outputs": [
    {
     "data": {
      "text/plain": [
       "dict_items([('One', 1), ('Two', 2), ('Three', 3), ('Four', 4), ('Five', 5)])"
      ]
     },
     "execution_count": 112,
     "metadata": {},
     "output_type": "execute_result"
    }
   ],
   "source": [
    "dictparejas.items()"
   ]
  },
  {
   "cell_type": "markdown",
   "metadata": {},
   "source": [
    "También podemos eliminar una clave, con **pop()**"
   ]
  },
  {
   "cell_type": "code",
   "execution_count": 113,
   "metadata": {},
   "outputs": [
    {
     "data": {
      "text/plain": [
       "3"
      ]
     },
     "execution_count": 113,
     "metadata": {},
     "output_type": "execute_result"
    }
   ],
   "source": [
    "dictparejas.pop('Three')"
   ]
  },
  {
   "cell_type": "code",
   "execution_count": 114,
   "metadata": {},
   "outputs": [
    {
     "name": "stdout",
     "output_type": "stream",
     "text": [
      "{'One': 1, 'Two': 2, 'Four': 4, 'Five': 5}\n"
     ]
    }
   ],
   "source": [
    "print(dictparejas)"
   ]
  },
  {
   "cell_type": "markdown",
   "metadata": {},
   "source": [
    "Finalmente, si se quieren borrar todos los elementos del diccionario, se puede usar **clear()**"
   ]
  },
  {
   "cell_type": "code",
   "execution_count": 116,
   "metadata": {},
   "outputs": [
    {
     "name": "stdout",
     "output_type": "stream",
     "text": [
      "{}\n"
     ]
    }
   ],
   "source": [
    "dictparejas.clear()\n",
    "print(dictparejas)"
   ]
  },
  {
   "cell_type": "code",
   "execution_count": null,
   "metadata": {
    "collapsed": true
   },
   "outputs": [],
   "source": []
  }
 ],
 "metadata": {
  "kernelspec": {
   "display_name": "Python 3 (ipykernel)",
   "language": "python",
   "name": "python3"
  },
  "language_info": {
   "codemirror_mode": {
    "name": "ipython",
    "version": 3
   },
   "file_extension": ".py",
   "mimetype": "text/x-python",
   "name": "python",
   "nbconvert_exporter": "python",
   "pygments_lexer": "ipython3",
   "version": "3.9.12"
  }
 },
 "nbformat": 4,
 "nbformat_minor": 1
}
