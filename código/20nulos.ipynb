{
  "cells": [
    {
      "cell_type": "markdown",
      "id": "2667aa5c",
      "metadata": {
        "id": "2667aa5c"
      },
      "source": [
        "<table>\n",
        "    <tr>\n",
        "      <td>Introducción a\n",
        "      </td>\n",
        "      <td>\n",
        "      <img src=\"https://media.licdn.com/dms/image/D5612AQF7GSp3l4pztQ/article-cover_image-shrink_720_1280/0/1686548640655?e=1715817600&v=beta&t=WQzv1EMkEEwZ0QZ0PF1anRKIHCl5BBH_YPZHdDQsWPM\"  width=150/>\n",
        "      </td>\n",
        "     </tr>\n",
        "</table>\n",
        "Rafa Caballero\n",
        "\n",
        "\n",
        "\n",
        "\n",
        "# Tratamiento de nulos\n",
        "\n",
        "\n",
        "\n",
        "### Índice\n",
        "[Introducción](#Introducción)<br>\n",
        "[Contando Nulos](#Contando)<br>\n",
        "[Nulos graficamente](#Graficamente)<br>\n",
        "[No nulos, pero casi](#Nonulos)<br>\n",
        "[¿Qué hacer?](#Que)<br>\n",
        "[Tipos](#Tipos)<br>\n",
        "  &nbsp;&nbsp;&nbsp;&nbsp;  [MD versus MI en variables categóricas](#Categorical)<br>\n",
        "  &nbsp;&nbsp;&nbsp;&nbsp;  [MD versus MI en variables ratio](#Ratio)<br>\n",
        "[Bibliografía](#Bibliografía)<br>\n",
        "\n",
        "<a name=\"Intro\"></a>\n",
        "## Introducción\n",
        "\n",
        "Los valores nulos llamados en inglés *missing* son *huecos* o valores que faltan en nuestro dataset. Puedne impedir que se hagan algunas operaciones o introducir sesgo en otras. Entender por qué surgen y buscar formas de corregirlos es importante para lograr datos de calidad.\n",
        "\n",
        "<a name=\"Contando\"></a>\n",
        "## Contando nulos\n",
        "\n",
        "Los valores nulos se representan mediante la constante NaN que se puede obtener como\n",
        "\n",
        "`pd.NA`, `float('nan')`, `math.nan`, or `np.nan`. También el valor `None` se cuenta en Pandas como un valor NaN.\n",
        "\n",
        "\n"
      ]
    },
    {
      "cell_type": "code",
      "execution_count": null,
      "id": "35c33f01",
      "metadata": {
        "id": "35c33f01"
      },
      "outputs": [],
      "source": [
        "import numpy as np\n",
        "import pandas as pd\n",
        "import math\n",
        "df = pd.DataFrame({'a': [1, np.nan, 3, math.nan, float('nan'), None],\n",
        "                   'b': [1, pd.NA, 3, 4, 6, None],\n",
        "                   'c': [1, 2, 3, 4, 6, np.nan]})\n",
        "df"
      ]
    },
    {
      "cell_type": "code",
      "execution_count": null,
      "id": "ee62f9c8",
      "metadata": {
        "id": "ee62f9c8"
      },
      "outputs": [],
      "source": [
        "df.info()"
      ]
    },
    {
      "cell_type": "markdown",
      "id": "4fce9116",
      "metadata": {
        "id": "4fce9116"
      },
      "source": [
        "Podemos ver los nulos por columnas con el método `isna`"
      ]
    },
    {
      "cell_type": "code",
      "execution_count": null,
      "id": "026b447d",
      "metadata": {
        "id": "026b447d"
      },
      "outputs": [],
      "source": [
        "df.isna().sum()"
      ]
    },
    {
      "cell_type": "markdown",
      "id": "ba5dc3e3",
      "metadata": {
        "id": "ba5dc3e3"
      },
      "source": [
        "Para ver los totales por fila:"
      ]
    },
    {
      "cell_type": "code",
      "execution_count": null,
      "id": "1512d888",
      "metadata": {
        "id": "1512d888"
      },
      "outputs": [],
      "source": [
        "df.isna().sum(axis=1)"
      ]
    },
    {
      "cell_type": "markdown",
      "id": "0fe9bb16",
      "metadata": {
        "id": "0fe9bb16"
      },
      "source": [
        "Columnas con algún nulo"
      ]
    },
    {
      "cell_type": "code",
      "execution_count": null,
      "id": "278608c6",
      "metadata": {
        "id": "278608c6"
      },
      "outputs": [],
      "source": [
        "(df.isna().sum() > 0).sum()"
      ]
    },
    {
      "cell_type": "markdown",
      "id": "2275aa56",
      "metadata": {
        "id": "2275aa56"
      },
      "source": [
        "filas com algún nulo:"
      ]
    },
    {
      "cell_type": "code",
      "execution_count": null,
      "id": "249bcf5c",
      "metadata": {
        "id": "249bcf5c"
      },
      "outputs": [],
      "source": [
        "(df.isna().sum(axis=1) > 0).sum()"
      ]
    },
    {
      "cell_type": "markdown",
      "id": "7699be98",
      "metadata": {
        "id": "7699be98"
      },
      "source": [
        "Columnas con todo nulos"
      ]
    },
    {
      "cell_type": "code",
      "execution_count": null,
      "id": "33791a92",
      "metadata": {
        "id": "33791a92"
      },
      "outputs": [],
      "source": [
        "(df.isna().sum() == df.shape[0]).sum()"
      ]
    },
    {
      "cell_type": "markdown",
      "id": "72869eea",
      "metadata": {
        "id": "72869eea"
      },
      "source": [
        "Filas con todo nulos:"
      ]
    },
    {
      "cell_type": "code",
      "execution_count": null,
      "id": "d753296c",
      "metadata": {
        "id": "d753296c"
      },
      "outputs": [],
      "source": [
        "(df.isna().sum(axis=1) == df.shape[1]).sum()"
      ]
    },
    {
      "cell_type": "markdown",
      "id": "630d6e31",
      "metadata": {
        "id": "630d6e31"
      },
      "source": [
        "Y el total absoluto:"
      ]
    },
    {
      "cell_type": "code",
      "execution_count": null,
      "id": "d924f540",
      "metadata": {
        "id": "d924f540"
      },
      "outputs": [],
      "source": [
        "total = df.isna().sum().sum()\n",
        "total"
      ]
    },
    {
      "cell_type": "markdown",
      "id": "e25a5f6e",
      "metadata": {
        "id": "e25a5f6e"
      },
      "source": [
        "También es interesante ver la proporción de nulos:"
      ]
    },
    {
      "cell_type": "code",
      "execution_count": null,
      "id": "96b6b593",
      "metadata": {
        "id": "96b6b593"
      },
      "outputs": [],
      "source": [
        "round(100*total/(df.shape[0]*df.shape[1]),3)"
      ]
    },
    {
      "cell_type": "markdown",
      "id": "f221c9b3",
      "metadata": {
        "id": "f221c9b3"
      },
      "source": [
        "<a name=\"Graficamente\"></a>\n",
        "## Nulos gráficamente\n",
        "Sobre todo en el caso de dataframes con gran cantidad de datos utilizar una visualización adecuada puede ayudar a entender el origen de los nulos"
      ]
    },
    {
      "cell_type": "code",
      "execution_count": null,
      "id": "fc9466e8",
      "metadata": {
        "id": "fc9466e8"
      },
      "outputs": [],
      "source": [
        "pip install missingno"
      ]
    },
    {
      "cell_type": "code",
      "execution_count": null,
      "id": "1b7ae937",
      "metadata": {
        "id": "1b7ae937"
      },
      "outputs": [],
      "source": [
        "import seaborn as sns\n",
        "import pandas as pd\n",
        "import missingno as msno\n",
        "%matplotlib inline\n",
        "\n",
        "titanic = sns.load_dataset(\"titanic\")\n",
        "titanic.info()"
      ]
    },
    {
      "cell_type": "code",
      "execution_count": null,
      "id": "e2500c1d",
      "metadata": {
        "id": "e2500c1d"
      },
      "outputs": [],
      "source": [
        "msno.bar(titanic)"
      ]
    },
    {
      "cell_type": "markdown",
      "id": "0563d898",
      "metadata": {
        "id": "0563d898"
      },
      "source": [
        "Otra forma de ver lo mismo"
      ]
    },
    {
      "cell_type": "code",
      "execution_count": null,
      "id": "2c60a5fa",
      "metadata": {
        "id": "2c60a5fa"
      },
      "outputs": [],
      "source": [
        "msno.matrix(titanic)"
      ]
    },
    {
      "cell_type": "markdown",
      "id": "70f82b83",
      "metadata": {
        "id": "70f82b83"
      },
      "source": [
        "ESto nos da mucha información y muy útil:\n",
        "\n",
        "* Parece que solo age y deck tienen nulos.\n",
        "\n",
        "* Aparte hay 2 filas que tienen nulos también en `embarked`, `embark_town` (se podrían eliminar?)\n",
        "\n",
        "El método `heatmap` nos ayudará a relacionar columnas con nulos:"
      ]
    },
    {
      "cell_type": "code",
      "execution_count": null,
      "id": "9634401f",
      "metadata": {
        "id": "9634401f"
      },
      "outputs": [],
      "source": [
        "msno.heatmap(titanic)"
      ]
    },
    {
      "cell_type": "markdown",
      "id": "a3f86c8f",
      "metadata": {
        "id": "a3f86c8f"
      },
      "source": [
        "Vemos que siempre que embarked es missing también lo es embark_town."
      ]
    },
    {
      "cell_type": "markdown",
      "id": "fd1e160e",
      "metadata": {
        "id": "fd1e160e"
      },
      "source": [
        "<a name=\"Nonulos\"></a>\n",
        "## No nulos, pero casi\n",
        "En ocasiones hay valores que no son nulos pero son \"señales\" que indican falta de información. Valores como \"99\" o valores negativos en columnas que deben tener valores no negativos. Lo que debemos hacer es convertir estos valores en NaN"
      ]
    },
    {
      "cell_type": "code",
      "execution_count": null,
      "id": "c90cc338",
      "metadata": {
        "id": "c90cc338"
      },
      "outputs": [],
      "source": [
        "url=\"https://raw.githubusercontent.com/RafaelCaballero/tdm/master/datos/NATOships.csv\"\n",
        "df2 = pd.read_csv(url)\n",
        "df2"
      ]
    },
    {
      "cell_type": "markdown",
      "id": "1b8bd767",
      "metadata": {
        "id": "1b8bd767"
      },
      "source": [
        "Queremos reemplazar los valores \"-\" por NaN"
      ]
    },
    {
      "cell_type": "code",
      "execution_count": null,
      "id": "1fcc6fb6",
      "metadata": {
        "id": "1fcc6fb6"
      },
      "outputs": [],
      "source": [
        "df2[\"status\"] = df2[\"status\"].replace(\"-\",pd.NA)\n",
        "df2"
      ]
    },
    {
      "cell_type": "code",
      "execution_count": null,
      "id": "aeadf64f",
      "metadata": {
        "id": "aeadf64f"
      },
      "outputs": [],
      "source": [
        "msno.matrix(df2)"
      ]
    },
    {
      "cell_type": "code",
      "execution_count": null,
      "id": "752074bd",
      "metadata": {
        "id": "752074bd"
      },
      "outputs": [],
      "source": [
        "msno.heatmap(df2)"
      ]
    },
    {
      "cell_type": "markdown",
      "id": "bf68cd5b",
      "metadata": {
        "id": "bf68cd5b"
      },
      "source": [
        "<a name=\"Que\"></a>\n",
        "## ¿Qué hacer?\n",
        "\n",
        "* Si hay columnas con muy pocos datos válidos y que no resultan imprescindibles se pueden borrar\n",
        "\n",
        "* Si hay muy pocas filas con un valor nulo (representan un tanto por cierto muy pequeño, menor del 1%) se pueden eliminar\n",
        "\n",
        "* Si el número de nulos es muy alto una posibilidad es *imputar* el valor. Las formas típicas de imputar:\n",
        "    - La mediana\n",
        "    - La media\n",
        "    - La moda (también vale para variables nominales)"
      ]
    },
    {
      "cell_type": "code",
      "execution_count": null,
      "id": "25d145d9",
      "metadata": {
        "id": "25d145d9"
      },
      "outputs": [],
      "source": [
        "url = \"https://raw.githubusercontent.com/RafaelCaballero/tdm/master/datos/contaminacionFinal.csv\"\n",
        "df_conta = pd.read_csv(url)\n",
        "msno.matrix(df_conta)\n"
      ]
    },
    {
      "cell_type": "markdown",
      "id": "a66e3bcb",
      "metadata": {
        "id": "a66e3bcb"
      },
      "source": [
        "En la columna 6 queremos reemplazar el valor por el valor medio; para eso utilizaremos un [SimpleImputer](https://scikit-learn.org/stable/modules/generated/sklearn.impute.SimpleImputer.html)"
      ]
    },
    {
      "cell_type": "code",
      "execution_count": null,
      "id": "4572eb20",
      "metadata": {
        "id": "4572eb20"
      },
      "outputs": [],
      "source": [
        "\n",
        "from sklearn.impute import SimpleImputer\n",
        "imp_mean = SimpleImputer( strategy='mean') #for median imputation replace 'mean' with 'median'\n",
        "imp_mean.fit(df_conta[[\"6\"]])\n",
        "df_imputed = df_conta.copy()\n",
        "df_imputed[[\"6\"]]  = imp_mean.transform(df_conta[[\"6\"]])\n",
        "msno.matrix(df_imputed)"
      ]
    },
    {
      "cell_type": "markdown",
      "id": "c10b6186",
      "metadata": {
        "id": "c10b6186"
      },
      "source": [
        "<a name=\"Tipos\"></a>\n",
        "## Tipos de nulos\n",
        "\n",
        "En [1976](https://www.jstor.org/stable/2335739) Donald B. Rubin distinguió 3 tipos de valores nulos:\n",
        "\n",
        "* Si los datos perdidos se encuentran totalmente al azar en una columna y no depende del valor del resto de la fila, decimos que es  *missing completely at random* (MCAR). Nosotros les vamos a llamar Missing Independientes (MI).\n",
        "\n",
        "* Si el valor perdido está asociado a ciertos valores del resto de la fila tenemos valores *missing at random* (MAR), o Missing Dependientes (MD)\n",
        "\n",
        "* En otro caso hablamos de *missing not at random* (MNAR): hay otras causas que no conocemos, no los vamos a considerar\n",
        "\n",
        "\n",
        "\n",
        "<a name=\"Categorical\"></a>\n",
        "### MI versus MD en variables categóricas.\n",
        "\n",
        "Podemos detectar si una columna depende de otra como (y por tanto es MAR y no MCAR) utilizando el test $\\mathcal{X}^2$.\n",
        "Empecemos por generar datos MI"
      ]
    },
    {
      "cell_type": "code",
      "execution_count": null,
      "id": "9165bb44",
      "metadata": {
        "id": "9165bb44"
      },
      "outputs": [],
      "source": [
        "url = \"https://raw.githubusercontent.com/RafaelCaballero/tdm/master/datos/contaminacionFinal.csv\"\n",
        "df_conta = pd.read_csv(url)\n",
        "df_conta"
      ]
    },
    {
      "cell_type": "markdown",
      "id": "2f4f5b72",
      "metadata": {
        "id": "2f4f5b72"
      },
      "source": [
        "Nos inventamos una columna nueva que va a ser nula dependiendo del valor de un dado"
      ]
    },
    {
      "cell_type": "code",
      "execution_count": null,
      "id": "5261ddd5",
      "metadata": {
        "id": "5261ddd5"
      },
      "outputs": [],
      "source": [
        "import numpy as np\n",
        "df_conta[\"15\"] = 0 # para crearlo\n",
        "df_conta[\"dado\"] = 0 # para crearlo\n",
        "\n",
        "df_conta[\"dado\"]  = np.random.choice([1, 2, 3, 4, 5, 6], len(df_conta), p=[1/6, 1/6, 1/6, 1/6, 1/6, 1/6])\n",
        "\n",
        "# nos quedamos con las filas en las que el dado tiene un 6\n",
        "index = df_conta[df_conta[\"dado\"]==6].index\n",
        "\n",
        "# le ponemos nulos\n",
        "df_conta.loc[index,\"15\"] = pd.NA\n",
        "df_conta"
      ]
    },
    {
      "cell_type": "markdown",
      "id": "6f181638",
      "metadata": {
        "id": "6f181638"
      },
      "source": [
        "Para aplicar el test convertimos la columna que queremos examinar, la \"15\", en una nueva que vale 1 si es nulo y 0  en otro caso"
      ]
    },
    {
      "cell_type": "code",
      "execution_count": null,
      "id": "65ce1b3f",
      "metadata": {
        "id": "65ce1b3f"
      },
      "outputs": [],
      "source": [
        "df_conta[\"15_missing\"] = 0\n",
        "indice_nulos = df_conta[df_conta['15'].isnull()].index\n",
        "df_conta.loc[indice_nulos, \"15_missing\"] = 1\n",
        "df_conta"
      ]
    },
    {
      "cell_type": "markdown",
      "id": "d0ecbf13",
      "metadata": {
        "id": "d0ecbf13"
      },
      "source": [
        "Veamos primero cómo se relaciona con una columna nominal"
      ]
    },
    {
      "cell_type": "code",
      "execution_count": null,
      "id": "fd1a3a4b",
      "metadata": {
        "id": "fd1a3a4b"
      },
      "outputs": [],
      "source": [
        "contingencias=pd.crosstab(index=df_conta.ANO,columns=df_conta[\"15_missing\"])\n",
        "contingencias"
      ]
    },
    {
      "cell_type": "code",
      "execution_count": null,
      "id": "04495c58",
      "metadata": {
        "id": "04495c58"
      },
      "outputs": [],
      "source": [
        "from scipy.stats import chi2_contingency\n",
        "\n",
        "# este es el test\n",
        "ChiSqResult = chi2_contingency(contingencias)\n",
        "ChiSqResult"
      ]
    },
    {
      "cell_type": "markdown",
      "id": "ee3e262b",
      "metadata": {
        "id": "ee3e262b"
      },
      "source": [
        "Como $H_0$ = No hay correlación entre las variables, tenemos que como p>0.05 no podemos descartar no haya correlación, en principio asumimos MI. Miremos otra variable:"
      ]
    },
    {
      "cell_type": "code",
      "execution_count": null,
      "id": "ccf25f94",
      "metadata": {
        "id": "ccf25f94"
      },
      "outputs": [],
      "source": [
        "df_conta[\"9_missing\"] = 0\n",
        "indice_nulos = df_conta[df_conta['9'].isnull()].index\n",
        "df_conta.loc[indice_nulos, \"9_missing\"] = 1\n",
        "contingencias=pd.crosstab(index=df_conta.ANO,columns=df_conta[\"9_missing\"])\n",
        "ChiSqResult = chi2_contingency(contingencias)\n",
        "ChiSqResult"
      ]
    },
    {
      "cell_type": "markdown",
      "id": "e26a11a8",
      "metadata": {
        "id": "e26a11a8"
      },
      "source": [
        "Sale que sí hay correlación con el año; estamos en el caso de MD. Veamos si podemos ver esta relación gráficamente:"
      ]
    },
    {
      "cell_type": "code",
      "execution_count": null,
      "id": "f1a936fa",
      "metadata": {
        "id": "f1a936fa"
      },
      "outputs": [],
      "source": [
        "sns.histplot(data=df_conta, hue=\"9_missing\",x=\"ANO\",stat=\"count\", multiple=\"stack\")"
      ]
    },
    {
      "cell_type": "markdown",
      "id": "c97f906f",
      "metadata": {
        "id": "c97f906f"
      },
      "source": [
        "Cabría pensar en si merece la pena tratar aparte el año 2019"
      ]
    },
    {
      "cell_type": "markdown",
      "id": "e1b1c9b3",
      "metadata": {
        "id": "e1b1c9b3"
      },
      "source": [
        "<a name=\"Ratio\"></a>\n",
        "### MI  versus MD en variables ratio\n",
        "\n",
        "En este caso usaremos las correlaciones\n"
      ]
    },
    {
      "cell_type": "code",
      "execution_count": null,
      "id": "7cd2fff2",
      "metadata": {
        "id": "7cd2fff2"
      },
      "outputs": [],
      "source": [
        "df_conta"
      ]
    },
    {
      "cell_type": "code",
      "execution_count": null,
      "id": "e47f0f76",
      "metadata": {
        "id": "e47f0f76"
      },
      "outputs": [],
      "source": [
        "df_conta.iloc[:,4:-3]"
      ]
    },
    {
      "cell_type": "code",
      "execution_count": null,
      "id": "9a4e3ba4",
      "metadata": {
        "id": "9a4e3ba4"
      },
      "outputs": [],
      "source": [
        "df_conta_num = df_conta.iloc[:,4:-3].copy()\n",
        "\n",
        "for c in df_conta_num:\n",
        "    indice_nulos = df_conta_num[df_conta_num[c].isnull()].index\n",
        "    df_conta_num[c] = 0\n",
        "    df_conta_num.loc[indice_nulos, c] = 1\n",
        "df_conta_num\n"
      ]
    },
    {
      "cell_type": "code",
      "execution_count": null,
      "id": "ea3333c0",
      "metadata": {
        "id": "ea3333c0"
      },
      "outputs": [],
      "source": [
        "# quitamos las columnas que no tienen unos\n",
        "tiene_nulos = df_conta_num.sum()>0\n",
        "tiene_nulos"
      ]
    },
    {
      "cell_type": "code",
      "execution_count": null,
      "id": "3c7283af",
      "metadata": {
        "id": "3c7283af"
      },
      "outputs": [],
      "source": [
        "df_conta_num = df_conta_num.iloc[:,tiene_nulos.values]\n",
        "df_conta_num"
      ]
    },
    {
      "cell_type": "code",
      "execution_count": null,
      "id": "cc2c67f1",
      "metadata": {
        "id": "cc2c67f1"
      },
      "outputs": [],
      "source": [
        "import matplotlib.pyplot as plt\n",
        "corr = df_conta_num.corr()\n",
        "plt.figure(figsize=(11,8))\n",
        "sns.heatmap(corr, cmap=\"Greens\",annot=True)\n",
        "plt.show()"
      ]
    },
    {
      "cell_type": "markdown",
      "id": "1f1fac03",
      "metadata": {
        "id": "1f1fac03"
      },
      "source": [
        "Por tanto las columnas 9 y 10 parecen tener nulos justamente en las mismas posiciones y hablamos de MD, quizás tengan que estudiarse aparte"
      ]
    },
    {
      "cell_type": "markdown",
      "id": "fb7bd24e",
      "metadata": {
        "id": "fb7bd24e"
      },
      "source": [
        "<a name=\"Bibliografía\"></a>\n",
        "## Bibliografía\n",
        "\n",
        "[Visualización](https://towardsdatascience.com/visualizing-missing-values-in-python-is-shockingly-easy-56ed5bc2e7ea) con el ejemplo del titanic que hemos mostrado\n",
        "\n",
        "[MCAR, MAR, MNAR](https://stefvanbuuren.name/fimd/sec-MCAR.html)\n",
        "\n",
        "[El test $\\mathcal{X}^2$ para distinguir MCAR de MAR](https://www.kaggle.com/code/yassirarezki/handling-missing-data-mcar-mar-and-mnar-part-i/notebook)"
      ]
    },
    {
      "cell_type": "code",
      "execution_count": null,
      "id": "e36a33dc",
      "metadata": {
        "id": "e36a33dc"
      },
      "outputs": [],
      "source": []
    }
  ],
  "metadata": {
    "kernelspec": {
      "display_name": "Python 3 (ipykernel)",
      "language": "python",
      "name": "python3"
    },
    "language_info": {
      "codemirror_mode": {
        "name": "ipython",
        "version": 3
      },
      "file_extension": ".py",
      "mimetype": "text/x-python",
      "name": "python",
      "nbconvert_exporter": "python",
      "pygments_lexer": "ipython3",
      "version": "3.9.12"
    },
    "colab": {
      "provenance": []
    }
  },
  "nbformat": 4,
  "nbformat_minor": 5
}