{
  "cells": [
    {
      "cell_type": "markdown",
      "metadata": {
        "id": "view-in-github",
        "colab_type": "text"
      },
      "source": [
        "<a href=\"https://colab.research.google.com/github/RafaelCaballero/BME/blob/main/c%C3%B3digo/12estadisticas.ipynb\" target=\"_parent\"><img src=\"https://colab.research.google.com/assets/colab-badge.svg\" alt=\"Open In Colab\"/></a>"
      ]
    },
    {
      "cell_type": "markdown",
      "id": "8a7c807c",
      "metadata": {
        "id": "8a7c807c"
      },
      "source": [
        "# Introducción a la ciencia de datos con Python\n",
        "### Rafa Caballero\n",
        "\n",
        "### Estadísticas básicas\n",
        "\n",
        "### Índice\n",
        "1. [Introducción](#Introducción)<br>\n",
        "2. [Centralidad](#Centralidad)<br>\n",
        "3. [Dispersión](#Dispersión)<br>\n",
        "4. [Representaciones gráficas](#Gráficas)<br>\n",
        "   4.1 [Histogramas](#Histogramas)<br>\n",
        "   4.1 [Líneas y Puntos](#Líneas)<br>\n",
        "   4.2 [Asimetría](#Asimetría)<br>\n",
        "   4.3 [Curtosis](#Curtosis)<br>\n",
        "   4.4 [Boxplots](#Boxplots)<br>\n",
        "   \n",
        "5. [Outliers](#Outliers)\n",
        "6. [Test estadísticos](#Tests)<br>\n",
        "   6.1 [Test de la normal](#Normalidad)<br>\n",
        "   6.2 [Igualdad de medias](#Vodka)<br>\n",
        "   6.3  [Bootstrapping](#Bootstrapping)<br>\n",
        "\n",
        "[Referencias](#Referencias)\n",
        "\n",
        "\n"
      ]
    },
    {
      "cell_type": "markdown",
      "source": [
        "<a name=\"Introducción\"></a>\n",
        "## Introducción\n",
        "\n",
        "Es lo primero que debemos hacer: conocer los datos, y para esto nos va a servir\n",
        "\n",
        "- Tomar muestras (`df.sample(100)`), mirar a los \"datos\" directamente\n",
        "- `df.info()` para tipos\n",
        "- `df.describe()` para información numérica rápida\n",
        "- `df.A.mean()`, `df.A.median()` media, mediana, etc.\n",
        "- Diagramas: de barras, d líneas, histogramas y los que vengan bien a nuestro problema\n",
        "- Test y técnicas estadísticas para asegurar la validez de los resultados\n",
        "\n",
        "Empezando cargando algunas librerías. Tras ejecutar esta casilla ir a \"Entorno de ejecución\" y dar \"Reiniciar Entorno\" para que se carguen.\n"
      ],
      "metadata": {
        "id": "Eq1a7VTksqpm"
      },
      "id": "Eq1a7VTksqpm"
    },
    {
      "cell_type": "code",
      "source": [
        "modules = [\"ydata-profiling\",\"sweetviz\",\"PyQt6\",\"plotly\",\"seaborn\",\"fastf1\"]\n",
        "\n",
        "import sys\n",
        "import os.path\n",
        "from subprocess import check_call\n",
        "import importlib\n",
        "import os\n",
        "\n",
        "def instala(modules):\n",
        "    print(\"Instalando módulos\")\n",
        "    for m in modules:\n",
        "        # para el import quitamos [...] y ==...\n",
        "        p = m.find(\"[\")\n",
        "        mi = m if p==-1 else m[:p]\n",
        "        p = mi.find(\"==\")\n",
        "        mi = mi if p==-1 else mi[:p]\n",
        "        torch_loader = importlib.util.find_spec(mi)\n",
        "        if torch_loader is not None:\n",
        "            print(m,\" encontrado\")\n",
        "        else:\n",
        "            print(m,\" No encontrado, instalando...\",end=\"\")\n",
        "            try:\n",
        "                r = check_call([sys.executable, \"-m\", \"pip\", \"install\", \"--user\", m])\n",
        "                print(\"¡hecho!\")\n",
        "            except:\n",
        "                print(\"¡Problema al instalar \",m,\"! ¿seguro que el módulo existe?\",sep=\"\")\n",
        "\n",
        "    print(\"¡Terminado!\")\n",
        "\n",
        "instala(modules)"
      ],
      "metadata": {
        "id": "2S3dpWFDcEG9"
      },
      "id": "2S3dpWFDcEG9",
      "execution_count": null,
      "outputs": []
    },
    {
      "cell_type": "code",
      "source": [
        "# datos de ejemplo\n",
        "import pandas as pd\n",
        "url = \"https://raw.githubusercontent.com/RafaelCaballero/tdm/refs/heads/master/datos/madrid/contaminacionLargo.csv\"\n",
        "df = pd.read_csv(url,parse_dates=['fechaH','fecha'])\n",
        "df"
      ],
      "metadata": {
        "id": "hBiHuL7WcXyY"
      },
      "id": "hBiHuL7WcXyY",
      "execution_count": null,
      "outputs": []
    },
    {
      "cell_type": "code",
      "source": [
        "df.info() # información básica de tipos"
      ],
      "metadata": {
        "id": "qgdLt-3MuUSn"
      },
      "id": "qgdLt-3MuUSn",
      "execution_count": null,
      "outputs": []
    },
    {
      "cell_type": "code",
      "source": [
        "df.describe(include='all') # información estadística básica"
      ],
      "metadata": {
        "id": "ng-3SMM7ufEg"
      },
      "id": "ng-3SMM7ufEg",
      "execution_count": null,
      "outputs": []
    },
    {
      "cell_type": "code",
      "source": [
        "# para conocer el número de valores por columna\n",
        "for c in df.columns:\n",
        "  print(c, len(df[c].dropna().unique()))"
      ],
      "metadata": {
        "id": "fAp5dhgzujsY"
      },
      "id": "fAp5dhgzujsY",
      "execution_count": null,
      "outputs": []
    },
    {
      "cell_type": "code",
      "source": [
        "# para los valores discretos que no se repiten demasiado puede interesar ver qué valores concretos y qué frecuencia\n",
        "df.ANO.value_counts()"
      ],
      "metadata": {
        "id": "6DXnjFaFvEZ8"
      },
      "id": "6DXnjFaFvEZ8",
      "execution_count": null,
      "outputs": []
    },
    {
      "cell_type": "markdown",
      "source": [
        "Queremos que \"ANO\" sea de tipo entero, no número real. Aprovechamos para poner \"AÑO\""
      ],
      "metadata": {
        "id": "A_YTzde0whyI"
      },
      "id": "A_YTzde0whyI"
    },
    {
      "cell_type": "code",
      "source": [
        "\n",
        "import pandas as pd\n",
        "url = \"https://raw.githubusercontent.com/RafaelCaballero/tdm/refs/heads/master/datos/madrid/contaminacionLargo.csv\"\n",
        "df_conta = pd.read_csv(url,parse_dates=['fechaH','fecha'])\n",
        "df_conta.index = df_conta.fechaH\n",
        "df_conta[\"AÑO\"] = df_conta.ANO.astype('Int64') # nombre raro de los enteros\n",
        "df_conta = df_conta.drop(columns=[\"ANO\"])\n",
        "df_conta[\"AÑO\"].value_counts()"
      ],
      "metadata": {
        "id": "oL79-Xi5vhEH"
      },
      "id": "oL79-Xi5vhEH",
      "execution_count": null,
      "outputs": []
    },
    {
      "cell_type": "markdown",
      "source": [
        "**Ejercicio** Comprobar qué valores diferentes toma la columan festivo y la frecuencia de cada uno en `df_conta`"
      ],
      "metadata": {
        "id": "F8lGvjkswrZl"
      },
      "id": "F8lGvjkswrZl"
    },
    {
      "cell_type": "code",
      "source": [],
      "metadata": {
        "id": "Q11W1Y0Ewyz-"
      },
      "id": "Q11W1Y0Ewyz-",
      "execution_count": null,
      "outputs": []
    },
    {
      "cell_type": "markdown",
      "source": [
        "Aunque aquí vamos a ir viendo en detalle cada posibilidad de gráficas y estadísticas se puede obtener una gran cantidad de información en un informe con una librería adecuada; es un excelente punto de comienzo."
      ],
      "metadata": {
        "id": "IR-vJcIuw9Kv"
      },
      "id": "IR-vJcIuw9Kv"
    },
    {
      "cell_type": "code",
      "source": [
        "# una librería para tener mucha información de golpe. Muy útil para empezar\n",
        "from ydata_profiling import ProfileReport\n",
        "profile = ProfileReport(df)\n",
        "profile.to_notebook_iframe()\n",
        "profile.to_file(\"contamina.html\")"
      ],
      "metadata": {
        "id": "T0KlNUyIcdBo"
      },
      "id": "T0KlNUyIcdBo",
      "execution_count": null,
      "outputs": []
    },
    {
      "cell_type": "markdown",
      "source": [
        "Otra posibilidad"
      ],
      "metadata": {
        "id": "wfXdJnALtrvl"
      },
      "id": "wfXdJnALtrvl"
    },
    {
      "cell_type": "code",
      "source": [
        "import sweetviz as sv\n",
        "report = sv.analyze(df)\n",
        "report.show_html()"
      ],
      "metadata": {
        "id": "B8dBotHmtqkL"
      },
      "id": "B8dBotHmtqkL",
      "execution_count": null,
      "outputs": []
    },
    {
      "cell_type": "markdown",
      "id": "45be422c",
      "metadata": {
        "id": "45be422c"
      },
      "source": [
        "<a name=\"Centralidad\"></a>\n",
        "## Centralidad\n",
        "\n",
        "La idea de las medidas de centralidad es reducir toda la columna a un solo número un \"centro\", el que mejor la represente. En la práctica hay más de una posibilidad.\n",
        "\n",
        "\n",
        "* Moda: el valor que más se repite. La única medida que tiene sentido para variables categóricas.\n",
        "\n",
        "* Media: $\\mu(x) = \\frac{\\displaystyle {\\sum_{i=1}^{N} x_i}}{N}$, donde $x$ es la variable que estamos estudiando formada por $x_1, \\dots, x_N$. La media es la medida de centralidad más popular. Puede verse afectada si hay hay una proporción grande de valores demasiado grandes o pequeños (outliers), especialmente si estos están agrupados de forma desigual.\n",
        "\n",
        "* Mediana: valor que deja al 50% de los valores por debajo y el otro 50% por encima.\n",
        "\n",
        "Para ver qué medida de centralidad es aplicable en cada caso tenemos que considerar el tipo de variable y si es discreta o continua:\n",
        "\n",
        "| **Tipo de Variable**     | **Nominal**                  | **Ordinal**                  | **Intervalo**                | **Ratio**                    |\n",
        "|--------------------------|------------------------------|------------------------------|------------------------------|------------------------------|\n",
        "| **Discreta**             | Moda                         | Moda, Mediana                | Moda, Mediana, Media?         | Moda, Mediana, Media?       |\n",
        "| **Continua**             | No aplica                    | Moda, Mediana                | Moda, Mediana, Media         | Moda, Mediana, Media        \n",
        "Esta tabla es una buena referencia, pero después hay que mirar cada caso.\n",
        "\n",
        "**Ejemplo 1** En un valor bursátil que normalmente sube salvo pequeñas bajadas ¿tiene sentido hablar de la moda?\n",
        "\n",
        "**Ejemplo 2** Tenemos un dataframes con datos de tweets. Una columna que indica la hora a la que se produce el tweet. En nuestro caso casi todos se producen por la noche, más o menos la mitad a las 23h y la mitad a las 0h. ¿Cuál será la media? ¿tiene sentido?\n",
        "\n",
        "Para obtener estos resultados con Pandas podemos utilizar los métodos predefinidos `mode`, `median` y `mean`.\n",
        "\n",
        "\n",
        "\n",
        "\n",
        "Ejemplo: notas obtenidas por diferentes países en las pruebas Pisa en lectura (REA), matemáticas (MAT) y ciencias (SCI) tanto para mujeres (FE) como para hombres (MA). Incluye también la renta per capita (RPC) del país y el nombre (PAIS) del país."
      ]
    },
    {
      "cell_type": "code",
      "execution_count": null,
      "id": "97b23893",
      "metadata": {
        "id": "97b23893"
      },
      "outputs": [],
      "source": [
        "import pandas as pd\n",
        "url = \"https://raw.githubusercontent.com/RafaelCaballero/tdm/master/datos/PisaDataClean.csv\"\n",
        "df_pisa = pd.read_csv(url)\n",
        "df_pisa"
      ]
    },
    {
      "cell_type": "code",
      "execution_count": null,
      "id": "yZSHx9YOWItp",
      "metadata": {
        "id": "yZSHx9YOWItp"
      },
      "outputs": [],
      "source": [
        "df_pisa.info()"
      ]
    },
    {
      "cell_type": "code",
      "execution_count": null,
      "id": "btgfWDpLWRwG",
      "metadata": {
        "id": "btgfWDpLWRwG"
      },
      "outputs": [],
      "source": [
        "df_pisa.describe()"
      ]
    },
    {
      "cell_type": "markdown",
      "id": "f8f5226c",
      "metadata": {
        "id": "f8f5226c"
      },
      "source": [
        "Veamos datos numéricos resaltando los valores extremos:"
      ]
    },
    {
      "cell_type": "code",
      "execution_count": null,
      "id": "AOJ9WcjSsNjG",
      "metadata": {
        "id": "AOJ9WcjSsNjG"
      },
      "outputs": [],
      "source": [
        "df_pisa.style.background_gradient(\"RdYlGn\")"
      ]
    },
    {
      "cell_type": "code",
      "execution_count": null,
      "id": "RQdprmh6sJ2P",
      "metadata": {
        "id": "RQdprmh6sJ2P"
      },
      "outputs": [],
      "source": [
        "df_pisa.info() # información general, nulos, tipos y memoria que ocupa"
      ]
    },
    {
      "cell_type": "code",
      "execution_count": null,
      "id": "5f408ba1",
      "metadata": {
        "id": "5f408ba1"
      },
      "outputs": [],
      "source": [
        "\n",
        "desc_pisa = df_pisa.describe()\n",
        "desc_pisa"
      ]
    },
    {
      "cell_type": "code",
      "execution_count": null,
      "id": "cc785e49",
      "metadata": {
        "id": "cc785e49"
      },
      "outputs": [],
      "source": [
        "# Nos quedamos solo con media y mediana\n",
        "mediamediana = desc_pisa.loc[ [\"mean\",\"50%\"] ]\n",
        "mediamediana"
      ]
    },
    {
      "cell_type": "code",
      "execution_count": null,
      "id": "51928a7c",
      "metadata": {
        "id": "51928a7c"
      },
      "outputs": [],
      "source": [
        "# veamos la diferecia\n",
        "mediamediana.iloc[0,:]-mediamediana.iloc[1,:]"
      ]
    },
    {
      "cell_type": "code",
      "execution_count": null,
      "id": "YoQITURPJX0s",
      "metadata": {
        "id": "YoQITURPJX0s"
      },
      "outputs": [],
      "source": [
        "traspuesta = mediamediana.T\n",
        "traspuesta"
      ]
    },
    {
      "cell_type": "code",
      "execution_count": null,
      "id": "rQWJYkkfJb6s",
      "metadata": {
        "id": "rQWJYkkfJb6s"
      },
      "outputs": [],
      "source": [
        "traspuesta[\"dif\"] = traspuesta[\"mean\"] - traspuesta[\"50%\"]\n",
        "df_dif = traspuesta.T\n",
        "df_dif"
      ]
    },
    {
      "cell_type": "code",
      "execution_count": null,
      "id": "967c7778",
      "metadata": {
        "id": "967c7778"
      },
      "outputs": [],
      "source": [
        "# otra forma, solo para una variable\n",
        "df_pisa.MAT.mean(), df_pisa.MAT.median()"
      ]
    },
    {
      "cell_type": "markdown",
      "source": [
        "**Ejercicio** Partimos del siguiente fichero de valores con incrementos con respecto al día anterior en tanto sobre 1"
      ],
      "metadata": {
        "id": "ryqVlScyxoCU"
      },
      "id": "ryqVlScyxoCU"
    },
    {
      "cell_type": "code",
      "execution_count": null,
      "id": "TlC5vOySLryz",
      "metadata": {
        "id": "TlC5vOySLryz"
      },
      "outputs": [],
      "source": [
        "import pandas as pd\n",
        "url = \"https://github.com/RafaelCaballero/tdm/raw/refs/heads/master/datos/IBEX6000Inc.zip\"\n",
        "\n",
        "# solución\n",
        "df_bolsa = pd.read_csv(url,parse_dates=['Fecha'])\n",
        "\n",
        "# Pasamos a % en lugar de sobre 1\n",
        "valores = ['BBVA', 'Iberdrola', 'Inditex', 'Repsol', 'Santander']\n",
        "df_bolsa[valores] = df_bolsa[valores]*100\n",
        "df_bolsa"
      ]
    },
    {
      "cell_type": "markdown",
      "source": [
        "Queremos ver qué incremento medio tiene  el BBVA los Jueves y que incremento los Viernes. Mostrar ambos valores"
      ],
      "metadata": {
        "id": "T5gT7k4Axx7U"
      },
      "id": "T5gT7k4Axx7U"
    },
    {
      "cell_type": "code",
      "source": [],
      "metadata": {
        "id": "i5P8-8MKy2IL"
      },
      "id": "i5P8-8MKy2IL",
      "execution_count": null,
      "outputs": []
    },
    {
      "cell_type": "markdown",
      "source": [
        "**Ejercicio** Ahora lo mismo pero para cuando Luna es Nueva y cuando Luna es Llena"
      ],
      "metadata": {
        "id": "9fJHaNYKy3H5"
      },
      "id": "9fJHaNYKy3H5"
    },
    {
      "cell_type": "code",
      "source": [],
      "metadata": {
        "id": "u22vK3kSy9WE"
      },
      "id": "u22vK3kSy9WE",
      "execution_count": null,
      "outputs": []
    },
    {
      "cell_type": "markdown",
      "id": "0c421350",
      "metadata": {
        "id": "0c421350"
      },
      "source": [
        "<a name=\"Dispersión\"></a>\n",
        "## Dispersión\n",
        "\n",
        "Si las medidas de centralidad dan la idea de un \"centro\" de la variable, la media de dispersión sería el \"radio\" indica lo alejados que están de ese centro. Vamos a ver 2 cada uno relacionado con una de las medidas de centralidad\n",
        "\n",
        "* Desviación típica $\\sigma(x)=\\sqrt{\\frac{{\\displaystyle \\sum_{i=1}^{N}\\left(x_{i}-\\mu\\right)^{2}}}{N}}$, la raíz cuadrada de la varianza\n",
        "\n",
        "* Desviación absoluta con respecto a la mediana $\\mathit{MAD}(x) = mediana(|x_i - mediana(x)|)$"
      ]
    },
    {
      "cell_type": "code",
      "execution_count": null,
      "id": "42161689",
      "metadata": {
        "id": "42161689"
      },
      "outputs": [],
      "source": [
        "df_pisa.MAT.std(), (df_pisa.MAT - df_pisa.MAT.median()).abs().median()"
      ]
    },
    {
      "cell_type": "code",
      "execution_count": null,
      "id": "e8eb4de6",
      "metadata": {
        "id": "e8eb4de6"
      },
      "outputs": [],
      "source": [
        "def mad(variable):\n",
        "  return (variable-variable.median()).abs().median()\n",
        "\n",
        "def centra_disp(df):\n",
        "  # nos quedamos solo con los datos que sean números (asumimos que hemos comprobado que todos son ratio o intervalo)\n",
        "  df_num = df.select_dtypes(include=[\"number\"])\n",
        "  datos = []\n",
        "  for c in df_num.columns:\n",
        "      variable = df[c]\n",
        "      datos.append([variable.mean(), variable.median(), variable.std(), mad(variable)])\n",
        "\n",
        "  estad = pd.DataFrame(datos,columns=[\"mean\",\"median\",\"std\",\"MAD\"],index=df_num.columns)\n",
        "  return estad"
      ]
    },
    {
      "cell_type": "code",
      "execution_count": null,
      "id": "hr8nWuzQbS-F",
      "metadata": {
        "id": "hr8nWuzQbS-F"
      },
      "outputs": [],
      "source": [
        "centra_disp(df_pisa)"
      ]
    },
    {
      "cell_type": "markdown",
      "id": "9675877a",
      "metadata": {
        "id": "9675877a"
      },
      "source": [
        "Algunas consecuencias sencillas:\n",
        "* De media parece que los hombres lo hacen mejor en matemáticas y las mujeres en lectura, en ciencia la diferencia es muy pequeña\n",
        "* De media se obtiene mejor nota en ciencias que en lectura, y en lectura que en matemáticas\n",
        "* En general la mediana es mayor que la media indicando una mayor dispersión a la izquierda\n",
        "* La mayor dispersión `std` se da en MAT_MA, pero si nos fijamos en la mediana es SCI_MA (quizás MAT_MA tiene más outliers?)\n",
        "* La menor dispersión `std` se da en REA_FE y en SCI_FE, aunque desde el punto de vista de MAD se da en SCI_FE y MAT_FE. En todo caso parece que las notas para las chicas varían menos de país en país que en el caso de los chicos (¿por qué?)"
      ]
    },
    {
      "cell_type": "markdown",
      "source": [
        "<a name=\"Gráficas\"></a>\n",
        "## Representaciones gráficas"
      ],
      "metadata": {
        "id": "xLXSm-0-hEyl"
      },
      "id": "xLXSm-0-hEyl"
    },
    {
      "cell_type": "markdown",
      "id": "8ed7ec70",
      "metadata": {
        "id": "8ed7ec70"
      },
      "source": [
        "<a name=\"Histogramas\"></a>\n",
        "### Histogramas\n",
        "\n",
        "\n",
        "* Un histograma representa la frecuencia (número de elementos) en una variable (ratio u intervalo) representada por intervalos, nos permite ver la distribución de la variable (algo que no se pretende con el diagrama de barras)\n",
        "\n",
        "* En el caso de valores ordinales se puede usar un \"diagrama de barras ordenado\"\n",
        "\n",
        "Muestran la frecuencia (número de repeticiones) de cada valor.\n",
        "\n",
        "- Histograma: para variables continuas. Se utilizan intervalos (los bins)\n",
        "- Diagrama de barras: para variables discretas.\n",
        "\n",
        "La forma más sencilla\n"
      ]
    },
    {
      "cell_type": "code",
      "execution_count": null,
      "id": "lo_M77gxJ0WA",
      "metadata": {
        "id": "lo_M77gxJ0WA"
      },
      "outputs": [],
      "source": [
        "import matplotlib.pyplot as plt\n",
        "df_pisa.hist()\n",
        "plt.tight_layout()\n",
        "plt.show()"
      ]
    },
    {
      "cell_type": "code",
      "execution_count": null,
      "id": "943ceb33-fd5b-42b7-890f-5951d19727b4",
      "metadata": {
        "scrolled": true,
        "id": "943ceb33-fd5b-42b7-890f-5951d19727b4"
      },
      "outputs": [],
      "source": [
        "df_pisa.MAT.plot(kind=\"hist\")"
      ]
    },
    {
      "cell_type": "markdown",
      "id": "f263e676-26f1-4737-90aa-d963cf043ec9",
      "metadata": {
        "id": "f263e676-26f1-4737-90aa-d963cf043ec9"
      },
      "source": [
        "Ejemplo con datos financieros"
      ]
    },
    {
      "cell_type": "code",
      "execution_count": null,
      "id": "7a2f0af3-d59a-48c8-9c4e-52f4c65646d9",
      "metadata": {
        "id": "7a2f0af3-d59a-48c8-9c4e-52f4c65646d9"
      },
      "outputs": [],
      "source": [
        "import yfinance as yf\n",
        "import pandas as pd\n",
        "\n",
        "\n",
        "ticker ='ITX.MC'  #   ITX.MC es Inditex en la bolsa de Madrid\n",
        "\n",
        "# Descargar los datos de Yahoo Finance\n",
        "data = yf.download(ticker, start=\"1900-01-01\")\n",
        "\n",
        "# Seleccionar solo la columna de 'Close' (precios ajustados de cierre)\n",
        "df = pd.DataFrame({'Close': data['Close']})\n",
        "\n",
        "# Eliminar las filas con datos perdidos\n",
        "df = df.dropna()\n",
        "df\n",
        "\n"
      ]
    },
    {
      "cell_type": "code",
      "execution_count": null,
      "id": "8656fe08-b4c8-4e9b-8cf4-f95dc6867852",
      "metadata": {
        "id": "8656fe08-b4c8-4e9b-8cf4-f95dc6867852"
      },
      "outputs": [],
      "source": [
        "ax = df.Close.plot(kind=\"density\", figsize=(9,9))\n",
        "df.Close.plot(kind=\"hist\", density=True, alpha=0.5, bins=30, ax=ax)"
      ]
    },
    {
      "cell_type": "markdown",
      "id": "920a10cf-b2ca-4f2a-be78-8d30c659eae0",
      "metadata": {
        "id": "920a10cf-b2ca-4f2a-be78-8d30c659eae0"
      },
      "source": [
        "Es una bimodal, algo bastante curioso porque representa varios tipos de valores, veamos la gráfica con línea"
      ]
    },
    {
      "cell_type": "code",
      "execution_count": null,
      "id": "5bc8d49f-058d-4264-9b1a-76888ac1d91b",
      "metadata": {
        "id": "5bc8d49f-058d-4264-9b1a-76888ac1d91b"
      },
      "outputs": [],
      "source": [
        "df.Close.plot(kind=\"line\")"
      ]
    },
    {
      "cell_type": "markdown",
      "id": "f44cf19f-6d98-4550-8e80-99858eee51b4",
      "metadata": {
        "id": "f44cf19f-6d98-4550-8e80-99858eee51b4"
      },
      "source": [
        "Otra forma de hacer histogramas"
      ]
    },
    {
      "cell_type": "code",
      "execution_count": null,
      "id": "a22fcda2-dc4e-4d69-9a8d-7377cfca5d91",
      "metadata": {
        "id": "a22fcda2-dc4e-4d69-9a8d-7377cfca5d91"
      },
      "outputs": [],
      "source": [
        "#!pip install plotly"
      ]
    },
    {
      "cell_type": "code",
      "execution_count": null,
      "id": "96c6e7b9-8003-401f-8821-2f19cbfffe1e",
      "metadata": {
        "id": "96c6e7b9-8003-401f-8821-2f19cbfffe1e"
      },
      "outputs": [],
      "source": [
        "import plotly.express as px\n",
        "fig = px.histogram(df, x=\"Close\")\n",
        "fig.show()"
      ]
    },
    {
      "cell_type": "markdown",
      "id": "c719d05b-c0cd-4890-a64a-12982e378d14",
      "metadata": {
        "id": "c719d05b-c0cd-4890-a64a-12982e378d14"
      },
      "source": [
        "Histograma clásico un poco más elaborado, con matplotlib"
      ]
    },
    {
      "cell_type": "code",
      "execution_count": null,
      "id": "0529db9b",
      "metadata": {
        "id": "0529db9b"
      },
      "outputs": [],
      "source": [
        "import numpy as np\n",
        "import matplotlib.pyplot as plt\n",
        "\n",
        "#generate a random numpy array with 1000 elements\n",
        "normaldata = np.random.randn(100000)\n",
        "data=normaldata\n",
        "\n",
        "#histograma\n",
        "plt.hist(data,edgecolor=\"black\", bins =30)\n",
        "\n",
        "#añadimos título\n",
        "plt.title(\"Histograma\")\n",
        "\n",
        "#etiqueta en X\n",
        "plt.xlabel(\"Valores\")\n",
        "\n",
        "#etiqueta en y\n",
        "plt.ylabel(\"Frecuencias\")\n",
        "\n",
        "# mostrarlo\n",
        "plt.show()"
      ]
    },
    {
      "cell_type": "code",
      "execution_count": null,
      "id": "3e7a51ca",
      "metadata": {
        "id": "3e7a51ca"
      },
      "outputs": [],
      "source": [
        "data.mean(), data.std(), np.median(data)"
      ]
    },
    {
      "cell_type": "markdown",
      "id": "6ec55e74",
      "metadata": {
        "id": "6ec55e74"
      },
      "source": [
        "Con `density=True` conseguimos frecuencias relativas"
      ]
    },
    {
      "cell_type": "code",
      "execution_count": null,
      "id": "13a7e93e",
      "metadata": {
        "id": "13a7e93e"
      },
      "outputs": [],
      "source": [
        "#histograma\n",
        "plt.hist(data,edgecolor=\"black\", bins =30, density=True)\n",
        "\n",
        "#añadimos título\n",
        "plt.title(\"Histograma\")\n",
        "\n",
        "#etiqueta en X\n",
        "plt.xlabel(\"Valores\")\n",
        "\n",
        "#etiqueta en y\n",
        "plt.ylabel(\"Frecuencias\")\n",
        "\n",
        "# mostrarlo\n",
        "plt.show()"
      ]
    },
    {
      "cell_type": "markdown",
      "id": "a38694cb",
      "metadata": {
        "id": "a38694cb"
      },
      "source": [
        "Cuando tenemos una normal \"perfecta\"  se tiene que\n",
        "<img src=\"https://news.mit.edu/sites/default/files/styles/news_article__image_gallery/public/images/201202/20120208160239-1_0.jpg?itok=1X1a_HCs\" width=400></img>\n",
        "\n",
        "13.6 + 34.1 + 13.6 + 34.1 = 95.4% es decir casi el 95% de los valores estarán entre la media y +- 2 la desviación típica"
      ]
    },
    {
      "cell_type": "code",
      "execution_count": null,
      "id": "bbb010bd",
      "metadata": {
        "id": "bbb010bd"
      },
      "outputs": [],
      "source": [
        "m = data.mean()\n",
        "s = data.std()\n",
        "\n",
        "sum((data < m+2*s) & (data >m-2*s))/len(data)"
      ]
    },
    {
      "cell_type": "markdown",
      "id": "34F3asUhSAVo",
      "metadata": {
        "id": "34F3asUhSAVo"
      },
      "source": [
        "Ejemplo más elaborado usando seaborn y con media y mediana"
      ]
    },
    {
      "cell_type": "code",
      "execution_count": null,
      "id": "4ubTtMTiKll0",
      "metadata": {
        "id": "4ubTtMTiKll0"
      },
      "outputs": [],
      "source": [
        "import numpy as np\n",
        "import matplotlib.pyplot as plt\n",
        "import pandas as pd\n",
        "import seaborn as sns\n",
        "\n",
        "def plot_histograms_with_stats(df):\n",
        "    # solo columnas numéricas\n",
        "    columns = df.select_dtypes(include=[np.number]).columns\n",
        "    for col in columns:\n",
        "        # nuevo gráfico\n",
        "        fig,ax = plt.subplots(nrows=1, ncols=1, figsize=(10, 10))\n",
        "        data = df[col].dropna()\n",
        "        mean_val = data.mean()\n",
        "        median_val = data.median()\n",
        "\n",
        "        # histograma y líneas verticales\n",
        "        sns.histplot(df[col], bins=25, ax=ax, alpha=0.3, kde=False)\n",
        "        ax.axvline(mean_val, color='red', linestyle='dashed', linewidth=1, label=f'Mean: {mean_val:.2f}')\n",
        "        ax.axvline(median_val, color='green', linestyle='dashed', linewidth=1, label=f'Median: {median_val:.2f}')\n",
        "\n",
        "        ax.set_title(f'Histogram of {col}')\n",
        "        ax.set_xlabel(col)\n",
        "        ax.set_ylabel('Frequency')\n",
        "        ax.legend()\n",
        "        fig.savefig(col+\".png\")\n",
        "        plt.show()\n",
        "plot_histograms_with_stats(df_pisa)"
      ]
    },
    {
      "cell_type": "markdown",
      "source": [
        "En el caso de ser strings o tipos categóricos lo que mostramos es el un diagrama de barras  del dataframe devuelto por `value_counts`\n",
        "\n",
        "**Pandas**"
      ],
      "metadata": {
        "id": "q-KUtKnniylf"
      },
      "id": "q-KUtKnniylf"
    },
    {
      "cell_type": "code",
      "source": [
        "frecuencias = df_conta['festivo'].value_counts().sort_index()\n",
        "\n",
        "# Crear un diagrama de barras usando pandas\n",
        "frecuencias.plot(kind='bar', figsize=(8, 5), color='skyblue', title='Frecuencia de Categorías')\n",
        "plt.xlabel('Categoría')\n",
        "plt.ylabel('Frecuencia')\n",
        "plt.show()"
      ],
      "metadata": {
        "id": "pFRH94w2i9gK"
      },
      "id": "pFRH94w2i9gK",
      "execution_count": null,
      "outputs": []
    },
    {
      "cell_type": "markdown",
      "source": [
        "**Seaborn**"
      ],
      "metadata": {
        "id": "3lG40Be8jGvx"
      },
      "id": "3lG40Be8jGvx"
    },
    {
      "cell_type": "code",
      "source": [
        "import seaborn as sns\n",
        "sns.countplot(data=df_conta, x=\"festivo\")"
      ],
      "metadata": {
        "id": "wgaMeEhAjIaa"
      },
      "id": "wgaMeEhAjIaa",
      "execution_count": null,
      "outputs": []
    },
    {
      "cell_type": "markdown",
      "source": [
        "**Plotly**"
      ],
      "metadata": {
        "id": "PevTGa4wjIk6"
      },
      "id": "PevTGa4wjIk6"
    },
    {
      "cell_type": "code",
      "source": [
        "fig = px.bar(frecuencias)\n",
        "fig.show()"
      ],
      "metadata": {
        "id": "C3UNHIujjPs5"
      },
      "id": "C3UNHIujjPs5",
      "execution_count": null,
      "outputs": []
    },
    {
      "cell_type": "markdown",
      "source": [
        "<a name=\"Líneas\"></a>\n",
        "### Diagramas de líneas y puntos\n",
        "\n",
        "Los diagramas de puntos y los diagramas de líneas son un buen complemento de los histogramas, especialmente cuando son series temporales. Si este es el caso, tener la fecha como índice nos ayudará a que el gráfico se muestre ordenado por fecha.\n",
        "\n",
        "**Pandas**"
      ],
      "metadata": {
        "id": "Xyw7Bxx2hl6o"
      },
      "id": "Xyw7Bxx2hl6o"
    },
    {
      "cell_type": "code",
      "source": [
        "filtro = (df_conta[\"AÑO\"]==2021) & (df_conta.MES<=3)\n",
        "df_conta[filtro].NOx.plot(kind=\"line\", figsize=(20,5))"
      ],
      "metadata": {
        "id": "Bm4nMQpEh4i0"
      },
      "id": "Bm4nMQpEh4i0",
      "execution_count": null,
      "outputs": []
    },
    {
      "cell_type": "markdown",
      "source": [
        "El gráfico de puntos es similar, pero exige que se lo apliquemos al dataframe completo e indiquemos como parámetros la x y la y...cosas de Pandas"
      ],
      "metadata": {
        "id": "iHKFPkL0iDW5"
      },
      "id": "iHKFPkL0iDW5"
    },
    {
      "cell_type": "code",
      "source": [
        "df_conta[filtro].plot(kind=\"scatter\", x=\"fechaH\", y=\"NOx\", figsize=(20,5))"
      ],
      "metadata": {
        "id": "osCmH9uXiEXV"
      },
      "id": "osCmH9uXiEXV",
      "execution_count": null,
      "outputs": []
    },
    {
      "cell_type": "code",
      "source": [
        "# Añadimos tamaño del punto\n",
        "df_conta[filtro].plot(kind=\"scatter\", x=\"fechaH\", y=\"NOx\", figsize=(20,5),s=1)"
      ],
      "metadata": {
        "id": "cUhW9jViiLmL"
      },
      "id": "cUhW9jViiLmL",
      "execution_count": null,
      "outputs": []
    },
    {
      "cell_type": "markdown",
      "source": [
        "**Seaborn**"
      ],
      "metadata": {
        "id": "vFswh7KMiIJT"
      },
      "id": "vFswh7KMiIJT"
    },
    {
      "cell_type": "code",
      "source": [
        "import seaborn as sns\n",
        "import matplotlib.pyplot as plt\n",
        "\n",
        "plt.figure(figsize=(20, 5))\n",
        "sns.lineplot( data=df_conta[filtro],   x='fechaH',    y='NOx')\n",
        "plt.show()\n"
      ],
      "metadata": {
        "id": "F7zgQTTLif-l"
      },
      "id": "F7zgQTTLif-l",
      "execution_count": null,
      "outputs": []
    },
    {
      "cell_type": "markdown",
      "source": [
        "**Plotly**"
      ],
      "metadata": {
        "id": "b2XFudgRimrn"
      },
      "id": "b2XFudgRimrn"
    },
    {
      "cell_type": "code",
      "source": [
        "import plotly.express as px\n",
        "import pandas as pd\n",
        "\n",
        "\n",
        "# Crear el gráfico de líneas con Plotly\n",
        "\n",
        "fig = px.line(df_conta[filtro], x=\"fechaH\",  y='NOx',  width=1000, height=500)\n",
        "\n",
        "# Añadir detalles al gráfico\n",
        "fig.update_layout(\n",
        "    title='Gráfico de Líneas de NOx vs Fecha',\n",
        "    xaxis_title='Fecha',\n",
        "    yaxis_title='NOx',\n",
        "    xaxis=dict(rangeslider=dict(visible=True)),  # Añadir un selector de rango de fecha si es necesario\n",
        "    template='plotly_white'\n",
        ")\n",
        "\n",
        "# Mostrar el gráfico\n",
        "fig.show()\n"
      ],
      "metadata": {
        "id": "wk_NNdJsiin2"
      },
      "id": "wk_NNdJsiin2",
      "execution_count": null,
      "outputs": []
    },
    {
      "cell_type": "markdown",
      "id": "6fd33421",
      "metadata": {
        "id": "6fd33421"
      },
      "source": [
        "<a name=\"Asimetría\"></a>\n",
        "### Asimetría\n",
        "\n",
        "Asimetría a la derecha: muchos datos acumulados en poco espacio a la izquierda, a la derecha un descenso lento y prolongado\n",
        "\n",
        "* Se tendrá que media>mediana\n",
        "* Normalmente solo tendremos que preocuparnos por outliers a la derecha, es decir por valores \"excesivamente grandes\"\n",
        "* Sucede por ejemplo en mediciones que por su naturaleza son todas positivas\n",
        "* Puede tener sentido hacer un estudio diferente a la izquierda y a la derecha de la mediana"
      ]
    },
    {
      "cell_type": "code",
      "execution_count": null,
      "id": "c1b9098b",
      "metadata": {
        "id": "c1b9098b"
      },
      "outputs": [],
      "source": [
        "import pandas as pd\n",
        "url = \"https://raw.githubusercontent.com/RafaelCaballero/tdm/master/datos/madrid/contaminacionLargo.csv\"\n",
        "df_conta = pd.read_csv(url)\n",
        "df_conta"
      ]
    },
    {
      "cell_type": "code",
      "execution_count": null,
      "id": "550a3c2e",
      "metadata": {
        "id": "550a3c2e"
      },
      "outputs": [],
      "source": [
        "import numpy as np\n",
        "import matplotlib.pyplot as plt\n",
        "\n",
        "\n",
        "data = df_conta.PM10\n",
        "#histograma\n",
        "plt.hist(data,edgecolor=\"black\", bins =50)\n",
        "\n",
        "#añadimos título\n",
        "plt.title(\"Histograma\")\n",
        "\n",
        "#etiqueta en X\n",
        "plt.xlabel(\"Valores\")\n",
        "\n",
        "#etiqueta en y\n",
        "plt.ylabel(\"Frecuencias\")\n",
        "\n",
        "# mostrarlo\n",
        "plt.show()"
      ]
    },
    {
      "cell_type": "code",
      "execution_count": null,
      "id": "61c0b219",
      "metadata": {
        "id": "61c0b219"
      },
      "outputs": [],
      "source": [
        "data.mean(), data.median()"
      ]
    },
    {
      "cell_type": "markdown",
      "id": "46c07dcf",
      "metadata": {
        "id": "46c07dcf"
      },
      "source": [
        "Como vemos aquí no se cumple la regla anterior de que en el entorno 2std se concentra el 95% de la población. Esto es así porque no se trata de una normal"
      ]
    },
    {
      "cell_type": "code",
      "execution_count": null,
      "id": "352e5b37",
      "metadata": {
        "id": "352e5b37"
      },
      "outputs": [],
      "source": [
        "m = data.mean()\n",
        "s = data.std()\n",
        "\n",
        "sum((data < m+2*s) & (data >m-2*s))/len(data)"
      ]
    },
    {
      "cell_type": "markdown",
      "id": "05c05a85",
      "metadata": {
        "id": "05c05a85"
      },
      "source": [
        "La función `skew` de Pandas nos indica la asimetría:\n",
        "\n",
        "        >0 : Asimetría a la derecha o positiva\n",
        "        aprox. 0 : simétrico\n",
        "        <0 : asimetría a la izquierda o negativa\n",
        "\n",
        "\n",
        "<img src=\"https://upload.wikimedia.org/wikipedia/commons/c/cc/Relationship_between_mean_and_median_under_different_skewness.png\"  width=500>By Diva Jain - https://codeburst.io/2-important-statistics-terms-you-need-to-know-in-data-science-skewness-and-kurtosis-388fef94eeaa, CC BY-SA 4.0, https://commons.wikimedia.org/w/index.php?curid=84219892</img>\n",
        "\n",
        "\n",
        "\n"
      ]
    },
    {
      "cell_type": "code",
      "execution_count": null,
      "id": "6e353d51",
      "metadata": {
        "id": "6e353d51"
      },
      "outputs": [],
      "source": [
        "data.skew()"
      ]
    },
    {
      "cell_type": "markdown",
      "id": "34aff5d9",
      "metadata": {
        "id": "34aff5d9"
      },
      "source": [
        "Tenemos por tanto asimetría a la derecha. En el dataframe de PISA"
      ]
    },
    {
      "cell_type": "code",
      "execution_count": null,
      "id": "834ec03a",
      "metadata": {
        "id": "834ec03a"
      },
      "outputs": [],
      "source": [
        "df_pisa_num = df_pisa.select_dtypes(include=[\"number\"])\n",
        "for c in df_pisa_num:\n",
        "    print(c,df_pisa_num[c].skew())"
      ]
    },
    {
      "cell_type": "markdown",
      "id": "382629f3",
      "metadata": {
        "id": "382629f3"
      },
      "source": [
        "En nuestros datos \"normales\""
      ]
    },
    {
      "cell_type": "code",
      "execution_count": null,
      "id": "1078a64f",
      "metadata": {
        "id": "1078a64f"
      },
      "outputs": [],
      "source": [
        "pd.DataFrame({\"x\": normaldata}).skew()"
      ]
    },
    {
      "cell_type": "markdown",
      "id": "a4e9c5ae",
      "metadata": {
        "id": "a4e9c5ae"
      },
      "source": [
        "Como vemos no sale exactamente 0 aunque sí muy cercano"
      ]
    },
    {
      "cell_type": "markdown",
      "id": "28bfadcb",
      "metadata": {
        "id": "28bfadcb"
      },
      "source": [
        "<a name=\"Apuntamiento\"></a>\n",
        "### Curtosis\n",
        "\n",
        "La curtosis indica el peso de las colas en relación con una normar estándar. A menudo se confunde con \"apuntamiento\" pero no es exactamente lo mismo. La función `kurtosis` de Pandas nos indica este valor:\n",
        "\n",
        "        >0 : leptocúrtica ; los outliers tienen más peso que en la normal, tenemos muchos outliers (hay que ver por qué y si merece la pena hacer un estudio solo de esta parte)\n",
        "        aprox. 0 : ismilar a una normal\n",
        "        <0 : los outliers tienen menos peso que en la normal, la distribución está más concentrada alrededor de la media\n",
        "\n"
      ]
    },
    {
      "cell_type": "code",
      "execution_count": null,
      "id": "12fa46b2",
      "metadata": {
        "id": "12fa46b2"
      },
      "outputs": [],
      "source": [
        "pd.DataFrame({\"x\": normaldata}).kurtosis()"
      ]
    },
    {
      "cell_type": "code",
      "execution_count": null,
      "id": "1de3a7d4",
      "metadata": {
        "id": "1de3a7d4"
      },
      "outputs": [],
      "source": [
        "df_conta.PM10.kurtosis()"
      ]
    },
    {
      "cell_type": "code",
      "execution_count": null,
      "id": "18482c8c",
      "metadata": {
        "id": "18482c8c"
      },
      "outputs": [],
      "source": [
        "df_pisa.MAT.kurtosis()"
      ]
    },
    {
      "cell_type": "markdown",
      "id": "00389e13",
      "metadata": {
        "id": "00389e13"
      },
      "source": [
        "**Ejemplo**\n",
        "\n",
        "Datos de 7 sensores de radiación solar durante varios días con todas sus horas"
      ]
    },
    {
      "cell_type": "code",
      "execution_count": null,
      "id": "820990fb",
      "metadata": {
        "id": "820990fb"
      },
      "outputs": [],
      "source": [
        "import pandas as pd\n",
        "url = \"https://github.com/RafaelCaballero/tdm/raw/master/datos/solar.zip\"\n",
        "df_solar = pd.read_csv(url)"
      ]
    },
    {
      "cell_type": "code",
      "execution_count": null,
      "id": "8560e54f",
      "metadata": {
        "id": "8560e54f"
      },
      "outputs": [],
      "source": [
        "df_solar"
      ]
    },
    {
      "cell_type": "code",
      "execution_count": null,
      "id": "ec9843d6",
      "metadata": {
        "id": "ec9843d6"
      },
      "outputs": [],
      "source": [
        "\n",
        "import matplotlib.pyplot as plt\n",
        "for c in df_solar.columns[4:]:\n",
        "    fig, ax = plt.subplots(figsize=(24, 6))\n",
        "    df_solar[c].hist(bins=50)\n",
        "    plt.title(c)\n",
        "    plt.show()"
      ]
    },
    {
      "cell_type": "markdown",
      "id": "ff3f7bf6",
      "metadata": {
        "id": "ff3f7bf6"
      },
      "source": [
        "¿Qué consecuencias se extraen a simple vista? Añadir código para probar"
      ]
    },
    {
      "cell_type": "code",
      "execution_count": null,
      "id": "fc8ba664",
      "metadata": {
        "id": "fc8ba664"
      },
      "outputs": [],
      "source": [
        "df_solar[\"S1\"].skew()"
      ]
    },
    {
      "cell_type": "code",
      "execution_count": null,
      "id": "e2cd7939",
      "metadata": {
        "id": "e2cd7939"
      },
      "outputs": [],
      "source": [
        "df_solar[\"S1\"].kurtosis()"
      ]
    },
    {
      "cell_type": "markdown",
      "source": [
        "<a name=\"Boxplots\"></a>\n",
        "### Boxplots\n",
        "\n",
        "También conocidos como diagramas de cajas y bigotes, se basan en la mediana y son muy útiles para detectar outliers.\n",
        "\n",
        "Ejemplo:"
      ],
      "metadata": {
        "id": "JN10TkOndb4Y"
      },
      "id": "JN10TkOndb4Y"
    },
    {
      "cell_type": "code",
      "source": [
        "import pandas as pd\n",
        "url = \"https://raw.githubusercontent.com/RafaelCaballero/tdm/refs/heads/master/datos/f1-Singapur24.csv\"\n",
        "f1 = pd.read_csv(url)\n",
        "f1"
      ],
      "metadata": {
        "id": "CvYScjABdzVD"
      },
      "id": "CvYScjABdzVD",
      "execution_count": null,
      "outputs": []
    },
    {
      "cell_type": "markdown",
      "source": [
        "Los boxplots están basados en la mediana y los cuartiles (25% -> Q1, 75% -> Q3) muestran la siguiente información:\n",
        "\n",
        "<img src=\"https://miro.medium.com/max/9000/1*2c21SkzJMf3frPXPAR_gZA.png\" width=600/>\n",
        "\n",
        "El criterio para declarar algo como outlier es por tanto ser  $< Q_1 - 1.5 \\times (Q_3- Q_1)$  o  bien $> Q_3 + 1.5 \\times (Q_3- Q_1)$\n",
        "\n",
        "Se trata de un criterio bastante exigente porque en el caso de una normal suma más del 99% de la población\n",
        "\n",
        "<img src=\"https://miro.medium.com/max/8100/1*NRlqiZGQdsIyAu0KzP7LaQ.png\" width=600/>\n",
        "\n",
        "En Python se pueden mostrar tanto con Pandas, como con Matplotlib, Plotly, como con Seaborn.\n",
        "\n",
        "**Pandas**\n"
      ],
      "metadata": {
        "id": "OvEgHkBueAGj"
      },
      "id": "OvEgHkBueAGj"
    },
    {
      "cell_type": "code",
      "source": [
        "f1.boxplot(column = \"LapTime\")"
      ],
      "metadata": {
        "id": "1ZandaqdeHOs"
      },
      "id": "1ZandaqdeHOs",
      "execution_count": null,
      "outputs": []
    },
    {
      "cell_type": "code",
      "source": [
        "f1.boxplot(column = \"LapTime\", by=\"Driver\",  figsize=(15,10))"
      ],
      "metadata": {
        "id": "UHiXqMjSeOqU"
      },
      "id": "UHiXqMjSeOqU",
      "execution_count": null,
      "outputs": []
    },
    {
      "cell_type": "markdown",
      "source": [
        "**matplotlib**\n",
        "\n",
        "Lo interesante que aporta es la posibilidad de incluir el notch que permite ver si la diferencia de mediana es estadísticamente significativa"
      ],
      "metadata": {
        "id": "C4qEks9reZMU"
      },
      "id": "C4qEks9reZMU"
    },
    {
      "cell_type": "code",
      "source": [
        "df_vueltas = f1[[\"LapNumber\",\"LapTime\",\"Driver\"]]\n",
        "\n",
        "df_pilotos = df_vueltas.pivot(index=\"LapNumber\", columns=\"Driver\", values=\"LapTime\")\n",
        "\n",
        "fig, ax = plt.subplots(figsize=(10, 6),dpi=100)\n",
        "ax.boxplot(df_pilotos.dropna(),    notch = True,labels=df_pilotos.columns)"
      ],
      "metadata": {
        "id": "XHKRu_waea1h"
      },
      "id": "XHKRu_waea1h",
      "execution_count": null,
      "outputs": []
    },
    {
      "cell_type": "markdown",
      "source": [
        "Más bonito:"
      ],
      "metadata": {
        "id": "Jvf2LIo5eeRj"
      },
      "id": "Jvf2LIo5eeRj"
    },
    {
      "cell_type": "code",
      "source": [
        "fig, ax = plt.subplots(figsize=(4, 8),dpi=100)\n",
        "boxplots = ax.boxplot(df_pilotos.dropna(), notch = True,labels=df_pilotos.columns,\n",
        "             widths = .7,\n",
        "             patch_artist=True,\n",
        "             medianprops = dict(linestyle='-', linewidth=2, color='Yellow'),\n",
        "             boxprops = dict(linestyle='--', linewidth=2, color='Black', facecolor = 'blue', alpha = .4))\n",
        "# colores\n",
        "boxplots['boxes'][0].set_facecolor('darkgreen')\n",
        "boxplots['boxes'][1].set_facecolor('navy')\n",
        "boxplots['boxes'][2].set_facecolor('grey')\n",
        "boxplots['boxes'][3].set_facecolor('navy')\n",
        "\n",
        "plt.ylabel('Tiempo ms', fontsize = 20)\n",
        "plt.xlabel('Piloto', fontsize = 20)\n",
        "plt.xticks(fontsize = 16)\n",
        "plt.yticks(fontsize = 16)\n",
        "plt.show()"
      ],
      "metadata": {
        "id": "BJg0sLDXef_F"
      },
      "id": "BJg0sLDXef_F",
      "execution_count": null,
      "outputs": []
    },
    {
      "cell_type": "markdown",
      "source": [
        "**Plotly**"
      ],
      "metadata": {
        "id": "2lfxomdfejXp"
      },
      "id": "2lfxomdfejXp"
    },
    {
      "cell_type": "code",
      "source": [
        "import plotly.express as px\n",
        "df = px.data.tips()\n",
        "fig = px.box(f1, y=\"LapTime\",width=1000, height=500)\n",
        "fig.show()"
      ],
      "metadata": {
        "id": "zbEWwziqeng5"
      },
      "id": "zbEWwziqeng5",
      "execution_count": null,
      "outputs": []
    },
    {
      "cell_type": "markdown",
      "source": [
        "**Seaborn**"
      ],
      "metadata": {
        "id": "cOWJ5SquerY3"
      },
      "id": "cOWJ5SquerY3"
    },
    {
      "cell_type": "code",
      "source": [
        "import seaborn as sns\n",
        "sns.boxplot(x=f1[\"LapTime\"])"
      ],
      "metadata": {
        "id": "U3brC96Cewvw"
      },
      "id": "U3brC96Cewvw",
      "execution_count": null,
      "outputs": []
    },
    {
      "cell_type": "code",
      "source": [
        "from matplotlib import pyplot as plt\n",
        "import seaborn as sns\n",
        "fig, ax = plt.subplots(figsize=(10, 5),dpi=100)\n",
        "sns.boxplot(x=f1[\"LapTime\"],y=f1[\"Driver\"],palette='Set3')"
      ],
      "metadata": {
        "id": "5OlBCC0fe6bQ"
      },
      "id": "5OlBCC0fe6bQ",
      "execution_count": null,
      "outputs": []
    },
    {
      "cell_type": "markdown",
      "source": [
        "<a name=\"Outliers\"></a>\n",
        "### Outliers\n",
        "\n",
        "Por cierto que las mismas ideas del boxplots se pueden emplear para calcular outliers de forma numérica. La idea del boxplot es que un valor x se considera outlier si\n",
        "\n",
        "$x< Q_1 - 1.5 \\times (Q_3- Q_1)$  o  bien $x> Q_3 + 1.5 \\times (Q_3- Q_1)$\n",
        "\n",
        "Solo nos falta poder calcular $Q_1, Q_3$, pero el método `quantile`de Pandas lo pone muy fácil. Vamos a obtener los outliers para cada piloto:"
      ],
      "metadata": {
        "id": "HAFjIzrce9Vy"
      },
      "id": "HAFjIzrce9Vy"
    },
    {
      "cell_type": "code",
      "source": [
        "df_vueltas = f1[[\"LapNumber\",\"LapTime\",\"Driver\"]]\n",
        "\n",
        "df_pilotos = df_vueltas.pivot(index=\"LapNumber\", columns=\"Driver\", values=\"LapTime\")\n",
        "df_pilotos"
      ],
      "metadata": {
        "id": "RhXAOaKzfEgM"
      },
      "id": "RhXAOaKzfEgM",
      "execution_count": null,
      "outputs": []
    },
    {
      "cell_type": "code",
      "source": [
        "import numpy as np\n",
        "def muestra(driver,ax, x,inferior,superior,c):\n",
        "    filtro_menor = x < inferior\n",
        "    filtro_mayor = x > superior\n",
        "    print(driver)\n",
        "    print(\"Límites\",round(inferior,3),round(superior,3))\n",
        "    print(\"Rápido: \",np.round(x[filtro_menor].values,3))\n",
        "    print(\"Lento: \",np.round(x[filtro_mayor].values,3))\n",
        "    print(\"*\"*100)\n",
        "    return\n",
        "\n",
        "\n",
        "\n",
        "#fig, ax = plt.subplots(figsize=(10, 6),dpi=100)\n",
        "for i, driver in enumerate(df_pilotos.columns):\n",
        "    x = df_pilotos[driver].dropna()\n",
        "    q1 = x.quantile(0.25)\n",
        "    q3 = x.quantile(0.75)\n",
        "    inferior = q1 - 1.5*(q3-q1)\n",
        "    superior = q3 + 1.5*(q3-q1)\n",
        "    muestra(driver,ax,x,inferior,superior,driver)"
      ],
      "metadata": {
        "id": "hB8U5kT_fcv0"
      },
      "id": "hB8U5kT_fcv0",
      "execution_count": null,
      "outputs": []
    },
    {
      "cell_type": "markdown",
      "source": [
        "Otro método, el llamado *Hampel X84*  utiliza la mediana y el mad para indicar que los puntos que están separados más de $1.4826 \\times \\theta\\times MAD$ de la mediana son puntos extremos, donde $\\theta$ es un número positivo (1,2,3,...) que elegimos nosotros. Por ejemplo para $\\theta=4$:"
      ],
      "metadata": {
        "id": "bO8GfAUrfYDL"
      },
      "id": "bO8GfAUrfYDL"
    },
    {
      "cell_type": "code",
      "source": [
        "from scipy.stats import median_abs_deviation\n",
        "\n",
        "driver = \"ALO\"\n",
        "x = df_pilotos[driver].dropna()\n",
        "mediana = x.median()\n",
        "MAD = median_abs_deviation(x)\n",
        "\n",
        "inferior = mediana -  1.4826*4*MAD\n",
        "superior = mediana + 1.4826*4*MAD\n",
        "filtro_outliers_sup = df_pilotos[driver] > superior\n",
        "filtro_outliers_inf = df_pilotos[driver] < inferior\n",
        "\n",
        "print(\"Outliers inferiores Alonso (vueltas sorprendentemente rápidas)\", np.round(df_pilotos[driver][filtro_outliers_inf],3))\n",
        "print(\"Outliers inferiores Alonso (vueltas sorprendentemente lentas)\", np.round(df_pilotos[driver][filtro_outliers_sup],3))\n",
        "print(\"Límites con  Hampel X84, theta=4, \",inferior,superior)"
      ],
      "metadata": {
        "id": "ovyEYABNjoXT"
      },
      "id": "ovyEYABNjoXT",
      "execution_count": null,
      "outputs": []
    },
    {
      "cell_type": "markdown",
      "source": [
        "Ojo porque puede haber también outliers en varias dimensiones.\n",
        "\n",
        "\n",
        "\n",
        "Consideramos el siguiente dataframe"
      ],
      "metadata": {
        "id": "nPnX_FkgjzV9"
      },
      "id": "nPnX_FkgjzV9"
    },
    {
      "cell_type": "code",
      "source": [
        "d1 = np.random.multivariate_normal(mean = np.array([-.5, 0]),\n",
        "                               cov = np.array([[1, 0], [0, 1]]), size = 100)\n",
        "d2 = np.random.multivariate_normal(mean = np.array([15, 10]),\n",
        "                               cov = np.array([[1, 0.3], [.3, 1]]), size = 100)\n",
        "outliers = np.array([[0, 10],[0, 9.5]])\n",
        "df = pd.DataFrame(np.concatenate([d1, d2, outliers], axis = 0), columns = ['Var1', 'Var2'])\n",
        "df"
      ],
      "metadata": {
        "id": "m_GASL1mj76g"
      },
      "id": "m_GASL1mj76g",
      "execution_count": null,
      "outputs": []
    },
    {
      "cell_type": "markdown",
      "source": [
        "Aparentamente no hay outliers"
      ],
      "metadata": {
        "id": "nllUWdhgj_8P"
      },
      "id": "nllUWdhgj_8P"
    },
    {
      "cell_type": "code",
      "source": [
        "df.boxplot()"
      ],
      "metadata": {
        "id": "-U9OqHr0kBR_"
      },
      "id": "-U9OqHr0kBR_",
      "execution_count": null,
      "outputs": []
    },
    {
      "cell_type": "markdown",
      "source": [
        "¿Seguro que no hay outliers? Veamos ambas columnas conjuntamente"
      ],
      "metadata": {
        "id": "KPhz7rPTkD9P"
      },
      "id": "KPhz7rPTkD9P"
    },
    {
      "cell_type": "code",
      "source": [
        "df.plot(kind='scatter', x='Var1', y='Var2', color='blue')"
      ],
      "metadata": {
        "id": "gfpITJ7mkGYL"
      },
      "id": "gfpITJ7mkGYL",
      "execution_count": null,
      "outputs": []
    },
    {
      "cell_type": "markdown",
      "source": [
        "¿Cómo detectar estos puntos? La idea es que hay que tener una idea de punto \"demasiado\" alejado del resto, para eso utilizaremos la llamada [distancia de Mahalanobis](https://www.statisticshowto.com/mahalanobis-distance/) que tiene la distancia de un punto a un conjunto de puntos. Esto se hace mediante \"envolturas elípticas\"\n"
      ],
      "metadata": {
        "id": "BcdPTP25kK5w"
      },
      "id": "BcdPTP25kK5w"
    },
    {
      "cell_type": "code",
      "source": [
        "from sklearn.covariance import EllipticEnvelope\n",
        "ee = EllipticEnvelope(contamination=.1).fit(df)  # la contaminación es la proporción de outliers, la decidimos nosotros\n",
        "ee # una \"envoltura\""
      ],
      "metadata": {
        "id": "w40nkYNNkUFi"
      },
      "id": "w40nkYNNkUFi",
      "execution_count": null,
      "outputs": []
    },
    {
      "cell_type": "code",
      "source": [
        "p = ee.predict(df)\n",
        "p # +1 normal, -1 outlier"
      ],
      "metadata": {
        "id": "Y2vYXKpKkqoz"
      },
      "id": "Y2vYXKpKkqoz",
      "execution_count": null,
      "outputs": []
    },
    {
      "cell_type": "code",
      "source": [
        "filtro = p==+1\n",
        "normales = df[filtro]\n",
        "outliers = df[~filtro]\n",
        "fig, ax = plt.subplots(figsize=(10, 6),dpi=100)\n",
        "ax.scatter(normales.Var1,normales.Var2,color=\"green\")\n",
        "ax.scatter(outliers.Var1,outliers.Var2,color=\"red\")"
      ],
      "metadata": {
        "id": "Y0dgOth8kdCA"
      },
      "id": "Y0dgOth8kdCA",
      "execution_count": null,
      "outputs": []
    },
    {
      "cell_type": "markdown",
      "id": "vzC0JMAVr6-o",
      "metadata": {
        "id": "vzC0JMAVr6-o"
      },
      "source": [
        "<a name=\"Tests\"></a>\n",
        "## Test Estadísticos"
      ]
    },
    {
      "cell_type": "markdown",
      "id": "9h2-E_kUr1uA",
      "metadata": {
        "id": "9h2-E_kUr1uA"
      },
      "source": [
        "\n",
        "\n",
        "En ciencia de datos no hay casi nunca certezas; al fin y al cabo tenemos unos datos particulares, una \"muestra\", y por eso algunas conclusiones que saquemos pueden ser meras coincidencias o casualidades. Los tests estadísticos nos indican si una hipótesis se verifica o no con una alta probabilidad.\n",
        "\n",
        "Cada test va orientado a un problema concreto y plantea una hipótesis,\n",
        " llamada *hipótesis nula*.\n",
        "\n",
        "El resultados del test suele ser un valor p que indica la probabilidad de que se cumpla la hipótesis nula además de otros valores (a menudo un estadístico que depende del test)\n",
        "\n",
        "Si p<0.05 o p<0.01 (depende del nivel de exigencia) rechazamos la hipótesis nula y damos por válida la contraria, la hipótesis alternativa\n",
        "\n",
        "Es importante observar que si p>0.05 no \"aceptamos\" la hipótesis nula, solo decimos que no hemos podido rechazarla (en la práctica a menudo esto se toma como prueba de aceptación aunque no sea correcto).\n",
        "\n",
        "<a name=\"Normalidad\"></a>\n",
        "### Test de normalidad"
      ]
    },
    {
      "cell_type": "code",
      "execution_count": null,
      "id": "a5d70403",
      "metadata": {
        "id": "a5d70403"
      },
      "outputs": [],
      "source": [
        "from scipy.stats import normaltest\n",
        "from scipy import stats\n",
        "\n",
        "def normal(data):\n",
        "    _, p = stats.normaltest(data,nan_policy=\"omit\")\n",
        "    if p<0.05:\n",
        "        msg = \"Se rechaza H0: no sigue una distribución normal\"\n",
        "    else:\n",
        "        msg = \"No se rechaza H0; no podemos descartar  una distribución normal\"\n",
        "    return msg,round(p,4)"
      ]
    },
    {
      "cell_type": "code",
      "execution_count": null,
      "id": "b15db5a8",
      "metadata": {
        "id": "b15db5a8"
      },
      "outputs": [],
      "source": [
        "import numpy as np\n",
        "import matplotlib.pyplot as plt\n",
        "\n",
        "#generate a random numpy array with 100000 elements\n",
        "normaldata = np.random.randn(100000)\n",
        "\n",
        "plt.hist(normaldata,edgecolor=\"black\", bins =30, density=True)\n",
        "\n",
        "normal(normaldata)"
      ]
    },
    {
      "cell_type": "code",
      "execution_count": null,
      "id": "4C0nxEkHtjhm",
      "metadata": {
        "id": "4C0nxEkHtjhm"
      },
      "outputs": [],
      "source": [
        "import numpy as np\n",
        "import matplotlib.pyplot as plt\n",
        "\n",
        "def normales(df):\n",
        "    for c in df.columns:\n",
        "        fig, ax = plt.subplots(figsize=(5, 3))\n",
        "        df[c].hist(bins=20)\n",
        "        msg,p = normal(df[c])\n",
        "        plt.title(f\"{c} {msg} - p: {p} \")\n",
        "        plt.show()"
      ]
    },
    {
      "cell_type": "code",
      "execution_count": null,
      "id": "lRzRIV8dtW3f",
      "metadata": {
        "id": "lRzRIV8dtW3f"
      },
      "outputs": [],
      "source": [
        "import pandas as pd\n",
        "url = \"https://github.com/RafaelCaballero/tdm/raw/refs/heads/master/datos/IBEX6000Inc.zip\"\n",
        "\n",
        "# solución\n",
        "df_bolsa = pd.read_csv(url,parse_dates=['Fecha'])\n",
        "\n",
        "# Pasamos a % en lugar de sobre 1\n",
        "valores = ['BBVA', 'Iberdrola', 'Inditex', 'Repsol', 'Santander']\n",
        "df_bolsa[valores] = df_bolsa[valores]*100\n",
        "\n",
        "# nos quedamos solo con los datos que sean números (asumimos que hemos comprobado que todos son ratio o intervalo)\n",
        "df_bolsa_num = df_bolsa.select_dtypes(include=[\"number\"])\n",
        "normales(df_bolsa_num)"
      ]
    },
    {
      "cell_type": "markdown",
      "id": "yxOm386qtCwY",
      "metadata": {
        "id": "yxOm386qtCwY"
      },
      "source": [
        "<a name=\"Vodka\"></a>\n",
        "### Test de igualdad de la media\n",
        "\n",
        "Supongamos que tenemos 2 monedas, en la primera nos salen 2 caras seguidas, en la segunda 2 cruces seguidas ¿podemos asegurar que son monedas diferentes? Casi todos estaremos de acuerdo en que no, en que la diferencia se puede deber al azar. Eso sí, si tiramos cada moneda 1000 veces y en la primera sale por ejemplo un 30% más de caras que en la segunda puede que sospechemos que sí lo sean. Estas ideas son las que implementan los tests que comparan las medias de dos variables. Vamos a ver 2:\n",
        "\n",
        "t de student: solo aplicable bajo ciertas circunstancias (es un test paramétrico): normalidad de ambas variables, misma varianza...la hipótesis nula (que rechazaremos si p<0.05) es que la media es la misma\n",
        "\n",
        "Kolmogorov-Sminov: se puede aplicar a cualquier pareja de variables (pero es más exigente). La hipótesis nula (que rechazaremos si p<0.05) es que los datos provienen de la misma distribución continua\n",
        "\n",
        "*t de Student*\n",
        "\n"
      ]
    },
    {
      "cell_type": "markdown",
      "id": "OGhkfyKPSdqo",
      "metadata": {
        "id": "OGhkfyKPSdqo"
      },
      "source": [
        "0 significa cara, 1 significa cruz, tiramos la moneda 15 veces"
      ]
    },
    {
      "cell_type": "code",
      "execution_count": null,
      "id": "h7joKbaBSjya",
      "metadata": {
        "id": "h7joKbaBSjya"
      },
      "outputs": [],
      "source": [
        "from scipy.stats import ttest_ind\n",
        "x1 =  [1,0,1]*5\n",
        "x2 = [0,1,0]*5\n",
        "print(x1)\n",
        "print(x2)\n",
        "ttest_ind(x1, x2)"
      ]
    },
    {
      "cell_type": "markdown",
      "id": "fVO47rpsTV_2",
      "metadata": {
        "id": "fVO47rpsTV_2"
      },
      "source": [
        "No podemos rechazar la posibilidad de que las dos monedas tengan la misma media.Probamos con 50 veces..."
      ]
    },
    {
      "cell_type": "code",
      "execution_count": null,
      "id": "2HB-3g70SrnS",
      "metadata": {
        "id": "2HB-3g70SrnS"
      },
      "outputs": [],
      "source": [
        "from scipy.stats import ttest_ind\n",
        "x1 =  [1,0,1]*25\n",
        "x2 = [0,1,0]*25\n",
        "print(x1)\n",
        "print(x2)\n",
        "ttest_ind(x1, x2)"
      ]
    },
    {
      "cell_type": "markdown",
      "id": "CGs7gLtQTJid",
      "metadata": {
        "id": "CGs7gLtQTJid"
      },
      "source": [
        "números aleatorios siguiendo una normal 0,1"
      ]
    },
    {
      "cell_type": "code",
      "execution_count": null,
      "id": "tmCPY9ALuwuQ",
      "metadata": {
        "id": "tmCPY9ALuwuQ"
      },
      "outputs": [],
      "source": [
        "from scipy.stats import ttest_ind\n",
        "x1 =  np.random.randn(100000)\n",
        "x2 = np.random.randn(100000)\n",
        "ttest_ind(x1, x2)"
      ]
    },
    {
      "cell_type": "markdown",
      "id": "rbPzZJ_7u5oY",
      "metadata": {
        "id": "rbPzZJ_7u5oY"
      },
      "source": [
        "como pvalue>0,05 no podemos rechazar la hipótesis de que la media es muy similar"
      ]
    },
    {
      "cell_type": "code",
      "execution_count": null,
      "id": "LoU8kYBiu6Zn",
      "metadata": {
        "id": "LoU8kYBiu6Zn"
      },
      "outputs": [],
      "source": [
        "from scipy.stats import ttest_ind\n",
        "x1 = np.random.randn(100000)+1\n",
        "x2 = np.random.randn(100000)\n",
        "ttest_ind(x1, x2)"
      ]
    },
    {
      "cell_type": "markdown",
      "id": "KDIqqboMu9FI",
      "metadata": {
        "id": "KDIqqboMu9FI"
      },
      "source": [
        "Podemos rechazar que ambas medias sean iguales.\n",
        "\n",
        "*Kolmogorov-Smirnov*\n",
        "\n",
        "Realmente este test no busca comparar medidas sino ver si dos muestras proceden de la misma población. Veamos un ejemplo"
      ]
    },
    {
      "cell_type": "code",
      "execution_count": null,
      "id": "3MvWsq2fvKVP",
      "metadata": {
        "id": "3MvWsq2fvKVP"
      },
      "outputs": [],
      "source": [
        "import pandas as pd\n",
        "url = r\"https://raw.githubusercontent.com/RafaelCaballero/tdm/master/datos/madrid/Cont_Meteo_Traf.csv\"\n",
        "df_data =  pd.read_csv(url,parse_dates=['FECHAH'])\n",
        "df_data[\"year\"] = df_data.FECHAH.dt.year\n",
        "df_data.columns"
      ]
    },
    {
      "cell_type": "code",
      "execution_count": null,
      "id": "QljdMZWYvOFn",
      "metadata": {
        "id": "QljdMZWYvOFn"
      },
      "outputs": [],
      "source": [
        "df_data.year.value_counts()"
      ]
    },
    {
      "cell_type": "code",
      "execution_count": null,
      "id": "7stFc9wNvWi3",
      "metadata": {
        "id": "7stFc9wNvWi3"
      },
      "outputs": [],
      "source": [
        "years = df_data.year.unique()\n",
        "years = np.sort(years)\n",
        "# un array de dataframes, uno por año\n",
        "df_data_year = [df_data[df_data.year==y][\"TEMPERATURA\"] for y in years ]"
      ]
    },
    {
      "cell_type": "code",
      "execution_count": null,
      "id": "uehR8N9OvhE2",
      "metadata": {
        "id": "uehR8N9OvhE2"
      },
      "outputs": [],
      "source": [
        "for y in years[1:]:\n",
        "    t = df_data[df_data.year==y][\"TEMPERATURA\"]\n",
        "    print(y,normal(t))"
      ]
    },
    {
      "cell_type": "markdown",
      "id": "cJrHQ6mDvkEf",
      "metadata": {
        "id": "cJrHQ6mDvkEf"
      },
      "source": [
        "No son normales, vamos a utilizar el test de kolmogorov-smirnov para ver si la temperatura difiere de forma significativa en distintos años."
      ]
    },
    {
      "cell_type": "code",
      "execution_count": null,
      "id": "DCsviGDsqYHD",
      "metadata": {
        "id": "DCsviGDsqYHD"
      },
      "outputs": [],
      "source": [
        "for y1 in years[1:]:\n",
        "    print(\"-----\")\n",
        "    for y2 in years[1:]:\n",
        "      print(y1,y2)"
      ]
    },
    {
      "cell_type": "code",
      "execution_count": null,
      "id": "eWVKWCPKpCAl",
      "metadata": {
        "id": "eWVKWCPKpCAl"
      },
      "outputs": [],
      "source": [
        "for y1 in years[1:]:\n",
        "    print(\"-----\")\n",
        "    for y2 in years[1:]:\n",
        "      if y2>y1:\n",
        "        print(\"*\",end=\"\")\n",
        "      print(y1,y2)"
      ]
    },
    {
      "cell_type": "code",
      "execution_count": null,
      "id": "VmCXEbTSvkuX",
      "metadata": {
        "id": "VmCXEbTSvkuX"
      },
      "outputs": [],
      "source": [
        "from scipy.stats import kstest\n",
        "\n",
        "for y1 in years[1:]:\n",
        "\n",
        "    for y2 in years[1:]:\n",
        "        if y2>y1:\n",
        "            t1 = df_data[df_data.year==y1][\"TEMPERATURA\"]\n",
        "            t2 = df_data[df_data.year==y2][\"TEMPERATURA\"]\n",
        "            print(y1,y2,kstest(t1, t2),round(t1.mean(),2),round(t2.mean(),2))\n"
      ]
    },
    {
      "cell_type": "markdown",
      "id": "Kag9pCALvr2A",
      "metadata": {
        "id": "Kag9pCALvr2A"
      },
      "source": [
        "Todos los años corresponden a temperaturas diferentes con una diferencia estadísticamente signficativa"
      ]
    },
    {
      "cell_type": "markdown",
      "source": [
        "<a name=\"Bootstrapping\"></a>\n",
        "### Bootstrapping\n",
        "\n",
        "El último método, y seguramente el más efectivo, se basa en una aplicaicón del llamado \"Teorema central del límite\". Este teorema aplicado a nuestro contexto dice que, si se toman distintas muestras de una misma población, y se calcula un cierto estadístico (media, mediana, otro) sobre cada muestra, el conjunto de valores que obtenemos sigue una distribución normal.\n",
        "\n",
        "Lo bueno de esta propuesta es que al quedar una normal el conjunto de todas las medidas o experimentos, podemos aplicar la  la llamada _regla empírica_\n",
        "\n",
        "<img src=\"https://upload.wikimedia.org/wikipedia/commons/thumb/2/22/Empirical_rule_histogram.svg/1280px-Empirical_rule_histogram.svg.png\" width=400> </img>\n",
        "\n",
        "Es decir, que podemos considerar que el estadístico viene representado por la media de los experimentos y además tenemos, de paso, un intervalo de confianza.\n",
        "\n",
        "Ejemplo: queremos comparar la media de los valores del BBVA Jueves y Viernes"
      ],
      "metadata": {
        "id": "BzYshkxNIYjx"
      },
      "id": "BzYshkxNIYjx"
    },
    {
      "cell_type": "code",
      "source": [
        "filtroJ = df_bolsa[\"Día\"] == \"Jueves\"\n",
        "filtroV = df_bolsa[\"Día\"] == \"Viernes\"\n",
        "filtroL = df_bolsa[\"Día\"] == \"Lunes\"\n",
        "\n",
        "df_bolsa[filtroJ].BBVA.mean(), df_bolsa[filtroV].BBVA.mean(), df_bolsa[filtroL].BBVA.mean()"
      ],
      "metadata": {
        "id": "NkzBuTClId64"
      },
      "id": "NkzBuTClId64",
      "execution_count": null,
      "outputs": []
    },
    {
      "cell_type": "markdown",
      "source": [
        "¿Es significativa este diferencia?"
      ],
      "metadata": {
        "id": "n0RmyX2pOSBB"
      },
      "id": "n0RmyX2pOSBB"
    },
    {
      "cell_type": "code",
      "source": [
        "from tqdm import tqdm\n",
        "\n",
        "sJ = []\n",
        "sV = []\n",
        "sL = []\n",
        "tamaño = 50 # por poner algo, que sea una cantidad menor que los dataframes correspondientes\n",
        "reps = 20000\n",
        "for i in tqdm(range(reps)):\n",
        "    sJ.append( df_bolsa[filtroJ].BBVA.sample(tamaño).mean())\n",
        "    sV.append( df_bolsa[filtroV].BBVA.sample(tamaño).mean())\n",
        "    sL.append( df_bolsa[filtroL].BBVA.sample(tamaño).mean())\n",
        "\n",
        "df_medias = pd.DataFrame({\"Lunes\":sL, \"Jueves\":sJ, \"Viernes\":sV})\n",
        "df_medias"
      ],
      "metadata": {
        "id": "vzy0awcnOS8p"
      },
      "id": "vzy0awcnOS8p",
      "execution_count": null,
      "outputs": []
    },
    {
      "cell_type": "code",
      "source": [
        "df_medias.Jueves.plot(kind=\"hist\",bins=50)"
      ],
      "metadata": {
        "id": "BSlRxKi2P7AT"
      },
      "id": "BSlRxKi2P7AT",
      "execution_count": null,
      "outputs": []
    },
    {
      "cell_type": "code",
      "source": [
        "for c in df_medias:\n",
        "  print(c,df_medias[c].skew(), df_medias[c].kurtosis())"
      ],
      "metadata": {
        "id": "MMbNdKLaQA2b"
      },
      "id": "MMbNdKLaQA2b",
      "execution_count": null,
      "outputs": []
    },
    {
      "cell_type": "markdown",
      "source": [
        "Ahora utilizamos la \"ley empírica\" para obtener los intervalos:"
      ],
      "metadata": {
        "id": "n3i_xd0HQi8h"
      },
      "id": "n3i_xd0HQi8h"
    },
    {
      "cell_type": "code",
      "source": [
        "muL,muJ, muV = df_medias.Lunes.mean(), df_medias.Jueves.mean(), df_medias.Viernes.mean()\n",
        "sigmaL,sigmaJ, sigmaV = df_medias.Lunes.std(),df_medias.Jueves.std(), df_medias.Viernes.std()\n",
        "\n",
        "print(f\"Lunes : {100*muL:.4} [{100*(muL-2*sigmaL):.4f},{100*(muL+2*sigmaL):.4f}]\")\n",
        "print(f\"Jueves : {100*muJ:.4} [{100*(muJ-2*sigmaJ):.4f},{100*(muJ+2*sigmaJ):.4f}]\")\n",
        "print(f\"Viernes: {100*muV:.4} [{100*(muV-2*sigmaV):.4f},{100*(muV+2*sigmaV):.4f}]\")"
      ],
      "metadata": {
        "id": "MCw9ej_CQhts"
      },
      "id": "MCw9ej_CQhts",
      "execution_count": null,
      "outputs": []
    },
    {
      "cell_type": "markdown",
      "source": [
        "Hay solapamiento, de momento no podemos asegurar que las medias sean diferentes.\n",
        "\n",
        "La implementación en librerías tiene ventajas:\n",
        "\n",
        "\n",
        "- Utiliza muestras con reemplazamiento\n",
        "- Por tanto es adecuado para dataframes con pocos datos\n",
        "- Igualmente obtenemos intervalos de confianza\n",
        "- Utiliza técnicas más refinadas que la regla empírica y logra intervalos más pequeños"
      ],
      "metadata": {
        "id": "cWsyXqWURYv6"
      },
      "id": "cWsyXqWURYv6"
    },
    {
      "cell_type": "code",
      "source": [
        "import pandas as pd\n",
        "from scipy.stats import bootstrap\n",
        "\n",
        "filtro = df_bolsa[\"Día\"] == \"Jueves\"\n",
        "# columna sin nulos\n",
        "bbva = df_bolsa[filtro][\"BBVA\"].dropna()\n",
        "\n",
        "res = bootstrap((bbva,), np.mean, confidence_level=0.95,n_resamples=10000, method='percentile')\n",
        "ci = res.confidence_interval\n",
        "\n",
        "print(f\"Jueves Media: { ci.low + (ci.high-ci.low)/2:.4f} [{ci.low:.4f},{ci.high:.4f}]\")"
      ],
      "metadata": {
        "id": "9Ic7oi31R3RG"
      },
      "id": "9Ic7oi31R3RG",
      "execution_count": null,
      "outputs": []
    },
    {
      "cell_type": "code",
      "source": [
        "def ic(df,columnFiltro,columnExaminar,value):\n",
        "  filtro = df[columnFiltro] == value\n",
        "  # columna sin nulos\n",
        "  col = df[filtro][columnExaminar].dropna()\n",
        "\n",
        "  res = bootstrap((col,), np.mean, confidence_level=0.95,n_resamples=30000, method='percentile')\n",
        "  ci = res.confidence_interval\n",
        "\n",
        "  print(f\"Media de {columnExaminar} con {columnFiltro}=={value}: { ci.low + (ci.high-ci.low)/2:.4f}. CI: [{ci.low:.4f},{ci.high:.4f}]\")\n",
        "  return res.confidence_interval\n",
        "\n",
        "\n",
        "ic(df_bolsa,\"Día\",\"BBVA\",\"Lunes\")\n",
        "ic(df_bolsa,\"Día\",\"BBVA\",\"Martes\")\n",
        "ic(df_bolsa,\"Día\",\"BBVA\",\"Miércoles\")\n",
        "ic(df_bolsa,\"Día\",\"BBVA\",\"Jueves\")\n",
        "ic(df_bolsa,\"Día\",\"BBVA\",\"Viernes\")\n",
        "print(\"=\"*50)"
      ],
      "metadata": {
        "id": "d47BJcAmbGDj"
      },
      "id": "d47BJcAmbGDj",
      "execution_count": null,
      "outputs": []
    },
    {
      "cell_type": "markdown",
      "source": [
        "Otra forma más precisa aun: concentrarse directamente en la diferencia de medias"
      ],
      "metadata": {
        "id": "GCF769fBdNed"
      },
      "id": "GCF769fBdNed"
    },
    {
      "cell_type": "code",
      "source": [
        "import pandas as pd\n",
        "import numpy as np\n",
        "from scipy.stats import bootstrap\n",
        "\n",
        "def mean_diff(data1, data2):\n",
        "    return (data1.mean() - data2.mean())\n",
        "\n",
        "url = \"https://github.com/RafaelCaballero/tdm/raw/refs/heads/master/datos/IBEX6000Inc.zip\"\n",
        "# solución\n",
        "df_raw = pd.read_csv(url,parse_dates=['Fecha']).dropna()\n",
        "\n",
        "# las dos columnas\n",
        "filtro = df_raw[\"Día\"] == \"Lunes\"\n",
        "lunes = df_raw[filtro][\"BBVA\"]*100\n",
        "filtro = df_raw[\"Día\"] == \"Martes\"\n",
        "martes = df_raw[filtro][\"BBVA\"]*100\n",
        "\n",
        "# Bootstrapping para calcular la diferencia de medias\n",
        "boot_result = bootstrap((lunes, martes), mean_diff,  confidence_level=0.95)\n",
        "\n",
        "# Resultados\n",
        "print(f\"Diferencia de medias: {mean_diff(lunes, martes):.4f}\")\n",
        "print(f\"Intervalo de confianza al 95%: [{boot_result.confidence_interval.low:.4f},{boot_result.confidence_interval.high:.4f}]\")"
      ],
      "metadata": {
        "id": "rLNCcvnBdBbt"
      },
      "id": "rLNCcvnBdBbt",
      "execution_count": null,
      "outputs": []
    },
    {
      "cell_type": "markdown",
      "source": [
        "Como el intervalo no incluye al 0 la media no puede ser 0, así que son diferentes medias de forma estadísticamente significativa"
      ],
      "metadata": {
        "id": "dhtckqdudJwn"
      },
      "id": "dhtckqdudJwn"
    },
    {
      "cell_type": "markdown",
      "source": [
        "<a name=\"Referencias\"></a>\n",
        "### Referencias\n",
        "\n",
        "[Medidas de centralidad](https://statistics.laerd.com/statistical-guides/measures-central-tendency-mean-mode-median.php)<br>\n",
        "[Biblioteca ydata-profiling](https://pypi.org/project/ydata-profiling/)<br>\n",
        "\n",
        "[Notebook](https://github.com/mGalarnyk/Python_Tutorials/blob/master/Statistics/boxplot/Box_plot_interpretation.ipynb) con ejemplos de Boxplot incluyendo variantes como el \"notch\"\n",
        "\n",
        "*Data Cleaning*. Ihab F. Ilyas and Xu Chu. Association for Computing Machinery 9781450371544 Tiene un capítulo dedicado a outliers muy completo\n",
        "\n",
        "\n",
        "[Best Practices in Data Cleaning: A Complete Guide to Everything You Need to Do Before and After Collecting Your Data](http://pzs.dstu.dp.ua/DataMining/preprocessing/bibl/cleaning.pdf). Capítulo 7.\n",
        "de Jason W. Osborne. Un poco técnico/estadístico pero muy preciso,\n",
        "\n",
        "[Outliers multivariante](https://medium.com/analytics-vidhya/anomaly-detection-in-python-part-1-basics-code-and-standard-algorithms-37d022cdbcff) Artículo de donde he tomado el código y el ejemplo para este apartado\n",
        "\n",
        "[Outliers scikit-learn](https://scikit-learn.org/1.5/modules/outlier_detection.html) Ouliers con la biblioteca estándar de machine-learning. Quizás un poco complejo, pero muy potente.\n",
        "\n",
        "[Cómo calcular el número óptimo de bins en un histograma](https://medium.com/@maxmarkovvision/optimal-number-of-bins-for-histograms-3d7c48086fde)\n",
        "\n",
        "[Teorema central del límite](https://www.geeksforgeeks.org/central-limit-theorem/?ref=oin_asr1) buena explicación con muchos ejemplos.\n",
        "\n",
        "[Cálculo de outliers en datos asimétricos](https://wis.kuleuven.be/stat/robust/papers/2008/outlierdetectionskeweddata-revision.pdf). Artículo (en inglés) que define outliers a partir de la medida [medcouple](https://en.wikipedia.org/wiki/Medcouple) una medida de asimetría robusta frente a outliers<br>\n",
        "\n",
        "[Bootstrapping](https://cienciadedatos.net/documentos/pystats04-bootstrapping-python) bien explicado, paso a paso<br>\n"
      ],
      "metadata": {
        "id": "8G8fx01Wf5OX"
      },
      "id": "8G8fx01Wf5OX"
    }
  ],
  "metadata": {
    "colab": {
      "provenance": [],
      "include_colab_link": true
    },
    "kernelspec": {
      "display_name": "Python 3 (ipykernel)",
      "language": "python",
      "name": "python3"
    },
    "language_info": {
      "codemirror_mode": {
        "name": "ipython",
        "version": 3
      },
      "file_extension": ".py",
      "mimetype": "text/x-python",
      "name": "python",
      "nbconvert_exporter": "python",
      "pygments_lexer": "ipython3",
      "version": "3.12.4"
    }
  },
  "nbformat": 4,
  "nbformat_minor": 5
}