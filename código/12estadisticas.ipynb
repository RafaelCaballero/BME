{
 "cells": [
  {
   "cell_type": "markdown",
   "id": "586a0d89",
   "metadata": {
    "colab_type": "text",
    "id": "view-in-github"
   },
   "source": [
    "<a href=\"https://colab.research.google.com/github/RafaelCaballero/Julio24/blob/main/code/12estadisticas.ipynb\" target=\"_parent\"><img src=\"https://colab.research.google.com/assets/colab-badge.svg\" alt=\"Open In Colab\"/></a>"
   ]
  },
  {
   "cell_type": "markdown",
   "id": "8a7c807c",
   "metadata": {
    "id": "8a7c807c"
   },
   "source": [
    "# Introducción a la ciencia de datos con Python\n",
    "### Rafa Caballero\n",
    "\n",
    "### Estadísticas básicas\n",
    "Vamos a analizar este tipo de variables\n",
    "\n",
    "### Índice\n",
    "[Centralidad](#Centralidad)<br>\n",
    "[Dispersión](#Dispersión)<br>\n",
    "[Histogramas](#Histogramas)<br>\n",
    "[Asimetría](#Asimetría)<br>\n",
    "[Curtosis](#Curtosis)<br>\n",
    "[Diagramas de Barras](#Barras)<br>\n",
    "[Tests estadísticos](#Tests)<br>\n"
   ]
  },
  {
   "cell_type": "markdown",
   "id": "45be422c",
   "metadata": {
    "id": "45be422c"
   },
   "source": [
    "<a name=\"Centralidad\"></a>\n",
    "## Centralidad\n",
    "\n",
    "La idea es intentar reducir la variable completa a un solo valor, un \"centro\". Dos valores principales\n",
    "\n",
    "* Media $\\mu(x) = \\frac{\\displaystyle {\\sum_{i=1}^{N} x_i}}{N}$, donde $x$ es la variable que estamos estudiando formada por $x_1, \\dots, x_N$. La media es la medida de centralidad más popular. Puede verse afectada si hay hay una proporción grande de valores demasiado grandes o pequeños (outliers)\n",
    "\n",
    "* Mediana: valor que deja al 50% de los valores por debajo y el otro 50% por encima\n",
    "\n",
    "\n",
    "\n",
    "Ejemplo: notas obtenidas por diferentes países en las pruebas Pisa en lectura (REA), matemáticas (MAT) y ciencias (SCI) tanto para mujeres (FE) como para hombres (MA). Incluye también la renta per capita (RPC) del país y el nombre (PAIS) del país."
   ]
  },
  {
   "cell_type": "code",
   "execution_count": null,
   "id": "97b23893",
   "metadata": {
    "id": "97b23893"
   },
   "outputs": [],
   "source": [
    "import pandas as pd\n",
    "url = \"https://raw.githubusercontent.com/RafaelCaballero/tdm/master/datos/PisaDataClean.csv\"\n",
    "df_pisa = pd.read_csv(url)\n",
    "df_pisa"
   ]
  },
  {
   "cell_type": "code",
   "execution_count": null,
   "id": "yZSHx9YOWItp",
   "metadata": {
    "id": "yZSHx9YOWItp"
   },
   "outputs": [],
   "source": [
    "df_pisa.info()"
   ]
  },
  {
   "cell_type": "code",
   "execution_count": null,
   "id": "btgfWDpLWRwG",
   "metadata": {
    "id": "btgfWDpLWRwG"
   },
   "outputs": [],
   "source": [
    "df_pisa.describe()"
   ]
  },
  {
   "cell_type": "markdown",
   "id": "f8f5226c",
   "metadata": {
    "id": "f8f5226c"
   },
   "source": [
    "Veamos datos numéricos resaltando los valores extremos:"
   ]
  },
  {
   "cell_type": "code",
   "execution_count": null,
   "id": "AOJ9WcjSsNjG",
   "metadata": {
    "id": "AOJ9WcjSsNjG"
   },
   "outputs": [],
   "source": [
    "df_pisa.style.background_gradient(\"RdYlGn\")"
   ]
  },
  {
   "cell_type": "code",
   "execution_count": null,
   "id": "RQdprmh6sJ2P",
   "metadata": {
    "id": "RQdprmh6sJ2P"
   },
   "outputs": [],
   "source": [
    "df_pisa.info() # información general, nulos, tipos y memoria que ocupa"
   ]
  },
  {
   "cell_type": "code",
   "execution_count": null,
   "id": "5f408ba1",
   "metadata": {
    "id": "5f408ba1"
   },
   "outputs": [],
   "source": [
    "\n",
    "desc_pisa = df_pisa.describe()\n",
    "desc_pisa"
   ]
  },
  {
   "cell_type": "code",
   "execution_count": null,
   "id": "cc785e49",
   "metadata": {
    "id": "cc785e49"
   },
   "outputs": [],
   "source": [
    "# Nos quedamos solo con media y mediana\n",
    "mediamediana = desc_pisa.loc[ [\"mean\",\"50%\"] ]\n",
    "mediamediana"
   ]
  },
  {
   "cell_type": "code",
   "execution_count": null,
   "id": "51928a7c",
   "metadata": {
    "id": "51928a7c"
   },
   "outputs": [],
   "source": [
    "# veamos la diferecia\n",
    "mediamediana.iloc[0,:]-mediamediana.iloc[1,:]"
   ]
  },
  {
   "cell_type": "code",
   "execution_count": null,
   "id": "YoQITURPJX0s",
   "metadata": {
    "id": "YoQITURPJX0s"
   },
   "outputs": [],
   "source": [
    "traspuesta = mediamediana.T\n",
    "traspuesta"
   ]
  },
  {
   "cell_type": "code",
   "execution_count": null,
   "id": "rQWJYkkfJb6s",
   "metadata": {
    "id": "rQWJYkkfJb6s"
   },
   "outputs": [],
   "source": [
    "traspuesta[\"dif\"] = traspuesta[\"mean\"] - traspuesta[\"50%\"]\n",
    "df_dif = traspuesta.T\n",
    "df_dif"
   ]
  },
  {
   "cell_type": "code",
   "execution_count": null,
   "id": "967c7778",
   "metadata": {
    "id": "967c7778"
   },
   "outputs": [],
   "source": [
    "# otra forma, solo para una variable\n",
    "df_pisa.MAT.mean(), df_pisa.MAT.median()"
   ]
  },
  {
   "cell_type": "code",
   "execution_count": null,
   "id": "TlC5vOySLryz",
   "metadata": {
    "id": "TlC5vOySLryz"
   },
   "outputs": [],
   "source": []
  },
  {
   "cell_type": "markdown",
   "id": "0c421350",
   "metadata": {
    "id": "0c421350"
   },
   "source": [
    "<a name=\"Dispersión\"></a>\n",
    "## Dispersión\n",
    "\n",
    "Si las medidas de centralidad dan la idea de un \"centro\" de la variable, la media de dispersión sería el \"radio\" indica lo alejados que están de ese centro. Vamos a ver 2 cada uno relacionado con una de las medidas de centralidad\n",
    "\n",
    "* Desviación típica $\\sigma(x)=\\sqrt{\\frac{{\\displaystyle \\sum_{i=1}^{N}\\left(x_{i}-\\mu\\right)^{2}}}{N}}$, la raíz cuadrada de la varianza\n",
    "\n",
    "* Desviación absoluta con respecto a la mediana $\\mathit{MAD}(x) = mediana(|x_i - mediana(x)|)$"
   ]
  },
  {
   "cell_type": "code",
   "execution_count": null,
   "id": "42161689",
   "metadata": {
    "id": "42161689"
   },
   "outputs": [],
   "source": [
    "df_pisa.MAT.std(), (df_pisa.MAT - df_pisa.MAT.median()).abs().median()"
   ]
  },
  {
   "cell_type": "code",
   "execution_count": null,
   "id": "e8eb4de6",
   "metadata": {
    "id": "e8eb4de6"
   },
   "outputs": [],
   "source": [
    "def mad(variable):\n",
    "  return (variable-variable.median()).abs().median()\n",
    "\n",
    "def centra_disp(df):\n",
    "  # nos quedamos solo con los datos que sean números (asumimos que hemos comprobado que todos son ratio o intervalo)\n",
    "  df_num = df.select_dtypes(include=[\"number\"])\n",
    "  datos = []\n",
    "  for c in df_num.columns:\n",
    "      variable = df[c]\n",
    "      datos.append([variable.mean(), variable.median(), variable.std(), mad(variable)])\n",
    "\n",
    "  estad = pd.DataFrame(datos,columns=[\"mean\",\"median\",\"std\",\"MAD\"],index=df_num.columns)\n",
    "  return estad"
   ]
  },
  {
   "cell_type": "code",
   "execution_count": null,
   "id": "hr8nWuzQbS-F",
   "metadata": {
    "id": "hr8nWuzQbS-F"
   },
   "outputs": [],
   "source": [
    "centra_disp(df_pisa)"
   ]
  },
  {
   "cell_type": "markdown",
   "id": "9675877a",
   "metadata": {
    "id": "9675877a"
   },
   "source": [
    "Algunas consecuencias sencillas:\n",
    "* De media parece que los hombres lo hacen mejor en matemáticas y las mujeres en lectura, en ciencia la diferencia es muy pequeña\n",
    "* De media se obtiene mejor nota en ciencias que en lectura, y en lectura que en matemáticas\n",
    "* En general la mediana es mayor que la media indicando una mayor dispersión a la izquierda\n",
    "* La mayor dispersión `std` se da en MAT_MA, pero si nos fijamos en la mediana es SCI_MA (quizás MAT_MA tiene más outliers?)\n",
    "* La menor dispersión `std` se da en REA_FE y en SCI_FE, aunque desde el punto de vista de MAD se da en SCI_FE y MAT_FE. En todo caso parece que las notas para las chicas varían menos de país en país que en el caso de los chicos (¿por qué?)"
   ]
  },
  {
   "cell_type": "markdown",
   "id": "8ed7ec70",
   "metadata": {
    "id": "8ed7ec70"
   },
   "source": [
    "<a name=\"Histogramas\"></a>\n",
    "## Histogramas\n",
    "\n",
    "* No debe confundirse con diagrama de barras, donde se representan datos categóricos nominal\n",
    "\n",
    "* Un histograma representa la frecuencia (número de elementos) en una variable (ratio u intervalo) representada por intervalos, nos permite ver la distribución de la variable (algo que no se pretende con el diagrama de barras)\n",
    "\n",
    "* En el caso de valores ordinales se puede usar un \"diagrama de barras ordenado\"\n",
    "\n",
    "Ejemplo"
   ]
  },
  {
   "cell_type": "code",
   "execution_count": null,
   "id": "lo_M77gxJ0WA",
   "metadata": {
    "id": "lo_M77gxJ0WA"
   },
   "outputs": [],
   "source": [
    "import matplotlib.pyplot as plt\n",
    "import pandas as pd\n",
    "\n",
    "url = \"https://raw.githubusercontent.com/RafaelCaballero/tdm/master/datos/PisaDataClean.csv\"\n",
    "df_pisa = pd.read_csv(url)\n",
    "\n",
    "df_pisa.hist()\n",
    "plt.tight_layout()\n",
    "plt.show()"
   ]
  },
  {
   "cell_type": "code",
   "execution_count": null,
   "id": "0529db9b",
   "metadata": {
    "id": "0529db9b"
   },
   "outputs": [],
   "source": [
    "import numpy as np\n",
    "import matplotlib.pyplot as plt\n",
    "\n",
    "#generate a random numpy array with 1000 elements\n",
    "normaldata = np.random.randn(100000)\n",
    "data=normaldata\n",
    "\n",
    "#histograma\n",
    "plt.hist(data,edgecolor=\"black\", bins =30)\n",
    "\n",
    "#añadimos título\n",
    "plt.title(\"Histograma\")\n",
    "\n",
    "#etiqueta en X\n",
    "plt.xlabel(\"Valores\")\n",
    "\n",
    "#etiqueta en y\n",
    "plt.ylabel(\"Frecuencias\")\n",
    "\n",
    "# mostrarlo\n",
    "plt.show()"
   ]
  },
  {
   "cell_type": "code",
   "execution_count": null,
   "id": "3e7a51ca",
   "metadata": {
    "id": "3e7a51ca"
   },
   "outputs": [],
   "source": [
    "data.mean(), data.std(), np.median(data)"
   ]
  },
  {
   "cell_type": "markdown",
   "id": "6ec55e74",
   "metadata": {
    "id": "6ec55e74"
   },
   "source": [
    "Con `density=True` conseguimos frecuencias relativas"
   ]
  },
  {
   "cell_type": "code",
   "execution_count": null,
   "id": "13a7e93e",
   "metadata": {
    "id": "13a7e93e"
   },
   "outputs": [],
   "source": [
    "#histograma\n",
    "plt.hist(data,edgecolor=\"black\", bins =30, density=True)\n",
    "\n",
    "#añadimos título\n",
    "plt.title(\"Histograma\")\n",
    "\n",
    "#etiqueta en X\n",
    "plt.xlabel(\"Valores\")\n",
    "\n",
    "#etiqueta en y\n",
    "plt.ylabel(\"Frecuencias\")\n",
    "\n",
    "# mostrarlo\n",
    "plt.show()"
   ]
  },
  {
   "cell_type": "markdown",
   "id": "a38694cb",
   "metadata": {
    "id": "a38694cb"
   },
   "source": [
    "Cuando tenemos una normal \"perfecta\"  se tiene que\n",
    "<img src=\"https://news.mit.edu/sites/default/files/styles/news_article__image_gallery/public/images/201202/20120208160239-1_0.jpg?itok=1X1a_HCs\" width=400></img>\n",
    "\n",
    "13.6 + 34.1 + 13.6 + 34.1 = 95.4% es decir casi el 95% de los valores estarán entre la media y +- 2 la desviación típica"
   ]
  },
  {
   "cell_type": "code",
   "execution_count": null,
   "id": "bbb010bd",
   "metadata": {
    "id": "bbb010bd"
   },
   "outputs": [],
   "source": [
    "m = data.mean()\n",
    "s = data.std()\n",
    "\n",
    "sum((data < m+2*s) & (data >m-2*s))/len(data)"
   ]
  },
  {
   "cell_type": "markdown",
   "id": "34F3asUhSAVo",
   "metadata": {
    "id": "34F3asUhSAVo"
   },
   "source": [
    "Ejemplo más elaborado usando seaborn y con media y mediana"
   ]
  },
  {
   "cell_type": "code",
   "execution_count": null,
   "id": "4ubTtMTiKll0",
   "metadata": {
    "id": "4ubTtMTiKll0"
   },
   "outputs": [],
   "source": [
    "import numpy as np\n",
    "import matplotlib.pyplot as plt\n",
    "import pandas as pd\n",
    "import seaborn as sns\n",
    "\n",
    "def plot_histograms_with_stats(df):\n",
    "    # solo columnas numéricas\n",
    "    columns = df.select_dtypes(include=[np.number]).columns\n",
    "    for col in columns:\n",
    "        # nuevo gráfico\n",
    "        fig,ax = plt.subplots(nrows=1, ncols=1, figsize=(10, 10))\n",
    "        data = df[col].dropna()\n",
    "        mean_val = data.mean()\n",
    "        median_val = data.median()\n",
    "\n",
    "        # histograma y líneas verticales\n",
    "        sns.histplot(df[col], bins=25, ax=ax, alpha=0.3, kde=False)\n",
    "        ax.axvline(mean_val, color='red', linestyle='dashed', linewidth=1, label=f'Mean: {mean_val:.2f}')\n",
    "        ax.axvline(median_val, color='green', linestyle='dashed', linewidth=1, label=f'Median: {median_val:.2f}')\n",
    "\n",
    "        ax.set_title(f'Histogram of {col}')\n",
    "        ax.set_xlabel(col)\n",
    "        ax.set_ylabel('Frequency')\n",
    "        ax.legend()\n",
    "        fig.savefig(col+\".png\")\n",
    "        plt.show()\n",
    "plot_histograms_with_stats(df_pisa)"
   ]
  },
  {
   "cell_type": "markdown",
   "id": "6fd33421",
   "metadata": {
    "id": "6fd33421"
   },
   "source": [
    "<a name=\"Asimetría\"></a>\n",
    "## Asimetría\n",
    "\n",
    "Asimetría a la derecha: muchos datos acumulados en poco espacio a la izquierda, a la derecha un descenso lento y prolongado\n",
    "\n",
    "* Se tendrá que media>mediana\n",
    "* Normalmente solo tendremos que preocuparnos por outliers a la derecha, es decir por valores \"excesivamente grandes\"\n",
    "* Sucede por ejemplo en mediciones que por su naturaleza son todas positivas\n",
    "* Puede tener sentido hacer un estudio diferente a la izquierda y a la derecha de la mediana"
   ]
  },
  {
   "cell_type": "code",
   "execution_count": null,
   "id": "c1b9098b",
   "metadata": {
    "id": "c1b9098b"
   },
   "outputs": [],
   "source": [
    "import pandas as pd\n",
    "url = \"https://raw.githubusercontent.com/RafaelCaballero/tdm/master/datos/madrid/contaminacionLargo.csv\"\n",
    "df_conta = pd.read_csv(url)\n",
    "df_conta"
   ]
  },
  {
   "cell_type": "code",
   "execution_count": null,
   "id": "550a3c2e",
   "metadata": {
    "id": "550a3c2e"
   },
   "outputs": [],
   "source": [
    "import numpy as np\n",
    "import matplotlib.pyplot as plt\n",
    "\n",
    "\n",
    "data = df_conta.PM10\n",
    "#histograma\n",
    "plt.hist(data,edgecolor=\"black\", bins =50)\n",
    "\n",
    "#añadimos título\n",
    "plt.title(\"Histograma\")\n",
    "\n",
    "#etiqueta en X\n",
    "plt.xlabel(\"Valores\")\n",
    "\n",
    "#etiqueta en y\n",
    "plt.ylabel(\"Frecuencias\")\n",
    "\n",
    "# mostrarlo\n",
    "plt.show()"
   ]
  },
  {
   "cell_type": "code",
   "execution_count": null,
   "id": "61c0b219",
   "metadata": {
    "id": "61c0b219"
   },
   "outputs": [],
   "source": [
    "media = data.mean()\n",
    "mediana = data.median()\n",
    "media, mediana"
   ]
  },
  {
   "cell_type": "code",
   "execution_count": null,
   "id": "8b3117e1-327b-4ba9-bc8a-3408783689ab",
   "metadata": {},
   "outputs": [],
   "source": [
    "import numpy as np\n",
    "import matplotlib.pyplot as plt\n",
    "\n",
    "\n",
    "#histograma\n",
    "df_conta.PM10.hist(bins =50,alpha=0.6)\n",
    "\n",
    "# media\n",
    "plt.axvline(media, color='r', linestyle='--', linewidth=2, label=f'Mean: {media:.2f}')\n",
    "\n",
    "# Añadir la línea vertical para la mediana (discontinua)\n",
    "plt.axvline(mediana, color='g', linestyle='-.', linewidth=2, label=f'Median: {mediana:.2f}')\n",
    "\n",
    "# Añadir la leyenda\n",
    "plt.legend()\n",
    "\n",
    "#añadimos título\n",
    "plt.title(\"Histograma con media y mediana\")\n",
    "\n",
    "#etiqueta en X\n",
    "plt.xlabel(\"Valores\")\n",
    "\n",
    "#etiqueta en y\n",
    "plt.ylabel(\"Frecuencias\")\n",
    "\n",
    "# mostrarlo\n",
    "plt.show()"
   ]
  },
  {
   "cell_type": "markdown",
   "id": "46c07dcf",
   "metadata": {
    "id": "46c07dcf"
   },
   "source": [
    "Como vemos aquí no se cumple la regla anterior de que en el entorno 2std se concentra el 95% de la población. Esto es así porque no se trata de una normal"
   ]
  },
  {
   "cell_type": "code",
   "execution_count": null,
   "id": "352e5b37",
   "metadata": {
    "id": "352e5b37"
   },
   "outputs": [],
   "source": [
    "m = data.mean()\n",
    "s = data.std()\n",
    "\n",
    "sum((data < m+2*s) & (data >m-2*s))/len(data)"
   ]
  },
  {
   "cell_type": "markdown",
   "id": "05c05a85",
   "metadata": {
    "id": "05c05a85"
   },
   "source": [
    " Podemos definir el grado de asimetría o *skewness\" mediante un momento de orden 3:\n",
    "\n",
    "$$\\text{Skewness} = \\frac{n}{(n-1)(n-2)} \\sum_{i=1}^{n} \\left(\\frac{x_i - \\bar{x}}{s}\\right)^3$$\n",
    "\n",
    "donde $\\bar{x}$ es la media y $s$ es la desviación típica.\n",
    "\n",
    "La interpretación es:\n",
    "\n",
    "        >0 : Asimetría a la derecha o positiva\n",
    "        aprox. 0 : simétrico\n",
    "        <0 : asimetría a la izquierda o negativa\n",
    "\n",
    "\n",
    "<img src=\"https://upload.wikimedia.org/wikipedia/commons/c/cc/Relationship_between_mean_and_median_under_different_skewness.png\"  width=500>\n",
    "\n",
    "By Diva Jain - https://codeburst.io/2-important-statistics-terms-you-need-to-know-in-data-science-skewness-and-kurtosis-388fef94eeaa, CC BY-SA 4.0, https://commons.wikimedia.org/w/index.php?curid=84219892</img>\n",
    "\n",
    "Afortunadamente no necesitamos aprender ni implementar la fórmula, la función `skew` de Pandas nos indica la asimetría\n",
    "\n"
   ]
  },
  {
   "cell_type": "code",
   "execution_count": null,
   "id": "6e353d51",
   "metadata": {
    "id": "6e353d51"
   },
   "outputs": [],
   "source": [
    "data.skew()"
   ]
  },
  {
   "cell_type": "markdown",
   "id": "34aff5d9",
   "metadata": {
    "id": "34aff5d9"
   },
   "source": [
    "Tenemos por tanto asimetría a la derecha. En el dataframe de PISA"
   ]
  },
  {
   "cell_type": "code",
   "execution_count": null,
   "id": "834ec03a",
   "metadata": {
    "id": "834ec03a"
   },
   "outputs": [],
   "source": [
    "df_pisa_num = df_pisa.select_dtypes(include=[\"number\"])\n",
    "for c in df_pisa_num:\n",
    "    print(c,df_pisa_num[c].skew())"
   ]
  },
  {
   "cell_type": "markdown",
   "id": "382629f3",
   "metadata": {
    "id": "382629f3"
   },
   "source": [
    "En nuestros datos \"normales\""
   ]
  },
  {
   "cell_type": "code",
   "execution_count": null,
   "id": "1078a64f",
   "metadata": {
    "id": "1078a64f"
   },
   "outputs": [],
   "source": [
    "pd.DataFrame({\"x\": normaldata}).skew()"
   ]
  },
  {
   "cell_type": "markdown",
   "id": "a4e9c5ae",
   "metadata": {
    "id": "a4e9c5ae"
   },
   "source": [
    "Como vemos no sale exactamente 0 aunque sí muy cercano"
   ]
  },
  {
   "cell_type": "markdown",
   "id": "28bfadcb",
   "metadata": {
    "id": "28bfadcb"
   },
   "source": [
    "<a name=\"Apuntamiento\"></a>\n",
    "## Curtosis\n",
    "\n",
    "La curtosis indica el peso de las colas en relación con una normal estándar. A menudo se confunde con \"apuntamiento\" pero no es exactamente lo mismo.\n",
    "\n",
    "Se calcula mendiante un momento de grado 4:\n",
    "\n",
    "$$\\text{Curtosis} = \\frac{n(n+1)}{(n-1)(n-2)(n-3)} \\sum_{i=1}^{n} \\left(\\frac{x_i - \\bar{x}}{s}\\right)^4 - \\frac{3(n-1)^2}{(n-2)(n-3)}$$\n",
    "\n",
    "La función `kurtosis` de Pandas nos indica este valor:\n",
    "\n",
    "        >0 : leptocúrtica ; los outliers tienen más peso que en la normal, tenemos muchos outliers (hay que ver por qué y si merece la pena hacer un estudio solo de esta parte)\n",
    "        aprox. 0 : ismilar a una normal\n",
    "        <0 : los outliers tienen menos peso que en la normal, la distribución está más concentrada alrededor de la media\n",
    "\n"
   ]
  },
  {
   "cell_type": "code",
   "execution_count": null,
   "id": "12fa46b2",
   "metadata": {
    "id": "12fa46b2"
   },
   "outputs": [],
   "source": [
    "pd.DataFrame({\"x\": normaldata}).kurtosis()"
   ]
  },
  {
   "cell_type": "code",
   "execution_count": null,
   "id": "1de3a7d4",
   "metadata": {
    "id": "1de3a7d4"
   },
   "outputs": [],
   "source": [
    "df_conta.PM10.kurtosis()"
   ]
  },
  {
   "cell_type": "code",
   "execution_count": null,
   "id": "18482c8c",
   "metadata": {
    "id": "18482c8c"
   },
   "outputs": [],
   "source": [
    "df_pisa.MAT.kurtosis()"
   ]
  },
  {
   "cell_type": "code",
   "execution_count": null,
   "id": "c8b99ec4-5e4e-45f1-a238-01b4a8d46aee",
   "metadata": {},
   "outputs": [],
   "source": [
    "n = len(df_pisa)\n",
    "x = df_pisa.MAT\n",
    "x_barra = x.mean()\n",
    "s = x.std()\n",
    "\n",
    "n*(n+1) / ((n-1)*(n-2)*(n-3)) * (((x-x_barra)/s)**4).sum() - ( 3*(n-1)**2/ ((n-2)*(n-3) ))\n"
   ]
  },
  {
   "cell_type": "markdown",
   "id": "00389e13",
   "metadata": {
    "id": "00389e13"
   },
   "source": [
    "## Ejemplo\n",
    "\n",
    "Datos de 7 sensores de radiación solar durante varios días con todas sus horas"
   ]
  },
  {
   "cell_type": "code",
   "execution_count": null,
   "id": "820990fb",
   "metadata": {
    "id": "820990fb"
   },
   "outputs": [],
   "source": [
    "import pandas as pd\n",
    "url = \"https://github.com/RafaelCaballero/tdm/raw/master/datos/solar.zip\"\n",
    "df_solar = pd.read_csv(url)"
   ]
  },
  {
   "cell_type": "code",
   "execution_count": null,
   "id": "8560e54f",
   "metadata": {
    "id": "8560e54f"
   },
   "outputs": [],
   "source": [
    "df_solar"
   ]
  },
  {
   "cell_type": "code",
   "execution_count": null,
   "id": "ec9843d6",
   "metadata": {
    "id": "ec9843d6"
   },
   "outputs": [],
   "source": [
    "\n",
    "import matplotlib.pyplot as plt\n",
    "for c in df_solar.columns[4:]:\n",
    "    fig, ax = plt.subplots(figsize=(24, 6))\n",
    "    df_solar[c].hist(bins=50)\n",
    "    plt.title(c)\n",
    "    plt.show()"
   ]
  },
  {
   "cell_type": "markdown",
   "id": "ff3f7bf6",
   "metadata": {
    "id": "ff3f7bf6"
   },
   "source": [
    "¿Qué consecuencias se extraen a simple vista? Añadir código para probar"
   ]
  },
  {
   "cell_type": "code",
   "execution_count": null,
   "id": "fc8ba664",
   "metadata": {
    "id": "fc8ba664"
   },
   "outputs": [],
   "source": [
    "df_solar[\"S1\"].skew()"
   ]
  },
  {
   "cell_type": "code",
   "execution_count": null,
   "id": "e2cd7939",
   "metadata": {
    "id": "e2cd7939"
   },
   "outputs": [],
   "source": [
    "df_solar[\"S1\"].kurtosis()"
   ]
  },
  {
   "cell_type": "markdown",
   "id": "b53d9263",
   "metadata": {
    "id": "b53d9263"
   },
   "source": [
    "<a name=\"Barras\"></a>\n",
    "## Diagramas de barras y de tarta"
   ]
  },
  {
   "cell_type": "code",
   "execution_count": null,
   "id": "bd14150d",
   "metadata": {
    "id": "bd14150d"
   },
   "outputs": [],
   "source": [
    "import pandas as pd\n",
    "import seaborn as sns\n",
    "url= \"https://raw.githubusercontent.com/RafaelCaballero/tdm/master/datos/pokemon.csv\"\n",
    "\n",
    "# solución\n",
    "df_pok = pd.read_csv(url)\n",
    "\n",
    "df_pok"
   ]
  },
  {
   "cell_type": "code",
   "execution_count": null,
   "id": "48fbe22f",
   "metadata": {
    "id": "48fbe22f"
   },
   "outputs": [],
   "source": [
    "\n",
    "sns.countplot(data=df_pok, x=\"Generation\")"
   ]
  },
  {
   "cell_type": "code",
   "execution_count": null,
   "id": "FGr1vsWuhsFV",
   "metadata": {
    "id": "FGr1vsWuhsFV"
   },
   "outputs": [],
   "source": [
    "df_pok.Generation.value_counts()"
   ]
  },
  {
   "cell_type": "code",
   "execution_count": null,
   "id": "W5OW23Xdopb0",
   "metadata": {
    "id": "W5OW23Xdopb0"
   },
   "outputs": [],
   "source": [
    "import matplotlib.pyplot as plt\n",
    "\n",
    "\n",
    "frecuencias =  df_pok.Generation.value_counts()\n",
    "labels = frecuencias.index\n",
    "sizes = frecuencias.values\n",
    "\n",
    "plt.pie(sizes, labels=labels)\n",
    "plt.show()"
   ]
  },
  {
   "cell_type": "markdown",
   "id": "48e11be7",
   "metadata": {
    "id": "48e11be7"
   },
   "source": [
    "<a name=\"Múltiples\"></a>\n",
    "## Múltiples histogramas\n",
    "\n",
    "En ocasiones para comparar interesa reproducir varios histogramas en uno solo. Aunque se puede hacer esto con matplotlib la biblioteca seaborn ofrece un catálogo más amplio de posibilidades"
   ]
  },
  {
   "cell_type": "code",
   "execution_count": null,
   "id": "d4867022",
   "metadata": {
    "id": "d4867022"
   },
   "outputs": [],
   "source": [
    "import seaborn as sns # !pip install seaborn"
   ]
  },
  {
   "cell_type": "code",
   "execution_count": null,
   "id": "6ae9a054",
   "metadata": {
    "id": "6ae9a054"
   },
   "outputs": [],
   "source": [
    "\n",
    "sns.histplot(data=df_conta, x=\"PM10\", hue=\"ANO\",palette='tab10')"
   ]
  },
  {
   "cell_type": "markdown",
   "id": "6c792db0",
   "metadata": {
    "id": "6c792db0"
   },
   "source": [
    "a menudo se ve mejor si usamos la opción `multiple='stack'`"
   ]
  },
  {
   "cell_type": "code",
   "execution_count": null,
   "id": "ac60cf2d",
   "metadata": {
    "id": "ac60cf2d",
    "scrolled": true
   },
   "outputs": [],
   "source": [
    "sns.histplot(data=df_conta, x=\"PM10\", hue=\"ANO\",palette='tab10', multiple=\"stack\")"
   ]
  },
  {
   "cell_type": "markdown",
   "id": "9cfe3f7b",
   "metadata": {
    "id": "9cfe3f7b"
   },
   "source": [
    "También se pueden comparar dos variables continuas, pero puede que haya que hacer una transformación"
   ]
  },
  {
   "cell_type": "code",
   "execution_count": null,
   "id": "ob5rRJmoixGm",
   "metadata": {
    "id": "ob5rRJmoixGm"
   },
   "outputs": [],
   "source": [
    "df_conta"
   ]
  },
  {
   "cell_type": "code",
   "execution_count": null,
   "id": "4039a817",
   "metadata": {
    "id": "4039a817"
   },
   "outputs": [],
   "source": [
    "df_conta_largo =df_conta[[\"PM10\",\"PM2.5\"]].melt()\n",
    "df_conta_largo"
   ]
  },
  {
   "cell_type": "code",
   "execution_count": null,
   "id": "8e391881",
   "metadata": {
    "id": "8e391881",
    "scrolled": true
   },
   "outputs": [],
   "source": [
    "sns.histplot(data=df_conta_largo, x=\"value\", hue=\"variable\",palette='tab10', multiple=\"stack\")"
   ]
  },
  {
   "cell_type": "markdown",
   "id": "b475a897",
   "metadata": {
    "id": "b475a897"
   },
   "source": [
    "Incluso 2 variables continuas"
   ]
  },
  {
   "cell_type": "code",
   "execution_count": null,
   "id": "72a4c7dc",
   "metadata": {
    "id": "72a4c7dc"
   },
   "outputs": [],
   "source": [
    "sns.histplot(data=df_conta, x=\"PM10\", y=\"PM2.5\")"
   ]
  },
  {
   "cell_type": "markdown",
   "id": "vzC0JMAVr6-o",
   "metadata": {
    "id": "vzC0JMAVr6-o"
   },
   "source": [
    "<a name=\"Tests\"></a>\n",
    "## Test Estadísticos"
   ]
  },
  {
   "cell_type": "markdown",
   "id": "9h2-E_kUr1uA",
   "metadata": {
    "id": "9h2-E_kUr1uA"
   },
   "source": [
    "\n",
    "\n",
    "En ciencia de datos no hay casi nunca certezas; al fin y al cabo tenemos unos datos particulares, una \"muestra\", y por eso algunas conclusiones que saquemos pueden ser meras coincidencias o casualidades. Los tests estadísticos nos indican si una hipótesis se verifica o no con una alta probabilidad.\n",
    "\n",
    "Cada test va orientado a un problema concreto y plantea una hipótesis,\n",
    " llamada *hipótesis nula*.\n",
    "\n",
    "El resultados del test suele ser un valor p que indica la probabilidad de que se cumpla la hipótesis nula además de otros valores (a menudo un estadístico que depende del test)\n",
    "\n",
    "Si p<0.05 o p<0.01 (depende del nivel de exigencia) rechazamos la hipótesis nula y damos por válida la contraria, la hipótesis alternativa\n",
    "\n",
    "Es importante observar que si p>0.05 no \"aceptamos\" la hipótesis nula, solo decimos que no hemos podido rechazarla (en la práctica a menudo esto se toma como prueba de aceptación aunque no sea correcto).\n",
    "\n",
    "#### Ejemplo: test de normalidad"
   ]
  },
  {
   "cell_type": "code",
   "execution_count": null,
   "id": "a5d70403",
   "metadata": {
    "id": "a5d70403"
   },
   "outputs": [],
   "source": [
    "from scipy.stats import normaltest\n",
    "from scipy import stats\n",
    "\n",
    "def normal(data):\n",
    "    _, p = stats.normaltest(data,nan_policy=\"omit\")\n",
    "    if p<0.05:\n",
    "        msg = \"Se rechaza H0: no sigue una distribución normal\"\n",
    "    else:\n",
    "        msg = \"No se rechaza H0; no podemos descartar  una distribución normal\"\n",
    "    return msg,round(p,4)"
   ]
  },
  {
   "cell_type": "code",
   "execution_count": null,
   "id": "b15db5a8",
   "metadata": {
    "id": "b15db5a8"
   },
   "outputs": [],
   "source": [
    "import numpy as np\n",
    "import matplotlib.pyplot as plt\n",
    "\n",
    "#generate a random numpy array with 100000 elements\n",
    "normaldata = np.random.randn(100000)\n",
    "\n",
    "plt.hist(normaldata,edgecolor=\"black\", bins =30, density=True)\n",
    "\n",
    "normal(normaldata)"
   ]
  },
  {
   "cell_type": "code",
   "execution_count": null,
   "id": "4C0nxEkHtjhm",
   "metadata": {
    "id": "4C0nxEkHtjhm"
   },
   "outputs": [],
   "source": [
    "import numpy as np\n",
    "import matplotlib.pyplot as plt\n",
    "\n",
    "def normales(df):\n",
    "    for c in df.columns:\n",
    "        fig, ax = plt.subplots(figsize=(5, 3))\n",
    "        df[c].hist(bins=20)\n",
    "        msg,p = normal(df[c])\n",
    "        plt.title(f\"{c} {msg} - p: {p} \")\n",
    "        plt.show()"
   ]
  },
  {
   "cell_type": "code",
   "execution_count": null,
   "id": "lRzRIV8dtW3f",
   "metadata": {
    "id": "lRzRIV8dtW3f"
   },
   "outputs": [],
   "source": [
    "import pandas as pd\n",
    "url = \"https://raw.githubusercontent.com/RafaelCaballero/tdm/master/datos/PisaDataClean.csv\"\n",
    "df_pisa = pd.read_csv(url)\n",
    "# nos quedamos solo con los datos que sean números (asumimos que hemos comprobado que todos son ratio o intervalo)\n",
    "df_pisa_num = df_pisa.select_dtypes(include=[\"number\"])\n",
    "normales(df_pisa_num)"
   ]
  },
  {
   "cell_type": "markdown",
   "id": "yxOm386qtCwY",
   "metadata": {
    "id": "yxOm386qtCwY"
   },
   "source": [
    "#### Ejemplo: test de igualdad de distribuciones\n",
    "\n",
    "Supongamos que tenemos 2 monedas, en la primera nos salen 2 caras seguidas, en la segunda 2 cruces seguidas ¿podemos asegurar que son monedas diferentes? Casi todos estaremos de acuerdo en que no, en que la diferencia se puede deber al azar. Eso sí, si tiramos cada moneda 1000 veces y en la primera sale por ejemplo un 30% más de caras que en la segunda puede que sospechemos que sí lo sean. Estas ideas son las que implementan los tests que comparan las medias de dos variables. Vamos a ver 2:\n",
    "\n",
    "t de student: solo aplicable bajo ciertas circunstancias (es un test paramétrico): normalidad de ambas variables, misma varianza...la hipótesis nula (que rechazaremos si p<0.05) es que la media es la misma\n",
    "\n",
    "Kolmogorov-Sminov: se puede aplicar a cualquier pareja de variables (pero es más exigente). La hipótesis nula (que rechazaremos si p<0.05) es que los datos provienen de la misma distribución continua\n",
    "\n",
    "*t de Student*\n",
    "\n"
   ]
  },
  {
   "cell_type": "markdown",
   "id": "OGhkfyKPSdqo",
   "metadata": {
    "id": "OGhkfyKPSdqo"
   },
   "source": [
    "0 significa cara, 1 significa cruz, tiramos la moneda 15 veces"
   ]
  },
  {
   "cell_type": "code",
   "execution_count": null,
   "id": "h7joKbaBSjya",
   "metadata": {
    "id": "h7joKbaBSjya"
   },
   "outputs": [],
   "source": [
    "from scipy.stats import ttest_ind\n",
    "x1 =  [1,0,1]*5\n",
    "x2 = [0,1,0]*5\n",
    "print(x1)\n",
    "print(x2)\n",
    "ttest_ind(x1, x2)"
   ]
  },
  {
   "cell_type": "markdown",
   "id": "fVO47rpsTV_2",
   "metadata": {
    "id": "fVO47rpsTV_2"
   },
   "source": [
    "No podemos rechazar la posibilidad de que las dos monedas tengan la misma media.Probamos con 50 veces..."
   ]
  },
  {
   "cell_type": "code",
   "execution_count": null,
   "id": "2HB-3g70SrnS",
   "metadata": {
    "id": "2HB-3g70SrnS"
   },
   "outputs": [],
   "source": [
    "from scipy.stats import ttest_ind\n",
    "x1 =  [1,0,1]*25\n",
    "x2 = [0,1,0]*25\n",
    "print(x1)\n",
    "print(x2)\n",
    "ttest_ind(x1, x2)"
   ]
  },
  {
   "cell_type": "markdown",
   "id": "CGs7gLtQTJid",
   "metadata": {
    "id": "CGs7gLtQTJid"
   },
   "source": [
    "números aleatorios siguiendo una normal 0,1"
   ]
  },
  {
   "cell_type": "code",
   "execution_count": null,
   "id": "tmCPY9ALuwuQ",
   "metadata": {
    "id": "tmCPY9ALuwuQ"
   },
   "outputs": [],
   "source": [
    "from scipy.stats import ttest_ind\n",
    "x1 =  np.random.randn(100000)\n",
    "x2 = np.random.randn(100000)\n",
    "ttest_ind(x1, x2)"
   ]
  },
  {
   "cell_type": "markdown",
   "id": "rbPzZJ_7u5oY",
   "metadata": {
    "id": "rbPzZJ_7u5oY"
   },
   "source": [
    "como pvalue>0,05 no podemos rechazar la hipótesis de que la media es muy similar"
   ]
  },
  {
   "cell_type": "code",
   "execution_count": null,
   "id": "LoU8kYBiu6Zn",
   "metadata": {
    "id": "LoU8kYBiu6Zn"
   },
   "outputs": [],
   "source": [
    "from scipy.stats import ttest_ind\n",
    "x1 = np.random.randn(100000)+1\n",
    "x2 = np.random.randn(100000)\n",
    "ttest_ind(x1, x2)"
   ]
  },
  {
   "cell_type": "markdown",
   "id": "KDIqqboMu9FI",
   "metadata": {
    "id": "KDIqqboMu9FI"
   },
   "source": [
    "Podemos rechazar que ambas medias sean iguales.\n",
    "\n",
    "*Kolmogorov-Smirnov*\n",
    "\n",
    "Realmente este test no busca comparar medidas sino ver si dos muestras proceden de la misma población. Veamos un ejemplo"
   ]
  },
  {
   "cell_type": "code",
   "execution_count": null,
   "id": "3MvWsq2fvKVP",
   "metadata": {
    "id": "3MvWsq2fvKVP"
   },
   "outputs": [],
   "source": [
    "import pandas as pd\n",
    "url = \"https://github.com/RafaelCaballero/tdm/raw/master/datos/solar.zip\"\n",
    "df_solar = pd.read_csv(url)\n",
    "df_solar"
   ]
  },
  {
   "cell_type": "markdown",
   "id": "004f1bd6-844e-4915-9d71-75d8ad2102fb",
   "metadata": {},
   "source": [
    "¿Corresponden los sensores S1 y S2 a una misma distribución? Primero miramos a ver si son una normal..."
   ]
  },
  {
   "cell_type": "code",
   "execution_count": null,
   "id": "QljdMZWYvOFn",
   "metadata": {
    "id": "QljdMZWYvOFn"
   },
   "outputs": [],
   "source": [
    "def normal(data):\n",
    "    _, p = stats.normaltest(data,nan_policy=\"omit\")\n",
    "    if p<0.05:\n",
    "        msg = \"Se rechaza H0: no sigue una distribución normal\"\n",
    "    else:\n",
    "        msg = \"No se rechaza H0; no podemos descartar  una distribución normal\"\n",
    "    return msg,round(p,4)\n",
    "\n",
    "print(\"S1\",normal(df_solar.S1))\n",
    "print(\"S2\",normal(df_solar.S2))"
   ]
  },
  {
   "cell_type": "markdown",
   "id": "3662abdf-f8d6-4961-991a-a3f7c63e3b26",
   "metadata": {},
   "source": [
    "Era de esperar...usamos el test Kolmogorov-Smirnov"
   ]
  },
  {
   "cell_type": "code",
   "execution_count": null,
   "id": "eWVKWCPKpCAl",
   "metadata": {
    "id": "eWVKWCPKpCAl"
   },
   "outputs": [],
   "source": [
    "from scipy.stats import kstest\n",
    "r = kstest(df_solar.S1, df_solar.S2)\n",
    "r"
   ]
  },
  {
   "cell_type": "code",
   "execution_count": null,
   "id": "42bc1336-ef42-4134-9ffc-437f60d4e9ad",
   "metadata": {},
   "outputs": [],
   "source": [
    "f'pvalue: {r[1]:.5f}'"
   ]
  },
  {
   "cell_type": "markdown",
   "id": "Kag9pCALvr2A",
   "metadata": {
    "id": "Kag9pCALvr2A"
   },
   "source": [
    "Rechazamos la hipótesis nula: los sensores corresponden a distribuciones distintas lo que podemos afirmar de forma estadísticamente significativa (aunque este resultado puede deberse al azar 1 de cada 10000 veces). Comparemos ahora cada par de sensores:\n",
    "\n"
   ]
  },
  {
   "cell_type": "code",
   "execution_count": null,
   "id": "b37e1141-c55e-41ef-ad05-7e7687ed1c21",
   "metadata": {},
   "outputs": [],
   "source": [
    "sensores = [\"S1\", \"S2\", \"S3\",\"S4\",\"S5\",\"S6\",\"S7\"]\n",
    "nsensores = len(sensores)\n",
    "for i1 in range(nsensores):\n",
    "    for i2 in range(i1+1,nsensores):\n",
    "        name1 = sensores[i1]\n",
    "        name2 = sensores[i2]\n",
    "        s1 = df_solar[ name1] \n",
    "        s2 = df_solar[ name2] \n",
    "        \n",
    "        print(name1, \"con\", name2,end=\"\")\n",
    "        r = kstest(s1, s2)\n",
    "        p = f' pvalue: {r[1]:.5f}'\n",
    "        print(p, \"diferentes\" if r[1]<0.01 else \"no se puede desacartar que sea la misma distribución\")\n",
    "    print(\"-\"*20)\n"
   ]
  },
  {
   "cell_type": "code",
   "execution_count": null,
   "id": "7b606b3f-ea15-483c-9c45-23f6362cf3db",
   "metadata": {},
   "outputs": [],
   "source": [
    "df_solar.describe()"
   ]
  },
  {
   "cell_type": "code",
   "execution_count": null,
   "id": "78f0708a-1905-4a43-87a9-92038d8e8b7c",
   "metadata": {},
   "outputs": [],
   "source": [
    "(df_solar.S1 == df_solar.S6).all()"
   ]
  },
  {
   "cell_type": "markdown",
   "id": "053f7b72-6764-4a5f-b16b-dd95dc334ab1",
   "metadata": {},
   "source": [
    "Así que de hecho S6 (o S1) sobra, son la misma columna"
   ]
  }
 ],
 "metadata": {
  "colab": {
   "include_colab_link": true,
   "provenance": []
  },
  "kernelspec": {
   "display_name": "Python 3 (ipykernel)",
   "language": "python",
   "name": "python3"
  },
  "language_info": {
   "codemirror_mode": {
    "name": "ipython",
    "version": 3
   },
   "file_extension": ".py",
   "mimetype": "text/x-python",
   "name": "python",
   "nbconvert_exporter": "python",
   "pygments_lexer": "ipython3",
   "version": "3.12.4"
  }
 },
 "nbformat": 4,
 "nbformat_minor": 5
}
