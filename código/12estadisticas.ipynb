{
 "cells": [
  {
   "cell_type": "markdown",
   "id": "e5572c29",
   "metadata": {
    "colab_type": "text",
    "id": "view-in-github"
   },
   "source": [
    "<a href=\"https://colab.research.google.com/github/RafaelCaballero/Julio24/blob/main/code/12estadisticas.ipynb\" target=\"_parent\"><img src=\"https://colab.research.google.com/assets/colab-badge.svg\" alt=\"Open In Colab\"/></a>"
   ]
  },
  {
   "cell_type": "markdown",
   "id": "8a7c807c",
   "metadata": {
    "id": "8a7c807c"
   },
   "source": [
    "# Introducción a la ciencia de datos con Python\n",
    "### Rafa Caballero\n",
    "\n",
    "### Estadísticas básicas\n",
    "Vamos a analizar este tipo de variables\n",
    "\n",
    "### Índice\n",
    "[Centralidad](#Centralidad)<br>\n",
    "[Dispersión](#Dispersión)<br>\n",
    "[Histogramas](#Histogramas)<br>\n",
    "[Asimetría](#Asimetría)<br>\n",
    "[Curtosis](#Curtosis)<br>\n",
    "[Diagramas de Barras](#Barras)<br>\n",
    "[Tests estadísticos](#Tests)<br>\n"
   ]
  },
  {
   "cell_type": "markdown",
   "id": "45be422c",
   "metadata": {
    "id": "45be422c"
   },
   "source": [
    "<a name=\"Centralidad\"></a>\n",
    "## Centralidad\n",
    "\n",
    "La idea es intentar reducir la variable completa a un solo valor, un \"centro\". Dos valores principales\n",
    "\n",
    "* Media $\\mu(x) = \\frac{\\displaystyle {\\sum_{i=1}^{N} x_i}}{N}$, donde $x$ es la variable que estamos estudiando formada por $x_1, \\dots, x_N$. La media es la medida de centralidad más popular. Puede verse afectada si hay hay una proporción grande de valores demasiado grandes o pequeños (outliers)\n",
    "\n",
    "* Mediana: valor que deja al 50% de los valores por debajo y el otro 50% por encima\n",
    "\n",
    "\n",
    "\n",
    "Ejemplo: notas obtenidas por diferentes países en las pruebas Pisa en lectura (REA), matemáticas (MAT) y ciencias (SCI) tanto para mujeres (FE) como para hombres (MA). Incluye también la renta per capita (RPC) del país y el nombre (PAIS) del país."
   ]
  },
  {
   "cell_type": "code",
   "execution_count": null,
   "id": "97b23893",
   "metadata": {
    "id": "97b23893"
   },
   "outputs": [],
   "source": [
    "import pandas as pd\n",
    "url = \"https://raw.githubusercontent.com/RafaelCaballero/tdm/master/datos/PisaDataClean.csv\"\n",
    "df_pisa = pd.read_csv(url)\n",
    "df_pisa"
   ]
  },
  {
   "cell_type": "code",
   "execution_count": null,
   "id": "yZSHx9YOWItp",
   "metadata": {
    "id": "yZSHx9YOWItp"
   },
   "outputs": [],
   "source": [
    "df_pisa.info()"
   ]
  },
  {
   "cell_type": "code",
   "execution_count": null,
   "id": "btgfWDpLWRwG",
   "metadata": {
    "id": "btgfWDpLWRwG"
   },
   "outputs": [],
   "source": [
    "df_pisa.describe()"
   ]
  },
  {
   "cell_type": "markdown",
   "id": "f8f5226c",
   "metadata": {
    "id": "f8f5226c"
   },
   "source": [
    "Veamos datos numéricos resaltando los valores extremos:"
   ]
  },
  {
   "cell_type": "code",
   "execution_count": null,
   "id": "AOJ9WcjSsNjG",
   "metadata": {
    "id": "AOJ9WcjSsNjG"
   },
   "outputs": [],
   "source": [
    "df_pisa.style.background_gradient(\"RdYlGn\")"
   ]
  },
  {
   "cell_type": "code",
   "execution_count": null,
   "id": "RQdprmh6sJ2P",
   "metadata": {
    "id": "RQdprmh6sJ2P"
   },
   "outputs": [],
   "source": [
    "df_pisa.info() # información general, nulos, tipos y memoria que ocupa"
   ]
  },
  {
   "cell_type": "code",
   "execution_count": null,
   "id": "5f408ba1",
   "metadata": {
    "id": "5f408ba1"
   },
   "outputs": [],
   "source": [
    "\n",
    "desc_pisa = df_pisa.describe()\n",
    "desc_pisa"
   ]
  },
  {
   "cell_type": "code",
   "execution_count": null,
   "id": "cc785e49",
   "metadata": {
    "id": "cc785e49"
   },
   "outputs": [],
   "source": [
    "# Nos quedamos solo con media y mediana\n",
    "mediamediana = desc_pisa.loc[ [\"mean\",\"50%\"] ]\n",
    "mediamediana"
   ]
  },
  {
   "cell_type": "code",
   "execution_count": null,
   "id": "51928a7c",
   "metadata": {
    "id": "51928a7c"
   },
   "outputs": [],
   "source": [
    "# veamos la diferecia\n",
    "mediamediana.iloc[0,:]-mediamediana.iloc[1,:]"
   ]
  },
  {
   "cell_type": "code",
   "execution_count": null,
   "id": "YoQITURPJX0s",
   "metadata": {
    "id": "YoQITURPJX0s"
   },
   "outputs": [],
   "source": [
    "traspuesta = mediamediana.T\n",
    "traspuesta"
   ]
  },
  {
   "cell_type": "code",
   "execution_count": null,
   "id": "rQWJYkkfJb6s",
   "metadata": {
    "id": "rQWJYkkfJb6s"
   },
   "outputs": [],
   "source": [
    "traspuesta[\"dif\"] = traspuesta[\"mean\"] - traspuesta[\"50%\"]\n",
    "df_dif = traspuesta.T\n",
    "df_dif"
   ]
  },
  {
   "cell_type": "code",
   "execution_count": null,
   "id": "967c7778",
   "metadata": {
    "id": "967c7778"
   },
   "outputs": [],
   "source": [
    "# otra forma, solo para una variable\n",
    "df_pisa.MAT.mean(), df_pisa.MAT.median()"
   ]
  },
  {
   "cell_type": "code",
   "execution_count": null,
   "id": "TlC5vOySLryz",
   "metadata": {
    "id": "TlC5vOySLryz"
   },
   "outputs": [],
   "source": []
  },
  {
   "cell_type": "markdown",
   "id": "0c421350",
   "metadata": {
    "id": "0c421350"
   },
   "source": [
    "<a name=\"Dispersión\"></a>\n",
    "## Dispersión\n",
    "\n",
    "Si las medidas de centralidad dan la idea de un \"centro\" de la variable, la media de dispersión sería el \"radio\" indica lo alejados que están de ese centro. Vamos a ver 2 cada uno relacionado con una de las medidas de centralidad\n",
    "\n",
    "* Desviación típica $\\sigma(x)=\\sqrt{\\frac{{\\displaystyle \\sum_{i=1}^{N}\\left(x_{i}-\\mu\\right)^{2}}}{N}}$, la raíz cuadrada de la varianza\n",
    "\n",
    "* Desviación absoluta con respecto a la mediana $\\mathit{MAD}(x) = mediana(|x_i - mediana(x)|)$"
   ]
  },
  {
   "cell_type": "code",
   "execution_count": null,
   "id": "42161689",
   "metadata": {
    "id": "42161689"
   },
   "outputs": [],
   "source": [
    "df_pisa.MAT.std(), (df_pisa.MAT - df_pisa.MAT.median()).abs().median()"
   ]
  },
  {
   "cell_type": "code",
   "execution_count": null,
   "id": "e8eb4de6",
   "metadata": {
    "id": "e8eb4de6"
   },
   "outputs": [],
   "source": [
    "def mad(variable):\n",
    "  return (variable-variable.median()).abs().median()\n",
    "\n",
    "def centra_disp(df):\n",
    "  # nos quedamos solo con los datos que sean números (asumimos que hemos comprobado que todos son ratio o intervalo)\n",
    "  df_num = df.select_dtypes(include=[\"number\"])\n",
    "  datos = []\n",
    "  for c in df_num.columns:\n",
    "      variable = df[c]\n",
    "      datos.append([variable.mean(), variable.median(), variable.std(), mad(variable)])\n",
    "\n",
    "  estad = pd.DataFrame(datos,columns=[\"mean\",\"median\",\"std\",\"MAD\"],index=df_num.columns)\n",
    "  return estad"
   ]
  },
  {
   "cell_type": "code",
   "execution_count": null,
   "id": "hr8nWuzQbS-F",
   "metadata": {
    "id": "hr8nWuzQbS-F"
   },
   "outputs": [],
   "source": [
    "centra_disp(df_pisa)"
   ]
  },
  {
   "cell_type": "markdown",
   "id": "9675877a",
   "metadata": {
    "id": "9675877a"
   },
   "source": [
    "Algunas consecuencias sencillas:\n",
    "* De media parece que los hombres lo hacen mejor en matemáticas y las mujeres en lectura, en ciencia la diferencia es muy pequeña\n",
    "* De media se obtiene mejor nota en ciencias que en lectura, y en lectura que en matemáticas\n",
    "* En general la mediana es mayor que la media indicando una mayor dispersión a la izquierda\n",
    "* La mayor dispersión `std` se da en MAT_MA, pero si nos fijamos en la mediana es SCI_MA (quizás MAT_MA tiene más outliers?)\n",
    "* La menor dispersión `std` se da en REA_FE y en SCI_FE, aunque desde el punto de vista de MAD se da en SCI_FE y MAT_FE. En todo caso parece que las notas para las chicas varían menos de país en país que en el caso de los chicos (¿por qué?)"
   ]
  },
  {
   "cell_type": "markdown",
   "id": "8ed7ec70",
   "metadata": {
    "id": "8ed7ec70"
   },
   "source": [
    "<a name=\"Histogramas\"></a>\n",
    "## Histogramas\n",
    "\n",
    "* No debe confundirse con diagrama de barras, donde se representan datos categóricos nominal\n",
    "\n",
    "* Un histograma representa la frecuencia (número de elementos) en una variable (ratio u intervalo) representada por intervalos, nos permite ver la distribución de la variable (algo que no se pretende con el diagrama de barras)\n",
    "\n",
    "* En el caso de valores ordinales se puede usar un \"diagrama de barras ordenado\"\n",
    "\n",
    "Ejemplo"
   ]
  },
  {
   "cell_type": "code",
   "execution_count": null,
   "id": "lo_M77gxJ0WA",
   "metadata": {
    "id": "lo_M77gxJ0WA"
   },
   "outputs": [],
   "source": [
    "import matplotlib.pyplot as plt\n",
    "df_pisa.hist()\n",
    "plt.tight_layout()\n",
    "plt.show()"
   ]
  },
  {
   "cell_type": "code",
   "execution_count": null,
   "id": "943ceb33-fd5b-42b7-890f-5951d19727b4",
   "metadata": {
    "scrolled": true
   },
   "outputs": [],
   "source": [
    "df_pisa.MAT.plot(kind=\"hist\")"
   ]
  },
  {
   "cell_type": "markdown",
   "id": "f263e676-26f1-4737-90aa-d963cf043ec9",
   "metadata": {},
   "source": [
    "Ejemplo con datos financieros"
   ]
  },
  {
   "cell_type": "code",
   "execution_count": null,
   "id": "7a2f0af3-d59a-48c8-9c4e-52f4c65646d9",
   "metadata": {},
   "outputs": [],
   "source": [
    "import yfinance as yf\n",
    "import pandas as pd\n",
    "\n",
    "\n",
    "ticker ='ITX.MC'  #   ITX.MC es Inditex en la bolsa de Madrid\n",
    "\n",
    "# Descargar los datos de Yahoo Finance\n",
    "data = yf.download(ticker, start=\"1900-01-01\")\n",
    "\n",
    "# Seleccionar solo la columna de 'Close' (precios ajustados de cierre)\n",
    "df = pd.DataFrame({'Close': data['Close']})\n",
    "\n",
    "# Eliminar las filas con datos perdidos\n",
    "df = df.dropna()\n",
    "df\n",
    "\n"
   ]
  },
  {
   "cell_type": "code",
   "execution_count": null,
   "id": "8656fe08-b4c8-4e9b-8cf4-f95dc6867852",
   "metadata": {},
   "outputs": [],
   "source": [
    "ax = df.Close.plot(kind=\"density\", figsize=(9,9))\n",
    "df.Close.plot(kind=\"hist\", density=True, alpha=0.5, bins=30, ax=ax)"
   ]
  },
  {
   "cell_type": "markdown",
   "id": "920a10cf-b2ca-4f2a-be78-8d30c659eae0",
   "metadata": {},
   "source": [
    "Es una bimodal, algo bastante curioso porque representa varios tipos de valores, veamos la gráfica con línea"
   ]
  },
  {
   "cell_type": "code",
   "execution_count": null,
   "id": "5bc8d49f-058d-4264-9b1a-76888ac1d91b",
   "metadata": {},
   "outputs": [],
   "source": [
    "df.Close.plot(kind=\"line\")"
   ]
  },
  {
   "cell_type": "markdown",
   "id": "f44cf19f-6d98-4550-8e80-99858eee51b4",
   "metadata": {},
   "source": [
    "Otra forma de hacer histogramas"
   ]
  },
  {
   "cell_type": "code",
   "execution_count": null,
   "id": "a22fcda2-dc4e-4d69-9a8d-7377cfca5d91",
   "metadata": {},
   "outputs": [],
   "source": [
    "#!pip install plotly"
   ]
  },
  {
   "cell_type": "code",
   "execution_count": null,
   "id": "96c6e7b9-8003-401f-8821-2f19cbfffe1e",
   "metadata": {},
   "outputs": [],
   "source": [
    "import plotly.express as px\n",
    "fig = px.histogram(df, x=\"Close\")\n",
    "fig.show()"
   ]
  },
  {
   "cell_type": "markdown",
   "id": "c719d05b-c0cd-4890-a64a-12982e378d14",
   "metadata": {},
   "source": [
    "Histograma clásico un poco más elaborado, con matplotlib"
   ]
  },
  {
   "cell_type": "code",
   "execution_count": null,
   "id": "0529db9b",
   "metadata": {
    "id": "0529db9b"
   },
   "outputs": [],
   "source": [
    "import numpy as np\n",
    "import matplotlib.pyplot as plt\n",
    "\n",
    "#generate a random numpy array with 1000 elements\n",
    "normaldata = np.random.randn(100000)\n",
    "data=normaldata\n",
    "\n",
    "#histograma\n",
    "plt.hist(data,edgecolor=\"black\", bins =30)\n",
    "\n",
    "#añadimos título\n",
    "plt.title(\"Histograma\")\n",
    "\n",
    "#etiqueta en X\n",
    "plt.xlabel(\"Valores\")\n",
    "\n",
    "#etiqueta en y\n",
    "plt.ylabel(\"Frecuencias\")\n",
    "\n",
    "# mostrarlo\n",
    "plt.show()"
   ]
  },
  {
   "cell_type": "code",
   "execution_count": null,
   "id": "3e7a51ca",
   "metadata": {
    "id": "3e7a51ca"
   },
   "outputs": [],
   "source": [
    "data.mean(), data.std(), np.median(data)"
   ]
  },
  {
   "cell_type": "markdown",
   "id": "6ec55e74",
   "metadata": {
    "id": "6ec55e74"
   },
   "source": [
    "Con `density=True` conseguimos frecuencias relativas"
   ]
  },
  {
   "cell_type": "code",
   "execution_count": null,
   "id": "13a7e93e",
   "metadata": {
    "id": "13a7e93e"
   },
   "outputs": [],
   "source": [
    "#histograma\n",
    "plt.hist(data,edgecolor=\"black\", bins =30, density=True)\n",
    "\n",
    "#añadimos título\n",
    "plt.title(\"Histograma\")\n",
    "\n",
    "#etiqueta en X\n",
    "plt.xlabel(\"Valores\")\n",
    "\n",
    "#etiqueta en y\n",
    "plt.ylabel(\"Frecuencias\")\n",
    "\n",
    "# mostrarlo\n",
    "plt.show()"
   ]
  },
  {
   "cell_type": "markdown",
   "id": "a38694cb",
   "metadata": {
    "id": "a38694cb"
   },
   "source": [
    "Cuando tenemos una normal \"perfecta\"  se tiene que\n",
    "<img src=\"https://news.mit.edu/sites/default/files/styles/news_article__image_gallery/public/images/201202/20120208160239-1_0.jpg?itok=1X1a_HCs\" width=400></img>\n",
    "\n",
    "13.6 + 34.1 + 13.6 + 34.1 = 95.4% es decir casi el 95% de los valores estarán entre la media y +- 2 la desviación típica"
   ]
  },
  {
   "cell_type": "code",
   "execution_count": null,
   "id": "bbb010bd",
   "metadata": {
    "id": "bbb010bd"
   },
   "outputs": [],
   "source": [
    "m = data.mean()\n",
    "s = data.std()\n",
    "\n",
    "sum((data < m+2*s) & (data >m-2*s))/len(data)"
   ]
  },
  {
   "cell_type": "markdown",
   "id": "34F3asUhSAVo",
   "metadata": {
    "id": "34F3asUhSAVo"
   },
   "source": [
    "Ejemplo más elaborado usando seaborn y con media y mediana"
   ]
  },
  {
   "cell_type": "code",
   "execution_count": null,
   "id": "4ubTtMTiKll0",
   "metadata": {
    "id": "4ubTtMTiKll0"
   },
   "outputs": [],
   "source": [
    "import numpy as np\n",
    "import matplotlib.pyplot as plt\n",
    "import pandas as pd\n",
    "import seaborn as sns\n",
    "\n",
    "def plot_histograms_with_stats(df):\n",
    "    # solo columnas numéricas\n",
    "    columns = df.select_dtypes(include=[np.number]).columns\n",
    "    for col in columns:\n",
    "        # nuevo gráfico\n",
    "        fig,ax = plt.subplots(nrows=1, ncols=1, figsize=(10, 10))\n",
    "        data = df[col].dropna()\n",
    "        mean_val = data.mean()\n",
    "        median_val = data.median()\n",
    "\n",
    "        # histograma y líneas verticales\n",
    "        sns.histplot(df[col], bins=25, ax=ax, alpha=0.3, kde=False)\n",
    "        ax.axvline(mean_val, color='red', linestyle='dashed', linewidth=1, label=f'Mean: {mean_val:.2f}')\n",
    "        ax.axvline(median_val, color='green', linestyle='dashed', linewidth=1, label=f'Median: {median_val:.2f}')\n",
    "\n",
    "        ax.set_title(f'Histogram of {col}')\n",
    "        ax.set_xlabel(col)\n",
    "        ax.set_ylabel('Frequency')\n",
    "        ax.legend()\n",
    "        fig.savefig(col+\".png\")\n",
    "        plt.show()\n",
    "plot_histograms_with_stats(df_pisa)"
   ]
  },
  {
   "cell_type": "markdown",
   "id": "6fd33421",
   "metadata": {
    "id": "6fd33421"
   },
   "source": [
    "<a name=\"Asimetría\"></a>\n",
    "## Asimetría\n",
    "\n",
    "Asimetría a la derecha: muchos datos acumulados en poco espacio a la izquierda, a la derecha un descenso lento y prolongado\n",
    "\n",
    "* Se tendrá que media>mediana\n",
    "* Normalmente solo tendremos que preocuparnos por outliers a la derecha, es decir por valores \"excesivamente grandes\"\n",
    "* Sucede por ejemplo en mediciones que por su naturaleza son todas positivas\n",
    "* Puede tener sentido hacer un estudio diferente a la izquierda y a la derecha de la mediana"
   ]
  },
  {
   "cell_type": "code",
   "execution_count": null,
   "id": "c1b9098b",
   "metadata": {
    "id": "c1b9098b"
   },
   "outputs": [],
   "source": [
    "import pandas as pd\n",
    "url = \"https://raw.githubusercontent.com/RafaelCaballero/tdm/master/datos/madrid/contaminacionLargo.csv\"\n",
    "df_conta = pd.read_csv(url)\n",
    "df_conta"
   ]
  },
  {
   "cell_type": "code",
   "execution_count": null,
   "id": "550a3c2e",
   "metadata": {
    "id": "550a3c2e"
   },
   "outputs": [],
   "source": [
    "import numpy as np\n",
    "import matplotlib.pyplot as plt\n",
    "\n",
    "\n",
    "data = df_conta.PM10\n",
    "#histograma\n",
    "plt.hist(data,edgecolor=\"black\", bins =50)\n",
    "\n",
    "#añadimos título\n",
    "plt.title(\"Histograma\")\n",
    "\n",
    "#etiqueta en X\n",
    "plt.xlabel(\"Valores\")\n",
    "\n",
    "#etiqueta en y\n",
    "plt.ylabel(\"Frecuencias\")\n",
    "\n",
    "# mostrarlo\n",
    "plt.show()"
   ]
  },
  {
   "cell_type": "code",
   "execution_count": null,
   "id": "61c0b219",
   "metadata": {
    "id": "61c0b219"
   },
   "outputs": [],
   "source": [
    "data.mean(), data.median()"
   ]
  },
  {
   "cell_type": "markdown",
   "id": "46c07dcf",
   "metadata": {
    "id": "46c07dcf"
   },
   "source": [
    "Como vemos aquí no se cumple la regla anterior de que en el entorno 2std se concentra el 95% de la población. Esto es así porque no se trata de una normal"
   ]
  },
  {
   "cell_type": "code",
   "execution_count": null,
   "id": "352e5b37",
   "metadata": {
    "id": "352e5b37"
   },
   "outputs": [],
   "source": [
    "m = data.mean()\n",
    "s = data.std()\n",
    "\n",
    "sum((data < m+2*s) & (data >m-2*s))/len(data)"
   ]
  },
  {
   "cell_type": "markdown",
   "id": "05c05a85",
   "metadata": {
    "id": "05c05a85"
   },
   "source": [
    "La función `skew` de Pandas nos indica la asimetría:\n",
    "\n",
    "        >0 : Asimetría a la derecha o positiva\n",
    "        aprox. 0 : simétrico\n",
    "        <0 : asimetría a la izquierda o negativa\n",
    "\n",
    "\n",
    "<img src=\"https://upload.wikimedia.org/wikipedia/commons/c/cc/Relationship_between_mean_and_median_under_different_skewness.png\"  width=500>By Diva Jain - https://codeburst.io/2-important-statistics-terms-you-need-to-know-in-data-science-skewness-and-kurtosis-388fef94eeaa, CC BY-SA 4.0, https://commons.wikimedia.org/w/index.php?curid=84219892</img>\n",
    "\n",
    "\n",
    "\n"
   ]
  },
  {
   "cell_type": "code",
   "execution_count": null,
   "id": "6e353d51",
   "metadata": {
    "id": "6e353d51"
   },
   "outputs": [],
   "source": [
    "data.skew()"
   ]
  },
  {
   "cell_type": "markdown",
   "id": "34aff5d9",
   "metadata": {
    "id": "34aff5d9"
   },
   "source": [
    "Tenemos por tanto asimetría a la derecha. En el dataframe de PISA"
   ]
  },
  {
   "cell_type": "code",
   "execution_count": null,
   "id": "834ec03a",
   "metadata": {
    "id": "834ec03a"
   },
   "outputs": [],
   "source": [
    "df_pisa_num = df_pisa.select_dtypes(include=[\"number\"])\n",
    "for c in df_pisa_num:\n",
    "    print(c,df_pisa_num[c].skew())"
   ]
  },
  {
   "cell_type": "markdown",
   "id": "382629f3",
   "metadata": {
    "id": "382629f3"
   },
   "source": [
    "En nuestros datos \"normales\""
   ]
  },
  {
   "cell_type": "code",
   "execution_count": null,
   "id": "1078a64f",
   "metadata": {
    "id": "1078a64f"
   },
   "outputs": [],
   "source": [
    "pd.DataFrame({\"x\": normaldata}).skew()"
   ]
  },
  {
   "cell_type": "markdown",
   "id": "a4e9c5ae",
   "metadata": {
    "id": "a4e9c5ae"
   },
   "source": [
    "Como vemos no sale exactamente 0 aunque sí muy cercano"
   ]
  },
  {
   "cell_type": "markdown",
   "id": "28bfadcb",
   "metadata": {
    "id": "28bfadcb"
   },
   "source": [
    "<a name=\"Apuntamiento\"></a>\n",
    "## Curtosis\n",
    "\n",
    "La curtosis indica el peso de las colas en relación con una normar estándar. A menudo se confunde con \"apuntamiento\" pero no es exactamente lo mismo. La función `kurtosis` de Pandas nos indica este valor:\n",
    "\n",
    "        >0 : leptocúrtica ; los outliers tienen más peso que en la normal, tenemos muchos outliers (hay que ver por qué y si merece la pena hacer un estudio solo de esta parte)\n",
    "        aprox. 0 : ismilar a una normal\n",
    "        <0 : los outliers tienen menos peso que en la normal, la distribución está más concentrada alrededor de la media\n",
    "\n"
   ]
  },
  {
   "cell_type": "code",
   "execution_count": null,
   "id": "12fa46b2",
   "metadata": {
    "id": "12fa46b2"
   },
   "outputs": [],
   "source": [
    "pd.DataFrame({\"x\": normaldata}).kurtosis()"
   ]
  },
  {
   "cell_type": "code",
   "execution_count": null,
   "id": "1de3a7d4",
   "metadata": {
    "id": "1de3a7d4"
   },
   "outputs": [],
   "source": [
    "df_conta.PM10.kurtosis()"
   ]
  },
  {
   "cell_type": "code",
   "execution_count": null,
   "id": "18482c8c",
   "metadata": {
    "id": "18482c8c"
   },
   "outputs": [],
   "source": [
    "df_pisa.MAT.kurtosis()"
   ]
  },
  {
   "cell_type": "markdown",
   "id": "00389e13",
   "metadata": {
    "id": "00389e13"
   },
   "source": [
    "## Ejemplo\n",
    "\n",
    "Datos de 7 sensores de radiación solar durante varios días con todas sus horas"
   ]
  },
  {
   "cell_type": "code",
   "execution_count": null,
   "id": "820990fb",
   "metadata": {
    "id": "820990fb"
   },
   "outputs": [],
   "source": [
    "import pandas as pd\n",
    "url = \"https://github.com/RafaelCaballero/tdm/raw/master/datos/solar.zip\"\n",
    "df_solar = pd.read_csv(url)"
   ]
  },
  {
   "cell_type": "code",
   "execution_count": null,
   "id": "8560e54f",
   "metadata": {
    "id": "8560e54f"
   },
   "outputs": [],
   "source": [
    "df_solar"
   ]
  },
  {
   "cell_type": "code",
   "execution_count": null,
   "id": "ec9843d6",
   "metadata": {
    "id": "ec9843d6"
   },
   "outputs": [],
   "source": [
    "\n",
    "import matplotlib.pyplot as plt\n",
    "for c in df_solar.columns[4:]:\n",
    "    fig, ax = plt.subplots(figsize=(24, 6))\n",
    "    df_solar[c].hist(bins=50)\n",
    "    plt.title(c)\n",
    "    plt.show()"
   ]
  },
  {
   "cell_type": "markdown",
   "id": "ff3f7bf6",
   "metadata": {
    "id": "ff3f7bf6"
   },
   "source": [
    "¿Qué consecuencias se extraen a simple vista? Añadir código para probar"
   ]
  },
  {
   "cell_type": "code",
   "execution_count": null,
   "id": "fc8ba664",
   "metadata": {
    "id": "fc8ba664"
   },
   "outputs": [],
   "source": [
    "df_solar[\"S1\"].skew()"
   ]
  },
  {
   "cell_type": "code",
   "execution_count": null,
   "id": "e2cd7939",
   "metadata": {
    "id": "e2cd7939"
   },
   "outputs": [],
   "source": [
    "df_solar[\"S1\"].kurtosis()"
   ]
  },
  {
   "cell_type": "markdown",
   "id": "b53d9263",
   "metadata": {
    "id": "b53d9263"
   },
   "source": [
    "<a name=\"Barras\"></a>\n",
    "## Diagramas de barras y de tarta"
   ]
  },
  {
   "cell_type": "code",
   "execution_count": null,
   "id": "bd14150d",
   "metadata": {
    "id": "bd14150d"
   },
   "outputs": [],
   "source": [
    "import pandas as pd\n",
    "import seaborn as sns\n",
    "url= \"https://raw.githubusercontent.com/RafaelCaballero/tdm/master/datos/pokemon.csv\"\n",
    "\n",
    "# solución\n",
    "df_pok = pd.read_csv(url)\n",
    "\n",
    "df_pok"
   ]
  },
  {
   "cell_type": "markdown",
   "id": "88b128de-03c0-4798-973e-8a37c662d9ca",
   "metadata": {},
   "source": [
    "Versión 1, con Python estándar y Pandas"
   ]
  },
  {
   "cell_type": "code",
   "execution_count": null,
   "id": "879b6a06-ef71-4570-8a05-a3cae116a133",
   "metadata": {},
   "outputs": [],
   "source": [
    "cuenta = df_pok['Generation'].value_counts().sort_index()\n",
    "cuenta.plot(kind=\"bar\")"
   ]
  },
  {
   "cell_type": "markdown",
   "id": "0255a17e-0d9e-49f3-8117-058cf6321569",
   "metadata": {},
   "source": [
    "Con Seaborn"
   ]
  },
  {
   "cell_type": "code",
   "execution_count": null,
   "id": "48fbe22f",
   "metadata": {
    "id": "48fbe22f"
   },
   "outputs": [],
   "source": [
    "\n",
    "sns.countplot(data=df_pok, x=\"Generation\")"
   ]
  },
  {
   "cell_type": "code",
   "execution_count": null,
   "id": "ee155394-7209-4df9-8e6c-2d3cea64daa2",
   "metadata": {},
   "outputs": [],
   "source": [
    "Interactivo, con Plotly"
   ]
  },
  {
   "cell_type": "code",
   "execution_count": null,
   "id": "02eb0573-bf88-47e9-ab1a-54aaa94e6994",
   "metadata": {},
   "outputs": [],
   "source": [
    "fig = px.bar(cuenta)\n",
    "fig.show()"
   ]
  },
  {
   "cell_type": "code",
   "execution_count": null,
   "id": "W5OW23Xdopb0",
   "metadata": {
    "id": "W5OW23Xdopb0"
   },
   "outputs": [],
   "source": [
    "import matplotlib.pyplot as plt\n",
    "\n",
    "\n",
    "frecuencias =  df_pok.Generation.value_counts()\n",
    "labels = frecuencias.index\n",
    "sizes = frecuencias.values\n",
    "\n",
    "plt.pie(sizes, labels=labels)\n",
    "plt.show()"
   ]
  },
  {
   "cell_type": "markdown",
   "id": "48e11be7",
   "metadata": {
    "id": "48e11be7"
   },
   "source": [
    "<a name=\"Múltiples\"></a>\n",
    "## Múltiples histogramas\n",
    "\n",
    "En ocasiones para comparar interesa reproducir varios histogramas en uno solo. Aunque se puede hacer esto con matplotlib la biblioteca seaborn ofrece un catálogo más amplio de posibilidades"
   ]
  },
  {
   "cell_type": "code",
   "execution_count": null,
   "id": "FGr1vsWuhsFV",
   "metadata": {
    "id": "FGr1vsWuhsFV"
   },
   "outputs": [],
   "source": [
    "import seaborn as sns # !pip install seaborn\n",
    "sns.histplot(data=df_pok, x=\"Generation\", hue=\"Legendary\",palette='tab10', multiple=\"stack\")\n"
   ]
  },
  {
   "cell_type": "markdown",
   "id": "b475a897",
   "metadata": {
    "id": "b475a897"
   },
   "source": [
    "Incluso 2 variables continuas"
   ]
  },
  {
   "cell_type": "code",
   "execution_count": null,
   "id": "72a4c7dc",
   "metadata": {
    "id": "72a4c7dc"
   },
   "outputs": [],
   "source": [
    "sns.histplot(data=df_conta, x=\"PM10\", y=\"PM2.5\")"
   ]
  },
  {
   "cell_type": "markdown",
   "id": "vzC0JMAVr6-o",
   "metadata": {
    "id": "vzC0JMAVr6-o"
   },
   "source": [
    "<a name=\"Tests\"></a>\n",
    "## Test Estadísticos"
   ]
  },
  {
   "cell_type": "markdown",
   "id": "9h2-E_kUr1uA",
   "metadata": {
    "id": "9h2-E_kUr1uA"
   },
   "source": [
    "\n",
    "\n",
    "En ciencia de datos no hay casi nunca certezas; al fin y al cabo tenemos unos datos particulares, una \"muestra\", y por eso algunas conclusiones que saquemos pueden ser meras coincidencias o casualidades. Los tests estadísticos nos indican si una hipótesis se verifica o no con una alta probabilidad.\n",
    "\n",
    "Cada test va orientado a un problema concreto y plantea una hipótesis,\n",
    " llamada *hipótesis nula*.\n",
    "\n",
    "El resultados del test suele ser un valor p que indica la probabilidad de que se cumpla la hipótesis nula además de otros valores (a menudo un estadístico que depende del test)\n",
    "\n",
    "Si p<0.05 o p<0.01 (depende del nivel de exigencia) rechazamos la hipótesis nula y damos por válida la contraria, la hipótesis alternativa\n",
    "\n",
    "Es importante observar que si p>0.05 no \"aceptamos\" la hipótesis nula, solo decimos que no hemos podido rechazarla (en la práctica a menudo esto se toma como prueba de aceptación aunque no sea correcto).\n",
    "\n",
    "#### Ejemplo: test de normalidad"
   ]
  },
  {
   "cell_type": "code",
   "execution_count": null,
   "id": "a5d70403",
   "metadata": {
    "id": "a5d70403"
   },
   "outputs": [],
   "source": [
    "from scipy.stats import normaltest\n",
    "from scipy import stats\n",
    "\n",
    "def normal(data):\n",
    "    _, p = stats.normaltest(data,nan_policy=\"omit\")\n",
    "    if p<0.05:\n",
    "        msg = \"Se rechaza H0: no sigue una distribución normal\"\n",
    "    else:\n",
    "        msg = \"No se rechaza H0; no podemos descartar  una distribución normal\"\n",
    "    return msg,round(p,4)"
   ]
  },
  {
   "cell_type": "code",
   "execution_count": null,
   "id": "b15db5a8",
   "metadata": {
    "id": "b15db5a8"
   },
   "outputs": [],
   "source": [
    "import numpy as np\n",
    "import matplotlib.pyplot as plt\n",
    "\n",
    "#generate a random numpy array with 100000 elements\n",
    "normaldata = np.random.randn(100000)\n",
    "\n",
    "plt.hist(normaldata,edgecolor=\"black\", bins =30, density=True)\n",
    "\n",
    "normal(normaldata)"
   ]
  },
  {
   "cell_type": "code",
   "execution_count": null,
   "id": "4C0nxEkHtjhm",
   "metadata": {
    "id": "4C0nxEkHtjhm"
   },
   "outputs": [],
   "source": [
    "import numpy as np\n",
    "import matplotlib.pyplot as plt\n",
    "\n",
    "def normales(df):\n",
    "    for c in df.columns:\n",
    "        fig, ax = plt.subplots(figsize=(5, 3))\n",
    "        df[c].hist(bins=20)\n",
    "        msg,p = normal(df[c])\n",
    "        plt.title(f\"{c} {msg} - p: {p} \")\n",
    "        plt.show()"
   ]
  },
  {
   "cell_type": "code",
   "execution_count": null,
   "id": "lRzRIV8dtW3f",
   "metadata": {
    "id": "lRzRIV8dtW3f"
   },
   "outputs": [],
   "source": [
    "import pandas as pd\n",
    "url = \"https://raw.githubusercontent.com/RafaelCaballero/tdm/master/datos/PisaDataClean.csv\"\n",
    "df_pisa = pd.read_csv(url)\n",
    "# nos quedamos solo con los datos que sean números (asumimos que hemos comprobado que todos son ratio o intervalo)\n",
    "df_pisa_num = df_pisa.select_dtypes(include=[\"number\"])\n",
    "normales(df_pisa_num)"
   ]
  },
  {
   "cell_type": "markdown",
   "id": "yxOm386qtCwY",
   "metadata": {
    "id": "yxOm386qtCwY"
   },
   "source": [
    "#### Ejemplo: test de igualdad de la media\n",
    "\n",
    "Supongamos que tenemos 2 monedas, en la primera nos salen 2 caras seguidas, en la segunda 2 cruces seguidas ¿podemos asegurar que son monedas diferentes? Casi todos estaremos de acuerdo en que no, en que la diferencia se puede deber al azar. Eso sí, si tiramos cada moneda 1000 veces y en la primera sale por ejemplo un 30% más de caras que en la segunda puede que sospechemos que sí lo sean. Estas ideas son las que implementan los tests que comparan las medias de dos variables. Vamos a ver 2:\n",
    "\n",
    "t de student: solo aplicable bajo ciertas circunstancias (es un test paramétrico): normalidad de ambas variables, misma varianza...la hipótesis nula (que rechazaremos si p<0.05) es que la media es la misma\n",
    "\n",
    "Kolmogorov-Sminov: se puede aplicar a cualquier pareja de variables (pero es más exigente). La hipótesis nula (que rechazaremos si p<0.05) es que los datos provienen de la misma distribución continua\n",
    "\n",
    "*t de Student*\n",
    "\n"
   ]
  },
  {
   "cell_type": "markdown",
   "id": "OGhkfyKPSdqo",
   "metadata": {
    "id": "OGhkfyKPSdqo"
   },
   "source": [
    "0 significa cara, 1 significa cruz, tiramos la moneda 15 veces"
   ]
  },
  {
   "cell_type": "code",
   "execution_count": null,
   "id": "h7joKbaBSjya",
   "metadata": {
    "id": "h7joKbaBSjya"
   },
   "outputs": [],
   "source": [
    "from scipy.stats import ttest_ind\n",
    "x1 =  [1,0,1]*5\n",
    "x2 = [0,1,0]*5\n",
    "print(x1)\n",
    "print(x2)\n",
    "ttest_ind(x1, x2)"
   ]
  },
  {
   "cell_type": "markdown",
   "id": "fVO47rpsTV_2",
   "metadata": {
    "id": "fVO47rpsTV_2"
   },
   "source": [
    "No podemos rechazar la posibilidad de que las dos monedas tengan la misma media.Probamos con 50 veces..."
   ]
  },
  {
   "cell_type": "code",
   "execution_count": null,
   "id": "2HB-3g70SrnS",
   "metadata": {
    "id": "2HB-3g70SrnS"
   },
   "outputs": [],
   "source": [
    "from scipy.stats import ttest_ind\n",
    "x1 =  [1,0,1]*25\n",
    "x2 = [0,1,0]*25\n",
    "print(x1)\n",
    "print(x2)\n",
    "ttest_ind(x1, x2)"
   ]
  },
  {
   "cell_type": "markdown",
   "id": "CGs7gLtQTJid",
   "metadata": {
    "id": "CGs7gLtQTJid"
   },
   "source": [
    "números aleatorios siguiendo una normal 0,1"
   ]
  },
  {
   "cell_type": "code",
   "execution_count": null,
   "id": "tmCPY9ALuwuQ",
   "metadata": {
    "id": "tmCPY9ALuwuQ"
   },
   "outputs": [],
   "source": [
    "from scipy.stats import ttest_ind\n",
    "x1 =  np.random.randn(100000)\n",
    "x2 = np.random.randn(100000)\n",
    "ttest_ind(x1, x2)"
   ]
  },
  {
   "cell_type": "markdown",
   "id": "rbPzZJ_7u5oY",
   "metadata": {
    "id": "rbPzZJ_7u5oY"
   },
   "source": [
    "como pvalue>0,05 no podemos rechazar la hipótesis de que la media es muy similar"
   ]
  },
  {
   "cell_type": "code",
   "execution_count": null,
   "id": "LoU8kYBiu6Zn",
   "metadata": {
    "id": "LoU8kYBiu6Zn"
   },
   "outputs": [],
   "source": [
    "from scipy.stats import ttest_ind\n",
    "x1 = np.random.randn(100000)+1\n",
    "x2 = np.random.randn(100000)\n",
    "ttest_ind(x1, x2)"
   ]
  },
  {
   "cell_type": "markdown",
   "id": "KDIqqboMu9FI",
   "metadata": {
    "id": "KDIqqboMu9FI"
   },
   "source": [
    "Podemos rechazar que ambas medias sean iguales.\n",
    "\n",
    "*Kolmogorov-Smirnov*\n",
    "\n",
    "Realmente este test no busca comparar medidas sino ver si dos muestras proceden de la misma población. Veamos un ejemplo"
   ]
  },
  {
   "cell_type": "code",
   "execution_count": null,
   "id": "3MvWsq2fvKVP",
   "metadata": {
    "id": "3MvWsq2fvKVP"
   },
   "outputs": [],
   "source": [
    "import pandas as pd\n",
    "url = r\"https://raw.githubusercontent.com/RafaelCaballero/tdm/master/datos/madrid/Cont_Meteo_Traf.csv\"\n",
    "df_data =  pd.read_csv(url,parse_dates=['FECHAH'])\n",
    "df_data[\"year\"] = df_data.FECHAH.dt.year\n",
    "df_data.columns"
   ]
  },
  {
   "cell_type": "code",
   "execution_count": null,
   "id": "QljdMZWYvOFn",
   "metadata": {
    "id": "QljdMZWYvOFn"
   },
   "outputs": [],
   "source": [
    "df_data.year.value_counts()"
   ]
  },
  {
   "cell_type": "code",
   "execution_count": null,
   "id": "7stFc9wNvWi3",
   "metadata": {
    "id": "7stFc9wNvWi3"
   },
   "outputs": [],
   "source": [
    "years = df_data.year.unique()\n",
    "years = np.sort(years)\n",
    "# un array de dataframes, uno por año\n",
    "df_data_year = [df_data[df_data.year==y][\"TEMPERATURA\"] for y in years ]"
   ]
  },
  {
   "cell_type": "code",
   "execution_count": null,
   "id": "uehR8N9OvhE2",
   "metadata": {
    "id": "uehR8N9OvhE2"
   },
   "outputs": [],
   "source": [
    "for y in years[1:]:\n",
    "    t = df_data[df_data.year==y][\"TEMPERATURA\"]\n",
    "    print(y,normal(t))"
   ]
  },
  {
   "cell_type": "markdown",
   "id": "cJrHQ6mDvkEf",
   "metadata": {
    "id": "cJrHQ6mDvkEf"
   },
   "source": [
    "No son normales, vamos a utilizar el test de kolmogorov-smirnov para ver si la temperatura difiere de forma significativa en distintos años."
   ]
  },
  {
   "cell_type": "code",
   "execution_count": null,
   "id": "DCsviGDsqYHD",
   "metadata": {
    "id": "DCsviGDsqYHD"
   },
   "outputs": [],
   "source": [
    "for y1 in years[1:]:\n",
    "    print(\"-----\")\n",
    "    for y2 in years[1:]:\n",
    "      print(y1,y2)"
   ]
  },
  {
   "cell_type": "code",
   "execution_count": null,
   "id": "eWVKWCPKpCAl",
   "metadata": {
    "id": "eWVKWCPKpCAl"
   },
   "outputs": [],
   "source": [
    "for y1 in years[1:]:\n",
    "    print(\"-----\")\n",
    "    for y2 in years[1:]:\n",
    "      if y2>y1:\n",
    "        print(\"*\",end=\"\")\n",
    "      print(y1,y2)"
   ]
  },
  {
   "cell_type": "code",
   "execution_count": null,
   "id": "VmCXEbTSvkuX",
   "metadata": {
    "id": "VmCXEbTSvkuX"
   },
   "outputs": [],
   "source": [
    "from scipy.stats import kstest\n",
    "\n",
    "for y1 in years[1:]:\n",
    "\n",
    "    for y2 in years[1:]:\n",
    "        if y2>y1:\n",
    "            t1 = df_data[df_data.year==y1][\"TEMPERATURA\"]\n",
    "            t2 = df_data[df_data.year==y2][\"TEMPERATURA\"]\n",
    "            print(y1,y2,kstest(t1, t2),round(t1.mean(),2),round(t2.mean(),2))\n"
   ]
  },
  {
   "cell_type": "markdown",
   "id": "Kag9pCALvr2A",
   "metadata": {
    "id": "Kag9pCALvr2A"
   },
   "source": [
    "Todos los años corresponden a temperaturas diferentes con una diferencia estadísticamente signficativa"
   ]
  }
 ],
 "metadata": {
  "colab": {
   "include_colab_link": true,
   "provenance": []
  },
  "kernelspec": {
   "display_name": "Python 3 (ipykernel)",
   "language": "python",
   "name": "python3"
  },
  "language_info": {
   "codemirror_mode": {
    "name": "ipython",
    "version": 3
   },
   "file_extension": ".py",
   "mimetype": "text/x-python",
   "name": "python",
   "nbconvert_exporter": "python",
   "pygments_lexer": "ipython3",
   "version": "3.12.4"
  }
 },
 "nbformat": 4,
 "nbformat_minor": 5
}
