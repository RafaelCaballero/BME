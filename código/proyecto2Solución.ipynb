{
  "cells": [
    {
      "cell_type": "markdown",
      "metadata": {
        "id": "view-in-github",
        "colab_type": "text"
      },
      "source": [
        "<a href=\"https://colab.research.google.com/github/RafaelCaballero/BME/blob/main/c%C3%B3digo/proyecto2Soluci%C3%B3n.ipynb\" target=\"_parent\"><img src=\"https://colab.research.google.com/assets/colab-badge.svg\" alt=\"Open In Colab\"/></a>"
      ]
    },
    {
      "cell_type": "markdown",
      "source": [],
      "metadata": {
        "id": "MDhUL-qeg_bk"
      },
      "id": "MDhUL-qeg_bk"
    },
    {
      "cell_type": "markdown",
      "id": "d3e5581c-4054-4d8a-b16b-3a47effbec73",
      "metadata": {
        "id": "d3e5581c-4054-4d8a-b16b-3a47effbec73"
      },
      "source": [
        "### Ejercicios diccionarios y listas"
      ]
    },
    {
      "cell_type": "markdown",
      "id": "0cfbb6be-b441-400b-971a-b7a13563da78",
      "metadata": {
        "id": "0cfbb6be-b441-400b-971a-b7a13563da78"
      },
      "source": [
        "1.- Dada la variable datos con información sobre las 10 provincias más pobladas de España y su número de habitantes, ordenada por número de habitantes obtener:\n",
        "\n",
        "a) El nombre de la segunda provincia más poblada\n",
        "\n",
        "b) El número de habitantes de la última ciudad en la lista\n",
        "\n",
        "c) Incrementar en 5 el número de habitantes de la tercera provincia más poblada\n",
        "\n",
        "d) Añadir una nueva provincia, ```['Bizkaia', 1162054]```\n",
        "\n",
        "e) Seleccionar todos los elementos excepto el primero y el último de la lista"
      ]
    },
    {
      "cell_type": "code",
      "execution_count": 3,
      "id": "7f465b16-d16f-4da9-9e00-4dfeaabf1303",
      "metadata": {
        "id": "7f465b16-d16f-4da9-9e00-4dfeaabf1303"
      },
      "outputs": [],
      "source": [
        "datos = [['Madrid', 7058041], ['Barcelona', 5924293],\n",
        "         ['Valencia', 2730314], ['Alicante', 2008809],\n",
        "         ['Sevilla', 1969075], ['Málaga',1778275], ['Murcia', 1575171], ['Cádiz',1258881],\n",
        "         ['Illes Balears',1238812],['Las Palmas',1164130] ]"
      ]
    },
    {
      "cell_type": "code",
      "execution_count": 7,
      "id": "3b4982b3-9cef-4257-af17-5ff61769191c",
      "metadata": {
        "id": "3b4982b3-9cef-4257-af17-5ff61769191c",
        "outputId": "a1ffc9cc-6217-4fd5-bc71-7919c034b987",
        "colab": {
          "base_uri": "https://localhost:8080/"
        }
      },
      "outputs": [
        {
          "output_type": "stream",
          "name": "stdout",
          "text": [
            "Barcelona\n",
            "1162054\n",
            "['Valencia', 2730334]\n",
            "[['Madrid', 7058041], ['Barcelona', 5924293], ['Valencia', 2730334], ['Alicante', 2008809], ['Sevilla', 1969075], ['Málaga', 1778275], ['Murcia', 1575171], ['Cádiz', 1258881], ['Illes Balears', 1238812], ['Las Palmas', 1164130], ['Bizkaia', 1162054], ['Bizkaia', 1162054], ['Bizkaia', 1162054]]\n",
            "[['Barcelona', 5924293], ['Valencia', 2730334], ['Alicante', 2008809], ['Sevilla', 1969075], ['Málaga', 1778275], ['Murcia', 1575171], ['Cádiz', 1258881], ['Illes Balears', 1238812], ['Las Palmas', 1164130], ['Bizkaia', 1162054], ['Bizkaia', 1162054], ['Bizkaia', 1162054]]\n"
          ]
        }
      ],
      "source": [
        "# Solución\n",
        "#a\n",
        "print( datos[1][0]  )\n",
        "#b\n",
        "print( datos[-1][1]  )\n",
        "\n",
        "#c\n",
        "datos[2][1] = datos[2][1]+5\n",
        "print(datos[2])\n",
        "\n",
        "#d\n",
        "datos.append(['Bizkaia', 1162054])\n",
        "print(datos)\n",
        "#e\n",
        "print(datos[1:-1])"
      ]
    },
    {
      "cell_type": "markdown",
      "id": "44e86dfb-6a47-44b3-a5b4-60af90e00bc6",
      "metadata": {
        "id": "44e86dfb-6a47-44b3-a5b4-60af90e00bc6"
      },
      "source": [
        "2.- Dado el siguiente array de numpy ```a```, escribir código para:\n",
        "\n",
        "a) Usar slicing para obtener los 3 primeros elementos del array\n",
        "\n",
        "b) Crear un nuevo array ```b``` que sea el resultado de sumar 1 a todos los elementos de ```a```\n",
        "\n",
        "c) Crear un  nuevo array ```c``` que tenga solo los elementos positivos (>0) de  ```a```\n",
        "\n",
        "d) Contar el número de elementos positivos de ```a```\n",
        "\n",
        "e)  Crear un  nuevo array ```d``` donde todos los elementos negativos (<0) de  ```a``` hayan sido reemplazados por 0\n",
        "\n",
        "f) Seleccionar las posiciones 0,2,3,7 y 11 del array (Nota: se puede usar un array de posiciones en lugar de una sola posición, igual que se usa un array de booleanos en los filtros)\n",
        "\n"
      ]
    },
    {
      "cell_type": "code",
      "execution_count": 16,
      "id": "4d00a87f-38f0-471b-9efc-e362d7d0824f",
      "metadata": {
        "id": "4d00a87f-38f0-471b-9efc-e362d7d0824f",
        "colab": {
          "base_uri": "https://localhost:8080/"
        },
        "outputId": "6b7793ec-9ea7-48cb-e72b-683a8ee7505d"
      },
      "outputs": [
        {
          "output_type": "execute_result",
          "data": {
            "text/plain": [
              "array([  69,  -21,  -28,  -73,   70,   92,   -6,   11,   58, -100,  -26,\n",
              "        -48,  -89,   14,   62])"
            ]
          },
          "metadata": {},
          "execution_count": 16
        }
      ],
      "source": [
        "import numpy as np\n",
        "a = np.random.randint(-100,100,15)\n",
        "a"
      ]
    },
    {
      "cell_type": "code",
      "execution_count": 22,
      "id": "fd102dde-cec7-4b1c-904d-49e183c3bced",
      "metadata": {
        "id": "fd102dde-cec7-4b1c-904d-49e183c3bced",
        "colab": {
          "base_uri": "https://localhost:8080/"
        },
        "outputId": "5b46fcbd-8454-4717-9c66-cf013f2f615a"
      },
      "outputs": [
        {
          "output_type": "stream",
          "name": "stdout",
          "text": [
            "[-76 -33 -50]\n",
            "[-75 -32 -49 -50  81 -95  92  -2  60 -63  25 -70  13  32  21]\n",
            "[80 91 59 24 12 31 20]\n",
            "d:  7\n",
            "d bis:  7\n",
            "a al principio  [ 42  91  -8 -46 -63 -94  14  31   3 -51 -22  -2 -78  25 -43]\n",
            "Ejercicio e. a:  [ 42  91  -8 -46 -63 -94  14  31   3 -51 -22  -2 -78  25 -43]\n",
            "             d:  [42 91  0  0  0  0 14 31  3  0  0  0  0 25  0]\n",
            "[ -8  42 -46  31  -2]\n"
          ]
        }
      ],
      "source": [
        "# Solución\n",
        "#a 3 primeros elementos\n",
        "print(a[0:3])\n",
        "#b\n",
        "b = a+1\n",
        "print(b)\n",
        "\n",
        "#c\n",
        "filtro = a>0\n",
        "c = a[filtro]\n",
        "print(c)\n",
        "\n",
        "#d\n",
        "print(\"d: \",len(c))\n",
        "\n",
        "#d bis\n",
        "print(\"d bis: \",filtro.sum()) # contar 1\n",
        "\n",
        "#e\n",
        "a = np.random.randint(-100,100,15)\n",
        "print(\"a al principio \",a)\n",
        "d = a.copy()\n",
        "filtro = a<0\n",
        "d[filtro] = 0\n",
        "print(\"Ejercicio e. a: \",a)\n",
        "print(\"             d: \",d)\n",
        "\n",
        "#f\n",
        "print( a[[2,0,3,7,11]])"
      ]
    },
    {
      "cell_type": "markdown",
      "id": "6397ad3e-fc2d-46da-9568-d13183c82035",
      "metadata": {
        "id": "6397ad3e-fc2d-46da-9568-d13183c82035"
      },
      "source": [
        "3.- La variable ```datosd```  tiene la misma información sobre provincias y número de habitantes pero en formato diccionario\n",
        "\n",
        "a) Devolver el número de habitantes de Murcia\n",
        "\n",
        "b) Incrementar en 10 el número de habitantes de Barcelona\n",
        "\n",
        "c) Añadir una nueva provincia, ```['Bizkaia', 1162054]```"
      ]
    },
    {
      "cell_type": "code",
      "execution_count": 24,
      "id": "4f459c76-b561-4af0-9b3d-5481d8d28404",
      "metadata": {
        "id": "4f459c76-b561-4af0-9b3d-5481d8d28404",
        "colab": {
          "base_uri": "https://localhost:8080/"
        },
        "outputId": "d2fe50d1-bbf2-4d16-fb8d-6151f5de15ca"
      },
      "outputs": [
        {
          "output_type": "execute_result",
          "data": {
            "text/plain": [
              "{'Madrid': 7058041,\n",
              " 'Barcelona': 5924293,\n",
              " 'Valencia': 2730314,\n",
              " 'Alicante': 2008809,\n",
              " 'Sevilla': 1969075,\n",
              " 'Málaga': 1778275,\n",
              " 'Murcia': 1575171,\n",
              " 'Cádiz': 1258881,\n",
              " 'Illes Balears': 1238812,\n",
              " 'Las Palmas': 1164130}"
            ]
          },
          "metadata": {},
          "execution_count": 24
        }
      ],
      "source": [
        "datos = [['Madrid', 7058041], ['Barcelona', 5924293],\n",
        "         ['Valencia', 2730314], ['Alicante', 2008809],\n",
        "         ['Sevilla', 1969075], ['Málaga',1778275], ['Murcia', 1575171], ['Cádiz',1258881],\n",
        "         ['Illes Balears',1238812],['Las Palmas',1164130] ]\n",
        "datosd = dict(datos)\n",
        "datosd"
      ]
    },
    {
      "cell_type": "code",
      "execution_count": 26,
      "id": "3eabc4e0-3ae8-47dd-8b4b-ddef23758bb8",
      "metadata": {
        "id": "3eabc4e0-3ae8-47dd-8b4b-ddef23758bb8",
        "colab": {
          "base_uri": "https://localhost:8080/"
        },
        "outputId": "1b2e5f68-0cd8-4033-d3e0-7e517d2a306b"
      },
      "outputs": [
        {
          "output_type": "stream",
          "name": "stdout",
          "text": [
            "1575171\n",
            "{'Madrid': 7058041, 'Barcelona': 5924303, 'Valencia': 2730314, 'Alicante': 2008809, 'Sevilla': 1969075, 'Málaga': 1778275, 'Murcia': 1575171, 'Cádiz': 1258881, 'Illes Balears': 1238812, 'Las Palmas': 1164130}\n",
            "{'Madrid': 7058041, 'Barcelona': 5924303, 'Valencia': 2730314, 'Alicante': 2008809, 'Sevilla': 1969075, 'Málaga': 1778275, 'Murcia': 1575171, 'Cádiz': 1258881, 'Illes Balears': 1238812, 'Las Palmas': 1164130, 'Bizkaia': 1162054}\n"
          ]
        }
      ],
      "source": [
        "# Solución\n",
        "#a\n",
        "print(datosd[\"Murcia\"])\n",
        "\n",
        "#b\n",
        "datosd[\"Barcelona\"] = datosd[\"Barcelona\"] +10\n",
        "print(datosd)\n",
        "\n",
        "#c\n",
        "datosd[\"Bizkaia\"] = 1162054\n",
        "print(datosd)\n"
      ]
    },
    {
      "cell_type": "markdown",
      "id": "0ec1279b-d7c3-40f5-99ec-e54d9c34e132",
      "metadata": {
        "id": "0ec1279b-d7c3-40f5-99ec-e54d9c34e132"
      },
      "source": [
        "4.- Consideramos el siguiente código con datos de empleados y queremos\n",
        "\n",
        "a) Acceder al nombre del primer empleado\n",
        "\n",
        "b) Acceder al tercer teléfono de la segunda empleada\n",
        "\n",
        "c) Añadir un campo \"letra\" a la dirección del primer empleado con valor \"B\""
      ]
    },
    {
      "cell_type": "code",
      "execution_count": 28,
      "id": "b5269675-2de3-4dc4-8ce3-a20f1d8c9964",
      "metadata": {
        "id": "b5269675-2de3-4dc4-8ce3-a20f1d8c9964"
      },
      "outputs": [],
      "source": [
        "empleados = [\n",
        "    {\"nombre\": \"Bertoldo\", \"dirección\": {\"calle\": \"C/Rosal\", \"núm.\": 10}, \"telfs.\": [111111, 2222, 3333]},\n",
        "    {\"nombre\": \"Herminia\", \"dirección\": {\"calle\": \"C/Clavel\", \"núm.\": 14, \"letra\": \"A\"}, \"telfs.\": [111111, 2222, 3333]},\n",
        "    {\"nombre\": \"Aniceto\", \"dirección\": {\"calle\": \"C/Gardenia\", \"núm.\": 3}, \"telfs.\": [5611122]},\n",
        "    {\"nombre\": \"Higinia\", \"dirección\": {\"calle\": \"C/Jazmin\", \"núm.\": 122}, \"telfs.\": [89897612, 134444, \"+49001123\"]}\n",
        "]\n"
      ]
    },
    {
      "cell_type": "code",
      "execution_count": 35,
      "id": "11844da1-44aa-4951-811b-6ba3bd031067",
      "metadata": {
        "id": "11844da1-44aa-4951-811b-6ba3bd031067",
        "colab": {
          "base_uri": "https://localhost:8080/"
        },
        "outputId": "6991beeb-6821-4003-8f45-d014bae7e5e4"
      },
      "outputs": [
        {
          "output_type": "stream",
          "name": "stdout",
          "text": [
            "Bertoldo\n",
            "3333\n",
            "[{'nombre': 'Bertoldo', 'dirección': {'calle': 'C/Rosal', 'núm.': 10, 'letra': 'C'}, 'telfs.': [111111, 2222, 3333]}, {'nombre': 'Herminia', 'dirección': {'calle': 'C/Clavel', 'núm.': 14, 'letra': 'A'}, 'telfs.': [111111, 2222, 3333]}, {'nombre': 'Aniceto', 'dirección': {'calle': 'C/Gardenia', 'núm.': 3}, 'telfs.': [5611122]}, {'nombre': 'Higinia', 'dirección': {'calle': 'C/Jazmin', 'núm.': 122}, 'telfs.': [89897612, 134444, '+49001123']}]\n"
          ]
        }
      ],
      "source": [
        "# Solución\n",
        "#a\n",
        "print(empleados[0][\"nombre\"])\n",
        "#b\n",
        "print(empleados[1]['telfs.'][2])\n",
        "\n",
        "#c\n",
        "empleados[0][\"dirección\"][\"letra\"] = \"C\"\n",
        "print(empleados)"
      ]
    },
    {
      "cell_type": "code",
      "execution_count": null,
      "id": "1e055575-20af-4ab0-ab36-d05e1786a9c9",
      "metadata": {
        "id": "1e055575-20af-4ab0-ab36-d05e1786a9c9"
      },
      "outputs": [],
      "source": []
    }
  ],
  "metadata": {
    "kernelspec": {
      "display_name": "Python 3 (ipykernel)",
      "language": "python",
      "name": "python3"
    },
    "language_info": {
      "codemirror_mode": {
        "name": "ipython",
        "version": 3
      },
      "file_extension": ".py",
      "mimetype": "text/x-python",
      "name": "python",
      "nbconvert_exporter": "python",
      "pygments_lexer": "ipython3",
      "version": "3.12.4"
    },
    "colab": {
      "provenance": [],
      "include_colab_link": true
    }
  },
  "nbformat": 4,
  "nbformat_minor": 5
}