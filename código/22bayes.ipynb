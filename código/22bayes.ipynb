{
  "cells": [
    {
      "cell_type": "markdown",
      "metadata": {
        "id": "awqawYV-IBz3"
      },
      "source": [
        "<table>\n",
        "    <tr>\n",
        "      <td>Introducción a\n",
        "      </td>\n",
        "      <td>\n",
        "      <img src=\"https://media.licdn.com/dms/image/D5612AQF7GSp3l4pztQ/article-cover_image-shrink_720_1280/0/1686548640655?e=1715817600&v=beta&t=WQzv1EMkEEwZ0QZ0PF1anRKIHCl5BBH_YPZHdDQsWPM\"  width=150/>\n",
        "      </td>\n",
        "     </tr>\n",
        "</table>\n",
        "Rafa Caballero\n",
        "\n",
        "## Naïve Bayes\n",
        "\n",
        "Tenemos datos sobre mails y sobre si son o no SPAM (obtenidos de [aquí](https://www.codingninjas.com/codestudio/library/bernoulli-naive-bayes) )"
      ]
    },
    {
      "cell_type": "code",
      "execution_count": null,
      "metadata": {
        "id": "tr6-8vmEIBz4"
      },
      "outputs": [],
      "source": [
        "import pandas as pd\n",
        "import numpy as np\n",
        "import seaborn as sns\n",
        "from matplotlib import pyplot as plt\n",
        "from sklearn.naive_bayes import BernoulliNB\n",
        "from sklearn.feature_extraction.text import CountVectorizer\n",
        "import warnings\n",
        "warnings.filterwarnings(\"ignore\")\n",
        "import matplotlib.pyplot as plt\n",
        "plt.style.use('seaborn-whitegrid')\n",
        "%matplotlib inline\n",
        "\n",
        "\n",
        "#### Carga y preprocesado\n",
        "path = \"https://raw.githubusercontent.com/amankharwal/SMS-Spam-Detection/master/spam.csv\"\n",
        "#path = \"c:/hlocal/tdm/movimiento.csv\"\n",
        "df = pd.read_csv(path,encoding=\"latin1\").drop(['Unnamed: 2', 'Unnamed: 3', 'Unnamed: 4'], axis=1)\n",
        "df"
      ]
    },
    {
      "cell_type": "markdown",
      "metadata": {
        "id": "3s3k2LmmIBz4"
      },
      "source": [
        "**Ejercicio** ¿cuántos valores diferentes tiene la columna class?"
      ]
    },
    {
      "cell_type": "code",
      "execution_count": null,
      "metadata": {
        "id": "iW4NagzFIBz4"
      },
      "outputs": [],
      "source": []
    },
    {
      "cell_type": "markdown",
      "metadata": {
        "id": "j-DrJGfVIBz5"
      },
      "source": [
        "Crear una nueva columna `label`que valga 1 si `class`es 'spam' y 0 en otro caso"
      ]
    },
    {
      "cell_type": "code",
      "execution_count": null,
      "metadata": {
        "id": "KPR06fFgIBz5"
      },
      "outputs": [],
      "source": [
        "df[\"label\"]=0\n",
        "df.loc[df[\"class\"]==\"spam\",\"label\"] =1"
      ]
    },
    {
      "cell_type": "markdown",
      "metadata": {
        "id": "CBTiHbUjIBz5"
      },
      "source": [
        "Ahora quitamos las palabrs comunes (stopwords), signos de puntuación, etc."
      ]
    },
    {
      "cell_type": "code",
      "execution_count": null,
      "metadata": {
        "id": "VgwDCe9HIBz5"
      },
      "outputs": [],
      "source": [
        "import spacy\n",
        "nlp = spacy.blank('en')\n",
        "stopwords = nlp.Defaults.stop_words\n",
        "\n",
        "l = [\" \".join([token.text.upper() for token in nlp(doc) if not token.is_stop and  token.is_alpha]) for doc in df.message]\n",
        "\n",
        "df[\"limpio\"] = l\n",
        "df"
      ]
    },
    {
      "cell_type": "markdown",
      "metadata": {
        "id": "y5tZ8B5AIBz5"
      },
      "source": [
        "Tenemos que convertir las palabras en columnas. El método `CountVectorizer`"
      ]
    },
    {
      "cell_type": "code",
      "execution_count": null,
      "metadata": {
        "id": "7ggCSHa6IBz5"
      },
      "outputs": [],
      "source": [
        "frases =df[\"limpio\"].values\n",
        "y = df[\"label\"].values\n",
        "# creating count vectorizer object\n",
        "cv = CountVectorizer()\n",
        "#tranforming values\n",
        "X = cv.fit_transform(frases)\n",
        "v= x.toarray()\n",
        "#printing sparse matrix\n",
        "print(v.shape)\n",
        "v"
      ]
    },
    {
      "cell_type": "code",
      "execution_count": null,
      "metadata": {
        "id": "BuDE1sXfIBz5"
      },
      "outputs": [],
      "source": [
        "(v[1]!=0).sum()"
      ]
    },
    {
      "cell_type": "markdown",
      "metadata": {
        "id": "RgJ0vdV9IBz5"
      },
      "source": [
        "Ahora probamos los distintos métodos basados en Naïve Bayes"
      ]
    },
    {
      "cell_type": "code",
      "execution_count": null,
      "metadata": {
        "id": "r-DpoXcfIBz5"
      },
      "outputs": [],
      "source": [
        "from sklearn.model_selection import train_test_split\n",
        "from sklearn.metrics import cohen_kappa_score\n",
        "from sklearn.metrics import confusion_matrix, ConfusionMatrixDisplay\n",
        "\n",
        "# 2 preparar train y test\n",
        "test = 0.4\n",
        "X_train, X_test, y_train, y_test = train_test_split(X, y, test_size= test)\n",
        "\n",
        "# 3 método y entrenamiento\n",
        "metodo = BernoulliNB()\n",
        "modelo = metodo.fit(X_train,y_train)\n",
        "\n",
        "# 4 evaluar\n",
        "y_pred = modelo.predict(X_test)\n",
        "k =  cohen_kappa_score(y_test,y_pred)\n",
        "print(\"kappa \",k)\n",
        "cm = confusion_matrix(y_test, y_pred, labels=modelo.classes_)\n",
        "disp = ConfusionMatrixDisplay(confusion_matrix=cm,\n",
        "                              display_labels=modelo.classes_)\n",
        "disp.plot()\n",
        "\n",
        "plt.show()\n",
        "\n",
        "from sklearn.metrics import classification_report\n",
        "print(classification_report(y_test, y_pred))"
      ]
    },
    {
      "cell_type": "markdown",
      "metadata": {
        "id": "o-CRGiQZIBz5"
      },
      "source": [
        "**Pregunta** En el caso del SPAM, ¿Es mejor tener una precisión alta y  un recall un poco más bajo o al revés?"
      ]
    },
    {
      "cell_type": "markdown",
      "metadata": {
        "id": "LMdhd5ECIBz5"
      },
      "source": [
        "**Ejercicio** Queremos probar a obtener el coeficiente kappa con `BernoulliNB`con `RandomOverSampler` (repitiendo los valores menos frecuentes, los del Spam) y validación cruzada\n",
        "\n",
        "Buscar al final del notebook Pipelines, copiar, pegar y hacer los cambios que correspondan"
      ]
    },
    {
      "cell_type": "code",
      "execution_count": null,
      "metadata": {
        "id": "eF8XBl2pIBz6"
      },
      "outputs": [],
      "source": []
    },
    {
      "cell_type": "markdown",
      "metadata": {
        "id": "0NHTonSwIBz6"
      },
      "source": [
        "**Ejercicio** probar ahora con regresión logística"
      ]
    },
    {
      "cell_type": "code",
      "execution_count": null,
      "metadata": {
        "id": "uh80r42dIBz6"
      },
      "outputs": [],
      "source": []
    },
    {
      "cell_type": "markdown",
      "metadata": {
        "id": "O-yYV52dIBz6"
      },
      "source": [
        "**Ejercicio** Probar con SMOTE ¿puedes explicar el resultado?"
      ]
    },
    {
      "cell_type": "markdown",
      "metadata": {
        "id": "1uV2LK_PIBz6"
      },
      "source": [
        "**Ejercicio** Probar con otros métodos SVM, RandomForest..."
      ]
    },
    {
      "cell_type": "code",
      "execution_count": null,
      "metadata": {
        "id": "Cgn3mSUpIBz6"
      },
      "outputs": [],
      "source": []
    }
  ],
  "metadata": {
    "kernelspec": {
      "display_name": "Python 3 (ipykernel)",
      "language": "python",
      "name": "python3"
    },
    "language_info": {
      "codemirror_mode": {
        "name": "ipython",
        "version": 3
      },
      "file_extension": ".py",
      "mimetype": "text/x-python",
      "name": "python",
      "nbconvert_exporter": "python",
      "pygments_lexer": "ipython3",
      "version": "3.11.4"
    },
    "colab": {
      "provenance": []
    }
  },
  "nbformat": 4,
  "nbformat_minor": 0
}