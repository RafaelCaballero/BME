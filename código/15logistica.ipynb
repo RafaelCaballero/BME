{
  "cells": [
    {
      "cell_type": "markdown",
      "id": "9c3347d1",
      "metadata": {
        "id": "9c3347d1"
      },
      "source": [
        "<table>\n",
        "    <tr>\n",
        "      <td>Introducción a\n",
        "      </td>\n",
        "      <td>\n",
        "      <img src=\"https://media.licdn.com/dms/image/D5612AQF7GSp3l4pztQ/article-cover_image-shrink_720_1280/0/1686548640655?e=1715817600&v=beta&t=WQzv1EMkEEwZ0QZ0PF1anRKIHCl5BBH_YPZHdDQsWPM\"  width=150/>\n",
        "      </td>\n",
        "     </tr>\n",
        "</table>\n",
        "Rafa Caballero\n",
        "\n",
        "### Ejemplo de regresión logística"
      ]
    },
    {
      "cell_type": "markdown",
      "id": "58f3217c",
      "metadata": {
        "id": "58f3217c"
      },
      "source": [
        "#### Carga y preprocesado\n",
        "\n",
        "Vamos a intentar predecir en el caso del conjunto del titanic quién sobrevivió y quien no a partir de sus características"
      ]
    },
    {
      "cell_type": "code",
      "execution_count": null,
      "id": "929a7720",
      "metadata": {
        "id": "929a7720"
      },
      "outputs": [],
      "source": [
        "url = \"https://raw.githubusercontent.com/RafaelCaballero/tdm/master/datos/titanicyesno.csv\"\n",
        "import pandas as pd\n",
        "df = pd.read_csv(url)\n",
        "df"
      ]
    },
    {
      "cell_type": "markdown",
      "id": "6fc6db0b",
      "metadata": {
        "id": "6fc6db0b"
      },
      "source": [
        "Seleccionamos las columnas que nos interesan: survived, pclass, sex,age,sibsp,parch,fare. Queda la duda de embarked, pero vamos a incluirla por si el puerto de origen influyera de alguna forma\n",
        "\n",
        "**Ejercicio 1** Hacer que df solo tenga las columnas indicadas"
      ]
    },
    {
      "cell_type": "code",
      "execution_count": null,
      "id": "2809ecbe",
      "metadata": {
        "id": "2809ecbe"
      },
      "outputs": [],
      "source": [
        "columnas = [\"survived\", \"pclass\", \"sex\", \"age\", \"sibsp\", \"parch\", \"fare\",\"embarked\"]\n",
        "df2 = df[columnas]\n",
        "df2"
      ]
    },
    {
      "cell_type": "markdown",
      "id": "d969a051",
      "metadata": {
        "id": "d969a051"
      },
      "source": [
        "**Ejercicio 2**  Contar el número de nulos por columna"
      ]
    },
    {
      "cell_type": "code",
      "execution_count": null,
      "id": "a48c167c",
      "metadata": {
        "id": "a48c167c"
      },
      "outputs": [],
      "source": [
        "df.isnull().sum()"
      ]
    },
    {
      "cell_type": "code",
      "execution_count": null,
      "id": "12eaa04b",
      "metadata": {
        "id": "12eaa04b"
      },
      "outputs": [],
      "source": [
        "df [ df.age.isnull() ]"
      ]
    },
    {
      "cell_type": "markdown",
      "id": "919ddc36",
      "metadata": {
        "id": "919ddc36"
      },
      "source": [
        "Vemos que la edad (`age`) es un problema hay una cantidad relevante de valores nulos ¿eliminamos la columna, que puede tener su importancia? ¿o las filas, que supondría la pérdida de muchas filas valiosas? Aquí vamos a optar por quitar las filas con nulos, habría que probar con el otro caso\n",
        "\n",
        "**Ejercicio 3** Eliminar las filas con nulos"
      ]
    },
    {
      "cell_type": "code",
      "execution_count": null,
      "id": "0bbe8412",
      "metadata": {
        "id": "0bbe8412"
      },
      "outputs": [],
      "source": [
        "# df2 = df2.drop(columns=[\"age\"],inplace=True)\n",
        "df2 = df2.drop(columns=[\"age\"])\n",
        "df2 = df2.dropna()\n",
        "df2.isnull().sum()"
      ]
    },
    {
      "cell_type": "code",
      "execution_count": null,
      "id": "28692dc9",
      "metadata": {
        "id": "28692dc9"
      },
      "outputs": [],
      "source": [
        "df2.shape"
      ]
    },
    {
      "cell_type": "code",
      "execution_count": null,
      "id": "1e83e57a",
      "metadata": {
        "id": "1e83e57a"
      },
      "outputs": [],
      "source": [
        "df2.dtypes"
      ]
    },
    {
      "cell_type": "markdown",
      "id": "caa7de33",
      "metadata": {
        "id": "caa7de33"
      },
      "source": [
        "Vemos 3 columnas que no son números, integer ni float.\n",
        "\n",
        "**Ejercicio 4** Comprobar qué  valores diferentes tienen survived, sex, embarked y cuánto se repite cada uno"
      ]
    },
    {
      "cell_type": "code",
      "execution_count": null,
      "id": "b3bfe96f",
      "metadata": {
        "id": "b3bfe96f"
      },
      "outputs": [],
      "source": [
        "print(df2.survived.value_counts())\n",
        "print(df2.sex.value_counts())\n",
        "print(df2.embarked.value_counts())"
      ]
    },
    {
      "cell_type": "markdown",
      "id": "a890b708",
      "metadata": {
        "id": "a890b708"
      },
      "source": [
        "Vemos que survived y sex son binarios; podemos utilizar `replace` para reemplazar 'yes' por 1 y 'no' por 0"
      ]
    },
    {
      "cell_type": "code",
      "execution_count": null,
      "id": "426b101d",
      "metadata": {
        "id": "426b101d"
      },
      "outputs": [],
      "source": [
        "df2[\"survived\"] = df2.survived.replace(('yes', 'no'), (1, 0))"
      ]
    },
    {
      "cell_type": "markdown",
      "id": "d1bf4389",
      "metadata": {
        "id": "d1bf4389"
      },
      "source": [
        "O con filtros"
      ]
    },
    {
      "cell_type": "code",
      "execution_count": null,
      "id": "04f86aac",
      "metadata": {
        "id": "04f86aac"
      },
      "outputs": [],
      "source": [
        "filtro  = df.survived == \"yes\"\n",
        "df.loc[filtro,\"survived\"] = 1\n",
        "filtro  = df.survived == \"no\"\n",
        "df.loc[filtro,\"survived\"] = 0\n"
      ]
    },
    {
      "cell_type": "markdown",
      "id": "0857d35e",
      "metadata": {
        "id": "0857d35e"
      },
      "source": [
        "**Ejercicio 5**\n",
        "Hacer lo mismo con sex, que puede tomar 'male' o 'female'\n"
      ]
    },
    {
      "cell_type": "code",
      "execution_count": null,
      "id": "307a99fc",
      "metadata": {
        "id": "307a99fc"
      },
      "outputs": [],
      "source": [
        "df2[\"sex\"] = df2.sex.replace(('female', 'male'), (1, 0))"
      ]
    },
    {
      "cell_type": "code",
      "execution_count": null,
      "id": "52bd4688",
      "metadata": {
        "id": "52bd4688"
      },
      "outputs": [],
      "source": [
        "df2"
      ]
    },
    {
      "cell_type": "markdown",
      "id": "fc365616",
      "metadata": {
        "id": "fc365616"
      },
      "source": [
        "queda la columna `embarked`,  que, para beneficio de los algoritmos de ML queremos convertir en 3 columnas. Pandas incluye una función get_dummies que hace esto exactamente"
      ]
    },
    {
      "cell_type": "code",
      "execution_count": null,
      "id": "5405a5be",
      "metadata": {
        "id": "5405a5be"
      },
      "outputs": [],
      "source": [
        "df2 = pd.get_dummies(df2, columns=[\"embarked\"])\n",
        "df2"
      ]
    },
    {
      "cell_type": "code",
      "execution_count": null,
      "id": "273d9287",
      "metadata": {
        "id": "273d9287"
      },
      "outputs": [],
      "source": []
    },
    {
      "cell_type": "markdown",
      "id": "59d24019",
      "metadata": {
        "id": "59d24019"
      },
      "source": [
        "**Nota**. Este método, llamado one-hot-encoding *no se puede aplicar a la columna de salida*. La razón es evidente: necesitamos una sola columna, no 3 por ejemplo. En este caso además el algoritmo no se equivocará por cambiar cada estring por un número ya que la etiqueta no se usa es solo el valor de salida. En este caso podemos utilizar el [LabelEncoder](https://scikit-learn.org/stable/modules/generated/sklearn.preprocessing.LabelEncoder.html)"
      ]
    },
    {
      "cell_type": "code",
      "execution_count": null,
      "id": "b1e29680",
      "metadata": {
        "id": "b1e29680"
      },
      "outputs": [],
      "source": [
        "df2.dtypes"
      ]
    },
    {
      "cell_type": "markdown",
      "id": "bf224a5b",
      "metadata": {
        "id": "bf224a5b"
      },
      "source": [
        " Ahora estamos listos para aplicar machine learning. De los 4 pasos que describimos\n",
        "\n",
        "1 Obtener las columnas\n",
        "\n",
        "2 Dividir entre train y test\n",
        "\n",
        "3 Aplicar el método\n",
        "\n",
        "4 Evaluar\n",
        "\n",
        "Solo cambia con respecto a la regresión lineal (y esto va a ser la tónica con el resto del aprendizaje supervisado) el 3, ya que ahora el método es diferente.\n",
        "\n",
        "Copiar el código desde el notebook \"12regresion\", con los cambios\n",
        "\n",
        "1) Antes de empezar borrar todas las filas con algún nulos,dejando el resultado en df2\n",
        "\n",
        "2) Aplicar todos los pasos a df2\n",
        "\n",
        "3) Las X son todas menos \"survived\", la y \"survived\"\n",
        "\n",
        "4) El método que se aplica en el paso 3 es LogisticRegression\n",
        "\n",
        "5) La evaluación la hacemos con la función show_results"
      ]
    },
    {
      "cell_type": "code",
      "execution_count": null,
      "id": "a25ae5ff",
      "metadata": {
        "id": "a25ae5ff"
      },
      "outputs": [],
      "source": [
        "import matplotlib.pyplot as plt\n",
        "from sklearn.metrics import RocCurveDisplay\n",
        "from sklearn.metrics import roc_auc_score\n",
        "from sklearn.metrics import classification_report\n",
        "from sklearn.metrics import make_scorer,f1_score, accuracy_score, recall_score,cohen_kappa_score\n",
        "\n",
        "def show_results(y_real,y_pred, y_pred_proba):\n",
        "    print(\"Accuracy \",round(accuracy_score(y_real,y_pred),4),\\\n",
        "              \"\\nRecall \",round(recall_score(y_real,y_pred),4),\\\n",
        "              \"\\nKappa \", round(cohen_kappa_score(y_real,y_pred),4),\n",
        "              \"\\nAUC \",round(roc_auc_score(y_real,y_pred_proba[:, 1]),4) )\n",
        "    print('\\nClassification Report: \\n', classification_report(y_real, y_pred))\n",
        "\n",
        "    RocCurveDisplay.from_predictions(y_real, y_pred)\n",
        "    plt.show()"
      ]
    },
    {
      "cell_type": "code",
      "execution_count": null,
      "id": "fae8565c",
      "metadata": {
        "id": "fae8565c"
      },
      "outputs": [],
      "source": [
        "from sklearn.linear_model import LogisticRegression\n",
        "df2 = df2.dropna()\n",
        "# 1\n",
        "XColumns = [c for c in df2.columns if c!=\"survived\"]\n",
        "yColumn = \"survived\"\n",
        "X = df2[XColumns]\n",
        "y = df2[yColumn]\n",
        "\n",
        "\n",
        "\n",
        "# 2\n",
        "from sklearn.model_selection import train_test_split\n",
        "test = 0.4\n",
        "X_train, X_test, y_train, y_test = train_test_split(X, y, test_size= test)\n",
        "\n",
        "# 3\n",
        "metodo = LogisticRegression(max_iter=1000)\n",
        "modelo = metodo.fit(X_train,y_train)\n",
        "\n",
        "# 4\n",
        "y_pred = modelo.predict(X_test)\n",
        "y_pred_proba = modelo.predict_proba(X_test)\n",
        "show_results(y_test,y_pred,y_pred_proba)"
      ]
    },
    {
      "cell_type": "code",
      "execution_count": null,
      "id": "62b94295",
      "metadata": {
        "id": "62b94295"
      },
      "outputs": [],
      "source": [
        "print(X.columns)\n",
        "modelo.coef_"
      ]
    },
    {
      "cell_type": "code",
      "execution_count": null,
      "id": "04fc7e45",
      "metadata": {
        "id": "04fc7e45"
      },
      "outputs": [],
      "source": [
        "from  sklearn.model_selection import cross_val_score\n",
        "metodo = LogisticRegression(max_iter=1000)\n",
        "res = cross_val_score(metodo, X, y, cv=10, scoring=\"roc_auc\")\n",
        "res.mean()"
      ]
    },
    {
      "cell_type": "markdown",
      "id": "ca42d792",
      "metadata": {
        "id": "ca42d792"
      },
      "source": [
        "Veamos las predicciones"
      ]
    },
    {
      "cell_type": "code",
      "execution_count": null,
      "id": "0d3e348c",
      "metadata": {
        "id": "0d3e348c"
      },
      "outputs": [],
      "source": [
        "y_test.values,y_pred"
      ]
    },
    {
      "cell_type": "markdown",
      "id": "49546004",
      "metadata": {
        "id": "49546004"
      },
      "source": [
        "Si lo que queremos es predecir con probabilidades"
      ]
    },
    {
      "cell_type": "code",
      "execution_count": null,
      "id": "db322b81",
      "metadata": {
        "id": "db322b81"
      },
      "outputs": [],
      "source": [
        "y_prob = modelo.predict_proba(X_test)\n",
        "y_prob[:15], y_test.values[:15], y_pred[:15]"
      ]
    },
    {
      "cell_type": "markdown",
      "id": "16ef615e",
      "metadata": {
        "id": "16ef615e"
      },
      "source": [
        "Las probabilidades nos dan la posibilidad de alterar el etiquetado. Por ejemplo supongamos que queremos aumentar el recall de la clase 1 haciendo que se considere 1 cuando la probabilidad de ser uno sea >0.45 y no >0.5:"
      ]
    },
    {
      "cell_type": "code",
      "execution_count": null,
      "id": "1d03a186",
      "metadata": {
        "id": "1d03a186"
      },
      "outputs": [],
      "source": [
        "y_pred2 = y_pred.copy()\n",
        "y_pred2[y_prob[:,1]>0]=1\n",
        "\n",
        "show_results(y_test,y_pred2,y_pred_proba)"
      ]
    },
    {
      "cell_type": "markdown",
      "id": "f44d0d9f",
      "metadata": {
        "id": "f44d0d9f"
      },
      "source": [
        "En todo caso recordar que para obtener buenos resultados debemos ser cuidadosos y repetir el experimento varias veces"
      ]
    },
    {
      "cell_type": "code",
      "execution_count": null,
      "id": "a4a5c2f1",
      "metadata": {
        "id": "a4a5c2f1"
      },
      "outputs": [],
      "source": [
        "from sklearn.linear_model import LogisticRegression\n",
        "#from imblearn.over_sampling import RandomOverSampler\n",
        "#from imblearn.under_sampling import RandomUnderSampler,ClusterCentroids\n",
        "#from imblearn.over_sampling import SMOTE, ADASYN\n",
        "from tqdm import tqdm\n",
        "from sklearn.model_selection import train_test_split\n",
        "\n",
        "df2 = df2.dropna()\n",
        "# 1\n",
        "XColumns = [c for c in df2.columns if c!=\"survived\"]\n",
        "yColumn = \"survived\"\n",
        "X = df2[XColumns]\n",
        "y = df2[yColumn]\n",
        "\n",
        "\n",
        "# 2\n",
        "veces = 500\n",
        "kappa = 0\n",
        "for v in tqdm(range(veces)):\n",
        "    test = 0.4\n",
        "    X_train, X_test, y_train, y_test = train_test_split(X, y, test_size= test)\n",
        "    #X_train,y_train =ClusterCentroids().fit_resample(X_train, y_train)\n",
        "\n",
        "    # 3\n",
        "    metodo = LogisticRegression(max_iter=1000)\n",
        "    modelo = metodo.fit(X_train,y_train)\n",
        "\n",
        "    # 4\n",
        "    y_pred = modelo.predict(X_test)\n",
        "    kappa +=cohen_kappa_score(y_test,y_pred)\n",
        "\n",
        "print(kappa/veces)\n",
        "\n",
        "# 0.574"
      ]
    },
    {
      "cell_type": "code",
      "execution_count": null,
      "id": "5f93d4c4",
      "metadata": {
        "id": "5f93d4c4"
      },
      "outputs": [],
      "source": []
    }
  ],
  "metadata": {
    "kernelspec": {
      "display_name": "Python 3 (ipykernel)",
      "language": "python",
      "name": "python3"
    },
    "language_info": {
      "codemirror_mode": {
        "name": "ipython",
        "version": 3
      },
      "file_extension": ".py",
      "mimetype": "text/x-python",
      "name": "python",
      "nbconvert_exporter": "python",
      "pygments_lexer": "ipython3",
      "version": "3.9.12"
    },
    "colab": {
      "provenance": []
    }
  },
  "nbformat": 4,
  "nbformat_minor": 5
}