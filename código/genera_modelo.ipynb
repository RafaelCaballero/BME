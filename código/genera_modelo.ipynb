{
  "nbformat": 4,
  "nbformat_minor": 0,
  "metadata": {
    "colab": {
      "provenance": [],
      "authorship_tag": "ABX9TyOYavMQYBOvXQrQYnZpU7iC",
      "include_colab_link": true
    },
    "kernelspec": {
      "name": "python3",
      "display_name": "Python 3"
    },
    "language_info": {
      "name": "python"
    }
  },
  "cells": [
    {
      "cell_type": "markdown",
      "metadata": {
        "id": "view-in-github",
        "colab_type": "text"
      },
      "source": [
        "<a href=\"https://colab.research.google.com/github/RafaelCaballero/BME/blob/main/c%C3%B3digo/genera_modelo.ipynb\" target=\"_parent\"><img src=\"https://colab.research.google.com/assets/colab-badge.svg\" alt=\"Open In Colab\"/></a>"
      ]
    },
    {
      "cell_type": "code",
      "execution_count": 8,
      "metadata": {
        "id": "A6dm1LESq1Qs",
        "colab": {
          "base_uri": "https://localhost:8080/"
        },
        "outputId": "0f252ca0-0fb3-4476-c789-835af5469467"
      },
      "outputs": [
        {
          "output_type": "execute_result",
          "data": {
            "text/plain": [
              "['modelo_rf.joblib']"
            ]
          },
          "metadata": {},
          "execution_count": 8
        }
      ],
      "source": [
        "import joblib\n",
        "import pandas as pd\n",
        "import numpy as np\n",
        "from imblearn.over_sampling import RandomOverSampler\n",
        "from imblearn.under_sampling import RandomUnderSampler\n",
        "from imblearn.over_sampling import SMOTE\n",
        "from imblearn.pipeline import Pipeline\n",
        "from sklearn.linear_model import LogisticRegression\n",
        "from sklearn.preprocessing import StandardScaler\n",
        "\n",
        "url = \"https://raw.githubusercontent.com/RafaelCaballero/tdm/master/datos/BankPrediction.csv\"\n",
        "df = pd.read_csv(url)\n",
        "\n",
        "df2 = df.drop(columns=[\"customer_id\"])\n",
        "\n",
        "df3 = pd.get_dummies(df2)\n",
        "\n",
        "yColumn = \"churn\"\n",
        "XColumns = [c for c in df3.columns if c!=yColumn]\n",
        "X = df3[XColumns]\n",
        "y = df3[yColumn]\n",
        "\n",
        "pasos = [ ('scaler', StandardScaler()), ('over',RandomOverSampler()), ('Logistic', LogisticRegression(max_iter=10000))]\n",
        "\n",
        "pipeline = Pipeline(steps=pasos)\n",
        "\n",
        "modelo = pipeline.fit(X,y)\n",
        "\n",
        "# Guardar el modelo en un archivo\n",
        "joblib.dump(modelo, 'modelo_rf.joblib')"
      ]
    },
    {
      "cell_type": "code",
      "source": [
        "df3.loc[0,:]"
      ],
      "metadata": {
        "id": "7ifpL5YKtT31",
        "outputId": "2c17aedd-d7a4-4be5-b454-41b4ebe75c7f",
        "colab": {
          "base_uri": "https://localhost:8080/",
          "height": 543
        }
      },
      "execution_count": 6,
      "outputs": [
        {
          "output_type": "execute_result",
          "data": {
            "text/plain": [
              "credit_score              619\n",
              "age                        42\n",
              "tenure                      2\n",
              "balance                   0.0\n",
              "products_number             1\n",
              "credit_card                 1\n",
              "active_member               1\n",
              "estimated_salary    101348.88\n",
              "churn                       1\n",
              "country_France           True\n",
              "country_Germany         False\n",
              "country_Spain           False\n",
              "gender_Female            True\n",
              "gender_Male             False\n",
              "Name: 0, dtype: object"
            ],
            "text/html": [
              "<div>\n",
              "<style scoped>\n",
              "    .dataframe tbody tr th:only-of-type {\n",
              "        vertical-align: middle;\n",
              "    }\n",
              "\n",
              "    .dataframe tbody tr th {\n",
              "        vertical-align: top;\n",
              "    }\n",
              "\n",
              "    .dataframe thead th {\n",
              "        text-align: right;\n",
              "    }\n",
              "</style>\n",
              "<table border=\"1\" class=\"dataframe\">\n",
              "  <thead>\n",
              "    <tr style=\"text-align: right;\">\n",
              "      <th></th>\n",
              "      <th>0</th>\n",
              "    </tr>\n",
              "  </thead>\n",
              "  <tbody>\n",
              "    <tr>\n",
              "      <th>credit_score</th>\n",
              "      <td>619</td>\n",
              "    </tr>\n",
              "    <tr>\n",
              "      <th>age</th>\n",
              "      <td>42</td>\n",
              "    </tr>\n",
              "    <tr>\n",
              "      <th>tenure</th>\n",
              "      <td>2</td>\n",
              "    </tr>\n",
              "    <tr>\n",
              "      <th>balance</th>\n",
              "      <td>0.0</td>\n",
              "    </tr>\n",
              "    <tr>\n",
              "      <th>products_number</th>\n",
              "      <td>1</td>\n",
              "    </tr>\n",
              "    <tr>\n",
              "      <th>credit_card</th>\n",
              "      <td>1</td>\n",
              "    </tr>\n",
              "    <tr>\n",
              "      <th>active_member</th>\n",
              "      <td>1</td>\n",
              "    </tr>\n",
              "    <tr>\n",
              "      <th>estimated_salary</th>\n",
              "      <td>101348.88</td>\n",
              "    </tr>\n",
              "    <tr>\n",
              "      <th>churn</th>\n",
              "      <td>1</td>\n",
              "    </tr>\n",
              "    <tr>\n",
              "      <th>country_France</th>\n",
              "      <td>True</td>\n",
              "    </tr>\n",
              "    <tr>\n",
              "      <th>country_Germany</th>\n",
              "      <td>False</td>\n",
              "    </tr>\n",
              "    <tr>\n",
              "      <th>country_Spain</th>\n",
              "      <td>False</td>\n",
              "    </tr>\n",
              "    <tr>\n",
              "      <th>gender_Female</th>\n",
              "      <td>True</td>\n",
              "    </tr>\n",
              "    <tr>\n",
              "      <th>gender_Male</th>\n",
              "      <td>False</td>\n",
              "    </tr>\n",
              "  </tbody>\n",
              "</table>\n",
              "</div><br><label><b>dtype:</b> object</label>"
            ]
          },
          "metadata": {},
          "execution_count": 6
        }
      ]
    },
    {
      "cell_type": "code",
      "source": [
        "df3.loc[0,:].values"
      ],
      "metadata": {
        "id": "GQdcl2X8tjV_",
        "outputId": "56ea1474-cadf-467c-8d9b-c0be863e482a",
        "colab": {
          "base_uri": "https://localhost:8080/"
        }
      },
      "execution_count": 7,
      "outputs": [
        {
          "output_type": "execute_result",
          "data": {
            "text/plain": [
              "array([619, 42, 2, 0.0, 1, 1, 1, 101348.88, 1, True, False, False, True,\n",
              "       False], dtype=object)"
            ]
          },
          "metadata": {},
          "execution_count": 7
        }
      ]
    },
    {
      "cell_type": "markdown",
      "source": [
        "En un programa aparte, con el modelo en la carpeta"
      ],
      "metadata": {
        "id": "MgTfWDIutwz-"
      }
    },
    {
      "cell_type": "code",
      "source": [
        "import joblib\n",
        "\n",
        "# Cargar el modelo desde el archivo\n",
        "modelo_cargado = joblib.load('modelo_rf.joblib')\n",
        "\n",
        "clientes = [\n",
        "    [619, 42, 2, 0.0, 1, 1, 1, 101348.88,  True, False, False, True,\n",
        "       False],\n",
        "    [819, 62, 2, 0.0, 1, 1, 1, 10148.88,  True, False, False, True,\n",
        "       False]\n",
        "\n",
        "]\n",
        "# Usar el modelo cargado\n",
        "predicciones = modelo_cargado.predict_proba(clientes)\n",
        "print(predicciones)"
      ],
      "metadata": {
        "id": "UrUvM_fQtoxl",
        "outputId": "93d1781a-be4d-487e-ffae-26fb7298df77",
        "colab": {
          "base_uri": "https://localhost:8080/"
        }
      },
      "execution_count": 13,
      "outputs": [
        {
          "output_type": "stream",
          "name": "stdout",
          "text": [
            "[[0.61920705 0.38079295]\n",
            " [0.2852103  0.7147897 ]]\n"
          ]
        },
        {
          "output_type": "stream",
          "name": "stderr",
          "text": [
            "/usr/local/lib/python3.10/dist-packages/sklearn/base.py:493: UserWarning: X does not have valid feature names, but StandardScaler was fitted with feature names\n",
            "  warnings.warn(\n"
          ]
        }
      ]
    }
  ]
}