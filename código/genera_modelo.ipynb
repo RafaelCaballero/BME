{
  "nbformat": 4,
  "nbformat_minor": 0,
  "metadata": {
    "colab": {
      "provenance": [],
      "authorship_tag": "ABX9TyMTxn5cTQD8GD9T/2abvApb",
      "include_colab_link": true
    },
    "kernelspec": {
      "name": "python3",
      "display_name": "Python 3"
    },
    "language_info": {
      "name": "python"
    }
  },
  "cells": [
    {
      "cell_type": "markdown",
      "metadata": {
        "id": "view-in-github",
        "colab_type": "text"
      },
      "source": [
        "<a href=\"https://colab.research.google.com/github/RafaelCaballero/BME/blob/main/c%C3%B3digo/genera_modelo.ipynb\" target=\"_parent\"><img src=\"https://colab.research.google.com/assets/colab-badge.svg\" alt=\"Open In Colab\"/></a>"
      ]
    },
    {
      "cell_type": "code",
      "execution_count": 3,
      "metadata": {
        "id": "A6dm1LESq1Qs",
        "colab": {
          "base_uri": "https://localhost:8080/"
        },
        "outputId": "390f72ce-1e3f-4ac6-b1b4-9ccb8cc62a0c"
      },
      "outputs": [
        {
          "output_type": "execute_result",
          "data": {
            "text/plain": [
              "['modelo_rf.joblib']"
            ]
          },
          "metadata": {},
          "execution_count": 3
        }
      ],
      "source": [
        "import joblib\n",
        "import pandas as pd\n",
        "import numpy as np\n",
        "from imblearn.over_sampling import RandomOverSampler\n",
        "from imblearn.under_sampling import RandomUnderSampler\n",
        "from imblearn.over_sampling import SMOTE\n",
        "from imblearn.pipeline import Pipeline\n",
        "from sklearn.linear_model import LogisticRegression\n",
        "from sklearn.preprocessing import StandardScaler\n",
        "\n",
        "url = \"https://raw.githubusercontent.com/RafaelCaballero/tdm/master/datos/BankPrediction.csv\"\n",
        "df = pd.read_csv(url)\n",
        "\n",
        "df2 = df.drop(columns=[\"customer_id\"])\n",
        "\n",
        "df3 = pd.get_dummies(df2)\n",
        "\n",
        "yColumn = \"churn\"\n",
        "XColumns = [c for c in df3.columns if c!=yColumn]\n",
        "X = df3[XColumns]\n",
        "y = df3[yColumn]\n",
        "\n",
        "pasos = [ ('scaler', StandardScaler()), ('over',RandomOverSampler()), ('Logistic', LogisticRegression(max_iter=10000))]\n",
        "\n",
        "pipeline = Pipeline(steps=pasos)\n",
        "\n",
        "modelo = pipeline.fit(X,y)\n",
        "\n",
        "# Guardar el modelo en un archivo\n",
        "joblib.dump(modelo, 'modelo_rf.joblib')"
      ]
    }
  ]
}