{
  "nbformat": 4,
  "nbformat_minor": 0,
  "metadata": {
    "colab": {
      "provenance": [],
      "authorship_tag": "ABX9TyPwqvEtygFRZbgt6WEjPQZs",
      "include_colab_link": true
    },
    "kernelspec": {
      "name": "python3",
      "display_name": "Python 3"
    },
    "language_info": {
      "name": "python"
    }
  },
  "cells": [
    {
      "cell_type": "markdown",
      "metadata": {
        "id": "view-in-github",
        "colab_type": "text"
      },
      "source": [
        "<a href=\"https://colab.research.google.com/github/RafaelCaballero/BME/blob/main/c%C3%B3digo/genera_modelo.ipynb\" target=\"_parent\"><img src=\"https://colab.research.google.com/assets/colab-badge.svg\" alt=\"Open In Colab\"/></a>"
      ]
    },
    {
      "cell_type": "code",
      "execution_count": null,
      "metadata": {
        "id": "A6dm1LESq1Qs"
      },
      "outputs": [],
      "source": [
        "import joblib\n",
        "import pandas as pd\n",
        "import numpy as np\n",
        "\n",
        "\n",
        "url = \"https://raw.githubusercontent.com/RafaelCaballero/tdm/master/datos/BankPrediction.csv\"\n",
        "df = pd.read_csv(url)\n",
        "\n",
        "df2 = df.drop(columns=[\"customer_id\"])\n",
        "\n",
        "df3 = pd.get_dummies(df2)\n",
        "\n",
        "yColumn = \"churn\"\n",
        "XColumns = [c for c in df3.columns if c!=yColumn]\n",
        "X = df3[XColumns]\n",
        "y = df3[yColumn]\n",
        "\n",
        "pasos = [ ('scaler', StandardScaler()), ('over',RandomOverSampler()), ('Logistic', LogisticRegression(max_iter=10000))]\n",
        "\n",
        "pipeline = Pipeline(steps=pasos)\n",
        "\n",
        "modelo = pipeline.fit(X,y)\n",
        "\n",
        "# Guardar el modelo en un archivo\n",
        "joblib.dump(modelo, 'modelo_rf.joblib')"
      ]
    }
  ]
}