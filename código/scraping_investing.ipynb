{
 "cells": [
  {
   "cell_type": "markdown",
   "metadata": {
    "id": "t3mPSm4W-xRT"
   },
   "source": [
    "# Web Scraping con Python\n",
    "\n",
    "Este script muestra algunas posibilidades de la biblioteca *Selenium* que nos permite obtener, automáticamente, datos de páginas web dinámicas, es decir que necesitan pulsar botones, etc, etc.\n",
    "\n",
    "Selenium está pensado realmente para automatizar pruebas de entornos web, pero a nosotros nos servirá para nuestro propósito de hacer web scraping.\n",
    "\n",
    "En particular, lo que vamos a hacer es arrancar google Chrome y manejarlo automáticamente desde Python.\n",
    "\n",
    "Para ello necesitamos 3 cosas:\n",
    "\n",
    "1.- Tener google Chrome\n",
    "\n",
    "2.- Instalar la biblioteca selenium\n",
    "\n",
    "3.- Tener un fichero controlador, para uso utilizaremos la librería chromedriver_autoinstaller\n",
    "\n"
   ]
  },
  {
   "cell_type": "markdown",
   "metadata": {
    "id": "x0AKhkh4-xRa"
   },
   "source": [
    "Empezamos asegurarnos de que Selenium está instalado"
   ]
  },
  {
   "cell_type": "code",
   "execution_count": null,
   "metadata": {
    "colab": {
     "base_uri": "https://localhost:8080/"
    },
    "id": "AbmLSr6Q-xRb",
    "outputId": "52e0c0c7-e218-49df-dbd5-e446675627f5"
   },
   "outputs": [],
   "source": [
    "modules = [\"selenium\",\"chromedriver_autoinstaller\"]\n",
    "\n",
    "\n",
    "import sys\n",
    "import os.path\n",
    "from subprocess import check_call\n",
    "import importlib\n",
    "import os\n",
    "\n",
    "def instala(modules):\n",
    "    print(\"Instalando módulos\")\n",
    "    for m in modules:\n",
    "        # para el import quitamos [...] y ==...\n",
    "        p = m.find(\"[\")\n",
    "        mi = m if p==-1 else m[:p]\n",
    "        p = mi.find(\"==\")\n",
    "        mi = mi if p==-1 else mi[:p]\n",
    "        torch_loader = importlib.util.find_spec(mi)\n",
    "        if torch_loader is not None:\n",
    "            print(m,\" encontrado\")\n",
    "        else:\n",
    "            print(m,\" No encontrado, instalando...\",end=\"\")  \n",
    "            try:        \n",
    "                r = check_call([sys.executable, \"-m\", \"pip\", \"install\", \"--user\",  m])\n",
    "                print(\"¡hecho!\")\n",
    "            except:\n",
    "                print(\"¡Problema al instalar \",m,\"! ¿seguro que el módulo existe?\",sep=\"\")\n",
    "\n",
    "    print(\"¡Terminado!\")\n",
    "\n",
    "instala(modules)  "
   ]
  },
  {
   "cell_type": "markdown",
   "metadata": {
    "id": "aNYxKlmy-xRe"
   },
   "source": [
    "\n",
    "Ahora abrimos el navegador"
   ]
  },
  {
   "cell_type": "code",
   "execution_count": null,
   "metadata": {
    "colab": {
     "base_uri": "https://localhost:8080/"
    },
    "id": "640iwJu4C8Gx",
    "outputId": "3e896755-8384-4ce4-9971-05f7051934e3"
   },
   "outputs": [],
   "source": [
    "\n",
    "import sys\n",
    "\n",
    "import time\n",
    "import pandas as pd\n",
    "from bs4 import BeautifulSoup\n",
    "from selenium import webdriver\n",
    "import chromedriver_autoinstaller\n",
    "\n",
    "# setup chrome options\n",
    "chrome_options = webdriver.ChromeOptions()\n",
    "#chrome_options.add_argument('--headless') # ensure GUI is off\n",
    "#chrome_options.add_argument('--no-sandbox')\n",
    "#chrome_options.add_argument('--disable-dev-shm-usage')\n",
    "\n",
    "# set path to chromedriver as per your configuration\n",
    "chromedriver_autoinstaller.install()\n",
    "\n",
    "\n",
    "# set up the webdriver\n",
    "driver = webdriver.Chrome(options=chrome_options)"
   ]
  },
  {
   "cell_type": "markdown",
   "metadata": {},
   "source": [
    "# Banco de Santander"
   ]
  },
  {
   "cell_type": "code",
   "execution_count": null,
   "metadata": {
    "id": "nyKn_uRA-xRg"
   },
   "outputs": [],
   "source": [
    "url = 'https://www.investing.com/equities/banco-santander'\n",
    "driver.get(url)\n",
    "\n"
   ]
  },
  {
   "cell_type": "markdown",
   "metadata": {
    "id": "15572M_c-xRg"
   },
   "source": [
    "Simulamos un click en la página para aceptar las cookies\n"
   ]
  },
  {
   "cell_type": "code",
   "execution_count": null,
   "metadata": {},
   "outputs": [],
   "source": [
    "from selenium.webdriver.common.by import By\n",
    "from selenium.webdriver.chrome.options import Options\n",
    "import time\n",
    "\n",
    "try:\n",
    "    cookies = driver.find_element(By.ID, \"onetrust-accept-btn-handler\")\n",
    "    cookies.click()\n",
    "    print(\"Cookies aceptadas.\")\n",
    "except Exception as e:\n",
    "    print(\"No se encontró el botón de aceptar cookies o ocurrió un error:\", e)\n"
   ]
  },
  {
   "cell_type": "code",
   "execution_count": null,
   "metadata": {},
   "outputs": [],
   "source": [
    "\n",
    "try:\n",
    "    elemento = driver.find_element(By.CSS_SELECTOR, '[data-test=\"instrument-price-last\"]')\n",
    "except Exception as e:\n",
    "    print(\"No encuentro el elemento con el último precio:\", e)\n"
   ]
  },
  {
   "cell_type": "code",
   "execution_count": null,
   "metadata": {},
   "outputs": [],
   "source": [
    "elemento.text"
   ]
  },
  {
   "cell_type": "markdown",
   "metadata": {},
   "source": [
    "Obtenemos el elemento que incluye toda la tabla"
   ]
  },
  {
   "cell_type": "code",
   "execution_count": null,
   "metadata": {},
   "outputs": [],
   "source": [
    "try:\n",
    "    tabla = driver.find_element(By.CSS_SELECTOR, '[data-test=\"key-info\"]')\n",
    "except Exception as e:\n",
    "    print(\"No se encontró el elemento tabla\", e)"
   ]
  },
  {
   "cell_type": "code",
   "execution_count": null,
   "metadata": {},
   "outputs": [],
   "source": [
    "tabla.text"
   ]
  },
  {
   "cell_type": "code",
   "execution_count": null,
   "metadata": {},
   "outputs": [],
   "source": [
    "try:\n",
    "    clase = \"key-info_dd-numeric__ZQFIs\"\n",
    "    els = tabla.find_elements(By.CLASS_NAME, clase)\n",
    "except Exception as e:\n",
    "    print(\"No se encontró el elemento:\", e)\n",
    "        "
   ]
  },
  {
   "cell_type": "code",
   "execution_count": null,
   "metadata": {},
   "outputs": [],
   "source": [
    "el = els[0]\n",
    "print(el.text)\n",
    "\n",
    "el=els[1]\n",
    "print(el.text)\n",
    "\n",
    "el=els[2]\n",
    "print(el.text)"
   ]
  },
  {
   "cell_type": "code",
   "execution_count": null,
   "metadata": {},
   "outputs": [],
   "source": [
    "valores = []\n",
    "for el in els:\n",
    "    valores.append(el.text) # lo añadimos a la lista\n",
    "len(valores),valores    "
   ]
  },
  {
   "cell_type": "markdown",
   "metadata": {},
   "source": [
    "Ahora los nombres de los datos "
   ]
  },
  {
   "cell_type": "code",
   "execution_count": null,
   "metadata": {},
   "outputs": [],
   "source": [
    "nombres = ['Prev. Close',\n",
    "  'Open',\n",
    "  \"Day's Range 1\",\n",
    "  \"Day's Range 2\",\n",
    "  '52 wk Range 1',\n",
    "  '52 wk Range 2',\n",
    "  'Volume',\n",
    "  'Average Vol. (3m)',\n",
    "  '1-Year Change',\n",
    "   'Market Cap',\n",
    "  'Shares Outstanding',\n",
    "  'Revenue',\n",
    "  'P/E Ratio',\n",
    "  'EPS',\n",
    "  'Dividend (Yield) 1',\n",
    "  'Dividend (Yield) 2',\n",
    "  'Beta']\n",
    "    \n",
    "import pandas as pd\n",
    "df = pd.DataFrame([valores[0:len(nombres)]], columns=nombres)\n",
    "df"
   ]
  },
  {
   "cell_type": "code",
   "execution_count": null,
   "metadata": {},
   "outputs": [],
   "source": [
    "df.to_excel(\"santander.xlsx\", index=False)\n",
    "driver.close()"
   ]
  },
  {
   "cell_type": "markdown",
   "metadata": {},
   "source": [
    "### IBEX \n"
   ]
  },
  {
   "cell_type": "code",
   "execution_count": null,
   "metadata": {},
   "outputs": [],
   "source": [
    "\n",
    "# setup chrome options\n",
    "#chrome_options = webdriver.ChromeOptions()\n",
    "#chrome_options.add_argument('--headless') # ensure GUI is off\n",
    "#chrome_options.add_argument('--no-sandbox')\n",
    "#chrome_options.add_argument('--disable-dev-shm-usage')\n",
    "\n",
    "# set path to chromedriver as per your configuration\n",
    "#chromedriver_autoinstaller.install()\n",
    "\n",
    "\n",
    "# set up the webdriver\n",
    "driver = webdriver.Chrome(options=chrome_options)\n",
    "\n",
    "url = 'https://es.investing.com/indices/spain-35'\n",
    "driver.get(url)\n",
    "          "
   ]
  },
  {
   "cell_type": "code",
   "execution_count": null,
   "metadata": {},
   "outputs": [],
   "source": [
    "from selenium.webdriver.common.by import By\n",
    "from selenium.webdriver.chrome.options import Options\n",
    "import time\n",
    "\n",
    "try:\n",
    "    cookies = driver.find_element(By.ID, \"onetrust-accept-btn-handler\")\n",
    "    cookies.click()\n",
    "    print(\"Cookies aceptadas.\")\n",
    "except Exception as e:\n",
    "    print(\"No se encontró el botón de aceptar cookies o ocurrió un error:\", e)"
   ]
  },
  {
   "cell_type": "code",
   "execution_count": null,
   "metadata": {
    "colab": {
     "base_uri": "https://localhost:8080/"
    },
    "id": "zfqQoT_d-xRh",
    "outputId": "150ed46f-388b-4067-82e2-7794028f7f81"
   },
   "outputs": [],
   "source": [
    "\n",
    "try:\n",
    "    elemento = driver.find_element(By.CSS_SELECTOR, '[data-test=\"most-active-stocks-table\"]')\n",
    "    table = elemento.find_element(By.TAG_NAME, \"table\")\n",
    "    print(\"Tabla seleccionada\")\n",
    "except Exception as e:\n",
    "    print(\"No se encontró el elemento:\", e)\n",
    "            "
   ]
  },
  {
   "cell_type": "markdown",
   "metadata": {
    "id": "i8YpXpyY-xRi"
   },
   "source": [
    "Vamos fila a fila"
   ]
  },
  {
   "cell_type": "code",
   "execution_count": null,
   "metadata": {
    "id": "00TfeTGK-xRi"
   },
   "outputs": [],
   "source": [
    "\n",
    "try:\n",
    "    filas = table.find_elements(By.TAG_NAME, \"tr\") # elements porque hay más de 1\n",
    "    print(len(filas))\n",
    "except Exception as e:\n",
    "    print(\"No se encontró el elemento:\", e)"
   ]
  },
  {
   "cell_type": "markdown",
   "metadata": {},
   "source": [
    "Cabeceras"
   ]
  },
  {
   "cell_type": "code",
   "execution_count": null,
   "metadata": {},
   "outputs": [],
   "source": [
    "cabecera_els = filas[0].find_elements(By.TAG_NAME, \"th\")\n",
    "cabecera = []\n",
    "for cab in cabecera_els:\n",
    "    cabecera.append(cab.text)\n",
    "len(cabecera),cabecera    "
   ]
  },
  {
   "cell_type": "markdown",
   "metadata": {},
   "source": [
    "Echamos un vistazo a las filas 1 a 1"
   ]
  },
  {
   "cell_type": "code",
   "execution_count": null,
   "metadata": {},
   "outputs": [],
   "source": [
    "tabla = []\n",
    "for i,fila in enumerate(filas[1:]):\n",
    "    print(\"Fila \",i,end=\" \")\n",
    "    fdatos = []\n",
    "    try:\n",
    "        cols = fila.find_elements(By.TAG_NAME, \"td\") # elements porque hay más de 1\n",
    "        print(\"Columnas \",len(cols))\n",
    "        for j,col in enumerate(cols):\n",
    "            print(\"Columna \",j,col.text)\n",
    "            fdatos.append(col.text)\n",
    "    except Exception as e:\n",
    "        print(\"No se encontró el elemento:\", e)\n",
    "    tabla.append(fdatos)\n",
    "    print(\"=\"*100)"
   ]
  },
  {
   "cell_type": "code",
   "execution_count": null,
   "metadata": {},
   "outputs": [],
   "source": [
    "tabla"
   ]
  },
  {
   "cell_type": "code",
   "execution_count": null,
   "metadata": {},
   "outputs": [],
   "source": [
    "columnas = ['Nombre',\n",
    "  'Último',\n",
    "  'Anterior',\n",
    "  'Máximo',\n",
    "  'Mínimo',\n",
    "  '% Var.',\n",
    "  'Vol.',\n",
    "  'Abreviatura',          \n",
    "  'Fecha' ]"
   ]
  },
  {
   "cell_type": "markdown",
   "metadata": {
    "id": "EqrZ7U0w-xRj"
   },
   "source": [
    "Convertimos en un dataframe"
   ]
  },
  {
   "cell_type": "code",
   "execution_count": null,
   "metadata": {
    "id": "1rsxNqaM-xRj"
   },
   "outputs": [],
   "source": [
    "df = pd.DataFrame(tabla,columns = columnas)\n",
    "\n",
    "df"
   ]
  },
  {
   "cell_type": "code",
   "execution_count": null,
   "metadata": {
    "colab": {
     "base_uri": "https://localhost:8080/"
    },
    "id": "P-TdE-gS-xRk",
    "outputId": "72bc4662-df8e-4c5c-aa5c-bf9f153e8ddc"
   },
   "outputs": [],
   "source": [
    "df[[\"Abreviatura\",\"Nombre\"]] = df['Nombre'].str.split('\\n', expand=True)\n",
    "df"
   ]
  },
  {
   "cell_type": "code",
   "execution_count": null,
   "metadata": {
    "id": "sSAHw9VE-xSn"
   },
   "outputs": [],
   "source": [
    "df.to_excel(\"activos.xlsx\",index=False)"
   ]
  },
  {
   "cell_type": "code",
   "execution_count": null,
   "metadata": {
    "id": "QJFuEYxT-xSn"
   },
   "outputs": [],
   "source": []
  },
  {
   "cell_type": "code",
   "execution_count": null,
   "metadata": {
    "id": "LpwrWkDk-xSn"
   },
   "outputs": [],
   "source": []
  }
 ],
 "metadata": {
  "colab": {
   "provenance": []
  },
  "kernelspec": {
   "display_name": "Python 3 (ipykernel)",
   "language": "python",
   "name": "python3"
  },
  "language_info": {
   "codemirror_mode": {
    "name": "ipython",
    "version": 3
   },
   "file_extension": ".py",
   "mimetype": "text/x-python",
   "name": "python",
   "nbconvert_exporter": "python",
   "pygments_lexer": "ipython3",
   "version": "3.12.4"
  }
 },
 "nbformat": 4,
 "nbformat_minor": 4
}
