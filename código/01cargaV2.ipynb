{
 "cells": [
  {
   "cell_type": "markdown",
   "metadata": {
    "id": "sh5XqBxrRTv8"
   },
   "source": [
    "# Introducción a la ciencia de datos con Python\n",
    "###  Rafa Caballero\n",
    "\n",
    "# Caso práctico: carga de ficheros\n",
    "\n",
    "\n",
    "Puedes usar el siguiente índice para saltar a la sección adecuado\n",
    "\n",
    "\n",
    "**Índice**\n",
    "\n",
    "[Descarga de ficheros](#Descarga-de-ficheros)\n",
    "\n",
    "[Carga de ficheros CSV con Pandas](#Carga-de-ficheros-CSV-con-Pandas)\n",
    "\n",
    "[Carga de ficheros Excel con Pandas](#Carga-de-ficheros-Excel-con-Pandas)\n",
    "\n",
    "[Carga de ficheros JSON con Pandas](#Carga-de-ficheros-JSON-con-Pandas)\n",
    "\n",
    "[Extracción de información de ficheros PDF](#Carga-de-ficheros-PDF)\n",
    "\n",
    "[Extracción de tablas WEB](#Extracción-de-tablas-WEB)\n",
    "\n"
   ]
  },
  {
   "cell_type": "markdown",
   "metadata": {
    "id": "ZEZA4oyq2N5H"
   },
   "source": [
    "<a name=\"Descarga-de-ficheros\"></a>\n",
    "### Descarga de ficheros\n",
    "\n",
    "Como veremos, en algunos casos las librerías correspondientes nos permitirán cargar directamente datos a partir de un enlace en internet. Sin embargo, en otras ocasiones tendremos que seguir dos pasos\n",
    "\n",
    "  1.- Descargar el fichero que queramos usando la librería `requests`\n",
    "\n",
    "  2.- Manipular el fichero, ya en local, mediante la librería adecuada\n",
    "\n",
    "Vamos a ver un ejemplo muy sencillo de descarga del último fichero con los datos de inflación, donde el punto 2 es en este caso una grabación del fichero como fichero local."
   ]
  },
  {
   "cell_type": "code",
   "execution_count": null,
   "metadata": {
    "id": "Jkse5Wmx2Muw"
   },
   "outputs": [],
   "source": [
    "import requests\n",
    "url = \"https://www.bolsamadrid.es/docs/SBolsas/InformesSB/resumen.pdf\"\n",
    "nombre = \"resumen.pdf\"\n",
    "r = requests.get(url, allow_redirects=True) # el fichero queda en la variable r\n",
    "with open(nombre, 'wb') as f:\n",
    "    f.write(r.content) # ahora lo grabamos localmente\n",
    "\n",
    "print(r.status_code)"
   ]
  },
  {
   "cell_type": "markdown",
   "metadata": {
    "id": "blXzPsxO1l9E"
   },
   "source": [
    "Se puede comprabar si el fichero se ha descargado bien comprobando el `r.status_code`, que será 200 si todo ha sido correcto."
   ]
  },
  {
   "cell_type": "code",
   "execution_count": null,
   "metadata": {
    "id": "X6iT5Cch1qCM"
   },
   "outputs": [],
   "source": [
    "print(r.status_code)"
   ]
  },
  {
   "cell_type": "markdown",
   "metadata": {
    "id": "RuoeO5IP7hky"
   },
   "source": [
    "\n",
    "*   200: Todo ha ido bien\n",
    "*   301: La página redirige a otra; esto podemose evitarlo con `allow_redirects=True`\n",
    "*  400: El servidor no existe o el formato de algún parámetro es erróneo\n",
    "* 401: Error de autentificación\n",
    "* 403: No tenemos permisos para acceder al recurso\n",
    "* 404: El recurso no existe aunque el servidor sí\n",
    "* 503: El servidor existe pero no puede atender la demanda\n",
    "\n",
    "Por tanto el proceso ha tenido este aspecto:\n",
    "\n",
    "<img src=\"https://www.dataquest.io/wp-content/uploads/2019/09/api-request.svg\"></img>\n",
    "\n",
    "\n",
    "Además, [requests](https://docs.python-requests.org/) permite pasar parámetros, autenticarse con user, password, descargar de forma \"perezosa\" para ficheros que no caben en memoria, etc.\n",
    "\n",
    "También puede utilizarse para descargar páginas html y examinarlas extrayendo información. Sin embargo, para esto es preferible utilizar librerías como `BeautifulSoup` o, si se tiene que interaccionar con la página, `Selenium`\n",
    "\n",
    "La variable devuelta por requests (llamada `r` en este ejemplo) tiene dos partes:\n",
    "\n",
    "* El mensaje de error o de éxito `r.status_code`\n",
    "\n",
    "* Los datos en sí, `r.content`\n",
    "\n",
    "La instrucción\n",
    "\n",
    "```\n",
    "    with open(nombre, 'wb') as f:\n",
    "      f.write(r.content) # ahora lo grabamos localmente\n",
    "```\n",
    "\n",
    "graba el contenido (que es el fichero PDF, ahora mismo localizado en memoria) en un fichero local con el nombre que incluya la variable `nombre`\n"
   ]
  },
  {
   "cell_type": "markdown",
   "metadata": {
    "id": "_2gwz97i7R30"
   },
   "source": [
    "**Ejercicio 1** Descargar el Balance de Actividad del año 2021 disponible en \"https://www.bolsasymercados.es/docs/infmercado/2021/esp/IM2021.pdf\". Grabar el fichero localmente con nombre \"informe21.pdf\"\n",
    "\n",
    "Mostrar el status de la descarga a ver si todo está bien"
   ]
  },
  {
   "cell_type": "code",
   "execution_count": null,
   "metadata": {
    "id": "Ebpwd3Ud7jfz"
   },
   "outputs": [],
   "source": []
  },
  {
   "cell_type": "markdown",
   "metadata": {
    "id": "4SNRocmY8gHs"
   },
   "source": [
    "**Ejercicio 2** Probar a modificar la URL para que corresponda al ejercicio 2022:\n",
    "\n",
    "https://www.bolsasymercados.es/docs/infmercado/2021/esp/IM2022.pdf\n",
    "\n",
    "y comprobar que el status nos devuelve un error. Grabar el fichero localmente con nombre \"informe22.pdf\"\n"
   ]
  },
  {
   "cell_type": "code",
   "execution_count": null,
   "metadata": {
    "id": "H1iBQfVMzpB9"
   },
   "outputs": [],
   "source": []
  },
  {
   "cell_type": "markdown",
   "metadata": {
    "id": "W4zGUrM2RTwB"
   },
   "source": [
    "<a name=\"Carga-de-ficheros-CSV-con-Pandas\"></a>\n",
    "### Carga de ficheros CSV con Pandas"
   ]
  },
  {
   "cell_type": "markdown",
   "metadata": {
    "id": "wKlMeih6RTwC"
   },
   "source": [
    "[read_csv](https://pandas.pydata.org/docs/reference/api/pandas.read_csv.html) y [read_excel](https://pythonbasics.org/read-excel/) permiten leer ficheros separados por un carácter y ficheros excel\n",
    "En ambos casos devuelven un dataframe: una tabla en Pandas que representa el conjunto de datos en memoria\n",
    "\n",
    "\n",
    "##### read_csv\n",
    "\n",
    "El principal parámetro es la dirección donde se encuentra el fichero. Algunos parámetros comunes de read_csv\n",
    "\n",
    "- sep: el separador, por defecto “,”\n",
    "- Header: para indicar si la primera línea contiene la cabecera (por defecto True)\n",
    "- Thousands, decimal: separadores de miles y de decimales\n",
    "- encoding: codificación de caracteres. Deber ser una codificaciones estándar\n"
   ]
  },
  {
   "cell_type": "code",
   "execution_count": null,
   "metadata": {
    "id": "1hkcX3S2RTwF"
   },
   "outputs": [],
   "source": [
    "import pandas as pd # normalmente pandas se renombra como pd\n",
    "fichero = 'https://raw.githubusercontent.com/RafaelCaballero/tdm/master/datos/madrid/contaminacionLargo.csv'\n",
    "df = pd.read_csv(fichero)\n",
    "df"
   ]
  },
  {
   "cell_type": "code",
   "execution_count": null,
   "metadata": {
    "id": "N5soZiXEzpB_"
   },
   "outputs": [],
   "source": [
    "\n",
    "df2 = df[(df.fecha>'2019-01-11') & (df.fecha<'2019-02-10')]\n",
    "df2.index=df2.fecha\n",
    "df2[\"CO\"].plot()"
   ]
  },
  {
   "cell_type": "markdown",
   "metadata": {
    "id": "IT2CsqCFRTwH"
   },
   "source": [
    "El resultado es un dataframe; una tabla de pandas que utilizaremos como nuestro principal almacen de datos. Si el fichero no tiene el formato adecuado, por ejemplo, por la codificación, podemos obtener un error"
   ]
  },
  {
   "cell_type": "code",
   "execution_count": null,
   "metadata": {
    "id": "ZmH2-euwRTwI"
   },
   "outputs": [],
   "source": [
    "\"\"\"\n",
    "fichero = \"https://raw.githubusercontent.com/RafaelCaballero/tdm/master/datos/parocomunidades.csv\"\n",
    "df2 = pd.read_csv(fichero)\n",
    "\"\"\""
   ]
  },
  {
   "cell_type": "code",
   "execution_count": null,
   "metadata": {
    "id": "th6b_3i-RTwK"
   },
   "outputs": [],
   "source": [
    "import pandas as pd\n",
    "fichero = \"https://raw.githubusercontent.com/RafaelCaballero/tdm/master/datos/parocomunidades.csv\"\n",
    "df2 = pd.read_csv(fichero,encoding=\"latin1\") # o cp1252\n",
    "df2"
   ]
  },
  {
   "cell_type": "markdown",
   "metadata": {
    "id": "dc82BnanzpB_"
   },
   "source": [
    "Ver https://python.readthedocs.io/en/stable/library/codecs.html#standard-encodings para una lista completa de codificaciones"
   ]
  },
  {
   "cell_type": "markdown",
   "metadata": {
    "id": "d0FXynqqRTwL"
   },
   "source": [
    "##### to_csv\n",
    "La función de pandas [to_csv](https://pandas.pydata.org/docs/reference/api/pandas.DataFrame.to_csv.html#pandas.DataFrame.to_csv) permite grabar un dataframe en formato csv, debemos recordar 2 cosas principalmente:\n",
    "- se encuentra dentro del objeto dataframe, por eso pondremos df.to_csv, y no pd.to_csv\n",
    "- Conviene añadir el parámetro index=False para que no incluya el índice o número de línea"
   ]
  },
  {
   "cell_type": "code",
   "execution_count": null,
   "metadata": {
    "id": "XMF7VS5URTwM"
   },
   "outputs": [],
   "source": [
    "fichero = r\".\\parocomunidades.csv\"\n",
    "df2.to_csv(fichero, index=False, encoding=\"utf-8\")"
   ]
  },
  {
   "cell_type": "markdown",
   "metadata": {
    "id": "jY6r8MafRTwN"
   },
   "source": [
    "**Ejercicio 3**: cargar el fichero que acabamos de grabar y mostrarlo en el notebook"
   ]
  },
  {
   "cell_type": "code",
   "execution_count": null,
   "metadata": {
    "id": "AJETkBuCRTwO"
   },
   "outputs": [],
   "source": [
    "# solución\n"
   ]
  },
  {
   "cell_type": "markdown",
   "metadata": {
    "id": "_DD1lqKyRTwP"
   },
   "source": [
    "<a name=\"Carga-de-ficheros-Excel-con-Pandas\"></a>\n",
    "### Carga de ficheros Excel con Pandas"
   ]
  },
  {
   "cell_type": "markdown",
   "metadata": {
    "id": "SgT6lFh2RTwQ"
   },
   "source": [
    "##### read_excel\n",
    "La lectura con pd.read_excel utiliza internamente otro librería `xlrd` que habra que instalar sino está en el sistema. Este ejemplo carga un fichero con valores bursátiles"
   ]
  },
  {
   "cell_type": "code",
   "execution_count": null,
   "metadata": {
    "id": "UNiJYtZwRTwR"
   },
   "outputs": [],
   "source": [
    "import pandas as pd\n",
    "fichero='https://github.com/RafaelCaballero/tdm/raw/master/datos/raw_open.xlsx'\n",
    "df = pd.read_excel(fichero)\n",
    "df"
   ]
  },
  {
   "cell_type": "markdown",
   "metadata": {
    "id": "Cxvw3ZWhRTwS"
   },
   "source": [
    "En el caso de múltiples páginas obtendremos un vector de dataframes. En este ejemplo cargamos datos de accidentes por distritos en la ciudad de Madrid. Se trata de un \"libro\" excel con hojas de nombre '2009', ..., '2016'\n",
    "\n",
    "Ojo: para manejar esta posibilidad necesitaremos una versión actualizada de xlrd"
   ]
  },
  {
   "cell_type": "code",
   "execution_count": null,
   "metadata": {
    "id": "8t_xaN2VRTwS"
   },
   "outputs": [],
   "source": [
    "#!pip install --upgrade xlrd"
   ]
  },
  {
   "cell_type": "code",
   "execution_count": null,
   "metadata": {
    "id": "s3yJp68URTwT"
   },
   "outputs": [],
   "source": [
    "import pandas as pd\n",
    "fichero = \"https://github.com/RafaelCaballero/tdm/raw/master/datos/madrid/accidentes_madrid_2009_2016.xlsx\"\n",
    "df_acc = pd.read_excel(fichero,sheet_name='2016')\n",
    "df_acc"
   ]
  },
  {
   "cell_type": "markdown",
   "metadata": {
    "id": "VaLk0LehRTwU"
   },
   "source": [
    "La grabación de ficheros excel se realiza con la función de pandas to_excel, asociada al dataframe. Esta función depende a su vez de dos librerías\n",
    "\n",
    "\n",
    "    - xlwt para grabar ficheros .xls  (formato hasta Excel2003)\n",
    "    - openpyxl para ficheros .xlsx (Excel2007 o posterior).\n",
    "\n"
   ]
  },
  {
   "cell_type": "code",
   "execution_count": null,
   "metadata": {
    "id": "IH-5Q-zFRTwU"
   },
   "outputs": [],
   "source": [
    "df_acc.to_excel(\"./accidentes.xlsx\")"
   ]
  },
  {
   "cell_type": "markdown",
   "metadata": {
    "id": "Y4kwfa-9RTwV"
   },
   "source": [
    "**Ejercicio 5**\n",
    "Cargar el fichero situado en https://raw.githubusercontent.com/RafaelCaballero/tdm/master/datos/ciudades_ejemplo.csv\n",
    "como un dataframe Pandas, y grabarlo a continuación en formato excel."
   ]
  },
  {
   "cell_type": "code",
   "execution_count": null,
   "metadata": {
    "id": "Zh7pFi0SRTwV"
   },
   "outputs": [],
   "source": [
    "# solución\n"
   ]
  },
  {
   "cell_type": "markdown",
   "metadata": {
    "id": "fz4FVmcxzpCA"
   },
   "source": [
    "<a name=\"Carga-de-ficheros-JSON-con-Pandas\"></a>\n",
    "### Lectura de ficheros JSON con Pandas"
   ]
  },
  {
   "cell_type": "code",
   "execution_count": null,
   "metadata": {
    "id": "B4ubDLspzpCE"
   },
   "outputs": [],
   "source": [
    "url = \"https://ucmdrive.ucm.es/s/ZfHGwYfi2zzJgq2/download/labs_co2.json\"\n",
    "import pandas as pd\n",
    "df = pd.read_json(url)\n",
    "df"
   ]
  },
  {
   "cell_type": "markdown",
   "metadata": {
    "id": "l9dfnYlszpCE"
   },
   "source": [
    "**Ejercicio** Mostrar en qué fecha y hora el laboratorio 5 tuvo mayor temperatura"
   ]
  },
  {
   "cell_type": "code",
   "execution_count": null,
   "metadata": {
    "id": "nnlzLnF4zpCE"
   },
   "outputs": [],
   "source": []
  },
  {
   "cell_type": "markdown",
   "metadata": {
    "id": "yZ2PSSZqRTwV"
   },
   "source": [
    "<a name=\"Carga-de-ficheros-PDF\"></a>\n",
    "### Extracción de información de ficheros PDF\n",
    "\n",
    "Este es un tema complejo porque va a depender mucho del formato del interno del PDF. En los casos más sencillos podremos extraer por ejemplo tablas de datos con el paquete tabula-py"
   ]
  },
  {
   "cell_type": "code",
   "execution_count": null,
   "metadata": {
    "id": "ZcP0gyFTJT-4"
   },
   "outputs": [],
   "source": [
    "!pip install tabula-py\n",
    "#!pip install tabulate"
   ]
  },
  {
   "cell_type": "code",
   "execution_count": null,
   "metadata": {
    "id": "KlLBW7uHJZrK"
   },
   "outputs": [],
   "source": [
    "from tabula import read_pdf\n",
    "\n",
    "fichero = \"./resumen.pdf\"\n",
    "\n",
    "# extraer tablas del fichero\n",
    "df = read_pdf(fichero,pages=1)[0]  # 0 porque nos quedamos con la primera tabla\n",
    "\n",
    "df"
   ]
  },
  {
   "cell_type": "code",
   "execution_count": null,
   "metadata": {
    "id": "XB7k_Oq1R66W"
   },
   "outputs": [],
   "source": [
    "# Configurar pandas para no usar notación exponencial y mostrar números completos\n",
    "pd.set_option('display.float_format', '{:.2f}'.format)\n",
    "\n",
    "# lo grabamos como csv\n",
    "fichero = \"tabla.csv\"\n",
    "df.to_csv(fichero,index=False)\n",
    "\n",
    "# leer el fichero tabla.csv teniendo indicando que no tiene cabecera y el formato de los números es el de España\n",
    "df2 = pd.read_csv(fichero, header=None,thousands='.', decimal=',')\n",
    "df2.columns = [\"Índice\", \"Anterior\", \"Cierre\", \"Dif\", \"Dif %\", \"Medio\", \"Capitalización €\"]\n",
    "df2"
   ]
  },
  {
   "cell_type": "markdown",
   "metadata": {
    "id": "7PrDDa15NVCQ"
   },
   "source": [
    "Ahora podemos grabar el fichero en formato CSV"
   ]
  },
  {
   "cell_type": "code",
   "execution_count": null,
   "metadata": {
    "id": "ai6R-yRpRTwW"
   },
   "outputs": [],
   "source": [
    "df2.to_csv(\"resumen.csv\")"
   ]
  },
  {
   "cell_type": "markdown",
   "metadata": {
    "id": "3FofZhtNP2ka"
   },
   "source": [
    "Proximamente veremos como manipular esta información, de momento calculemos por ejemplo la media de la columna Dif"
   ]
  },
  {
   "cell_type": "code",
   "execution_count": null,
   "metadata": {
    "id": "v6QdSb-9RWRz"
   },
   "outputs": [],
   "source": [
    "df2.Dif.mean()"
   ]
  },
  {
   "cell_type": "markdown",
   "metadata": {
    "id": "iNnBE9hhWseT"
   },
   "source": [
    "**Ejercicio 6** Grabar el fichero en formato excel, con nombre \"resumen.xlsx\""
   ]
  },
  {
   "cell_type": "code",
   "execution_count": null,
   "metadata": {
    "id": "mTH4xE0t83eh"
   },
   "outputs": [],
   "source": [
    "# solución\n"
   ]
  },
  {
   "cell_type": "markdown",
   "metadata": {
    "id": "u6DFzgfezpCF"
   },
   "source": [
    "<a name=\"Extracción-de-tablas-WEB\"></a>\n",
    "### Extracción de tablas WEB"
   ]
  },
  {
   "cell_type": "markdown",
   "metadata": {
    "id": "rPrhQo_VzpCF"
   },
   "source": [
    "El método `read_html`lee todas las tablas en una página web"
   ]
  },
  {
   "cell_type": "code",
   "execution_count": null,
   "metadata": {
    "id": "nDAyX9SuzpCF"
   },
   "outputs": [],
   "source": [
    "import requests\n",
    "import pandas as pd\n",
    "\n",
    "url = 'https://datosmacro.expansion.com/paro-epa/espana-comunidades-autonomas'\n",
    "df_list = pd.read_html(url)\n",
    "df = df_list[-1] # la última tabla\n",
    "df"
   ]
  },
  {
   "cell_type": "code",
   "execution_count": null,
   "metadata": {},
   "outputs": [],
   "source": []
  }
 ],
 "metadata": {
  "colab": {
   "provenance": []
  },
  "kernelspec": {
   "display_name": "Python 3 (ipykernel)",
   "language": "python",
   "name": "python3"
  },
  "language_info": {
   "codemirror_mode": {
    "name": "ipython",
    "version": 3
   },
   "file_extension": ".py",
   "mimetype": "text/x-python",
   "name": "python",
   "nbconvert_exporter": "python",
   "pygments_lexer": "ipython3",
   "version": "3.12.4"
  }
 },
 "nbformat": 4,
 "nbformat_minor": 4
}
