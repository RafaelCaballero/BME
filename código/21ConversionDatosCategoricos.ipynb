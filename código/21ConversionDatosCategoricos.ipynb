{
  "cells": [
    {
      "cell_type": "markdown",
      "id": "d0f5b008",
      "metadata": {
        "id": "d0f5b008"
      },
      "source": [
        "<table>\n",
        "    <tr>\n",
        "      <td>Introducción a\n",
        "      </td>\n",
        "      <td>\n",
        "      <img src=\"https://media.licdn.com/dms/image/D5612AQF7GSp3l4pztQ/article-cover_image-shrink_720_1280/0/1686548640655?e=1715817600&v=beta&t=WQzv1EMkEEwZ0QZ0PF1anRKIHCl5BBH_YPZHdDQsWPM\"  width=150/>\n",
        "      </td>\n",
        "     </tr>\n",
        "</table>\n",
        "Rafa Caballero\n",
        "\n",
        "\n",
        "\n",
        "# Conversión de datos categóricos\n",
        "\n",
        "### Índice\n",
        "[Introducción](#Intro)<br>\n",
        "[Nulos](#Nulos)<br>\n",
        "[Tipos](#Tipos)<br>\n",
        "[Variables binarias](#Binarias)<br>\n",
        "[One-Hot Encoding](#One)<br>\n",
        "[Labeling](#Labeling)<br>\n",
        "[Bibliografía](#Bibliografía)<br>\n",
        "\n",
        "<a name=\"Intro\"></a>\n",
        "#### Introducción\n",
        "En muchos algoritmo de inteligencia artificial vamos a necesitar que todos los datos sean numéricos, y más en particular valores sobre los que tenga sentido medir distancias. Por ello una labor importante tras finalizar todos los pasos de limpieza básicos (tratar nulos, duplicados, outliers, hacer giros y agrupar si hace falta, realizar estadísticas básicas, etc.) será convertir las columnas nominales u ordinales (tengan representación numérica o no) a columnas de tipo intervalo/ratio.\n",
        "\n",
        "El método preferido será el conocido como one-hot-encoding porque preserva las distancias\n",
        "\n",
        "<img src=\"https://i.imgur.com/mtimFxh.png\" />\n",
        "\n",
        "Veamos un [ejemplo](https://pbpython.com/categorical-encoding.html):"
      ]
    },
    {
      "cell_type": "code",
      "execution_count": null,
      "id": "5e19de35",
      "metadata": {
        "id": "5e19de35"
      },
      "outputs": [],
      "source": [
        "import pandas as pd\n",
        "url = \"https://archive.ics.uci.edu/ml/machine-learning-databases/autos/imports-85.data\"\n",
        "cabeceras = [\"symboling\", \"normalized_losses\", \"make\", \"fuel_type\", \"aspiration\",\n",
        "           \"num_doors\", \"body_style\", \"drive_wheels\", \"engine_location\",\n",
        "           \"wheel_base\", \"length\", \"width\", \"height\", \"curb_weight\",\n",
        "           \"engine_type\", \"num_cylinders\", \"engine_size\", \"fuel_system\",\n",
        "           \"bore\", \"stroke\", \"compression_ratio\", \"horsepower\", \"peak_rpm\",\n",
        "           \"city_mpg\", \"highway_mpg\", \"price\"]\n",
        "df = pd.read_csv(url,header=None, names=cabeceras)\n",
        "df"
      ]
    },
    {
      "cell_type": "markdown",
      "id": "2fdcd339",
      "metadata": {
        "id": "2fdcd339"
      },
      "source": [
        "<a name=\"Nulos\"></a>\n",
        "#### Nulos\n",
        "\n",
        "En este cuardeno no vamos a tratar los nulos en profundidad, solo echamos un vistazo y hacemos lo más sencillo.\n",
        "Parece que el valor ? significa valor desconocido, vamos a convertirlo en NA. Primero miramos cuántos hay"
      ]
    },
    {
      "cell_type": "code",
      "execution_count": null,
      "id": "65384a42",
      "metadata": {
        "id": "65384a42"
      },
      "outputs": [],
      "source": [
        "(df=='?').sum().sum()"
      ]
    },
    {
      "cell_type": "code",
      "execution_count": null,
      "id": "8c7e38cf",
      "metadata": {
        "id": "8c7e38cf"
      },
      "outputs": [],
      "source": [
        "df2 = df.replace('?',pd.NA)\n",
        "print(df2.shape)\n",
        "df2.info()"
      ]
    },
    {
      "cell_type": "code",
      "execution_count": null,
      "id": "f47e4f33",
      "metadata": {
        "id": "f47e4f33"
      },
      "outputs": [],
      "source": [
        "df2.isna().sum()"
      ]
    },
    {
      "cell_type": "code",
      "execution_count": null,
      "id": "1f1adc18",
      "metadata": {
        "id": "1f1adc18"
      },
      "outputs": [],
      "source": [
        "#pip install missingno"
      ]
    },
    {
      "cell_type": "code",
      "execution_count": null,
      "id": "99f5333a",
      "metadata": {
        "id": "99f5333a"
      },
      "outputs": [],
      "source": [
        "import seaborn as sns\n",
        "import missingno as msno\n",
        "%matplotlib inline\n",
        "\n",
        "msno.bar(df2)"
      ]
    },
    {
      "cell_type": "code",
      "execution_count": null,
      "id": "562be829",
      "metadata": {
        "id": "562be829"
      },
      "outputs": [],
      "source": [
        "msno.matrix(df2)"
      ]
    },
    {
      "cell_type": "markdown",
      "id": "90c63e2c",
      "metadata": {
        "id": "90c63e2c"
      },
      "source": [
        "Como solución sencilla borramos la columna `normalized_loses` y luego las filas que tengan algún nulo (esto no es nada \"fino\" pero vale para nuestro propósito)"
      ]
    },
    {
      "cell_type": "code",
      "execution_count": null,
      "id": "c554e936",
      "metadata": {
        "id": "c554e936"
      },
      "outputs": [],
      "source": [
        "df3 = df2.drop(columns=[\"normalized_losses\"]).dropna()\n",
        "msno.matrix(df3)"
      ]
    },
    {
      "cell_type": "markdown",
      "id": "14746470",
      "metadata": {
        "id": "14746470"
      },
      "source": [
        "<a name=\"Tipos\"></a>\n",
        "#### Tipos\n",
        "\n",
        "Vamos a ver de qué tipo es cada columna ya que aquí estamos sobre todo interesados en las nominales/ordinales. Pero antes vamos a usar un \"truco\" para simplicar esta tarea:\n",
        "\n",
        "- Algunos valores numéricos pueden haberse leído como strings por culpa de los nulos\n",
        "- Una forma sencilla de convertir es simplemente grabarlo como csv y volver a leer porque así pandas hace la inferencia automática"
      ]
    },
    {
      "cell_type": "code",
      "execution_count": null,
      "id": "76ef9fad",
      "metadata": {
        "id": "76ef9fad"
      },
      "outputs": [],
      "source": [
        "from pathlib import Path\n",
        "path = Path.cwd()\n",
        "path_procesado = Path(path,\"procesado\")\n",
        "path_procesado.mkdir(exist_ok=True)\n",
        "fichero = Path(path_procesado,\"sin_nulos.csv\")\n",
        "\n",
        "df3.to_csv(fichero,index=False)\n",
        "df3 = pd.read_csv(fichero)"
      ]
    },
    {
      "cell_type": "code",
      "execution_count": null,
      "id": "88bf99ae",
      "metadata": {
        "id": "88bf99ae"
      },
      "outputs": [],
      "source": [
        "numericas = df3.select_dtypes(\"number\")\n",
        "numericas"
      ]
    },
    {
      "cell_type": "markdown",
      "id": "8ab18d58",
      "metadata": {
        "id": "8ab18d58"
      },
      "source": [
        "symboling parece nominal, buscando información sobre esta columna encontramos:  \n",
        "*A value of +3 indicates that the auto is risky, -3 that it is probably pretty safe.*"
      ]
    },
    {
      "cell_type": "code",
      "execution_count": null,
      "id": "bcd6987e",
      "metadata": {
        "id": "bcd6987e"
      },
      "outputs": [],
      "source": [
        "df3.symboling.value_counts()"
      ]
    },
    {
      "cell_type": "code",
      "execution_count": null,
      "id": "71ad2ffa",
      "metadata": {
        "id": "71ad2ffa"
      },
      "outputs": [],
      "source": [
        "s = set(df3.columns).difference(set(numericas.columns))\n",
        "columnas = list(s)"
      ]
    },
    {
      "cell_type": "code",
      "execution_count": null,
      "id": "d8b024f7",
      "metadata": {
        "id": "d8b024f7"
      },
      "outputs": [],
      "source": [
        "df3[columnas]"
      ]
    },
    {
      "cell_type": "markdown",
      "id": "db6606b4",
      "metadata": {
        "id": "db6606b4"
      },
      "source": [
        "Parece que num_doors y num_cylinders son en realidad tipo ratio, las eliminanos (como curiosidad las vamos a convertir antes)"
      ]
    },
    {
      "cell_type": "code",
      "execution_count": null,
      "id": "d1546ade",
      "metadata": {
        "id": "d1546ade"
      },
      "outputs": [],
      "source": [
        "!pip install word2number"
      ]
    },
    {
      "cell_type": "code",
      "execution_count": null,
      "id": "2ce9c593",
      "metadata": {
        "id": "2ce9c593"
      },
      "outputs": [],
      "source": [
        "from word2number.w2n import word_to_num\n",
        "\n",
        "word_to_num(\"three\")"
      ]
    },
    {
      "cell_type": "code",
      "execution_count": null,
      "id": "06e09cc5",
      "metadata": {
        "id": "06e09cc5"
      },
      "outputs": [],
      "source": [
        "df4 = df3.copy()\n",
        "df4[\"num_doors\"] = df3.num_doors.map(word_to_num)\n",
        "df4[\"num_cylinders\"] = df3.num_cylinders.map(word_to_num)\n",
        "df4[\"symboling\"] = \"v\"+df3.symboling.astype(\"str\")\n",
        "df4[[\"num_doors\",\"num_cylinders\",\"symboling\"] ]"
      ]
    },
    {
      "cell_type": "markdown",
      "id": "3cb9e89e",
      "metadata": {
        "id": "3cb9e89e"
      },
      "source": [
        "<a name=\"Binarias\"></a>\n",
        "#### Variables binarias\n",
        "\n",
        "¿Hemos acabado seleccionando variables nominales para transformarlas? Casi, casi, pero aun se puede mirar algo...qué columnas toman solo 2 valores"
      ]
    },
    {
      "cell_type": "code",
      "execution_count": null,
      "id": "3c60642d",
      "metadata": {
        "id": "3c60642d"
      },
      "outputs": [],
      "source": [
        "numericas = df4.select_dtypes(include=[\"number\"])\n",
        "s = set(df4.columns).difference(set(numericas))\n",
        "columnas = list(s)\n",
        "for c in columnas:\n",
        "    print(c,len(df4[c].unique()))\n"
      ]
    },
    {
      "cell_type": "markdown",
      "id": "60c0aa00",
      "metadata": {
        "id": "60c0aa00"
      },
      "source": [
        "Las variables que tiene solo 2 valores no necesitan one-hot-encoding, las podemos transformar directamente en 0 y 1\n"
      ]
    },
    {
      "cell_type": "code",
      "execution_count": null,
      "id": "9198dfaf",
      "metadata": {
        "id": "9198dfaf"
      },
      "outputs": [],
      "source": [
        "df5 = df4.copy()\n",
        "transformados = []\n",
        "for c in columnas:\n",
        "    valores = df4[c].unique()\n",
        "    if len(valores) == 2:\n",
        "        # vamos a construir un diccionario con los dos valores a 0 y a 1\n",
        "        df5[c] = df4[c].replace({valores[0]:0, valores[1]:1})\n",
        "        transformados.append([c,valores[0],valores[1]])\n",
        "df5"
      ]
    },
    {
      "cell_type": "markdown",
      "id": "6f17c3c1",
      "metadata": {
        "id": "6f17c3c1"
      },
      "source": [
        "Resulta útil guardar los valores transformados por si luego hay que hacer la transformación inversa"
      ]
    },
    {
      "cell_type": "code",
      "execution_count": null,
      "id": "db89e3e3",
      "metadata": {
        "id": "db89e3e3"
      },
      "outputs": [],
      "source": [
        "df_transformados = pd.DataFrame(data=transformados,columns=[\"columna\",\"valor0\",\"valor1\"])\n",
        "df_transformados"
      ]
    },
    {
      "cell_type": "code",
      "execution_count": null,
      "id": "03a9d2f4",
      "metadata": {
        "id": "03a9d2f4"
      },
      "outputs": [],
      "source": [
        "file_binarias = Path(path_procesado,\"binarias.csv\")\n",
        "df_transformados.to_csv(file_binarias,index=False)"
      ]
    },
    {
      "cell_type": "markdown",
      "id": "6a1fd644",
      "metadata": {
        "id": "6a1fd644"
      },
      "source": [
        "Usamos el mismo truco de grabar y leer para recuperar los tipos\n"
      ]
    },
    {
      "cell_type": "code",
      "execution_count": null,
      "id": "2504614c",
      "metadata": {
        "id": "2504614c"
      },
      "outputs": [],
      "source": [
        "\n",
        "fichero = Path(path_procesado,\"con_binarias.csv\")\n",
        "\n",
        "df5.to_csv(fichero,index=False)\n",
        "df5 = pd.read_csv(fichero)\n",
        "df5"
      ]
    },
    {
      "cell_type": "markdown",
      "id": "5d853091",
      "metadata": {
        "id": "5d853091"
      },
      "source": [
        "<a name=\"One\"></a>\n",
        "#### One-Hot Encoding\n",
        "\n",
        "¡Por fin! Vamos a aplicar el método one-hot-encoding"
      ]
    },
    {
      "cell_type": "code",
      "execution_count": null,
      "id": "57dcaf02",
      "metadata": {
        "id": "57dcaf02"
      },
      "outputs": [],
      "source": [
        "nominales = df5.select_dtypes(exclude='bool').select_dtypes(exclude='number')\n",
        "nominales"
      ]
    },
    {
      "cell_type": "code",
      "execution_count": null,
      "id": "b6364721",
      "metadata": {
        "id": "b6364721"
      },
      "outputs": [],
      "source": [
        "from sklearn.preprocessing import OneHotEncoder\n",
        "enc = OneHotEncoder(handle_unknown='ignore',sparse=False)  # 1 método\n",
        "enc.fit(nominales)  #  2 el método \"aprende\"\n",
        "salida = enc.transform(nominales) # 3 aplicamos el método\n",
        "salida"
      ]
    },
    {
      "cell_type": "markdown",
      "id": "bf0d15e3",
      "metadata": {
        "id": "bf0d15e3"
      },
      "source": [
        "Afortunadamente es fácil convertir esta matriz en un dataframe"
      ]
    },
    {
      "cell_type": "code",
      "execution_count": null,
      "id": "99880c97",
      "metadata": {
        "id": "99880c97"
      },
      "outputs": [],
      "source": [
        "encoded_df = pd.DataFrame(\n",
        "     salida,\n",
        "     columns=enc.get_feature_names_out()\n",
        ")\n",
        "encoded_df"
      ]
    },
    {
      "cell_type": "markdown",
      "id": "8a5ea7bf",
      "metadata": {
        "id": "8a5ea7bf"
      },
      "source": [
        "Ahora juntamos todo: por un lado el dataframe restringido a las columnas que no se han visto afectadas por el one-hot-encoding y por otro el resultado del one-hot-encoding"
      ]
    },
    {
      "cell_type": "code",
      "execution_count": null,
      "id": "6a55fd6b",
      "metadata": {
        "id": "6a55fd6b"
      },
      "outputs": [],
      "source": [
        "resto_cs = list(set(df5.columns).difference(set(nominales.columns)))\n",
        "final = pd.concat([df5[resto_cs],encoded_df],axis=1)\n",
        "final"
      ]
    },
    {
      "cell_type": "markdown",
      "id": "63a111a7",
      "metadata": {
        "id": "63a111a7"
      },
      "source": [
        "Nota sobre **correlaciones y variables nominales**:\n",
        "\n",
        "\n",
        " En el caso de variables nominales es muy habitual la secuencia:\n",
        "1) Buscar asociaciones con  $\\mathcal{X}^2$ entre variables nominales, nos dice si hay alguna asociación pero no entre qué valores\n",
        "2) Convertir a variables dummy con one-hot-encoding\n",
        "3) Repetir las correlaciones, ahora ya como variables numéricas con `corr()`que nos mostrará posibles correlaciones con otras variables ratio y entre sí, pero ahora entre valores individuales de la variable nominal y distinguiendo entre correlación positiva y negativa"
      ]
    },
    {
      "cell_type": "markdown",
      "id": "f1c36555",
      "metadata": {
        "id": "f1c36555"
      },
      "source": [
        "\n",
        "<a name=\"Labeling\"></a>\n",
        "#### Labeling\n",
        "\n",
        "Hay veces que no hace falta complicarse tanto.\n",
        "\n",
        "\n",
        "Por ejemplo si es una variable a prededecir (la y):\n",
        "    1.- no queremos transformarla en varias\n",
        "    2.- No se van a calcular distancias con ellas\n",
        "    \n",
        "\n",
        "Otra caso es cuando el método a utilizar no es de naturaleza geométrica (árboles de decisión por ejemplo).\n",
        "\n",
        "En este caso podemos usar un label encoder. Por ejemplo supongamos que quiero codificar la columna `make`"
      ]
    },
    {
      "cell_type": "code",
      "execution_count": null,
      "id": "21fef136",
      "metadata": {
        "id": "21fef136"
      },
      "outputs": [],
      "source": [
        "df5"
      ]
    },
    {
      "cell_type": "code",
      "execution_count": null,
      "id": "d0e830ee",
      "metadata": {
        "id": "d0e830ee"
      },
      "outputs": [],
      "source": [
        "from sklearn.preprocessing import LabelEncoder\n",
        "\n",
        "df6 = df5.copy()\n",
        "\n",
        "enc = LabelEncoder()  # 1 método\n",
        "enc.fit(df5.make)  #  2 el método \"aprende\"\n",
        "df6[\"make\"] = enc.transform(df5.make) # 3 aplicamos el método\n",
        "df6\n"
      ]
    },
    {
      "cell_type": "markdown",
      "id": "f8aa4b60",
      "metadata": {
        "id": "f8aa4b60"
      },
      "source": [
        "Además tenemos la inversa a mano en cualquier momento:"
      ]
    },
    {
      "cell_type": "code",
      "execution_count": null,
      "id": "905cee18",
      "metadata": {
        "id": "905cee18"
      },
      "outputs": [],
      "source": [
        "enc.inverse_transform(df6.make)"
      ]
    },
    {
      "cell_type": "code",
      "execution_count": null,
      "id": "9e0a5909",
      "metadata": {
        "id": "9e0a5909"
      },
      "outputs": [],
      "source": [
        "enc.inverse_transform(list(range(21)))"
      ]
    },
    {
      "cell_type": "markdown",
      "id": "a22a861c",
      "metadata": {
        "id": "a22a861c"
      },
      "source": [
        "\n",
        "<a name=\"Bibliografía\"></a>\n",
        "#### Bibliografía\n",
        "\n",
        "[Otro tipo de encoders más complejos](https://pbpython.com/categorical-encoding.html)\n",
        "\n",
        "[Comparativa de one-hot encoding y otro método get_dummies](https://pythonsimplified.com/difference-between-onehotencoder-and-get_dummies/)"
      ]
    },
    {
      "cell_type": "code",
      "execution_count": null,
      "id": "1f34be0d",
      "metadata": {
        "id": "1f34be0d"
      },
      "outputs": [],
      "source": []
    }
  ],
  "metadata": {
    "kernelspec": {
      "display_name": "Python 3 (ipykernel)",
      "language": "python",
      "name": "python3"
    },
    "language_info": {
      "codemirror_mode": {
        "name": "ipython",
        "version": 3
      },
      "file_extension": ".py",
      "mimetype": "text/x-python",
      "name": "python",
      "nbconvert_exporter": "python",
      "pygments_lexer": "ipython3",
      "version": "3.11.3"
    },
    "colab": {
      "provenance": []
    }
  },
  "nbformat": 4,
  "nbformat_minor": 5
}