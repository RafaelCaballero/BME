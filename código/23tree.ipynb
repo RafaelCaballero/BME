{
  "cells": [
    {
      "cell_type": "markdown",
      "metadata": {
        "id": "view-in-github",
        "colab_type": "text"
      },
      "source": [
        "<a href=\"https://colab.research.google.com/github/RafaelCaballero/BME/blob/main/c%C3%B3digo/23tree.ipynb\" target=\"_parent\"><img src=\"https://colab.research.google.com/assets/colab-badge.svg\" alt=\"Open In Colab\"/></a>"
      ]
    },
    {
      "cell_type": "markdown",
      "id": "8a92b55a",
      "metadata": {
        "id": "8a92b55a"
      },
      "source": [
        "<table>\n",
        "    <tr>\n",
        "      <td>Introducción a\n",
        "      </td>\n",
        "      <td>\n",
        "      <img src=\"https://media.licdn.com/dms/image/D5612AQF7GSp3l4pztQ/article-cover_image-shrink_720_1280/0/1686548640655?e=1715817600&v=beta&t=WQzv1EMkEEwZ0QZ0PF1anRKIHCl5BBH_YPZHdDQsWPM\"  width=150/>\n",
        "      </td>\n",
        "     </tr>\n",
        "</table>\n",
        "Rafa Caballero\n",
        "\n",
        "\n",
        "### Machine Learning - Árboles de decisión\n",
        "\n"
      ]
    },
    {
      "cell_type": "markdown",
      "id": "efd0e595",
      "metadata": {
        "id": "efd0e595"
      },
      "source": [
        "#### Carga y preprocesado\n",
        "\n",
        "Vamos a intentar predecir en el caso del conjunto del titanic quién sobrevivió y quien no a partir de sus características"
      ]
    },
    {
      "cell_type": "code",
      "execution_count": null,
      "id": "c1df15ef",
      "metadata": {
        "id": "c1df15ef"
      },
      "outputs": [],
      "source": [
        "import matplotlib.pyplot as plt\n",
        "from sklearn.metrics import RocCurveDisplay\n",
        "from sklearn.metrics import roc_auc_score\n",
        "from sklearn.metrics import classification_report\n",
        "from sklearn.metrics import make_scorer,f1_score, accuracy_score, recall_score,cohen_kappa_score\n",
        "from sklearn.metrics import confusion_matrix\n",
        "import seaborn as sns\n",
        "import numpy as np\n",
        "\n",
        "\n",
        "def show_cm(y_real,y_pred):\n",
        "    labels = list(set(y_real))\n",
        "    cf_matrix = confusion_matrix(y_real, y_pred, labels=labels)\n",
        "    ax = sns.heatmap(cf_matrix/sum(cf_matrix), annot=True, fmt='.2', cmap='Blues')\n",
        "\n",
        "def show_results(y_real,y_pred):\n",
        "    print(\"Accuracy \",round(accuracy_score(y_real,y_pred),4),\\\n",
        "              \"\\nRecall \",round(recall_score(y_real,y_pred),4),\\\n",
        "              \"\\nKappa \", round(cohen_kappa_score(y_real,y_pred),4),)\n",
        "    print('\\nClassification Report: \\n', classification_report(y_real, y_pred))\n",
        "    show_cm(y_real,y_pred)\n",
        "\n"
      ]
    },
    {
      "cell_type": "code",
      "execution_count": null,
      "id": "8d677d7c",
      "metadata": {
        "id": "8d677d7c"
      },
      "outputs": [],
      "source": [
        "\n",
        "url = \"https://raw.githubusercontent.com/RafaelCaballero/tdm/master/datos/titanicyesno.csv\"\n",
        "import pandas as pd\n",
        "df = pd.read_csv(url)\n",
        "columnas = [\"survived\", \"pclass\", \"sex\", \"age\", \"sibsp\", \"parch\", \"fare\",\"embarked\"]\n",
        "df2 = df[columnas]\n",
        "df2 = df2.dropna()\n",
        "df2[\"survived\"] = df2.survived.replace(('yes', 'no'), (1, 0))\n",
        "df2[\"sex\"] = df2.sex.replace(('female', 'male'), (1, 0))\n",
        "df2 = pd.get_dummies(df2, columns=[\"embarked\"])\n",
        "\n",
        "\n",
        "df2"
      ]
    },
    {
      "cell_type": "code",
      "execution_count": null,
      "id": "a497b351",
      "metadata": {
        "id": "a497b351"
      },
      "outputs": [],
      "source": [
        "df2.to_csv(\"titanic_clean.csv\", index=False)"
      ]
    },
    {
      "cell_type": "code",
      "execution_count": null,
      "id": "0cc8fadf",
      "metadata": {
        "id": "0cc8fadf"
      },
      "outputs": [],
      "source": [
        "df"
      ]
    },
    {
      "cell_type": "markdown",
      "id": "fa6b813e",
      "metadata": {
        "id": "fa6b813e"
      },
      "source": [
        " Ahora estamos listos para aplicar machine learning. De los 4 pasos que describimos\n",
        "\n",
        "1 Obtener las columnas\n",
        "\n",
        "2 Dividir entre train y test\n",
        "\n",
        "3 Aplicar el método\n",
        "\n",
        "4 Evaluar\n",
        "\n"
      ]
    },
    {
      "cell_type": "code",
      "execution_count": null,
      "id": "c8b2f56d",
      "metadata": {
        "id": "c8b2f56d"
      },
      "outputs": [],
      "source": [
        "from sklearn.tree import DecisionTreeClassifier, plot_tree\n",
        "from sklearn.linear_model import LogisticRegression\n",
        "\n",
        "# 1\n",
        "XColumns = [c for c in df2.columns if c!=\"survived\"]\n",
        "yColumn = \"survived\"\n",
        "X = df2[XColumns]\n",
        "y = df2[yColumn]\n",
        "\n",
        "\n",
        "# 2  scikit-learn\n",
        "from sklearn.model_selection import train_test_split\n",
        "test = 0.4\n",
        "X_train, X_test, y_train, y_test = train_test_split(X, y, test_size= test)\n",
        "\n",
        "# 3\n",
        "metodo = DecisionTreeClassifier(min_samples_split=3,min_samples_leaf=4,max_depth=3) # es muy poco pero es para dibujarlo después\n",
        "modelo = metodo.fit(X_train,y_train)\n",
        "\n",
        "# 4\n",
        "y_pred = modelo.predict(X_test)\n",
        "show_results(y_test,y_pred)"
      ]
    },
    {
      "cell_type": "code",
      "execution_count": null,
      "id": "8e0516e3",
      "metadata": {
        "id": "8e0516e3"
      },
      "outputs": [],
      "source": [
        "fig = plt.figure(figsize=(25,20))\n",
        "plot_tree(metodo,filled=True,feature_names=XColumns, class_names=[\"no\",\"yes\"],fontsize=14)\n",
        "plt.show()"
      ]
    },
    {
      "cell_type": "code",
      "execution_count": null,
      "id": "0ecce111",
      "metadata": {
        "id": "0ecce111"
      },
      "outputs": [],
      "source": []
    },
    {
      "cell_type": "code",
      "execution_count": null,
      "id": "e39d73e1",
      "metadata": {
        "id": "e39d73e1"
      },
      "outputs": [],
      "source": []
    }
  ],
  "metadata": {
    "colab": {
      "provenance": [],
      "include_colab_link": true
    },
    "kernelspec": {
      "display_name": "Python 3 (ipykernel)",
      "language": "python",
      "name": "python3"
    },
    "language_info": {
      "codemirror_mode": {
        "name": "ipython",
        "version": 3
      },
      "file_extension": ".py",
      "mimetype": "text/x-python",
      "name": "python",
      "nbconvert_exporter": "python",
      "pygments_lexer": "ipython3",
      "version": "3.11.3"
    }
  },
  "nbformat": 4,
  "nbformat_minor": 5
}