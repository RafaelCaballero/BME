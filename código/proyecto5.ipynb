{
 "cells": [
  {
   "cell_type": "markdown",
   "id": "959a6c87-8ac3-4b7d-848a-6974c61f0398",
   "metadata": {},
   "source": [
    "# Máster MFIA\n",
    "\n",
    "## Python - Proyecto 5 \n",
    "\n",
    "Los siguiente es solo para comprobar que disponemos de las bibliotecas necesarias\n"
   ]
  },
  {
   "cell_type": "code",
   "execution_count": 2,
   "id": "80bc0158-b8ea-4d50-8212-898596d4309e",
   "metadata": {},
   "outputs": [
    {
     "name": "stdout",
     "output_type": "stream",
     "text": [
      "Instalando módulos\n",
      "scipy  encontrado\n",
      "tqdm  encontrado\n",
      "stats  No encontrado, instalando...¡hecho!\n",
      "¡Terminado!\n"
     ]
    }
   ],
   "source": [
    "modules = [\"scipy\", \"tqdm\", \"stats\"]\n",
    "\n",
    "import sys\n",
    "import os.path\n",
    "from subprocess import check_call\n",
    "import importlib\n",
    "import os\n",
    "\n",
    "def instala(modules):\n",
    "    print(\"Instalando módulos\")\n",
    "    for m in modules:\n",
    "        # para el import quitamos [...] y ==...\n",
    "        p = m.find(\"[\")\n",
    "        mi = m if p==-1 else m[:p]\n",
    "        p = mi.find(\"==\")\n",
    "        mi = mi if p==-1 else mi[:p]\n",
    "        torch_loader = importlib.util.find_spec(mi)\n",
    "        if torch_loader is not None:\n",
    "            print(m,\" encontrado\")\n",
    "        else:\n",
    "            print(m,\" No encontrado, instalando...\",end=\"\")  \n",
    "            try:        \n",
    "                r = check_call([sys.executable, \"-m\", \"pip\", \"install\", \"--user\", m])\n",
    "                print(\"¡hecho!\")\n",
    "            except:\n",
    "                print(\"¡Problema al instalar \",m,\"! ¿seguro que el módulo existe?\",sep=\"\")\n",
    "\n",
    "    print(\"¡Terminado!\")\n",
    "\n",
    "instala(modules) "
   ]
  },
  {
   "cell_type": "markdown",
   "id": "27af7725-3374-4587-a771-f02eba24501d",
   "metadata": {},
   "source": [
    "**Ejercicio 1** Tenemos datos obtenidos de dos líneas A y B de una cadena de montaje (columna `Group`). En cada caso se mide el tiempo que se ha tardado en producir cada ítem (columna `valor`). Leer el fichero y mostrar un histograma de la columna `valor`, así como, en un diagrama distinto,  un diagrama de barras de la columna `Group`."
   ]
  },
  {
   "cell_type": "code",
   "execution_count": null,
   "id": "c447a2a3-5268-4b60-a663-41ac6839c945",
   "metadata": {},
   "outputs": [],
   "source": [
    "import pandas as pd\n",
    "import matplotlib.pyplot as plt\n",
    "url = \"https://raw.githubusercontent.com/RafaelCaballero/tdm/refs/heads/master/datos/cadena.csv\"\n",
    "\n",
    "# lectura\n"
   ]
  },
  {
   "cell_type": "code",
   "execution_count": null,
   "id": "19d811ee-cae2-4321-899a-4163567f000e",
   "metadata": {},
   "outputs": [],
   "source": [
    "# histograma \n"
   ]
  },
  {
   "cell_type": "code",
   "execution_count": null,
   "id": "f22b6a86-a2da-43d4-b0c0-3debf4e0716a",
   "metadata": {},
   "outputs": [],
   "source": [
    "# diagrama de barras\n"
   ]
  },
  {
   "cell_type": "markdown",
   "id": "1659fce7-68d2-4a19-bd64-7fe6530da88a",
   "metadata": {},
   "source": [
    " **Ejercicio 2** El histograma que acabamos de generar muestra dos \"jorobas\"; corresponde a una bimodal, una distribución que se puede dar, entre otras razones, porque estemos combinando dos distribuciones normales.\n",
    " \n",
    " Pensamos que quizás los dos \"picos\" que muestra el histograma correspondan a los dos valores de la columna `Group`. Para comprobarlo visualmente, crear dos dataframes `dfA` y `dfB` con los datos de df, restringidos al valor de `Group` A y B, respectivamente y mostrar el histograma de la columna `valor`de cada uno de ellos (a ser posible en la misma figura; no hace falta diagrama de densidad)"
   ]
  },
  {
   "cell_type": "code",
   "execution_count": null,
   "id": "327fe548-0927-464a-9031-fea2a866c8eb",
   "metadata": {},
   "outputs": [],
   "source": [
    "# solución\n"
   ]
  },
  {
   "cell_type": "markdown",
   "id": "9d5c956c-5ab3-4fdb-98cf-9aae73cb2d71",
   "metadata": {},
   "source": [
    "**Ejercicio 3** Pues sí que parece que tiene que ver... calcular la media de cada uno de los dos dataframes utilizando el teorema central del límite, repitiendo 10000 veces:\n",
    "\n",
    "- Generar 2 muestras aleatorias, `ma` y `mb`, ambas de tamaño 50, una tomada de `dfA` y otra de `dfB`\n",
    "- Calcular la media de la columna `valor` en cada una de las muestras y acumular con `append` el resultado en dos listas, `mediaA` y `mediaB` respectivamente (usar append, tal y como muestra el ejemplo en el notebook de teoría)\n",
    "\n",
    "Al terminar el código que ya se proporciona convertirá ambas listas en un dataframe con dos columnas A y B (continuamos en el siguiente ejercicio)"
   ]
  },
  {
   "cell_type": "code",
   "execution_count": null,
   "id": "80ddb518",
   "metadata": {},
   "outputs": [],
   "source": [
    "from tqdm import tqdm\n",
    "veces = 10000\n",
    "muestra = 50\n",
    "\n",
    "# solución\n",
    "\n",
    "\n",
    "\n",
    "# dejar este código sin tocar\n",
    "df_medias = pd.DataFrame({\"A\":mediaA, \"B\":mediaB})\n",
    "df_medias"
   ]
  },
  {
   "cell_type": "markdown",
   "id": "9ebb9724",
   "metadata": {},
   "source": [
    "**Ejercicio 4**\n",
    "\n",
    "Mostrar el histograma de las columnas `A` y `B` del dataframe `df_medias`. Recordar que estamos viendo el resultado de 10000 experimentos que aproximan la muestra"
   ]
  },
  {
   "cell_type": "code",
   "execution_count": null,
   "id": "84964312",
   "metadata": {},
   "outputs": [],
   "source": [
    "# solución"
   ]
  },
  {
   "cell_type": "markdown",
   "id": "23aaf305",
   "metadata": {},
   "source": [
    "**Ejercicio 5** Repetir el gráfico doble anterior pero añadiéndole, para cada una de las dos columnas `A` y `B` del dataframe `df_medias`:\n",
    "\n",
    "- Una línea vertical verde representando la media $\\mu$ correspondiente (es decir la media de `A`en el histograma de `A`, la media de `B` en el histograma de `B`)\n",
    "- Una linea vertical roja a $\\mu-2\\sigma$ y otra a $\\mu +2\\sigma$, con $\\sigma$ la desviación típica, representando en cada caso la distancia de $2\\sigma$ con respecto a la media.\n",
    "\n",
    "Para ello partir del siguiente ejemplo tomado de otro notebook (hay que adaptarlo un poco)\n",
    "\n",
    "    plt.axvline(media, color='red', linestyle='--', linewidth=2)\n"
   ]
  },
  {
   "cell_type": "code",
   "execution_count": null,
   "id": "d8ed3a5a-8d78-4462-ba7d-d48a8c7633f8",
   "metadata": {},
   "outputs": [],
   "source": [
    "# solución \n"
   ]
  },
  {
   "cell_type": "markdown",
   "id": "3dab3066-a19a-4a51-a31b-828d4df718d0",
   "metadata": {},
   "source": [
    "**Ejercicio 6**\n",
    "\n",
    "En lugar de hacerlo \"a mano\" como en los ejercicios anteriores, probar a comprobar si las medias de A  y de B son diferentes con el método bootstrap de la librería stats."
   ]
  },
  {
   "cell_type": "code",
   "execution_count": null,
   "id": "58fdec45-6626-48ad-9e67-d17902285c75",
   "metadata": {},
   "outputs": [],
   "source": []
  }
 ],
 "metadata": {
  "kernelspec": {
   "display_name": "Python 3 (ipykernel)",
   "language": "python",
   "name": "python3"
  },
  "language_info": {
   "codemirror_mode": {
    "name": "ipython",
    "version": 3
   },
   "file_extension": ".py",
   "mimetype": "text/x-python",
   "name": "python",
   "nbconvert_exporter": "python",
   "pygments_lexer": "ipython3",
   "version": "3.11.9"
  }
 },
 "nbformat": 4,
 "nbformat_minor": 5
}
