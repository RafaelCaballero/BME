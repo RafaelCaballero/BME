{
 "cells": [
  {
   "cell_type": "markdown",
   "metadata": {
    "id": "4zhiS8Dyx49a"
   },
   "source": [
    "# A (hopefully) gently introduction to Python \n",
    "### by Rafa Caballero - Facultad de Informática - UCM\n",
    "\n",
    "# 1 Values, variables, operators, predefined functions\n",
    "\n",
    "\n",
    "You can click on the following index to jump to the section you prefer of just follow the notebook sequentally step by step.\n",
    "\n",
    "\n",
    "**Index**\n",
    "\n",
    "[Introduction](#Introduction)\n",
    "\n",
    "[Hello World](#Hello-World)\n",
    "\n",
    "[Variables](#Variables)\n",
    "\n",
    "[Tipos en Python](#Tipos-en-Python)\n",
    "\n",
    "[Instrucciones](#Instrucciones)\n",
    "\n",
    "[Operadores](#Operadores)<br>\n",
    "  &emsp;[Operadores aritméticos](#Operadores-aritméticos)<br>\n",
    "  &emsp;[Operadores relacionales](#Operadores-relacionales)<br>\n",
    "  &emsp;[Operadores booleanos](#Operadores-booleanos)<br>\n",
    "  &emsp;[Operadores de bit](#Operadores-de-bit)<br>\n",
    "  &emsp;[Operadores para secuencias](#Operadores-para-secuencias)<br>\n",
    "  &emsp;[Slices](#Slices)<br>\n",
    "\n",
    "[Funciones predefinidas](#Funciones-predefinidas)<br>\n",
    "  &emsp;[Conversión entre bases](#Conversión-entre-bases)<br>\n",
    "  &emsp;[Funciones para secuencias](#Funciones-para-secuencias)<br>\n",
    "\n",
    "[Importación de bibliotecas](#Importación-de-bibliotecas)\n",
    "\n",
    "\n",
    "[Entrada de usuario](#Entrada-de-usuario)"
   ]
  },
  {
   "cell_type": "markdown",
   "metadata": {
    "id": "LfO7uZRHx49e"
   },
   "source": [
    "## Introduction\n",
    "\n",
    "\n",
    "#### Notebooks presentation\n",
    "**Python** is a general purpose programming language. Created by  Guido Van Rossum around 1989, it has become one of the favorite languages for data science.\n",
    "\n",
    "In these notebooks we are going to present a brief introduction to the basic aspects of the language. They are oriented to students with at least some minimum programming skills, and they only show those aspects of the language needed for data science, leaving out some very interesting an important aspects of the language such as the object oriented approach, module development, etc.\n",
    "\n",
    "#### Versions\n",
    "Unfortunately, in a sad day of 2008, Python split in two *dialects* when the version 3 came out. The problem was that the new version was not compatible backwards, taht the programs in Python 2.X are not ensured to run in Python 3.x (neither viceversa, but this is more usual). This got worse when the Python 2.X continued evolving in its own, becaming in fact a different branch of the language. \n",
    "\n",
    "However, this dark times of division seems to be finishing and the 3.x versions are today the most employed. Thus in these notebooks we employ the latest version of Python, and this story is only mentioned because you can still find resources of books written in Python 2.x.\n",
    "\n",
    "Regarding the environments there are many possibilities. These course employes Jupyter notebooks, a project based on JSON formate that allows combining formatted text and code (the code will be in Jupyter in our case but there are Jupyter notebooks for other languages such as R). Jupyter notebooks can be run for instance in Google Colaboratory (and online service for executing Python). If you prefer to work offline the notebooks can be executed for instance in Anaconda.\n",
    "\n",
    "\n",
    "#### Resources\n",
    "The notebooks take ideas, examples and structure from many books and online resources that are worth mentioning, not only to give them the deserved credit but to use them as complementary material:\n",
    "\n",
    "* [https://www.python.org/](https://www.python.org/)   The basic rPython referencia. Includes tutorials and a very detailed help.\n",
    "\n",
    "* [Rajath Kumar en GitHub](https://github.com/rajathkumarmp/Python-Lectures \"Rajath Kumar en GitHub\"). Notebooks using the Python 2 syntax (here we employ  Python version 3.x). However the examples and ideas helped me a lot for developing these notebooks.\n",
    "* *Python for Kids*:  A book for kids, but so well-written and explained that can be used by adults as introduction to the language.\n",
    "\n",
    "* [The Python tutorial](https://docs.python.org/3/tutorial/index.html \"The Python tutorial\"). \"The\" reference. I must say that it is not my most prefered resource (too detailed and not didactic) it is indeed a very complete reference.\n",
    "\n",
    "* *Learning with Python How to Think Like a Computer Scientist*. A good book to start in Python with the perspective of a data scientist.\n",
    "\n",
    "\n"
   ]
  },
  {
   "cell_type": "markdown",
   "metadata": {
    "id": "uNAZL8jcx49i"
   },
   "source": [
    "## Hello World "
   ]
  },
  {
   "cell_type": "markdown",
   "metadata": {
    "id": "f18ZgdOwx49i"
   },
   "source": [
    "In the books and tutorials of programming language there is a long very respected tradiction of starting with a program that just prints \"hello world\". We cannot refrain from keeping this venerable tradition:"
   ]
  },
  {
   "cell_type": "code",
   "execution_count": 1,
   "metadata": {
    "id": "qZ2XxQX5x49j"
   },
   "outputs": [
    {
     "name": "stdout",
     "output_type": "stream",
     "text": [
      "Hola Mundo\n"
     ]
    }
   ],
   "source": [
    "# Click on the button >| Run to run this code\n",
    "print(\"Hello World\")"
   ]
  },
  {
   "cell_type": "markdown",
   "metadata": {},
   "source": [
    "Here `print` is a predefined function that receive one *argument*: the string to display. Strings can be enclosed in single of double quotes. It is you choice, but remenber to be consistent and start and finish with the same symbol. This becomes useful because allows using the other type of quotes inside as the exmple shows:"
   ]
  },
  {
   "cell_type": "code",
   "execution_count": 3,
   "metadata": {
    "id": "i8_x5yVLx49j"
   },
   "outputs": [
    {
     "name": "stdout",
     "output_type": "stream",
     "text": [
      "He said: \"Hi Bertold!\" and smiled at me\n"
     ]
    }
   ],
   "source": [
    "print('He said: \"Hi Bertold!\" and smiled at me')"
   ]
  },
  {
   "cell_type": "markdown",
   "metadata": {},
   "source": [
    "`print` can also be used to print other types of data, not only character strings. For instance, numbers"
   ]
  },
  {
   "cell_type": "code",
   "execution_count": null,
   "metadata": {},
   "outputs": [],
   "source": [
    "print(42)"
   ]
  },
  {
   "cell_type": "markdown",
   "metadata": {
    "id": "hssnex6-x49k"
   },
   "source": [
    "Lets play: what happens when running the following code and why?"
   ]
  },
  {
   "cell_type": "code",
   "execution_count": 4,
   "metadata": {
    "id": "SWjJL7Vnx49l"
   },
   "outputs": [
    {
     "ename": "NameError",
     "evalue": "name 'tururu' is not defined",
     "output_type": "error",
     "traceback": [
      "\u001b[1;31m---------------------------------------------------------------------------\u001b[0m",
      "\u001b[1;31mNameError\u001b[0m                                 Traceback (most recent call last)",
      "\u001b[1;32m<ipython-input-4-fd9d297b1187>\u001b[0m in \u001b[0;36m<module>\u001b[1;34m\u001b[0m\n\u001b[0;32m      1\u001b[0m \u001b[1;31m# poner nuestro código por aquí debajo y dar Run para ver el resultado\u001b[0m\u001b[1;33m\u001b[0m\u001b[1;33m\u001b[0m\u001b[1;33m\u001b[0m\u001b[0m\n\u001b[1;32m----> 2\u001b[1;33m \u001b[0mprint\u001b[0m\u001b[1;33m(\u001b[0m\u001b[0mtururu\u001b[0m\u001b[1;33m)\u001b[0m\u001b[1;33m\u001b[0m\u001b[1;33m\u001b[0m\u001b[0m\n\u001b[0m",
      "\u001b[1;31mNameError\u001b[0m: name 'tururu' is not defined"
     ]
    }
   ],
   "source": [
    "# poner nuestro código por aquí debajo y dar Run para ver el resultado\n",
    "print(tururu)"
   ]
  },
  {
   "cell_type": "markdown",
   "metadata": {
    "id": "8z6BvgYax49l"
   },
   "source": [
    "## Variables \n"
   ]
  },
  {
   "cell_type": "markdown",
   "metadata": {
    "id": "1Y7VaO2Lx49l"
   },
   "source": [
    "In the programming languages the values as often stored in \"boxes\" which we call *variables*. The \"box\" has a name (we can choose the name we prefer) and a value.\n",
    "\n",
    "Internally a variable can be thought as a fragment of memory which contains some value and has an associated name.\n",
    "\n",
    "Examples:"
   ]
  },
  {
   "cell_type": "code",
   "execution_count": 5,
   "metadata": {
    "id": "6YPsFAl2x49l"
   },
   "outputs": [],
   "source": [
    "x = 2\n",
    "y = 1.2\n",
    "s = 'if you torture the data long enough, it will confess to anything'"
   ]
  },
  {
   "cell_type": "markdown",
   "metadata": {
    "id": "takL1DFcx49m"
   },
   "source": [
    "These Python statements create 3 variables\n",
    "* Una variable con nombre  x,  con valor 2\n",
    "* Una variable con nombre y, con valor 1.2\n",
    "* Una variable con nombre xy, con valor *'if you torture the data long enough, it will confess to anything'*. \n",
    "\n"
   ]
  },
  {
   "cell_type": "code",
   "execution_count": null,
   "metadata": {
    "id": "mAaEuMsxx49m"
   },
   "outputs": [],
   "source": [
    "print(x+y,s,x*y)"
   ]
  },
  {
   "cell_type": "markdown",
   "metadata": {
    "id": "SczZgwLcx49n"
   },
   "source": [
    "Para jugar"
   ]
  },
  {
   "cell_type": "code",
   "execution_count": null,
   "metadata": {
    "id": "kk61vvI5x49n"
   },
   "outputs": [],
   "source": []
  },
  {
   "cell_type": "markdown",
   "metadata": {
    "id": "4LywGOuox49n"
   },
   "source": [
    "## Tipos en Python"
   ]
  },
  {
   "cell_type": "markdown",
   "metadata": {
    "id": "gx6Haxe1x49o"
   },
   "source": [
    "En Python, **todo valor tiene un tipo**, es decir pertenece a un conjunto predefinido de valores.\n",
    "Decimos que se trata de un lenguaje con tipos, o un lenguaje tipado.\n",
    "\n",
    "Sin embargo, a diferencia de otros lenguajes como C, C++, C# o Java, en Python no se declaran los tipos explícitamente, los deduce el sistema.\n",
    "\n",
    "Esto es una comodidad, pero no debe hacernos olvidar que los tipos existen. En concreto, en Python, tenemos:\n",
    "\n",
    "* Tipos numéricos: int, float, complex \n",
    "* Tipo cierto/falso: bool\n",
    "* Tipo carácter: chr\n",
    "* Tipo secuencia de caracteres: str\n",
    "* Tipos secuencia: list, tuple, range\n",
    "* Tipos secuencia de bnarios: bytes, bytearray, memoryview\n",
    "* Conjuntos: set, frozenset\n",
    "* Maps: dict\n",
    "* Programación orientada a objetos: Clases, objetos\n",
    "* Programación funcional: funciones lambda\n",
    "\n"
   ]
  },
  {
   "cell_type": "code",
   "execution_count": null,
   "metadata": {
    "id": "zIaSrPoVx49o"
   },
   "outputs": [],
   "source": [
    "print(4,type(4))\n",
    "print(4.0,type(4.0))\n",
    "print(True,type(True))\n",
    "print(x,type(x))\n",
    "print(s,type(s))\n"
   ]
  },
  {
   "cell_type": "markdown",
   "metadata": {
    "id": "nuTws_IRx49o"
   },
   "source": [
    "**Ej** Intentar adivinar el tipo de la siguiente expresión antes de ejecutar el código"
   ]
  },
  {
   "cell_type": "code",
   "execution_count": null,
   "metadata": {
    "id": "s9aDeV7cx49o"
   },
   "outputs": [],
   "source": [
    "print(type(3+4.1))"
   ]
  },
  {
   "cell_type": "markdown",
   "metadata": {
    "id": "85ys2i14x49p"
   },
   "source": [
    "#### Tuplas (introducción)\n",
    "\n",
    "se le puede dar valor a varias variables simultáneamente:"
   ]
  },
  {
   "cell_type": "code",
   "execution_count": null,
   "metadata": {
    "id": "YjaT6WIGx49p"
   },
   "outputs": [],
   "source": [
    "x = y = 1"
   ]
  },
  {
   "cell_type": "code",
   "execution_count": null,
   "metadata": {
    "id": "G3vfT13dx49q"
   },
   "outputs": [],
   "source": [
    "print(x,y)"
   ]
  },
  {
   "cell_type": "markdown",
   "metadata": {
    "id": "MXyOJPt3x49q"
   },
   "source": [
    "Otra forma de hacer lo mismo"
   ]
  },
  {
   "cell_type": "code",
   "execution_count": null,
   "metadata": {
    "id": "k9LPwHEwx49r"
   },
   "outputs": [],
   "source": [
    "x,y = 1,3\n",
    "print(x,y)"
   ]
  },
  {
   "cell_type": "markdown",
   "metadata": {
    "id": "ujPmA692x49r"
   },
   "source": [
    "Esta notación es en realidad una forma abreviada de escribir una *tupla*, una de las estructuras de las que dispone Python para agregar elementos.\n",
    "\n",
    "La forma no abreviada:"
   ]
  },
  {
   "cell_type": "code",
   "execution_count": null,
   "metadata": {
    "id": "9Tp01x1Lx49r"
   },
   "outputs": [],
   "source": [
    "z = (x,y) = (1,\"hola\")\n",
    "print(z,type(z))"
   ]
  },
  {
   "cell_type": "markdown",
   "metadata": {
    "id": "fiOi8EFKx49r"
   },
   "source": [
    "Nótese que las tuplas permiten tener elementos ordenados agregados. Otras formas son los strings y las listas. Los tres tipos, strings, listas y tuplas constituyen las *secuencias de Python*"
   ]
  },
  {
   "cell_type": "markdown",
   "metadata": {
    "id": "KR_js_-2x49s"
   },
   "source": [
    "###### Ej. *¿Cómo declarar en una sola línea dos variables x,y y hacer que la primera tome el valor 1 y la segunda el valor 2?*"
   ]
  },
  {
   "cell_type": "code",
   "execution_count": null,
   "metadata": {
    "id": "VWdrPp2zx49s"
   },
   "outputs": [],
   "source": [
    "# escribir aquí la solución\n",
    "x,y=1,2"
   ]
  },
  {
   "cell_type": "markdown",
   "metadata": {
    "id": "8LAzeb1wx49s"
   },
   "source": [
    "###### Ej. * ¿Qué hará el siguiente código? * (para probarlo quitar el símbolo de comentario #)"
   ]
  },
  {
   "cell_type": "code",
   "execution_count": null,
   "metadata": {
    "id": "nDDeNVozx49t"
   },
   "outputs": [],
   "source": [
    "x = y = 5\n",
    "x += 1\n",
    "y = y+x-2\n",
    "print(x,y)"
   ]
  },
  {
   "cell_type": "code",
   "execution_count": null,
   "metadata": {
    "id": "v7tsI91dx49u"
   },
   "outputs": [],
   "source": []
  },
  {
   "cell_type": "markdown",
   "metadata": {
    "id": "bDgzcxrEx49u"
   },
   "source": [
    "## Instrucciones"
   ]
  },
  {
   "cell_type": "markdown",
   "metadata": {
    "id": "c8DAe97ax49u"
   },
   "source": [
    "Python ejecuta instrucciones en secuencia, de arriba hacia abajo. Cada instrucción ocupa en principio una línea:"
   ]
  },
  {
   "cell_type": "code",
   "execution_count": null,
   "metadata": {
    "id": "jj2wo5Qmx49u"
   },
   "outputs": [],
   "source": [
    "x=3\n",
    "y=4\n",
    "print(x+y)"
   ]
  },
  {
   "cell_type": "markdown",
   "metadata": {
    "id": "V1D9Ewwyx49u"
   },
   "source": [
    "Sin embargo, en ocasiones, queremos que una instrucción ocupe más de una línea, por legilibidad"
   ]
  },
  {
   "cell_type": "code",
   "execution_count": null,
   "metadata": {
    "id": "ob1LphwOx49u"
   },
   "outputs": [],
   "source": [
    "a = 1 + 2 + 3 + \n",
    "    4 + 5 + 6 + \n",
    "    7 + 8 + 9"
   ]
  },
  {
   "cell_type": "markdown",
   "metadata": {
    "id": "hRsgZk-sx49u"
   },
   "source": [
    "Para solucionar esto hay varias formas. Una es usar el marcador '\\\\' para indicar que se continua por la línea de abajo"
   ]
  },
  {
   "cell_type": "code",
   "execution_count": null,
   "metadata": {
    "id": "vNujraLbx49v"
   },
   "outputs": [],
   "source": [
    "a = 1 + 2 + 3 + \\\n",
    "    4 + 5 + 6 + \\\n",
    "    7 + 8 + 9"
   ]
  },
  {
   "cell_type": "markdown",
   "metadata": {
    "id": "QsEcZaL1x49w"
   },
   "source": [
    "También se pueden usar paréntesis, en este caso Python asume que la línea siguiente forma parte de la isma instrucción"
   ]
  },
  {
   "cell_type": "code",
   "execution_count": null,
   "metadata": {
    "id": "Iem-ggIlx49w"
   },
   "outputs": [],
   "source": [
    "a = (1 + 2 + 3 +\n",
    "    4 + 5 + 6 +\n",
    "    7 + 8 + 9)"
   ]
  },
  {
   "cell_type": "markdown",
   "metadata": {
    "id": "C5FnU5mbx49w"
   },
   "source": [
    "## Operadores"
   ]
  },
  {
   "cell_type": "markdown",
   "metadata": {
    "id": "HWVW7WJ3x49x"
   },
   "source": [
    "### Operadores aritméticos"
   ]
  },
  {
   "cell_type": "markdown",
   "metadata": {
    "id": "ph9DOD-yx49x"
   },
   "source": [
    "| Símbolo | Función |\n",
    "|----|---|\n",
    "| +  | suma |\n",
    "| -  | resta |\n",
    "| /  | división |\n",
    "| %  | módulo |\n",
    "| *  | multiplicación |\n",
    "| //  | división entera |\n",
    "| **  | Potencia |"
   ]
  },
  {
   "cell_type": "code",
   "execution_count": null,
   "metadata": {
    "id": "ZW8nM3_Xx49x"
   },
   "outputs": [],
   "source": [
    "1+2000000000000000000000000000000000000000000000000000000000000000000000000000000000000000000000000000000"
   ]
  },
  {
   "cell_type": "code",
   "execution_count": null,
   "metadata": {
    "id": "6ditnDvvx49x"
   },
   "outputs": [],
   "source": [
    "200000000-1"
   ]
  },
  {
   "cell_type": "code",
   "execution_count": null,
   "metadata": {
    "id": "irpG9Yp_x49x"
   },
   "outputs": [],
   "source": [
    "1*2"
   ]
  },
  {
   "cell_type": "markdown",
   "metadata": {
    "id": "d9OwjLAbx49y"
   },
   "source": [
    "###### Ej. *¿Por qué sucede esto?*"
   ]
  },
  {
   "cell_type": "code",
   "execution_count": null,
   "metadata": {
    "id": "pMfDfCOrx49y"
   },
   "outputs": [],
   "source": [
    "1/2"
   ]
  },
  {
   "cell_type": "code",
   "execution_count": null,
   "metadata": {
    "id": "euTr4Osqx49y"
   },
   "outputs": [],
   "source": [
    "1/2.0"
   ]
  },
  {
   "cell_type": "code",
   "execution_count": null,
   "metadata": {
    "id": "2Zjtto14x49z"
   },
   "outputs": [],
   "source": [
    "1//2"
   ]
  },
  {
   "cell_type": "code",
   "execution_count": null,
   "metadata": {
    "id": "q3Qa4-4Ax49z"
   },
   "outputs": [],
   "source": [
    "15%10"
   ]
  },
  {
   "cell_type": "markdown",
   "metadata": {
    "id": "CsuBf6hmx49z"
   },
   "source": [
    "En el caso de trabajar con números reales también se puede obtener el resultado de truncar el resultado de la división"
   ]
  },
  {
   "cell_type": "code",
   "execution_count": null,
   "metadata": {
    "id": "uBQTjB62x49z"
   },
   "outputs": [],
   "source": [
    "1.9//1.0"
   ]
  },
  {
   "cell_type": "markdown",
   "metadata": {
    "id": "85EC0pHYx490"
   },
   "source": [
    "### Operadores relacionales"
   ]
  },
  {
   "cell_type": "markdown",
   "metadata": {
    "id": "vsKOZeDCx490"
   },
   "source": [
    "Son operadores que pueden devolver los valores True (cierto) o False (falso). \n",
    "\n",
    "En programación llamamos a estos valores (True,False) *valores booleanos* o *valores lógicos*"
   ]
  },
  {
   "cell_type": "markdown",
   "metadata": {
    "id": "mNwj--92x490"
   },
   "source": [
    "| Operador | Significado |\n",
    "|----|---|\n",
    "| == | True, si los dos operandos son iguales, False e.o.c. |\n",
    "| !=  | True, si los dos operandos son diferente, False e.o.c. |\n",
    "| < | menor |\n",
    "| > | mayor  |\n",
    "| <=  | menor o igual  |\n",
    "| >=  | mayor o igual |"
   ]
  },
  {
   "cell_type": "code",
   "execution_count": null,
   "metadata": {
    "id": "r4Pp6KRtx490"
   },
   "outputs": [],
   "source": [
    "z = 1\n",
    "print(z)"
   ]
  },
  {
   "cell_type": "code",
   "execution_count": null,
   "metadata": {
    "id": "te4asUX4x491"
   },
   "outputs": [],
   "source": [
    "z == 1"
   ]
  },
  {
   "cell_type": "code",
   "execution_count": null,
   "metadata": {
    "id": "GJwgV-Ygx491"
   },
   "outputs": [],
   "source": [
    "z = 1\n",
    "print(z==2,type(z==2))"
   ]
  },
  {
   "cell_type": "code",
   "execution_count": null,
   "metadata": {
    "id": "8I1Bo1JKx491"
   },
   "outputs": [],
   "source": [
    "z > 1"
   ]
  },
  {
   "cell_type": "markdown",
   "metadata": {
    "id": "ptjnx8OWx492"
   },
   "source": [
    "Una propiedad muy interesante de los booleanos es que se convierten automáticamente en enteros. False se convierte en 0, y True en 1"
   ]
  },
  {
   "cell_type": "code",
   "execution_count": null,
   "metadata": {
    "id": "DbXYsptCx492"
   },
   "outputs": [],
   "source": [
    "(z==1)+1"
   ]
  },
  {
   "cell_type": "markdown",
   "metadata": {
    "id": "Pf7R2zzlx493"
   },
   "source": [
    "**Ej.** escribir una expresión que le asigne a la variable z el mayor valor entre x e y <br>\n",
    "Pista: (x>y) vale True, o lo que es lo mismo 1, si x es mayor que y"
   ]
  },
  {
   "cell_type": "code",
   "execution_count": null,
   "metadata": {
    "id": "CQ7MTOQXx493"
   },
   "outputs": [],
   "source": [
    "x = 50\n",
    "y = 30\n",
    "# quitar el comentario e abajo y completar\n",
    "z = (x>y)*x+(x<=y)*y\n",
    "print(z)"
   ]
  },
  {
   "cell_type": "markdown",
   "metadata": {
    "id": "_VByblUMx494"
   },
   "source": [
    "\n",
    "### Operadores booleanos"
   ]
  },
  {
   "cell_type": "markdown",
   "metadata": {
    "id": "mH-1keRTx494"
   },
   "source": [
    "Sean x e y dos variables booleanas (tienen True o False)\n",
    "\n",
    "| Símbolo | Significado |\n",
    "|----|---|\n",
    "| x and y  | Conjunción: si x es True, entonces y, si no  False |\n",
    "| x or y  | disyunción lógica: si x es False, entonces y, si no True |\n",
    "| not(x)  | si x es True false, en otro caso True |\n",
    "\n",
    "![imagen.png](attachment:imagen.png)\n"
   ]
  },
  {
   "cell_type": "code",
   "execution_count": null,
   "metadata": {
    "id": "9qKsNO1Sx495"
   },
   "outputs": [],
   "source": [
    "(3<0) and (3/0 > 5)"
   ]
  },
  {
   "cell_type": "code",
   "execution_count": null,
   "metadata": {
    "id": "z3M21-XBx495"
   },
   "outputs": [],
   "source": [
    "x=5\n",
    "y=3\n",
    "w = x>y and x!=6\n",
    "print(w)"
   ]
  },
  {
   "cell_type": "markdown",
   "metadata": {
    "id": "NrSN8O_ux496"
   },
   "source": [
    "**Ej.** El operador lógico binario or-exclusivo (XOR) está definido como sigue: \n",
    "\n",
    "    True xor True  --> False\n",
    "    True xor False --> True\n",
    "    False xor True --> True\n",
    "    False xor False --> False\n",
    "    \n",
    "Por desgracia no existe en Python. ¿Qué expresión podemos escribir que simule el valor de xor?"
   ]
  },
  {
   "cell_type": "code",
   "execution_count": null,
   "metadata": {
    "id": "NdPfzCYtx496"
   },
   "outputs": [],
   "source": [
    "A = True\n",
    "B = True \n",
    "# lo que se ponga tiene que vale para cualquier valor booleano de A y B\n",
    "AxorB = A!=B\n",
    "print(AxorB)"
   ]
  },
  {
   "cell_type": "markdown",
   "metadata": {
    "id": "3xKnF420x498"
   },
   "source": [
    "### Operadores de bit"
   ]
  },
  {
   "cell_type": "markdown",
   "metadata": {
    "id": "onqGXsVqx498"
   },
   "source": [
    "| Símbolo | Significado |\n",
    "|----|---|\n",
    "| &  | Conjunción lógica de bits|\n",
    "| l  | disyunción lógica de bits|\n",
    "| ^  | XOR de bits |\n",
    "| ~  | negación |\n",
    "| >>  | desplazamiento a la derecha |\n",
    "| <<  | desplazamiento a la izquierda |"
   ]
  },
  {
   "cell_type": "code",
   "execution_count": null,
   "metadata": {
    "id": "pcJeaMdWx499"
   },
   "outputs": [],
   "source": [
    "a = 2 #10\n",
    "b = 3 #11"
   ]
  },
  {
   "cell_type": "code",
   "execution_count": null,
   "metadata": {
    "id": "6dTqYh_Vx49-"
   },
   "outputs": [],
   "source": [
    "print(a | b)\n",
    "print(bin(a&b))"
   ]
  },
  {
   "cell_type": "code",
   "execution_count": null,
   "metadata": {
    "id": "GaereQdkx49-"
   },
   "outputs": [],
   "source": [
    "5 >> 1"
   ]
  },
  {
   "cell_type": "markdown",
   "metadata": {
    "id": "KqABnmLUx49-"
   },
   "source": [
    "0000 0101 -> 5 \n",
    "\n",
    "El desplazamiento hacia la derecha introduce ceros por la izquierda\n",
    "\n",
    "0000 0010 -> 2"
   ]
  },
  {
   "cell_type": "code",
   "execution_count": null,
   "metadata": {
    "id": "tAScOEGUx49-"
   },
   "outputs": [],
   "source": [
    "5 << 1"
   ]
  },
  {
   "cell_type": "markdown",
   "metadata": {
    "id": "dJnJWVKZx49-"
   },
   "source": [
    "### Operadores para secuencias\n",
    "\n",
    "En este apartado vemos los operadadores aplicados a las tuplas. Los mismos son aplicables a listas y a strings.\n",
    "\n",
    "El operador + *concatena* dos secuencias"
   ]
  },
  {
   "cell_type": "code",
   "execution_count": null,
   "metadata": {
    "id": "NoZnkczKx49-"
   },
   "outputs": [],
   "source": [
    "(1,2,3) + (4,5)"
   ]
  },
  {
   "cell_type": "markdown",
   "metadata": {
    "id": "rM6eGISbx49_"
   },
   "source": [
    "El operador * repite una secuencia una cantidad de veces"
   ]
  },
  {
   "cell_type": "code",
   "execution_count": null,
   "metadata": {
    "id": "HVXUkHdYx4-A"
   },
   "outputs": [],
   "source": [
    "(1,2,3)*4"
   ]
  },
  {
   "cell_type": "markdown",
   "metadata": {
    "id": "NWGy3Wzfx4-A"
   },
   "source": [
    "Resulta muy útil para ahorrarse escribir en algunas ocasiones:"
   ]
  },
  {
   "cell_type": "code",
   "execution_count": null,
   "metadata": {
    "id": "oUh0b-m9x4-A"
   },
   "outputs": [],
   "source": [
    "print(\"-\"*30)"
   ]
  },
  {
   "cell_type": "markdown",
   "metadata": {
    "id": "_sJEwTkdx4-A"
   },
   "source": [
    "El operador [i] permite acceder al i-ésimo elemento. Hay que tener en cuenta que el primer elemento es el que ocupa la posición 0, el segundo la posición 1, etc."
   ]
  },
  {
   "cell_type": "code",
   "execution_count": null,
   "metadata": {
    "id": "rv8rbC18x4-B"
   },
   "outputs": [],
   "source": [
    "t = (1,2,3)\n",
    "\n",
    "print(t[0],t[-3])"
   ]
  },
  {
   "cell_type": "markdown",
   "metadata": {
    "id": "X4YfKz6wx4-B"
   },
   "source": [
    "**Ej.** ¿Qué ocurre aquí?"
   ]
  },
  {
   "cell_type": "code",
   "execution_count": null,
   "metadata": {
    "id": "ty8SIrSax4-B"
   },
   "outputs": [],
   "source": [
    "(1,2,3)[3]"
   ]
  },
  {
   "cell_type": "markdown",
   "metadata": {
    "id": "n9AKjgA5x4-B"
   },
   "source": [
    "Una variante es [-i] que permite el acceso desde el final"
   ]
  },
  {
   "cell_type": "code",
   "execution_count": null,
   "metadata": {
    "id": "Bb5FLwW9x4-B"
   },
   "outputs": [],
   "source": [
    "x = (1,2,3)\n",
    "x[-0]"
   ]
  },
  {
   "cell_type": "code",
   "execution_count": null,
   "metadata": {
    "id": "twtUYsTDx4-C"
   },
   "outputs": [],
   "source": [
    "x[-1]"
   ]
  },
  {
   "cell_type": "markdown",
   "metadata": {
    "id": "RjbEwTUKx4-C"
   },
   "source": [
    "Los operadores relacionales infijos *in* y  *not in* sirven para determinar si un elemento está o no en una secuencia"
   ]
  },
  {
   "cell_type": "code",
   "execution_count": null,
   "metadata": {
    "id": "A7MZCFyjx4-C"
   },
   "outputs": [],
   "source": [
    "x = (1,2,3)\n",
    "print(2 in x)\n",
    "print(5 not in x)\n",
    "print(5  in x)"
   ]
  },
  {
   "cell_type": "markdown",
   "metadata": {
    "id": "kUoWKx_yx4-D"
   },
   "source": [
    "### Slices ###\n",
    "Un tipo especial de operadores son los de \"rodaja\" o *slice*, que extraen una subsecuencia de la secuencia\n",
    "\n",
    "\n",
    "    a[start:stop]  # elementos desde start hasta stop -1\n",
    "    a[start:]      # desde start hasta el final\n",
    "    a[:stop]       # desde el principio hasta stop-1\n",
    "    a[:]           # copia la secuencia\n",
    "    a[start:stop:step] # desde start sin llegar ni pasar de stop, saltando step\n"
   ]
  },
  {
   "cell_type": "code",
   "execution_count": null,
   "metadata": {
    "id": "MdRPXTEox4-D"
   },
   "outputs": [],
   "source": [
    "x = (0,1,2,3,4,5,6,7,8,9,10)\n",
    "print(x[3:6])\n",
    "print(x[3:7:2])"
   ]
  },
  {
   "cell_type": "code",
   "execution_count": null,
   "metadata": {
    "id": "dPuEZSMix4-E"
   },
   "outputs": [],
   "source": [
    "x[1:2]"
   ]
  },
  {
   "cell_type": "markdown",
   "metadata": {
    "id": "wfoIVIaBx4-F"
   },
   "source": [
    "La notación (2,) se hace para indicar que es una tupla, no del número (2). Esto es útil para crear tuplas de un solo elemento:"
   ]
  },
  {
   "cell_type": "code",
   "execution_count": null,
   "metadata": {
    "id": "a7cDVtUzx4-F"
   },
   "outputs": [],
   "source": [
    "y = (3,)\n",
    "y[0]"
   ]
  },
  {
   "cell_type": "markdown",
   "metadata": {
    "id": "co8iu0bYx4-G"
   },
   "source": [
    "**Ej.** ¿Qué resultado producirá el siguiente código? ¿por qué?"
   ]
  },
  {
   "cell_type": "code",
   "execution_count": null,
   "metadata": {
    "id": "zxHj-zb2x4-G"
   },
   "outputs": [],
   "source": [
    "y = (3)\n",
    "y[0]"
   ]
  },
  {
   "cell_type": "markdown",
   "metadata": {
    "id": "aFUMmBHFx4-G"
   },
   "source": [
    "**Ej.** ¿Qué resultado producirá el siguiente código? ¿por qué?"
   ]
  },
  {
   "cell_type": "code",
   "execution_count": null,
   "metadata": {
    "id": "9ibOptLXx4-G"
   },
   "outputs": [],
   "source": [
    "a = (1,2,3,4,5,6,7,8,9,10)\n",
    "a[2:][4]"
   ]
  },
  {
   "cell_type": "markdown",
   "metadata": {
    "id": "9pVEpjehx4-G"
   },
   "source": [
    "## Funciones predefinidas de conversión de tipos"
   ]
  },
  {
   "cell_type": "markdown",
   "metadata": {
    "id": "_CxDZ4eBx4-H"
   },
   "source": [
    "Las funciones, como *print*, agrupan fragmentos de código con un propósito concreto bajo cierto nombre. Para añadir flexibilidad, pueden recibir valores de entrada y devolver valores de salida. Algunas funciones ya están predefinidas en el sistema, pero el usuario también puede definir sus propias funciones, como veremos en otro cuaderno."
   ]
  },
  {
   "cell_type": "markdown",
   "metadata": {
    "id": "WaKqCE-Hx4-H"
   },
   "source": [
    "Python incluye numerosas funciones predefinidas. Veamos algunas de ellas.\n",
    "\n",
    "| Función | Significado |\n",
    "|----|---|\n",
    "| 0xV  | Convierte el número hexadecimal V en entero |\n",
    "| hex(x)  | convierte x a su representación hexadecimal, como cadena |\n",
    "| 0oV  | Convierte el número octal V en entero |\n",
    "| oct(x)  | convierte x a su representación octal, como cadena |\n",
    "| 0b  | Convierte el número binario V en entero |\n",
    "| bin(x)  | convierte x a su representación binaria, como cadena |\n",
    "| int(x,b)  | Representa el número x en base b|\n",
    "| int(x)  | Convierte el número real x en su parte entera |\n",
    "| int(x)  | Convierte el string x en un entero |\n"
   ]
  },
  {
   "cell_type": "markdown",
   "metadata": {
    "id": "VEVG7eT0x4-H"
   },
   "source": [
    "### Conversión entre bases"
   ]
  },
  {
   "cell_type": "markdown",
   "metadata": {
    "id": "QMXeF41sx4-H"
   },
   "source": [
    "Python considera que un número está escrito en hexadecimal anteponiendo el prefijo **0x**. También se puede convertir un entero en hexadecimal utilizando la función **hex( )**. Ojo porque esta función devuelve el valor  hexadecimal, pero como una cadena de caracteres."
   ]
  },
  {
   "cell_type": "code",
   "execution_count": null,
   "metadata": {
    "id": "Wn-YNidux4-I"
   },
   "outputs": [],
   "source": [
    "hex(1714) "
   ]
  },
  {
   "cell_type": "code",
   "execution_count": null,
   "metadata": {
    "id": "FFUHC3ERx4-I"
   },
   "outputs": [],
   "source": [
    "0x6B2"
   ]
  },
  {
   "cell_type": "markdown",
   "metadata": {
    "id": "h0Afgj7Jx4-I"
   },
   "source": [
    "Para representar un valor en octal antepondremos el prefijo **0o**  al valor octal. \n",
    "\n",
    "Viceversa, la función **oct( )** permite convertir un valor decimal en octal, pero representado como caracteres.\n"
   ]
  },
  {
   "cell_type": "code",
   "execution_count": null,
   "metadata": {
    "id": "ihppb9xZx4-I"
   },
   "outputs": [],
   "source": [
    "oct(8)"
   ]
  },
  {
   "cell_type": "code",
   "execution_count": null,
   "metadata": {
    "id": "ZHMuzC3vx4-I"
   },
   "outputs": [],
   "source": [
    "0o10"
   ]
  },
  {
   "cell_type": "markdown",
   "metadata": {
    "id": "5v17hfSNx4-I"
   },
   "source": [
    "En el caso de números binarios podemos utilizar el prefijo 0b y la función bin()"
   ]
  },
  {
   "cell_type": "code",
   "execution_count": null,
   "metadata": {
    "id": "BTDQwKbsx4-J"
   },
   "outputs": [],
   "source": [
    "0b01111"
   ]
  },
  {
   "cell_type": "code",
   "execution_count": null,
   "metadata": {
    "id": "neAPC0RRx4-J"
   },
   "outputs": [],
   "source": [
    "bin(15)"
   ]
  },
  {
   "cell_type": "markdown",
   "metadata": {
    "id": "kCx_CgDgx4-J"
   },
   "source": [
    "La función **int(x,b)** convierte a entero el número x, que es un string en base b"
   ]
  },
  {
   "cell_type": "code",
   "execution_count": null,
   "metadata": {
    "id": "1O7L2Uxbx4-J"
   },
   "outputs": [],
   "source": [
    "print(int('1010',8))\n",
    "print(int('baba',16))\n",
    "print(int('0xbaba',16))\n",
    "print(int('1010',2))\n",
    "print(int('bigdata',30))\n"
   ]
  },
  {
   "cell_type": "markdown",
   "metadata": {
    "id": "_GC28HFyx4-K"
   },
   "source": [
    "###### Ej. En matemáticas, decimos que f y g son funciones inversas si para todo valor x, se cumple que \n",
    "\n",
    "f(g(x)) == x \n",
    "\n",
    "y para todo valor y\n",
    "\n",
    "g(f(y)) == y\n",
    "\n",
    "¿Cual es la inversa de la función hex(x)? (para pensar, la respuesta no es trivial)"
   ]
  },
  {
   "cell_type": "code",
   "execution_count": null,
   "metadata": {
    "id": "uuiZIN-bx4-K"
   },
   "outputs": [],
   "source": [
    "x = 707258\n",
    "y = '0xcaba'\n",
    "# Solución, cambiar f,g por las funciones adecuadas para que se cumpla\n",
    "\n",
    "# f(g(x)) == x\n",
    "# g(f(y)) == y\n",
    "\n",
    "hex(x)"
   ]
  },
  {
   "cell_type": "code",
   "execution_count": null,
   "metadata": {
    "id": "Tb_DCJJKx4-K"
   },
   "outputs": [],
   "source": [
    "s= \"123\"\n",
    "int(s) + 5"
   ]
  },
  {
   "cell_type": "markdown",
   "metadata": {
    "id": "24NOi1lYx4-K"
   },
   "source": [
    "### Funciones para secuencias\n",
    "En el caso de las secuencias, tenemos algunas funciones predefinidas interesantes. La más conocida es **len(x)** que devuelve el número de elementos de la secuencia *x*"
   ]
  },
  {
   "cell_type": "code",
   "execution_count": null,
   "metadata": {
    "id": "pSPkIuHgx4-L"
   },
   "outputs": [],
   "source": [
    "x = (0,1,2,3,4,5,6,7)\n",
    "print(len(x),len(x[1:3]))"
   ]
  },
  {
   "cell_type": "markdown",
   "metadata": {
    "id": "7J0Y8RC8x4-L"
   },
   "source": [
    "También se pueden utilizar otras funciones como\n",
    "\n",
    "- mySeq.*index*(x): devuelve la posición (empezando desde 0) de la primera ocurrencia del valor x en la secuencia mySeq, o un error si no x no aparece.  Si se quiere evitar el error mejor emplear el operador *in* dentro de una instrucción *if*. \n",
    "\n",
    "- min(mySeq), max(mySeq): devuelve el menor y el mayor elemento de mySeq, respectivamente.\n",
    "    \n",
    "- mySeq.count(x): devuelve el número de apariciones del valor x en mySeq."
   ]
  },
  {
   "cell_type": "code",
   "execution_count": null,
   "metadata": {
    "id": "-pLnBgGNx4-L"
   },
   "outputs": [],
   "source": [
    "x = (\"Si\", \"me\", \"quieres\", \"quiéreme\", \"entera\", \"no\", \"por\", \"zonas\", \"de\", \"luz\", \"o\", \"sombra\")\n",
    "x.index(\"no\")"
   ]
  },
  {
   "cell_type": "markdown",
   "metadata": {
    "id": "Hishce_Sx4-L"
   },
   "source": [
    "**Ej.** ¿Qué devolverá la siguiente expresión?"
   ]
  },
  {
   "cell_type": "code",
   "execution_count": null,
   "metadata": {
    "id": "VlHMpc9Ax4-M"
   },
   "outputs": [],
   "source": [
    "# quitar el comentario de la línea inferior para probar\n",
    "max(x[1:])"
   ]
  },
  {
   "cell_type": "markdown",
   "metadata": {
    "id": "UaWkv_yTx4-M"
   },
   "source": [
    "## Importación de bibliotecas\n"
   ]
  },
  {
   "cell_type": "markdown",
   "metadata": {
    "id": "bKrvb-b1x4-M"
   },
   "source": [
    "Una de las razones del éxito de Python es la gran cantidad de *bibliotecas* que contienen funciones útiles. Estas bibliotecas ( o módulos, como se denominan en Python) se pueden instalar desde una consola (una consola de Anaconda si estamos en este sistema)\n",
    "\n",
    " \n",
    "    pip install modulo\n",
    "\n",
    "\n",
    "o, si no tenemos permiso para instalar para todos los usuarios\n",
    "\n",
    "    pip install --user  modulo\n",
    "    \n",
    "En algunos sistemas puede que en lugar de *pip* tengamos que utilizar *pip3*.\n",
    "\n",
    "El siguiente ejemplo importa (hace visible al programa) los módulos random y math"
   ]
  },
  {
   "cell_type": "code",
   "execution_count": null,
   "metadata": {
    "id": "Gw7xDigfx4-M"
   },
   "outputs": [],
   "source": [
    "import random\n",
    "import math\n",
    "\n",
    "\n",
    "for i in range(5):\n",
    "    print(random.randint(1, 25))\n",
    "\n",
    "print(math.pi)"
   ]
  },
  {
   "cell_type": "markdown",
   "metadata": {
    "id": "5ugC73QTx4-N"
   },
   "source": [
    "Lo de escribir \n",
    "\n",
    "        random.randint \n",
    "\n",
    "todo el tiempo puede resultar molesto. Si queremos usar solo randint podemos poner:"
   ]
  },
  {
   "cell_type": "code",
   "execution_count": null,
   "metadata": {
    "id": "xk3HNBNlx4-N"
   },
   "outputs": [],
   "source": [
    "from random import randint\n",
    "from math import pi\n",
    "\n",
    "\n",
    "for i in range(5):\n",
    "    print(randint(1, 25))\n",
    "\n",
    "print(pi)"
   ]
  },
  {
   "cell_type": "markdown",
   "metadata": {
    "id": "12GADDEvx4-N"
   },
   "source": [
    "Una última posibilidad es renombrar para utilizar nombres más cortos. El siguiente ejemplo (que no hace falta entender completamente) utiliza esta posibilidad para dibujar gráficos de barras"
   ]
  },
  {
   "cell_type": "code",
   "execution_count": null,
   "metadata": {
    "id": "uTR3liuTx4-N"
   },
   "outputs": [],
   "source": [
    "%matplotlib notebook\n",
    "import numpy as np\n",
    "import matplotlib.pyplot as plt\n",
    "\n",
    "N = 5\n",
    "hombre_means = (20, 35, 30, 35, 27)\n",
    "hombre_std = (2, 3, 4, 1, 2)\n",
    "mujer_means = (25, 32, 34, 20, 25)\n",
    "mujer_std = (3, 5, 2, 3, 3)\n",
    "\n",
    "ind = np.arange(N)  # posición de cada grupo\n",
    "print('ind',ind)\n",
    "width = 0.35       # anchura de las barras\n",
    "\n",
    "fig, ax = plt.subplots()\n",
    "rects1 = ax.bar(ind, hombre_means, width, color='r', yerr=hombre_std)\n",
    "\n",
    "rects2 = ax.bar(ind + width, mujer_means, width, color='y', yerr=mujer_std)\n",
    "\n",
    "# etiquetas, título, marcas en los ejes\n",
    "ax.set_ylabel('Puntuaciones')\n",
    "ax.set_title('Puntuaciones por grupo y género')\n",
    "ax.set_xticks(ind + width / 2)\n",
    "ax.set_xticklabels(('G1', 'G2', 'G3', 'G4', 'G5'))\n",
    "\n",
    "ax.legend((rects1[0], rects2[0]), ('Hombres', 'Mujeres'))\n",
    "plt.show()"
   ]
  },
  {
   "cell_type": "markdown",
   "metadata": {
    "id": "0kJ03eMnx4-O"
   },
   "source": []
  },
  {
   "cell_type": "markdown",
   "metadata": {
    "id": "sc9yNXHkx4-O"
   },
   "source": [
    "**Ejemplo carga de ficheros**\n",
    "\n",
    "Carga de un fichero excel con valores bursátiles"
   ]
  },
  {
   "cell_type": "code",
   "execution_count": null,
   "metadata": {
    "id": "5MQZ2tOJx4-P"
   },
   "outputs": [],
   "source": [
    "import pandas as pd\n",
    "pd.set_option('display.max_columns', None)\n",
    "\n",
    "path = 'http://gpd.sip.ucm.es/rafa/goal/raw_open.xlsx'\n",
    "\n",
    "#path='./raw_open.xlsx'\n",
    "\n",
    "\n",
    "# Cargamos el fichero excel\n",
    "xl = pd.ExcelFile(path)\n",
    "# en particular la hoja rawVol\n",
    "hoja = xl.parse(\"raw_open\")\n",
    "hoja.describe()[1:].transpose()"
   ]
  },
  {
   "cell_type": "markdown",
   "metadata": {
    "id": "dUxzgLRHx4-P"
   },
   "source": [
    "Carga de ficheros de texto separados por comas (CSV)"
   ]
  },
  {
   "cell_type": "code",
   "execution_count": null,
   "metadata": {
    "id": "tTS_quBGx4-P"
   },
   "outputs": [],
   "source": [
    "path = \"http://gpd.sip.ucm.es/rafa/goal/clientes.csv\"\n",
    "df = pd.read_csv(path)\n",
    "df.head()"
   ]
  },
  {
   "cell_type": "markdown",
   "metadata": {
    "id": "9PAvL8vox4-P"
   },
   "source": [
    "### Conversión entre tipos"
   ]
  },
  {
   "cell_type": "markdown",
   "metadata": {
    "id": "WY0RkKpnx4-P"
   },
   "source": [
    "La función predefinida **int( )** se puede convertir para convertir un número real en su parte entera, o para convertir un número entre comillas en su versión como entero (es decir, si no se pone segundo parámetro se asume implícitamente base 10). \n",
    "\n",
    "Para este último uso, conversión de *string* a *int*, disponemos también de una función inversa,  **str( )** que convierte un entero en string.\n",
    "\n"
   ]
  },
  {
   "cell_type": "code",
   "execution_count": null,
   "metadata": {
    "id": "HqWyDj0lx4-Q"
   },
   "outputs": [],
   "source": [
    "print(int(7.7))\n",
    "print(int('7'))"
   ]
  },
  {
   "cell_type": "markdown",
   "metadata": {
    "id": "u-PHZ59px4-Q"
   },
   "source": [
    "**Observaciones: ** \n",
    "\n",
    "* A este tipo de funciones que pasan de un tipo a otro se conoce como *funciones de conversión de tipo*\n",
    "*  Aunque generalmente no nos preocupamos de pensar en los tipos, el sistema comprueba que no mezclemos tipos diferentes en una misma expresión, y si lo hacemos obtendremos un error (a no ser que sea posible una *conversión automática de tipos*)"
   ]
  },
  {
   "cell_type": "code",
   "execution_count": null,
   "metadata": {
    "id": "1fi-rlJPx4-Q"
   },
   "outputs": [],
   "source": [
    "x = '12'\n",
    "# 3+x  # error!!!!\n",
    "3 + int(x)"
   ]
  },
  {
   "cell_type": "markdown",
   "metadata": {
    "id": "WkJG140Kx4-Q"
   },
   "source": [
    "De manera similar, **float(x)**  convierte una cadena x en su representación como número real.\n",
    "\n"
   ]
  },
  {
   "cell_type": "code",
   "execution_count": null,
   "metadata": {
    "id": "P0MbPajix4-R"
   },
   "outputs": [],
   "source": [
    "pi = '3.1415'\n",
    "2*(float(pi))"
   ]
  },
  {
   "cell_type": "markdown",
   "metadata": {
    "id": "a3vZUMcVx4-R"
   },
   "source": [
    "**chr( )** se utiliza para convertir un entero a su equivalente alfabético, mientras que **ord( )** es su función inversa."
   ]
  },
  {
   "cell_type": "code",
   "execution_count": null,
   "metadata": {
    "id": "iKCdQKIhx4-R"
   },
   "outputs": [],
   "source": [
    "chr(98)"
   ]
  },
  {
   "cell_type": "code",
   "execution_count": null,
   "metadata": {
    "id": "oNlCo1y3x4-R"
   },
   "outputs": [],
   "source": [
    "ord('b')"
   ]
  },
  {
   "cell_type": "markdown",
   "metadata": {
    "id": "mFRbaX7Hx4-R"
   },
   "source": [
    "### Funciones predefinidas aritméticas"
   ]
  },
  {
   "cell_type": "markdown",
   "metadata": {
    "id": "km7zTWyJx4-R"
   },
   "source": [
    "**round( )** permite redondear un real a su valor entero más próximo. si se añade un segundo parámetro sirve para redondear al número de decimales indicado. "
   ]
  },
  {
   "cell_type": "code",
   "execution_count": null,
   "metadata": {
    "id": "WkJZ00w1x4-R",
    "scrolled": false
   },
   "outputs": [],
   "source": [
    "print(round(85.6231)) \n",
    "print(round(4.55892, 2))\n",
    "print(int(85.6231))"
   ]
  },
  {
   "cell_type": "markdown",
   "metadata": {
    "id": "Jc6Dnv-Gx4-S"
   },
   "source": [
    "**complex( )** se emplea para definir números complejos, mientras que **abs( )**  deuele el valor absoluto de un número entero/real o el módulo de un número complejo."
   ]
  },
  {
   "cell_type": "code",
   "execution_count": null,
   "metadata": {
    "id": "FYTGHLy4x4-S"
   },
   "outputs": [],
   "source": [
    "c =complex('5+2j')\n",
    "print(abs(c))\n",
    "print(abs(-4.5))"
   ]
  },
  {
   "cell_type": "markdown",
   "metadata": {
    "id": "YL89qhDBx4-S"
   },
   "source": [
    "**divmod(x,y)** devuelve tanto el cociente como el resto de una división. Para eso se utiliza una **tupla** con la forma (cociente, resto). "
   ]
  },
  {
   "cell_type": "code",
   "execution_count": null,
   "metadata": {
    "id": "2Y3pKkRbx4-S"
   },
   "outputs": [],
   "source": [
    "divmod(9,2)"
   ]
  },
  {
   "cell_type": "code",
   "execution_count": null,
   "metadata": {
    "id": "K6ANDOnXx4-S"
   },
   "outputs": [],
   "source": [
    "cociente,resto = divmod(9,2)\n",
    "print(cociente, resto, cociente*2+resto)"
   ]
  },
  {
   "cell_type": "markdown",
   "metadata": {
    "id": "nqKYxFm6x4-T"
   },
   "source": [
    "**isinstance(x,y )** es una función booleana es decir que devuelve True o False, según si x es de tipo y. Se pueden comprobar varias clases a la vez haciendo que el segundo argumento sea una tupla"
   ]
  },
  {
   "cell_type": "code",
   "execution_count": null,
   "metadata": {
    "id": "A5drlIwpx4-T"
   },
   "outputs": [],
   "source": [
    "print(isinstance(1, int))\n",
    "print(isinstance(1.0,int))\n",
    "print(isinstance(1.0,(int,float)))"
   ]
  },
  {
   "cell_type": "markdown",
   "metadata": {
    "id": "Zi1aEddIx4-T"
   },
   "source": [
    "**pow(x,y,z)** se emplea para calcular $x^y$. Si se especifica el tercer argumento, z, el resultado es el módulo: ($x^y$ % z)."
   ]
  },
  {
   "cell_type": "code",
   "execution_count": null,
   "metadata": {
    "id": "aHH-O0XVx4-T"
   },
   "outputs": [],
   "source": [
    "print(pow(3,3))\n",
    "print(pow(3,3,5))"
   ]
  },
  {
   "cell_type": "markdown",
   "metadata": {
    "id": "dFP9qKrlx4-U"
   },
   "source": [
    "La función **range( )** genera una secuencia de enteros dentro del rango indicado. Admite tres formatos, y es una función importante, que utilizaremos muy a menudo:\n",
    "* Si solo recibe un argumento entero x devuelve los valores desde 0 hasta x-1.\n",
    "* Si recibe dos argumentos x,y devuelve la secuencia de elementos que va desde x hasta y-1.\n",
    "* Si recibe tres argumentos, x,y,z, devuelve los elementos desde x hasta y-1, pero saltando de z en z. \n",
    "\n",
    "El resultado es una lista, tipo que veremos en detalle más adelante."
   ]
  },
  {
   "cell_type": "code",
   "execution_count": null,
   "metadata": {
    "id": "jCGBQqRPx4-U"
   },
   "outputs": [],
   "source": [
    "print(range(3))\n",
    "print(range(2,9))\n",
    "print(range(2,27,8))"
   ]
  },
  {
   "cell_type": "markdown",
   "metadata": {
    "id": "9m5wbTevx4-U"
   },
   "source": [
    "## Entrada del usuario"
   ]
  },
  {
   "cell_type": "markdown",
   "metadata": {
    "id": "t_0eI5j6x4-U"
   },
   "source": [
    "**input( )**  es una función que lee lo que teclee el usuario hasta que pulsa enter."
   ]
  },
  {
   "cell_type": "code",
   "execution_count": null,
   "metadata": {
    "id": "hoaI2Varx4-V"
   },
   "outputs": [],
   "source": [
    "abc = input(\"Dime lo que quieras \\t\")\n",
    "print(abc,'? mmmmm...estoy de acuerdo')"
   ]
  },
  {
   "cell_type": "code",
   "execution_count": null,
   "metadata": {
    "id": "icKyRFMxx4-V"
   },
   "outputs": [],
   "source": [
    "type(abc)"
   ]
  },
  {
   "cell_type": "markdown",
   "metadata": {
    "id": "ykH6Ztq3x4-V"
   },
   "source": [
    "Si lo que se quiere es leer un entero, debemos convertirlo con **int()**"
   ]
  },
  {
   "cell_type": "markdown",
   "metadata": {
    "id": "FuYiKUX0x4-V"
   },
   "source": [
    "###### Ej. Corrige el siguiente programa para que calcule de verdad la suma de dos números"
   ]
  },
  {
   "cell_type": "code",
   "execution_count": null,
   "metadata": {
    "id": "fs1aHf8Ux4-W"
   },
   "outputs": [],
   "source": [
    "a =  input(\"Dame un número \")\n",
    "b =  input(\"Y ahora otro \")\n",
    "suma = int(a)+int(b)\n",
    "print('La suma es', suma)"
   ]
  },
  {
   "cell_type": "code",
   "execution_count": null,
   "metadata": {
    "id": "a4y4RTqkx4-W"
   },
   "outputs": [],
   "source": [
    "type(a)"
   ]
  },
  {
   "cell_type": "markdown",
   "metadata": {
    "id": "rc4rhcvgx4-W"
   },
   "source": [
    "Para acabar mencionemos un valor especial, **None**,\n",
    "es un valor especial que puede ser comparado con cualquier otro, \n",
    "sin dar error de tipo"
   ]
  },
  {
   "cell_type": "code",
   "execution_count": null,
   "metadata": {
    "id": "QBbitACgx4-W",
    "outputId": "61371a35-43ca-4ec4-99ea-cd84e88ea133"
   },
   "outputs": [
    {
     "name": "stdout",
     "output_type": "stream",
     "text": [
      "False\n",
      "False\n",
      "True\n"
     ]
    }
   ],
   "source": [
    "print(None==1.5)\n",
    "print(None==True)\n",
    "print(None==None)\n"
   ]
  },
  {
   "cell_type": "markdown",
   "metadata": {
    "id": "bzjQLRjvx4-Z"
   },
   "source": [
    "Puede pensarse entones que None pertenece a todos los tipos, pero no:"
   ]
  },
  {
   "cell_type": "code",
   "execution_count": null,
   "metadata": {
    "id": "Af14e_Mkx4-a",
    "outputId": "24360a04-3b1e-4eac-d977-532e84e909e8"
   },
   "outputs": [
    {
     "name": "stdout",
     "output_type": "stream",
     "text": [
      "False\n",
      "False\n",
      "False\n",
      "False\n",
      "<class 'NoneType'>\n"
     ]
    }
   ],
   "source": [
    "print(isinstance(None,bool))\n",
    "print(isinstance(None,list))\n",
    "print(isinstance(None,float))\n",
    "print(isinstance(None,complex))\n",
    "print(type(None))"
   ]
  },
  {
   "cell_type": "markdown",
   "metadata": {
    "id": "v5Sk6Nwmx4-b"
   },
   "source": [
    "Como vemos, *None* tiene su propio tipo, que resulta ser compatible con los demás. Este valor tan especial resulta muy útil porque normalmente representa que ha habido un error en un cómputo."
   ]
  },
  {
   "cell_type": "code",
   "execution_count": null,
   "metadata": {
    "id": "yutwv5Kvx4-b"
   },
   "outputs": [],
   "source": []
  }
 ],
 "metadata": {
  "colab": {
   "name": "1intro.ipynb",
   "provenance": []
  },
  "kernelspec": {
   "display_name": "Python 3 (ipykernel)",
   "language": "python",
   "name": "python3"
  },
  "language_info": {
   "codemirror_mode": {
    "name": "ipython",
    "version": 3
   },
   "file_extension": ".py",
   "mimetype": "text/x-python",
   "name": "python",
   "nbconvert_exporter": "python",
   "pygments_lexer": "ipython3",
   "version": "3.9.12"
  }
 },
 "nbformat": 4,
 "nbformat_minor": 1
}
