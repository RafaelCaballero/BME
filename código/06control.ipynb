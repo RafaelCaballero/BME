{
 "cells": [
  {
   "cell_type": "markdown",
   "metadata": {},
   "source": [
    "# Una breve introducción a Python  \n",
    "### por Rafa Caballero \n",
    "\n",
    "## Instrucciones de control y funciones de usuario\n"
   ]
  },
  {
   "cell_type": "markdown",
   "metadata": {},
   "source": [
    "\n",
    "\n",
    "### Índice\n",
    "\n",
    "[Condicionales](#Condicionales)<br>\n",
    "    &emsp;[If](#If)<br>\n",
    "    &emsp;[If-else](#If-else)<br>\n",
    "    &emsp;[if-elif](#if-elif)<br><br>\n",
    "[Bucles](#Bucles)<br>\n",
    "    &emsp;[For](#For)<br>\n",
    "    &emsp;[While](#While)<br>\n",
    "    &emsp;[Listas Intensionales](#Listas-Intensionales)<br>\n",
    "    &emsp;[Lectura de ficheros](#Lectura-de-ficheros)<br>\n",
    "    \n",
    "[Funciones definidas por el usuario](#Funciones-definidas-por-el-usuario)<br>\n",
    "    &emsp;[Estructura](#Estructura)<br>\n",
    "    &emsp;[Parámetros por defecto](#Parámetros-por-defecto)<br>\n",
    "    &emsp;[Parámetros nombrados](#Parámetros-nombrados)<br>\n",
    "    &emsp;[Funciones lambda](#Funciones-lambda)<br>\n",
    "<hr>\n",
    "\n",
    "Como hemos visto, Python, como casi todos los lenguajes, va procesando las instrucciones de forma consecutiva, de arriba hacia abajo.\n",
    "Al hablar de *instrucciones de control*, nos referimos a aquellas instrucciones que nos permiten cambiar este modo de funcionamiento, elegir qué instrucciones se ejecutarán y cuáles no, y qué numero de veces lo harán."
   ]
  },
  {
   "cell_type": "markdown",
   "metadata": {},
   "source": [
    "## Condicionales"
   ]
  },
  {
   "cell_type": "markdown",
   "metadata": {},
   "source": [
    "Las instrucciones condicionales permiten *bifurcar* el código, indicando si una instrucción se va a ejecutar o no dependiendo de una condición."
   ]
  },
  {
   "cell_type": "markdown",
   "metadata": {},
   "source": [
    "### If"
   ]
  },
  {
   "cell_type": "markdown",
   "metadata": {},
   "source": [
    "La forma general es\n",
    "\n",
    "     if cond_booleana:\n",
    "         código"
   ]
  },
  {
   "cell_type": "code",
   "execution_count": 5,
   "metadata": {},
   "outputs": [
    {
     "name": "stdout",
     "output_type": "stream",
     "text": [
      "r\n"
     ]
    }
   ],
   "source": [
    "x = 12\n",
    "if x >10:\n",
    "    print(\"Hola!!\")\n"
   ]
  },
  {
   "cell_type": "markdown",
   "metadata": {},
   "source": [
    "Importante: El código que corresponde al *if* debe ir identado a la derecha. Al menos 4 espacios; mientras se siga con la identación se entiende que estamos dentro del bloque.\n",
    "\n"
   ]
  },
  {
   "cell_type": "markdown",
   "metadata": {},
   "source": [
    "### If-else"
   ]
  },
  {
   "cell_type": "markdown",
   "metadata": {},
   "source": [
    "Forma general\n",
    "\n",
    "    if cond_booleana:\n",
    "        código\n",
    "    else:\n",
    "        código"
   ]
  },
  {
   "cell_type": "code",
   "execution_count": 7,
   "metadata": {},
   "outputs": [
    {
     "name": "stdout",
     "output_type": "stream",
     "text": [
      "hello\n"
     ]
    }
   ],
   "source": [
    "x = 10\n",
    "if x > 10:\n",
    "    print(\"hello\")\n",
    "else:\n",
    "    print(\"world\")"
   ]
  },
  {
   "cell_type": "markdown",
   "metadata": {},
   "source": [
    "**Ej.** Decir qué hará el siguiente código sin necesidad de ejecutarlo, tanto en el caso de que la edad sea mayor que 18 como en el caso contrario."
   ]
  },
  {
   "cell_type": "code",
   "execution_count": 16,
   "metadata": {},
   "outputs": [
    {
     "name": "stdout",
     "output_type": "stream",
     "text": [
      "Buenos días, me dice su edad? aaaa\n"
     ]
    },
    {
     "ename": "ValueError",
     "evalue": "invalid literal for int() with base 10: 'aaaa'",
     "output_type": "error",
     "traceback": [
      "\u001b[1;31m---------------------------------------------------------------------------\u001b[0m",
      "\u001b[1;31mValueError\u001b[0m                                Traceback (most recent call last)",
      "\u001b[1;32m<ipython-input-16-fbc886c8e062>\u001b[0m in \u001b[0;36m<module>\u001b[1;34m\u001b[0m\n\u001b[0;32m      1\u001b[0m \u001b[0medad\u001b[0m \u001b[1;33m=\u001b[0m \u001b[0minput\u001b[0m\u001b[1;33m(\u001b[0m\u001b[1;34m\"Buenos días, me dice su edad? \"\u001b[0m\u001b[1;33m)\u001b[0m\u001b[1;33m\u001b[0m\u001b[1;33m\u001b[0m\u001b[0m\n\u001b[1;32m----> 2\u001b[1;33m \u001b[1;32mif\u001b[0m \u001b[0mint\u001b[0m\u001b[1;33m(\u001b[0m\u001b[0medad\u001b[0m\u001b[1;33m)\u001b[0m \u001b[1;33m<\u001b[0m\u001b[1;36m18\u001b[0m\u001b[1;33m:\u001b[0m\u001b[1;33m\u001b[0m\u001b[1;33m\u001b[0m\u001b[0m\n\u001b[0m\u001b[0;32m      3\u001b[0m     \u001b[0mprint\u001b[0m\u001b[1;33m(\u001b[0m\u001b[1;34m\"Los menores no tienen acceso permitido\"\u001b[0m\u001b[1;33m)\u001b[0m\u001b[1;33m\u001b[0m\u001b[1;33m\u001b[0m\u001b[0m\n\u001b[0;32m      4\u001b[0m     \u001b[0mprint\u001b[0m\u001b[1;33m(\u001b[0m\u001b[1;34m\"Lo lamentamos\"\u001b[0m\u001b[1;33m)\u001b[0m\u001b[1;33m\u001b[0m\u001b[1;33m\u001b[0m\u001b[0m\n\u001b[0;32m      5\u001b[0m \u001b[1;32melse\u001b[0m\u001b[1;33m:\u001b[0m\u001b[1;33m\u001b[0m\u001b[1;33m\u001b[0m\u001b[0m\n",
      "\u001b[1;31mValueError\u001b[0m: invalid literal for int() with base 10: 'aaaa'"
     ]
    }
   ],
   "source": [
    "edad = input(\"Buenos días, me dice su edad? \")\n",
    "if int(edad) <18:\n",
    "    print(\"Los menores no tienen acceso permitido\")\n",
    "    print(\"Lo lamentamos\")\n",
    "else:\n",
    "    print(\"Bienvenido, pase\")\n",
    "print(\"Siguiente!\")"
   ]
  },
  {
   "cell_type": "markdown",
   "metadata": {},
   "source": [
    "**Ej.** Escribir código para mostrar el mayor de dos números x,y"
   ]
  },
  {
   "cell_type": "code",
   "execution_count": 17,
   "metadata": {},
   "outputs": [
    {
     "name": "stdout",
     "output_type": "stream",
     "text": [
      "6\n"
     ]
    }
   ],
   "source": [
    "x=5\n",
    "y=6\n",
    "if x>y:\n",
    "    print(x)\n",
    "else:\n",
    "    print(y)\n",
    "# debe funcionar sea el que sea el mayor"
   ]
  },
  {
   "cell_type": "markdown",
   "metadata": {},
   "source": [
    "Escribir un código que pida un login y un password (con dos input) si el login es \"bertoldo\" y el password \"gominolas\" el programa escribira \"login correcto\", y si no \"acceso denegado\""
   ]
  },
  {
   "cell_type": "code",
   "execution_count": 29,
   "metadata": {},
   "outputs": [
    {
     "name": "stdout",
     "output_type": "stream",
     "text": [
      "su nombre por favor yo\n",
      "su contraseña por favor gominolas\n",
      "datos incorrectos\n"
     ]
    }
   ],
   "source": [
    "# solución\n",
    "\n",
    "nombre = input(\"su nombre por favor \" )\n",
    "contraseña = input(\"su contraseña por favor \" )\n",
    "if nombre == \"bertoldo\" and contraseña == \"gominolas\":\n",
    "    print(\"sesión iniciada correctamente\")\n",
    "else:\n",
    "    print(\"datos incorrectos\")\n"
   ]
  },
  {
   "cell_type": "markdown",
   "metadata": {},
   "source": [
    "### if-elif"
   ]
  },
  {
   "cell_type": "markdown",
   "metadata": {},
   "source": [
    "Se utiiza para abreviar estructuras de la forma *if cond ... else if cond ... else if*\n",
    "\n",
    "    if cond_booleana:\n",
    "        código\n",
    "    elif cond_booleana:\n",
    "        código\n",
    "    else:\n",
    "        código"
   ]
  },
  {
   "cell_type": "markdown",
   "metadata": {},
   "source": [
    "Dados dos números x,y, mostrar si x es mayor, menor o igual a y"
   ]
  },
  {
   "cell_type": "code",
   "execution_count": null,
   "metadata": {},
   "outputs": [],
   "source": [
    "x = 10\n",
    "y = 12\n",
    "if x > y:\n",
    "    print(\"x>y\")\n",
    "elif: x < y:\n",
    "        print(\"x<y\")\n",
    "else:\n",
    "    print(\"x=y\")"
   ]
  },
  {
   "cell_type": "markdown",
   "metadata": {},
   "source": [
    "Un if dentro de un if se llama un *if anidado*"
   ]
  },
  {
   "cell_type": "code",
   "execution_count": null,
   "metadata": {},
   "outputs": [],
   "source": [
    "x = 10\n",
    "y = 12\n",
    "if x > y:\n",
    "    print(\"x>y\")\n",
    "elif x < y:\n",
    "    print(\"x<y\")\n",
    "    if x>0:\n",
    "        print(\"x positivo\")\n",
    "    else:\n",
    "        print(\"ínvalido\")\n",
    "else:\n",
    "    print(\"x=y\")"
   ]
  },
  {
   "cell_type": "markdown",
   "metadata": {},
   "source": [
    "**Ej.** Escribir código para mostrar el mayor de 3 números x,y,z"
   ]
  },
  {
   "cell_type": "code",
   "execution_count": 39,
   "metadata": {},
   "outputs": [
    {
     "name": "stdout",
     "output_type": "stream",
     "text": [
      "el mayor es  7\n"
     ]
    }
   ],
   "source": [
    "x=7\n",
    "y=6\n",
    "z=8\n",
    "if y>x and y>z:\n",
    "    print(\"el mayor es \", y)\n",
    "elif x>y and x>z:\n",
    "    print(\"el mayor es \", x)\n",
    "else:\n",
    "    print(\"el mayor es \", z)\n",
    "        \n",
    "    \n",
    "    "
   ]
  },
  {
   "cell_type": "markdown",
   "metadata": {},
   "source": [
    "## Bucles"
   ]
  },
  {
   "cell_type": "markdown",
   "metadata": {},
   "source": [
    "### For"
   ]
  },
  {
   "cell_type": "markdown",
   "metadata": {},
   "source": [
    "Formato general\n",
    "    \n",
    "    for variable in estructura_iterable:\n",
    "        código\n",
    "        \n",
    "Ejemplo: escribir los números de 0 a 4"
   ]
  },
  {
   "cell_type": "code",
   "execution_count": 2,
   "metadata": {},
   "outputs": [
    {
     "name": "stdout",
     "output_type": "stream",
     "text": [
      "0\n",
      "1\n",
      "2\n",
      "3\n",
      "4\n"
     ]
    }
   ],
   "source": [
    "for i in (0,1,2,3,4):\n",
    "    print(i)"
   ]
  },
  {
   "cell_type": "code",
   "execution_count": 1,
   "metadata": {},
   "outputs": [
    {
     "name": "stdout",
     "output_type": "stream",
     "text": [
      "0\n",
      "1\n",
      "2\n",
      "3\n",
      "4\n"
     ]
    }
   ],
   "source": [
    "for i in range(5):\n",
    "    print(i)"
   ]
  },
  {
   "cell_type": "markdown",
   "metadata": {},
   "source": [
    "Equivalente a:"
   ]
  },
  {
   "cell_type": "code",
   "execution_count": 3,
   "metadata": {},
   "outputs": [
    {
     "name": "stdout",
     "output_type": "stream",
     "text": [
      "0\n",
      "1\n",
      "2\n"
     ]
    }
   ],
   "source": [
    "i=0\n",
    "print(i)\n",
    "i=1\n",
    "print(i)\n",
    "i=2\n",
    "print(i)\n",
    "# ..."
   ]
  },
  {
   "cell_type": "markdown",
   "metadata": {},
   "source": [
    "**Ej.** Escribir un fragmento de código que, para cada número desde 0 hasta 10, escriba el número si es par. Pista: cuando x es par, x % 2 == 0"
   ]
  },
  {
   "cell_type": "code",
   "execution_count": 9,
   "metadata": {},
   "outputs": [
    {
     "name": "stdout",
     "output_type": "stream",
     "text": [
      "2\n",
      "4\n",
      "6\n",
      "8\n",
      "10\n"
     ]
    }
   ],
   "source": []
  },
  {
   "cell_type": "markdown",
   "metadata": {},
   "source": [
    "Otras estructuras iterables son secuencias (listas, tuplas),  y los ficheros"
   ]
  },
  {
   "cell_type": "code",
   "execution_count": 10,
   "metadata": {},
   "outputs": [
    {
     "name": "stdout",
     "output_type": "stream",
     "text": [
      "[1, 2, 3, 4]\n",
      "[5, 6, 7, 8]\n",
      "[9, 10, 11, 12]\n"
     ]
    }
   ],
   "source": [
    "list_of_lists = [[1, 2, 3,4], [ 5, 6,7,8], [9,10,11,12]]\n",
    "for list1 in list_of_lists:\n",
    "        print(list1)"
   ]
  },
  {
   "cell_type": "markdown",
   "metadata": {},
   "source": [
    "Un ejemplo sobre una lista anidada"
   ]
  },
  {
   "cell_type": "code",
   "execution_count": 17,
   "metadata": {},
   "outputs": [
    {
     "name": "stdout",
     "output_type": "stream",
     "text": [
      "[1, 2, 3]\n",
      "1\n",
      "2\n",
      "3\n",
      "----------\n",
      "[4, 5, 6]\n",
      "4\n",
      "5\n",
      "6\n",
      "----------\n",
      "[7, 8, 9]\n",
      "7\n",
      "8\n",
      "9\n",
      "----------\n",
      "fin\n"
     ]
    }
   ],
   "source": [
    "list_of_lists = [[1, 2, 3], [4, 5, 6], [7, 8, 9]]\n",
    "for list1 in list_of_lists:\n",
    "    print(list1)\n",
    "    for x in list1:\n",
    "        print(x)\n",
    "    print(\"--\"*5)\n",
    "print(\"fin\")\n"
   ]
  },
  {
   "cell_type": "markdown",
   "metadata": {},
   "source": [
    "**Ej.** Calcular todos los divisores de un número i cualquiera"
   ]
  },
  {
   "cell_type": "code",
   "execution_count": 28,
   "metadata": {},
   "outputs": [
    {
     "name": "stdout",
     "output_type": "stream",
     "text": [
      "1 es divisor de 1024\n",
      "2 es divisor de 1024\n",
      "4 es divisor de 1024\n",
      "8 es divisor de 1024\n",
      "16 es divisor de 1024\n",
      "32 es divisor de 1024\n",
      "64 es divisor de 1024\n",
      "128 es divisor de 1024\n",
      "256 es divisor de 1024\n",
      "512 es divisor de 1024\n",
      "1024 es divisor de 1024\n"
     ]
    }
   ],
   "source": [
    "i=1024\n",
    "for d in range(1,i+1): # d es candidato a dividir a i. d=1...i\n",
    "    #print(d)\n",
    "    if i%d == 0:\n",
    "        print (d, \"es divisor de\", i)\n"
   ]
  },
  {
   "cell_type": "markdown",
   "metadata": {},
   "source": [
    "**Ej.** Escribir un fragmento que, para cada número de 1 a 100, escriba la lista de sus divisores. Por ejemplo, para 10 escribirá 1,2,5,10."
   ]
  },
  {
   "cell_type": "code",
   "execution_count": 27,
   "metadata": {},
   "outputs": [
    {
     "name": "stdout",
     "output_type": "stream",
     "text": [
      "i 1\n",
      "1 es divisor de 1\n",
      "i 2\n",
      "1 es divisor de 2\n",
      "2 es divisor de 2\n",
      "i 3\n",
      "1 es divisor de 3\n",
      "3 es divisor de 3\n",
      "i 4\n",
      "1 es divisor de 4\n",
      "2 es divisor de 4\n",
      "4 es divisor de 4\n",
      "i 5\n",
      "1 es divisor de 5\n",
      "5 es divisor de 5\n",
      "i 6\n",
      "1 es divisor de 6\n",
      "2 es divisor de 6\n",
      "3 es divisor de 6\n",
      "6 es divisor de 6\n",
      "i 7\n",
      "1 es divisor de 7\n",
      "7 es divisor de 7\n",
      "i 8\n",
      "1 es divisor de 8\n",
      "2 es divisor de 8\n",
      "4 es divisor de 8\n",
      "8 es divisor de 8\n",
      "i 9\n",
      "1 es divisor de 9\n",
      "3 es divisor de 9\n",
      "9 es divisor de 9\n",
      "i 10\n",
      "1 es divisor de 10\n",
      "2 es divisor de 10\n",
      "5 es divisor de 10\n",
      "10 es divisor de 10\n",
      "i 11\n",
      "1 es divisor de 11\n",
      "11 es divisor de 11\n",
      "i 12\n",
      "1 es divisor de 12\n",
      "2 es divisor de 12\n",
      "3 es divisor de 12\n",
      "4 es divisor de 12\n",
      "6 es divisor de 12\n",
      "12 es divisor de 12\n",
      "i 13\n",
      "1 es divisor de 13\n",
      "13 es divisor de 13\n",
      "i 14\n",
      "1 es divisor de 14\n",
      "2 es divisor de 14\n",
      "7 es divisor de 14\n",
      "14 es divisor de 14\n",
      "i 15\n",
      "1 es divisor de 15\n",
      "3 es divisor de 15\n",
      "5 es divisor de 15\n",
      "15 es divisor de 15\n",
      "i 16\n",
      "1 es divisor de 16\n",
      "2 es divisor de 16\n",
      "4 es divisor de 16\n",
      "8 es divisor de 16\n",
      "16 es divisor de 16\n",
      "i 17\n",
      "1 es divisor de 17\n",
      "17 es divisor de 17\n",
      "i 18\n",
      "1 es divisor de 18\n",
      "2 es divisor de 18\n",
      "3 es divisor de 18\n",
      "6 es divisor de 18\n",
      "9 es divisor de 18\n",
      "18 es divisor de 18\n",
      "i 19\n",
      "1 es divisor de 19\n",
      "19 es divisor de 19\n",
      "i 20\n",
      "1 es divisor de 20\n",
      "2 es divisor de 20\n",
      "4 es divisor de 20\n",
      "5 es divisor de 20\n",
      "10 es divisor de 20\n",
      "20 es divisor de 20\n",
      "i 21\n",
      "1 es divisor de 21\n",
      "3 es divisor de 21\n",
      "7 es divisor de 21\n",
      "21 es divisor de 21\n",
      "i 22\n",
      "1 es divisor de 22\n",
      "2 es divisor de 22\n",
      "11 es divisor de 22\n",
      "22 es divisor de 22\n",
      "i 23\n",
      "1 es divisor de 23\n",
      "23 es divisor de 23\n",
      "i 24\n",
      "1 es divisor de 24\n",
      "2 es divisor de 24\n",
      "3 es divisor de 24\n",
      "4 es divisor de 24\n",
      "6 es divisor de 24\n",
      "8 es divisor de 24\n",
      "12 es divisor de 24\n",
      "24 es divisor de 24\n",
      "i 25\n",
      "1 es divisor de 25\n",
      "5 es divisor de 25\n",
      "25 es divisor de 25\n",
      "i 26\n",
      "1 es divisor de 26\n",
      "2 es divisor de 26\n",
      "13 es divisor de 26\n",
      "26 es divisor de 26\n",
      "i 27\n",
      "1 es divisor de 27\n",
      "3 es divisor de 27\n",
      "9 es divisor de 27\n",
      "27 es divisor de 27\n",
      "i 28\n",
      "1 es divisor de 28\n",
      "2 es divisor de 28\n",
      "4 es divisor de 28\n",
      "7 es divisor de 28\n",
      "14 es divisor de 28\n",
      "28 es divisor de 28\n",
      "i 29\n",
      "1 es divisor de 29\n",
      "29 es divisor de 29\n",
      "i 30\n",
      "1 es divisor de 30\n",
      "2 es divisor de 30\n",
      "3 es divisor de 30\n",
      "5 es divisor de 30\n",
      "6 es divisor de 30\n",
      "10 es divisor de 30\n",
      "15 es divisor de 30\n",
      "30 es divisor de 30\n",
      "i 31\n",
      "1 es divisor de 31\n",
      "31 es divisor de 31\n",
      "i 32\n",
      "1 es divisor de 32\n",
      "2 es divisor de 32\n",
      "4 es divisor de 32\n",
      "8 es divisor de 32\n",
      "16 es divisor de 32\n",
      "32 es divisor de 32\n",
      "i 33\n",
      "1 es divisor de 33\n",
      "3 es divisor de 33\n",
      "11 es divisor de 33\n",
      "33 es divisor de 33\n",
      "i 34\n",
      "1 es divisor de 34\n",
      "2 es divisor de 34\n",
      "17 es divisor de 34\n",
      "34 es divisor de 34\n",
      "i 35\n",
      "1 es divisor de 35\n",
      "5 es divisor de 35\n",
      "7 es divisor de 35\n",
      "35 es divisor de 35\n",
      "i 36\n",
      "1 es divisor de 36\n",
      "2 es divisor de 36\n",
      "3 es divisor de 36\n",
      "4 es divisor de 36\n",
      "6 es divisor de 36\n",
      "9 es divisor de 36\n",
      "12 es divisor de 36\n",
      "18 es divisor de 36\n",
      "36 es divisor de 36\n",
      "i 37\n",
      "1 es divisor de 37\n",
      "37 es divisor de 37\n",
      "i 38\n",
      "1 es divisor de 38\n",
      "2 es divisor de 38\n",
      "19 es divisor de 38\n",
      "38 es divisor de 38\n",
      "i 39\n",
      "1 es divisor de 39\n",
      "3 es divisor de 39\n",
      "13 es divisor de 39\n",
      "39 es divisor de 39\n",
      "i 40\n",
      "1 es divisor de 40\n",
      "2 es divisor de 40\n",
      "4 es divisor de 40\n",
      "5 es divisor de 40\n",
      "8 es divisor de 40\n",
      "10 es divisor de 40\n",
      "20 es divisor de 40\n",
      "40 es divisor de 40\n",
      "i 41\n",
      "1 es divisor de 41\n",
      "41 es divisor de 41\n",
      "i 42\n",
      "1 es divisor de 42\n",
      "2 es divisor de 42\n",
      "3 es divisor de 42\n",
      "6 es divisor de 42\n",
      "7 es divisor de 42\n",
      "14 es divisor de 42\n",
      "21 es divisor de 42\n",
      "42 es divisor de 42\n",
      "i 43\n",
      "1 es divisor de 43\n",
      "43 es divisor de 43\n",
      "i 44\n",
      "1 es divisor de 44\n",
      "2 es divisor de 44\n",
      "4 es divisor de 44\n",
      "11 es divisor de 44\n",
      "22 es divisor de 44\n",
      "44 es divisor de 44\n",
      "i 45\n",
      "1 es divisor de 45\n",
      "3 es divisor de 45\n",
      "5 es divisor de 45\n",
      "9 es divisor de 45\n",
      "15 es divisor de 45\n",
      "45 es divisor de 45\n",
      "i 46\n",
      "1 es divisor de 46\n",
      "2 es divisor de 46\n",
      "23 es divisor de 46\n",
      "46 es divisor de 46\n",
      "i 47\n",
      "1 es divisor de 47\n",
      "47 es divisor de 47\n",
      "i 48\n",
      "1 es divisor de 48\n",
      "2 es divisor de 48\n",
      "3 es divisor de 48\n",
      "4 es divisor de 48\n",
      "6 es divisor de 48\n",
      "8 es divisor de 48\n",
      "12 es divisor de 48\n",
      "16 es divisor de 48\n",
      "24 es divisor de 48\n",
      "48 es divisor de 48\n",
      "i 49\n",
      "1 es divisor de 49\n",
      "7 es divisor de 49\n",
      "49 es divisor de 49\n",
      "i 50\n",
      "1 es divisor de 50\n",
      "2 es divisor de 50\n",
      "5 es divisor de 50\n",
      "10 es divisor de 50\n",
      "25 es divisor de 50\n",
      "50 es divisor de 50\n",
      "i 51\n",
      "1 es divisor de 51\n",
      "3 es divisor de 51\n",
      "17 es divisor de 51\n",
      "51 es divisor de 51\n",
      "i 52\n",
      "1 es divisor de 52\n",
      "2 es divisor de 52\n",
      "4 es divisor de 52\n",
      "13 es divisor de 52\n",
      "26 es divisor de 52\n",
      "52 es divisor de 52\n",
      "i 53\n",
      "1 es divisor de 53\n",
      "53 es divisor de 53\n",
      "i 54\n",
      "1 es divisor de 54\n",
      "2 es divisor de 54\n",
      "3 es divisor de 54\n",
      "6 es divisor de 54\n",
      "9 es divisor de 54\n",
      "18 es divisor de 54\n",
      "27 es divisor de 54\n",
      "54 es divisor de 54\n",
      "i 55\n",
      "1 es divisor de 55\n",
      "5 es divisor de 55\n",
      "11 es divisor de 55\n",
      "55 es divisor de 55\n",
      "i 56\n",
      "1 es divisor de 56\n",
      "2 es divisor de 56\n",
      "4 es divisor de 56\n",
      "7 es divisor de 56\n",
      "8 es divisor de 56\n",
      "14 es divisor de 56\n",
      "28 es divisor de 56\n",
      "56 es divisor de 56\n",
      "i 57\n",
      "1 es divisor de 57\n",
      "3 es divisor de 57\n",
      "19 es divisor de 57\n",
      "57 es divisor de 57\n",
      "i 58\n",
      "1 es divisor de 58\n",
      "2 es divisor de 58\n",
      "29 es divisor de 58\n",
      "58 es divisor de 58\n",
      "i 59\n",
      "1 es divisor de 59\n",
      "59 es divisor de 59\n",
      "i 60\n",
      "1 es divisor de 60\n",
      "2 es divisor de 60\n",
      "3 es divisor de 60\n",
      "4 es divisor de 60\n",
      "5 es divisor de 60\n",
      "6 es divisor de 60\n",
      "10 es divisor de 60\n",
      "12 es divisor de 60\n",
      "15 es divisor de 60\n",
      "20 es divisor de 60\n",
      "30 es divisor de 60\n",
      "60 es divisor de 60\n",
      "i 61\n",
      "1 es divisor de 61\n",
      "61 es divisor de 61\n",
      "i 62\n",
      "1 es divisor de 62\n",
      "2 es divisor de 62\n",
      "31 es divisor de 62\n",
      "62 es divisor de 62\n",
      "i 63\n",
      "1 es divisor de 63\n",
      "3 es divisor de 63\n",
      "7 es divisor de 63\n",
      "9 es divisor de 63\n",
      "21 es divisor de 63\n",
      "63 es divisor de 63\n",
      "i 64\n",
      "1 es divisor de 64\n",
      "2 es divisor de 64\n",
      "4 es divisor de 64\n",
      "8 es divisor de 64\n",
      "16 es divisor de 64\n",
      "32 es divisor de 64\n",
      "64 es divisor de 64\n",
      "i 65\n",
      "1 es divisor de 65\n",
      "5 es divisor de 65\n",
      "13 es divisor de 65\n",
      "65 es divisor de 65\n",
      "i 66\n",
      "1 es divisor de 66\n",
      "2 es divisor de 66\n",
      "3 es divisor de 66\n",
      "6 es divisor de 66\n",
      "11 es divisor de 66\n",
      "22 es divisor de 66\n",
      "33 es divisor de 66\n",
      "66 es divisor de 66\n",
      "i 67\n",
      "1 es divisor de 67\n",
      "67 es divisor de 67\n",
      "i 68\n",
      "1 es divisor de 68\n",
      "2 es divisor de 68\n",
      "4 es divisor de 68\n",
      "17 es divisor de 68\n",
      "34 es divisor de 68\n",
      "68 es divisor de 68\n",
      "i 69\n",
      "1 es divisor de 69\n",
      "3 es divisor de 69\n",
      "23 es divisor de 69\n",
      "69 es divisor de 69\n",
      "i 70\n",
      "1 es divisor de 70\n",
      "2 es divisor de 70\n",
      "5 es divisor de 70\n",
      "7 es divisor de 70\n",
      "10 es divisor de 70\n",
      "14 es divisor de 70\n",
      "35 es divisor de 70\n",
      "70 es divisor de 70\n",
      "i 71\n",
      "1 es divisor de 71\n",
      "71 es divisor de 71\n",
      "i 72\n",
      "1 es divisor de 72\n",
      "2 es divisor de 72\n",
      "3 es divisor de 72\n",
      "4 es divisor de 72\n",
      "6 es divisor de 72\n",
      "8 es divisor de 72\n",
      "9 es divisor de 72\n",
      "12 es divisor de 72\n",
      "18 es divisor de 72\n",
      "24 es divisor de 72\n",
      "36 es divisor de 72\n",
      "72 es divisor de 72\n",
      "i 73\n",
      "1 es divisor de 73\n",
      "73 es divisor de 73\n",
      "i 74\n",
      "1 es divisor de 74\n",
      "2 es divisor de 74\n",
      "37 es divisor de 74\n",
      "74 es divisor de 74\n",
      "i 75\n",
      "1 es divisor de 75\n",
      "3 es divisor de 75\n",
      "5 es divisor de 75\n",
      "15 es divisor de 75\n",
      "25 es divisor de 75\n",
      "75 es divisor de 75\n",
      "i 76\n",
      "1 es divisor de 76\n",
      "2 es divisor de 76\n",
      "4 es divisor de 76\n",
      "19 es divisor de 76\n",
      "38 es divisor de 76\n",
      "76 es divisor de 76\n",
      "i 77\n",
      "1 es divisor de 77\n",
      "7 es divisor de 77\n",
      "11 es divisor de 77\n",
      "77 es divisor de 77\n",
      "i 78\n",
      "1 es divisor de 78\n",
      "2 es divisor de 78\n",
      "3 es divisor de 78\n",
      "6 es divisor de 78\n",
      "13 es divisor de 78\n",
      "26 es divisor de 78\n",
      "39 es divisor de 78\n",
      "78 es divisor de 78\n",
      "i 79\n",
      "1 es divisor de 79\n",
      "79 es divisor de 79\n",
      "i 80\n",
      "1 es divisor de 80\n",
      "2 es divisor de 80\n",
      "4 es divisor de 80\n",
      "5 es divisor de 80\n",
      "8 es divisor de 80\n",
      "10 es divisor de 80\n",
      "16 es divisor de 80\n",
      "20 es divisor de 80\n",
      "40 es divisor de 80\n",
      "80 es divisor de 80\n",
      "i 81\n",
      "1 es divisor de 81\n",
      "3 es divisor de 81\n",
      "9 es divisor de 81\n",
      "27 es divisor de 81\n",
      "81 es divisor de 81\n",
      "i 82\n",
      "1 es divisor de 82\n",
      "2 es divisor de 82\n",
      "41 es divisor de 82\n",
      "82 es divisor de 82\n",
      "i 83\n",
      "1 es divisor de 83\n",
      "83 es divisor de 83\n",
      "i 84\n",
      "1 es divisor de 84\n",
      "2 es divisor de 84\n",
      "3 es divisor de 84\n",
      "4 es divisor de 84\n",
      "6 es divisor de 84\n",
      "7 es divisor de 84\n",
      "12 es divisor de 84\n",
      "14 es divisor de 84\n",
      "21 es divisor de 84\n",
      "28 es divisor de 84\n",
      "42 es divisor de 84\n",
      "84 es divisor de 84\n",
      "i 85\n",
      "1 es divisor de 85\n",
      "5 es divisor de 85\n",
      "17 es divisor de 85\n",
      "85 es divisor de 85\n",
      "i 86\n",
      "1 es divisor de 86\n",
      "2 es divisor de 86\n",
      "43 es divisor de 86\n",
      "86 es divisor de 86\n",
      "i 87\n",
      "1 es divisor de 87\n",
      "3 es divisor de 87\n",
      "29 es divisor de 87\n",
      "87 es divisor de 87\n",
      "i 88\n",
      "1 es divisor de 88\n",
      "2 es divisor de 88\n",
      "4 es divisor de 88\n",
      "8 es divisor de 88\n",
      "11 es divisor de 88\n",
      "22 es divisor de 88\n",
      "44 es divisor de 88\n",
      "88 es divisor de 88\n",
      "i 89\n",
      "1 es divisor de 89\n",
      "89 es divisor de 89\n",
      "i 90\n",
      "1 es divisor de 90\n",
      "2 es divisor de 90\n",
      "3 es divisor de 90\n",
      "5 es divisor de 90\n",
      "6 es divisor de 90\n",
      "9 es divisor de 90\n",
      "10 es divisor de 90\n",
      "15 es divisor de 90\n",
      "18 es divisor de 90\n",
      "30 es divisor de 90\n",
      "45 es divisor de 90\n",
      "90 es divisor de 90\n",
      "i 91\n",
      "1 es divisor de 91\n",
      "7 es divisor de 91\n",
      "13 es divisor de 91\n",
      "91 es divisor de 91\n",
      "i 92\n",
      "1 es divisor de 92\n",
      "2 es divisor de 92\n",
      "4 es divisor de 92\n",
      "23 es divisor de 92\n",
      "46 es divisor de 92\n",
      "92 es divisor de 92\n",
      "i 93\n",
      "1 es divisor de 93\n",
      "3 es divisor de 93\n",
      "31 es divisor de 93\n",
      "93 es divisor de 93\n",
      "i 94\n",
      "1 es divisor de 94\n",
      "2 es divisor de 94\n",
      "47 es divisor de 94\n",
      "94 es divisor de 94\n",
      "i 95\n",
      "1 es divisor de 95\n",
      "5 es divisor de 95\n",
      "19 es divisor de 95\n",
      "95 es divisor de 95\n",
      "i 96\n",
      "1 es divisor de 96\n",
      "2 es divisor de 96\n",
      "3 es divisor de 96\n",
      "4 es divisor de 96\n",
      "6 es divisor de 96\n",
      "8 es divisor de 96\n",
      "12 es divisor de 96\n",
      "16 es divisor de 96\n",
      "24 es divisor de 96\n",
      "32 es divisor de 96\n",
      "48 es divisor de 96\n",
      "96 es divisor de 96\n",
      "i 97\n",
      "1 es divisor de 97\n",
      "97 es divisor de 97\n",
      "i 98\n",
      "1 es divisor de 98\n",
      "2 es divisor de 98\n",
      "7 es divisor de 98\n",
      "14 es divisor de 98\n",
      "49 es divisor de 98\n",
      "98 es divisor de 98\n",
      "i 99\n",
      "1 es divisor de 99\n",
      "3 es divisor de 99\n",
      "9 es divisor de 99\n",
      "11 es divisor de 99\n",
      "33 es divisor de 99\n",
      "99 es divisor de 99\n",
      "i 100\n",
      "1 es divisor de 100\n",
      "2 es divisor de 100\n",
      "4 es divisor de 100\n",
      "5 es divisor de 100\n",
      "10 es divisor de 100\n",
      "20 es divisor de 100\n",
      "25 es divisor de 100\n",
      "50 es divisor de 100\n",
      "100 es divisor de 100\n"
     ]
    }
   ],
   "source": [
    "for i in range(1,101):\n",
    "    print(\"i\",i)\n",
    "    for d in range(1,i+1):\n",
    "        #print(d)\n",
    "        if i%d == 0:\n",
    "            print (d, \"es divisor de\", i)\n"
   ]
  },
  {
   "cell_type": "markdown",
   "metadata": {},
   "source": [
    "**Ej.** Calcular el número total de divisores que tiene un número i dado"
   ]
  },
  {
   "cell_type": "code",
   "execution_count": 30,
   "metadata": {},
   "outputs": [
    {
     "name": "stdout",
     "output_type": "stream",
     "text": [
      "1024 tiene 11 divisores\n"
     ]
    }
   ],
   "source": [
    "i=1024\n",
    "contador = 0\n",
    "for d in range(1,i+1): # d es candidato a dividir a i. d=1...i\n",
    "    #print(d)\n",
    "    if i%d == 0:\n",
    "        contador = contador+1\n",
    "print(i,\"tiene\",contador,\"divisores\")        "
   ]
  },
  {
   "cell_type": "markdown",
   "metadata": {},
   "source": [
    "**Ej.** Escribir un fragmento de código que deje en una variable tipo lista de enteros l todos los divisiones de 100. Idea: partir de *l=[ ]* e ir usando el método append para ir añadiendo elementos a *l*."
   ]
  },
  {
   "cell_type": "code",
   "execution_count": null,
   "metadata": {},
   "outputs": [],
   "source": []
  },
  {
   "cell_type": "markdown",
   "metadata": {},
   "source": [
    "**Ej.** Sabemos que el método *find* busca subcadenas. Supongamos por un momento que no existe. Escribir un fragmento de código que dado, un string *s* busque todas las apariciones de la letra \"u\" y muestre por pantalla la posición en la que aparecen."
   ]
  },
  {
   "cell_type": "code",
   "execution_count": 24,
   "metadata": {},
   "outputs": [],
   "source": [
    "s = \"\"\"Tyger! Tyger! burning bright.\n",
    "    In the forests of the night, \n",
    "    What immortal hand or eye. ...\"\"\""
   ]
  },
  {
   "cell_type": "markdown",
   "metadata": {},
   "source": [
    "Nos venimos arriba y queremos extender el código anterior para que en lugar de buscar un caracter busque todas las apariciones de una subcadena s1 dentro de s. Como en el caso anterior queremos que muestra la posición en la que aparece."
   ]
  },
  {
   "cell_type": "code",
   "execution_count": null,
   "metadata": {},
   "outputs": [],
   "source": [
    "s = \"\"\"Tyger! Tyger! burning bright.\n",
    "    In the forests of the night, \n",
    "    What immortal hand or eye. ...\"\"\"\n"
   ]
  },
  {
   "cell_type": "markdown",
   "metadata": {},
   "source": [
    "### While"
   ]
  },
  {
   "cell_type": "markdown",
   "metadata": {},
   "source": [
    "Forma: \n",
    "    \n",
    "    while cond_booleana:    \n",
    "        código"
   ]
  },
  {
   "cell_type": "code",
   "execution_count": null,
   "metadata": {},
   "outputs": [],
   "source": [
    "i = 1\n",
    "while i < 3:\n",
    "    print(i ** 2)\n",
    "    i = i+1\n",
    "print('Bye')"
   ]
  },
  {
   "cell_type": "markdown",
   "metadata": {},
   "source": [
    "**Ej.** Repetimos el ejercicio de buscar un caracter en una cadena s, pero ahora solo queremos que deje en una variable *p* la primera aparición de la \"u\". Si no aparece debe dejar p=-1."
   ]
  },
  {
   "cell_type": "code",
   "execution_count": 25,
   "metadata": {},
   "outputs": [],
   "source": [
    "s = \"dábale arroz a la zorra el abad\"\n",
    "s = \"había muchas letras en aquella extraña frase\"\n",
    "#print(p)"
   ]
  },
  {
   "cell_type": "markdown",
   "metadata": {},
   "source": [
    "**Ej.** (Difícil) Dentro de la wikipedia, para el item \"Banco de España\" (ver notebook *string*),  para cada aparición de la palabra \"rey\", mostrar desde esa palabra hasta el siguiente \".\". "
   ]
  },
  {
   "cell_type": "code",
   "execution_count": 3,
   "metadata": {},
   "outputs": [],
   "source": [
    "# cargar en s el contenido de la entrada\n",
    "s = \"\"\"\n",
    "El Banco de España es el organismo del Estado español que actúa de banco central nacional y, en el marco del Mecanismo Único de Supervisión (MUS), el supervisor del sistema bancario español junto al Banco Central Europeo.\n",
    "Su actividad está regulada por la Ley de Autonomía del Banco de España.[7]​ El Banco de España es además parte integrante del Sistema Europeo de Bancos Centrales (SEBC) y por tanto está sometido a las disposiciones del Tratado de la Comunidad Europea y a los Estatutos del SEBC.\n",
    "Desde 1891, su sede principal está situada en la calle Alcalá, 48, junto a la plaza de Cibeles. Asimismo, cuenta con una parada de metro que toma su nombre.\n",
    "\n",
    "\n",
    "== Historia ==\n",
    "El Banco de España tiene una larga tradición histórica, que hunde sus raíces en el siglo XVIII.\n",
    "\n",
    "\n",
    "=== El Banco de San Carlos ===\n",
    "En 1782, el rey Carlos III creó en Madrid una sociedad por acciones, cuya propiedad correspondía a instituciones y sujetos particulares. Los principales gobernantes ilustrados de la época, como el primer secretario de Estado, el conde de Floridablanca, el secretario de Estado de Hacienda, Miguel de Múzquiz y Goyeneche, y el fiscal del Consejo de Castilla, Pedro Rodríguez de Campomanes, apoyaron la creación de este instituto bancario. Aunque no era un banco público, gozaba de la protección de la Corona, y mantenía estrechos lazos financieros con el Estado. Se llamó Banco Nacional de San Carlos.\n",
    "El principal objeto del Banco Nacional de San Carlos era la reducción o descuento de vales reales a metálico. Los vales reales eran una modalidad de deuda pública, cuyos títulos, además de proporcionar una rentabilidad determinada a su poseedor, tenían capacidad liberatoria en grandes pagos, por lo que son considerados la primera manifestación de papel moneda existente en España. El creador de los vales reales fue Francisco Cabarrús, un comerciante ilustrado de origen francés, quien sería asimismo fundador del Banco Nacional de San Carlos y miembro nato de su dirección. En 1789 recibiría de Carlos IV el título de conde de Cabarrús. El Banco Nacional de San Carlos tenía también, entre otros cometidos, el descuento de letras de cambio y efectos de comercio, los préstamos con garantía y la financiación de actividades del Estado.\n",
    "Al año siguiente de su institución empezó a emitir los primeros billetes llamados «cédulas». Estas cédulas garantizaban un inmediato reembolso en metálico, reembolso que efectuaría el propio banco emisor; se canjeaban al portador sin producir ningún interés, lo cual les diferenciaba de los vales reales. Este carácter de cédula o billete duró hasta la guerra civil española, por eso todos los billetes llevaban la leyenda «El Banco de España pagará al portador...». La frase sobrevivió hasta 1976, pero había perdido valor legal desde la ley de noviembre de 1939.\n",
    "Sin embargo, los billetes en cuestión, las cédulas, no tuvieron ningún éxito, debido a la abundancia de moneda de plata circulante en España a finales del siglo XVIII y comienzos del XIX y a la propia existencia de los vales reales. En 1790, Francisco Cabarrús y los restantes directores fueron relevados de sus cargos, debido a la aparición de pérdidas causadas en determinadas competencias del Banco de San Carlos, y bajo la sospecha de irregularidades. Cabarrús fue procesado y encarcelado preventivamente. Al cabo de seis años se sobreseyó la causa y Cabarrús quedó reintegrado a su puesto, aunque rodeado por un equipo directivo diferente y ajeno a su voluntad.\n",
    "Entre los años 1793 y 1814, España se vio implicada en una serie de guerras que arrastraron al Banco y lo situaron en serias dificultades, causadas principalmente por la considerable deuda que el Tesoro había contraído con el Banco a lo largo de esos veinte años de conflictos. Finalmente, en el año de 1829 se encontró una solución para dicho débito, gracias al ministro de Hacienda del rey Fernando VII, Luis López Ballesteros, quien además de tomar ciertas medidas financieras innovadoras, concibió la idea de dotar al Banco de San Carlos con un fondo de 40 millones de reales.\n",
    "Con esta ayuda los accionistas, decidieron fundar una nueva institución con el nombre de Banco Español de San Fernando (por ser rey Fernando VII). Este nuevo banco consiguió la facultad de emitir billetes en régimen de monopolio en Madrid. A lo largo de quince años mantuvo una continua actividad bancaria en el ámbito de la capital de España, con especial dedicación a las necesidades financieras del tesoro, en unos años en que afianzaba el naciente régimen liberal, y especialmente durante la primera guerra carlista.\n",
    "En 1844, el Gobierno autorizó la apertura de un nuevo banco emisor en Madrid, el Banco de Isabel II, cuyo principal inspirador fue el financiero José Salamanca y Mayol. En el mismo año fue aprobada la creación de un banco emisor en Barcelona y en 1846 la de otro similar en Cádiz. Cada uno de estos bancos tenía facultad de emitir sus propios billetes y de ponerlos en circulación en sus respectivos ámbitos locales, además de desenvolver sus restantes actividades crediticias, salvo el caso de Madrid, donde compitieron las dos entidades existentes en ella.\n",
    "Al cabo de tres años, y en plena crisis financiera internacional de 1847, el Gobierno decidió resolver las dificultades por las que atravesaban los dos emisores de Madrid, principalmente el Banco de Isabel II, mediante la fusión de ambos. La entidad resultante de dicho proceso conservó el nombre de Banco Español de San Fernando. Las consecuencias de la crisis fueron duraderas, y tras diversos cambios legales, fue nombrado en 1849 gobernador del Banco Español de San Fernando el exministro de Hacienda Ramón Santillán. Santillán llevó a cabo, entre 1851 y 1856, una ejemplar labor de saneamiento financiero dentro de la entidad.\n",
    "\n",
    "\n",
    "=== Nacimiento del Banco de España ===\n",
    "Tras la Revolución de 1854, la legislación bancaria de 1856, de inspiración netamente liberal, permitió, entre otras modificaciones, que el Banco de San Fernando pasara a llamarse Banco de España, cuyo primer gobernador siguió siendo el del Banco de San Fernando, Ramón Santillán. A pesar de la denominación de Banco de España, esta institución solo operaba entonces en Madrid, Valencia y Alicante, ciudades en que abrió sucursales en 1858. Otras diecinueve localidades españolas, entre ellas los principales centros industriales y mercantiles, como Barcelona, Bilbao, Málaga, Sevilla, Zaragoza, Valladolid o Santander, contaron con sus propios bancos de emisión y descuentos dentro del período 1856-1874.\n",
    "El 19 de marzo de 1874 las acuciantes y forzosas necesidades financieras causadas por la tercera guerra carlista y por la guerra de los Diez Años, simultánea a la anterior, obligaron al entonces ministro de Hacienda en el Gobierno de la Primera República, José Echegaray, decretar la fusión de todos los bancos emisores locales con el Banco de España. No obstante, a estos últimos se les dejaba la opción de continuar con su actividad comercial y crediticia, aunque sin facultad de emitir billetes, cuyo monopolio en todo el territorio de la nación, correspondería, en adelante, al Banco de España.[8]​ A dicha posibilidad sólo se acogieron los Bancos de Barcelona, Bilbao, Reus, Santander y Tarragona. A cambio del privilegio emisor, el Banco de España concedió un crédito de 150 millones de pesetas.\n",
    "\n",
    "A partir de entonces, el Banco de España estableció una densa red de sucursales en toda la nación, comenzando por los antiguos de bancos emisores absorbidos. A finales del siglo XIX, había más de cincuenta sucursales del banco en todas las capitales de provincia y ciudades de importancia mercantil. Es preciso subrayar que, en esta época, el Banco de España –que seguía siendo una sociedad por acciones de propiedad privada, aunque el gobernador y los subgobernadores eran nombrados y aprobados respectivamente por el Gobierno- simultaneaba la emisión de billetes y el crédito al tesoro público con actividades de préstamos y descuentos con particulares a través de sus oficinas en las diferentes ciudades españolas. Con la Ley de Ordenación Bancaria de 1921, el Banco de España se consagró como banco de bancos, o banco central, desarrollando –de acuerdo con el Gobierno- nuevos instrumentos de política monetaria. Tras la guerra civil española, el Banco de España perdió competencias y autonomía a favor del Ministerio de Hacienda. Entre dichos cambios los más importantes fueron:\n",
    "...\n",
    "\"\"\"\n"
   ]
  },
  {
   "cell_type": "code",
   "execution_count": 21,
   "metadata": {
    "scrolled": true
   },
   "outputs": [
    {
     "name": "stdout",
     "output_type": "stream",
     "text": [
      "rey Carlos III creó en Madrid una sociedad por acciones, cuya propiedad correspondía a instituciones y sujetos particulares.\n",
      "rey Fernando VII, Luis López Ballesteros, quien además de tomar ciertas medidas financieras innovadoras, concibió la idea de dotar al Banco de San Carlos con un fondo de 40 millones de reales.\n",
      "rey Fernando VII).\n",
      "rey a propuesta del presidente del Gobierno de España, entre quienes sean españoles y tengan reconocida competencia en asuntos monetarios o bancarios.\n"
     ]
    }
   ],
   "source": [
    "# a buscar\n"
   ]
  },
  {
   "cell_type": "markdown",
   "metadata": {},
   "source": [
    "**Ej.** (muy difícil) Queremos modificar el ejercicio anterior para que la fraseque contiene la palabra \"rey\" se muestre desde el principio, no desde esta palabra."
   ]
  },
  {
   "cell_type": "code",
   "execution_count": null,
   "metadata": {},
   "outputs": [],
   "source": []
  },
  {
   "cell_type": "markdown",
   "metadata": {},
   "source": [
    "### Listas Intensionales"
   ]
  },
  {
   "cell_type": "markdown",
   "metadata": {},
   "source": [
    "Tal y como dijimos, en Python las listas son estructuras muy usadas para almacenar datos, por ejemplo:"
   ]
  },
  {
   "cell_type": "code",
   "execution_count": 27,
   "metadata": {},
   "outputs": [
    {
     "name": "stdout",
     "output_type": "stream",
     "text": [
      "[1, 2, 4, 5, 10, 20, 25, 50, 100]\n"
     ]
    }
   ],
   "source": [
    "div = []\n",
    "for i in range(1,101):\n",
    "    if 100 % i == 0: \n",
    "        div.append(i)\n",
    "print(div)"
   ]
  },
  {
   "cell_type": "markdown",
   "metadata": {},
   "source": [
    "Este tipo de código es tan común que se ofrece una forma de hacerlo en una sola expresión, las listas intensionales:"
   ]
  },
  {
   "cell_type": "code",
   "execution_count": 28,
   "metadata": {},
   "outputs": [
    {
     "data": {
      "text/plain": [
       "[1, 2, 4, 5, 10, 20, 25, 50, 100]"
      ]
     },
     "execution_count": 28,
     "metadata": {},
     "output_type": "execute_result"
    }
   ],
   "source": [
    "[i for i in range(1,101) if 100%i==0]"
   ]
  },
  {
   "cell_type": "markdown",
   "metadata": {},
   "source": [
    "La sintaxis es: \n",
    "``` Python\n",
    "nuevalista = [expr for var in estructura_iterable if condicion]\n",
    "```"
   ]
  },
  {
   "cell_type": "markdown",
   "metadata": {},
   "source": [
    "La idea es:\n",
    "\n",
    "* La variable irá tomando todos los valores de la estructura_iterable\n",
    "* Los valores que no cumplen el *if* se descartan (el *if* es opcional)\n",
    "* Los valores que sí cumplen el if se evalúan en la expresión expr, cuyo resultado se añade a la lista nueva"
   ]
  },
  {
   "cell_type": "code",
   "execution_count": null,
   "metadata": {},
   "outputs": [],
   "source": [
    "[x for x in range(1,20) if x % 2 ==0]"
   ]
  },
  {
   "cell_type": "markdown",
   "metadata": {},
   "source": [
    "**Ejemplo** Escribir código que extraiga solo los símbolos no numéricos de un string (x.isalpha indica si un carácter es no numérico)"
   ]
  },
  {
   "cell_type": "code",
   "execution_count": 2,
   "metadata": {},
   "outputs": [],
   "source": [
    "s = \"y5o n0o qui1ero9 tantos digitos\"\n"
   ]
  },
  {
   "cell_type": "markdown",
   "metadata": {},
   "source": [
    "**Ej.** Generar un lista y que  para cada elemento v de x tenga v*v"
   ]
  },
  {
   "cell_type": "code",
   "execution_count": null,
   "metadata": {},
   "outputs": [],
   "source": [
    "x = list(range(10))\n"
   ]
  },
  {
   "cell_type": "markdown",
   "metadata": {},
   "source": [
    "### Lectura de ficheros"
   ]
  },
  {
   "cell_type": "markdown",
   "metadata": {},
   "source": [
    "Para leer de ficheros es conveniente utilizar la palabra reservada with, que se encargará de liberar recursos al acabar"
   ]
  },
  {
   "cell_type": "code",
   "execution_count": 1,
   "metadata": {},
   "outputs": [
    {
     "ename": "FileNotFoundError",
     "evalue": "[Errno 2] No such file or directory: 'c:/hlocal/titanic.csv'",
     "output_type": "error",
     "traceback": [
      "\u001b[1;31m---------------------------------------------------------------------------\u001b[0m",
      "\u001b[1;31mFileNotFoundError\u001b[0m                         Traceback (most recent call last)",
      "Cell \u001b[1;32mIn [1], line 2\u001b[0m\n\u001b[0;32m      1\u001b[0m path \u001b[38;5;241m=\u001b[39m \u001b[38;5;124m'\u001b[39m\u001b[38;5;124mc:/hlocal/titanic.csv\u001b[39m\u001b[38;5;124m'\u001b[39m\n\u001b[1;32m----> 2\u001b[0m \u001b[38;5;28;01mwith\u001b[39;00m \u001b[38;5;28;43mopen\u001b[39;49m\u001b[43m(\u001b[49m\u001b[43mpath\u001b[49m\u001b[43m)\u001b[49m \u001b[38;5;28;01mas\u001b[39;00m f:\n\u001b[0;32m      3\u001b[0m     content \u001b[38;5;241m=\u001b[39m f\u001b[38;5;241m.\u001b[39mreadlines()\n\u001b[0;32m      5\u001b[0m \u001b[38;5;28mprint\u001b[39m(content)\n",
      "File \u001b[1;32mE:\\instalados\\anaconda\\lib\\site-packages\\IPython\\core\\interactiveshell.py:282\u001b[0m, in \u001b[0;36m_modified_open\u001b[1;34m(file, *args, **kwargs)\u001b[0m\n\u001b[0;32m    275\u001b[0m \u001b[38;5;28;01mif\u001b[39;00m file \u001b[38;5;129;01min\u001b[39;00m {\u001b[38;5;241m0\u001b[39m, \u001b[38;5;241m1\u001b[39m, \u001b[38;5;241m2\u001b[39m}:\n\u001b[0;32m    276\u001b[0m     \u001b[38;5;28;01mraise\u001b[39;00m \u001b[38;5;167;01mValueError\u001b[39;00m(\n\u001b[0;32m    277\u001b[0m         \u001b[38;5;124mf\u001b[39m\u001b[38;5;124m\"\u001b[39m\u001b[38;5;124mIPython won\u001b[39m\u001b[38;5;124m'\u001b[39m\u001b[38;5;124mt let you open fd=\u001b[39m\u001b[38;5;132;01m{\u001b[39;00mfile\u001b[38;5;132;01m}\u001b[39;00m\u001b[38;5;124m by default \u001b[39m\u001b[38;5;124m\"\u001b[39m\n\u001b[0;32m    278\u001b[0m         \u001b[38;5;124m\"\u001b[39m\u001b[38;5;124mas it is likely to crash IPython. If you know what you are doing, \u001b[39m\u001b[38;5;124m\"\u001b[39m\n\u001b[0;32m    279\u001b[0m         \u001b[38;5;124m\"\u001b[39m\u001b[38;5;124myou can use builtins\u001b[39m\u001b[38;5;124m'\u001b[39m\u001b[38;5;124m open.\u001b[39m\u001b[38;5;124m\"\u001b[39m\n\u001b[0;32m    280\u001b[0m     )\n\u001b[1;32m--> 282\u001b[0m \u001b[38;5;28;01mreturn\u001b[39;00m io_open(file, \u001b[38;5;241m*\u001b[39margs, \u001b[38;5;241m*\u001b[39m\u001b[38;5;241m*\u001b[39mkwargs)\n",
      "\u001b[1;31mFileNotFoundError\u001b[0m: [Errno 2] No such file or directory: 'c:/hlocal/titanic.csv'"
     ]
    }
   ],
   "source": [
    "path = 'c:/hlocal/titanic.csv'\n",
    "with open(path) as f:\n",
    "    content = f.readlines()\n",
    "    \n",
    "print(content)"
   ]
  },
  {
   "cell_type": "code",
   "execution_count": null,
   "metadata": {},
   "outputs": [],
   "source": []
  },
  {
   "cell_type": "code",
   "execution_count": null,
   "metadata": {},
   "outputs": [],
   "source": [
    "path = 'c:/hlocal/titanic.csv'\n",
    "lista = []\n",
    "with open(path,encoding=\"utf-8\") as f:\n",
    "    for line in f:\n",
    "        print(line)\n"
   ]
  },
  {
   "cell_type": "markdown",
   "metadata": {},
   "source": [
    "**Ejercicio** Escribir un código que muestre el tanto por ciento de supervivientes"
   ]
  },
  {
   "cell_type": "code",
   "execution_count": null,
   "metadata": {},
   "outputs": [],
   "source": []
  },
  {
   "cell_type": "code",
   "execution_count": null,
   "metadata": {},
   "outputs": [],
   "source": [
    "import csv\n",
    "path = 'c:/hlocal/titanic.csv'\n",
    "with open(path) as csvfile:\n",
    "    readCSV = csv.reader(csvfile, delimiter=',')\n",
    "    for row in readCSV:\n",
    "        print(row)\n",
    "        print(row[0],row[3])\n"
   ]
  },
  {
   "cell_type": "code",
   "execution_count": null,
   "metadata": {},
   "outputs": [],
   "source": []
  },
  {
   "cell_type": "markdown",
   "metadata": {},
   "source": [
    "## Funciones definidas por el usuario"
   ]
  },
  {
   "cell_type": "markdown",
   "metadata": {},
   "source": [
    "### Estructura"
   ]
  },
  {
   "cell_type": "markdown",
   "metadata": {},
   "source": [
    "La estructura general es:\n",
    "\n",
    "    def userDefFunction (arg1, arg2, arg3 ...):\n",
    "        program statement1\n",
    "        program statement3\n",
    "        program statement3\n",
    "        ....\n",
    "       return value"
   ]
  },
  {
   "cell_type": "code",
   "execution_count": null,
   "metadata": {},
   "outputs": [],
   "source": [
    "def cubo(x):\n",
    "    r = x*x*x\n",
    "    return r"
   ]
  },
  {
   "cell_type": "code",
   "execution_count": null,
   "metadata": {},
   "outputs": [],
   "source": [
    "cubo(3)"
   ]
  },
  {
   "cell_type": "code",
   "execution_count": null,
   "metadata": {},
   "outputs": [],
   "source": [
    "x=2\n",
    "a=2\n",
    "cubo(a)"
   ]
  },
  {
   "cell_type": "code",
   "execution_count": null,
   "metadata": {},
   "outputs": [],
   "source": [
    "cubo(cubo(2))"
   ]
  },
  {
   "cell_type": "markdown",
   "metadata": {},
   "source": [
    "### Parámetros por defecto"
   ]
  },
  {
   "cell_type": "markdown",
   "metadata": {},
   "source": [
    "La función puede especificar algunos valores por defecto para que no tenga que proporcionarlos el usuario"
   ]
  },
  {
   "cell_type": "code",
   "execution_count": null,
   "metadata": {},
   "outputs": [],
   "source": [
    "import cmath\n",
    "def raices(a,b=0,c=0):\n",
    "    #discriminante\n",
    "    d = b*b - 4*a*c\n",
    "    sol1 = -b+cmath.sqrt(d)/(2*a)\n",
    "    sol2 = -b-cmath.sqrt(d)/(2*a)\n",
    "    return sol1,sol2\n",
    "    "
   ]
  },
  {
   "cell_type": "code",
   "execution_count": null,
   "metadata": {},
   "outputs": [],
   "source": [
    "raices(1,16,4)"
   ]
  },
  {
   "cell_type": "code",
   "execution_count": null,
   "metadata": {},
   "outputs": [],
   "source": [
    "raices(1,16) # c es 0"
   ]
  },
  {
   "cell_type": "markdown",
   "metadata": {},
   "source": [
    "### Parámetros nombrados"
   ]
  },
  {
   "cell_type": "markdown",
   "metadata": {},
   "source": [
    "Un problema con los parámetros por defecto es especificar qué parámetros queremos que tomen valor por defecto ¿qué sucede si, en el ejemplo anterior, b es 0, pero c no?. Esto se resuelve indicado explícitamente a qué parámetro de la función se refiere cada parámetro de llamada"
   ]
  },
  {
   "cell_type": "code",
   "execution_count": null,
   "metadata": {},
   "outputs": [],
   "source": [
    "raices(a=2,c=5)"
   ]
  },
  {
   "cell_type": "markdown",
   "metadata": {},
   "source": [
    "Obviamente si se utilizan los parámetros nombrados, aquellos que no se nombren deben tener valor por defecto"
   ]
  },
  {
   "cell_type": "markdown",
   "metadata": {},
   "source": [
    "### Funciones lambda"
   ]
  },
  {
   "cell_type": "markdown",
   "metadata": {},
   "source": [
    "Se trata de funciones que se declaran \"sobre la marcha\"; no tienen nombre y se pueden almacenar en funciones, incluso pasar como parámetros. Se suele decir que las  lambda convierten a las funciones en \"ciudadanos de primera clase\" en Python"
   ]
  },
  {
   "cell_type": "code",
   "execution_count": null,
   "metadata": {},
   "outputs": [],
   "source": [
    "x = lambda a,b: a // b\n",
    "print(x(8,3))\n",
    "x = lambda a,b: a / b\n",
    "print(x(8,3))"
   ]
  },
  {
   "cell_type": "code",
   "execution_count": null,
   "metadata": {},
   "outputs": [],
   "source": [
    "def cosarara(n):\n",
    "    return lambda m:m*n"
   ]
  },
  {
   "cell_type": "markdown",
   "metadata": {},
   "source": [
    "**Ej.** ¿qué escribira el siguiente código?"
   ]
  },
  {
   "cell_type": "code",
   "execution_count": null,
   "metadata": {},
   "outputs": [],
   "source": [
    "a = cosarara(5)\n",
    "b = cosarara(6)\n",
    "print(a(2))\n",
    "print(b(2))"
   ]
  },
  {
   "cell_type": "markdown",
   "metadata": {},
   "source": [
    "# Excepciones"
   ]
  },
  {
   "attachments": {
    "imagen.png": {
     "image/png": "[encoded data removed]"
    }
   },
   "cell_type": "markdown",
   "metadata": {},
   "source": [
    "A menudo se producen errores durante la ejecución del programa que pueden \"romper\" el programa. Las excepciones nos permiten capturarlas.\n",
    " \n",
    "    try:\n",
    "       try_suite\n",
    "    except exception_group1 as variable1:\n",
    "       except_suite1\n",
    "       …\n",
    "    except exception_groupN as variableN:\n",
    "       except_suiteN\n",
    "    else:\n",
    "       else_suite\n",
    "    finally:\n",
    "       finally_suite\n",
    "\n",
    "try_suite es el bloque de instrucciones que se pueden *romper* los apartados *except* describen posibles tipos de errores. El bloque *else* se ejecuta si no ocurre ninguna excepción. En cambio el bloque *finally* se ejecuta siempre, haya o no excepción\n",
    "\n",
    "Los valores *exception_groupi*  tienen que ser uno de los de la jerarquía de los errores\n",
    "\n",
    "\n",
    "![imagen.png](attachment:imagen.png)\n",
    "\n",
    "Ojo porque si ponemos primero un error de más arriba en la jerarquía, por ejemplo *EnvironmentError*, ya no se detectará un *OSError*. Es decir se va ejecutándo de arriba hacia abajo y el primero caso que encaja hace que ya no se mire más"
   ]
  },
  {
   "cell_type": "code",
   "execution_count": 33,
   "metadata": {},
   "outputs": [
    {
     "name": "stdout",
     "output_type": "stream",
     "text": [
      "División por 0\n",
      "yo me ejecuto en todo caso...\n"
     ]
    }
   ],
   "source": [
    "a = 5\n",
    "b = 0\n",
    "try:\n",
    "    x = a/b\n",
    "except ZeroDivisionError:\n",
    "    print(\"División por 0\")\n",
    "except AritmeticError: \n",
    "    print(\"Error aritmético\")\n",
    "except KeyError:\n",
    "    print(\"La clave no existe\")\n",
    "else:\n",
    "    print(\"No hay error\")\n",
    "finally:\n",
    "    print(\"yo me ejecuto en todo caso...\")"
   ]
  },
  {
   "cell_type": "code",
   "execution_count": null,
   "metadata": {},
   "outputs": [],
   "source": []
  }
 ],
 "metadata": {
  "kernelspec": {
   "display_name": "Python 3 (ipykernel)",
   "language": "python",
   "name": "python3"
  },
  "language_info": {
   "codemirror_mode": {
    "name": "ipython",
    "version": 3
   },
   "file_extension": ".py",
   "mimetype": "text/x-python",
   "name": "python",
   "nbconvert_exporter": "python",
   "pygments_lexer": "ipython3",
   "version": "3.9.12"
  }
 },
 "nbformat": 4,
 "nbformat_minor": 1
}
