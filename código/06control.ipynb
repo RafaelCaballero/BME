{
  "cells": [
    {
      "cell_type": "markdown",
      "metadata": {
        "id": "OR96py_xMM_e"
      },
      "source": [
        "# Una breve introducción a Python  \n",
        "### por Rafa Caballero\n",
        "\n",
        "## Instrucciones de control y funciones de usuario\n"
      ]
    },
    {
      "cell_type": "markdown",
      "metadata": {
        "id": "rRIImfoBMM_g"
      },
      "source": [
        "\n",
        "\n",
        "### Índice\n",
        "\n",
        "[Condicionales](#Condicionales)<br>\n",
        "    &emsp;[If](#If)<br>\n",
        "    &emsp;[If-else](#If-else)<br>\n",
        "    &emsp;[if-elif](#if-elif)<br><br>\n",
        "[Bucles](#Bucles)<br>\n",
        "    &emsp;[For](#For)<br>\n",
        "    &emsp;[While](#While)<br>\n",
        "    &emsp;[Listas Intensionales](#Listas-Intensionales)<br>\n",
        "    &emsp;[Lectura de ficheros](#Lectura-de-ficheros)<br>\n",
        "    \n",
        "[Funciones definidas por el usuario](#Funciones-definidas-por-el-usuario)<br>\n",
        "    &emsp;[Estructura](#Estructura)<br>\n",
        "    &emsp;[Parámetros por defecto](#Parámetros-por-defecto)<br>\n",
        "    &emsp;[Parámetros nombrados](#Parámetros-nombrados)<br>\n",
        "    &emsp;[Funciones lambda](#Funciones-lambda)<br>\n",
        "<hr>\n",
        "\n",
        "Como hemos visto, Python, como casi todos los lenguajes, va procesando las instrucciones de forma consecutiva, de arriba hacia abajo.\n",
        "Al hablar de *instrucciones de control*, nos referimos a aquellas instrucciones que nos permiten cambiar este modo de funcionamiento, elegir qué instrucciones se ejecutarán y cuáles no, y qué numero de veces lo harán."
      ]
    },
    {
      "cell_type": "markdown",
      "metadata": {
        "id": "ShPGEE5_MM_g"
      },
      "source": [
        "## Condicionales"
      ]
    },
    {
      "cell_type": "markdown",
      "metadata": {
        "id": "-cfiXAf0MM_h"
      },
      "source": [
        "Las instrucciones condicionales permiten *bifurcar* el código, indicando si una instrucción se va a ejecutar o no dependiendo de una condición."
      ]
    },
    {
      "cell_type": "markdown",
      "metadata": {
        "id": "6F7s4fauMM_h"
      },
      "source": [
        "### If"
      ]
    },
    {
      "cell_type": "markdown",
      "metadata": {
        "id": "GWqTY2NrMM_h"
      },
      "source": [
        "La forma general es\n",
        "\n",
        "     if cond_booleana:\n",
        "         código"
      ]
    },
    {
      "cell_type": "code",
      "execution_count": null,
      "metadata": {
        "id": "zvquT18IMM_h"
      },
      "outputs": [],
      "source": [
        "x = 2\n",
        "if x >10:\n",
        "    print(\"Hola\")\n",
        "    print(\" Bertoldo\")\n",
        "\n",
        "\n",
        "print(\"adios\")\n",
        "\n"
      ]
    },
    {
      "cell_type": "markdown",
      "metadata": {
        "id": "MPD7pgfyMM_i"
      },
      "source": [
        "Importante: El código que corresponde al *if* debe ir identado a la derecha. Al menos 4 espacios; mientras se siga con la identación se entiende que estamos dentro del bloque.\n",
        "\n"
      ]
    },
    {
      "cell_type": "markdown",
      "metadata": {
        "id": "xQQOamTJMM_i"
      },
      "source": [
        "### If-else"
      ]
    },
    {
      "cell_type": "markdown",
      "metadata": {
        "id": "PGPbkVOAMM_j"
      },
      "source": [
        "Forma general\n",
        "\n",
        "    if cond_booleana:\n",
        "        código\n",
        "    else:\n",
        "        código"
      ]
    },
    {
      "cell_type": "code",
      "execution_count": null,
      "metadata": {
        "id": "m0fed2zDMM_j"
      },
      "outputs": [],
      "source": [
        "x = 10\n",
        "if x > 10:\n",
        "    print(\"hello\")\n",
        "else:\n",
        "    print(\"world\")\n",
        "\n",
        "print(\"let's go!\")"
      ]
    },
    {
      "cell_type": "markdown",
      "metadata": {
        "id": "6hiRKRdPMM_j"
      },
      "source": [
        "**Ej.** Decir qué hará el siguiente código sin necesidad de ejecutarlo, tanto en el caso de que la edad sea mayor que 18 como en el caso contrario."
      ]
    },
    {
      "cell_type": "code",
      "execution_count": null,
      "metadata": {
        "id": "AWkjgkPrMM_j"
      },
      "outputs": [],
      "source": [
        "edad = input(\"Buenos días, me dice su edad? \")\n",
        "if int(edad) <18:\n",
        "    print(\"Los menores no tienen acceso permitido\")\n",
        "    print(\"Lo lamentamos\")\n",
        "else:\n",
        "    print(\"Bienvenido, pase\")\n",
        "print(\"Siguiente!\")"
      ]
    },
    {
      "cell_type": "markdown",
      "metadata": {
        "id": "Sgb6N0uaMM_j"
      },
      "source": [
        "**Ej.** Escribir código para mostrar el mayor de dos números x,y"
      ]
    },
    {
      "cell_type": "code",
      "execution_count": null,
      "metadata": {
        "id": "HutZ_3bwMM_j"
      },
      "outputs": [],
      "source": [
        "x=50\n",
        "y=6\n",
        "# debe funcionar sea el que sea el mayor\n",
        "if x>y:\n",
        "  print(\"x\",x)\n",
        "else:\n",
        "  print(\"y\",y)\n",
        "\n",
        "print(\"Hecho!\")\n"
      ]
    },
    {
      "cell_type": "markdown",
      "metadata": {
        "id": "u9s-783CMM_j"
      },
      "source": [
        "Escribir un código que pida un login y un password (con dos input) si el login es \"bertoldo\" y el password \"gominolas\" el programa escribira \"login correcto\", y si no \"acceso denegado\""
      ]
    },
    {
      "cell_type": "code",
      "execution_count": null,
      "metadata": {
        "id": "BheDkKu5MM_j"
      },
      "outputs": [],
      "source": [
        "# solución\n",
        "login = input(\"login:\")\n",
        "passwd = input(\"passwd:\")\n",
        "if login==\"bertoldo\" and passwd==\"gominolas\":\n",
        "  print(\"login correcto\")\n",
        "else:\n",
        "  print(\"acceso denegado\")\n",
        "\n"
      ]
    },
    {
      "cell_type": "markdown",
      "metadata": {
        "id": "b1nsWrUFMM_j"
      },
      "source": [
        "### if-elif"
      ]
    },
    {
      "cell_type": "markdown",
      "metadata": {
        "id": "dHU0ZxpYMM_k"
      },
      "source": [
        "Se utiiza para abreviar estructuras de la forma *if cond ... else if cond ... else if*\n",
        "\n",
        "    if cond_booleana:\n",
        "        código\n",
        "    elif cond_booleana:\n",
        "        código\n",
        "    else:\n",
        "        código"
      ]
    },
    {
      "cell_type": "markdown",
      "metadata": {
        "id": "v9dyC8OfMM_k"
      },
      "source": [
        "Dados dos números x,y, mostrar si x es mayor, menor o igual a y"
      ]
    },
    {
      "cell_type": "code",
      "execution_count": null,
      "metadata": {
        "id": "3VWp2C5SMM_k"
      },
      "outputs": [],
      "source": [
        "x = 10\n",
        "y = 12\n",
        "if x > y:\n",
        "    print(\"x>y\")\n",
        "elif x < y:\n",
        "        print(\"x<y\")\n",
        "else:\n",
        "    print(\"x=y\")"
      ]
    },
    {
      "cell_type": "markdown",
      "metadata": {
        "id": "FuCgAeeMMM_k"
      },
      "source": [
        "Un if dentro de un if se llama un *if anidado*"
      ]
    },
    {
      "cell_type": "code",
      "execution_count": null,
      "metadata": {
        "id": "jV3RIDe-MM_k"
      },
      "outputs": [],
      "source": [
        "x = 10\n",
        "y = 12\n",
        "if x > y:\n",
        "    print(\"x>y\")\n",
        "elif x < y:\n",
        "    print(\"x<y\")\n",
        "    if x>0:\n",
        "        print(\"x positivo\")\n",
        "    else:\n",
        "        print(\"ínvalido\")\n",
        "else:\n",
        "    print(\"x=y\")"
      ]
    },
    {
      "cell_type": "markdown",
      "metadata": {
        "id": "Lz_ABoP_MM_k"
      },
      "source": [
        "**Ej.** Escribir código para mostrar el mayor de 3 números x,y,z"
      ]
    },
    {
      "cell_type": "code",
      "execution_count": null,
      "metadata": {
        "id": "i0IxjF9kMM_k"
      },
      "outputs": [],
      "source": [
        "x=7\n",
        "y=6\n",
        "z=8\n",
        "\n",
        "\n",
        "\n"
      ]
    },
    {
      "cell_type": "markdown",
      "metadata": {
        "id": "deYEDKL7MM_k"
      },
      "source": [
        "## Bucles"
      ]
    },
    {
      "cell_type": "markdown",
      "metadata": {
        "id": "ZSCmr5iyMM_k"
      },
      "source": [
        "### For"
      ]
    },
    {
      "cell_type": "markdown",
      "metadata": {
        "id": "4DAbnSX4MM_k"
      },
      "source": [
        "Formato general\n",
        "    \n",
        "    for variable in estructura_iterable:\n",
        "        código\n",
        "        \n",
        "Ejemplo: escribir los números de 0 a 4"
      ]
    },
    {
      "cell_type": "code",
      "execution_count": null,
      "metadata": {
        "id": "CLBmdLaoMM_l"
      },
      "outputs": [],
      "source": [
        "for i in (0,1,2,3,4):\n",
        "    print(i)"
      ]
    },
    {
      "cell_type": "code",
      "execution_count": null,
      "metadata": {
        "id": "Vomzmj11MM_l"
      },
      "outputs": [],
      "source": [
        "for i in range(5):\n",
        "    print(i)"
      ]
    },
    {
      "cell_type": "markdown",
      "metadata": {
        "id": "rEPoEUCcMM_l"
      },
      "source": [
        "Equivalente a:"
      ]
    },
    {
      "cell_type": "code",
      "execution_count": null,
      "metadata": {
        "id": "0FrE7xWcMM_l"
      },
      "outputs": [],
      "source": [
        "i=0\n",
        "print(i)\n",
        "i=1\n",
        "print(i)\n",
        "i=2\n",
        "print(i)\n",
        "# ..."
      ]
    },
    {
      "cell_type": "markdown",
      "metadata": {
        "id": "fwjYCzEYMM_l"
      },
      "source": [
        "**Ej.** Escribir un fragmento de código que, para cada número desde 0 hasta 10, escriba el número si es par. Pista: cuando x es par, x % 2 == 0"
      ]
    },
    {
      "cell_type": "code",
      "execution_count": null,
      "metadata": {
        "id": "lpRyFscBMM_l"
      },
      "outputs": [],
      "source": []
    },
    {
      "cell_type": "markdown",
      "metadata": {
        "id": "GtVfPzmcMM_l"
      },
      "source": [
        "Otras estructuras iterables son secuencias (listas, tuplas),  y los ficheros"
      ]
    },
    {
      "cell_type": "code",
      "execution_count": null,
      "metadata": {
        "id": "XnIIu9ieMM_l"
      },
      "outputs": [],
      "source": [
        "list_of_lists = [[1, 2, 3,4], [ 5, 6,7,8], [9,10,11,12]]\n",
        "for list1 in list_of_lists:\n",
        "        print(list1)"
      ]
    },
    {
      "cell_type": "markdown",
      "metadata": {
        "id": "h0TvrTbyMM_l"
      },
      "source": [
        "Un ejemplo sobre una lista anidada"
      ]
    },
    {
      "cell_type": "code",
      "execution_count": null,
      "metadata": {
        "id": "0cFhGIJYMM_l"
      },
      "outputs": [],
      "source": [
        "list_of_lists = [[1, 2, 3], [4, 5, 6], [7, 8, 9]]\n",
        "for list1 in list_of_lists:\n",
        "    print(list1)\n",
        "    for x in list1:\n",
        "        print(x)\n",
        "    print(\"--\"*5)\n",
        "print(\"fin\")\n"
      ]
    },
    {
      "cell_type": "markdown",
      "metadata": {
        "id": "ohNDqk3WMM_m"
      },
      "source": [
        "**Ej.** Calcular todos los divisores de un número i cualquiera"
      ]
    },
    {
      "cell_type": "code",
      "execution_count": null,
      "metadata": {
        "id": "DVhaxEErMM_p"
      },
      "outputs": [],
      "source": [
        "i=1024\n",
        "for d in range(1,i+1): # d es candidato a dividir a i. d=1...i\n",
        "    #print(d)\n",
        "    if i%d == 0:\n",
        "        print (d, \"es divisor de\", i)\n"
      ]
    },
    {
      "cell_type": "markdown",
      "metadata": {
        "id": "a73jqebDMM_q"
      },
      "source": [
        "**Ej.** Escribir un fragmento que, para cada número de 1 a 100, escriba la lista de sus divisores. Por ejemplo, para 10 escribirá 1,2,5,10."
      ]
    },
    {
      "cell_type": "code",
      "execution_count": null,
      "metadata": {
        "id": "7uaVoqLgMM_q"
      },
      "outputs": [],
      "source": [
        "for i in range(1,101):\n",
        "    print(\"i\",i)\n",
        "    for d in range(1,i+1):\n",
        "        #print(d)\n",
        "        if i%d == 0:\n",
        "            print (d, \"es divisor de\", i)\n"
      ]
    },
    {
      "cell_type": "markdown",
      "metadata": {
        "id": "fusg4Cz1MM_q"
      },
      "source": [
        "**Ej.** Calcular el número total de divisores que tiene un número i dado"
      ]
    },
    {
      "cell_type": "code",
      "execution_count": null,
      "metadata": {
        "id": "y2BWHORTMM_q"
      },
      "outputs": [],
      "source": [
        "i=1024\n",
        "contador = 0\n",
        "for d in range(1,i+1): # d es candidato a dividir a i. d=1...i\n",
        "    #print(d)\n",
        "    if i%d == 0:\n",
        "        contador = contador+1\n",
        "print(i,\"tiene\",contador,\"divisores\")"
      ]
    },
    {
      "cell_type": "markdown",
      "metadata": {
        "id": "XBP6eTF9MM_q"
      },
      "source": [
        "**Ej.** Escribir un fragmento de código que deje en una variable tipo lista de enteros l todos los divisiones de 100. Idea: partir de *l=[ ]* e ir usando el método append para ir añadiendo elementos a *l*."
      ]
    },
    {
      "cell_type": "code",
      "execution_count": null,
      "metadata": {
        "id": "v4BfEP1KMM_q"
      },
      "outputs": [],
      "source": []
    },
    {
      "cell_type": "markdown",
      "metadata": {
        "id": "7L5oaO6CMM_q"
      },
      "source": [
        "**Ej.** Sabemos que el método *find* busca subcadenas. Supongamos por un momento que no existe. Escribir un fragmento de código que dado, un string *s* busque todas las apariciones de la letra \"u\" y muestre por pantalla la posición en la que aparecen."
      ]
    },
    {
      "cell_type": "code",
      "execution_count": null,
      "metadata": {
        "id": "bkHdv8MSMM_q"
      },
      "outputs": [],
      "source": [
        "s = \"\"\"Tyger! Tyger! burning bright.\n",
        "    In the forests of the night,\n",
        "    What immortal hand or eye. ...\"\"\""
      ]
    },
    {
      "cell_type": "markdown",
      "metadata": {
        "id": "oOmzRTxNMM_q"
      },
      "source": [
        "Nos venimos arriba y queremos extender el código anterior para que en lugar de buscar un caracter busque todas las apariciones de una subcadena s1 dentro de s. Como en el caso anterior queremos que muestra la posición en la que aparece."
      ]
    },
    {
      "cell_type": "code",
      "execution_count": null,
      "metadata": {
        "id": "QvP3lTHkMM_r"
      },
      "outputs": [],
      "source": [
        "s = \"\"\"Tyger! Tyger! burning bright.\n",
        "    In the forests of the night,\n",
        "    What immortal hand or eye. ...\"\"\"\n"
      ]
    },
    {
      "cell_type": "markdown",
      "metadata": {
        "id": "-_vBUT_FMM_r"
      },
      "source": [
        "### While"
      ]
    },
    {
      "cell_type": "markdown",
      "metadata": {
        "id": "iqtn-4aFMM_r"
      },
      "source": [
        "Forma:\n",
        "    \n",
        "    while cond_booleana:    \n",
        "        código"
      ]
    },
    {
      "cell_type": "code",
      "execution_count": null,
      "metadata": {
        "id": "doN76MlPMM_r"
      },
      "outputs": [],
      "source": [
        "i = 1\n",
        "while i < 3:\n",
        "    print(i ** 2)\n",
        "    i = i+1\n",
        "print('Bye')"
      ]
    },
    {
      "cell_type": "markdown",
      "metadata": {
        "id": "_ZWePMMmMM_r"
      },
      "source": [
        "**Ej.** Repetimos el ejercicio de buscar un caracter en una cadena s, pero ahora solo queremos que deje en una variable *p* la primera aparición de la \"u\". Si no aparece debe dejar p=-1."
      ]
    },
    {
      "cell_type": "code",
      "execution_count": null,
      "metadata": {
        "id": "Jwf4NWsHMM_r"
      },
      "outputs": [],
      "source": [
        "s = \"dábale arroz a la zorra el abad\"\n",
        "s = \"había muchas letras en aquella extraña frase\"\n",
        "#print(p)"
      ]
    },
    {
      "cell_type": "markdown",
      "metadata": {
        "id": "wCHlRhMqMM_r"
      },
      "source": [
        "**Ej.** (Difícil) Dentro de la wikipedia, para el item \"Banco de España\" (ver notebook *string*),  para cada aparición de la palabra \"rey\", mostrar desde esa palabra hasta el siguiente \".\"."
      ]
    },
    {
      "cell_type": "code",
      "execution_count": null,
      "metadata": {
        "id": "DjnGMlgBMM_r"
      },
      "outputs": [],
      "source": [
        "# cargar en s el contenido de la entrada\n",
        "s = \"\"\"\n",
        "El Banco de España es el organismo del Estado español que actúa de banco central nacional y, en el marco del Mecanismo Único de Supervisión (MUS), el supervisor del sistema bancario español junto al Banco Central Europeo.\n",
        "Su actividad está regulada por la Ley de Autonomía del Banco de España.[7]​ El Banco de España es además parte integrante del Sistema Europeo de Bancos Centrales (SEBC) y por tanto está sometido a las disposiciones del Tratado de la Comunidad Europea y a los Estatutos del SEBC.\n",
        "Desde 1891, su sede principal está situada en la calle Alcalá, 48, junto a la plaza de Cibeles. Asimismo, cuenta con una parada de metro que toma su nombre.\n",
        "\n",
        "\n",
        "== Historia ==\n",
        "El Banco de España tiene una larga tradición histórica, que hunde sus raíces en el siglo XVIII.\n",
        "\n",
        "\n",
        "=== El Banco de San Carlos ===\n",
        "En 1782, el rey Carlos III creó en Madrid una sociedad por acciones, cuya propiedad correspondía a instituciones y sujetos particulares. Los principales gobernantes ilustrados de la época, como el primer secretario de Estado, el conde de Floridablanca, el secretario de Estado de Hacienda, Miguel de Múzquiz y Goyeneche, y el fiscal del Consejo de Castilla, Pedro Rodríguez de Campomanes, apoyaron la creación de este instituto bancario. Aunque no era un banco público, gozaba de la protección de la Corona, y mantenía estrechos lazos financieros con el Estado. Se llamó Banco Nacional de San Carlos.\n",
        "El principal objeto del Banco Nacional de San Carlos era la reducción o descuento de vales reales a metálico. Los vales reales eran una modalidad de deuda pública, cuyos títulos, además de proporcionar una rentabilidad determinada a su poseedor, tenían capacidad liberatoria en grandes pagos, por lo que son considerados la primera manifestación de papel moneda existente en España. El creador de los vales reales fue Francisco Cabarrús, un comerciante ilustrado de origen francés, quien sería asimismo fundador del Banco Nacional de San Carlos y miembro nato de su dirección. En 1789 recibiría de Carlos IV el título de conde de Cabarrús. El Banco Nacional de San Carlos tenía también, entre otros cometidos, el descuento de letras de cambio y efectos de comercio, los préstamos con garantía y la financiación de actividades del Estado.\n",
        "Al año siguiente de su institución empezó a emitir los primeros billetes llamados «cédulas». Estas cédulas garantizaban un inmediato reembolso en metálico, reembolso que efectuaría el propio banco emisor; se canjeaban al portador sin producir ningún interés, lo cual les diferenciaba de los vales reales. Este carácter de cédula o billete duró hasta la guerra civil española, por eso todos los billetes llevaban la leyenda «El Banco de España pagará al portador...». La frase sobrevivió hasta 1976, pero había perdido valor legal desde la ley de noviembre de 1939.\n",
        "Sin embargo, los billetes en cuestión, las cédulas, no tuvieron ningún éxito, debido a la abundancia de moneda de plata circulante en España a finales del siglo XVIII y comienzos del XIX y a la propia existencia de los vales reales. En 1790, Francisco Cabarrús y los restantes directores fueron relevados de sus cargos, debido a la aparición de pérdidas causadas en determinadas competencias del Banco de San Carlos, y bajo la sospecha de irregularidades. Cabarrús fue procesado y encarcelado preventivamente. Al cabo de seis años se sobreseyó la causa y Cabarrús quedó reintegrado a su puesto, aunque rodeado por un equipo directivo diferente y ajeno a su voluntad.\n",
        "Entre los años 1793 y 1814, España se vio implicada en una serie de guerras que arrastraron al Banco y lo situaron en serias dificultades, causadas principalmente por la considerable deuda que el Tesoro había contraído con el Banco a lo largo de esos veinte años de conflictos. Finalmente, en el año de 1829 se encontró una solución para dicho débito, gracias al ministro de Hacienda del rey Fernando VII, Luis López Ballesteros, quien además de tomar ciertas medidas financieras innovadoras, concibió la idea de dotar al Banco de San Carlos con un fondo de 40 millones de reales.\n",
        "Con esta ayuda los accionistas, decidieron fundar una nueva institución con el nombre de Banco Español de San Fernando (por ser rey Fernando VII). Este nuevo banco consiguió la facultad de emitir billetes en régimen de monopolio en Madrid. A lo largo de quince años mantuvo una continua actividad bancaria en el ámbito de la capital de España, con especial dedicación a las necesidades financieras del tesoro, en unos años en que afianzaba el naciente régimen liberal, y especialmente durante la primera guerra carlista.\n",
        "En 1844, el Gobierno autorizó la apertura de un nuevo banco emisor en Madrid, el Banco de Isabel II, cuyo principal inspirador fue el financiero José Salamanca y Mayol. En el mismo año fue aprobada la creación de un banco emisor en Barcelona y en 1846 la de otro similar en Cádiz. Cada uno de estos bancos tenía facultad de emitir sus propios billetes y de ponerlos en circulación en sus respectivos ámbitos locales, además de desenvolver sus restantes actividades crediticias, salvo el caso de Madrid, donde compitieron las dos entidades existentes en ella.\n",
        "Al cabo de tres años, y en plena crisis financiera internacional de 1847, el Gobierno decidió resolver las dificultades por las que atravesaban los dos emisores de Madrid, principalmente el Banco de Isabel II, mediante la fusión de ambos. La entidad resultante de dicho proceso conservó el nombre de Banco Español de San Fernando. Las consecuencias de la crisis fueron duraderas, y tras diversos cambios legales, fue nombrado en 1849 gobernador del Banco Español de San Fernando el exministro de Hacienda Ramón Santillán. Santillán llevó a cabo, entre 1851 y 1856, una ejemplar labor de saneamiento financiero dentro de la entidad.\n",
        "\n",
        "\n",
        "=== Nacimiento del Banco de España ===\n",
        "Tras la Revolución de 1854, la legislación bancaria de 1856, de inspiración netamente liberal, permitió, entre otras modificaciones, que el Banco de San Fernando pasara a llamarse Banco de España, cuyo primer gobernador siguió siendo el del Banco de San Fernando, Ramón Santillán. A pesar de la denominación de Banco de España, esta institución solo operaba entonces en Madrid, Valencia y Alicante, ciudades en que abrió sucursales en 1858. Otras diecinueve localidades españolas, entre ellas los principales centros industriales y mercantiles, como Barcelona, Bilbao, Málaga, Sevilla, Zaragoza, Valladolid o Santander, contaron con sus propios bancos de emisión y descuentos dentro del período 1856-1874.\n",
        "El 19 de marzo de 1874 las acuciantes y forzosas necesidades financieras causadas por la tercera guerra carlista y por la guerra de los Diez Años, simultánea a la anterior, obligaron al entonces ministro de Hacienda en el Gobierno de la Primera República, José Echegaray, decretar la fusión de todos los bancos emisores locales con el Banco de España. No obstante, a estos últimos se les dejaba la opción de continuar con su actividad comercial y crediticia, aunque sin facultad de emitir billetes, cuyo monopolio en todo el territorio de la nación, correspondería, en adelante, al Banco de España.[8]​ A dicha posibilidad sólo se acogieron los Bancos de Barcelona, Bilbao, Reus, Santander y Tarragona. A cambio del privilegio emisor, el Banco de España concedió un crédito de 150 millones de pesetas.\n",
        "\n",
        "A partir de entonces, el Banco de España estableció una densa red de sucursales en toda la nación, comenzando por los antiguos de bancos emisores absorbidos. A finales del siglo XIX, había más de cincuenta sucursales del banco en todas las capitales de provincia y ciudades de importancia mercantil. Es preciso subrayar que, en esta época, el Banco de España –que seguía siendo una sociedad por acciones de propiedad privada, aunque el gobernador y los subgobernadores eran nombrados y aprobados respectivamente por el Gobierno- simultaneaba la emisión de billetes y el crédito al tesoro público con actividades de préstamos y descuentos con particulares a través de sus oficinas en las diferentes ciudades españolas. Con la Ley de Ordenación Bancaria de 1921, el Banco de España se consagró como banco de bancos, o banco central, desarrollando –de acuerdo con el Gobierno- nuevos instrumentos de política monetaria. Tras la guerra civil española, el Banco de España perdió competencias y autonomía a favor del Ministerio de Hacienda. Entre dichos cambios los más importantes fueron:\n",
        "...\n",
        "\"\"\"\n"
      ]
    },
    {
      "cell_type": "code",
      "execution_count": null,
      "metadata": {
        "scrolled": true,
        "id": "VKhT3Mk_MM_s"
      },
      "outputs": [],
      "source": [
        "# a buscar\n"
      ]
    },
    {
      "cell_type": "markdown",
      "metadata": {
        "id": "peebT28LMM_s"
      },
      "source": [
        "**Ej.** (muy difícil) Queremos modificar el ejercicio anterior para que la fraseque contiene la palabra \"rey\" se muestre desde el principio, no desde esta palabra."
      ]
    },
    {
      "cell_type": "code",
      "execution_count": null,
      "metadata": {
        "id": "rQfVqzNeMM_s"
      },
      "outputs": [],
      "source": []
    },
    {
      "cell_type": "markdown",
      "metadata": {
        "id": "4HtOAYCzMM_s"
      },
      "source": [
        "### Listas Intensionales"
      ]
    },
    {
      "cell_type": "markdown",
      "metadata": {
        "id": "T73-9rxoMM_s"
      },
      "source": [
        "Tal y como dijimos, en Python las listas son estructuras muy usadas para almacenar datos, por ejemplo:"
      ]
    },
    {
      "cell_type": "code",
      "execution_count": null,
      "metadata": {
        "id": "wGdWhcSNMM_s"
      },
      "outputs": [],
      "source": [
        "div = []\n",
        "for i in range(1,101):\n",
        "    if 100 % i == 0:\n",
        "        div.append(i)\n",
        "print(div)"
      ]
    },
    {
      "cell_type": "markdown",
      "metadata": {
        "id": "M7mAIyrKMM_t"
      },
      "source": [
        "Este tipo de código es tan común que se ofrece una forma de hacerlo en una sola expresión, las listas intensionales:"
      ]
    },
    {
      "cell_type": "code",
      "execution_count": null,
      "metadata": {
        "id": "dwBcHSAzMM_t"
      },
      "outputs": [],
      "source": [
        "[i for i in range(1,101) if 100%i==0]"
      ]
    },
    {
      "cell_type": "markdown",
      "metadata": {
        "id": "gN2YzV0RMM_t"
      },
      "source": [
        "La sintaxis es:\n",
        "``` Python\n",
        "nuevalista = [expr for var in estructura_iterable if condicion]\n",
        "```"
      ]
    },
    {
      "cell_type": "markdown",
      "metadata": {
        "id": "pGDSe6TAMM_t"
      },
      "source": [
        "La idea es:\n",
        "\n",
        "* La variable irá tomando todos los valores de la estructura_iterable\n",
        "* Los valores que no cumplen el *if* se descartan (el *if* es opcional)\n",
        "* Los valores que sí cumplen el if se evalúan en la expresión expr, cuyo resultado se añade a la lista nueva"
      ]
    },
    {
      "cell_type": "code",
      "execution_count": null,
      "metadata": {
        "id": "187c5PD_MM_t"
      },
      "outputs": [],
      "source": [
        "[x for x in range(1,20) if x % 2 ==0]"
      ]
    },
    {
      "cell_type": "markdown",
      "metadata": {
        "id": "9Z2wW6QmMM_t"
      },
      "source": [
        "**Ejemplo** Escribir código que extraiga solo los símbolos no numéricos de un string (x.isalpha indica si un carácter es no numérico)"
      ]
    },
    {
      "cell_type": "code",
      "execution_count": null,
      "metadata": {
        "id": "sHltDZoXMM_t"
      },
      "outputs": [],
      "source": [
        "s = \"y5o n0o qui1ero9 tantos digitos\"\n"
      ]
    },
    {
      "cell_type": "markdown",
      "metadata": {
        "id": "AAIabRSIMM_t"
      },
      "source": [
        "**Ej.** Generar un lista y que  para cada elemento v de x tenga v*v"
      ]
    },
    {
      "cell_type": "code",
      "execution_count": null,
      "metadata": {
        "id": "nKzEcTNsMM_u"
      },
      "outputs": [],
      "source": [
        "x = list(range(10))\n"
      ]
    },
    {
      "cell_type": "markdown",
      "metadata": {
        "id": "OhsOCuf7MM_u"
      },
      "source": [
        "### Lectura de ficheros"
      ]
    },
    {
      "cell_type": "markdown",
      "metadata": {
        "id": "xG1_U16mMM_u"
      },
      "source": [
        "Para leer de ficheros es conveniente utilizar la palabra reservada with, que se encargará de liberar recursos al acabar"
      ]
    },
    {
      "cell_type": "code",
      "execution_count": null,
      "metadata": {
        "id": "ewzGYpEWMM_u"
      },
      "outputs": [],
      "source": [
        "# paso previo, descargar el fichero a local\n",
        "import requests\n",
        "url = \"https://raw.githubusercontent.com/RafaelCaballero/tdm/master/datos/stockp22.csv\"\n",
        "nombre = \"stockp22.csv\"\n",
        "r = requests.get(url, allow_redirects=True) # el fichero queda en la variable r\n",
        "\n",
        "# ahora escribimos\n",
        "with open(nombre, 'wb') as f:\n",
        "    f.write(r.content) # ahora lo grabamos localmente\n",
        "\n",
        "print(r.status_code)"
      ]
    },
    {
      "cell_type": "code",
      "execution_count": null,
      "metadata": {
        "id": "11NhGg5SMM_u"
      },
      "outputs": [],
      "source": [
        "# lectura\n",
        "with open(nombre) as f:\n",
        "    content = f.readlines()\n",
        "\n",
        "print(content)"
      ]
    },
    {
      "cell_type": "markdown",
      "metadata": {
        "id": "sQkr6zepMM_u"
      },
      "source": [
        "## Funciones definidas por el usuario"
      ]
    },
    {
      "cell_type": "markdown",
      "metadata": {
        "id": "arKPRc4GMM_u"
      },
      "source": [
        "### Estructura"
      ]
    },
    {
      "cell_type": "markdown",
      "metadata": {
        "id": "-wL4FMAlMM_u"
      },
      "source": [
        "La estructura general es:\n",
        "\n",
        "    def userDefFunction (arg1, arg2, arg3 ...):\n",
        "        program statement1\n",
        "        program statement3\n",
        "        program statement3\n",
        "        ....\n",
        "       return value"
      ]
    },
    {
      "cell_type": "code",
      "execution_count": null,
      "metadata": {
        "id": "LLrseMQiMM_u"
      },
      "outputs": [],
      "source": [
        "def cubo(x):\n",
        "    r = x*x*x\n",
        "    return r"
      ]
    },
    {
      "cell_type": "code",
      "execution_count": null,
      "metadata": {
        "id": "tuBikOXcMM_v"
      },
      "outputs": [],
      "source": [
        "cubo(3)"
      ]
    },
    {
      "cell_type": "code",
      "execution_count": null,
      "metadata": {
        "id": "UF26C4nDMM_v"
      },
      "outputs": [],
      "source": [
        "x=2\n",
        "a=2\n",
        "cubo(a)"
      ]
    },
    {
      "cell_type": "code",
      "execution_count": null,
      "metadata": {
        "id": "0i7kzqTcMM_v"
      },
      "outputs": [],
      "source": [
        "cubo(cubo(2))"
      ]
    },
    {
      "cell_type": "markdown",
      "metadata": {
        "id": "4AhzGnmcMM_v"
      },
      "source": [
        "### Parámetros por defecto"
      ]
    },
    {
      "cell_type": "markdown",
      "metadata": {
        "id": "O0WP9f5wMM_v"
      },
      "source": [
        "La función puede especificar algunos valores por defecto para que no tenga que proporcionarlos el usuario"
      ]
    },
    {
      "cell_type": "code",
      "execution_count": null,
      "metadata": {
        "id": "wqDnC45IMM_v"
      },
      "outputs": [],
      "source": [
        "import cmath\n",
        "def raices(a,b=0,c=0):\n",
        "    #discriminante\n",
        "    d = b*b - 4*a*c\n",
        "    sol1 = -b+cmath.sqrt(d)/(2*a)\n",
        "    sol2 = -b-cmath.sqrt(d)/(2*a)\n",
        "    return sol1,sol2\n"
      ]
    },
    {
      "cell_type": "code",
      "execution_count": null,
      "metadata": {
        "id": "uk4MYvn3MM_v"
      },
      "outputs": [],
      "source": [
        "raices(1,16,4)"
      ]
    },
    {
      "cell_type": "code",
      "execution_count": null,
      "metadata": {
        "id": "Odj48O2ZMM_v"
      },
      "outputs": [],
      "source": [
        "raices(1,16) # c es 0"
      ]
    },
    {
      "cell_type": "markdown",
      "metadata": {
        "id": "SVJyr4qqMM_v"
      },
      "source": [
        "### Parámetros nombrados"
      ]
    },
    {
      "cell_type": "markdown",
      "metadata": {
        "id": "qU2QE4R7MM_w"
      },
      "source": [
        "Un problema con los parámetros por defecto es especificar qué parámetros queremos que tomen valor por defecto ¿qué sucede si, en el ejemplo anterior, b es 0, pero c no?. Esto se resuelve indicado explícitamente a qué parámetro de la función se refiere cada parámetro de llamada"
      ]
    },
    {
      "cell_type": "code",
      "execution_count": null,
      "metadata": {
        "id": "WgIYDrQIMM_w"
      },
      "outputs": [],
      "source": [
        "raices(a=2,c=5)"
      ]
    },
    {
      "cell_type": "markdown",
      "metadata": {
        "id": "bv_u_EkUMM_w"
      },
      "source": [
        "Obviamente si se utilizan los parámetros nombrados, aquellos que no se nombren deben tener valor por defecto"
      ]
    },
    {
      "cell_type": "markdown",
      "metadata": {
        "id": "iEWGMPbnMM_w"
      },
      "source": [
        "### Funciones lambda"
      ]
    },
    {
      "cell_type": "markdown",
      "metadata": {
        "id": "FqbmWWpIMM_w"
      },
      "source": [
        "Se trata de funciones que se declaran \"sobre la marcha\"; no tienen nombre y se pueden almacenar en funciones, incluso pasar como parámetros. Se suele decir que las  lambda convierten a las funciones en \"ciudadanos de primera clase\" en Python"
      ]
    },
    {
      "cell_type": "code",
      "execution_count": null,
      "metadata": {
        "id": "g8fP2TziMM_w"
      },
      "outputs": [],
      "source": [
        "x = lambda a,b: a // b\n",
        "print(x(8,3))\n",
        "x = lambda a,b: a / b\n",
        "print(x(8,3))"
      ]
    },
    {
      "cell_type": "code",
      "execution_count": null,
      "metadata": {
        "id": "KwPevyO9MM_w"
      },
      "outputs": [],
      "source": [
        "def cosarara(n):\n",
        "    return lambda m:m*n"
      ]
    },
    {
      "cell_type": "markdown",
      "metadata": {
        "id": "XmCEBc2KMM_w"
      },
      "source": [
        "**Ej.** ¿qué escribira el siguiente código?"
      ]
    },
    {
      "cell_type": "code",
      "execution_count": null,
      "metadata": {
        "id": "38w47YlDMM_w"
      },
      "outputs": [],
      "source": [
        "a = cosarara(5)\n",
        "b = cosarara(6)\n",
        "print(a(2))\n",
        "print(b(2))"
      ]
    },
    {
      "cell_type": "markdown",
      "metadata": {
        "id": "eBqcEZlAMM_w"
      },
      "source": [
        "# Excepciones"
      ]
    },
    {
      "cell_type": "markdown",
      "metadata": {
        "id": "XTYdqYs7MM_w"
      },
      "source": [
        "A menudo se producen errores durante la ejecución del programa que pueden \"romper\" el programa. Las excepciones nos permiten capturarlas.\n",
        "\n",
        "    try:\n",
        "       try_suite\n",
        "    except exception_group1 as variable1:\n",
        "       except_suite1\n",
        "       …\n",
        "    except exception_groupN as variableN:\n",
        "       except_suiteN\n",
        "    else:\n",
        "       else_suite\n",
        "    finally:\n",
        "       finally_suite\n",
        "\n",
        "try_suite es el bloque de instrucciones que se pueden *romper* los apartados *except* describen posibles tipos de errores. El bloque *else* se ejecuta si no ocurre ninguna excepción. En cambio el bloque *finally* se ejecuta siempre, haya o no excepción\n",
        "\n",
        "Los valores *exception_groupi*  tienen que ser uno de los de la jerarquía de los errores\n",
        "\n",
        "\n",
        "![imagen.png](attachment:imagen.png)\n",
        "\n",
        "Ojo porque si ponemos primero un error de más arriba en la jerarquía, por ejemplo *EnvironmentError*, ya no se detectará un *OSError*. Es decir se va ejecutándo de arriba hacia abajo y el primero caso que encaja hace que ya no se mire más"
      ]
    },
    {
      "cell_type": "code",
      "execution_count": null,
      "metadata": {
        "id": "ZdhZxmagMM_x"
      },
      "outputs": [],
      "source": [
        "a = 5\n",
        "b = 0\n",
        "try:\n",
        "    x = a/b\n",
        "except ZeroDivisionError:\n",
        "    print(\"División por 0\")\n",
        "except AritmeticError:\n",
        "    print(\"Error aritmético\")\n",
        "except KeyError:\n",
        "    print(\"La clave no existe\")\n",
        "else:\n",
        "    print(\"No hay error\")\n",
        "finally:\n",
        "    print(\"yo me ejecuto en todo caso...\")"
      ]
    },
    {
      "cell_type": "code",
      "execution_count": null,
      "metadata": {
        "id": "5S5ubmQcMM_x"
      },
      "outputs": [],
      "source": []
    }
  ],
  "metadata": {
    "kernelspec": {
      "display_name": "Python 3 (ipykernel)",
      "language": "python",
      "name": "python3"
    },
    "language_info": {
      "codemirror_mode": {
        "name": "ipython",
        "version": 3
      },
      "file_extension": ".py",
      "mimetype": "text/x-python",
      "name": "python",
      "nbconvert_exporter": "python",
      "pygments_lexer": "ipython3",
      "version": "3.11.4"
    },
    "colab": {
      "provenance": []
    }
  },
  "nbformat": 4,
  "nbformat_minor": 0
}