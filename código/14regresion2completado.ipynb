{
  "cells": [
    {
      "cell_type": "markdown",
      "metadata": {
        "id": "jB6auQk-pe7J"
      },
      "source": [
        "<table>\n",
        "    <tr>\n",
        "      <td>Introducción a\n",
        "      </td>\n",
        "      <td>\n",
        "      <img src=\"https://media.licdn.com/dms/image/D5612AQF7GSp3l4pztQ/article-cover_image-shrink_720_1280/0/1686548640655?e=1715817600&v=beta&t=WQzv1EMkEEwZ0QZ0PF1anRKIHCl5BBH_YPZHdDQsWPM\"  width=150/>\n",
        "      </td>\n",
        "     </tr>\n",
        "</table>\n",
        "\n",
        "## Regresión lineal\n",
        "\n",
        "### Índice\n",
        "[Obtención del modelo](#modelo)<br>\n",
        "[Afinando el error](#error)<br>\n",
        "[Intervalo de confianza](#intervalo)<br>\n",
        "[Mejorando el modelo](#mejorando)<br>\n",
        "[Lasso y Ridge](#lasso)<br>\n",
        "[Regresión Series Temporales](#series)<br>\n"
      ]
    },
    {
      "cell_type": "markdown",
      "metadata": {
        "id": "TLr3aKTDpkF4"
      },
      "source": [
        "<a name=\"modelo\"></a>\n",
        "## Obtención del modelo\n",
        "\n",
        "Empezamos cargando un fichero con las notas de las pruebas PISA. Recordamos la importancia del preprocesado, pero es aquí nos dan ya los datos preparados para que nos centremos en la regresión"
      ]
    },
    {
      "cell_type": "code",
      "execution_count": null,
      "metadata": {
        "id": "5wZOKxF0sUs2"
      },
      "outputs": [],
      "source": [
        "# Carga del fichero\n",
        "import pandas as pd\n",
        "url = \"https://raw.githubusercontent.com/RafaelCaballero/tdm/master/datos/pisaDataClean.csv\"\n",
        "df = pd.read_csv(url)\n",
        "df"
      ]
    },
    {
      "cell_type": "markdown",
      "metadata": {
        "id": "Iz0bK6B48HGS"
      },
      "source": [
        "1.- Dividir las columnas en X e y en train y test. Nuestro objetivo será deducir la columna MAT desde SCI y REA"
      ]
    },
    {
      "cell_type": "code",
      "execution_count": null,
      "metadata": {
        "id": "xe1EtWSB5nfT"
      },
      "outputs": [],
      "source": [
        "\n",
        "XColumns = [\"SCI\", \"REA\"]\n",
        "yColumn = \"MAT\"\n",
        "X = df[XColumns]\n",
        "y = df[yColumn]\n"
      ]
    },
    {
      "cell_type": "code",
      "execution_count": null,
      "metadata": {
        "id": "cVN7koqZnaO1"
      },
      "outputs": [],
      "source": [
        "X"
      ]
    },
    {
      "cell_type": "code",
      "execution_count": null,
      "metadata": {
        "id": "o5-4dCJHnaO1"
      },
      "outputs": [],
      "source": [
        "y"
      ]
    },
    {
      "cell_type": "markdown",
      "metadata": {
        "id": "tpFIcVPUnaO2"
      },
      "source": [
        "2.- Dividir las columnas en X e y en train y test. Nuestro objetivo será deducir la columna MAT desde SCI y REA"
      ]
    },
    {
      "cell_type": "code",
      "execution_count": null,
      "metadata": {
        "id": "2QQVXRmRnaO2"
      },
      "outputs": [],
      "source": [
        "\n",
        "from sklearn.model_selection import train_test_split\n",
        "\n",
        "test = 0.95 # 40%\n",
        "X_train, X_test, y_train, y_test = train_test_split(X, y, test_size= test)"
      ]
    },
    {
      "cell_type": "code",
      "execution_count": null,
      "metadata": {
        "id": "vppjIMlMnaO2"
      },
      "outputs": [],
      "source": [
        "X_train"
      ]
    },
    {
      "cell_type": "code",
      "source": [
        "y_train"
      ],
      "metadata": {
        "id": "-B5TlwIduYRh"
      },
      "execution_count": null,
      "outputs": []
    },
    {
      "cell_type": "markdown",
      "metadata": {
        "id": "jxLb1qAb9QxC"
      },
      "source": [
        "3.- Declarar el método y  entrenar con el conjunto train, obteniendo un *modelo*"
      ]
    },
    {
      "cell_type": "code",
      "execution_count": null,
      "metadata": {
        "id": "aMyU4DUguOIy"
      },
      "outputs": [],
      "source": [
        "from sklearn.linear_model import LinearRegression\n",
        "metodo = LinearRegression()\n",
        "modelo = metodo.fit(X_train,y_train) # y  = f(x); MAT = b + a1 SCI + a2 REA"
      ]
    },
    {
      "cell_type": "markdown",
      "metadata": {
        "id": "7p1BLXXbnaO2"
      },
      "source": [
        "El modelo representa simplemente la recta que mejor ajusta las (X,y) dadas:"
      ]
    },
    {
      "cell_type": "code",
      "execution_count": null,
      "metadata": {
        "id": "LHR9IDl00uwK"
      },
      "outputs": [],
      "source": [
        "modelo.intercept_, modelo.coef_"
      ]
    },
    {
      "cell_type": "markdown",
      "metadata": {
        "id": "ICwOowl9naO3"
      },
      "source": [
        "Es decir, dada una nota en ciencia `sci` y lectura `rea`, se puede obtener la nota de matemáticas `mat` de la siguiente forma:\n",
        "\n",
        "mat = -56.25  + 0.90*sci + 0.21*rea    (ojo, estos números irán variando de ejecución e en ejecución)\n",
        "\n",
        "Aunque veremos que estas predicciones las vamos a hacer automáticamente, podemos escribir por nuestra cuentra una función que las haga:"
      ]
    },
    {
      "cell_type": "code",
      "execution_count": null,
      "metadata": {
        "id": "UAfY_9D4naO3"
      },
      "outputs": [],
      "source": [
        "def y_predict(X,modelo):\n",
        "    s = modelo.intercept_\n",
        "    for i,x in enumerate(X):\n",
        "        s += x*modelo.coef_[i]\n",
        "    return s\n",
        "\n",
        "y_predict([400,450],modelo)"
      ]
    },
    {
      "cell_type": "code",
      "source": [
        "modelo.predict([ [400,450], [600,580] ])"
      ],
      "metadata": {
        "id": "dQ-bZdg1xHPs"
      },
      "execution_count": null,
      "outputs": []
    },
    {
      "cell_type": "code",
      "source": [
        "df.describe()"
      ],
      "metadata": {
        "id": "aod7iexAwLoQ"
      },
      "execution_count": null,
      "outputs": []
    },
    {
      "cell_type": "markdown",
      "metadata": {
        "id": "HM8PDlphnaO3"
      },
      "source": [
        "Vamos a representar gráficamente los datos de entrenamiento y la recta modelo"
      ]
    },
    {
      "cell_type": "code",
      "execution_count": null,
      "metadata": {
        "scrolled": true,
        "id": "AFxWxhY9naO3"
      },
      "outputs": [],
      "source": [
        "from mpl_toolkits.mplot3d.axes3d import Axes3D\n",
        "import matplotlib.pyplot as plt\n",
        "import matplotlib\n",
        "\n",
        "fig = plt.figure(figsize=(14,6))\n",
        "\n",
        "# projection='3d' indica que este subplot es en 3d\n",
        "ax = fig.add_subplot(1, 2, 1, projection='3d')\n",
        "x = X_train[\"SCI\"]\n",
        "y = X_train[\"REA\"]\n",
        "z = y_train\n",
        "ax.scatter3D( x, y, z)\n",
        "\n",
        "y_1 = y_predict([300,300],modelo)\n",
        "y_2 = y_predict([600,600],modelo)\n",
        "ax.plot3D([300,600],[300,600],[y_1,y_2],color=\"green\")\n",
        "ax.set_zlabel(r\"MAT\", fontsize=10, color=\"blue\")\n",
        "ax.set_xlabel(r\"SCI\", fontsize=10, color=\"blue\")\n",
        "ax.set_ylabel(r\"REA\", fontsize=10, color=\"blue\")\n",
        "plt.show()"
      ]
    },
    {
      "cell_type": "markdown",
      "metadata": {
        "id": "35PblQDe-BGD"
      },
      "source": [
        "4.- Ahora predecimos con el test y mostramos el error"
      ]
    },
    {
      "cell_type": "code",
      "execution_count": null,
      "metadata": {
        "id": "7XTbywcc-Adz"
      },
      "outputs": [],
      "source": [
        "from sklearn.metrics import r2_score,mean_squared_error,mean_absolute_error\n",
        "import math\n",
        "y_pred = modelo.predict(X_test)\n",
        "r2 = r2_score(y_test,y_pred)\n",
        "rmse = math.sqrt(mean_squared_error(y_test,y_pred))\n",
        "mae = mean_absolute_error(y_test,y_pred)\n",
        "print( f\"r^2: {round(r2,3)} RMSE: {round(rmse,3)}, MAE:{round(mae,3)}\" )"
      ]
    },
    {
      "cell_type": "code",
      "source": [
        "# bias\n",
        "\n",
        "(y_test - y_pred).abs().mean()"
      ],
      "metadata": {
        "id": "EG8_ezlqz_aW"
      },
      "execution_count": null,
      "outputs": []
    },
    {
      "cell_type": "code",
      "source": [
        "X_t = X_test.copy()\n",
        "X_t[\"MAT\"] = y_test\n",
        "X_t[\"MAT_PRED\"] = y_pred\n",
        "X_t[\"RESIDUO\"] = y_test - y_pred\n",
        "X_t"
      ],
      "metadata": {
        "id": "1lucTQEa0t5O"
      },
      "execution_count": null,
      "outputs": []
    },
    {
      "cell_type": "code",
      "source": [
        "X_t.describe()"
      ],
      "metadata": {
        "id": "QQ6SDNOD1ls3"
      },
      "execution_count": null,
      "outputs": []
    },
    {
      "cell_type": "markdown",
      "metadata": {
        "id": "cfPf0WmdnaO4"
      },
      "source": [
        "Y completamos la figura mostrando los puntos de entrenamiento, de test y la recta"
      ]
    },
    {
      "cell_type": "code",
      "execution_count": null,
      "metadata": {
        "id": "6bfrGeVwvdaM",
        "scrolled": true
      },
      "outputs": [],
      "source": [
        "fig = plt.figure(figsize=(14,6))\n",
        "\n",
        "# projection='3d' indica que este subplot es en 3d\n",
        "ax = fig.add_subplot(1, 2, 1, projection='3d')\n",
        "x = X_train[\"SCI\"]\n",
        "y = X_train[\"REA\"]\n",
        "z = y_train\n",
        "ax.scatter3D( x, y, z,label=\"train\")\n",
        "\n",
        "y_1 = y_predict([300,300],modelo)\n",
        "y_2 = y_predict([600,600],modelo)\n",
        "ax.plot3D([300,600],[300,600],[y_1,y_2],color=\"green\")\n",
        "ax.set_zlabel(r\"MAT\", fontsize=10, color=\"blue\")\n",
        "ax.set_xlabel(r\"SCI\", fontsize=10, color=\"blue\")\n",
        "ax.set_ylabel(r\"REA\", fontsize=10, color=\"blue\")\n",
        "\n",
        "\n",
        "##### Esto es lo nuevo\n",
        "x = X_test[\"SCI\"]\n",
        "y = X_test[\"REA\"]\n",
        "z = y_test\n",
        "ax.scatter3D( x, y, z,label=\"test\")\n",
        "plt.legend()\n",
        "\n",
        "plt.show()"
      ]
    },
    {
      "cell_type": "code",
      "source": [],
      "metadata": {
        "id": "QEkj0Nzj4BYq"
      },
      "execution_count": null,
      "outputs": []
    },
    {
      "cell_type": "markdown",
      "metadata": {
        "id": "nhmFxRkFCQxj"
      },
      "source": [
        "**Ejercicio 1** Repetir desde el paso 1, cambiando tan solo el tamaño del test a 0.95 ¿qué sucede con el error?\n"
      ]
    },
    {
      "cell_type": "markdown",
      "metadata": {
        "id": "oOs7QMTRnaO4"
      },
      "source": [
        "Este es un ejemplo de overfitting: cuando por alguna razón (en este caso por falta de datos de entrenamiento), el modelo generado se comporta mucho mejor sobre el entrenamiento que sobre el test. Repitamos todo el proceso:"
      ]
    },
    {
      "cell_type": "code",
      "execution_count": null,
      "metadata": {
        "id": "Xann7gvnnaO4",
        "colab": {
          "base_uri": "https://localhost:8080/"
        },
        "outputId": "96cb786d-7546-4705-84a5-5ae22aa3f347"
      },
      "outputs": [
        {
          "output_type": "stream",
          "name": "stdout",
          "text": [
            "r^2: 0.948 RMSE: 11.313, MAE:9.1, BIAS: 3.154\n"
          ]
        }
      ],
      "source": [
        "import pandas as pd\n",
        "from sklearn.model_selection import train_test_split\n",
        "from sklearn.linear_model import LinearRegression\n",
        "from sklearn.metrics import r2_score,mean_squared_error,mean_absolute_error\n",
        "import math\n",
        "\n",
        "# 0 cargar datos\n",
        "url = \"https://raw.githubusercontent.com/RafaelCaballero/tdm/master/datos/pisaDataClean.csv\"\n",
        "df = pd.read_csv(url)\n",
        "\n",
        "# 1 Columnas x e y\n",
        "XColumns = [\"SCI\", \"REA\"]\n",
        "yColumn = \"MAT\"\n",
        "X = df[XColumns]\n",
        "y = df[yColumn]\n",
        "\n",
        "# 2 train y test\n",
        "test = 40 # 40%\n",
        "X_train, X_test, y_train, y_test = train_test_split(X, y, test_size= test)\n",
        "\n",
        "# 3 crear model\n",
        "metodo = LinearRegression()\n",
        "modelo = metodo.fit(X_train,y_train) # y  = f(x); MAT = b + a1 SCI + a2 REA\n",
        "\n",
        "# 4 evaluar\n",
        "y_pred = modelo.predict(X_test)\n",
        "r2 = r2_score(y_test,y_pred)\n",
        "rmse = math.sqrt(mean_squared_error(y_test,y_pred))\n",
        "mae = mean_absolute_error(y_test,y_pred)\n",
        "bias = (y_test - y_pred).mean()\n",
        "print( f\"r^2: {round(r2,3)} RMSE: {round(rmse,3)}, MAE:{round(mae,3)}, BIAS: {round(bias,3)}\" )\n"
      ]
    },
    {
      "cell_type": "code",
      "execution_count": null,
      "metadata": {
        "id": "HDBV6V0CnaO4"
      },
      "outputs": [],
      "source": []
    },
    {
      "cell_type": "markdown",
      "metadata": {
        "id": "kE016sLhnaO4"
      },
      "source": [
        "<a name=\"error\"></a>\n",
        "\n",
        "\n",
        "## Afinando el error"
      ]
    },
    {
      "cell_type": "markdown",
      "metadata": {
        "id": "KAQsaIIvnaO4"
      },
      "source": [
        "**Ejercicio 2** Ejecutar varias veces el código anterior, se verá que se obtiene resultados diferentes ¿en qué punto del código se produce esta variación?"
      ]
    },
    {
      "cell_type": "markdown",
      "metadata": {
        "id": "hZTz5TqRnaO5"
      },
      "source": [
        "De hecho, si se quieren obtener resultados con una cierta verosimilitud tendremos que repetir el experimento (pasos 2,3,4) varias veces. Vamos a instalar el paquete progress bar para ver cómo progresan los experimentos"
      ]
    },
    {
      "cell_type": "code",
      "execution_count": null,
      "metadata": {
        "id": "OHSkUrm1naO5",
        "outputId": "4ea96832-7514-4a7c-ec39-7280c1489c1b",
        "colab": {
          "base_uri": "https://localhost:8080/",
          "height": 441
        }
      },
      "outputs": [
        {
          "output_type": "stream",
          "name": "stderr",
          "text": [
            "100%|██████████| 5000/5000 [00:35<00:00, 138.99it/s]\n"
          ]
        },
        {
          "output_type": "execute_result",
          "data": {
            "text/plain": [
              "        r^2    RMSE     MAE   BIAS\n",
              "0     0.948  11.029   8.990  0.236\n",
              "1     0.929  11.179   9.106  0.267\n",
              "2     0.967   9.025   7.428  3.611\n",
              "3     0.941  12.630  10.517  5.286\n",
              "4     0.910  14.823  12.468 -0.202\n",
              "...     ...     ...     ...    ...\n",
              "4995  0.930  11.771   9.264  0.174\n",
              "4996  0.965  10.061   8.120  0.809\n",
              "4997  0.940  12.735  10.542 -0.141\n",
              "4998  0.933  12.250  10.047 -4.880\n",
              "4999  0.952  12.543  10.139 -2.310\n",
              "\n",
              "[5000 rows x 4 columns]"
            ],
            "text/html": [
              "\n",
              "  <div id=\"df-3db65b52-47fb-4fa9-a9b9-4c53a7ab0498\" class=\"colab-df-container\">\n",
              "    <div>\n",
              "<style scoped>\n",
              "    .dataframe tbody tr th:only-of-type {\n",
              "        vertical-align: middle;\n",
              "    }\n",
              "\n",
              "    .dataframe tbody tr th {\n",
              "        vertical-align: top;\n",
              "    }\n",
              "\n",
              "    .dataframe thead th {\n",
              "        text-align: right;\n",
              "    }\n",
              "</style>\n",
              "<table border=\"1\" class=\"dataframe\">\n",
              "  <thead>\n",
              "    <tr style=\"text-align: right;\">\n",
              "      <th></th>\n",
              "      <th>r^2</th>\n",
              "      <th>RMSE</th>\n",
              "      <th>MAE</th>\n",
              "      <th>BIAS</th>\n",
              "    </tr>\n",
              "  </thead>\n",
              "  <tbody>\n",
              "    <tr>\n",
              "      <th>0</th>\n",
              "      <td>0.948</td>\n",
              "      <td>11.029</td>\n",
              "      <td>8.990</td>\n",
              "      <td>0.236</td>\n",
              "    </tr>\n",
              "    <tr>\n",
              "      <th>1</th>\n",
              "      <td>0.929</td>\n",
              "      <td>11.179</td>\n",
              "      <td>9.106</td>\n",
              "      <td>0.267</td>\n",
              "    </tr>\n",
              "    <tr>\n",
              "      <th>2</th>\n",
              "      <td>0.967</td>\n",
              "      <td>9.025</td>\n",
              "      <td>7.428</td>\n",
              "      <td>3.611</td>\n",
              "    </tr>\n",
              "    <tr>\n",
              "      <th>3</th>\n",
              "      <td>0.941</td>\n",
              "      <td>12.630</td>\n",
              "      <td>10.517</td>\n",
              "      <td>5.286</td>\n",
              "    </tr>\n",
              "    <tr>\n",
              "      <th>4</th>\n",
              "      <td>0.910</td>\n",
              "      <td>14.823</td>\n",
              "      <td>12.468</td>\n",
              "      <td>-0.202</td>\n",
              "    </tr>\n",
              "    <tr>\n",
              "      <th>...</th>\n",
              "      <td>...</td>\n",
              "      <td>...</td>\n",
              "      <td>...</td>\n",
              "      <td>...</td>\n",
              "    </tr>\n",
              "    <tr>\n",
              "      <th>4995</th>\n",
              "      <td>0.930</td>\n",
              "      <td>11.771</td>\n",
              "      <td>9.264</td>\n",
              "      <td>0.174</td>\n",
              "    </tr>\n",
              "    <tr>\n",
              "      <th>4996</th>\n",
              "      <td>0.965</td>\n",
              "      <td>10.061</td>\n",
              "      <td>8.120</td>\n",
              "      <td>0.809</td>\n",
              "    </tr>\n",
              "    <tr>\n",
              "      <th>4997</th>\n",
              "      <td>0.940</td>\n",
              "      <td>12.735</td>\n",
              "      <td>10.542</td>\n",
              "      <td>-0.141</td>\n",
              "    </tr>\n",
              "    <tr>\n",
              "      <th>4998</th>\n",
              "      <td>0.933</td>\n",
              "      <td>12.250</td>\n",
              "      <td>10.047</td>\n",
              "      <td>-4.880</td>\n",
              "    </tr>\n",
              "    <tr>\n",
              "      <th>4999</th>\n",
              "      <td>0.952</td>\n",
              "      <td>12.543</td>\n",
              "      <td>10.139</td>\n",
              "      <td>-2.310</td>\n",
              "    </tr>\n",
              "  </tbody>\n",
              "</table>\n",
              "<p>5000 rows × 4 columns</p>\n",
              "</div>\n",
              "    <div class=\"colab-df-buttons\">\n",
              "\n",
              "  <div class=\"colab-df-container\">\n",
              "    <button class=\"colab-df-convert\" onclick=\"convertToInteractive('df-3db65b52-47fb-4fa9-a9b9-4c53a7ab0498')\"\n",
              "            title=\"Convert this dataframe to an interactive table.\"\n",
              "            style=\"display:none;\">\n",
              "\n",
              "  <svg xmlns=\"http://www.w3.org/2000/svg\" height=\"24px\" viewBox=\"0 -960 960 960\">\n",
              "    <path d=\"M120-120v-720h720v720H120Zm60-500h600v-160H180v160Zm220 220h160v-160H400v160Zm0 220h160v-160H400v160ZM180-400h160v-160H180v160Zm440 0h160v-160H620v160ZM180-180h160v-160H180v160Zm440 0h160v-160H620v160Z\"/>\n",
              "  </svg>\n",
              "    </button>\n",
              "\n",
              "  <style>\n",
              "    .colab-df-container {\n",
              "      display:flex;\n",
              "      gap: 12px;\n",
              "    }\n",
              "\n",
              "    .colab-df-convert {\n",
              "      background-color: #E8F0FE;\n",
              "      border: none;\n",
              "      border-radius: 50%;\n",
              "      cursor: pointer;\n",
              "      display: none;\n",
              "      fill: #1967D2;\n",
              "      height: 32px;\n",
              "      padding: 0 0 0 0;\n",
              "      width: 32px;\n",
              "    }\n",
              "\n",
              "    .colab-df-convert:hover {\n",
              "      background-color: #E2EBFA;\n",
              "      box-shadow: 0px 1px 2px rgba(60, 64, 67, 0.3), 0px 1px 3px 1px rgba(60, 64, 67, 0.15);\n",
              "      fill: #174EA6;\n",
              "    }\n",
              "\n",
              "    .colab-df-buttons div {\n",
              "      margin-bottom: 4px;\n",
              "    }\n",
              "\n",
              "    [theme=dark] .colab-df-convert {\n",
              "      background-color: #3B4455;\n",
              "      fill: #D2E3FC;\n",
              "    }\n",
              "\n",
              "    [theme=dark] .colab-df-convert:hover {\n",
              "      background-color: #434B5C;\n",
              "      box-shadow: 0px 1px 3px 1px rgba(0, 0, 0, 0.15);\n",
              "      filter: drop-shadow(0px 1px 2px rgba(0, 0, 0, 0.3));\n",
              "      fill: #FFFFFF;\n",
              "    }\n",
              "  </style>\n",
              "\n",
              "    <script>\n",
              "      const buttonEl =\n",
              "        document.querySelector('#df-3db65b52-47fb-4fa9-a9b9-4c53a7ab0498 button.colab-df-convert');\n",
              "      buttonEl.style.display =\n",
              "        google.colab.kernel.accessAllowed ? 'block' : 'none';\n",
              "\n",
              "      async function convertToInteractive(key) {\n",
              "        const element = document.querySelector('#df-3db65b52-47fb-4fa9-a9b9-4c53a7ab0498');\n",
              "        const dataTable =\n",
              "          await google.colab.kernel.invokeFunction('convertToInteractive',\n",
              "                                                    [key], {});\n",
              "        if (!dataTable) return;\n",
              "\n",
              "        const docLinkHtml = 'Like what you see? Visit the ' +\n",
              "          '<a target=\"_blank\" href=https://colab.research.google.com/notebooks/data_table.ipynb>data table notebook</a>'\n",
              "          + ' to learn more about interactive tables.';\n",
              "        element.innerHTML = '';\n",
              "        dataTable['output_type'] = 'display_data';\n",
              "        await google.colab.output.renderOutput(dataTable, element);\n",
              "        const docLink = document.createElement('div');\n",
              "        docLink.innerHTML = docLinkHtml;\n",
              "        element.appendChild(docLink);\n",
              "      }\n",
              "    </script>\n",
              "  </div>\n",
              "\n",
              "\n",
              "<div id=\"df-90047ad7-1f31-47e8-8dbb-c4ab0869efab\">\n",
              "  <button class=\"colab-df-quickchart\" onclick=\"quickchart('df-90047ad7-1f31-47e8-8dbb-c4ab0869efab')\"\n",
              "            title=\"Suggest charts\"\n",
              "            style=\"display:none;\">\n",
              "\n",
              "<svg xmlns=\"http://www.w3.org/2000/svg\" height=\"24px\"viewBox=\"0 0 24 24\"\n",
              "     width=\"24px\">\n",
              "    <g>\n",
              "        <path d=\"M19 3H5c-1.1 0-2 .9-2 2v14c0 1.1.9 2 2 2h14c1.1 0 2-.9 2-2V5c0-1.1-.9-2-2-2zM9 17H7v-7h2v7zm4 0h-2V7h2v10zm4 0h-2v-4h2v4z\"/>\n",
              "    </g>\n",
              "</svg>\n",
              "  </button>\n",
              "\n",
              "<style>\n",
              "  .colab-df-quickchart {\n",
              "      --bg-color: #E8F0FE;\n",
              "      --fill-color: #1967D2;\n",
              "      --hover-bg-color: #E2EBFA;\n",
              "      --hover-fill-color: #174EA6;\n",
              "      --disabled-fill-color: #AAA;\n",
              "      --disabled-bg-color: #DDD;\n",
              "  }\n",
              "\n",
              "  [theme=dark] .colab-df-quickchart {\n",
              "      --bg-color: #3B4455;\n",
              "      --fill-color: #D2E3FC;\n",
              "      --hover-bg-color: #434B5C;\n",
              "      --hover-fill-color: #FFFFFF;\n",
              "      --disabled-bg-color: #3B4455;\n",
              "      --disabled-fill-color: #666;\n",
              "  }\n",
              "\n",
              "  .colab-df-quickchart {\n",
              "    background-color: var(--bg-color);\n",
              "    border: none;\n",
              "    border-radius: 50%;\n",
              "    cursor: pointer;\n",
              "    display: none;\n",
              "    fill: var(--fill-color);\n",
              "    height: 32px;\n",
              "    padding: 0;\n",
              "    width: 32px;\n",
              "  }\n",
              "\n",
              "  .colab-df-quickchart:hover {\n",
              "    background-color: var(--hover-bg-color);\n",
              "    box-shadow: 0 1px 2px rgba(60, 64, 67, 0.3), 0 1px 3px 1px rgba(60, 64, 67, 0.15);\n",
              "    fill: var(--button-hover-fill-color);\n",
              "  }\n",
              "\n",
              "  .colab-df-quickchart-complete:disabled,\n",
              "  .colab-df-quickchart-complete:disabled:hover {\n",
              "    background-color: var(--disabled-bg-color);\n",
              "    fill: var(--disabled-fill-color);\n",
              "    box-shadow: none;\n",
              "  }\n",
              "\n",
              "  .colab-df-spinner {\n",
              "    border: 2px solid var(--fill-color);\n",
              "    border-color: transparent;\n",
              "    border-bottom-color: var(--fill-color);\n",
              "    animation:\n",
              "      spin 1s steps(1) infinite;\n",
              "  }\n",
              "\n",
              "  @keyframes spin {\n",
              "    0% {\n",
              "      border-color: transparent;\n",
              "      border-bottom-color: var(--fill-color);\n",
              "      border-left-color: var(--fill-color);\n",
              "    }\n",
              "    20% {\n",
              "      border-color: transparent;\n",
              "      border-left-color: var(--fill-color);\n",
              "      border-top-color: var(--fill-color);\n",
              "    }\n",
              "    30% {\n",
              "      border-color: transparent;\n",
              "      border-left-color: var(--fill-color);\n",
              "      border-top-color: var(--fill-color);\n",
              "      border-right-color: var(--fill-color);\n",
              "    }\n",
              "    40% {\n",
              "      border-color: transparent;\n",
              "      border-right-color: var(--fill-color);\n",
              "      border-top-color: var(--fill-color);\n",
              "    }\n",
              "    60% {\n",
              "      border-color: transparent;\n",
              "      border-right-color: var(--fill-color);\n",
              "    }\n",
              "    80% {\n",
              "      border-color: transparent;\n",
              "      border-right-color: var(--fill-color);\n",
              "      border-bottom-color: var(--fill-color);\n",
              "    }\n",
              "    90% {\n",
              "      border-color: transparent;\n",
              "      border-bottom-color: var(--fill-color);\n",
              "    }\n",
              "  }\n",
              "</style>\n",
              "\n",
              "  <script>\n",
              "    async function quickchart(key) {\n",
              "      const quickchartButtonEl =\n",
              "        document.querySelector('#' + key + ' button');\n",
              "      quickchartButtonEl.disabled = true;  // To prevent multiple clicks.\n",
              "      quickchartButtonEl.classList.add('colab-df-spinner');\n",
              "      try {\n",
              "        const charts = await google.colab.kernel.invokeFunction(\n",
              "            'suggestCharts', [key], {});\n",
              "      } catch (error) {\n",
              "        console.error('Error during call to suggestCharts:', error);\n",
              "      }\n",
              "      quickchartButtonEl.classList.remove('colab-df-spinner');\n",
              "      quickchartButtonEl.classList.add('colab-df-quickchart-complete');\n",
              "    }\n",
              "    (() => {\n",
              "      let quickchartButtonEl =\n",
              "        document.querySelector('#df-90047ad7-1f31-47e8-8dbb-c4ab0869efab button');\n",
              "      quickchartButtonEl.style.display =\n",
              "        google.colab.kernel.accessAllowed ? 'block' : 'none';\n",
              "    })();\n",
              "  </script>\n",
              "</div>\n",
              "    </div>\n",
              "  </div>\n"
            ],
            "application/vnd.google.colaboratory.intrinsic+json": {
              "type": "dataframe",
              "variable_name": "df_errores",
              "summary": "{\n  \"name\": \"df_errores\",\n  \"rows\": 5000,\n  \"fields\": [\n    {\n      \"column\": \"r^2\",\n      \"properties\": {\n        \"dtype\": \"number\",\n        \"std\": 0.016780777441415127,\n        \"min\": 0.835,\n        \"max\": 0.981,\n        \"num_unique_values\": 115,\n        \"samples\": [\n          0.904,\n          0.91,\n          0.92\n        ],\n        \"semantic_type\": \"\",\n        \"description\": \"\"\n      }\n    },\n    {\n      \"column\": \"RMSE\",\n      \"properties\": {\n        \"dtype\": \"number\",\n        \"std\": 1.2084185265093557,\n        \"min\": 7.544,\n        \"max\": 17.515,\n        \"num_unique_values\": 3024,\n        \"samples\": [\n          10.371,\n          12.222,\n          13.034\n        ],\n        \"semantic_type\": \"\",\n        \"description\": \"\"\n      }\n    },\n    {\n      \"column\": \"MAE\",\n      \"properties\": {\n        \"dtype\": \"number\",\n        \"std\": 1.1326559066797062,\n        \"min\": 5.863,\n        \"max\": 14.004,\n        \"num_unique_values\": 2946,\n        \"samples\": [\n          8.175,\n          8.074,\n          12.091\n        ],\n        \"semantic_type\": \"\",\n        \"description\": \"\"\n      }\n    },\n    {\n      \"column\": \"BIAS\",\n      \"properties\": {\n        \"dtype\": \"number\",\n        \"std\": 2.9560293115112954,\n        \"min\": -10.326,\n        \"max\": 11.321,\n        \"num_unique_values\": 4000,\n        \"samples\": [\n          1.453,\n          4.714,\n          -5.022\n        ],\n        \"semantic_type\": \"\",\n        \"description\": \"\"\n      }\n    }\n  ]\n}"
            }
          },
          "metadata": {},
          "execution_count": 22
        }
      ],
      "source": [
        "# Carga del fichero\n",
        "import pandas as pd\n",
        "from sklearn.model_selection import train_test_split\n",
        "from sklearn.linear_model import LinearRegression\n",
        "from sklearn.metrics import r2_score,mean_squared_error,mean_absolute_error\n",
        "import math\n",
        "\n",
        "from tqdm import tqdm\n",
        "\n",
        "url = \"https://raw.githubusercontent.com/RafaelCaballero/tdm/master/datos/pisaDataClean.csv\"\n",
        "df = pd.read_csv(url)\n",
        "\n",
        "# 1\n",
        "XColumns = [\"SCI\", \"REA\"]\n",
        "yColumn = \"MAT\"\n",
        "X = df[XColumns]\n",
        "y = df[yColumn]\n",
        "\n",
        "veces = 5000\n",
        "\n",
        "\n",
        "resultados = []\n",
        "for v in tqdm(range(veces)):\n",
        "    # 2\n",
        "    test = 0.4\n",
        "    X_train, X_test, y_train, y_test = train_test_split(X, y, test_size= test)\n",
        "\n",
        "    # 3\n",
        "    metodo = LinearRegression()\n",
        "    modelo = metodo.fit(X_train,y_train)\n",
        "\n",
        "    # 4\n",
        "    y_pred = modelo.predict(X_test)\n",
        "    r2 = r2_score(y_test,y_pred)\n",
        "    rmse = math.sqrt(mean_squared_error(y_test,y_pred))\n",
        "    mae = mean_absolute_error(y_test,y_pred)\n",
        "    bias = (y_test - y_pred).mean()\n",
        "    resultados.append([round(r2,3),round(rmse,3),round(mae,3),round(bias,3)])\n",
        "    #print(f\"r^2: {round(r2,3)} RMSE: {round(rmse,3)}, MAE:{round(mae,3)}\")\n",
        "\n",
        "df_errores = pd.DataFrame(resultados,columns=[\"r^2\",\"RMSE\",\"MAE\",\"BIAS\"])\n",
        "df_errores"
      ]
    },
    {
      "cell_type": "code",
      "execution_count": null,
      "metadata": {
        "id": "KB1JIqvDnaO5",
        "outputId": "bcdf5ad7-b412-43ec-8c69-a7dd2bf1aa2b",
        "colab": {
          "base_uri": "https://localhost:8080/",
          "height": 300
        }
      },
      "outputs": [
        {
          "output_type": "execute_result",
          "data": {
            "text/plain": [
              "               r^2         RMSE          MAE         BIAS\n",
              "count  5000.000000  5000.000000  5000.000000  5000.000000\n",
              "mean      0.942336    11.708616     9.440680     0.015820\n",
              "std       0.016781     1.208419     1.132656     2.956029\n",
              "min       0.835000     7.544000     5.863000   -10.326000\n",
              "25%       0.933000    10.896750     8.660000    -1.983250\n",
              "50%       0.945000    11.729500     9.418500    -0.013500\n",
              "75%       0.954000    12.505000    10.180750     1.992750\n",
              "max       0.981000    17.515000    14.004000    11.321000"
            ],
            "text/html": [
              "\n",
              "  <div id=\"df-271ff457-29c8-460a-a68a-9acac1675038\" class=\"colab-df-container\">\n",
              "    <div>\n",
              "<style scoped>\n",
              "    .dataframe tbody tr th:only-of-type {\n",
              "        vertical-align: middle;\n",
              "    }\n",
              "\n",
              "    .dataframe tbody tr th {\n",
              "        vertical-align: top;\n",
              "    }\n",
              "\n",
              "    .dataframe thead th {\n",
              "        text-align: right;\n",
              "    }\n",
              "</style>\n",
              "<table border=\"1\" class=\"dataframe\">\n",
              "  <thead>\n",
              "    <tr style=\"text-align: right;\">\n",
              "      <th></th>\n",
              "      <th>r^2</th>\n",
              "      <th>RMSE</th>\n",
              "      <th>MAE</th>\n",
              "      <th>BIAS</th>\n",
              "    </tr>\n",
              "  </thead>\n",
              "  <tbody>\n",
              "    <tr>\n",
              "      <th>count</th>\n",
              "      <td>5000.000000</td>\n",
              "      <td>5000.000000</td>\n",
              "      <td>5000.000000</td>\n",
              "      <td>5000.000000</td>\n",
              "    </tr>\n",
              "    <tr>\n",
              "      <th>mean</th>\n",
              "      <td>0.942336</td>\n",
              "      <td>11.708616</td>\n",
              "      <td>9.440680</td>\n",
              "      <td>0.015820</td>\n",
              "    </tr>\n",
              "    <tr>\n",
              "      <th>std</th>\n",
              "      <td>0.016781</td>\n",
              "      <td>1.208419</td>\n",
              "      <td>1.132656</td>\n",
              "      <td>2.956029</td>\n",
              "    </tr>\n",
              "    <tr>\n",
              "      <th>min</th>\n",
              "      <td>0.835000</td>\n",
              "      <td>7.544000</td>\n",
              "      <td>5.863000</td>\n",
              "      <td>-10.326000</td>\n",
              "    </tr>\n",
              "    <tr>\n",
              "      <th>25%</th>\n",
              "      <td>0.933000</td>\n",
              "      <td>10.896750</td>\n",
              "      <td>8.660000</td>\n",
              "      <td>-1.983250</td>\n",
              "    </tr>\n",
              "    <tr>\n",
              "      <th>50%</th>\n",
              "      <td>0.945000</td>\n",
              "      <td>11.729500</td>\n",
              "      <td>9.418500</td>\n",
              "      <td>-0.013500</td>\n",
              "    </tr>\n",
              "    <tr>\n",
              "      <th>75%</th>\n",
              "      <td>0.954000</td>\n",
              "      <td>12.505000</td>\n",
              "      <td>10.180750</td>\n",
              "      <td>1.992750</td>\n",
              "    </tr>\n",
              "    <tr>\n",
              "      <th>max</th>\n",
              "      <td>0.981000</td>\n",
              "      <td>17.515000</td>\n",
              "      <td>14.004000</td>\n",
              "      <td>11.321000</td>\n",
              "    </tr>\n",
              "  </tbody>\n",
              "</table>\n",
              "</div>\n",
              "    <div class=\"colab-df-buttons\">\n",
              "\n",
              "  <div class=\"colab-df-container\">\n",
              "    <button class=\"colab-df-convert\" onclick=\"convertToInteractive('df-271ff457-29c8-460a-a68a-9acac1675038')\"\n",
              "            title=\"Convert this dataframe to an interactive table.\"\n",
              "            style=\"display:none;\">\n",
              "\n",
              "  <svg xmlns=\"http://www.w3.org/2000/svg\" height=\"24px\" viewBox=\"0 -960 960 960\">\n",
              "    <path d=\"M120-120v-720h720v720H120Zm60-500h600v-160H180v160Zm220 220h160v-160H400v160Zm0 220h160v-160H400v160ZM180-400h160v-160H180v160Zm440 0h160v-160H620v160ZM180-180h160v-160H180v160Zm440 0h160v-160H620v160Z\"/>\n",
              "  </svg>\n",
              "    </button>\n",
              "\n",
              "  <style>\n",
              "    .colab-df-container {\n",
              "      display:flex;\n",
              "      gap: 12px;\n",
              "    }\n",
              "\n",
              "    .colab-df-convert {\n",
              "      background-color: #E8F0FE;\n",
              "      border: none;\n",
              "      border-radius: 50%;\n",
              "      cursor: pointer;\n",
              "      display: none;\n",
              "      fill: #1967D2;\n",
              "      height: 32px;\n",
              "      padding: 0 0 0 0;\n",
              "      width: 32px;\n",
              "    }\n",
              "\n",
              "    .colab-df-convert:hover {\n",
              "      background-color: #E2EBFA;\n",
              "      box-shadow: 0px 1px 2px rgba(60, 64, 67, 0.3), 0px 1px 3px 1px rgba(60, 64, 67, 0.15);\n",
              "      fill: #174EA6;\n",
              "    }\n",
              "\n",
              "    .colab-df-buttons div {\n",
              "      margin-bottom: 4px;\n",
              "    }\n",
              "\n",
              "    [theme=dark] .colab-df-convert {\n",
              "      background-color: #3B4455;\n",
              "      fill: #D2E3FC;\n",
              "    }\n",
              "\n",
              "    [theme=dark] .colab-df-convert:hover {\n",
              "      background-color: #434B5C;\n",
              "      box-shadow: 0px 1px 3px 1px rgba(0, 0, 0, 0.15);\n",
              "      filter: drop-shadow(0px 1px 2px rgba(0, 0, 0, 0.3));\n",
              "      fill: #FFFFFF;\n",
              "    }\n",
              "  </style>\n",
              "\n",
              "    <script>\n",
              "      const buttonEl =\n",
              "        document.querySelector('#df-271ff457-29c8-460a-a68a-9acac1675038 button.colab-df-convert');\n",
              "      buttonEl.style.display =\n",
              "        google.colab.kernel.accessAllowed ? 'block' : 'none';\n",
              "\n",
              "      async function convertToInteractive(key) {\n",
              "        const element = document.querySelector('#df-271ff457-29c8-460a-a68a-9acac1675038');\n",
              "        const dataTable =\n",
              "          await google.colab.kernel.invokeFunction('convertToInteractive',\n",
              "                                                    [key], {});\n",
              "        if (!dataTable) return;\n",
              "\n",
              "        const docLinkHtml = 'Like what you see? Visit the ' +\n",
              "          '<a target=\"_blank\" href=https://colab.research.google.com/notebooks/data_table.ipynb>data table notebook</a>'\n",
              "          + ' to learn more about interactive tables.';\n",
              "        element.innerHTML = '';\n",
              "        dataTable['output_type'] = 'display_data';\n",
              "        await google.colab.output.renderOutput(dataTable, element);\n",
              "        const docLink = document.createElement('div');\n",
              "        docLink.innerHTML = docLinkHtml;\n",
              "        element.appendChild(docLink);\n",
              "      }\n",
              "    </script>\n",
              "  </div>\n",
              "\n",
              "\n",
              "<div id=\"df-496dc6c4-4530-4c5a-a909-d73a75b2f2be\">\n",
              "  <button class=\"colab-df-quickchart\" onclick=\"quickchart('df-496dc6c4-4530-4c5a-a909-d73a75b2f2be')\"\n",
              "            title=\"Suggest charts\"\n",
              "            style=\"display:none;\">\n",
              "\n",
              "<svg xmlns=\"http://www.w3.org/2000/svg\" height=\"24px\"viewBox=\"0 0 24 24\"\n",
              "     width=\"24px\">\n",
              "    <g>\n",
              "        <path d=\"M19 3H5c-1.1 0-2 .9-2 2v14c0 1.1.9 2 2 2h14c1.1 0 2-.9 2-2V5c0-1.1-.9-2-2-2zM9 17H7v-7h2v7zm4 0h-2V7h2v10zm4 0h-2v-4h2v4z\"/>\n",
              "    </g>\n",
              "</svg>\n",
              "  </button>\n",
              "\n",
              "<style>\n",
              "  .colab-df-quickchart {\n",
              "      --bg-color: #E8F0FE;\n",
              "      --fill-color: #1967D2;\n",
              "      --hover-bg-color: #E2EBFA;\n",
              "      --hover-fill-color: #174EA6;\n",
              "      --disabled-fill-color: #AAA;\n",
              "      --disabled-bg-color: #DDD;\n",
              "  }\n",
              "\n",
              "  [theme=dark] .colab-df-quickchart {\n",
              "      --bg-color: #3B4455;\n",
              "      --fill-color: #D2E3FC;\n",
              "      --hover-bg-color: #434B5C;\n",
              "      --hover-fill-color: #FFFFFF;\n",
              "      --disabled-bg-color: #3B4455;\n",
              "      --disabled-fill-color: #666;\n",
              "  }\n",
              "\n",
              "  .colab-df-quickchart {\n",
              "    background-color: var(--bg-color);\n",
              "    border: none;\n",
              "    border-radius: 50%;\n",
              "    cursor: pointer;\n",
              "    display: none;\n",
              "    fill: var(--fill-color);\n",
              "    height: 32px;\n",
              "    padding: 0;\n",
              "    width: 32px;\n",
              "  }\n",
              "\n",
              "  .colab-df-quickchart:hover {\n",
              "    background-color: var(--hover-bg-color);\n",
              "    box-shadow: 0 1px 2px rgba(60, 64, 67, 0.3), 0 1px 3px 1px rgba(60, 64, 67, 0.15);\n",
              "    fill: var(--button-hover-fill-color);\n",
              "  }\n",
              "\n",
              "  .colab-df-quickchart-complete:disabled,\n",
              "  .colab-df-quickchart-complete:disabled:hover {\n",
              "    background-color: var(--disabled-bg-color);\n",
              "    fill: var(--disabled-fill-color);\n",
              "    box-shadow: none;\n",
              "  }\n",
              "\n",
              "  .colab-df-spinner {\n",
              "    border: 2px solid var(--fill-color);\n",
              "    border-color: transparent;\n",
              "    border-bottom-color: var(--fill-color);\n",
              "    animation:\n",
              "      spin 1s steps(1) infinite;\n",
              "  }\n",
              "\n",
              "  @keyframes spin {\n",
              "    0% {\n",
              "      border-color: transparent;\n",
              "      border-bottom-color: var(--fill-color);\n",
              "      border-left-color: var(--fill-color);\n",
              "    }\n",
              "    20% {\n",
              "      border-color: transparent;\n",
              "      border-left-color: var(--fill-color);\n",
              "      border-top-color: var(--fill-color);\n",
              "    }\n",
              "    30% {\n",
              "      border-color: transparent;\n",
              "      border-left-color: var(--fill-color);\n",
              "      border-top-color: var(--fill-color);\n",
              "      border-right-color: var(--fill-color);\n",
              "    }\n",
              "    40% {\n",
              "      border-color: transparent;\n",
              "      border-right-color: var(--fill-color);\n",
              "      border-top-color: var(--fill-color);\n",
              "    }\n",
              "    60% {\n",
              "      border-color: transparent;\n",
              "      border-right-color: var(--fill-color);\n",
              "    }\n",
              "    80% {\n",
              "      border-color: transparent;\n",
              "      border-right-color: var(--fill-color);\n",
              "      border-bottom-color: var(--fill-color);\n",
              "    }\n",
              "    90% {\n",
              "      border-color: transparent;\n",
              "      border-bottom-color: var(--fill-color);\n",
              "    }\n",
              "  }\n",
              "</style>\n",
              "\n",
              "  <script>\n",
              "    async function quickchart(key) {\n",
              "      const quickchartButtonEl =\n",
              "        document.querySelector('#' + key + ' button');\n",
              "      quickchartButtonEl.disabled = true;  // To prevent multiple clicks.\n",
              "      quickchartButtonEl.classList.add('colab-df-spinner');\n",
              "      try {\n",
              "        const charts = await google.colab.kernel.invokeFunction(\n",
              "            'suggestCharts', [key], {});\n",
              "      } catch (error) {\n",
              "        console.error('Error during call to suggestCharts:', error);\n",
              "      }\n",
              "      quickchartButtonEl.classList.remove('colab-df-spinner');\n",
              "      quickchartButtonEl.classList.add('colab-df-quickchart-complete');\n",
              "    }\n",
              "    (() => {\n",
              "      let quickchartButtonEl =\n",
              "        document.querySelector('#df-496dc6c4-4530-4c5a-a909-d73a75b2f2be button');\n",
              "      quickchartButtonEl.style.display =\n",
              "        google.colab.kernel.accessAllowed ? 'block' : 'none';\n",
              "    })();\n",
              "  </script>\n",
              "</div>\n",
              "    </div>\n",
              "  </div>\n"
            ],
            "application/vnd.google.colaboratory.intrinsic+json": {
              "type": "dataframe",
              "summary": "{\n  \"name\": \"df_errores\",\n  \"rows\": 8,\n  \"fields\": [\n    {\n      \"column\": \"r^2\",\n      \"properties\": {\n        \"dtype\": \"number\",\n        \"std\": 1767.4837803277985,\n        \"min\": 0.016780777441415127,\n        \"max\": 5000.0,\n        \"num_unique_values\": 8,\n        \"samples\": [\n          0.9423355999999999,\n          0.945,\n          5000.0\n        ],\n        \"semantic_type\": \"\",\n        \"description\": \"\"\n      }\n    },\n    {\n      \"column\": \"RMSE\",\n      \"properties\": {\n        \"dtype\": \"number\",\n        \"std\": 1764.0806081534486,\n        \"min\": 1.2084185265093557,\n        \"max\": 5000.0,\n        \"num_unique_values\": 8,\n        \"samples\": [\n          11.708616000000001,\n          11.7295,\n          5000.0\n        ],\n        \"semantic_type\": \"\",\n        \"description\": \"\"\n      }\n    },\n    {\n      \"column\": \"MAE\",\n      \"properties\": {\n        \"dtype\": \"number\",\n        \"std\": 1764.8060621694876,\n        \"min\": 1.1326559066797062,\n        \"max\": 5000.0,\n        \"num_unique_values\": 8,\n        \"samples\": [\n          9.4406804,\n          9.4185,\n          5000.0\n        ],\n        \"semantic_type\": \"\",\n        \"description\": \"\"\n      }\n    },\n    {\n      \"column\": \"BIAS\",\n      \"properties\": {\n        \"dtype\": \"number\",\n        \"std\": 1767.5768688086239,\n        \"min\": -10.326,\n        \"max\": 5000.0,\n        \"num_unique_values\": 8,\n        \"samples\": [\n          0.01581960000000001,\n          -0.0135,\n          5000.0\n        ],\n        \"semantic_type\": \"\",\n        \"description\": \"\"\n      }\n    }\n  ]\n}"
            }
          },
          "metadata": {},
          "execution_count": 23
        }
      ],
      "source": [
        "df_errores.describe()"
      ]
    },
    {
      "cell_type": "code",
      "execution_count": null,
      "metadata": {
        "id": "vEoCN20bnaO5",
        "outputId": "b4fd4058-72c3-4cc2-d49b-bc406e111399",
        "colab": {
          "base_uri": "https://localhost:8080/"
        }
      },
      "outputs": [
        {
          "output_type": "execute_result",
          "data": {
            "text/plain": [
              "r^2      0.942336\n",
              "RMSE    11.708616\n",
              "MAE      9.440680\n",
              "BIAS     0.015820\n",
              "Name: mean, dtype: float64"
            ]
          },
          "metadata": {},
          "execution_count": 24
        }
      ],
      "source": [
        "df_errores.describe().loc[\"mean\"]"
      ]
    },
    {
      "cell_type": "markdown",
      "source": [
        "Estamos cometiendo un error +- 24. Paso final: generar el verdadero modelo"
      ],
      "metadata": {
        "id": "nt4MQIfT9YeI"
      }
    },
    {
      "cell_type": "code",
      "source": [
        "metodo = LinearRegression()\n",
        "modelo = metodo.fit(X,y)"
      ],
      "metadata": {
        "id": "00ttkUKn-if1"
      },
      "execution_count": null,
      "outputs": []
    },
    {
      "cell_type": "code",
      "source": [
        "from joblib import dump\n",
        "dump(modelo, 'predice_pisa.joblib')"
      ],
      "metadata": {
        "colab": {
          "base_uri": "https://localhost:8080/"
        },
        "id": "pt2Qi8KT-eRI",
        "outputId": "5fb306ba-1cc6-43bc-fdb9-2f83a3bfa3b8"
      },
      "execution_count": null,
      "outputs": [
        {
          "output_type": "execute_result",
          "data": {
            "text/plain": [
              "['predice_pisa.joblib']"
            ]
          },
          "metadata": {},
          "execution_count": 26
        }
      ]
    },
    {
      "cell_type": "markdown",
      "metadata": {
        "id": "DKqBE7d2naO6"
      },
      "source": [
        "Es fácil hacer una función que haga el trabajo de los experimentos. Podemos usarla para evaluar la regresión con otros datos"
      ]
    },
    {
      "cell_type": "code",
      "execution_count": null,
      "metadata": {
        "id": "5e7hhZWPnaO6"
      },
      "outputs": [],
      "source": [
        "import pandas as pd\n",
        "from sklearn.model_selection import train_test_split\n",
        "from sklearn.linear_model import LinearRegression\n",
        "from sklearn.metrics import r2_score,mean_squared_error,mean_absolute_error\n",
        "import math\n",
        "from tqdm import tqdm\n",
        "\n",
        "def evalua_regresion(df,XColumns,yColumn,veces=500):\n",
        "    # 1\n",
        "    X = df[XColumns]\n",
        "    y = df[yColumn]\n",
        "\n",
        "\n",
        "\n",
        "    resultados = []\n",
        "    for v in tqdm(range(veces)):\n",
        "        # 2\n",
        "        test = 0.4\n",
        "        X_train, X_test, y_train, y_test = train_test_split(X, y, test_size= test)\n",
        "\n",
        "        # 3\n",
        "        metodo = LinearRegression()\n",
        "        modelo = metodo.fit(X_train,y_train)\n",
        "\n",
        "        # 4\n",
        "        y_pred = modelo.predict(X_test)\n",
        "        r2 = r2_score(y_test,y_pred)\n",
        "        rmse = math.sqrt(mean_squared_error(y_test,y_pred))\n",
        "        mae = mean_absolute_error(y_test,y_pred)\n",
        "        bias = (y_test - y_pred).mean()\n",
        "        resultados.append([round(r2,3),round(rmse,3),round(mae,3),round(bias,3)])\n",
        "        #print(f\"r^2: {round(r2,3)} RMSE: {round(rmse,3)}, MAE:{round(mae,3)}\")\n",
        "\n",
        "    df_errores = pd.DataFrame(resultados,columns=[\"r^2\",\"RMSE\",\"MAE\",\"BIAS\"])\n",
        "    return df_errores.describe().loc[\"mean\"]\n"
      ]
    },
    {
      "cell_type": "code",
      "execution_count": null,
      "metadata": {
        "id": "dfgM0pNynaO6",
        "outputId": "6cc95af7-6309-44e7-9d2b-49c807f8e51e",
        "colab": {
          "base_uri": "https://localhost:8080/"
        }
      },
      "outputs": [
        {
          "output_type": "stream",
          "name": "stderr",
          "text": [
            "100%|██████████| 500/500 [00:02<00:00, 195.45it/s]"
          ]
        },
        {
          "output_type": "stream",
          "name": "stdout",
          "text": [
            "r^2      0.940588\n",
            "RMSE    11.800504\n",
            "MAE      9.493896\n",
            "BIAS    -0.480132\n",
            "Name: mean, dtype: float64\n"
          ]
        },
        {
          "output_type": "stream",
          "name": "stderr",
          "text": [
            "\n"
          ]
        }
      ],
      "source": [
        "url = \"https://raw.githubusercontent.com/RafaelCaballero/tdm/master/datos/pisaDataClean.csv\"\n",
        "df = pd.read_csv(url)\n",
        "\n",
        "# 1\n",
        "XColumns = [\"SCI\", \"REA\"]\n",
        "yColumn = \"MAT\"\n",
        "print(evalua_regresion(df,XColumns,yColumn))"
      ]
    },
    {
      "cell_type": "markdown",
      "metadata": {
        "id": "CDpzsD0EnaO6"
      },
      "source": [
        "**Ejercicio 3**\n",
        "\n",
        "- Si se en lugar de predecir \"MAT\" desde \"SCI\" y \"REA\" tuviéramos que predecir \"SCI\" desde las otras dos o \"REA\" desde las otras dos cual daría mejores resultados\n",
        "- Si solo queremos utilizar un atributo, ya sea \"SCI\" o \"REA\" para predecir \"MAT\" ¿cuál usarías?"
      ]
    },
    {
      "cell_type": "code",
      "execution_count": null,
      "metadata": {
        "id": "UyTcldsJnaO7",
        "colab": {
          "base_uri": "https://localhost:8080/"
        },
        "outputId": "d4a937a9-82f3-4e70-f399-fc960a91eb12"
      },
      "outputs": [
        {
          "output_type": "stream",
          "name": "stderr",
          "text": [
            "100%|██████████| 500/500 [00:03<00:00, 130.15it/s]"
          ]
        },
        {
          "output_type": "stream",
          "name": "stdout",
          "text": [
            "r^2      0.906082\n",
            "RMSE    13.673960\n",
            "MAE     10.768182\n",
            "BIAS    -0.403398\n",
            "Name: mean, dtype: float64\n"
          ]
        },
        {
          "output_type": "stream",
          "name": "stderr",
          "text": [
            "\n"
          ]
        }
      ],
      "source": [
        "from sklearn.preprocessing import MinMaxScaler\n",
        "\n",
        "url = \"https://raw.githubusercontent.com/RafaelCaballero/tdm/master/datos/pisaDataClean.csv\"\n",
        "df = pd.read_csv(url)\n",
        "\n",
        "# 1\n",
        "XColumns = [\"MAT\", \"SCI\",\"RPC\"]\n",
        "yColumn = \"REA\"\n",
        "\n",
        "# escalado; inútil en este caso, pero por probar...\n",
        "metodo_escalado  = MinMaxScaler()\n",
        "modelo_escalado = metodo_escalado.fit(df[XColumns])\n",
        "datos_escalados = modelo_escalado.transform(df[XColumns])\n",
        "\n",
        "df.loc[:,XColumns] = datos_escalados\n",
        "\n",
        "print(evalua_regresion(df,XColumns,yColumn))"
      ]
    },
    {
      "cell_type": "code",
      "execution_count": null,
      "metadata": {
        "id": "lMsJUf0InaO7",
        "colab": {
          "base_uri": "https://localhost:8080/"
        },
        "outputId": "296e9e35-d824-44d7-cd77-7d597f81478b"
      },
      "outputs": [
        {
          "output_type": "execute_result",
          "data": {
            "text/plain": [
              "array([[0.36135072, 0.42684625, 0.05929717],\n",
              "       [0.1349085 , 0.19695949, 0.07953286],\n",
              "       [0.34391345, 0.44917943, 0.12656474],\n",
              "       [0.70276044, 0.79645604, 0.37645065],\n",
              "       [0.71479531, 0.72966728, 0.37438062],\n",
              "       [0.75810454, 0.76075743, 0.34440605],\n",
              "       [0.20875293, 0.30831725, 0.08313502],\n",
              "       [0.3067872 , 0.39283206, 0.09511507],\n",
              "       [0.46278221, 0.45083258, 0.26879319],\n",
              "       [0.77545513, 0.76047699, 0.37199276],\n",
              "       [0.81115043, 0.90452179, 0.22692007],\n",
              "       [0.77540988, 0.88874718, 0.32879124],\n",
              "       [0.69863422, 0.7293998 , 0.32170915],\n",
              "       [0.53249239, 0.55011278, 0.18792378],\n",
              "       [0.63059897, 0.64799213, 0.20676588],\n",
              "       [0.67796845, 0.63228495, 0.3921877 ],\n",
              "       [0.74430932, 0.76332692, 0.60247425],\n",
              "       [0.55865062, 0.55750239, 0.17353957],\n",
              "       [0.6537469 , 0.70817676, 0.19144445],\n",
              "       [0.33964346, 0.37542484, 0.11913222],\n",
              "       [0.38155092, 0.35579289, 0.10336256],\n",
              "       [0.78038224, 0.79011896, 0.41104609],\n",
              "       [0.73588521, 0.7450449 , 0.55472519],\n",
              "       [0.24888652, 0.29046169, 0.0651568 ],\n",
              "       [0.74746932, 0.75823707, 0.20726301],\n",
              "       [0.69316501, 0.75674021, 0.21161494],\n",
              "       [0.70345308, 0.69212752, 0.18710881],\n",
              "       [0.62382991, 0.57666547, 0.23712348],\n",
              "       [0.77051618, 0.80927087, 0.24911983],\n",
              "       [0.81842988, 0.77641414, 0.46763757],\n",
              "       [0.37110514, 0.40055436, 0.10549778],\n",
              "       [0.37863026, 0.41508173, 0.21198983],\n",
              "       [0.16540395, 0.2445548 , 0.0504303 ],\n",
              "       [0.60014326, 0.73504784, 0.45763789],\n",
              "       [0.38179533, 0.46318701, 0.14321457],\n",
              "       [0.70539102, 0.86187923, 0.01193115],\n",
              "       [0.47988923, 0.50966906, 0.13981614],\n",
              "       [0.79473647, 0.87554474, 0.35676914],\n",
              "       [0.40158283, 0.51495674, 0.16029632],\n",
              "       [0.26192398, 0.37550924, 0.07381177],\n",
              "       [0.57651244, 0.64193548, 0.16142913],\n",
              "       [0.69611823, 0.71980955, 0.25710653],\n",
              "       [0.        , 0.        , 0.09875799],\n",
              "       [0.32192457, 0.35497971, 0.04468477],\n",
              "       [0.7538206 , 0.79264557, 0.38143011],\n",
              "       [0.24697944, 0.31911319, 0.0583844 ],\n",
              "       [0.60031663, 0.60246705, 0.25814154],\n",
              "       [0.68513796, 0.66495814, 0.27302288],\n",
              "       [0.86574439, 0.92328206, 0.31317642],\n",
              "       [0.22223989, 0.3439837 , 0.05553201],\n",
              "       [0.63716379, 0.64201452, 0.23306494],\n",
              "       [0.66840094, 0.67504853, 0.85467466],\n",
              "       [0.50069327, 0.49705608, 0.20259323],\n",
              "       [0.63826914, 0.59455898, 0.31516495],\n",
              "       [0.38886378, 0.43029724, 0.        ],\n",
              "       [0.70837215, 0.81123527, 0.27806754],\n",
              "       [0.31586717, 0.38391522, 1.        ],\n",
              "       [1.        , 1.        , 0.7499022 ],\n",
              "       [0.66870793, 0.71961351, 0.27946114],\n",
              "       [0.70285304, 0.72245495, 0.38367942],\n",
              "       [0.39220644, 0.41909627, 0.18212935],\n",
              "       [0.42192765, 0.46929635, 0.5106924 ],\n",
              "       [0.69676562, 0.79300684, 0.32245893]])"
            ]
          },
          "metadata": {},
          "execution_count": 36
        }
      ],
      "source": [
        "datos_escalados"
      ]
    },
    {
      "cell_type": "markdown",
      "metadata": {
        "id": "-uZe8uBcnaO7"
      },
      "source": [
        "<a name=\"intervalo\"></a>\n",
        "## Intervalos de confianza"
      ]
    },
    {
      "cell_type": "markdown",
      "metadata": {
        "id": "WKwk9uCDnaO7"
      },
      "source": [
        "Si ahora ejecutamos varias veces el código veremos que los resultados son bastante estables. Aun así persiste una duda...cuando hagamos una predicción ¿podemos estimar lo lejos que está del valor real?\n",
        "\n",
        "Vamos a poder hacerlo con un par de condiciones:\n",
        "\n",
        "1.- Que el bias sea muy próximo a 0\n",
        "\n",
        "2.- Que el RMSE sea una normal\n",
        "\n",
        "La condición 1 la tenemos; hay que tener en cuenta que un valor de alrededor de -0.1...0.1 en"
      ]
    },
    {
      "cell_type": "code",
      "execution_count": null,
      "metadata": {
        "id": "BF3n_hODnaO7"
      },
      "outputs": [],
      "source": [
        "df.MAT.mean()"
      ]
    },
    {
      "cell_type": "markdown",
      "metadata": {
        "id": "xOL2XVXfnaO7"
      },
      "source": [
        "es muy pequeño. En cuanto al RMSE por simplificar nos conformamos con \"ver\" el histograma"
      ]
    },
    {
      "cell_type": "code",
      "execution_count": null,
      "metadata": {
        "id": "TM2b_XZ3naO7"
      },
      "outputs": [],
      "source": [
        "import matplotlib.pyplot as plt\n",
        "#fig, ax = plt.subplots(figsize=(5, 5))\n",
        "df_errores.RMSE.hist(bins=15)\n",
        "plt.show()"
      ]
    },
    {
      "cell_type": "markdown",
      "metadata": {
        "id": "S8xOVkqEnaO8"
      },
      "source": [
        "Asumiendo que esto es una normal, podemos decir que, con un 95% de probabilidades, para cualquier predicción p el valor real estará en el intervalo\n",
        "\n",
        "[p -2RMSE, p+2RMSE]\n",
        "\n",
        "Este intervalo de confianza se mantiene siempre y cuando estemos (aprox.) dentro del rango de valores usados en el entrenamiento"
      ]
    },
    {
      "cell_type": "code",
      "execution_count": null,
      "metadata": {
        "id": "5BymJwjjnaO8"
      },
      "outputs": [],
      "source": [
        "X_train.describe()"
      ]
    },
    {
      "cell_type": "markdown",
      "metadata": {
        "id": "od4JZJQ6naO8"
      },
      "source": [
        "**Ejemplo**"
      ]
    },
    {
      "cell_type": "code",
      "execution_count": null,
      "metadata": {
        "id": "aWRHMvLgnaO8"
      },
      "outputs": [],
      "source": [
        "import pandas as pd\n",
        "from sklearn.linear_model import LinearRegression\n",
        "\n",
        "url = \"https://raw.githubusercontent.com/RafaelCaballero/tdm/master/datos/pisaDataClean.csv\"\n",
        "df = pd.read_csv(url)\n",
        "\n",
        "# 1\n",
        "XColumns = [\"SCI\", \"REA\"]\n",
        "yColumn = \"MAT\"\n",
        "X = df[XColumns]\n",
        "y = df[yColumn]\n",
        "\n",
        "metodo = LinearRegression()\n",
        "modelo = metodo.fit(X.values,y)\n",
        "\n",
        "p = modelo.predict([[400,450]])[0]\n",
        "\n",
        "p"
      ]
    },
    {
      "cell_type": "markdown",
      "metadata": {
        "id": "ruW7A_B6naO8"
      },
      "source": [
        "Como el RMSE es aproximadamente 11.75, tendremos que con un 95% de probabilidades el valor real está entre"
      ]
    },
    {
      "cell_type": "code",
      "execution_count": null,
      "metadata": {
        "id": "B3qasyylnaO8"
      },
      "outputs": [],
      "source": [
        "RMSE = 11.75\n",
        "(p-1.96*RMSE,p+1.96*RMSE)"
      ]
    },
    {
      "cell_type": "code",
      "execution_count": null,
      "metadata": {
        "id": "amXcxNArnaO8"
      },
      "outputs": [],
      "source": [
        "import matplotlib.pyplot as plt\n",
        "df[[\"MAT\"]].hist()\n",
        "plt.plot([p-1.96*RMSE,p-1.96*RMSE],[0,1],color=\"pink\",linewidth=5)\n",
        "plt.plot([p+1.96*RMSE,p+1.96*RMSE],[0,1],color=\"pink\",linewidth=5)\n",
        "plt.plot([p,p],[0,1],color=\"yellow\",linewidth=5)\n",
        "plt.show()"
      ]
    },
    {
      "cell_type": "markdown",
      "metadata": {
        "id": "2fp0dNA7naO9"
      },
      "source": [
        "Sin embargo, los siguientes diagramas de residuos nos indican que algo no está funcionando como esperábamos"
      ]
    },
    {
      "cell_type": "code",
      "execution_count": null,
      "metadata": {
        "id": "GETL1IZRnaO9"
      },
      "outputs": [],
      "source": [
        "X = df[XColumns]\n",
        "y = df[yColumn]\n",
        "\n",
        "x = range(len(y))\n",
        "y_pred = modelo.predict(X.values)\n",
        "plt.scatter(x,y_pred,color=\"red\",s=1)\n",
        "plt.scatter(x,y,color=\"blue\",s=8)\n",
        "for i,v in enumerate(y_pred):\n",
        "    plt.plot([x[i],x[i]], [v-2*RMSE,v+2*RMSE],color=\"green\")\n",
        "#for y_v in y_pred:"
      ]
    },
    {
      "cell_type": "code",
      "execution_count": null,
      "metadata": {
        "id": "c1NvVBPUnaO9"
      },
      "outputs": [],
      "source": [
        "x = range(len(y))\n",
        "fig, ax = plt.subplots(figsize=(15, 5))\n",
        "y_pred = modelo.predict(X.values)\n",
        "ci = 1.96*RMSE\n",
        "for i,v in enumerate(y_pred):\n",
        "    plt.plot([x[i],x[i]], [v,y[i]],color=\"green\")\n",
        "ax.fill_between(x, ( y_pred-ci), ( y_pred+ci), color='b', alpha=.1)\n",
        "ax.scatter(x,y_pred,color=\"red\",s=8)\n",
        "ax.scatter(x,y,color=\"blue\",s=8)\n",
        "plt.show()"
      ]
    },
    {
      "cell_type": "code",
      "execution_count": null,
      "metadata": {
        "id": "QCCbpmAKnaO9"
      },
      "outputs": [],
      "source": [
        "y_pred = metodo.predict(X.values)\n",
        "\n",
        "x_plot = plt.scatter(y_pred, (y_pred - y), c='b')\n",
        "plt.hlines(y=0, xmin= -1, xmax=800)\n",
        "\n",
        "plt.hlines(y=2*RMSE, xmin= -1, xmax=800,color=\"r\")\n",
        "plt.hlines(y=-2*RMSE, xmin= -1, xmax=800,color=\"r\")\n",
        "plt.show()"
      ]
    },
    {
      "cell_type": "markdown",
      "metadata": {
        "id": "lxHuhfgpnaO9"
      },
      "source": [
        "<a name=\"mejorando\"></a>\n",
        "## Mejorando el modelo\n",
        "\n",
        "El histograma nos sugiere que quizás el modelo sea mejor si dividimos el conjunto en dos"
      ]
    },
    {
      "cell_type": "code",
      "execution_count": null,
      "metadata": {
        "id": "yfk6kgkonaO9"
      },
      "outputs": [],
      "source": [
        "df2 = df[df[yColumn]<450]\n",
        "X = df2[XColumns]\n",
        "y = df2[yColumn]\n",
        "\n",
        "metodo = LinearRegression()\n",
        "modelo = metodo.fit(X.values,y)\n",
        "\n",
        "r2,RMSE,mae,bias = evalua_regresion(df2,XColumns,yColumn)\n",
        "print(RMSE)\n",
        "\n",
        "x = range(len(y))\n",
        "y_pred = modelo.predict(X.values)\n",
        "plt.scatter(x,y_pred,color=\"red\",s=1)\n",
        "plt.scatter(x,y,color=\"blue\",s=8)\n",
        "for i,v in enumerate(y_pred):\n",
        "    plt.plot([x[i],x[i]], [v-2*RMSE,v+2*RMSE],color=\"green\")"
      ]
    },
    {
      "cell_type": "code",
      "execution_count": null,
      "metadata": {
        "id": "YewyFsAznaO-"
      },
      "outputs": [],
      "source": [
        "x_plot = plt.scatter(y_pred, (y_pred - y), c='b')\n",
        "plt.hlines(y=0, xmin= -1, xmax=800)\n",
        "\n",
        "plt.hlines(y=2*RMSE, xmin= -1, xmax=800,color=\"r\")\n",
        "plt.hlines(y=-2*RMSE, xmin= -1, xmax=800,color=\"r\")\n",
        "plt.show()"
      ]
    },
    {
      "cell_type": "code",
      "execution_count": null,
      "metadata": {
        "id": "2oDZVMvFnaO-"
      },
      "outputs": [],
      "source": [
        "df2 = df[df[yColumn]>=450]\n",
        "X = df2[XColumns]\n",
        "y = df2[yColumn]\n",
        "\n",
        "metodo = LinearRegression()\n",
        "modelo = metodo.fit(X.values,y)\n",
        "\n",
        "r2,RMSE,mae,bias = evalua_regresion(df2,XColumns,yColumn)\n",
        "print(RMSE)\n",
        "\n",
        "x = range(len(y))\n",
        "y_pred = modelo.predict(X.values)\n",
        "plt.scatter(x,y_pred,color=\"red\",s=1)\n",
        "plt.scatter(x,y,color=\"blue\",s=8)\n",
        "for i,v in enumerate(y_pred):\n",
        "    plt.plot([x[i],x[i]], [v-2*RMSE,v+2*RMSE],color=\"green\")"
      ]
    },
    {
      "cell_type": "code",
      "execution_count": null,
      "metadata": {
        "id": "OgAFtTxpnaO-"
      },
      "outputs": [],
      "source": [
        "x_plot = plt.scatter(y_pred, (y_pred - y), c='b')\n",
        "plt.hlines(y=0, xmin= -1, xmax=800)\n",
        "\n",
        "plt.hlines(y=2*RMSE, xmin= -1, xmax=800,color=\"r\")\n",
        "plt.hlines(y=-2*RMSE, xmin= -1, xmax=800,color=\"r\")\n",
        "plt.show()"
      ]
    },
    {
      "cell_type": "markdown",
      "metadata": {
        "id": "wJAXHJljnaO-"
      },
      "source": [
        "<a name=\"lasso\"></a>\n",
        "##  Ridge y Lasso\n",
        "\n",
        "Muy útil cuando hay pocos valores para entrenar"
      ]
    },
    {
      "cell_type": "code",
      "execution_count": null,
      "metadata": {
        "id": "_wfBb0mNnaO-"
      },
      "outputs": [],
      "source": [
        "# Carga del fichero\n",
        "import pandas as pd\n",
        "url = \"https://raw.githubusercontent.com/RafaelCaballero/tdm/master/datos/pisaDataClean.csv\"\n",
        "df = pd.read_csv(url)\n",
        "\n",
        "# 1\n",
        "XColumns = [\"SCI\", \"REA\"]\n",
        "yColumn = \"MAT\"\n",
        "X = df[XColumns]\n",
        "y = df[yColumn]\n",
        "\n",
        "# 2\n",
        "from sklearn.model_selection import train_test_split\n",
        "test = 0.95\n",
        "X_train, X_test, y_train, y_test = train_test_split(X, y, test_size= test)\n",
        "\n",
        "# 3\n",
        "from sklearn.linear_model import LinearRegression\n",
        "metodo = LinearRegression()\n",
        "modelo = metodo.fit(X_train,y_train)\n",
        "\n",
        "# 4\n",
        "from sklearn.metrics import r2_score,mean_squared_error,mean_absolute_error\n",
        "import math\n",
        "y_pred = modelo.predict(X_test)\n",
        "r2 = r2_score(y_test,y_pred)\n",
        "rmse = math.sqrt(mean_squared_error(y_test,y_pred))\n",
        "mae = mean_absolute_error(y_test,y_pred)\n",
        "print(f\"r^2: {round(r2,3)} RMSE: {round(rmse,3)}, MAE:{round(mae,3)}\")"
      ]
    },
    {
      "cell_type": "code",
      "execution_count": null,
      "metadata": {
        "id": "32dgJbkgnaO-"
      },
      "outputs": [],
      "source": [
        "from sklearn.linear_model import Lasso\n",
        "modelo = Lasso(alpha=6).fit(X_train, y_train)\n",
        "y_pred = modelo.predict(X_test)\n",
        "r2 = r2_score(y_test,y_pred)\n",
        "rmse = math.sqrt(mean_squared_error(y_test,y_pred))\n",
        "mae = mean_absolute_error(y_test,y_pred)\n",
        "print(f\"r^2: {round(r2,3)} RMSE: {round(rmse,3)}, MAE:{round(mae,3)}\")"
      ]
    },
    {
      "cell_type": "code",
      "execution_count": null,
      "metadata": {
        "id": "_8u8Kfm5naO-"
      },
      "outputs": [],
      "source": [
        "from sklearn.linear_model import Ridge\n",
        "modelo = Ridge(alpha=6).fit(X_train, y_train)\n",
        "y_pred = modelo.predict(X_test)\n",
        "r2 = r2_score(y_test,y_pred)\n",
        "rmse = math.sqrt(mean_squared_error(y_test,y_pred))\n",
        "mae = mean_absolute_error(y_test,y_pred)\n",
        "print(f\"r^2: {round(r2,3)} RMSE: {round(rmse,3)}, MAE:{round(mae,3)}\")"
      ]
    },
    {
      "cell_type": "markdown",
      "metadata": {
        "id": "aIf2V76znaO_"
      },
      "source": [
        "ElasticNet combina los dos"
      ]
    },
    {
      "cell_type": "code",
      "execution_count": null,
      "metadata": {
        "id": "JAZ_BNEvnaO_"
      },
      "outputs": [],
      "source": [
        "from sklearn.linear_model import ElasticNet\n",
        "modelo = ElasticNet(alpha=6, l1_ratio=0.5).fit(X_train, y_train)\n",
        "y_pred = modelo.predict(X_test)\n",
        "r2 = r2_score(y_test,y_pred)\n",
        "rmse = math.sqrt(mean_squared_error(y_test,y_pred))\n",
        "mae = mean_absolute_error(y_test,y_pred)\n",
        "print(f\"r^2: {round(r2,3)} RMSE: {round(rmse,3)}, MAE:{round(mae,3)}\")"
      ]
    },
    {
      "cell_type": "markdown",
      "source": [
        "<a name=\"series\"></a>\n",
        "##  Series temporales\n",
        "\n",
        "El principal problema es preparar los datos para que coincidan el \"futuro\" que queremos\n"
      ],
      "metadata": {
        "id": "8HwwXrW2QnQX"
      }
    },
    {
      "cell_type": "code",
      "source": [
        "url = \"https://raw.githubusercontent.com/RafaelCaballero/BME/main/data/currencies.csv\"\n",
        "df_cur = pd.read_csv(url)[[\"Close_CAD\",\"Close_JPY\",\"Close_EUR\"]]\n",
        "df_cur"
      ],
      "metadata": {
        "id": "_pyfkkpYRUdy"
      },
      "execution_count": null,
      "outputs": []
    },
    {
      "cell_type": "code",
      "source": [
        "df_cur.describe()"
      ],
      "metadata": {
        "id": "Xap8qvkCR-0V"
      },
      "execution_count": null,
      "outputs": []
    },
    {
      "cell_type": "code",
      "source": [
        "import pandas as pd\n",
        "def estadísticas(df):\n",
        "  # solo las columnas numéricas\n",
        "  df2 = df.select_dtypes(include=[\"number\"])\n",
        "  datos = []\n",
        "  for c in df2:\n",
        "      variable = df2[c]\n",
        "      datos.append([variable.mean(), variable.median(), variable.std(), (variable-variable.median()).abs().median()])\n",
        "\n",
        "  estad = pd.DataFrame(datos,columns=[\"mean\",\"median\",\"std\",\"MAD\"],index=df2.columns)\n",
        "  return estad\n",
        "\n",
        "estadísticas(df_cur)"
      ],
      "metadata": {
        "id": "EP6C3Pr4STRX"
      },
      "execution_count": null,
      "outputs": []
    },
    {
      "cell_type": "markdown",
      "source": [
        "Primer intento:"
      ],
      "metadata": {
        "id": "MZbiABk6RqVE"
      }
    },
    {
      "cell_type": "code",
      "source": [
        "\n",
        "def regresión(df,XColumns,yColumn):\n",
        "  # 1\n",
        "  X = df[XColumns]\n",
        "  y = df[yColumn]\n",
        "\n",
        "  # 2\n",
        "  from sklearn.model_selection import train_test_split\n",
        "  test = 0.70\n",
        "  X_train, X_test, y_train, y_test = train_test_split(X, y, test_size= test)\n",
        "\n",
        "  # 3\n",
        "  from sklearn.linear_model import LinearRegression\n",
        "  metodo = LinearRegression()\n",
        "  modelo = metodo.fit(X_train,y_train)\n",
        "\n",
        "  # 4\n",
        "  from sklearn.metrics import r2_score,mean_squared_error,mean_absolute_error\n",
        "  import math\n",
        "  y_pred = modelo.predict(X_test)\n",
        "  r2 = r2_score(y_test,y_pred)\n",
        "  rmse = math.sqrt(mean_squared_error(y_test,y_pred))\n",
        "  mae = mean_absolute_error(y_test,y_pred)\n",
        "  print(f\"r^2: {round(r2,3)} RMSE: {round(rmse,3)}, MAE:{round(mae,3)}\")\n",
        "\n",
        "\n",
        "XColumns = [\"Close_CAD\", \"Close_JPY\"]\n",
        "yColumn = \"Close_EUR\"\n",
        "regresión(df_cur,XColumns,yColumn)"
      ],
      "metadata": {
        "id": "nh0l85QvRpLs"
      },
      "execution_count": null,
      "outputs": []
    },
    {
      "cell_type": "code",
      "source": [
        "import matplotlib.pyplot as plt\n",
        "x = range(len(y))\n",
        "fig, ax = plt.subplots(figsize=(15, 5))\n",
        "y_pred = modelo.predict(X.values)\n",
        "ci = 1.96*rmse\n",
        "for i,v in enumerate(y_pred):\n",
        "    plt.plot([x[i],x[i]], [v,y[i]],color=\"green\",alpha=0.1)\n",
        "ax.fill_between(x, ( y_pred-ci), ( y_pred+ci), color='b', alpha=.1)\n",
        "ax.scatter(x,y_pred,color=\"red\",s=1, label=\"predicho\",alpha=0.5)\n",
        "ax.scatter(x,y,color=\"blue\",s=1,label=\"real\",alpha=0.5)\n",
        "plt.legend()\n",
        "plt.show()"
      ],
      "metadata": {
        "id": "FchQR7YUSqay"
      },
      "execution_count": null,
      "outputs": []
    },
    {
      "cell_type": "markdown",
      "source": [
        "Sin embargo esto está mal y por varias razones:\n",
        "\n",
        "1 Estamos calculando el cierre del mismo día...intentamos predecir el dato que ya tenemos\n",
        "\n",
        "2 Mezclamos futuros y pasados (solución: TimeSeriesSplit())"
      ],
      "metadata": {
        "id": "l2C4GUnrUdzr"
      }
    },
    {
      "cell_type": "code",
      "source": [
        "futuro = 200 #  días\n",
        "euro_f = df_cur.loc[futuro:,\"Close_EUR\"]\n",
        "euro_f, df_cur.Close_EUR\n"
      ],
      "metadata": {
        "id": "TWrFzWL8VI1X"
      },
      "execution_count": null,
      "outputs": []
    },
    {
      "cell_type": "code",
      "source": [
        "euro_f2  = euro_f.reset_index(drop=True)\n",
        "euro_f2"
      ],
      "metadata": {
        "id": "9dIJNiErWP2E"
      },
      "execution_count": null,
      "outputs": []
    },
    {
      "cell_type": "code",
      "source": [
        "df_cur[\"label\"] = euro_f2\n",
        "df_cur"
      ],
      "metadata": {
        "id": "20di2xlsWkFG"
      },
      "execution_count": null,
      "outputs": []
    },
    {
      "cell_type": "markdown",
      "source": [
        "Tenemos que quitar los nulos; ponemos todo junto"
      ],
      "metadata": {
        "id": "73JxiziGXFU6"
      }
    },
    {
      "cell_type": "code",
      "source": [
        "futuro = 2 #  días\n",
        "euro_f = df_cur.loc[futuro:,\"Close_EUR\"]\n",
        "euro_f, df_cur.Close_EUR\n",
        "euro_f2  = euro_f.reset_index(drop=True)\n",
        "df_cur[\"label\"] = euro_f2\n",
        "\n",
        "XColumns = [\"Close_CAD\", \"Close_JPY\"]\n",
        "yColumn = \"label\"\n",
        "regresión(df_cur.dropna(),XColumns,yColumn)"
      ],
      "metadata": {
        "id": "gp-PPVD7XImy"
      },
      "execution_count": null,
      "outputs": []
    },
    {
      "cell_type": "code",
      "source": [
        "XColumns = [\"Close_CAD\", \"Close_JPY\", \"Close_EUR\"]\n",
        "yColumn = \"label\"\n",
        "df = df_cur.dropna()\n",
        "regresión(df,XColumns,yColumn)"
      ],
      "metadata": {
        "id": "IrP3OhqtZnig"
      },
      "execution_count": null,
      "outputs": []
    },
    {
      "cell_type": "markdown",
      "source": [
        "Esto tiene muy buena pinta, pero debemos comparar con la predicción más simple: la predicción naïve"
      ],
      "metadata": {
        "id": "Bl0LawUBYusv"
      }
    },
    {
      "cell_type": "code",
      "source": [
        "y_pred = df.Close_EUR\n",
        "y_test = df.label\n",
        "r2 = r2_score(y_test,y_pred)\n",
        "rmse = math.sqrt(mean_squared_error(y_test,y_pred))\n",
        "mae = mean_absolute_error(y_test,y_pred)\n",
        "print(f\"r^2: {round(r2,3)} RMSE: {round(rmse,3)}, MAE:{round(mae,3)}\")"
      ],
      "metadata": {
        "id": "ZOeWEbY9Yt3X"
      },
      "execution_count": null,
      "outputs": []
    },
    {
      "cell_type": "markdown",
      "source": [
        "La predicción no era tan buena como pensábamos..."
      ],
      "metadata": {
        "id": "JojTQg2pahIb"
      }
    }
  ],
  "metadata": {
    "colab": {
      "provenance": []
    },
    "kernelspec": {
      "display_name": "Python 3 (ipykernel)",
      "language": "python",
      "name": "python3"
    },
    "language_info": {
      "codemirror_mode": {
        "name": "ipython",
        "version": 3
      },
      "file_extension": ".py",
      "mimetype": "text/x-python",
      "name": "python",
      "nbconvert_exporter": "python",
      "pygments_lexer": "ipython3",
      "version": "3.11.6"
    }
  },
  "nbformat": 4,
  "nbformat_minor": 0
}