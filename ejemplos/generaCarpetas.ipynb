{
  "nbformat": 4,
  "nbformat_minor": 0,
  "metadata": {
    "colab": {
      "provenance": [],
      "authorship_tag": "ABX9TyMoiDBDIzmwopYSJKL/aTKI",
      "include_colab_link": true
    },
    "kernelspec": {
      "name": "python3",
      "display_name": "Python 3"
    },
    "language_info": {
      "name": "python"
    }
  },
  "cells": [
    {
      "cell_type": "markdown",
      "metadata": {
        "id": "view-in-github",
        "colab_type": "text"
      },
      "source": [
        "<a href=\"https://colab.research.google.com/github/RafaelCaballero/BME/blob/main/ejemplos/generaCarpetas.ipynb\" target=\"_parent\"><img src=\"https://colab.research.google.com/assets/colab-badge.svg\" alt=\"Open In Colab\"/></a>"
      ]
    },
    {
      "cell_type": "code",
      "execution_count": 1,
      "metadata": {
        "colab": {
          "base_uri": "https://localhost:8080/"
        },
        "id": "b5doLz2DX2iX",
        "outputId": "b1710814-8bd9-4819-a8c4-cd9ea4a5bae1"
      },
      "outputs": [
        {
          "output_type": "stream",
          "name": "stdout",
          "text": [
            "Se han creado 15 carpetas, con 10 ficheros CSV.\n"
          ]
        }
      ],
      "source": [
        "import os\n",
        "import random\n",
        "import csv\n",
        "from datetime import datetime, timedelta\n",
        "\n",
        "# Crear nombres de carpetas A, B, C...\n",
        "n_carpetas = random.randint(10, 20)\n",
        "nombres_carpetas = [chr(65 + i) for i in range(n_carpetas)]  # Letras A, B, C...\n",
        "\n",
        "# 2/3 tendrán un fichero dentro\n",
        "n_csvs = int(n_carpetas * 2 / 3)\n",
        "carpetas_con_csv = set(random.sample(nombres_carpetas, n_csvs))\n",
        "\n",
        "# Valores bursátiles de ejemplo\n",
        "valores = ['SAN', 'BBVA', 'REP', 'ITX', 'IBE', 'TEF', 'FER', 'ACS', 'MAP', 'AENA']\n",
        "\n",
        "# Función para generar una fecha aleatoria de 2024\n",
        "def fecha_random_2024():\n",
        "    inicio = datetime(2024, 1, 1)\n",
        "    fin = datetime(2024, 12, 31)\n",
        "    delta = fin - inicio\n",
        "    dias_random = random.randint(0, delta.days)\n",
        "    fecha = inicio + timedelta(days=dias_random)\n",
        "    return fecha.strftime('%d/%m/%Y')\n",
        "\n",
        "# Crear carpetas y ficheros\n",
        "for nombre in nombres_carpetas:\n",
        "    os.makedirs(nombre, exist_ok=True)\n",
        "\n",
        "    if nombre in carpetas_con_csv:\n",
        "        fichero_csv = os.path.join(nombre, f\"{nombre}.csv\")\n",
        "        with open(fichero_csv, mode='w', newline='') as f:\n",
        "            writer = csv.writer(f)\n",
        "            writer.writerow(['fecha', 'op', 'valor', 'cantidad'])\n",
        "\n",
        "            for _ in range(random.randint(10, 20)):\n",
        "                fecha = fecha_random_2024()\n",
        "                op = random.choice(['compra', 'venta'])\n",
        "                valor = random.choice(valores)\n",
        "                cantidad = random.randint(200, 20000)\n",
        "                writer.writerow([fecha, op, valor, cantidad])\n",
        "\n",
        "print(f\"Se han creado {n_carpetas} carpetas, con {n_csvs} ficheros CSV.\")\n"
      ]
    }
  ]
}